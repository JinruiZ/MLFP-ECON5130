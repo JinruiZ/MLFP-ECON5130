{
 "cells": [
  {
   "cell_type": "markdown",
   "metadata": {},
   "source": [
    "# Daily returns of stocks in the Dow Jones Industrial Average (DJIA)\n",
    "\n",
    "In this exercise, we examine the interdependency of daily returns of the 30\n",
    "stocks in the [Dow Jones Industrial Average](https://en.wikipedia.org/wiki/Dow_Jones_Industrial_Average)\n",
    "index using principal component analysis.\n",
    "\n",
    "This exercise can be downloaded as a Jupyter notebook from [GitHub](https://raw.githubusercontent.com/richardfoltyn/MLFP-ECON5130/main/exercises/exercise3.ipynb). You can use this notebook to get started when typing up your solution."
   ]
  },
  {
   "cell_type": "markdown",
   "metadata": {},
   "source": [
    "## Load index components\n",
    "\n",
    "Import the comma-separated data stored in \n",
    "[`data/DJIA_components.csv`](https://raw.githubusercontent.com/richardfoltyn/MLFP-ECON5130/main/data/DJIA_components.csv) \n",
    "in the GitHub repository into a pandas `DataFrame`. This data set contains five columns:\n",
    "\n",
    "1. Company name\n",
    "2. Exchange on which the company is traded\n",
    "3. The ticker symbol\n",
    "4. The index weighting\n",
    "5. The market capitalisation in billion USD (from early October 2022)\n",
    "\n",
    "Sort the `DataFrame` by market capitalisation in descending order so that\n",
    "the most valuable companies are at the top and tabulate the five \n",
    "most valuable companies."
   ]
  },
  {
   "cell_type": "markdown",
   "metadata": {},
   "source": [
    "## Download daily price data for the five largest companies\n",
    "\n",
    "Download the daily price data for the five largest companies for the first half of 2022,\n",
    "i.e., for the period from 2022-01-01 to 2022-06-30 using the \n",
    "[`pandas-datareader`](https://github.com/pydata/pandas-datareader)\n",
    "package we discussed in the lecture together with the Yahoo! Finance backend.\n",
    "Keep only the column labelled `Close` for each company and discard the remaining data.\n",
    "\n",
    "*Hint:* You may need to install `pandas-datareader` first by running the following code:"
   ]
  },
  {
   "cell_type": "code",
   "execution_count": 5,
   "metadata": {},
   "outputs": [],
   "source": [
    "# Uncomment to install pandas-datareader, in particular on Google Colab\n",
    "# ! pip install pandas-datareader"
   ]
  },
  {
   "cell_type": "markdown",
   "metadata": {},
   "source": [
    "## Compute and plot daily returns\n",
    "\n",
    "Using the daily prices at close, compute the daily returns for each of the five largest companies. Drop all rows containing `NaN`.\n",
    "Create a figure of 5-by-5 panels where each panel contains the pairwise scatter plot of daily returns of a company pair. Compute the correlation between each pair and add it as text to each panel.\n",
    "\n",
    "*Hint:* You can add text to a Matplotlib axes object using the \n",
    "[`text()`](https://matplotlib.org/stable/api/_as_gen/matplotlib.pyplot.text.html) method."
   ]
  },
  {
   "cell_type": "markdown",
   "metadata": {},
   "source": [
    "## Principal component analysis for sample of five largest companies\n",
    "\n",
    "Use `scikit-learn`'s \n",
    "[`PCA`](https://scikit-learn.org/stable/modules/generated/sklearn.decomposition.PCA.html#sklearn.decomposition.PCA)\n",
    "to perform a principal component analysis of the daily return data. Use the maximum number of principal components for this sample (comment on what the maximum number is). \n",
    "\n",
    "Plot the fraction of the total variance captured by each principal component as a bar chart. How many components are required to explain at least 90% of the variance in the return data?\n",
    "\n"
   ]
  },
  {
   "cell_type": "markdown",
   "metadata": {},
   "source": [
    "## Compute and plot loadings for each principal component\n",
    "\n",
    "For each of the principal components you found above, compute the loadings with respect to each of the five stocks. Plot these as bar charts in a figure with one row per principal component, the individual stocks on the x-axis and the loadings on the y-axis. Which stocks does the first principal component load onto most?"
   ]
  },
  {
   "cell_type": "markdown",
   "metadata": {},
   "source": [
    "## PCA of all stocks in DJIA\n",
    "\n",
    "### Download data for remaining stocks and compute daily returns\n",
    "\n",
    "Use `pandas-datareader` to download the daily price data for the remaining bottom 25 companies in the DJIA by market capitalisation (again only keep the `Close` column and discard the rest). Compute the daily returns for all 25 stocks in the same way you did earlier and merge them with the daily returns for the five largest stocks.\n",
    "\n",
    "*Hint:* You can append additional columns to a `DataFrame` in many ways, but the easiest is by calling [`pd.concat(..., axis=1)`](https://pandas.pydata.org/docs/reference/api/pandas.concat.html)."
   ]
  },
  {
   "cell_type": "markdown",
   "metadata": {},
   "source": [
    "### Determine number of components by sample size\n",
    "\n",
    "Consider the pooled sample of daily returns for all 30 companies you created in the previous sub-question. Proceed as follows:\n",
    "\n",
    "For each $i = 1, 2, \\dots, 30$,\n",
    "\n",
    "1. Select the daily returns of the $i$ largest companies by market capitalisation.\n",
    "2. Perform the PCA on this subset of daily returns.\n",
    "3. Store the number of principal components required to explain at least 90% of the variance.\n",
    "\n",
    "Create a plot with the number of companies included in the sample on the x-axis and the number of principal components required to explain 90% of the variance on the y-axis."
   ]
  }
 ],
 "metadata": {
  "kernelspec": {
   "display_name": "Python 3.10.4 ('py3-default')",
   "language": "python",
   "name": "python3"
  },
  "language_info": {
   "codemirror_mode": {
    "name": "ipython",
    "version": 3
   },
   "file_extension": ".py",
   "mimetype": "text/x-python",
   "name": "python",
   "nbconvert_exporter": "python",
   "pygments_lexer": "ipython3",
   "version": "3.10.4"
  },
  "orig_nbformat": 4,
  "vscode": {
   "interpreter": {
    "hash": "89692ee4bd8d7a7842eb7c7050f10ae8c4113955275de7625334d5364ea86119"
   }
  }
 },
 "nbformat": 4,
 "nbformat_minor": 2
}
