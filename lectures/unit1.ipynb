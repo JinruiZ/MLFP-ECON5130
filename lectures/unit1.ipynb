{
 "cells": [
  {
   "cell_type": "markdown",
   "metadata": {
    "collapsed": true
   },
   "source": [
    "# Unit 1: Language basics and NumPy\n",
    "\n",
    "In this unit we start exploring the Python language,\n",
    "covering the following topics:\n",
    "1. Basic syntax\n",
    "2. Built-in data types\n",
    "3. NumPy arrays\n",
    "\n",
    "## Basic syntax\n",
    "\n",
    "- Everything after a # character (until the end of the line) is a comment and will be ignored.\n",
    "- Whitespace characters matter (unlike in most languages)!\n",
    "    Python uses indentation (usually 4 spaces) to group statements,\n",
    "    for example loop bodies, functions, etc.\n",
    "- You don't need to add a character to terminate a line, unlike in some languages.\n",
    "- You can use the `print()` function to inspect almost any object."
   ]
  },
  {
   "cell_type": "code",
   "execution_count": 1,
   "metadata": {
    "pycharm": {
     "name": "#%%\n"
    }
   },
   "outputs": [
    {
     "name": "stdout",
     "output_type": "stream",
     "text": [
      "Hello, world!\n"
     ]
    }
   ],
   "source": [
    "# First example\n",
    "\n",
    "# create a variable named 'text' that stores the string 'Hello, world!'\n",
    "text = 'Hello, world!'\n",
    "\n",
    "# print contents of 'text'\n",
    "print(text)"
   ]
  },
  {
   "cell_type": "markdown",
   "metadata": {
    "pycharm": {
     "name": "#%% md\n"
    }
   },
   "source": [
    "In IPython notebooks and command-liny Python interpreters,\n",
    "we can also display a value by simply writing the variable name."
   ]
  },
  {
   "cell_type": "code",
   "execution_count": 2,
   "metadata": {
    "pycharm": {
     "name": "#%%\n"
    }
   },
   "outputs": [
    {
     "data": {
      "text/plain": "'Hello, world!'"
     },
     "execution_count": 2,
     "metadata": {},
     "output_type": "execute_result"
    }
   ],
   "source": [
    "text"
   ]
  },
  {
   "cell_type": "markdown",
   "metadata": {
    "pycharm": {
     "name": "#%% md\n"
    }
   },
   "source": [
    "This does not do anything in *proper* python script files\n",
    "that are run through the interpreter, though."
   ]
  },
  {
   "cell_type": "markdown",
   "metadata": {
    "pycharm": {
     "name": "#%% md\n"
    }
   },
   "source": [
    "## Built-in data types\n",
    "\n",
    "Pythons is a dynamically-typed language:\n",
    "- Unlike in C or Fortran, you don't need to declare a variable or its type\n",
    "\n",
    "You can inspect a variable's type using the built-in `type()` function.\n",
    "\n",
    "We now look at the most useful built-in data types:\n",
    "\n",
    "**Basic types**\n",
    "- integers (`int`)\n",
    "- floating-point numbers (`float`)\n",
    "- strings (`str`)\n",
    "\n",
    "**Containers (or collections)**\n",
    "- tuples (`tuple`)\n",
    "- lists (`list`)\n",
    "- dictionaries (`dict`)"
   ]
  },
  {
   "cell_type": "markdown",
   "metadata": {
    "pycharm": {
     "name": "#%% md\n"
    }
   },
   "source": [
    "### Integers and floats"
   ]
  },
  {
   "cell_type": "code",
   "execution_count": 3,
   "metadata": {
    "pycharm": {
     "name": "#%%\n"
    }
   },
   "outputs": [
    {
     "data": {
      "text/plain": "int"
     },
     "execution_count": 3,
     "metadata": {},
     "output_type": "execute_result"
    }
   ],
   "source": [
    "# Integer variables\n",
    "i = 1\n",
    "type(i)"
   ]
  },
  {
   "cell_type": "code",
   "execution_count": 4,
   "metadata": {
    "pycharm": {
     "name": "#%%\n"
    }
   },
   "outputs": [
    {
     "data": {
      "text/plain": "float"
     },
     "execution_count": 4,
     "metadata": {},
     "output_type": "execute_result"
    }
   ],
   "source": [
    "# Floating-point variables\n",
    "x = 1.0\n",
    "type(x)"
   ]
  },
  {
   "cell_type": "code",
   "execution_count": 5,
   "metadata": {
    "pycharm": {
     "name": "#%%\n"
    }
   },
   "outputs": [
    {
     "data": {
      "text/plain": "int"
     },
     "execution_count": 5,
     "metadata": {},
     "output_type": "execute_result"
    }
   ],
   "source": [
    "# A name can reference any data type:\n",
    "# Previously, x was a float, now it's an integer!\n",
    "x = 1\n",
    "type(x)"
   ]
  },
  {
   "cell_type": "markdown",
   "metadata": {
    "pycharm": {
     "name": "#%% md\n"
    }
   },
   "source": [
    "It is good programming practice to specify floating-point\n",
    "literals using a decimal point. It makes a difference in\n",
    "a few cases (especially when using NumPy arrays, Numba or Cython)."
   ]
  },
  {
   "cell_type": "code",
   "execution_count": 6,
   "metadata": {
    "pycharm": {
     "name": "#%%\n"
    }
   },
   "outputs": [],
   "source": [
    "x = 1.0 # instead of x = 1"
   ]
  },
  {
   "cell_type": "markdown",
   "metadata": {
    "pycharm": {
     "name": "#%% md\n"
    }
   },
   "source": [
    "### Strings\n",
    "\n",
    "The string data type stores sequences of characters."
   ]
  },
  {
   "cell_type": "code",
   "execution_count": 7,
   "metadata": {
    "pycharm": {
     "name": "#%%\n"
    }
   },
   "outputs": [],
   "source": [
    "# Strings need to be surrounded by single (') or double (\") quotes!\n",
    "institution = 'University of Glasgow'\n",
    "institution = \"University of Glasgow\"\n"
   ]
  },
  {
   "cell_type": "markdown",
   "metadata": {
    "pycharm": {
     "name": "#%% md\n"
    }
   },
   "source": [
    "### Tuples\n",
    "\n",
    "Tuples represent a collection of several items which can\n",
    "have different data types. They are created using parenthesis,\n",
    "`(item1, item2, ...)`."
   ]
  },
  {
   "cell_type": "code",
   "execution_count": 8,
   "metadata": {
    "pycharm": {
     "name": "#%%\n"
    }
   },
   "outputs": [
    {
     "data": {
      "text/plain": "('foo', 1, 1.0)"
     },
     "execution_count": 8,
     "metadata": {},
     "output_type": "execute_result"
    }
   ],
   "source": [
    "# A tuple containing a string, an integer and a float\n",
    "items = ('foo', 1, 1.0)\n",
    "items"
   ]
  },
  {
   "cell_type": "markdown",
   "metadata": {
    "pycharm": {
     "name": "#%% md\n"
    }
   },
   "source": [
    "The parenthesis are actually optional, but improve readability:"
   ]
  },
  {
   "cell_type": "code",
   "execution_count": 9,
   "metadata": {
    "pycharm": {
     "name": "#%%\n"
    }
   },
   "outputs": [
    {
     "data": {
      "text/plain": "('foo', 1, 1.0)"
     },
     "execution_count": 9,
     "metadata": {},
     "output_type": "execute_result"
    }
   ],
   "source": [
    "items = 'foo', 1, 1.0 # equivalent way to create a tuple\n",
    "items"
   ]
  },
  {
   "cell_type": "markdown",
   "metadata": {
    "pycharm": {
     "name": "#%% md\n"
    }
   },
   "source": [
    "Use [] to access an element in a tuple (or any other\n",
    "list-like object)"
   ]
  },
  {
   "cell_type": "code",
   "execution_count": 10,
   "metadata": {
    "pycharm": {
     "name": "#%%\n"
    }
   },
   "outputs": [
    {
     "data": {
      "text/plain": "'foo'"
     },
     "execution_count": 10,
     "metadata": {},
     "output_type": "execute_result"
    }
   ],
   "source": [
    "first = items[0] # contains 'foo'\n",
    "first"
   ]
  },
  {
   "cell_type": "markdown",
   "metadata": {
    "pycharm": {
     "name": "#%% md\n"
    }
   },
   "source": [
    "Python indices are 0-based, so 0 references the first element,\n",
    "1 the second element, etc."
   ]
  },
  {
   "cell_type": "code",
   "execution_count": 11,
   "metadata": {
    "pycharm": {
     "name": "#%%\n"
    }
   },
   "outputs": [],
   "source": [
    "second = items[1] # contains second element\n"
   ]
  },
  {
   "cell_type": "markdown",
   "metadata": {},
   "source": [
    "Tuples are immutable, which means that the references\n",
    "stored in the tuple cannot be changed!"
   ]
  },
  {
   "cell_type": "code",
   "execution_count": 12,
   "metadata": {
    "pycharm": {
     "name": "#%%\n"
    }
   },
   "outputs": [
    {
     "name": "stderr",
     "output_type": "stream",
     "text": [
      "Traceback (most recent call last):\n",
      "  File \"<stdin>\", line 3, in <module>\n",
      "TypeError: 'tuple' object does not support item assignment\n"
     ]
    }
   ],
   "source": [
    "%%script python --no-raise-error\n",
    "# This raises an error!\n",
    "items = 'foo', 1, 1.0\n",
    "items[0] = 123\n"
   ]
  },
  {
   "cell_type": "markdown",
   "metadata": {
    "pycharm": {
     "name": "#%% md\n"
    }
   },
   "source": [
    "### Lists\n",
    "Lists are like tuples, expect that they can be modified.\n",
    "We create lists using brackets, `[item1, item2, ...]`."
   ]
  },
  {
   "cell_type": "code",
   "execution_count": 13,
   "metadata": {
    "pycharm": {
     "name": "#%%\n"
    }
   },
   "outputs": [],
   "source": [
    "lst = ['foo', 1, 1.0]"
   ]
  },
  {
   "cell_type": "markdown",
   "metadata": {
    "pycharm": {
     "name": "#%% md\n"
    }
   },
   "source": [
    "Accessing list items works the same as with tuples"
   ]
  },
  {
   "cell_type": "code",
   "execution_count": 14,
   "metadata": {
    "pycharm": {
     "name": "#%%\n"
    }
   },
   "outputs": [
    {
     "data": {
      "text/plain": "'foo'"
     },
     "execution_count": 14,
     "metadata": {},
     "output_type": "execute_result"
    }
   ],
   "source": [
    "lst[0]      # print first item"
   ]
  },
  {
   "cell_type": "markdown",
   "metadata": {
    "pycharm": {
     "name": "#%% md\n"
    }
   },
   "source": [
    "Lists items can be modified:"
   ]
  },
  {
   "cell_type": "code",
   "execution_count": 15,
   "metadata": {
    "pycharm": {
     "name": "#%%\n"
    }
   },
   "outputs": [
    {
     "data": {
      "text/plain": "['bar', 1, 1.0]"
     },
     "execution_count": 15,
     "metadata": {},
     "output_type": "execute_result"
    }
   ],
   "source": [
    "lst[0] = 'bar'\n",
    "lst"
   ]
  },
  {
   "cell_type": "markdown",
   "metadata": {
    "pycharm": {
     "name": "#%% md\n"
    }
   },
   "source": [
    "Lists are full-fledged objects that support various operations,\n",
    "for example"
   ]
  },
  {
   "cell_type": "code",
   "execution_count": 16,
   "metadata": {
    "pycharm": {
     "name": "#%%\n"
    }
   },
   "outputs": [
    {
     "data": {
      "text/plain": "['abc', 'bar', 1, 2.0]"
     },
     "execution_count": 16,
     "metadata": {},
     "output_type": "execute_result"
    }
   ],
   "source": [
    "lst.insert(0, 'abc')    # insert element at position 0\n",
    "lst.append(2.0)         # append element at the end\n",
    "del lst[3]              # delete the 4th element\n",
    "lst"
   ]
  },
  {
   "cell_type": "markdown",
   "metadata": {
    "pycharm": {
     "name": "#%% md\n"
    }
   },
   "source": [
    "The built-in functions `len()` returns the number\n",
    "of elements in a list (and any other collection object)"
   ]
  },
  {
   "cell_type": "code",
   "execution_count": 17,
   "metadata": {
    "pycharm": {
     "name": "#%%\n"
    }
   },
   "outputs": [
    {
     "name": "stdout",
     "output_type": "stream",
     "text": [
      "4\n"
     ]
    }
   ],
   "source": [
    "n = len(lst)\n",
    "print(n)"
   ]
  },
  {
   "cell_type": "markdown",
   "metadata": {
    "pycharm": {
     "name": "#%% md\n"
    }
   },
   "source": [
    "### Dictionaries\n",
    "Dictionaries are container objects that map keys to values.\n",
    "- Both keys and values can be (almost any) Python objects,\n",
    "even though usually we use strings as keys.\n",
    "- Dictionaries are created using curly braces,\n",
    "    `{key1: value1, key2: value2, ...}`.\n",
    "- Dictionaries are unordered, ie. elements stored in dictionaries\n",
    "  cannot be retrieved in any guaranteed order."
   ]
  },
  {
   "cell_type": "code",
   "execution_count": 18,
   "metadata": {
    "pycharm": {
     "name": "#%%\n"
    }
   },
   "outputs": [
    {
     "data": {
      "text/plain": "{'institution': 'University of Glasgow', 'course': 'Python bootcamp'}"
     },
     "execution_count": 18,
     "metadata": {},
     "output_type": "execute_result"
    }
   ],
   "source": [
    "dct = {'institution': 'University of Glasgow',\n",
    "       'course': 'Python bootcamp'}\n",
    "dct"
   ]
  },
  {
   "cell_type": "markdown",
   "metadata": {
    "pycharm": {
     "name": "#%% md\n"
    }
   },
   "source": [
    "Specific values are access using the syntax `dict[key]`:"
   ]
  },
  {
   "cell_type": "code",
   "execution_count": 19,
   "metadata": {
    "pycharm": {
     "name": "#%%\n"
    }
   },
   "outputs": [
    {
     "data": {
      "text/plain": "'University of Glasgow'"
     },
     "execution_count": 19,
     "metadata": {},
     "output_type": "execute_result"
    }
   ],
   "source": [
    "value = dct['institution']\n",
    "value"
   ]
  },
  {
   "cell_type": "markdown",
   "metadata": {
    "pycharm": {
     "name": "#%% md\n"
    }
   },
   "source": [
    "## NumPy arrays\n",
    "\n",
    "NumPy is a library that allows us to efficiently store and access\n",
    "(mainly) numerical data and apply numerical operations\n",
    "similar to those available in Matlab.\n",
    "- NumPy is not part of the core Python project\n",
    "- Python itself has an array type, but there is really no\n",
    "  reason to use it. Use NumPy!\n",
    "- NumPy types and functions are not built-in, we must\n",
    "  first import them to make them visible.\n",
    "  We do this using the `import` statement.\n",
    "\n",
    "The convention is to make NumPy functionality available\n",
    "using the `np` namespace:"
   ]
  },
  {
   "cell_type": "code",
   "execution_count": 20,
   "metadata": {
    "pycharm": {
     "name": "#%%\n"
    }
   },
   "outputs": [],
   "source": [
    "import numpy as np"
   ]
  },
  {
   "cell_type": "markdown",
   "metadata": {
    "pycharm": {
     "name": "#%% md\n"
    }
   },
   "source": [
    "### Creating arrays\n",
    "NumPy offers a multitude of functions to create arrays."
   ]
  },
  {
   "cell_type": "code",
   "execution_count": 21,
   "metadata": {
    "pycharm": {
     "name": "#%%\n"
    }
   },
   "outputs": [
    {
     "data": {
      "text/plain": "array([0., 0., 0., 0., 0., 0., 0., 0., 0., 0.])"
     },
     "execution_count": 21,
     "metadata": {},
     "output_type": "execute_result"
    }
   ],
   "source": [
    "# Create a 1-dimensional array with 10 elements, initialise values to 0\n",
    "# We need to prefix the NumPy function zeros() with 'np'\n",
    "arr = np.zeros(10)\n",
    "arr"
   ]
  },
  {
   "cell_type": "code",
   "execution_count": 22,
   "metadata": {
    "pycharm": {
     "name": "#%%\n"
    }
   },
   "outputs": [
    {
     "data": {
      "text/plain": "array([1., 1., 1., 1., 1.])"
     },
     "execution_count": 22,
     "metadata": {},
     "output_type": "execute_result"
    }
   ],
   "source": [
    "arr1 = np.ones(5) # vector of five ones\n",
    "arr1"
   ]
  },
  {
   "cell_type": "markdown",
   "metadata": {
    "pycharm": {
     "name": "#%% md\n"
    }
   },
   "source": [
    "We can also create sequences of integers"
   ]
  },
  {
   "cell_type": "code",
   "execution_count": 23,
   "metadata": {
    "pycharm": {
     "name": "#%%\n"
    }
   },
   "outputs": [
    {
     "data": {
      "text/plain": "array([0, 1, 2, 3, 4])"
     },
     "execution_count": 23,
     "metadata": {},
     "output_type": "execute_result"
    }
   ],
   "source": [
    "arr2 = np.arange(5) # vector [0,1,2,3,4]\n",
    "arr2"
   ]
  },
  {
   "cell_type": "markdown",
   "metadata": {
    "pycharm": {
     "name": "#%% md\n"
    }
   },
   "source": [
    "We can explicitly specify initial values and increments.\n",
    "The end value is NOT included."
   ]
  },
  {
   "cell_type": "code",
   "execution_count": 24,
   "metadata": {
    "pycharm": {
     "name": "#%%\n"
    }
   },
   "outputs": [
    {
     "data": {
      "text/plain": "array([2, 4, 6, 8])"
     },
     "execution_count": 24,
     "metadata": {},
     "output_type": "execute_result"
    }
   ],
   "source": [
    "start = 2\n",
    "end = 10\n",
    "step = 2\n",
    "arr3 = np.arange(start, end, step)\n",
    "arr3"
   ]
  },
  {
   "cell_type": "markdown",
   "metadata": {
    "pycharm": {
     "name": "#%% md\n"
    }
   },
   "source": [
    "We can create arrays without initialisation. This\n",
    "only allocates a chunk of memory, which most likely\n",
    "contains arbitrary garbage."
   ]
  },
  {
   "cell_type": "code",
   "execution_count": 25,
   "metadata": {
    "pycharm": {
     "name": "#%%\n"
    }
   },
   "outputs": [
    {
     "data": {
      "text/plain": "array([4.65540513e-310, 0.00000000e+000, 3.72219086e-265])"
     },
     "execution_count": 25,
     "metadata": {},
     "output_type": "execute_result"
    }
   ],
   "source": [
    "arr4 = np.empty(3)\n",
    "arr4 # values are unpredictable"
   ]
  },
  {
   "cell_type": "markdown",
   "metadata": {
    "pycharm": {
     "name": "#%% md\n"
    }
   },
   "source": [
    "As in Matlab, there is a `linspace()` function that\n",
    "creates a vector of uniformly-spaced real values."
   ]
  },
  {
   "cell_type": "code",
   "execution_count": 26,
   "metadata": {
    "pycharm": {
     "name": "#%%\n"
    }
   },
   "outputs": [
    {
     "data": {
      "text/plain": "array([0. , 0.1, 0.2, 0.3, 0.4, 0.5, 0.6, 0.7, 0.8, 0.9, 1. ])"
     },
     "execution_count": 26,
     "metadata": {},
     "output_type": "execute_result"
    }
   ],
   "source": [
    "# Create 11 elements, equally spaced on the interval [0.0, 1.0]\n",
    "arr5 = np.linspace(0.0, 1.0, 11)\n",
    "arr5"
   ]
  },
  {
   "cell_type": "markdown",
   "metadata": {
    "pycharm": {
     "name": "#%% md\n"
    }
   },
   "source": [
    "We can create arrays of higher dimension by specifying\n",
    "the desired shape"
   ]
  },
  {
   "cell_type": "code",
   "execution_count": 27,
   "metadata": {
    "pycharm": {
     "name": "#%%\n"
    }
   },
   "outputs": [
    {
     "data": {
      "text/plain": "array([[1., 1.],\n       [1., 1.]])"
     },
     "execution_count": 27,
     "metadata": {},
     "output_type": "execute_result"
    }
   ],
   "source": [
    "mat = np.ones((2,2)) # Create 2x2 matrix of ones\n",
    "mat"
   ]
  },
  {
   "cell_type": "markdown",
   "metadata": {
    "pycharm": {
     "name": "#%% md\n"
    }
   },
   "source": [
    "#### Creating arrays from other Python objects\n",
    "You can create arrays from other objects such as lists\n",
    "and tuples by calling `array()`"
   ]
  },
  {
   "cell_type": "code",
   "execution_count": 28,
   "metadata": {
    "pycharm": {
     "name": "#%%\n"
    }
   },
   "outputs": [
    {
     "data": {
      "text/plain": "array([1, 2, 3])"
     },
     "execution_count": 28,
     "metadata": {},
     "output_type": "execute_result"
    }
   ],
   "source": [
    "# Create array from list [1,2,3]\n",
    "arr = np.array([1,2,3])\n",
    "arr"
   ]
  },
  {
   "cell_type": "code",
   "execution_count": 29,
   "metadata": {
    "pycharm": {
     "name": "#%%\n"
    }
   },
   "outputs": [
    {
     "data": {
      "text/plain": "array([1., 2., 3.])"
     },
     "execution_count": 29,
     "metadata": {},
     "output_type": "execute_result"
    }
   ],
   "source": [
    "# Create array from tuple\n",
    "arr = np.array((1.0,2.0,3.0))\n",
    "arr"
   ]
  },
  {
   "cell_type": "code",
   "execution_count": 30,
   "metadata": {
    "pycharm": {
     "name": "#%%\n"
    }
   },
   "outputs": [
    {
     "data": {
      "text/plain": "array([[1, 2, 3],\n       [4, 5, 6]])"
     },
     "execution_count": 30,
     "metadata": {},
     "output_type": "execute_result"
    }
   ],
   "source": [
    "# Create two-dimensional array from nested list\n",
    "arr = np.array([[1,2,3],[4,5,6]])\n",
    "arr"
   ]
  },
  {
   "cell_type": "markdown",
   "metadata": {
    "pycharm": {
     "name": "#%% md\n"
    }
   },
   "source": [
    "### Reshaping arrays\n",
    "The `reshape()` method of an array object can be used\n",
    "to reshape it to some other (conformable) shape."
   ]
  },
  {
   "cell_type": "code",
   "execution_count": 31,
   "metadata": {
    "pycharm": {
     "name": "#%%\n"
    }
   },
   "outputs": [
    {
     "data": {
      "text/plain": "array([[0, 1],\n       [2, 3]])"
     },
     "execution_count": 31,
     "metadata": {},
     "output_type": "execute_result"
    }
   ],
   "source": [
    "mat = np.arange(4).reshape((2,2))\n",
    "mat"
   ]
  },
  {
   "cell_type": "code",
   "execution_count": 32,
   "metadata": {
    "pycharm": {
     "name": "#%%\n"
    }
   },
   "outputs": [
    {
     "data": {
      "text/plain": "array([0, 1, 2, 3])"
     },
     "execution_count": 32,
     "metadata": {},
     "output_type": "execute_result"
    }
   ],
   "source": [
    "# reshape back to vector of 4 elements\n",
    "vec = mat.reshape(4)\n",
    "vec"
   ]
  },
  {
   "cell_type": "markdown",
   "metadata": {
    "pycharm": {
     "name": "#%% md\n"
    }
   },
   "source": [
    "We can use `-1` to let NumPy automatically compute\n",
    "the size of one remaining dimension."
   ]
  },
  {
   "cell_type": "code",
   "execution_count": 33,
   "metadata": {
    "pycharm": {
     "name": "#%%\n"
    }
   },
   "outputs": [
    {
     "data": {
      "text/plain": "array([[0, 1],\n       [2, 3]])"
     },
     "execution_count": 33,
     "metadata": {},
     "output_type": "execute_result"
    }
   ],
   "source": [
    "# with 2 dimensions, second dimension must have size 2\n",
    "mat = np.arange(4).reshape((2,-1))\n",
    "mat"
   ]
  },
  {
   "cell_type": "markdown",
   "metadata": {
    "pycharm": {
     "name": "#%% md\n"
    }
   },
   "source": [
    "If you just want to create an arbitray array to a vector,\n",
    "use the `flatten()` method."
   ]
  },
  {
   "cell_type": "code",
   "execution_count": 34,
   "metadata": {
    "pycharm": {
     "name": "#%%\n"
    }
   },
   "outputs": [
    {
     "data": {
      "text/plain": "array([0, 1, 2, 3])"
     },
     "execution_count": 34,
     "metadata": {},
     "output_type": "execute_result"
    }
   ],
   "source": [
    "mat.flatten()"
   ]
  },
  {
   "cell_type": "markdown",
   "metadata": {
    "pycharm": {
     "name": "#%% md\n"
    }
   },
   "source": [
    "**Important**: the reshaped array must have the same\n",
    "number of elements!"
   ]
  },
  {
   "cell_type": "code",
   "execution_count": 35,
   "metadata": {
    "pycharm": {
     "name": "#%%\n"
    }
   },
   "outputs": [
    {
     "name": "stderr",
     "output_type": "stream",
     "text": [
      "Traceback (most recent call last):\n",
      "  File \"<stdin>\", line 3, in <module>\n",
      "ValueError: cannot reshape array of size 6 into shape (2,2)\n"
     ]
    }
   ],
   "source": [
    "%%script python --no-raise-error\n",
    "import numpy as np\n",
    "mat = np.arange(6).reshape((2,-1))\n",
    "mat.reshape((2,2))      # Cannot reshape 6 into 4 elements!\n"
   ]
  },
  {
   "cell_type": "markdown",
   "metadata": {
    "pycharm": {
     "name": "#%% md\n"
    }
   },
   "source": [
    "### Indexing\n",
    "\n",
    "#### Single element indexing\n",
    "\n",
    "To retrieve only a single element,\n",
    "just use the element's index on each axis\n",
    "(axis is the NumPy terminology for an array dimension).\n",
    "-   Remember that just like Python in general, NumPy arrays use\n",
    "    0-based indices.\n",
    "-   Unlike lists or tuples, NumPy arrays support multi-dimensional\n",
    "    indexing."
   ]
  },
  {
   "cell_type": "code",
   "execution_count": 36,
   "metadata": {
    "pycharm": {
     "name": "#%%\n"
    }
   },
   "outputs": [
    {
     "data": {
      "text/plain": "array([[0, 1],\n       [2, 3],\n       [4, 5]])"
     },
     "execution_count": 36,
     "metadata": {},
     "output_type": "execute_result"
    }
   ],
   "source": [
    "import numpy as np\n",
    "\n",
    "mat = np.arange(6).reshape((3,2))\n",
    "mat"
   ]
  },
  {
   "cell_type": "code",
   "execution_count": 37,
   "metadata": {
    "pycharm": {
     "name": "#%%\n"
    }
   },
   "outputs": [
    {
     "data": {
      "text/plain": "3"
     },
     "execution_count": 37,
     "metadata": {},
     "output_type": "execute_result"
    }
   ],
   "source": [
    "mat[1,1]    # returns element in row 2, column 2"
   ]
  },
  {
   "cell_type": "markdown",
   "metadata": {
    "pycharm": {
     "name": "#%% md\n"
    }
   },
   "source": [
    "It is important that we pass multi-dimensional indices as a\n",
    "tuple to within brackets, ie `[1,1]` in the above example.\n",
    "We could alternatively do write `mat[1][1]`, which would give\n",
    "the same result:"
   ]
  },
  {
   "cell_type": "code",
   "execution_count": 38,
   "metadata": {
    "pycharm": {
     "name": "#%%\n"
    }
   },
   "outputs": [
    {
     "data": {
      "text/plain": "True"
     },
     "execution_count": 38,
     "metadata": {},
     "output_type": "execute_result"
    }
   ],
   "source": [
    "mat[1][1] == mat[1,1]       # don't do this!"
   ]
  },
  {
   "cell_type": "markdown",
   "metadata": {
    "pycharm": {
     "name": "#%% md\n"
    }
   },
   "source": [
    "This is substantially less efficient, as it first creates a\n",
    "sub-dimensional array `mat[1]`, and then applies the second index\n",
    "to this array."
   ]
  },
  {
   "cell_type": "markdown",
   "metadata": {
    "pycharm": {
     "name": "#%% md\n"
    }
   },
   "source": [
    "#### Index slices\n",
    "\n",
    "There are numerous ways to retrieve a subset of\n",
    "elements from an array. The most common way is to\n",
    "specify a triplet of values\n",
    "`start:end:step` called `slice` for some axis:"
   ]
  },
  {
   "cell_type": "code",
   "execution_count": 39,
   "metadata": {
    "pycharm": {
     "name": "#%%\n"
    }
   },
   "outputs": [
    {
     "data": {
      "text/plain": "array([[0, 1, 2],\n       [3, 4, 5]])"
     },
     "execution_count": 39,
     "metadata": {},
     "output_type": "execute_result"
    }
   ],
   "source": [
    "# Create a 3x2 matrix\n",
    "mat = np.arange(6).reshape((2,3))\n",
    "mat"
   ]
  },
  {
   "cell_type": "code",
   "execution_count": 40,
   "metadata": {
    "pycharm": {
     "name": "#%%\n"
    }
   },
   "outputs": [
    {
     "data": {
      "text/plain": "array([[0, 2],\n       [3, 5]])"
     },
     "execution_count": 40,
     "metadata": {},
     "output_type": "execute_result"
    }
   ],
   "source": [
    "# Retrieve only the first and third columns:\n",
    "mat[0:2,0:3:2]"
   ]
  },
  {
   "cell_type": "markdown",
   "metadata": {
    "pycharm": {
     "name": "#%% md\n"
    }
   },
   "source": [
    "Indexing with slices can get quite intricate.\n",
    "Some basic rules:\n",
    "- all elements of `start:end:step` are optional, with\n",
    "  the obvious default values.\n",
    "  We could therefore write `::` to include all indices,\n",
    "  which is the same as `:`\n",
    "- The end value is NOT included. Writing\n",
    "  `vec[0:n]` does not include the *n*-th element!\n",
    "- Any of the elements of `start:end:step` can be negative.\n",
    "    - If `start` or `end` are negative, elements are counted\n",
    "        backwards:\n",
    "        `vec[:-1]` retrieves the vector except for the last element.\n",
    "         (the end index is never included!)\n",
    "    - If `step` is negative, the order of elements is inverted."
   ]
  },
  {
   "cell_type": "code",
   "execution_count": 41,
   "metadata": {
    "pycharm": {
     "name": "#%%\n"
    }
   },
   "outputs": [
    {
     "data": {
      "text/plain": "array([0, 1, 2, 3, 4])"
     },
     "execution_count": 41,
     "metadata": {},
     "output_type": "execute_result"
    }
   ],
   "source": [
    "vec = np.arange(5)\n",
    "# These are equivalent ways to return the whole vector\n",
    "vec[0:5:1]      # all three components\n",
    "vec[::]         # omit all components\n",
    "vec[:]          # omit all components\n",
    "vec[:5]         # end value only\n",
    "vec[-5:]        # start value only, using negative index"
   ]
  },
  {
   "cell_type": "markdown",
   "metadata": {
    "pycharm": {
     "name": "#%% md\n"
    }
   },
   "source": [
    "You can reverse the order like this"
   ]
  },
  {
   "cell_type": "code",
   "execution_count": 42,
   "metadata": {
    "pycharm": {
     "name": "#%%\n"
    }
   },
   "outputs": [
    {
     "data": {
      "text/plain": "array([4, 3, 2, 1, 0])"
     },
     "execution_count": 42,
     "metadata": {},
     "output_type": "execute_result"
    }
   ],
   "source": [
    "vec[::-1]"
   ]
  },
  {
   "cell_type": "markdown",
   "metadata": {
    "pycharm": {
     "name": "#%% md\n"
    }
   },
   "source": [
    "With multi-dimensional arrays, these rules apply for each\n",
    "dimension.\n",
    "- We can, however, omit explicit indices\n",
    "    for higher-order dimensions if all elements should\n",
    "    be included."
   ]
  },
  {
   "cell_type": "code",
   "execution_count": 43,
   "metadata": {
    "pycharm": {
     "name": "#%%\n"
    }
   },
   "outputs": [
    {
     "data": {
      "text/plain": "array([3, 4, 5])"
     },
     "execution_count": 43,
     "metadata": {},
     "output_type": "execute_result"
    }
   ],
   "source": [
    "mat[1]      # includes all columns of row 2; same as mat[1,:]"
   ]
  },
  {
   "cell_type": "markdown",
   "metadata": {
    "pycharm": {
     "name": "#%% md\n"
    }
   },
   "source": [
    "We cannot omit the indices for preceding axis, though!"
   ]
  },
  {
   "cell_type": "code",
   "execution_count": 44,
   "metadata": {
    "pycharm": {
     "name": "#%%\n"
    }
   },
   "outputs": [
    {
     "data": {
      "text/plain": "array([1, 4])"
     },
     "execution_count": 44,
     "metadata": {},
     "output_type": "execute_result"
    }
   ],
   "source": [
    "mat[:, 1]   # includes all rows of column 2"
   ]
  },
  {
   "cell_type": "markdown",
   "metadata": {
    "pycharm": {
     "name": "#%% md\n"
    }
   },
   "source": [
    "#### Indexing lists and tuples\n",
    "\n",
    "The basic indexing rules we have covered so far also apply to the\n",
    "built-in `tuple` and `list` types. However, `list` and `tuple`\n",
    "do not support advanced indexing available for NumPy arrays\n",
    "which we will study in later units."
   ]
  },
  {
   "cell_type": "code",
   "execution_count": 45,
   "metadata": {
    "pycharm": {
     "name": "#%%\n"
    }
   },
   "outputs": [
    {
     "data": {
      "text/plain": "(1, 3)"
     },
     "execution_count": 45,
     "metadata": {},
     "output_type": "execute_result"
    }
   ],
   "source": [
    "# Apply start:end:step indexing to tuple\n",
    "tpl = (1,2,3)\n",
    "tpl[:3:2]"
   ]
  },
  {
   "cell_type": "markdown",
   "metadata": {
    "pycharm": {
     "name": "#%% md\n"
    }
   },
   "source": [
    "### Numerical data types (advanced)\n",
    "\n",
    "You can explicitly specify the numerical data type when\n",
    "creating NumPy arrays.\n",
    "\n",
    "So far we haven't done so, and then NumPy does the following:\n",
    "- Functions such as `zeros()`, `ones()` and `empty()`\n",
    "    default to using `np.float64`, ie. a 64-bit floating-point\n",
    "    data type (this is also called *double precision*)\n",
    "- Other constructors such as `arange()` and `array()`\n",
    "    inspect the input data and return a corresponding array.\n",
    "- Most array creation routines accept a `dtype` argument\n",
    "  which allows you to explicitly set the data type.\n",
    "\n",
    "For example:"
   ]
  },
  {
   "cell_type": "code",
   "execution_count": 46,
   "metadata": {
    "pycharm": {
     "name": "#%%\n"
    }
   },
   "outputs": [
    {
     "data": {
      "text/plain": "dtype('float64')"
     },
     "execution_count": 46,
     "metadata": {},
     "output_type": "execute_result"
    }
   ],
   "source": [
    "# Floating-point arguments return array of type np.float64\n",
    "arr = np.arange(1.0, 5.0, 1.0)\n",
    "arr.dtype"
   ]
  },
  {
   "cell_type": "code",
   "execution_count": 47,
   "metadata": {
    "pycharm": {
     "name": "#%%\n"
    }
   },
   "outputs": [
    {
     "data": {
      "text/plain": "dtype('int64')"
     },
     "execution_count": 47,
     "metadata": {},
     "output_type": "execute_result"
    }
   ],
   "source": [
    "# Integer arguments return array of type np.int64\n",
    "arr = np.arange(1,5,1)\n",
    "arr.dtype"
   ]
  },
  {
   "cell_type": "markdown",
   "metadata": {
    "pycharm": {
     "name": "#%% md\n"
    }
   },
   "source": [
    "Often we don't care about the data type too much, but keep in\n",
    "mind that\n",
    "- Floating-point has limited precision, even for integers\n",
    "  larger than (approximately) $10^{16}$\n",
    "- Integer values cannot represent fractional numbers and\n",
    "  (often) have a more limited range.\n",
    "\n",
    "This might lead to surprising consequences:"
   ]
  },
  {
   "cell_type": "code",
   "execution_count": 48,
   "metadata": {
    "pycharm": {
     "name": "#%%\n"
    }
   },
   "outputs": [
    {
     "data": {
      "text/plain": "array([1, 1, 1, 1, 1])"
     },
     "execution_count": 48,
     "metadata": {},
     "output_type": "execute_result"
    }
   ],
   "source": [
    "# Create integer array\n",
    "arr = np.ones(5, dtype=np.int64)\n",
    "# Add floating-point value 0.234 to second element in place\n",
    "arr[1] += 0.234\n",
    "arr"
   ]
  },
  {
   "cell_type": "markdown",
   "metadata": {
    "pycharm": {
     "name": "#%% md\n"
    }
   },
   "source": [
    "The array is unchanged because it's impossible to represent\n",
    "1.234 as an integer value!\n",
    "\n",
    "One take-away is to always explicitly write floating-point\n",
    "literal values when you want data to be interpreted as\n",
    "floating-point values, eg. always write 1.0 instead of 1,\n",
    "unless you really want an integer!"
   ]
  },
  {
   "cell_type": "markdown",
   "metadata": {
    "pycharm": {
     "name": "#%% md\n"
    }
   },
   "source": [
    "# Exercises\n",
    "\n",
    "## Exercise 1: string operations\n",
    "\n",
    "Experiment with operators applied to strings\n",
    "and integers.\n",
    "1.  Define two string variables and concatenate them using `+`\n",
    "2.  Define a string variable and multiply it by 2 using `*`. What happens?\n",
    "3.  Define two strings and compare whether they are equal using\n",
    "    the `==` and `!=` relational operators.\n",
    "4.  Define a string. Use the operators `in` and `not in` to\n",
    "    test whether a character is contained in the string.\n",
    "5.  Define two string variables and assign them the same value.\n",
    "    Use the `is` operator to test whether these are identical\n",
    "    objects.\n",
    "\n",
    "## Exercise 2: string formatting\n",
    "\n",
    "We will frequently want to create strings that incorporate\n",
    "integer and floating-point data, possibly formatted in a\n",
    "particular way.\n",
    "\n",
    "Python offers quite powerful formatting capabilities, which can\n",
    "become so complex that they are called the\n",
    "*Format Specification Mini-Language* (see the [docs](https://docs.python.org/3/library/string.html#format-specification-mini-language)).\n",
    "In this exercise we explore a small but useful subset.\n",
    "\n",
    "A format specification is a string that contains one or several\n",
    "`{}`, for example:\n",
    "```\n",
    "s = 'The current version of Python is {}'\n",
    "```\n",
    "The token `{}` will be replaced with data converted to a string\n",
    "when we apply the `format()` method:\n",
    "```\n",
    "s = 'The current version of Python is {}'.format(3.9)\n",
    "```\n",
    "The string `s` now contains the value\n",
    "```\n",
    "'The current version of Python is 3.9'\n",
    "```\n",
    "What if we want to format the float `3.9` in a particular way?\n",
    "We can augment the `{}` to achieve that goal. For example,\n",
    "if the data to be formatted is of type integer, we can specify\n",
    "-   `{:wd}` where `w` denotes the total field width and `d`\n",
    "    indicates that the data type is an integer.\n",
    "\n",
    "    To print an integer into a field that is 3 characters\n",
    "    wide, we would thus write `{:3d}`.\n",
    "\n",
    "For floats we have additional options:\n",
    "-   `{:w.df}` specifies that a float should be formatted using\n",
    "    a field width `w` and `d` decimal digits.\n",
    "\n",
    "    To print a float into a field of 10 characters using 5 decimal\n",
    "    digits, we would thus specify `{:10.5f}`\n",
    "-   `{:w.de}` is similar, but instead uses scientific\n",
    "    notation with exponents.\n",
    "\n",
    "    This is particularly useful for very large or very small numbers.\n",
    "\n",
    "-   `{:w.dg}` where `g` stands for general format is a superset of `f` and `e`\n",
    "    formatting. Either fixed or exponential notation is used\n",
    "    depending on a numbers magnitude.\n",
    "\n",
    "In all these specifications the field width `w` is optional\n",
    "and can be omitted. Python then uses however many characters are\n",
    "required.\n",
    "\n",
    "Now what we have introduced the formatting language, you\n",
    "are asked to perform the following exercises:\n",
    "1.  Define two strings and concatenate them using the `format()` function.\n",
    "    Add a space between them.\n",
    "2.  Use the above example format string, but truncate the\n",
    "    Python version to its major version number, ie 3.\n",
    "3.  Print $\\pi$ using a precision of 10 decimal digits.\n",
    "    *Hint:* one value of $\\pi$ is available as\n",
    "    ```\n",
    "    from math import pi\n",
    "    ```\n",
    "4.  Print `exp(10.0)` using exponential notation and three\n",
    "    decimal digits.\n",
    "    *Hint:* To use the exponential function, you need to write\n",
    "    ```\n",
    "    from math import exp\n",
    "    ```"
   ]
  },
  {
   "cell_type": "markdown",
   "metadata": {
    "pycharm": {
     "name": "#%% md\n"
    }
   },
   "source": [
    "# Solutions\n",
    "\n",
    "## Exercise 1: string operations"
   ]
  },
  {
   "cell_type": "code",
   "metadata": {
    "pycharm": {
     "name": "#%%\n"
    }
   },
   "source": [
    "# 1. string concatenation using addition\n",
    "str1 = 'abc'\n",
    "str2 = 'xyz'\n",
    "\n",
    "# Append two strings using +\n",
    "str1 + str2"
   ],
   "execution_count": 49,
   "outputs": [
    {
     "data": {
      "text/plain": "'abcxyz'"
     },
     "execution_count": 49,
     "metadata": {},
     "output_type": "execute_result"
    }
   ]
  },
  {
   "cell_type": "code",
   "execution_count": 50,
   "metadata": {
    "pycharm": {
     "name": "#%%\n"
    }
   },
   "outputs": [
    {
     "data": {
      "text/plain": "'abcabc'"
     },
     "execution_count": 50,
     "metadata": {},
     "output_type": "execute_result"
    }
   ],
   "source": [
    "# 2. string multiplication by integers\n",
    "str1 = 'abc'\n",
    "# Repeat string given number of times using multiplication\n",
    "str1 * 2"
   ]
  },
  {
   "cell_type": "code",
   "execution_count": 51,
   "metadata": {
    "pycharm": {
     "name": "#%%\n"
    }
   },
   "outputs": [
    {
     "data": {
      "text/plain": "False"
     },
     "execution_count": 51,
     "metadata": {},
     "output_type": "execute_result"
    }
   ],
   "source": [
    "# 3. Test for string equality\n",
    "str1 = 'abc'\n",
    "str2 = 'xyz'\n",
    "str1 == str2"
   ]
  },
  {
   "cell_type": "code",
   "execution_count": 52,
   "metadata": {
    "pycharm": {
     "name": "#%%\n"
    }
   },
   "outputs": [
    {
     "data": {
      "text/plain": "True"
     },
     "execution_count": 52,
     "metadata": {},
     "output_type": "execute_result"
    }
   ],
   "source": [
    "# 3. Test for string inequality\n",
    "str1 = 'abc'\n",
    "str2 = 'xyz'\n",
    "str1 != str2"
   ]
  },
  {
   "cell_type": "code",
   "execution_count": 53,
   "metadata": {
    "pycharm": {
     "name": "#%%\n"
    }
   },
   "outputs": [
    {
     "data": {
      "text/plain": "True"
     },
     "execution_count": 53,
     "metadata": {},
     "output_type": "execute_result"
    }
   ],
   "source": [
    "# 4. Test whether individual character is included in string\n",
    "str1 = 'abc'\n",
    "'b' in str1"
   ]
  },
  {
   "cell_type": "code",
   "execution_count": 54,
   "metadata": {
    "pycharm": {
     "name": "#%%\n"
    }
   },
   "outputs": [
    {
     "data": {
      "text/plain": "True"
     },
     "execution_count": 54,
     "metadata": {},
     "output_type": "execute_result"
    }
   ],
   "source": [
    "# 4. Test whether individual character is NOT included in string\n",
    "str1 = 'abc'\n",
    "'x' not in str1"
   ]
  },
  {
   "cell_type": "markdown",
   "metadata": {
    "pycharm": {
     "name": "#%% md\n"
    }
   },
   "source": [
    "The last two examples illustrate that in Python strings will\n",
    "be interpreted as collections (of characters), just like lists\n",
    "or tuples, if the context requires it. We can therefore apply\n",
    "the `in` operator to test for membership."
   ]
  },
  {
   "cell_type": "code",
   "execution_count": 55,
   "metadata": {
    "pycharm": {
     "name": "#%%\n"
    }
   },
   "outputs": [
    {
     "data": {
      "text/plain": "True"
     },
     "execution_count": 55,
     "metadata": {},
     "output_type": "execute_result"
    }
   ],
   "source": [
    "str1 = 'abc'\n",
    "str2 = 'abc'\n",
    "str1 is str2"
   ]
  },
  {
   "cell_type": "markdown",
   "metadata": {
    "pycharm": {
     "name": "#%% md\n"
    }
   },
   "source": [
    "This result will be surprising and somewhat specific to Python.\n",
    "We would not expect two objects that were created completely\n",
    "independently from eachother to be *identical*, ie point to\n",
    "the same memory. Python, however, caches string literals\n",
    "for reasons of efficiency, so it actually does keep only *one*\n",
    "copy of `'abc'` around, irrespective of how many variables\n",
    "are created."
   ]
  },
  {
   "cell_type": "markdown",
   "metadata": {
    "pycharm": {
     "name": "#%% md\n"
    }
   },
   "source": [
    "## Exercise 2: string formatting"
   ]
  },
  {
   "cell_type": "code",
   "execution_count": 56,
   "metadata": {
    "pycharm": {
     "name": "#%%\n"
    }
   },
   "outputs": [
    {
     "data": {
      "text/plain": "'abc xyz'"
     },
     "execution_count": 56,
     "metadata": {},
     "output_type": "execute_result"
    }
   ],
   "source": [
    "# 1. String concatenation\n",
    "str1 = 'abc'\n",
    "str2 = 'xyz'\n",
    "# format specification to concatenate two string with a space inbetween\n",
    "fmt = '{} {}'\n",
    "fmt.format(str1, str2)\n"
   ]
  },
  {
   "cell_type": "code",
   "execution_count": 57,
   "metadata": {
    "pycharm": {
     "name": "#%%\n"
    }
   },
   "outputs": [
    {
     "data": {
      "text/plain": "'The current version of Python is 4'"
     },
     "execution_count": 57,
     "metadata": {},
     "output_type": "execute_result"
    }
   ],
   "source": [
    "# 2. Truncate Python version to major version number\n",
    "# To do this, we specify 0 decimal digits!\n",
    "fmt = 'The current version of Python is {:.0f}'\n",
    "fmt.format(3.9)     # Now this didn't work out as intended :)"
   ]
  },
  {
   "cell_type": "code",
   "execution_count": 58,
   "metadata": {
    "pycharm": {
     "name": "#%%\n"
    }
   },
   "outputs": [
    {
     "data": {
      "text/plain": "'The first 10 digits of pi: 3.1415926536'"
     },
     "execution_count": 58,
     "metadata": {},
     "output_type": "execute_result"
    }
   ],
   "source": [
    "# 3. Print 10 using 10 decimal digits\n",
    "from math import pi\n",
    "fmt = 'The first 10 digits of pi: {:.10f}'\n",
    "fmt.format(pi)"
   ]
  },
  {
   "cell_type": "code",
   "execution_count": 59,
   "outputs": [
    {
     "data": {
      "text/plain": "'exp(10.0) = 2.203e+04'"
     },
     "execution_count": 59,
     "metadata": {},
     "output_type": "execute_result"
    }
   ],
   "source": [
    "# 4. Print exp(10.0) using three decimal digits and exponential notation\n",
    "from math import exp\n",
    "fmt = 'exp(10.0) = {:.3e}'\n",
    "fmt.format(exp(10.0))"
   ],
   "metadata": {
    "collapsed": false,
    "pycharm": {
     "name": "#%%"
    }
   }
  }
 ],
 "metadata": {
  "kernelspec": {
   "display_name": "PyCharm (python-statistics)",
   "language": "python",
   "name": "pycharm-b08fdce2"
  },
  "language_info": {
   "codemirror_mode": {
    "name": "ipython",
    "version": 3
   },
   "file_extension": ".py",
   "mimetype": "text/x-python",
   "name": "python",
   "nbconvert_exporter": "python",
   "pygments_lexer": "ipython3",
   "version": "3.7.9"
  }
 },
 "nbformat": 4,
 "nbformat_minor": 1
}