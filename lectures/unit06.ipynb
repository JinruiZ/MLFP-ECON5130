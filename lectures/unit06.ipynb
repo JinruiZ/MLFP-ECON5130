{
 "cells": [
  {
   "cell_type": "markdown",
   "metadata": {
    "collapsed": true,
    "pycharm": {
     "name": "#%% md\n"
    }
   },
   "source": [
    "# Advanced NumPy\n",
    "\n",
    "We already encountered NumPy arrays and their basic usage\n",
    "throughout this course.\n",
    "In this unit, we will take a more in-depth look at NumPy.\n",
    "\n",
    "## Why NumPy arrays?\n",
    "\n",
    "Why don't we just stick with built-in types such as Python\n",
    "lists to store and process data? It turns out that while the built-in objects\n",
    "are quite flexible, this flexibility comes at the cost\n",
    "of decreased performance:\n",
    "\n",
    "-   `list` objects can store arbitrary data types, and\n",
    "    the data type of any item can change:\n",
    "\n",
    "    ```\n",
    "    items = ['foo']\n",
    "    items[0] = 1.0      # item was a string, now it's a float!\n",
    "    ```\n",
    "-   There is no guarantee where in memory the data will be stored.\n",
    "    In fact, two consecutive items could be very \"far\"\n",
    "    from each other in memory, which imposes a performance\n",
    "    penalty.\n",
    "-   Even primitive data types such as `int` and `float` are\n",
    "    not \"raw\" data, but full-fledged objects.\n",
    "    That, again, is bad for performance.\n",
    "\n",
    "On the other hand, the approach taken by NumPy is to\n",
    "store and process data in a way very similar to low-level\n",
    "languages such as C and Fortran.\n",
    "This means that\n",
    "\n",
    "-   arrays contain a *homogenous* data type. *All* elements are either\n",
    "    64-bit integers (`np.int64`), 64-bit floating-point numbers\n",
    "    (`np.float64`), or some other of the many data types\n",
    "    supported by NumPy.\n",
    "\n",
    "    It is technically possible to get around this by specifying\n",
    "    an array's data type (`dtype`) to be `object`, which is the most\n",
    "    generic Python data type. However, we would never want to\n",
    "    do this for numerical computations.\n",
    "-   NumPy arrays are usually *contiguous* in memory. This means\n",
    "    that adjacent array elements are actually guaranteed to be\n",
    "    stored next to each other, which allows for much more efficient\n",
    "    computations.\n",
    "-   NumPy arrays support numerous operations used in\n",
    "    scientific computing. For example, with a NumPy array we can write\n",
    "\n",
    "    ```\n",
    "    x = np.array([1, 2, 3])\n",
    "    y = x + 1       # We would expect this to work\n",
    "    ```\n",
    "\n",
    "    With lists, however, we cannot:\n",
    "\n",
    "    ```\n",
    "    x = [1, 2, 3]\n",
    "    y = x + 1       # Does not work!\n",
    "    ```\n",
    "    Lists don't implement an addition operator that accepts\n",
    "    integer arguments, so this code triggers an error.\n",
    "\n",
    "You can see the performance uplift provided by NumPy arrays in this simple\n",
    "example:"
   ]
  },
  {
   "cell_type": "code",
   "execution_count": 1,
   "metadata": {
    "pycharm": {
     "name": "#%%\n"
    }
   },
   "outputs": [
    {
     "name": "stdout",
     "output_type": "stream",
     "text": [
      "164 µs ± 328 ns per loop (mean ± std. dev. of 7 runs, 10,000 loops each)\n"
     ]
    }
   ],
   "source": [
    "# Create list 0, 1, 2, ..., 999\n",
    "lst = list(range(1000))\n",
    "\n",
    "# Compute squares, time how long it takes\n",
    "%timeit [i**2 for i in lst]"
   ]
  },
  {
   "cell_type": "code",
   "execution_count": 2,
   "metadata": {
    "pycharm": {
     "name": "#%%\n"
    }
   },
   "outputs": [
    {
     "name": "stdout",
     "output_type": "stream",
     "text": [
      "937 ns ± 1.66 ns per loop (mean ± std. dev. of 7 runs, 1,000,000 loops each)\n"
     ]
    }
   ],
   "source": [
    "# Repeat using NumPy arrays\n",
    "import numpy as np\n",
    "arr = np.arange(1000)\n",
    "\n",
    "%timeit arr**2"
   ]
  },
  {
   "cell_type": "markdown",
   "metadata": {
    "pycharm": {
     "name": "#%% md\n"
    }
   },
   "source": [
    "-   On my machine, squaring 1000 elements of a `list` takes\n",
    "    approximately 200 times longer than the computation\n",
    "    using NumPy arrays!\n",
    "-   Also, as mentioned above, NumPy supports squaring an array directly, while\n",
    "    we have to manually loop through the `list` and square each element\n",
    "    individually.\n",
    "\n",
    "*Note:* `%timeit` is a so-called magic command that only\n",
    "works in notebooks, but not in regular Python files.\n",
    "[[See documentation](https://ipython.readthedocs.io/en/stable/interactive/magics.html)]"
   ]
  },
  {
   "cell_type": "markdown",
   "metadata": {
    "pycharm": {
     "name": "#%% md\n"
    }
   },
   "source": [
    "***\n",
    "\n",
    "## Creating arrays\n",
    "\n",
    "We have already encountered some of the most frequently\n",
    "used array creation routines:\n",
    "\n",
    "-   `np.array()` creates an array from a given argument, which can be\n",
    "    -   a scalar;\n",
    "    -   a collection such as a list or tuple;\n",
    "    -   some other iterable object, e.g. something created by `range()`.\n",
    "-   `np.empty()` allocates memory for a given array shape, but does not\n",
    "    overwrite it with initial values.\n",
    "-   `np.zeros()` creates an array of a given shape and initializes it\n",
    "    to zeros.\n",
    "-   `np.ones()` creates an array of a given shape and initializes it\n",
    "    to ones.\n",
    "-   `np.arange(start,stop,step)` creates an array with evenly spaced\n",
    "    elements over the range $[start,stop)$.\n",
    "    -   `start` and `step` can be omitted and then default to `start=0` and `step=1`.\n",
    "    -   Note that the number `stop` is never included in\n",
    "        the resulting array!\n",
    "-   `np.linspace(start,stop,num)` returns a vector of `num` elements\n",
    "    which are evenly spaced over the interval $[start,stop]$.\n",
    "-   `np.identity(n)` returns the identity matrix of a size $n \\times n$.\n",
    "-   `np.eye()` is a more flexible variant of `identity()` that can,\n",
    "    for example, also create non-squared matrices.\n",
    "\n",
    "There are many more array creation functions for more exotic use-cases,\n",
    "see the NumPy  [documentation](https://numpy.org/doc/stable/reference/routines.array-creation.html)\n",
    "for details.\n",
    "\n",
    "*Examples:*"
   ]
  },
  {
   "cell_type": "code",
   "execution_count": 3,
   "metadata": {
    "pycharm": {
     "name": "#%%\n"
    }
   },
   "outputs": [
    {
     "data": {
      "text/plain": [
       "array([1, 2, 3])"
      ]
     },
     "execution_count": 3,
     "metadata": {},
     "output_type": "execute_result"
    }
   ],
   "source": [
    "import numpy as np\n",
    "\n",
    "# Create array from list\n",
    "lst = [1, 2, 3]\n",
    "np.array(lst)"
   ]
  },
  {
   "cell_type": "code",
   "execution_count": 4,
   "metadata": {
    "pycharm": {
     "name": "#%%\n"
    }
   },
   "outputs": [
    {
     "data": {
      "text/plain": [
       "array([1., 2., 3.])"
      ]
     },
     "execution_count": 4,
     "metadata": {},
     "output_type": "execute_result"
    }
   ],
   "source": [
    "# Create array from tuple\n",
    "tpl = 1.0, 2.0, 3.0\n",
    "np.array(tpl)"
   ]
  },
  {
   "cell_type": "code",
   "execution_count": 5,
   "metadata": {
    "pycharm": {
     "name": "#%%\n"
    }
   },
   "outputs": [
    {
     "data": {
      "text/plain": [
       "array([0, 1, 2, 3, 4])"
      ]
     },
     "execution_count": 5,
     "metadata": {},
     "output_type": "execute_result"
    }
   ],
   "source": [
    "# arange: end point is not included!\n",
    "np.arange(5)"
   ]
  },
  {
   "cell_type": "code",
   "execution_count": 6,
   "metadata": {
    "pycharm": {
     "name": "#%%\n"
    }
   },
   "outputs": [
    {
     "data": {
      "text/plain": [
       "array([5, 4, 3, 2])"
      ]
     },
     "execution_count": 6,
     "metadata": {},
     "output_type": "execute_result"
    }
   ],
   "source": [
    "# arange: increments can be negative too!\n",
    "np.arange(5, 1, -1)"
   ]
  },
  {
   "cell_type": "code",
   "execution_count": 7,
   "metadata": {
    "pycharm": {
     "name": "#%%\n"
    }
   },
   "outputs": [
    {
     "data": {
      "text/plain": [
       "array([1.    , 1.5678, 2.1356, 2.7034])"
      ]
     },
     "execution_count": 7,
     "metadata": {},
     "output_type": "execute_result"
    }
   ],
   "source": [
    "# arange also works on floats\n",
    "np.arange(1.0, 3.0, 0.5678)"
   ]
  },
  {
   "cell_type": "code",
   "execution_count": 8,
   "metadata": {
    "pycharm": {
     "name": "#%%\n"
    }
   },
   "outputs": [
    {
     "data": {
      "text/plain": [
       "array([0. , 0.1, 0.2, 0.3, 0.4, 0.5, 0.6, 0.7, 0.8, 0.9, 1. ])"
      ]
     },
     "execution_count": 8,
     "metadata": {},
     "output_type": "execute_result"
    }
   ],
   "source": [
    "# linspace DOES include the end point\n",
    "np.linspace(0.0, 1.0, 11)"
   ]
  },
  {
   "cell_type": "markdown",
   "metadata": {
    "pycharm": {
     "name": "#%% md\n"
    }
   },
   "source": [
    "***\n",
    "## Array shape\n",
    "\n",
    "Many of the array creation routines take the desired shape of the array\n",
    "as their first argument.\n",
    "Array shapes are usually specified as tuples:\n",
    "\n",
    "-   A vector with 5 elements has shape `(5, )`.\n",
    "\n",
    "    Note the comma `,`: we need to specify a tuple with a single\n",
    "    element using this comma, since `(5)` is just the integer 5,\n",
    "    not a tuple.\n",
    "\n",
    "    It is worth pointing out that this is not the same as a\n",
    "    2-dimensional array with shape `(1, 5)` or `(5, 1)`, even\n",
    "    though they have the same number of elements.\n",
    "\n",
    "-   A $2\\times2$ matrix has shape `(2, 2)`.\n",
    "-   A higher-dimensional array has shape `(k, l, m, n, ...)`.\n",
    "-   A *scalar* NumPy array has shape `()`, an empty tuple.\n",
    "\n",
    "    While \"scalar array\" sounds like an oxymoron, it does exist.\n",
    "\n",
    "We can query the shape of an array using the `shape` attribute,\n",
    "and the number of dimensions is stored in the `ndim` attribute.\n",
    "\n",
    "*Examples:*"
   ]
  },
  {
   "cell_type": "code",
   "execution_count": 9,
   "metadata": {
    "pycharm": {
     "name": "#%%\n"
    }
   },
   "outputs": [
    {
     "name": "stdout",
     "output_type": "stream",
     "text": [
      "Scalar array with shape=() and ndim=0\n"
     ]
    }
   ],
   "source": [
    "import numpy as np\n",
    "\n",
    "# Scalar array\n",
    "x = np.array(0.0)\n",
    "print(f'Scalar array with shape={x.shape} and ndim={x.ndim}')"
   ]
  },
  {
   "cell_type": "markdown",
   "metadata": {
    "pycharm": {
     "name": "#%% md\n"
    }
   },
   "source": [
    "Note that a scalar NumPy array is not the same as a Python scalar.\n",
    "The built-in type `float` has neither a `shape`, nor an `ndim`,\n",
    "nor any other of the NumPy array attributes."
   ]
  },
  {
   "cell_type": "code",
   "execution_count": 10,
   "metadata": {
    "pycharm": {
     "name": "#%%\n"
    }
   },
   "outputs": [
    {
     "ename": "AttributeError",
     "evalue": "'float' object has no attribute 'shape'",
     "output_type": "error",
     "traceback": [
      "\u001b[0;31mAttributeError\u001b[0m\u001b[0;31m:\u001b[0m 'float' object has no attribute 'shape'\n"
     ]
    }
   ],
   "source": [
    "scalar = 1.0\n",
    "scalar.shape"
   ]
  },
  {
   "cell_type": "markdown",
   "metadata": {
    "collapsed": false,
    "pycharm": {
     "name": "#%% md\n"
    }
   },
   "source": [
    "We create an empty array as follows:"
   ]
  },
  {
   "cell_type": "code",
   "execution_count": 11,
   "metadata": {
    "pycharm": {
     "name": "#%%\n"
    }
   },
   "outputs": [
    {
     "data": {
      "text/plain": [
       "array([4.65511471e-310, 0.00000000e+000, 4.65511430e-310, 4.65511428e-310,\n",
       "       2.37151510e-322])"
      ]
     },
     "execution_count": 11,
     "metadata": {},
     "output_type": "execute_result"
    }
   ],
   "source": [
    "# 1-dimensional array (vector), values not initialised\n",
    "x = np.empty((5,))\n",
    "x       # could contain arbitrary garbage"
   ]
  },
  {
   "cell_type": "markdown",
   "metadata": {
    "pycharm": {
     "name": "#%% md\n"
    }
   },
   "source": [
    "An array created with `empty()` will contain arbitrary garbage\n",
    "since the memory block assigned to the array is not initialised.\n",
    "The result will most likely differ on each invocation and across\n",
    "computers.\n",
    "\n",
    "Most functions accept an integer value instead of a `tuple`\n",
    "when creating 1-dimensional arrays, which is interpreted\n",
    "as the number of elements:"
   ]
  },
  {
   "cell_type": "code",
   "execution_count": 12,
   "metadata": {
    "pycharm": {
     "name": "#%%\n"
    }
   },
   "outputs": [],
   "source": [
    "# 1-dimensional array\n",
    "x = np.empty(5)         # equivalent to np.empty((5,))"
   ]
  },
  {
   "cell_type": "markdown",
   "metadata": {
    "pycharm": {
     "name": "#%% md\n"
    }
   },
   "source": [
    "Higher-dimensional arrays are creating by passing in tuples\n",
    "with more than one element:"
   ]
  },
  {
   "cell_type": "code",
   "execution_count": 13,
   "metadata": {
    "pycharm": {
     "name": "#%%\n"
    }
   },
   "outputs": [
    {
     "data": {
      "text/plain": [
       "array([[[1., 1., 1.],\n",
       "        [1., 1., 1.]]])"
      ]
     },
     "execution_count": 13,
     "metadata": {},
     "output_type": "execute_result"
    }
   ],
   "source": [
    "np.ones((1, 2, 3))      # 3d-array"
   ]
  },
  {
   "cell_type": "markdown",
   "metadata": {
    "pycharm": {
     "name": "#%% md\n"
    }
   },
   "source": [
    "Recall from unit 2 that we can use the `reshape()` method\n",
    "to convert arrays to a different shape:\n",
    "\n",
    "-   The resulting number of elements must remain unchanged!\n",
    "-   *One* dimension can be specified using `-1`, which\n",
    "    will prompt NumPy to compute the implied dimension size\n",
    "    itself."
   ]
  },
  {
   "cell_type": "code",
   "execution_count": 14,
   "metadata": {
    "pycharm": {
     "name": "#%%\n"
    }
   },
   "outputs": [
    {
     "data": {
      "text/plain": [
       "array([[0., 0.],\n",
       "       [0., 0.],\n",
       "       [0., 0.]])"
      ]
     },
     "execution_count": 14,
     "metadata": {},
     "output_type": "execute_result"
    }
   ],
   "source": [
    "x = np.zeros((2, 1, 3))\n",
    "x = x.reshape((3, -1))      # Infer number of columns\n",
    "x"
   ]
  },
  {
   "cell_type": "markdown",
   "metadata": {},
   "source": [
    "We can reshape any array to a 1-dimensional vector using any of\n",
    "the following expressions:"
   ]
  },
  {
   "cell_type": "code",
   "execution_count": 15,
   "metadata": {},
   "outputs": [
    {
     "data": {
      "text/plain": [
       "array([0., 0., 0., 0., 0., 0.])"
      ]
     },
     "execution_count": 15,
     "metadata": {},
     "output_type": "execute_result"
    }
   ],
   "source": [
    "x.reshape((-1, ))          # pass shape as tuple\n",
    "x.reshape(-1)              # pass shape as integer\n",
    "x.flatten()"
   ]
  },
  {
   "cell_type": "markdown",
   "metadata": {},
   "source": [
    "This even works on scalar (0-dimensional) arrays:"
   ]
  },
  {
   "cell_type": "code",
   "execution_count": 16,
   "metadata": {},
   "outputs": [
    {
     "data": {
      "text/plain": [
       "array([0.])"
      ]
     },
     "execution_count": 16,
     "metadata": {},
     "output_type": "execute_result"
    }
   ],
   "source": [
    "np.array(0.0).flatten()"
   ]
  },
  {
   "cell_type": "markdown",
   "metadata": {
    "pycharm": {
     "name": "#%% md\n"
    }
   },
   "source": [
    "***\n",
    "## Advanced indexing\n",
    "\n",
    "We previously discussed single element indexing and slicing,\n",
    "which works the same way for both Python `list` and `tuple` objects\n",
    "as well as NumPy arrays.\n",
    "\n",
    "NumPy additionally implements more sophisticated indexing mechanisms\n",
    "which we cover now.\n",
    "\n",
    "-   You might also want to consult the\n",
    "    NumPy indexing [tutorial](https://numpy.org/doc/stable/user/basics.indexing.html)\n",
    "    and the detailed indexing [reference](https://numpy.org/doc/stable/reference/arrays.indexing.html).\n",
    "\n",
    "### Boolean or \"mask\" indexing\n",
    "We can pass logical arrays as indices:\n",
    "\n",
    "-   Logical (or boolean) arrays consist of elements that\n",
    "    can only take on values `True` and `False`\n",
    "-   We usually don't create logical arrays manually, but apply\n",
    "    an operation that results in `True`/`False` values,\n",
    "    such as a comparison.\n",
    "-   The boolean index array usually has the *same*\n",
    "    shape as the indexed array.\n",
    "\n",
    "*Examples:*"
   ]
  },
  {
   "cell_type": "code",
   "execution_count": 17,
   "metadata": {
    "pycharm": {
     "name": "#%%\n"
    }
   },
   "outputs": [
    {
     "data": {
      "text/plain": [
       "array([False, False,  True,  True,  True])"
      ]
     },
     "execution_count": 17,
     "metadata": {},
     "output_type": "execute_result"
    }
   ],
   "source": [
    "import numpy as np\n",
    "\n",
    "vec = np.arange(5)\n",
    "mask = (vec > 1)        # apply comparison to create boolean array\n",
    "mask"
   ]
  },
  {
   "cell_type": "code",
   "execution_count": 18,
   "metadata": {
    "pycharm": {
     "name": "#%%\n"
    }
   },
   "outputs": [
    {
     "data": {
      "text/plain": [
       "array([2, 3, 4])"
      ]
     },
     "execution_count": 18,
     "metadata": {},
     "output_type": "execute_result"
    }
   ],
   "source": [
    "vec[mask]               # use mask to retrieve only elements greater than 1"
   ]
  },
  {
   "cell_type": "markdown",
   "metadata": {},
   "source": [
    "We can even apply boolean indexing to multi-dimensional\n",
    "arrays. The result will be flatted to a 1-dimensional array,\n",
    "though."
   ]
  },
  {
   "cell_type": "code",
   "execution_count": 19,
   "metadata": {
    "pycharm": {
     "name": "#%%\n"
    }
   },
   "outputs": [
    {
     "data": {
      "text/plain": [
       "array([[0, 1, 2],\n",
       "       [3, 4, 5]])"
      ]
     },
     "execution_count": 19,
     "metadata": {},
     "output_type": "execute_result"
    }
   ],
   "source": [
    "mat = np.arange(6).reshape((2,3))\n",
    "mat"
   ]
  },
  {
   "cell_type": "code",
   "execution_count": 20,
   "metadata": {
    "pycharm": {
     "name": "#%%\n"
    }
   },
   "outputs": [
    {
     "data": {
      "text/plain": [
       "array([[False, False,  True],\n",
       "       [ True,  True,  True]])"
      ]
     },
     "execution_count": 20,
     "metadata": {},
     "output_type": "execute_result"
    }
   ],
   "source": [
    "mask = (mat > 1)        # create boolean array\n",
    "mask"
   ]
  },
  {
   "cell_type": "code",
   "execution_count": 21,
   "metadata": {
    "pycharm": {
     "name": "#%%\n"
    }
   },
   "outputs": [
    {
     "data": {
      "text/plain": [
       "array([2, 3, 4, 5])"
      ]
     },
     "execution_count": 21,
     "metadata": {},
     "output_type": "execute_result"
    }
   ],
   "source": [
    "mat[mask]            # collapses result to 1-d array"
   ]
  },
  {
   "cell_type": "markdown",
   "metadata": {},
   "source": [
    "Note that logical indexing does *not* work with `tuple` and `list`"
   ]
  },
  {
   "cell_type": "code",
   "execution_count": 22,
   "metadata": {
    "pycharm": {
     "name": "#%%\n"
    }
   },
   "outputs": [
    {
     "ename": "TypeError",
     "evalue": "tuple indices must be integers or slices, not tuple",
     "output_type": "error",
     "traceback": [
      "\u001b[0;31mTypeError\u001b[0m\u001b[0;31m:\u001b[0m tuple indices must be integers or slices, not tuple\n"
     ]
    }
   ],
   "source": [
    "tpl = (1, 2, 3)\n",
    "mask = (True, False, True)\n",
    "tpl[mask]               # error"
   ]
  },
  {
   "cell_type": "markdown",
   "metadata": {
    "pycharm": {
     "name": "#%% md\n"
    }
   },
   "source": [
    "### Integer index arrays\n",
    "\n",
    "We can also use index arrays of *integer* type to select\n",
    "specific elements on each axis. These are straightforward to use\n",
    "for 1-dimensional arrays, but can get fairly complex with multiple\n",
    "dimensions."
   ]
  },
  {
   "cell_type": "code",
   "execution_count": 23,
   "metadata": {
    "pycharm": {
     "name": "#%%\n"
    }
   },
   "outputs": [
    {
     "data": {
      "text/plain": [
       "array([1, 2, 9])"
      ]
     },
     "execution_count": 23,
     "metadata": {},
     "output_type": "execute_result"
    }
   ],
   "source": [
    "import numpy as np\n",
    "\n",
    "data = np.arange(10)\n",
    "index = [1, 2, 9]       # select second, third and 10th element\n",
    "data[index]"
   ]
  },
  {
   "cell_type": "markdown",
   "metadata": {
    "pycharm": {
     "name": "#%% md\n"
    }
   },
   "source": [
    "As you see, the index array does not have to be a NumPy array,\n",
    "but can also be a list (not a tuple, though!).\n",
    "\n",
    "In general, if we are using an index array to select elements\n",
    "along an axis of length $n$, then\n",
    "\n",
    "-   the index must only contain integers between $0$ and $n-1$, or negative\n",
    "    integers from $-n$ to $-1$ (which, as usual, count from\n",
    "    the end of the axis).\n",
    "-   the index can be of arbitrary length. We can therefore select the\n",
    "    same element multiple times."
   ]
  },
  {
   "cell_type": "code",
   "execution_count": 24,
   "metadata": {
    "pycharm": {
     "name": "#%%\n"
    }
   },
   "outputs": [
    {
     "data": {
      "text/plain": [
       "array([5, 6, 7, 8, 9])"
      ]
     },
     "execution_count": 24,
     "metadata": {},
     "output_type": "execute_result"
    }
   ],
   "source": [
    "data = np.arange(5, 10)     # array with 5 elements, [5,...,9]\n",
    "data"
   ]
  },
  {
   "cell_type": "code",
   "execution_count": 25,
   "metadata": {
    "pycharm": {
     "name": "#%%\n"
    }
   },
   "outputs": [
    {
     "data": {
      "text/plain": [
       "array([5, 6, 6, 7, 7, 8, 8, 9, 9])"
      ]
     },
     "execution_count": 25,
     "metadata": {},
     "output_type": "execute_result"
    }
   ],
   "source": [
    "index = [0, 1, 1, 2, 2, 3, 3, 4, 4]         # select elements multiple times\n",
    "data[index]"
   ]
  },
  {
   "cell_type": "markdown",
   "metadata": {
    "pycharm": {
     "name": "#%% md\n"
    }
   },
   "source": [
    "The same restrictions apply when indexing multi-dimensional arrays.\n",
    "Moreover,\n",
    "\n",
    "-   if more than one axis is indexed using index arrays,\n",
    "    the index arrays have to be of equal length.\n",
    "-   we can combine integer array indexing on one axis with\n",
    "    other types of indices on the remaining axes.\n",
    "\n",
    "*Examples:*"
   ]
  },
  {
   "cell_type": "code",
   "execution_count": 26,
   "metadata": {
    "pycharm": {
     "name": "#%%\n"
    }
   },
   "outputs": [
    {
     "data": {
      "text/plain": [
       "array([[ 0,  1,  2,  3],\n",
       "       [ 4,  5,  6,  7],\n",
       "       [ 8,  9, 10, 11]])"
      ]
     },
     "execution_count": 26,
     "metadata": {},
     "output_type": "execute_result"
    }
   ],
   "source": [
    "data = np.arange(12).reshape((3, 4))\n",
    "data"
   ]
  },
  {
   "cell_type": "code",
   "execution_count": 27,
   "metadata": {
    "pycharm": {
     "name": "#%%\n"
    }
   },
   "outputs": [
    {
     "data": {
      "text/plain": [
       "array([ 1, 11])"
      ]
     },
     "execution_count": 27,
     "metadata": {},
     "output_type": "execute_result"
    }
   ],
   "source": [
    "index1 = [0, 2]     # row indices\n",
    "index2 = [1, 3]     # column indices\n",
    "data[index1, index2]"
   ]
  },
  {
   "cell_type": "markdown",
   "metadata": {
    "pycharm": {
     "name": "#%% md\n"
    }
   },
   "source": [
    "The code above selects two elements, the first at position\n",
    "`(0,1)`, the second at position `(2,3)`.\n",
    "\n",
    "We can combine index arrays on one axis with another indexing method\n",
    "on a different axis:"
   ]
  },
  {
   "cell_type": "code",
   "execution_count": 28,
   "metadata": {
    "pycharm": {
     "name": "#%%\n"
    }
   },
   "outputs": [
    {
     "data": {
      "text/plain": [
       "array([ 2, 10])"
      ]
     },
     "execution_count": 28,
     "metadata": {},
     "output_type": "execute_result"
    }
   ],
   "source": [
    "data[index1, 2]     # return elements in 3rd column from rows given\n",
    "                    # in index1"
   ]
  },
  {
   "cell_type": "markdown",
   "metadata": {
    "pycharm": {
     "name": "#%% md\n"
    }
   },
   "source": [
    "Using different indexing methods, in particular index arrays,\n",
    "on higher-dimensional data can quickly become a mess, and you should\n",
    "be extra careful to see if the results make sense."
   ]
  },
  {
   "cell_type": "markdown",
   "metadata": {
    "pycharm": {
     "name": "#%% md\n"
    }
   },
   "source": [
    "***\n",
    "## Numerical operations\n",
    "\n",
    "### Element-wise operations\n",
    "Element-wise operations are performed on each element\n",
    "individually and leave the resulting array's shape unchanged.\n",
    "\n",
    "There are three types of such operations:\n",
    "\n",
    "1.  One operand is an array and one is a scalar.\n",
    "2.  Both operands are arrays, either of identical shape,\n",
    "    or broadcastable to an identical shape (we discuss\n",
    "    broadcasting below)\n",
    "3.  A function is applied to each array element.\n",
    "\n",
    "*Case 1:* Array-scalar operations. These intuitively\n",
    "behave as you would expect:"
   ]
  },
  {
   "cell_type": "code",
   "execution_count": 29,
   "metadata": {
    "pycharm": {
     "name": "#%%\n"
    }
   },
   "outputs": [],
   "source": [
    "import numpy as np\n",
    "\n",
    "x = np.arange(10)\n",
    "scalar = 1\n",
    "\n",
    "# The resulting array y has the same shape as x:\n",
    "y = x + scalar      # addition\n",
    "y = x - scalar      # subtraction\n",
    "y = x * scalar      # multiplication\n",
    "y = x / scalar      # division\n",
    "y = x // scalar     # division with integer truncation\n",
    "y = x % scalar      # modulo operator\n",
    "y = x ** scalar     # power function\n",
    "y = x == scalar     # comparison: also >, >=, <=, <"
   ]
  },
  {
   "cell_type": "markdown",
   "metadata": {
    "pycharm": {
     "name": "#%% md\n"
    }
   },
   "source": [
    "Note that unlike in Matlab, the \"standard\" operators work\n",
    "element-wise, so `x * y` is *not* matrix multiplication!\n",
    "\n",
    "*Case 2:* Both operands are arrays of equal shape:"
   ]
  },
  {
   "cell_type": "code",
   "execution_count": 30,
   "metadata": {
    "pycharm": {
     "name": "#%%\n"
    }
   },
   "outputs": [],
   "source": [
    "x = np.arange(10)\n",
    "y = np.arange(10, 20)       # has same shape as x\n",
    "\n",
    "# Resulting array z has the same shape as x and y:\n",
    "z = x + y           # addition\n",
    "z = x - y           # subtraction\n",
    "z = x * y           # multiplication\n",
    "z = x / y           # division\n",
    "z = x // y          # division with integer truncation\n",
    "z = x % y           # modulo operator\n",
    "z = x ** y          # power function\n",
    "z = x == y          # comparison: also >, >=, <=, <"
   ]
  },
  {
   "cell_type": "markdown",
   "metadata": {
    "pycharm": {
     "name": "#%% md\n"
    }
   },
   "source": [
    "*Case 3:* Applying element-wise functions.\n",
    "This case covers numerous functions defined in NumPy, such\n",
    "as\n",
    "\n",
    "-   `np.sqrt`: square root\n",
    "-   `np.exp`, `np.log`, `np.log10`: exponential and logarithmic functions\n",
    "-   `np.sin`, `np.cos`, etc.: trigonometric functions"
   ]
  },
  {
   "cell_type": "markdown",
   "metadata": {
    "pycharm": {
     "name": "#%% md\n"
    }
   },
   "source": [
    "You can find a complete list of mathematical functions in\n",
    "the NumPy [documentation](https://numpy.org/doc/stable/reference/routines.math.html)\n",
    "(not all functions listed there operate element-wise, though!)."
   ]
  },
  {
   "cell_type": "code",
   "execution_count": 31,
   "metadata": {
    "pycharm": {
     "name": "#%%\n"
    }
   },
   "outputs": [],
   "source": [
    "# element-wise functions\n",
    "x = np.arange(1, 11)\n",
    "y = np.exp(x)       # apply exponential function\n",
    "y = np.log(x)       # apply natural logarithm"
   ]
  },
  {
   "cell_type": "markdown",
   "metadata": {
    "pycharm": {
     "name": "#%% md\n"
    }
   },
   "source": [
    "### Matrix operations\n",
    "\n",
    "**Transpose**\n",
    "\n",
    "You can transpose a matrix using the `T` attribute:"
   ]
  },
  {
   "cell_type": "code",
   "execution_count": 32,
   "metadata": {
    "pycharm": {
     "name": "#%%\n"
    }
   },
   "outputs": [
    {
     "data": {
      "text/plain": [
       "array([[0, 1, 2],\n",
       "       [3, 4, 5]])"
      ]
     },
     "execution_count": 32,
     "metadata": {},
     "output_type": "execute_result"
    }
   ],
   "source": [
    "mat = np.arange(6).reshape((2,3))\n",
    "mat"
   ]
  },
  {
   "cell_type": "code",
   "execution_count": 33,
   "metadata": {
    "pycharm": {
     "name": "#%%\n"
    }
   },
   "outputs": [
    {
     "data": {
      "text/plain": [
       "array([[0, 3],\n",
       "       [1, 4],\n",
       "       [2, 5]])"
      ]
     },
     "execution_count": 33,
     "metadata": {},
     "output_type": "execute_result"
    }
   ],
   "source": [
    "mat.T"
   ]
  },
  {
   "cell_type": "markdown",
   "metadata": {
    "pycharm": {
     "name": "#%% md\n"
    }
   },
   "source": [
    "For higher-dimensional arrays, the `np.transpose()` function\n",
    "can be used to permute the axes of an array. For two-dimensional\n",
    "arrays, `np.transpose(mat)` and `mat.T` are equivalent.\n",
    "\n",
    "**Matrix multiplication**\n",
    "\n",
    "Matrix multiplication is performed using the `np.dot()`\n",
    "function (\"dot product\"). The operands need not be matrices\n",
    "but can be vectors as well, or even high-dimensional arrays\n",
    "(the result is then not entirely obvious and one should check\n",
    "the [documentation](https://numpy.org/doc/stable/reference/generated/numpy.dot.html)).\n",
    "\n",
    "Every newer version of Python and NumPy additionally interprets `@`\n",
    "as the matrix multiplication operator."
   ]
  },
  {
   "cell_type": "code",
   "execution_count": 34,
   "metadata": {
    "pycharm": {
     "name": "#%%\n"
    }
   },
   "outputs": [
    {
     "data": {
      "text/plain": [
       "array([[ 15,  18,  21],\n",
       "       [ 42,  54,  66],\n",
       "       [ 69,  90, 111]])"
      ]
     },
     "execution_count": 34,
     "metadata": {},
     "output_type": "execute_result"
    }
   ],
   "source": [
    "import numpy as np\n",
    "\n",
    "mat = np.arange(9).reshape((3, 3))      # 3x3 matrix\n",
    "vec = np.arange(3)                      # vector of length 3\n",
    "\n",
    "# matrix-matrix multiplication\n",
    "np.dot(mat, mat)    # or: mat @ mat"
   ]
  },
  {
   "cell_type": "code",
   "execution_count": 35,
   "metadata": {
    "pycharm": {
     "name": "#%%\n"
    }
   },
   "outputs": [
    {
     "data": {
      "text/plain": [
       "5"
      ]
     },
     "execution_count": 35,
     "metadata": {},
     "output_type": "execute_result"
    }
   ],
   "source": [
    "# vector dot product (returns a scalar)\n",
    "np.dot(vec, vec)    # or: vec @ vec\n"
   ]
  },
  {
   "cell_type": "code",
   "execution_count": 36,
   "metadata": {
    "pycharm": {
     "name": "#%%\n"
    }
   },
   "outputs": [
    {
     "data": {
      "text/plain": [
       "array([ 5, 14, 23])"
      ]
     },
     "execution_count": 36,
     "metadata": {},
     "output_type": "execute_result"
    }
   ],
   "source": [
    "# matrix-vector product (returns vector)\n",
    "np.dot(mat, vec)    # or: mat @ vec"
   ]
  },
  {
   "cell_type": "markdown",
   "metadata": {
    "pycharm": {
     "name": "#%% md\n"
    }
   },
   "source": [
    "We must of course make sure that matrices and vector have\n",
    "conformable dimensions!"
   ]
  },
  {
   "cell_type": "code",
   "execution_count": 37,
   "metadata": {
    "pycharm": {
     "name": "#%%\n"
    }
   },
   "outputs": [
    {
     "data": {
      "text/plain": [
       "array([[0, 1, 2],\n",
       "       [3, 4, 5]])"
      ]
     },
     "execution_count": 37,
     "metadata": {},
     "output_type": "execute_result"
    }
   ],
   "source": [
    "mat = np.arange(6).reshape((2, 3))\n",
    "mat"
   ]
  },
  {
   "cell_type": "code",
   "execution_count": 38,
   "metadata": {
    "pycharm": {
     "name": "#%%\n"
    }
   },
   "outputs": [
    {
     "ename": "ValueError",
     "evalue": "shapes (2,3) and (2,3) not aligned: 3 (dim 1) != 2 (dim 0)",
     "output_type": "error",
     "traceback": [
      "\u001b[0;31mValueError\u001b[0m\u001b[0;31m:\u001b[0m shapes (2,3) and (2,3) not aligned: 3 (dim 1) != 2 (dim 0)\n"
     ]
    }
   ],
   "source": [
    "np.dot(mat, mat)        # raises error, cannot multiply 2x3 matrix with \n",
    "                        # 2x3 matrix"
   ]
  },
  {
   "cell_type": "code",
   "execution_count": 39,
   "metadata": {
    "pycharm": {
     "name": "#%%\n"
    }
   },
   "outputs": [
    {
     "data": {
      "text/plain": [
       "array([[ 5, 14],\n",
       "       [14, 50]])"
      ]
     },
     "execution_count": 39,
     "metadata": {},
     "output_type": "execute_result"
    }
   ],
   "source": [
    "np.dot(mat, mat.T)      # transpose second operand, then it works!"
   ]
  },
  {
   "cell_type": "markdown",
   "metadata": {
    "pycharm": {
     "name": "#%% md\n"
    }
   },
   "source": [
    "### Reductions\n",
    "\n",
    "Reductions are operations that reduce the dimensionality of\n",
    "the data. For example, computing the mean of an array reduces\n",
    "a collection of data points to a single scalar, its mean.\n",
    "\n",
    "Basic reduction operations include:\n",
    "\n",
    "-   `np.sum()`: sum of array elements\n",
    "-   `np.prod()`: product of array elements\n",
    "-   `np.amin()`, `np.amax()`: minimum and maximum element\n",
    "-   `np.argmin()`, `np.argmax()`: location of minimum and maximum element\n",
    "-   `np.mean()`, `np.average()`: mean of array elements\n",
    "-   `np.median()`: median of array elements\n",
    "-   `np.std()`, `np.var()`: standard deviation and variance of array elements\n",
    "-   `np.percentile()`: percentiles of array elements\n",
    "\n",
    "Most if not all reductions accept an `axis` argument which\n",
    "restricts the operation to a specific axis.\n",
    "\n",
    "-   If an axis is specified, the resulting array will have one dimension\n",
    "    less than the input.\n",
    "-   If no axis is specified, the operation is applied to the\n",
    "    whole (flattened) array.\n",
    "\n",
    "*Examples:*"
   ]
  },
  {
   "cell_type": "code",
   "execution_count": 40,
   "metadata": {
    "pycharm": {
     "name": "#%%\n"
    }
   },
   "outputs": [
    {
     "name": "stdout",
     "output_type": "stream",
     "text": [
      "Mean: 0.50, std. dev.: 0.32\n"
     ]
    }
   ],
   "source": [
    "import numpy as np\n",
    "\n",
    "# 1-dimensional input data\n",
    "data = np.linspace(0.0, 1.0, 11)\n",
    "\n",
    "# Compute mean and std. of input data\n",
    "m = np.mean(data)\n",
    "s = np.std(data)\n",
    "print(f'Mean: {m:.2f}, std. dev.: {s:.2f}')"
   ]
  },
  {
   "cell_type": "code",
   "execution_count": 41,
   "metadata": {
    "pycharm": {
     "name": "#%%\n"
    }
   },
   "outputs": [
    {
     "data": {
      "text/plain": [
       "array([[0.  , 0.05, 0.1 , 0.15, 0.2 , 0.25, 0.3 ],\n",
       "       [0.35, 0.4 , 0.45, 0.5 , 0.55, 0.6 , 0.65],\n",
       "       [0.7 , 0.75, 0.8 , 0.85, 0.9 , 0.95, 1.  ]])"
      ]
     },
     "execution_count": 41,
     "metadata": {},
     "output_type": "execute_result"
    }
   ],
   "source": [
    "# 2-dimensional input data\n",
    "data = np.linspace(0.0, 1.0, 21).reshape((3, 7))\n",
    "data"
   ]
  },
  {
   "cell_type": "code",
   "execution_count": 42,
   "metadata": {
    "pycharm": {
     "name": "#%%\n"
    }
   },
   "outputs": [
    {
     "data": {
      "text/plain": [
       "array([0.15, 0.5 , 0.85])"
      ]
     },
     "execution_count": 42,
     "metadata": {},
     "output_type": "execute_result"
    }
   ],
   "source": [
    "# Compute mean of each row, ie along the column axis\n",
    "m = np.mean(data, axis=1)\n",
    "m           # Result is a vector of 3 elements, one for each row"
   ]
  },
  {
   "cell_type": "markdown",
   "metadata": {
    "pycharm": {
     "name": "#%% md\n"
    }
   },
   "source": [
    "### Broadcasting\n",
    "\n",
    "Element-wise operations in most programming languages require\n",
    "input arrays to have identical shapes.\n",
    "NumPy relaxes this constraint and allows us to use arrays\n",
    "with different shapes that can be \"broadcast\" to identical shapes.\n",
    "\n",
    "**Simple example**\n",
    "\n",
    "What do we mean by \"broadcasting\"? We introduce the concept\n",
    "using a specific example, and will discuss the technical\n",
    "details below.\n",
    "\n",
    "-   Imagine we want to add a $2 \\times 3$ matrix to a length-2 vector.\n",
    "-   This operation does not make sense, unless we interpret the (column) vector\n",
    "    as a $2 \\times 1$ matrix, and replicate it 3 times to obtain a\n",
    "    $2 \\times 3$ matrix. This is exactly what NumPy does.\n",
    "\n",
    "*Examples:*"
   ]
  },
  {
   "cell_type": "code",
   "execution_count": 43,
   "metadata": {
    "pycharm": {
     "name": "#%%\n"
    }
   },
   "outputs": [
    {
     "data": {
      "text/plain": [
       "array([[0, 1, 2],\n",
       "       [3, 4, 5]])"
      ]
     },
     "execution_count": 43,
     "metadata": {},
     "output_type": "execute_result"
    }
   ],
   "source": [
    "import numpy as np\n",
    "\n",
    "# Create 3x2 matrix\n",
    "mat = np.arange(6).reshape((2, 3))\n",
    "mat"
   ]
  },
  {
   "cell_type": "code",
   "execution_count": 44,
   "metadata": {
    "pycharm": {
     "name": "#%%\n"
    }
   },
   "outputs": [
    {
     "data": {
      "text/plain": [
       "array([0, 1])"
      ]
     },
     "execution_count": 44,
     "metadata": {},
     "output_type": "execute_result"
    }
   ],
   "source": [
    "# Create 2-element vector\n",
    "vec = np.arange(2)\n",
    "vec"
   ]
  },
  {
   "cell_type": "code",
   "execution_count": 45,
   "metadata": {
    "pycharm": {
     "name": "#%%\n"
    }
   },
   "outputs": [
    {
     "ename": "ValueError",
     "evalue": "operands could not be broadcast together with shapes (2,3) (2,) ",
     "output_type": "error",
     "traceback": [
      "\u001b[0;31mValueError\u001b[0m\u001b[0;31m:\u001b[0m operands could not be broadcast together with shapes (2,3) (2,) \n"
     ]
    }
   ],
   "source": [
    "# Trying to add matrix to vector fails\n",
    "mat + vec"
   ]
  },
  {
   "cell_type": "code",
   "execution_count": 46,
   "metadata": {
    "pycharm": {
     "name": "#%%\n"
    }
   },
   "outputs": [
    {
     "data": {
      "text/plain": [
       "array([[0],\n",
       "       [1]])"
      ]
     },
     "execution_count": 46,
     "metadata": {},
     "output_type": "execute_result"
    }
   ],
   "source": [
    "# However, we can explicitly reshape the vector to a 2x1 column vector\n",
    "colvec = vec.reshape((-1, 1))\n",
    "colvec"
   ]
  },
  {
   "cell_type": "code",
   "execution_count": 47,
   "metadata": {
    "pycharm": {
     "name": "#%%\n"
    }
   },
   "outputs": [
    {
     "data": {
      "text/plain": [
       "array([[0, 1, 2],\n",
       "       [4, 5, 6]])"
      ]
     },
     "execution_count": 47,
     "metadata": {},
     "output_type": "execute_result"
    }
   ],
   "source": [
    "# Now, broadcasting replicates column vector to match matrix columns\n",
    "mat + colvec"
   ]
  },
  {
   "cell_type": "markdown",
   "metadata": {
    "pycharm": {
     "name": "#%% md\n"
    }
   },
   "source": [
    "We do not need to `reshape()` data, but can instead use\n",
    "a feature of NumPy that allows us to increase the number of\n",
    "dimensions on the spot:"
   ]
  },
  {
   "cell_type": "code",
   "execution_count": 48,
   "metadata": {
    "pycharm": {
     "name": "#%%\n"
    }
   },
   "outputs": [
    {
     "data": {
      "text/plain": [
       "array([[0, 1, 2],\n",
       "       [4, 5, 6]])"
      ]
     },
     "execution_count": 48,
     "metadata": {},
     "output_type": "execute_result"
    }
   ],
   "source": [
    "# use vec[:, None] to append an additional dimension to vec\n",
    "mat + vec[:, None]"
   ]
  },
  {
   "cell_type": "markdown",
   "metadata": {
    "pycharm": {
     "name": "#%% md\n"
    }
   },
   "source": [
    "Specifying `None` as an array index inserts a new axis of length 1 at\n",
    "that position (since it's of length 1, this new axis does not change the\n",
    "overall size of the array!).\n",
    "\n",
    "For more examples, see the official NumPy [tutorial](https://numpy.org/doc/stable/user/basics.broadcasting.html)\n",
    "on broadcasting."
   ]
  },
  {
   "cell_type": "markdown",
   "metadata": {},
   "source": [
    "**Technical details**\n",
    "\n",
    "We are now ready to look at the technical details\n",
    "underlying broadcasting. The NumPy [documentation](https://numpy.org/doc/stable/user/basics.broadcasting.html)\n",
    "on broadcasting is quite comprehensive, so we will just summarise the points made there.\n",
    "\n",
    "Broadcasting is applied in four steps:\n",
    "\n",
    "1.  Determine the largest dimension (`ndim` attribute) among all arrays\n",
    "    involved in an operation. Any array of smaller dimension\n",
    "    will have 1's *prepended* to its shape until its dimension\n",
    "    corresponds to the largest one.\n",
    "\n",
    "    *Example:* given array `a` with shape `(m,n)` and array\n",
    "    `b` with shape `(n,)`, the maximum dimension is 2,\n",
    "    and `b` will be implicitly reshaped to `(1,n)`.\n",
    "2.  The size of the output array is determined as the\n",
    "    maximum size of all arrays along each dimension.\n",
    "\n",
    "    *Example:* Continuing with our example from above, the\n",
    "    maximum size along dimension 1 is `m`, and the maximum\n",
    "    size along dimension 2 is `n`, so the output array\n",
    "    has shape `(m,n)`.\n",
    "3.  An input array can be used in the computation if\n",
    "    for every dimension its size either matches the output\n",
    "    size or is equal to 1. If this is not the case,\n",
    "    broadcasting cannot be applied and the operation fails.\n",
    "\n",
    "    *Example:* In the above example, the shape of `a` matches\n",
    "    the output shape exactly. The implied shape of `b` is\n",
    "    `(1,n)`, so it matches exactly along the second dimension,\n",
    "    and is 1 along the first, and thus can be used.\n",
    "4.  For any input array with size 1 along some dimension,\n",
    "    the (unique) element in this dimension will be used\n",
    "    for all calculations along that dimension.\n",
    "\n",
    "    *Example:* Any element `a[i,j]` will be matched with\n",
    "    the element `b[0,j]` to the calculate the output\n",
    "    value at `(i,j)`.\n",
    "\n",
    "Because additional dimensions are added *at the beginning*\n",
    "to create the desired output shape, broadcasting will not work\n",
    "automatically if we want to multiply arrays of\n",
    "shape `a.shape = (m,n)` and `b.shape = (m,)`.\n",
    "\n",
    "-   Following the above steps,  `b` will implicitly be\n",
    "    reshaped to `(1,m)` and the operation will fail at step 3:"
   ]
  },
  {
   "cell_type": "code",
   "execution_count": 49,
   "metadata": {
    "pycharm": {
     "name": "#%%\n"
    }
   },
   "outputs": [
    {
     "ename": "ValueError",
     "evalue": "operands could not be broadcast together with shapes (3,2) (3,) ",
     "output_type": "error",
     "traceback": [
      "\u001b[0;31mValueError\u001b[0m\u001b[0;31m:\u001b[0m operands could not be broadcast together with shapes (3,2) (3,) \n"
     ]
    }
   ],
   "source": [
    "m = 3\n",
    "n = 2\n",
    "a = np.arange(m*n).reshape((m, n))      # matrix of shape (m,n)\n",
    "b = np.arange(1, m+1)                   # vector of shape (m,)\n",
    "\n",
    "a * b           # will not work!"
   ]
  },
  {
   "cell_type": "markdown",
   "metadata": {
    "pycharm": {
     "name": "#%% md\n"
    }
   },
   "source": [
    "We therefore have to explicitly *append* a degenerate axis to\n",
    "`b` such that both arrays have the same dimension:"
   ]
  },
  {
   "cell_type": "code",
   "execution_count": 50,
   "metadata": {
    "pycharm": {
     "name": "#%%\n"
    }
   },
   "outputs": [
    {
     "data": {
      "text/plain": [
       "array([[ 0,  1],\n",
       "       [ 4,  6],\n",
       "       [12, 15]])"
      ]
     },
     "execution_count": 50,
     "metadata": {},
     "output_type": "execute_result"
    }
   ],
   "source": [
    "b = b[:,None]\n",
    "a * b"
   ]
  },
  {
   "cell_type": "markdown",
   "metadata": {
    "pycharm": {
     "name": "#%% md\n"
    }
   },
   "source": [
    "Because `a` has shape `(m,n)` and `b` now has shape\n",
    "`(m,1)`, `b[:,0]` will be replicated across all columns of\n",
    "`a` to perform the operation.\n",
    "\n",
    "It is worthwhile to take some time to master broadcasting as it's\n",
    "essential to using NumPy efficiently. You might think that\n",
    "one can simply replicate array operands along some\n",
    "dimension to get the same effect, which is what we do in languages\n",
    "that do not support broadcasting.\n",
    "\n",
    "-   This included Matlab until release R2016b, where\n",
    "    implicit expansion for some arithmetic and logical\n",
    "    operations was introduced.\n",
    "\n",
    "    Prior to that, users had to manually expand input arrays\n",
    "    using `repmat()`, or use the rather inelegant `bsxfun()`\n",
    "    function.\n",
    "\n",
    "    Note that even today, NumPy broadcasting goes beyond\n",
    "    Matlab's capabilities.\n",
    "\n",
    "To illustrate the difference between broadcasting and manual replication \n",
    "of data, we perform the element-wise multiplication\n",
    "of a 3-dimensional array with a (1-dimensional) vector:"
   ]
  },
  {
   "cell_type": "code",
   "execution_count": 51,
   "metadata": {
    "pycharm": {
     "name": "#%%\n"
    }
   },
   "outputs": [],
   "source": [
    "# Dimensions of 3d array\n",
    "k = 10\n",
    "m = 11\n",
    "n = 12\n",
    "\n",
    "a = np.arange(k*m*n).reshape((k, m, n))     # create 3d array\n",
    "b = np.arange(n)                            # create 1d vector"
   ]
  },
  {
   "cell_type": "markdown",
   "metadata": {
    "pycharm": {
     "name": "#%% md\n"
    }
   },
   "source": [
    "We can manually expand the vector to have the same\n",
    "shape as the array `a` using `np.tile()` which creates\n",
    "`k * m` copies of the `n` elements in `b`:"
   ]
  },
  {
   "cell_type": "code",
   "execution_count": 52,
   "metadata": {
    "pycharm": {
     "name": "#%%\n"
    }
   },
   "outputs": [
    {
     "data": {
      "text/plain": [
       "(10, 11, 12)"
      ]
     },
     "execution_count": 52,
     "metadata": {},
     "output_type": "execute_result"
    }
   ],
   "source": [
    "b_exp = np.tile(b, reps=(k, m, 1))\n",
    "b_exp.shape"
   ]
  },
  {
   "cell_type": "markdown",
   "metadata": {
    "pycharm": {
     "name": "#%% md\n"
    }
   },
   "source": [
    "The following code compares the execution time of computing\n",
    "`a * b` using broadcasting to the case where we first\n",
    "explicitly expand `b`:"
   ]
  },
  {
   "cell_type": "code",
   "execution_count": 53,
   "metadata": {
    "pycharm": {
     "name": "#%%\n"
    }
   },
   "outputs": [
    {
     "name": "stdout",
     "output_type": "stream",
     "text": [
      "1.99 µs ± 14.3 ns per loop (mean ± std. dev. of 7 runs, 100,000 loops each)\n"
     ]
    }
   ],
   "source": [
    "# Multiplication with broadcasting\n",
    "%timeit a * b"
   ]
  },
  {
   "cell_type": "code",
   "execution_count": 54,
   "metadata": {
    "pycharm": {
     "name": "#%%\n"
    }
   },
   "outputs": [
    {
     "name": "stdout",
     "output_type": "stream",
     "text": [
      "5.66 µs ± 24.2 ns per loop (mean ± std. dev. of 7 runs, 100,000 loops each)\n"
     ]
    }
   ],
   "source": [
    "# Multiplication with explicitly expanded operands\n",
    "%timeit a * np.tile(b, reps=(k, m, 1))"
   ]
  },
  {
   "cell_type": "markdown",
   "metadata": {
    "pycharm": {
     "name": "#%% md\n"
    }
   },
   "source": [
    "As you see, not only is the second operation more complex\n",
    "and difficult to read, it also takes approximately three times\n",
    "as long to execute! The reason is that `np.tile()`\n",
    "replicates the data in memory, which is expensive. No copying\n",
    "is done when using broadcasting."
   ]
  },
  {
   "cell_type": "markdown",
   "metadata": {
    "pycharm": {
     "name": "#%% md\n"
    }
   },
   "source": [
    "***\n",
    "\n",
    "## Vectorisation\n",
    "\n",
    "Vectorisation is the concept of applying operations to\n",
    "whole arrays of data instead of every singular element\n",
    "(note that the term also has other meanings in computer science).\n",
    "In Python, as well as languages such as Matlab and R, we use\n",
    "this programming technique to increase performance for two reasons:\n",
    "\n",
    "1.  Looping over elements is slow.\n",
    "2.  Calling a function on every single element is also slow.\n",
    "\n",
    "These performance penalties are less pronounced for compiled\n",
    "languages such as C or Fortran, so we try to move the looping\n",
    "to code written in one of these languages. In particular,\n",
    "since NumPy's core parts are implemented in C, we always\n",
    "want to do looping \"within\" NumPy.\n",
    "\n",
    "For example, consider element-wise addition of two arrays, `a` and `b`:"
   ]
  },
  {
   "cell_type": "code",
   "execution_count": 55,
   "metadata": {
    "pycharm": {
     "name": "#%%\n"
    }
   },
   "outputs": [],
   "source": [
    "import numpy as np\n",
    "\n",
    "# array size\n",
    "N = 100\n",
    "\n",
    "# input arrays\n",
    "a = np.linspace(0.0, 1.0, N)\n",
    "b = np.linspace(1.0, 2.0, N)"
   ]
  },
  {
   "cell_type": "markdown",
   "metadata": {
    "pycharm": {
     "name": "#%% md\n"
    }
   },
   "source": [
    "Benchmarking a non-vectorised loop in pure Python\n",
    "against NumPy's vectorised implementation reveals some\n",
    "striking differences:"
   ]
  },
  {
   "cell_type": "code",
   "execution_count": 56,
   "metadata": {
    "pycharm": {
     "name": "#%%\n"
    }
   },
   "outputs": [
    {
     "name": "stdout",
     "output_type": "stream",
     "text": [
      "20.9 µs ± 728 ns per loop (mean ± std. dev. of 7 runs, 10,000 loops each)\n"
     ]
    }
   ],
   "source": [
    "%%timeit\n",
    "# Compute c = a + b using Python loops\n",
    "c = np.empty(N)         # allocate output array\n",
    "for i in range(N):\n",
    "    c[i] = a[i] + b[i]"
   ]
  },
  {
   "cell_type": "code",
   "execution_count": 57,
   "metadata": {
    "pycharm": {
     "name": "#%%\n"
    }
   },
   "outputs": [
    {
     "name": "stdout",
     "output_type": "stream",
     "text": [
      "380 ns ± 0.789 ns per loop (mean ± std. dev. of 7 runs, 1,000,000 loops each)\n"
     ]
    }
   ],
   "source": [
    "# Compute c = a + b using vectorised addition\n",
    "%timeit c = a + b"
   ]
  },
  {
   "cell_type": "markdown",
   "metadata": {
    "pycharm": {
     "name": "#%% md\n"
    }
   },
   "source": [
    "We see that the vectorised variant is about 100 times faster!\n",
    "What is going on?\n",
    "\n",
    "-   NumPy implements a vectorised operator `+` which accepts\n",
    "    arrays as operands.\n",
    "-   NumPy performs looping over individual elements in C\n",
    "    which is compiled to high-performance machine code.\n",
    "\n",
    "Of course this example is somewhat artificial: you would\n",
    "not have implemented a loop in Python in the first place,\n",
    "you probably just assumed that `+` works with array operands.\n",
    "\n",
    "However, we can easily construct more complex computations\n",
    "which may not be implemented in NumPy but\n",
    "which can use vectorised building blocks to speed up computations.\n",
    "\n",
    "As an example, consider the following function which computes the \n",
    "sum of finite of elements of an array, ignoring infinity and NaNs."
   ]
  },
  {
   "cell_type": "code",
   "execution_count": 58,
   "metadata": {
    "pycharm": {
     "name": "#%%\n"
    }
   },
   "outputs": [],
   "source": [
    "# Compute sum of finite elements in x\n",
    "def finite_sum(x):\n",
    "    # initialise sum\n",
    "    s = 0.0\n",
    "    # loop over array elements\n",
    "    for xi in x:\n",
    "        # Check whether a value is finite\n",
    "        if np.isfinite(xi):\n",
    "            # Add to running sum\n",
    "            s += xi\n",
    "    return s"
   ]
  },
  {
   "cell_type": "markdown",
   "metadata": {},
   "source": [
    "Next, we create a sample array with a few NaNs and infinite values and to \n",
    "test `finite_sum()`. `NaN` stands for \"not a number\" as is used as a\n",
    "special value to flag results of invalid operations such as `0/0`:"
   ]
  },
  {
   "cell_type": "code",
   "execution_count": 59,
   "metadata": {},
   "outputs": [],
   "source": [
    "arr = np.linspace(0.0, 1.0, 100)\n",
    "arr[::3] = np.inf       # assign infinity to every 3rd element\n",
    "arr[::5] = np.nan       # assign NaN to every 5th element"
   ]
  },
  {
   "cell_type": "markdown",
   "metadata": {},
   "source": [
    "Comparing our `finite_sum()` to a vectorised version again shows \n",
    "the performance advantage of vectorised code:"
   ]
  },
  {
   "cell_type": "code",
   "execution_count": 60,
   "metadata": {},
   "outputs": [
    {
     "name": "stdout",
     "output_type": "stream",
     "text": [
      "127 µs ± 350 ns per loop (mean ± std. dev. of 7 runs, 10,000 loops each)\n"
     ]
    }
   ],
   "source": [
    "%timeit finite_sum(arr)"
   ]
  },
  {
   "cell_type": "code",
   "execution_count": 61,
   "metadata": {},
   "outputs": [
    {
     "name": "stdout",
     "output_type": "stream",
     "text": [
      "4.48 µs ± 20.4 ns per loop (mean ± std. dev. of 7 runs, 100,000 loops each)\n"
     ]
    }
   ],
   "source": [
    "%timeit np.sum(arr[np.isfinite(arr)])"
   ]
  },
  {
   "cell_type": "markdown",
   "metadata": {},
   "source": [
    "The vectorised version is approximately 25 times faster, despite the fact that\n",
    "\n",
    "-   NumPy does not implement this specific function; and\n",
    "-   the vectorised implementation creates two temporary arrays: \n",
    "\n",
    "    -   one when calling `np.isfinite()`; and \n",
    "    -   one when indexing `arr` with the boolean array returned by\n",
    "        `np.isfinite()`. As we discuss below, indexing with boolean arrays \n",
    "        always creates a copy!\n",
    "\n",
    "This illustrates that creating vectorised code by combining several vectorised functions\n",
    "also yields considerable speed-ups.\n",
    "\n",
    "As an aside, note that NumPy actually implements `np.nansum()` which drops NaNs,\n",
    "but it does not discard infinite values."
   ]
  },
  {
   "cell_type": "markdown",
   "metadata": {},
   "source": [
    "***\n",
    "\n",
    "## Copies and views (advanced)\n",
    "\n",
    "Recall that assignment in Python does *not* create a copy\n",
    "(unlike in C, Fortran or Matlab):"
   ]
  },
  {
   "cell_type": "code",
   "execution_count": 62,
   "metadata": {
    "pycharm": {
     "name": "#%%\n"
    }
   },
   "outputs": [
    {
     "data": {
      "text/plain": [
       "True"
      ]
     },
     "execution_count": 62,
     "metadata": {},
     "output_type": "execute_result"
    }
   ],
   "source": [
    "a = [0, 0, 0]\n",
    "b = a           # b references the same object as a\n",
    "b[1] = 1        # modify second element of b (and a!)\n",
    "a == b          # a and b are still the same"
   ]
  },
  {
   "cell_type": "markdown",
   "metadata": {},
   "source": [
    "NumPy adds another layer to this type of data sharing:\n",
    "whenever you perform an assignment or indexing operation,\n",
    "NumPy tries hard *not* to copy the underlying data but instead\n",
    "creates a so-called view which points to the same block of memory.\n",
    "It does so for performance reasons (copying is expensive).\n",
    "\n",
    "We can illustrate this using array slicing:"
   ]
  },
  {
   "cell_type": "code",
   "execution_count": 63,
   "metadata": {
    "pycharm": {
     "name": "#%%\n"
    }
   },
   "outputs": [
    {
     "data": {
      "text/plain": [
       "array([0, 1, 2, 3, 4, 5, 6, 7, 8, 9])"
      ]
     },
     "execution_count": 63,
     "metadata": {},
     "output_type": "execute_result"
    }
   ],
   "source": [
    "import numpy as np\n",
    "\n",
    "x = np.arange(10)\n",
    "x"
   ]
  },
  {
   "cell_type": "code",
   "execution_count": 64,
   "metadata": {
    "pycharm": {
     "name": "#%%\n"
    }
   },
   "outputs": [
    {
     "data": {
      "text/plain": [
       "array([3, 4, 5, 6, 7])"
      ]
     },
     "execution_count": 64,
     "metadata": {},
     "output_type": "execute_result"
    }
   ],
   "source": [
    "y = x[3:8]          # Create array that points to elements 4-8 of x\n",
    "y"
   ]
  },
  {
   "cell_type": "markdown",
   "metadata": {},
   "source": [
    "The arrays `x` and `y` are two different Python objects, which we\n",
    "can verify using the built-in `id()` function:"
   ]
  },
  {
   "cell_type": "code",
   "execution_count": 65,
   "metadata": {
    "pycharm": {
     "name": "#%%\n"
    }
   },
   "outputs": [
    {
     "name": "stdout",
     "output_type": "stream",
     "text": [
      "140608339469552\n",
      "140608339470224\n"
     ]
    }
   ],
   "source": [
    "print(id(x))\n",
    "print(id(y))"
   ]
  },
  {
   "cell_type": "code",
   "execution_count": 66,
   "metadata": {
    "pycharm": {
     "name": "#%%\n"
    }
   },
   "outputs": [
    {
     "data": {
      "text/plain": [
       "False"
      ]
     },
     "execution_count": 66,
     "metadata": {},
     "output_type": "execute_result"
    }
   ],
   "source": [
    "id(x) == id(y)"
   ]
  },
  {
   "cell_type": "markdown",
   "metadata": {},
   "source": [
    "And yet, the NumPy implementation makes sure that they reference\n",
    "the same block of memory!\n",
    "\n",
    "We can see this easily by modifying `y`:"
   ]
  },
  {
   "cell_type": "code",
   "execution_count": 67,
   "metadata": {
    "pycharm": {
     "name": "#%%\n"
    }
   },
   "outputs": [
    {
     "data": {
      "text/plain": [
       "array([0, 0, 0, 0, 0])"
      ]
     },
     "execution_count": 67,
     "metadata": {},
     "output_type": "execute_result"
    }
   ],
   "source": [
    "y[:] = 0        # overwrite all elements of y with zeros\n",
    "y"
   ]
  },
  {
   "cell_type": "code",
   "execution_count": 68,
   "metadata": {
    "pycharm": {
     "name": "#%%\n"
    }
   },
   "outputs": [
    {
     "data": {
      "text/plain": [
       "array([0, 1, 2, 0, 0, 0, 0, 0, 8, 9])"
      ]
     },
     "execution_count": 68,
     "metadata": {},
     "output_type": "execute_result"
    }
   ],
   "source": [
    "x               # elements of x that are also referenced by y\n",
    "                # are now also zero!"
   ]
  },
  {
   "cell_type": "markdown",
   "metadata": {},
   "source": [
    "This behaviour is even triggered when `y` references\n",
    "non-adjacent elements in `x`. For example, we can let `y`\n",
    "be a view onto every *second* element in `x`:"
   ]
  },
  {
   "cell_type": "code",
   "execution_count": 69,
   "metadata": {
    "pycharm": {
     "name": "#%%\n"
    }
   },
   "outputs": [
    {
     "data": {
      "text/plain": [
       "array([0, 1, 0, 3, 0, 5, 0, 7, 0, 9])"
      ]
     },
     "execution_count": 69,
     "metadata": {},
     "output_type": "execute_result"
    }
   ],
   "source": [
    "x = np.arange(10)\n",
    "y = x[::2]      # y now points to every second element of x\n",
    "y[:] = 0        # overwrite all elements of y with zeros\n",
    "x               # every second element in x is now zero!"
   ]
  },
  {
   "cell_type": "markdown",
   "metadata": {},
   "source": [
    "As a rule of thumb, NumPy will create a view as opposed to\n",
    "copying data if\n",
    "\n",
    "-   An array is created from another array via slicing\n",
    "    (i.e. indexing using the `start:stop:step` triplet)\n",
    "\n",
    "Conversely, a *copy* is created whenever\n",
    "\n",
    "-   An array is created from another array via boolean\n",
    "    (mask) indexing.\n",
    "-   An array is created from another array via integer\n",
    "    array indexing.\n",
    "\n",
    "Moreover, you can always force NumPy to create a copy by calling\n",
    "`np.copy()`!\n",
    "\n",
    "*Examples:*"
   ]
  },
  {
   "cell_type": "code",
   "execution_count": 70,
   "metadata": {
    "pycharm": {
     "name": "#%%\n"
    }
   },
   "outputs": [
    {
     "data": {
      "text/plain": [
       "array([0, 1, 2, 3, 4, 5, 6, 7, 8, 9])"
      ]
     },
     "execution_count": 70,
     "metadata": {},
     "output_type": "execute_result"
    }
   ],
   "source": [
    "# Copies are created with boolean indexing\n",
    "x = np.arange(10)\n",
    "mask = (x > 4)      # boolean mask\n",
    "y = x[mask]         # create y using boolean indexing\n",
    "y[:] = 0\n",
    "x                   # x is unmodified"
   ]
  },
  {
   "cell_type": "code",
   "execution_count": 71,
   "metadata": {
    "pycharm": {
     "name": "#%%\n"
    }
   },
   "outputs": [
    {
     "data": {
      "text/plain": [
       "array([0, 1, 2, 3, 4, 5, 6, 7, 8, 9])"
      ]
     },
     "execution_count": 71,
     "metadata": {},
     "output_type": "execute_result"
    }
   ],
   "source": [
    "# Copies are created with integer array indexing\n",
    "x = np.arange(10)\n",
    "index = [3, 4, 5]   # List of indices to include in y\n",
    "y = x[index]\n",
    "y[:] = 0\n",
    "x                   # x is unmodified"
   ]
  },
  {
   "cell_type": "code",
   "execution_count": 72,
   "metadata": {
    "pycharm": {
     "name": "#%%\n"
    }
   },
   "outputs": [
    {
     "data": {
      "text/plain": [
       "array([0, 1, 2, 3, 4, 5, 6, 7, 8, 9])"
      ]
     },
     "execution_count": 72,
     "metadata": {},
     "output_type": "execute_result"
    }
   ],
   "source": [
    "# Forced copy with slicing\n",
    "x = np.arange(10)\n",
    "y = np.copy(x[3:8]) # force copy with np.copy()\n",
    "y[:] = 0\n",
    "x                   # x is unmodified"
   ]
  },
  {
   "cell_type": "markdown",
   "metadata": {},
   "source": [
    "As an alternative to `np.copy()`, we can directly call the `copy()`\n",
    "method of an array:"
   ]
  },
  {
   "cell_type": "code",
   "execution_count": 73,
   "metadata": {
    "pycharm": {
     "name": "#%%\n"
    }
   },
   "outputs": [],
   "source": [
    "y = x[3:8].copy()\n"
   ]
  },
  {
   "cell_type": "markdown",
   "metadata": {
    "pycharm": {
     "name": "#%% md\n"
    }
   },
   "source": [
    "***\n",
    "## NumPy data types (advanced)\n",
    "\n",
    "### Default data types\n",
    "We have already touched upon the numerical data types\n",
    "used by NumPy. If we do not explicitly request a\n",
    "data type using the `dtype` keyword argument, NumPy\n",
    "by default behaves as follows:\n",
    "\n",
    "1.  The default data type for most array creation routines\n",
    "    which create arrays of a given shape or size, such as\n",
    "    `np.empty()`, `np.ones()` and `np.zeros()`,\n",
    "    is a 64-bit floating-point number (`np.float64`).\n",
    "2.  Array creation routines that accept numerical input\n",
    "    data will use the data type of this input data\n",
    "    to determine the array data type.\n",
    "\n",
    "    Examples of such functions are `np.arange()` and\n",
    "    `np.array()`.\n",
    "3.  Arrays that are implicitly created as a result of an\n",
    "    operation (addition, etc.) are assigned the most suitable\n",
    "    type to represent the result.\n",
    "\n",
    "    For example, when adding a floating-point and an\n",
    "    integer array, the result will be a floating-point array.\n",
    "\n",
    "*Examples:*\n",
    "\n",
    "*Case 1:* default data type is `np.float64`:"
   ]
  },
  {
   "cell_type": "code",
   "execution_count": 74,
   "metadata": {
    "pycharm": {
     "name": "#%%\n"
    }
   },
   "outputs": [
    {
     "data": {
      "text/plain": [
       "dtype('float64')"
      ]
     },
     "execution_count": 74,
     "metadata": {},
     "output_type": "execute_result"
    }
   ],
   "source": [
    "import numpy as np\n",
    "\n",
    "x = np.ones(1)      # length-1 vector of ones\n",
    "x.dtype             # default type: float64"
   ]
  },
  {
   "cell_type": "markdown",
   "metadata": {},
   "source": [
    "*Case 2:* data type depends on input data:"
   ]
  },
  {
   "cell_type": "code",
   "execution_count": 75,
   "metadata": {
    "pycharm": {
     "name": "#%%\n"
    }
   },
   "outputs": [
    {
     "data": {
      "text/plain": [
       "dtype('int64')"
      ]
     },
     "execution_count": 75,
     "metadata": {},
     "output_type": "execute_result"
    }
   ],
   "source": [
    "# Argument is an integer\n",
    "x = np.arange(5)\n",
    "x.dtype             # data type is np.int64"
   ]
  },
  {
   "cell_type": "code",
   "execution_count": 76,
   "metadata": {
    "pycharm": {
     "name": "#%%\n"
    }
   },
   "outputs": [
    {
     "data": {
      "text/plain": [
       "dtype('float64')"
      ]
     },
     "execution_count": 76,
     "metadata": {},
     "output_type": "execute_result"
    }
   ],
   "source": [
    "# Argument is a float\n",
    "x = np.arange(5.0)\n",
    "x.dtype             # data type is np.float64"
   ]
  },
  {
   "cell_type": "markdown",
   "metadata": {},
   "source": [
    "*Case 3:* data type determined to accommodate result"
   ]
  },
  {
   "cell_type": "code",
   "execution_count": 77,
   "metadata": {
    "pycharm": {
     "name": "#%%\n"
    }
   },
   "outputs": [
    {
     "name": "stdout",
     "output_type": "stream",
     "text": [
      "[3 3 3]\n"
     ]
    },
    {
     "data": {
      "text/plain": [
       "dtype('int64')"
      ]
     },
     "execution_count": 77,
     "metadata": {},
     "output_type": "execute_result"
    }
   ],
   "source": [
    "# Add two integer arrays\n",
    "arr1 = np.arange(3)\n",
    "arr2 = np.arange(3, 0, -1)      # creates [3, 2, 1]\n",
    "result = arr1 + arr2\n",
    "print(result)\n",
    "result.dtype                    # data type is np.int64"
   ]
  },
  {
   "cell_type": "code",
   "execution_count": 78,
   "metadata": {
    "pycharm": {
     "name": "#%%\n"
    }
   },
   "outputs": [
    {
     "name": "stdout",
     "output_type": "stream",
     "text": [
      "[3. 3. 3.]\n"
     ]
    },
    {
     "data": {
      "text/plain": [
       "dtype('float64')"
      ]
     },
     "execution_count": 78,
     "metadata": {},
     "output_type": "execute_result"
    }
   ],
   "source": [
    "# Add integer to floating-point array\n",
    "arr1 = np.arange(3)\n",
    "arr2 = np.arange(3.0, 0.0, -1.0)    # creates [3.0, 2.0, 1.0]\n",
    "result = arr1 + arr2\n",
    "print(result)\n",
    "result.dtype                        # data type is np.float64"
   ]
  },
  {
   "cell_type": "markdown",
   "metadata": {
    "pycharm": {
     "name": "#%% md\n"
    }
   },
   "source": [
    "Even though the resulting array is `[3.0, 3.0, 3.0]`\n",
    "and can thus be represented as integers without loss of data,\n",
    "NumPy only takes into account that one of the operands\n",
    "is floating-point, and thus the result has to be\n",
    "of floating-point type!"
   ]
  },
  {
   "cell_type": "markdown",
   "metadata": {},
   "source": [
    "### Explicit data types\n",
    "\n",
    "We can almost always explicitly request an array to be\n",
    "of a particular data type by passing the `dtype` keyword argument.\n",
    "The most common types are:\n",
    "\n",
    "- `np.float64`: a 64-bit floating-point number, also called\n",
    "    *double precision* in other languages.\n",
    "\n",
    "    This is the most commonly used floating-point data type. It can\n",
    "    represent numbers with up to 16 decimal digits, and covers\n",
    "    a range of approximately $\\pm 10^{308}$.\n",
    "\n",
    "    Note that `dtype=float` is a synonym for `dtype=np.float64` on most\n",
    "    platforms you are likely to encounter, and we'll be using the shorter variant.\n",
    "\n",
    "- `np.int64`: a 64-bit integer which can represent integer\n",
    "    values on the interval of (approximately) $\\pm10^{19}$.\n",
    "\n",
    "    Unlike floating-point, the integer representation\n",
    "    is *exact*, but covers a much smaller range (and, obviously,\n",
    "    no fractional numbers)\n",
    "\n",
    "    Note that `dtype=int` is a synonym for `dtype=np.int64` on most platforms\n",
    "    you are likely to encounter, and we'll be using\n",
    "    the shorter variant.\n",
    "\n",
    "- `np.float32`, `np.float16`: single-precision and half-precision\n",
    "    floating-point numbers. These occupy only 32 and 16 bits\n",
    "    of memory, respectively.\n",
    "\n",
    "    They thus trade off storage requirements for a loss of\n",
    "    precision and range.\n",
    "\n",
    "- `np.int32`, `np.int16`, `np.int8` represent integers\n",
    "    using 32, 16 and 8 bits, respectively.\n",
    "\n",
    "    They require less memory, but can represent only a smaller\n",
    "    range of integers. For example, `np.int8` can only\n",
    "    store integer values from -128 to 127.\n",
    "\n",
    "- NumPy also supports complex numerical types to represent\n",
    "    imaginary numbers. We will not be using those in this tutorial.\n",
    "\n",
    "You can find a complete list of NumPy data\n",
    "types [here](https://numpy.org/doc/stable/user/basics.types.html)\n",
    "and [here](https://numpy.org/doc/stable/reference/arrays.scalars.html#sized-aliases)."
   ]
  },
  {
   "cell_type": "markdown",
   "metadata": {},
   "source": [
    "Would we ever want to use anything other than the default\n",
    "data types, which in most cases are either `np.float64`\n",
    "and `np.int64`? These, after all, support the largest range\n",
    "and highest precision. This is true in general, but there are\n",
    "special cases where other data types need to be used:\n",
    "\n",
    "1.  *Storage requirements:* if you work with large amounts of\n",
    "    data, for example arrays with many dimensions, you can run\n",
    "    out of memory or storage space (when saving results to files).\n",
    "\n",
    "    In this case, you can store data as `np.float32` instead\n",
    "    of `np.float64`, which halves the storage requirement.\n",
    "\n",
    "    Similarly, if you know that your integer data only takes\n",
    "    on values between -128 and 127, you can store them\n",
    "    as `np.int8` which consumes only 1/8 of the space\n",
    "    compared to `np.int64`!\n",
    "\n",
    "2.  *Performance:* Some tasks simply don't require high\n",
    "    precision or range. For example, some machine learning\n",
    "    tasks can be performed using only 8-bit integers,\n",
    "    and companies like Google have developed dedicated\n",
    "    processors to considerably speed up workloads using 8-bit integers.\n",
    "\n",
    "    Even if you are not using any specialised CPUs or GPUs,\n",
    "    data has to be transferred from memory to the processor\n",
    "    and this is a major performance bottleneck. The less data needs to\n",
    "    be transferred, the better!\n",
    "\n",
    "    In general, this is nothing you need to worry about at this\n",
    "    point, but might become relevant once you start writing\n",
    "    complex high-performance code."
   ]
  },
  {
   "cell_type": "markdown",
   "metadata": {},
   "source": [
    "*Examples:*"
   ]
  },
  {
   "cell_type": "code",
   "execution_count": 79,
   "metadata": {
    "pycharm": {
     "name": "#%%\n"
    }
   },
   "outputs": [
    {
     "data": {
      "text/plain": [
       "array([1.], dtype=float16)"
      ]
     },
     "execution_count": 79,
     "metadata": {},
     "output_type": "execute_result"
    }
   ],
   "source": [
    "import numpy as np\n",
    "\n",
    "# Explicitly specify data type\n",
    "x = np.ones(1, dtype=np.float16)\n",
    "x       # prints np.float16"
   ]
  },
  {
   "cell_type": "markdown",
   "metadata": {},
   "source": [
    "We can use `dtype` to override the data type inferred from\n",
    "input data:"
   ]
  },
  {
   "cell_type": "code",
   "execution_count": 80,
   "metadata": {
    "pycharm": {
     "name": "#%%\n"
    }
   },
   "outputs": [
    {
     "data": {
      "text/plain": [
       "dtype('int64')"
      ]
     },
     "execution_count": 80,
     "metadata": {},
     "output_type": "execute_result"
    }
   ],
   "source": [
    "lst = [1, 2, 3]\n",
    "x = np.array(lst)       # given list of integers, creates integer array\n",
    "x.dtype                 # prints np.int64"
   ]
  },
  {
   "cell_type": "code",
   "execution_count": 81,
   "metadata": {
    "pycharm": {
     "name": "#%%\n"
    }
   },
   "outputs": [
    {
     "data": {
      "text/plain": [
       "dtype('float64')"
      ]
     },
     "execution_count": 81,
     "metadata": {},
     "output_type": "execute_result"
    }
   ],
   "source": [
    "# override inferred data type:\n",
    "# created floating-point array even if integers were given\n",
    "x = np.array(lst, dtype=np.float64)\n",
    "x.dtype                 # prints np.float64"
   ]
  },
  {
   "cell_type": "code",
   "execution_count": 82,
   "metadata": {
    "pycharm": {
     "name": "#%%\n"
    }
   },
   "outputs": [
    {
     "name": "stdout",
     "output_type": "stream",
     "text": [
      "[1 4 6]\n"
     ]
    },
    {
     "data": {
      "text/plain": [
       "dtype('int64')"
      ]
     },
     "execution_count": 82,
     "metadata": {},
     "output_type": "execute_result"
    }
   ],
   "source": [
    "# override inferred data type:\n",
    "# created integer array even if floats were given,\n",
    "# thus truncating input data!\n",
    "lst = [1.234, 4.567, 6.789]\n",
    "x = np.array(lst, dtype=int)\n",
    "print(x)                # prints [1, 4, 6]\n",
    "x.dtype                 # prints np.int64\n"
   ]
  },
  {
   "cell_type": "markdown",
   "metadata": {},
   "source": [
    "***\n",
    "\n",
    "## Array storage order (advanced)\n",
    "Computer memory is linear, so a multi-dimensional\n",
    "array is mapped to a one-dimensional block in memory.\n",
    "This can be done in two ways:\n",
    "\n",
    "1.  NumPy uses the so-called *row-major order* (also called\n",
    "    *C order*, because its the same as in C programming language)\n",
    "2.  This is exactly the opposite of Matlab, which uses\n",
    "    *column-major order* (also called *F order*, because its the same\n",
    "    as in the Fortran programming language)"
   ]
  },
  {
   "cell_type": "code",
   "execution_count": 83,
   "metadata": {
    "pycharm": {
     "name": "#%%\n"
    }
   },
   "outputs": [
    {
     "data": {
      "text/plain": [
       "array([[0, 1, 2],\n",
       "       [3, 4, 5]])"
      ]
     },
     "execution_count": 83,
     "metadata": {},
     "output_type": "execute_result"
    }
   ],
   "source": [
    "import numpy as np\n",
    "\n",
    "mat = np.arange(6).reshape((2,3))\n",
    "mat"
   ]
  },
  {
   "cell_type": "code",
   "execution_count": 84,
   "metadata": {
    "pycharm": {
     "name": "#%%\n"
    }
   },
   "outputs": [
    {
     "data": {
      "text/plain": [
       "array([0, 1, 2, 3, 4, 5])"
      ]
     },
     "execution_count": 84,
     "metadata": {},
     "output_type": "execute_result"
    }
   ],
   "source": [
    "# The matrix mat is stored in memory like this\n",
    "mat.reshape(-1, order='C')"
   ]
  },
  {
   "cell_type": "code",
   "execution_count": 85,
   "metadata": {
    "pycharm": {
     "name": "#%%\n"
    }
   },
   "outputs": [
    {
     "data": {
      "text/plain": [
       "array([0, 3, 1, 4, 2, 5])"
      ]
     },
     "execution_count": 85,
     "metadata": {},
     "output_type": "execute_result"
    }
   ],
   "source": [
    "# ... and NOT like this\n",
    "mat.reshape(-1, order='F')      # use order='F' to convert to column-major storage order"
   ]
  },
  {
   "cell_type": "markdown",
   "metadata": {},
   "source": [
    "While this is not particularly important initially,\n",
    "as an advanced user you should remember that you\n",
    "usually want to avoid performing operations on non-contiguous blocks of memory.\n",
    "This can have devastating effects on performance!"
   ]
  },
  {
   "cell_type": "code",
   "execution_count": 86,
   "metadata": {
    "pycharm": {
     "name": "#%%\n"
    }
   },
   "outputs": [
    {
     "data": {
      "text/plain": [
       "array([3, 4, 5])"
      ]
     },
     "execution_count": 86,
     "metadata": {},
     "output_type": "execute_result"
    }
   ],
   "source": [
    "# Avoid operations on non-contiguous array sections such as\n",
    "mat[:, 1]\n",
    "\n",
    "# Contiguous array sections are fine\n",
    "mat[1]\n"
   ]
  },
  {
   "cell_type": "markdown",
   "metadata": {
    "pycharm": {
     "name": "#%% md\n"
    }
   },
   "source": [
    "***\n",
    "## Exercises"
   ]
  },
  {
   "cell_type": "markdown",
   "metadata": {},
   "source": [
    "### Exercise 1: Broadcasting\n",
    "\n",
    "Let `m = 2`, `n = 3` and `k = 4`. Create an array `a` with shape `(m,n)` like this:\n",
    "```\n",
    "a = np.arange(m*n).reshape((m,n))\n",
    "```\n",
    "\n",
    "Perform the following tasks:\n",
    "\n",
    "1.  Define the vector `b = np.arange(n) * 10` and use broadcasting to compute `c = a * b`\n",
    "    such that `c` has shape `(m,n)`.\n",
    "2.  Define the vector `b = np.arange(m) * 10` and use broadcasting to compute `c = a * b`\n",
    "    such that `c` has shape `(m,n)`.\n",
    "3.  Define the 3-dimensional array `b`,\n",
    "\n",
    "    ```\n",
    "    b = np.arange(m*n*k).reshape((m,k,n)) * 10\n",
    "    ```\n",
    "    \n",
    "    and use broadcasting to compute `c = a * b` such that `c` has shape `(m,k,n)`."
   ]
  },
  {
   "cell_type": "markdown",
   "metadata": {},
   "source": [
    "### Exercise 2: Boolean indexing\n",
    "\n",
    "Let `m = 8` and `n = 9`. Create an array `a` with shape `(m,n)` as follows:\n",
    "```\n",
    "a = np.arange(m*n).reshape((m,n)) % 7\n",
    "```\n",
    "The `%` is the modulo operator which returns the remainder of a division of one\n",
    "number by another (in this case the division by 7). The resulting array `a` will\n",
    "therefore contain integers between 0 and 6.\n",
    "\n",
    "1.  Create a boolean array called `mask` which has the same shape as `a` and \n",
    "    is `True` whenever an element in `a` is between 1 and 4 (inclusive).\n",
    "    \n",
    "    *Hint:* The character `&` works as a logical `and` operator for NumPy arrays.\n",
    "    Alternatively, you can use the function `np.logical_and()`.\n",
    "2.  Compute the number of elements in `a` that satisfy this criterion.\n",
    "3.  Compute the average of these elements."
   ]
  },
  {
   "cell_type": "markdown",
   "metadata": {},
   "source": [
    "### Exercise 3: Diagonal matrices\n",
    "\n",
    "In this exercise, we'll create diagonal matrices using integer array indexing.\n",
    "\n",
    "1.  Create a square matrix of zeros with shape `(n,n)` for `n = 5` and `dtype = int`\n",
    "    as its data type:\n",
    "    ```\n",
    "    a = np.zeros((n,n), dtype=int)\n",
    "    ```\n",
    "    Use integer array\n",
    "    indexing to modify its diagonal to construct the following matrix, where \n",
    "    omitted elements are zero:\n",
    "    $$\n",
    "    \\begin{bmatrix}\n",
    "    1 &   &   &   & \\\\\n",
    "      & 2 &   &   & \\\\\n",
    "      &   & 3 &   & \\\\\n",
    "      &   &   & 4 & \\\\\n",
    "      &   &   &   & 5     \n",
    "    \\end{bmatrix}\n",
    "    $$\n",
    "    \n",
    "2.  Repeat the exercise, but now use a non-squared matrix with shape `(4,5)`, and \n",
    "    insert `1,2,...` as the values of the first diagonal above the \n",
    "    main diagonal:\n",
    "    $$\n",
    "    \\begin{bmatrix}\n",
    "     0 & 1 &   &   &   \\\\\n",
    "     &   & 2 &   &   \\\\\n",
    "     &   &   & 3 &   \\\\\n",
    "     &   &   &   & 4 \\\\\n",
    "    \\end{bmatrix}\n",
    "    $$\n",
    "\n",
    "3.  Repeat the exercise, but now use a matrix with shape `(6,5)`. Adapt your code\n",
    "    so that it can handle matrix shapes `(m,n)` for cases `n > m`, `n = m` and `n < m`:\n",
    "    $$\n",
    "    \\begin{bmatrix}\n",
    "     0 & 1 &   &   &   \\\\\n",
    "     &   & 2 &   &   \\\\\n",
    "     &   &   & 3 &   \\\\\n",
    "     &   &   &   & 4 \\\\\n",
    "     &&&& \\\\\n",
    "     &&&&\n",
    "    \\end{bmatrix}\n",
    "    $$"
   ]
  },
  {
   "cell_type": "markdown",
   "metadata": {},
   "source": [
    "### Exercise 4: Triangular matrices\n",
    "\n",
    "Create a matrix of zeros with shape `(m,n)`, with `m = 4`, `n = 5`, and `dtype = int`:\n",
    "```\n",
    "a = np.zeros((m,n), dtype=int)\n",
    "```\n",
    "Transform it to an upper-triangular matrix so that it looks like this:\n",
    "$$\n",
    "\\begin{bmatrix}\n",
    "1 & 2 & 3 & 4 & 5 \\\\\n",
    " & 6 & 7 & 8 & 9 \\\\\n",
    "  & & 10 & 11 & 12 \\\\\n",
    "  & & & 13 & 14\n",
    "\\end{bmatrix}\n",
    "$$\n",
    "where the omitted elements are zeros. Do this without using loops.\n",
    "\n",
    "*Hint:* For any upper-diagonal element at position $(i,j)$ it holds that $j \\geq i$.\n",
    "Create arrays of row and column indices and use these to build a mask with shape \n",
    "`(m,n)` which selects all upper-triangular elements. Exploit the fact that logical array \n",
    "operations support broadcasting!\n",
    "\n",
    "*Challenge:* Modify your code to construct the following upper-triangular matrix instead:\n",
    "$$\n",
    "\\begin{bmatrix}\n",
    "1 & 2 & 4 & 7 & 11 \\\\\n",
    "  & 3 & 5 & 8 & 12 \\\\\n",
    "  &   & 6 & 9 & 13 \\\\\n",
    "  &   &   & 10 & 14 \\\\\n",
    "\\end{bmatrix}\n",
    "$$\n",
    "\n",
    "*Hint:* One solution is to build a lower-triangular matrix and transpose it!"
   ]
  },
  {
   "cell_type": "markdown",
   "metadata": {},
   "source": [
    "### Exercise 5: Row averages (ignoring NaNs)\n",
    "\n",
    "Construct a matrix with shape `(m,n)` where `m = 5` and `n = 8` as follows:\n",
    "```\n",
    "a = np.arange(m*n, dtype=float).reshape((m, n))\n",
    "mask = (a % 5) == 0\n",
    "a[mask] = np.nan\n",
    "```\n",
    "Lines two and three set all elements of `a` which are divisible by 5 without remainder\n",
    "to `np.nan`, the floating-point value signalling that something is \"not a number\" (NaN).\n",
    "\n",
    "Write code to perform the following tasks:\n",
    "\n",
    "1.  Define a function `rowmeans(x)` which takes a matrix `x` as an argument and \n",
    "    returns a vector of row averages of elements in `x` which are not NaN. \n",
    "    The return vector should therefore have the same length as the number of rows in `x`.\n",
    "\n",
    "    *Hint:* Use `np.isnan()` to check whether something is NaN.\n",
    "2.  Compare your results to the output of `np.nanmean()` with argument `axis = 1`.\n",
    "3.  Use the `%timeit` magic to benchmark the run time of your routine against\n",
    "    the (vectorised) `np.nanmean()`."
   ]
  },
  {
   "cell_type": "markdown",
   "metadata": {},
   "source": [
    "### Exercise 6: Locating maxima (advanced)\n",
    "\n",
    "Consider the following quadratic polynomial in $x$ \n",
    "which is parametrised by the positive real numbers $a$, $b$ and $c$:\n",
    "$$\n",
    "p(x;a,b,c) = -a (x-b)^2 + c\n",
    "$$\n",
    "\n",
    "Imagine that we have a set of `m = 10` such functions, each with different values\n",
    "for $a$, $b$ and $c$. These parameters take on the following values:\n",
    "```\n",
    "m = 10\n",
    "\n",
    "a = np.linspace(0.4, 2.0, m)\n",
    "b = np.linspace(-1.0, 0.0, m)\n",
    "c = np.linspace(0.0, 3.0, m)\n",
    "```\n",
    "The parameters for the first polynomial are thus `a[0]`, `b[0]` and `c[0]`, and similarly\n",
    "for the remaining polynomials.\n",
    "\n",
    "Perform the following tasks:\n",
    "\n",
    "1.  Evaluate each polynomial on an equidistant grid of `n = 50` points on the \n",
    "    interval `[-2.0, 2.0]`. Store the results as an $m \\times n$ matrix called `pvalues`.\n",
    "2.  Create a (single) graph which plots all `m` polynomials.\n",
    "3.  Write a function `find_max(pvalues)` which accepts this matrix\n",
    "    as an argument and returns an integer array of length `m`. Each element `i`\n",
    "    should contain the location of the maximum for the `i`-th row of `pvalues`.\n",
    "4.  Add the maxima you found to the graph you created: each maximum \n",
    "    should be marked as a black dot at the correct $(x,y)$ coordinates.\n",
    "5.  Use vectorised code to perform the same task as the function `find_max()`:\n",
    "    1.  You actually don't have to do anything here since NumPy implements\n",
    "        the function `np.argmax()` which does what you need (just correctly\n",
    "        specify the `axis` argument.)\n",
    "    2.  Use the `%timeit` magic to compare the runtime of your `find_max()`\n",
    "        to NumPy's `np.argmax()`."
   ]
  },
  {
   "cell_type": "markdown",
   "metadata": {
    "pycharm": {
     "name": "#%% md\n"
    }
   },
   "source": [
    "***\n",
    "## Solutions"
   ]
  },
  {
   "cell_type": "markdown",
   "metadata": {},
   "source": [
    "### Solution for exercise 1\n",
    "\n",
    "To solve this exercise, we need to make sure that the broadcasting rules\n",
    "can be applied by inserting an additional axis in either `a` or `b` as \n",
    "needed."
   ]
  },
  {
   "cell_type": "code",
   "execution_count": 122,
   "metadata": {},
   "outputs": [
    {
     "data": {
      "text/plain": [
       "array([[0, 1, 2],\n",
       "       [3, 4, 5]])"
      ]
     },
     "execution_count": 122,
     "metadata": {},
     "output_type": "execute_result"
    }
   ],
   "source": [
    "# Define problem dimensions\n",
    "m = 2\n",
    "n = 3\n",
    "k = 4\n",
    "\n",
    "# Create array a\n",
    "a = np.arange(m*n).reshape((m, n))\n",
    "a"
   ]
  },
  {
   "cell_type": "code",
   "execution_count": 123,
   "metadata": {},
   "outputs": [
    {
     "data": {
      "text/plain": [
       "array([[  0,  10,  40],\n",
       "       [  0,  40, 100]])"
      ]
     },
     "execution_count": 123,
     "metadata": {},
     "output_type": "execute_result"
    }
   ],
   "source": [
    "# Task 1\n",
    "b = np.arange(n) * 10\n",
    "# Broadcasting works as is, axis will be prepended to b\n",
    "c = a * b\n",
    "\n",
    "# If we really want, we can prepend new axis manually:\n",
    "c = a * b[None]\n",
    "c"
   ]
  },
  {
   "cell_type": "code",
   "execution_count": 124,
   "metadata": {},
   "outputs": [
    {
     "data": {
      "text/plain": [
       "array([[ 0,  0,  0],\n",
       "       [30, 40, 50]])"
      ]
     },
     "execution_count": 124,
     "metadata": {},
     "output_type": "execute_result"
    }
   ],
   "source": [
    "# Task 2\n",
    "b = np.arange(m) * 10\n",
    "# Manually append new axis to b to make broadcasting work\n",
    "c = a * b[:,None]\n",
    "c"
   ]
  },
  {
   "cell_type": "code",
   "execution_count": 125,
   "metadata": {},
   "outputs": [
    {
     "data": {
      "text/plain": [
       "array([[[  0,  10,  20],\n",
       "        [ 30,  40,  50],\n",
       "        [ 60,  70,  80],\n",
       "        [ 90, 100, 110]],\n",
       "\n",
       "       [[120, 130, 140],\n",
       "        [150, 160, 170],\n",
       "        [180, 190, 200],\n",
       "        [210, 220, 230]]])"
      ]
     },
     "execution_count": 125,
     "metadata": {},
     "output_type": "execute_result"
    }
   ],
   "source": [
    "# Task 3\n",
    "b = np.arange(n*m*k).reshape((m, k, n)) * 10\n",
    "b"
   ]
  },
  {
   "cell_type": "code",
   "execution_count": 126,
   "metadata": {},
   "outputs": [
    {
     "data": {
      "text/plain": [
       "array([[[   0,   10,   40],\n",
       "        [   0,   40,  100],\n",
       "        [   0,   70,  160],\n",
       "        [   0,  100,  220]],\n",
       "\n",
       "       [[ 360,  520,  700],\n",
       "        [ 450,  640,  850],\n",
       "        [ 540,  760, 1000],\n",
       "        [ 630,  880, 1150]]])"
      ]
     },
     "execution_count": 126,
     "metadata": {},
     "output_type": "execute_result"
    }
   ],
   "source": [
    "# Need to insert new axis in between existing axes in a\n",
    "c = a[:,None] * b\n",
    "c"
   ]
  },
  {
   "cell_type": "markdown",
   "metadata": {},
   "source": [
    "### Solution for exercise 2"
   ]
  },
  {
   "cell_type": "code",
   "execution_count": 127,
   "metadata": {},
   "outputs": [
    {
     "data": {
      "text/plain": [
       "array([[False,  True,  True,  True,  True, False, False, False,  True],\n",
       "       [ True,  True,  True, False, False, False,  True,  True,  True],\n",
       "       [ True, False, False, False,  True,  True,  True,  True, False],\n",
       "       [False, False,  True,  True,  True,  True, False, False, False],\n",
       "       [ True,  True,  True,  True, False, False, False,  True,  True],\n",
       "       [ True,  True, False, False, False,  True,  True,  True,  True],\n",
       "       [False, False, False,  True,  True,  True,  True, False, False],\n",
       "       [False,  True,  True,  True,  True, False, False, False,  True]])"
      ]
     },
     "execution_count": 127,
     "metadata": {},
     "output_type": "execute_result"
    }
   ],
   "source": [
    "import numpy as np\n",
    "\n",
    "# Array dimensions\n",
    "m = 8\n",
    "n = 9\n",
    "\n",
    "# Create array a\n",
    "a = np.arange(m*n).reshape((m,n)) % 7\n",
    "\n",
    "# Create mask that selects all elements \n",
    "# between 1 and 4\n",
    "mask = (a > 0) & (a < 5)    # same as np.logical_and(a > 0, a < 5)\n",
    "mask"
   ]
  },
  {
   "cell_type": "markdown",
   "metadata": {},
   "source": [
    "We use `&` to obtain the set of elements for which the conditions `a > 0`\n",
    "and `a < 5` are `True` at the same time.\n",
    "\n",
    "Boolean arrays only contain values `False` and `True`. However, arithmetic\n",
    "operations automatically interpret `False` as 0 and `True` as 1, so\n",
    "we can simply sum over the array to obtain the number of elements that are `True`:"
   ]
  },
  {
   "cell_type": "code",
   "execution_count": 128,
   "metadata": {},
   "outputs": [
    {
     "data": {
      "text/plain": [
       "41"
      ]
     },
     "execution_count": 128,
     "metadata": {},
     "output_type": "execute_result"
    }
   ],
   "source": [
    "# Count number of elements\n",
    "nmask = np.sum(mask)\n",
    "nmask"
   ]
  },
  {
   "cell_type": "markdown",
   "metadata": {},
   "source": [
    "Finally, we compute the average as follows:"
   ]
  },
  {
   "cell_type": "code",
   "execution_count": 129,
   "metadata": {},
   "outputs": [
    {
     "data": {
      "text/plain": [
       "2.4634146341463414"
      ]
     },
     "execution_count": 129,
     "metadata": {},
     "output_type": "execute_result"
    }
   ],
   "source": [
    "# Compute average of elements selected by mask\n",
    "# We do this by summing over selected elements and\n",
    "# dividing by the number of such elements.\n",
    "mean = np.sum(a[mask]) / nmask\n",
    "mean"
   ]
  },
  {
   "cell_type": "markdown",
   "metadata": {},
   "source": [
    "### Solution for exercise 3"
   ]
  },
  {
   "cell_type": "code",
   "execution_count": 130,
   "metadata": {},
   "outputs": [
    {
     "data": {
      "text/plain": [
       "array([[1, 0, 0, 0, 0],\n",
       "       [0, 2, 0, 0, 0],\n",
       "       [0, 0, 3, 0, 0],\n",
       "       [0, 0, 0, 4, 0],\n",
       "       [0, 0, 0, 0, 5]])"
      ]
     },
     "execution_count": 130,
     "metadata": {},
     "output_type": "execute_result"
    }
   ],
   "source": [
    "import numpy as np \n",
    "\n",
    "# Square matrix with 1,2,...n diagonal\n",
    "\n",
    "n = 5\n",
    "# Create matrix of zeros\n",
    "mat = np.zeros((n,n), dtype=int)\n",
    "\n",
    "# Create row and column indices for the diagonal elements\n",
    "irow = np.arange(n)\n",
    "icol = irow             # column indices are the same since \n",
    "                        # this is the diagonal of a square matrix\n",
    "\n",
    "# Vector to insert as diagonal\n",
    "diag = np.arange(1, n+1)\n",
    "\n",
    "# Set new diagonal\n",
    "mat[irow, icol] = diag\n",
    "\n",
    "mat         # print result"
   ]
  },
  {
   "cell_type": "markdown",
   "metadata": {},
   "source": [
    "You can achieve the same result with NumPy's `np.diag()` function:"
   ]
  },
  {
   "cell_type": "code",
   "execution_count": 131,
   "metadata": {},
   "outputs": [
    {
     "data": {
      "text/plain": [
       "array([[1, 0, 0, 0, 0],\n",
       "       [0, 2, 0, 0, 0],\n",
       "       [0, 0, 3, 0, 0],\n",
       "       [0, 0, 0, 4, 0],\n",
       "       [0, 0, 0, 0, 5]])"
      ]
     },
     "execution_count": 131,
     "metadata": {},
     "output_type": "execute_result"
    }
   ],
   "source": [
    "np.diag(np.arange(n) + 1)"
   ]
  },
  {
   "cell_type": "markdown",
   "metadata": {},
   "source": [
    "For task 2, we need to specify row and column index arrays that are no longer \n",
    "identical:"
   ]
  },
  {
   "cell_type": "code",
   "execution_count": 132,
   "metadata": {},
   "outputs": [
    {
     "data": {
      "text/plain": [
       "array([[0, 1, 0, 0, 0],\n",
       "       [0, 0, 2, 0, 0],\n",
       "       [0, 0, 0, 3, 0],\n",
       "       [0, 0, 0, 0, 4]])"
      ]
     },
     "execution_count": 132,
     "metadata": {},
     "output_type": "execute_result"
    }
   ],
   "source": [
    "# Task 2: set upper diagonal elements of non-square matrix\n",
    "import numpy as np\n",
    "\n",
    "m = 4\n",
    "n = 5\n",
    "\n",
    "# Create matrix of zeros\n",
    "mat = np.zeros((m, n), dtype=int)\n",
    "\n",
    "# Row and column indices\n",
    "irow = np.arange(m)\n",
    "icol = np.arange(n-1) + 1\n",
    "\n",
    "diag = np.arange(m) + 1\n",
    "\n",
    "# Set new diagonal\n",
    "mat[irow, icol] = diag\n",
    "\n",
    "mat                 # print result"
   ]
  },
  {
   "cell_type": "markdown",
   "metadata": {},
   "source": [
    "We now create a more generic version of the code above that can handle the cases\n",
    "`m < n`, `m = n` and `m > n`. The above code will fail for `m > n`."
   ]
  },
  {
   "cell_type": "code",
   "execution_count": 133,
   "metadata": {},
   "outputs": [
    {
     "data": {
      "text/plain": [
       "array([[0, 1, 0, 0, 0],\n",
       "       [0, 0, 2, 0, 0],\n",
       "       [0, 0, 0, 3, 0],\n",
       "       [0, 0, 0, 0, 4],\n",
       "       [0, 0, 0, 0, 0],\n",
       "       [0, 0, 0, 0, 0]])"
      ]
     },
     "execution_count": 133,
     "metadata": {},
     "output_type": "execute_result"
    }
   ],
   "source": [
    "import numpy as np\n",
    "\n",
    "m = 6\n",
    "n = 5\n",
    "\n",
    "# Create matrix of zeros\n",
    "mat = np.zeros((m, n), dtype=int)\n",
    "\n",
    "# Row indices: this is the minimum of the number of rows,\n",
    "#       and the number of cols-1, since the first col\n",
    "#       is newer included.\n",
    "irow = np.arange(min(m,n-1))\n",
    "\n",
    "# Column indices: array needs to have same length as\n",
    "# row indices. First column is omitted so we \n",
    "# need to shift all indices by 1.\n",
    "icol = np.arange(len(irow)) + 1\n",
    "\n",
    "# Number of elements to insert needs to be identical\n",
    "# to length of array index.\n",
    "diag = np.arange(len(irow)) + 1\n",
    "\n",
    "# Set new diagonal\n",
    "mat[irow, icol] = diag\n",
    "\n",
    "mat                 # print result"
   ]
  },
  {
   "cell_type": "markdown",
   "metadata": {},
   "source": [
    "For the special case of `m = n`, NumPy's `np.diag()` can also insert values at diagonals\n",
    "other than the main diagonal. For example, for `m = n = 5`, we can create a similar matrix as follows:"
   ]
  },
  {
   "cell_type": "code",
   "execution_count": 134,
   "metadata": {},
   "outputs": [
    {
     "data": {
      "text/plain": [
       "array([[0, 1, 0, 0, 0],\n",
       "       [0, 0, 2, 0, 0],\n",
       "       [0, 0, 0, 3, 0],\n",
       "       [0, 0, 0, 0, 4],\n",
       "       [0, 0, 0, 0, 0]])"
      ]
     },
     "execution_count": 134,
     "metadata": {},
     "output_type": "execute_result"
    }
   ],
   "source": [
    "n = 5\n",
    "# the k argument tells diag() which diagonal to manipulate.\n",
    "# k = 1 corresponds to first diagonal above\n",
    "# the main diagonal.\n",
    "np.diag(np.arange(n-1)+1, k=1)"
   ]
  },
  {
   "cell_type": "markdown",
   "metadata": {},
   "source": [
    "### Solution for exercise 4"
   ]
  },
  {
   "cell_type": "code",
   "execution_count": 135,
   "metadata": {},
   "outputs": [
    {
     "data": {
      "text/plain": [
       "array([[ True,  True,  True,  True,  True],\n",
       "       [False,  True,  True,  True,  True],\n",
       "       [False, False,  True,  True,  True],\n",
       "       [False, False, False,  True,  True]])"
      ]
     },
     "execution_count": 135,
     "metadata": {},
     "output_type": "execute_result"
    }
   ],
   "source": [
    "m = 4\n",
    "n = 5\n",
    "\n",
    "# Create arrays of valid row and column indices.\n",
    "irow = np.arange(m)\n",
    "icol = np.arange(n)\n",
    "\n",
    "# Use broadcasting to identify all upper-triangular elements\n",
    "mask = icol[None] >= irow[:,None]\n",
    "mask"
   ]
  },
  {
   "cell_type": "code",
   "execution_count": 136,
   "metadata": {},
   "outputs": [
    {
     "data": {
      "text/plain": [
       "array([[ 1,  2,  3,  4,  5],\n",
       "       [ 0,  6,  7,  8,  9],\n",
       "       [ 0,  0, 10, 11, 12],\n",
       "       [ 0,  0,  0, 13, 14]])"
      ]
     },
     "execution_count": 136,
     "metadata": {},
     "output_type": "execute_result"
    }
   ],
   "source": [
    "# Create matrix of zeros\n",
    "mat = np.zeros((m, n), dtype=int)\n",
    "\n",
    "# count number of True values in mask\n",
    "ntrue = np.sum(mask)\n",
    "\n",
    "# Values to insert into upper-triangular part:\n",
    "# 1, 2, ... \n",
    "values = np.arange(ntrue) + 1\n",
    "\n",
    "mat[mask] = values\n",
    "mat"
   ]
  },
  {
   "cell_type": "markdown",
   "metadata": {},
   "source": [
    "To create the second matrix, we need to make sure that the sequence of \n",
    "integers is arranged column-wise instead of by row, as in the code above.\n",
    "\n",
    "This is most likely not possible to achieve with masked indexing and C-ordered arrays.\n",
    "If we want to use masked indexing, we instead create the transposed\n",
    "matrix using the same approach as above, and then transpose it to \n",
    "get the final matrix."
   ]
  },
  {
   "cell_type": "code",
   "execution_count": 137,
   "metadata": {},
   "outputs": [
    {
     "data": {
      "text/plain": [
       "array([[ True, False, False, False],\n",
       "       [ True,  True, False, False],\n",
       "       [ True,  True,  True, False],\n",
       "       [ True,  True,  True,  True],\n",
       "       [ True,  True,  True,  True]])"
      ]
     },
     "execution_count": 137,
     "metadata": {},
     "output_type": "execute_result"
    }
   ],
   "source": [
    "# dimensions of TRANSPOSED matrix\n",
    "m = 5\n",
    "n = 4\n",
    "\n",
    "# row and column indices of TRANSPOSED matrix\n",
    "irow = np.arange(m)\n",
    "icol = np.arange(n)\n",
    "\n",
    "# mask to select lower-triangular elements\n",
    "# of transposed matrix\n",
    "mask = irow[:, None] >= icol[None]\n",
    "mask"
   ]
  },
  {
   "cell_type": "code",
   "execution_count": 138,
   "metadata": {},
   "outputs": [
    {
     "data": {
      "text/plain": [
       "array([[ 1,  2,  4,  7, 11],\n",
       "       [ 0,  3,  5,  8, 12],\n",
       "       [ 0,  0,  6,  9, 13],\n",
       "       [ 0,  0,  0, 10, 14]])"
      ]
     },
     "execution_count": 138,
     "metadata": {},
     "output_type": "execute_result"
    }
   ],
   "source": [
    "# Create matrix of zeros\n",
    "mat = np.zeros((m, n), dtype=int)\n",
    "\n",
    "# Number of True elements in mask\n",
    "ntrue = np.sum(mask)\n",
    "\n",
    "# Values to insert into lower-triangular part:\n",
    "# 1, 2, ... \n",
    "values = np.arange(ntrue) + 1\n",
    "mat[mask] = values\n",
    "\n",
    "# Transpose to get final matrix\n",
    "mat = mat.T\n",
    "mat"
   ]
  },
  {
   "cell_type": "markdown",
   "metadata": {},
   "source": [
    "Of course, you can also solve this using the brute-force way with loops, but that does not\n",
    "help us practice using NumPy:"
   ]
  },
  {
   "cell_type": "code",
   "execution_count": 139,
   "metadata": {},
   "outputs": [
    {
     "data": {
      "text/plain": [
       "array([[ 1,  2,  4,  7, 11],\n",
       "       [ 0,  3,  5,  8, 12],\n",
       "       [ 0,  0,  6,  9, 13],\n",
       "       [ 0,  0,  0, 10, 14]])"
      ]
     },
     "execution_count": 139,
     "metadata": {},
     "output_type": "execute_result"
    }
   ],
   "source": [
    "m = 4\n",
    "n = 5\n",
    "\n",
    "mat = np.zeros((m, n), dtype=int)\n",
    "\n",
    "# keep track of current value to be inserted\n",
    "# into matrix\n",
    "value = 1\n",
    "\n",
    "# loop over columns\n",
    "for j in range(n):\n",
    "    # loop over rows\n",
    "    for i in range(m):\n",
    "        if j >= i:\n",
    "            mat[i,j] = value\n",
    "            # increment value for next applicable\n",
    "            # element\n",
    "            value += 1\n",
    "\n",
    "mat\n"
   ]
  },
  {
   "cell_type": "markdown",
   "metadata": {},
   "source": [
    "### Solution for exercise 5\n",
    "\n",
    "One implementation of `rowmeans()` could look as follows:"
   ]
  },
  {
   "cell_type": "code",
   "execution_count": 140,
   "metadata": {},
   "outputs": [],
   "source": [
    "import numpy as np\n",
    "\n",
    "def rowmeans(x):\n",
    "    # Number of rows and columns in x\n",
    "    m, n = x.shape\n",
    "\n",
    "    # Array to store results\n",
    "    means = np.zeros(m)\n",
    "\n",
    "    # Loop over rows\n",
    "    for i in range(m):\n",
    "        # number of non-NaN elements in current row\n",
    "        count = 0\n",
    "        # sum of non-Nan elements in current row\n",
    "        s = 0.0\n",
    "        for j in range(n):\n",
    "            value = x[i,j]\n",
    "            if not np.isnan(value):\n",
    "                s += value\n",
    "                # increments number of non-NaN elements\n",
    "                count += 1\n",
    "\n",
    "        # compute mean, store in output vector\n",
    "        means[i] = s / count \n",
    "\n",
    "    return means\n"
   ]
  },
  {
   "cell_type": "markdown",
   "metadata": {},
   "source": [
    "We create the array given in the exercise to test our function:"
   ]
  },
  {
   "cell_type": "code",
   "execution_count": 141,
   "metadata": {},
   "outputs": [
    {
     "data": {
      "text/plain": [
       "array([[nan,  1.,  2.,  3.,  4., nan,  6.,  7.],\n",
       "       [ 8.,  9., nan, 11., 12., 13., 14., nan],\n",
       "       [16., 17., 18., 19., nan, 21., 22., 23.],\n",
       "       [24., nan, 26., 27., 28., 29., nan, 31.],\n",
       "       [32., 33., 34., nan, 36., 37., 38., 39.]])"
      ]
     },
     "execution_count": 141,
     "metadata": {},
     "output_type": "execute_result"
    }
   ],
   "source": [
    "m = 5\n",
    "n = 8\n",
    "a = np.arange(m*n, dtype=float).reshape((m, n))\n",
    "mask = (a % 5) == 0\n",
    "a[mask] = np.nan\n",
    "a"
   ]
  },
  {
   "cell_type": "markdown",
   "metadata": {},
   "source": [
    "As you see, NumPy indicates elements that are NaN using the string 'nan'."
   ]
  },
  {
   "cell_type": "code",
   "execution_count": 142,
   "metadata": {},
   "outputs": [
    {
     "data": {
      "text/plain": [
       "array([ 3.83333333, 11.16666667, 19.42857143, 27.5       , 35.57142857])"
      ]
     },
     "execution_count": 142,
     "metadata": {},
     "output_type": "execute_result"
    }
   ],
   "source": [
    "# call rowmeans() using test data\n",
    "means = rowmeans(a)\n",
    "means "
   ]
  },
  {
   "cell_type": "markdown",
   "metadata": {},
   "source": [
    "We verify our results using the NumPy routine `np.nanmean()` which implements the same functionality.\n",
    "Since we are computing row averages (and thus compute averages *across* columns),\n",
    "we need to pass in the argument `axis = 1`: axes are numbered starting at 0, \n",
    "so `axis = 1` refers to the second axis, i.e., the columns."
   ]
  },
  {
   "cell_type": "code",
   "execution_count": 143,
   "metadata": {},
   "outputs": [
    {
     "data": {
      "text/plain": [
       "array([ 3.83333333, 11.16666667, 19.42857143, 27.5       , 35.57142857])"
      ]
     },
     "execution_count": 143,
     "metadata": {},
     "output_type": "execute_result"
    }
   ],
   "source": [
    "means2 = np.nanmean(a, axis=1)\n",
    "means2 "
   ]
  },
  {
   "cell_type": "markdown",
   "metadata": {},
   "source": [
    "To test whether the results are the same, we check whether their absolute difference\n",
    "is below some tolerance level, in this case $10^{-8}$. The routine `np.all()` \n",
    "evaluates to `True` if this is the case for *all* elements."
   ]
  },
  {
   "cell_type": "code",
   "execution_count": 144,
   "metadata": {},
   "outputs": [
    {
     "data": {
      "text/plain": [
       "True"
      ]
     },
     "execution_count": 144,
     "metadata": {},
     "output_type": "execute_result"
    }
   ],
   "source": [
    "np.all(np.abs(means - means2) < 1.0e-8)"
   ]
  },
  {
   "cell_type": "markdown",
   "metadata": {},
   "source": [
    "Note that we rarely want to compare floating-point numbers resulting from computations\n",
    "for exact equality using `==`. Floating-point has limited precision, and\n",
    "different operations can potentially produce different rounding errors.\n",
    "It is therefore unlikely that two floating-point results will be *exactly* identical.\n",
    "\n",
    "Finally, we use the %timeit magic to benchmark our implementation against NumPy's."
   ]
  },
  {
   "cell_type": "code",
   "execution_count": 145,
   "metadata": {},
   "outputs": [
    {
     "name": "stdout",
     "output_type": "stream",
     "text": [
      "59.5 µs ± 154 ns per loop (mean ± std. dev. of 7 runs, 10,000 loops each)\n"
     ]
    }
   ],
   "source": [
    "%timeit rowmeans(a)"
   ]
  },
  {
   "cell_type": "code",
   "execution_count": 146,
   "metadata": {},
   "outputs": [
    {
     "name": "stdout",
     "output_type": "stream",
     "text": [
      "23.6 µs ± 1.51 µs per loop (mean ± std. dev. of 7 runs, 10,000 loops each)\n"
     ]
    }
   ],
   "source": [
    "%timeit np.nanmean(a, axis=1)"
   ]
  },
  {
   "cell_type": "markdown",
   "metadata": {},
   "source": [
    "You may be surprised that `np.nanmean()` is only twice as fast as our implementation, \n",
    "but this is purely due to the small array size, as then there are only a few iterations\n",
    "performed in our Python loop.\n",
    "\n",
    "Try increasing the array dimensions to `(500,800)` instead of `(5,8)` and you will\n",
    "see that then NumPy is about 500 times faster!"
   ]
  },
  {
   "cell_type": "markdown",
   "metadata": {},
   "source": [
    "### Solution for exercise 6\n",
    "\n",
    "We first create the matrix `pvalues` which contains the all polynomials\n",
    "(for all `m = 10`) parametrisations evaluated on a common grid of\n",
    "x-values. Each row of this matrix represents a different polynomial \n",
    "parametrisation."
   ]
  },
  {
   "cell_type": "code",
   "execution_count": 147,
   "metadata": {},
   "outputs": [],
   "source": [
    "import numpy as np\n",
    "import matplotlib.pyplot as plt\n",
    "\n",
    "m = 10\n",
    "n = 50\n",
    "\n",
    "# Parameters for each polynomial\n",
    "a = np.linspace(0.4, 2.0, m)\n",
    "b = np.linspace(-1.0, 0.0, m)\n",
    "c = np.linspace(0.0, 3.0, m)\n",
    "\n",
    "# grid of x values on which to evaluate polynomials\n",
    "xgrid = np.linspace(-2.0, 2.0, n)\n",
    "\n",
    "# polynomials on x, for each parameter tuple (a,b,c)\n",
    "pvalues = - a[:,None] * (xgrid[None] - b[:,None])**2.0 + c[:,None]"
   ]
  },
  {
   "cell_type": "markdown",
   "metadata": {},
   "source": [
    "Next, we create a function to plot all polynomials. We will be reusing\n",
    "this code, so it is convenient to encapsulate it in a function \n",
    "instead of copy-pasting it again and again!"
   ]
  },
  {
   "cell_type": "code",
   "execution_count": 148,
   "metadata": {},
   "outputs": [],
   "source": [
    "# function to plot quadratic polynomials\n",
    "def plot_quad(xvalues, pvalues):\n",
    "    # Number of different polynomials in pvalues\n",
    "    m = pvalues.shape[0]\n",
    "\n",
    "    # Use different transparency (alpha) level for each polynomial\n",
    "    alphas = np.linspace(0.2, 0.8, m)\n",
    "    \n",
    "    # Plot each row against the common x-values\n",
    "    for i in range(m):\n",
    "        plt.plot(xvalues, pvalues[i], color='darkblue', alpha=alphas[i])\n",
    "    \n",
    "    # Label axes, figure\n",
    "    plt.xlabel(r'$x$')\n",
    "    plt.ylabel(r'$p(x;a,b,c)$')\n",
    "    plt.title('Quadratic functions')"
   ]
  },
  {
   "cell_type": "code",
   "execution_count": 149,
   "metadata": {},
   "outputs": [
    {
     "data": {
      "application/pdf": "[encoded data removed]",
      "image/png": "[encoded data removed]",
      "text/plain": [
       "<Figure size 640x480 with 1 Axes>"
      ]
     },
     "metadata": {},
     "output_type": "display_data"
    }
   ],
   "source": [
    "# Call plotting routine, passing x-values and y-values\n",
    "# as arguments\n",
    "plot_quad(xgrid, pvalues)"
   ]
  },
  {
   "cell_type": "markdown",
   "metadata": {},
   "source": [
    "### Locating maxima using loops\n",
    "\n",
    "Below is one possible way to implement a function that returns a vector \n",
    "of indices, each index storing the location of the maximum \n",
    "element in the corresponding row."
   ]
  },
  {
   "cell_type": "code",
   "execution_count": 150,
   "metadata": {},
   "outputs": [],
   "source": [
    "# Function to locate the maximum value in each row\n",
    "def find_max(pvalues):\n",
    "    # unpack rows and columns from shape attribute\n",
    "    nrow, ncol = pvalues.shape\n",
    "    # Create array to store location of maximum for each row.\n",
    "    # Location is an index, so choose integer array type!\n",
    "    imax = np.zeros(nrow, dtype=int)\n",
    "\n",
    "    # iterate over all row\n",
    "    for i in range(nrow):\n",
    "        # initial guess for location of row maximum\n",
    "        jmax = 0\n",
    "        # iterate over all columns, locate index of maximum\n",
    "        for j in range(1, ncol):\n",
    "            if pvalues[i,j] > pvalues[i,jmax]:\n",
    "                # value at (i,j) is larger than\n",
    "                # value at current max: \n",
    "                # update jmax\n",
    "                jmax = j\n",
    "        # store index of maximum for current row\n",
    "        imax[i] = jmax\n",
    "    \n",
    "    return imax"
   ]
  },
  {
   "cell_type": "code",
   "execution_count": 151,
   "metadata": {},
   "outputs": [
    {
     "data": {
      "text/plain": [
       "array([12, 14, 15, 16, 18, 19, 20, 22, 23, 24])"
      ]
     },
     "execution_count": 151,
     "metadata": {},
     "output_type": "execute_result"
    }
   ],
   "source": [
    "# use find_max() to locale indices of each row maximum\n",
    "ipmax = find_max(pvalues)\n",
    "ipmax"
   ]
  },
  {
   "cell_type": "markdown",
   "metadata": {},
   "source": [
    "We plot the polynomials using the function we defined above. We then \n",
    "add the maxima to the *same* plot."
   ]
  },
  {
   "cell_type": "code",
   "execution_count": 152,
   "metadata": {},
   "outputs": [
    {
     "data": {
      "text/plain": [
       "<matplotlib.legend.Legend at 0x7fe1d1e7e920>"
      ]
     },
     "execution_count": 152,
     "metadata": {},
     "output_type": "execute_result"
    },
    {
     "data": {
      "application/pdf": "[encoded data removed]",
      "image/png": "[encoded data removed]",
      "text/plain": [
       "<Figure size 640x480 with 1 Axes>"
      ]
     },
     "metadata": {},
     "output_type": "display_data"
    }
   ],
   "source": [
    "# Recreate original plot from above\n",
    "plot_quad(xgrid, pvalues)\n",
    "\n",
    "# Plot maxima on top of previous graph\n",
    "ix = np.arange(m)\n",
    "plt.scatter(xgrid[ipmax], pvalues[ix,ipmax], c='black', label='Maximum')\n",
    "plt.legend()"
   ]
  },
  {
   "cell_type": "markdown",
   "metadata": {},
   "source": [
    "### Vectorised version\n",
    "\n",
    "The vectorised version simply uses NumPy's `np.argmax()` function. We need to\n",
    "pass the argument `axis = 1` as the maximum should be computed across all columns\n",
    "for any given row."
   ]
  },
  {
   "cell_type": "code",
   "execution_count": 153,
   "metadata": {},
   "outputs": [
    {
     "data": {
      "text/plain": [
       "array([12, 14, 15, 16, 18, 19, 20, 22, 23, 24])"
      ]
     },
     "execution_count": 153,
     "metadata": {},
     "output_type": "execute_result"
    }
   ],
   "source": [
    "# Find row maxima using np.argmax()\n",
    "\n",
    "ipmax2 = np.argmax(pvalues, axis=1)\n",
    "ipmax2"
   ]
  },
  {
   "cell_type": "markdown",
   "metadata": {},
   "source": [
    "We verify that the results of our and NumPy's implementation are \n",
    "identical. Since the values here are integers, we can directly\n",
    "compare them using `==`. "
   ]
  },
  {
   "cell_type": "code",
   "execution_count": 154,
   "metadata": {},
   "outputs": [
    {
     "data": {
      "text/plain": [
       "True"
      ]
     },
     "execution_count": 154,
     "metadata": {},
     "output_type": "execute_result"
    }
   ],
   "source": [
    "# Check that these are the same as what we computed above\n",
    "np.all(ipmax == ipmax2)"
   ]
  },
  {
   "cell_type": "markdown",
   "metadata": {},
   "source": [
    "Finally, we benchmark both implementations using `%timeit`. The NumPy version is approximately\n",
    "100 times faster!"
   ]
  },
  {
   "cell_type": "code",
   "execution_count": 155,
   "metadata": {},
   "outputs": [
    {
     "name": "stdout",
     "output_type": "stream",
     "text": [
      "97.2 µs ± 333 ns per loop (mean ± std. dev. of 7 runs, 10,000 loops each)\n"
     ]
    }
   ],
   "source": [
    "# Time our manual implementation\n",
    "%timeit find_max(pvalues)"
   ]
  },
  {
   "cell_type": "code",
   "execution_count": 156,
   "metadata": {},
   "outputs": [
    {
     "name": "stdout",
     "output_type": "stream",
     "text": [
      "1.37 µs ± 4.75 ns per loop (mean ± std. dev. of 7 runs, 1,000,000 loops each)\n"
     ]
    }
   ],
   "source": [
    "# Time NumPy's implementation\n",
    "%timeit np.argmax(pvalues, axis=1)"
   ]
  }
 ],
 "metadata": {
  "kernelspec": {
   "display_name": "Python 3.10.4 ('py3-default')",
   "language": "python",
   "name": "python3"
  },
  "language_info": {
   "codemirror_mode": {
    "name": "ipython",
    "version": 3
   },
   "file_extension": ".py",
   "mimetype": "text/x-python",
   "name": "python",
   "nbconvert_exporter": "python",
   "pygments_lexer": "ipython3",
   "version": "3.10.4"
  },
  "vscode": {
   "interpreter": {
    "hash": "89692ee4bd8d7a7842eb7c7050f10ae8c4113955275de7625334d5364ea86119"
   }
  }
 },
 "nbformat": 4,
 "nbformat_minor": 1
}
