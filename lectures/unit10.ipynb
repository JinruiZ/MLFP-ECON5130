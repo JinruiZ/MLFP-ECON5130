{
 "metadata": {
  "language_info": {
   "codemirror_mode": {
    "name": "ipython",
    "version": 3
   },
   "file_extension": ".py",
   "mimetype": "text/x-python",
   "name": "python",
   "nbconvert_exporter": "python",
   "pygments_lexer": "ipython3",
   "version": "3.8.5-final"
  },
  "orig_nbformat": 2,
  "kernelspec": {
   "name": "pycharm-b08fdce2",
   "language": "python",
   "display_name": "PyCharm (python-statistics)"
  }
 },
 "nbformat": 4,
 "nbformat_minor": 2,
 "cells": [
  {
   "source": [
    "# Error handling\n",
    "\n",
    "In this unit we will briefly look at error handling in Python. The Python \n",
    "approach to error handling is \"to ask for forgiveness rather than for permission.\"\n",
    "This means that when writing Python code,\n",
    "we frequently don't check whether some data\n",
    "satisfies certain requirements, but we instead attempt to \n",
    "clean up once something does not work as expected."
   ],
   "cell_type": "markdown",
   "metadata": {}
  },
  {
   "source": [
    "## Exceptions\n",
    "\n",
    "If something goes wrong in a function, we in principle \n",
    "have two options to communicate the error to the caller:\n",
    "\n",
    "1.  We can return some special value (a status code or error flag) \n",
    "    that signals when something fails.\n",
    "\n",
    "    This approach is quite inelegant, since error codes can overlap\n",
    "    with the actual result a function would return in the absence\n",
    "    of error. For this reasons, functions need to implement\n",
    "    two different return values and reserve one for the status \n",
    "    code. \n",
    "\n",
    "    In Python, this could look like this:\n",
    "\n",
    "        def func(x):\n",
    "            # process x\n",
    "            # Two return values: actual result and error flag\n",
    "            return result, flag\n",
    "2.  We can use so-called exceptions for error handling. \n",
    "    This is the approach taken \n",
    "    by almost all modern languages such as Java, C++ and also Python\n",
    "    (see here for the \n",
    "    [official documentation](https://docs.python.org/3/tutorial/errors.html) \n",
    "    on error and exception handling).\n",
    "\n",
    "    Exceptions provide means to communicate errors that are \n",
    "    completely independent of regular return values.\n",
    "\n",
    "    Furthermore, exceptions propagate along the entire call stack:\n",
    "    If we call `func1()`, which in turn calls `func2()`, and \n",
    "    an error occurs in `func2()`, there is no need to handle \n",
    "    this error in `func1()`: the exception will automatically\n",
    "    be propagated to the caller of `func1()`."
   ],
   "cell_type": "markdown",
   "metadata": {}
  },
  {
   "source": [
    "### Common exceptions\n",
    "\n",
    "We have already encountered numerous exceptions throughout this course,\n",
    "but so far we did not know how to handle them other \n",
    "than fixing the code that produced the exception.\n",
    "\n",
    "There are numerous exceptions in Python, see \n",
    "[here](https://docs.python.org/3/library/exceptions.html) for a list of built-in ones.\n",
    "We provide a few examples of exceptions that you are most likely to \n",
    "encounter below.\n",
    "\n",
    "*Examples:*\n",
    "\n",
    "Trying to access an element in a collection outside\n",
    "of the permissible ranger produces an `IndexError`."
   ],
   "cell_type": "markdown",
   "metadata": {}
  },
  {
   "cell_type": "code",
   "execution_count": 1,
   "metadata": {},
   "outputs": [
    {
     "ename": "IndexError",
     "evalue": "tuple index out of range",
     "output_type": "error",
     "traceback": [
      "\u001B[0;31mIndexError\u001B[0m\u001B[0;31m:\u001B[0m tuple index out of range\n"
     ]
    }
   ],
   "source": [
    "# access to out-of-bounds index in a collection\n",
    "items = 1, 2, 3\n",
    "items[5]"
   ]
  },
  {
   "source": [
    "Retrieving a non-existent key in a dictionary raises another\n",
    "type of exception, a `KeyError`."
   ],
   "cell_type": "markdown",
   "metadata": {}
  },
  {
   "cell_type": "code",
   "execution_count": null,
   "metadata": {},
   "outputs": [],
   "source": [
    "# Access non-existant dictionary key\n",
    "dct = {'language': 'Python', 'version': 3.8}\n",
    "dct['course']"
   ]
  },
  {
   "source": [
    "Mistakenly trying to access a non-existent attribute will\n",
    "trigger an `AttributeError`:"
   ],
   "cell_type": "markdown",
   "metadata": {}
  },
  {
   "cell_type": "code",
   "execution_count": null,
   "metadata": {},
   "outputs": [],
   "source": [
    "value = 1.0\n",
    "value.shape "
   ]
  },
  {
   "source": [
    "When we try to apply an operation to data that does not support \n",
    "that particular operation, we get a `TypeError`:"
   ],
   "cell_type": "markdown",
   "metadata": {}
  },
  {
   "cell_type": "code",
   "execution_count": null,
   "metadata": {},
   "outputs": [],
   "source": [
    "items = 1, 2, 3\n",
    "items + 1"
   ]
  },
  {
   "source": [
    "Division by zero also triggers an exception of type `ZeroDivisionError`:"
   ],
   "cell_type": "markdown",
   "metadata": {}
  },
  {
   "cell_type": "code",
   "execution_count": null,
   "metadata": {},
   "outputs": [],
   "source": [
    "1/0"
   ]
  },
  {
   "source": [
    "Attempting to import a module or symbol from within a module\n",
    "that does not exist raises an `ImportError`:"
   ],
   "cell_type": "markdown",
   "metadata": {}
  },
  {
   "cell_type": "code",
   "execution_count": null,
   "metadata": {},
   "outputs": [],
   "source": [
    "from numpy import function_that_does_not_exist"
   ]
  },
  {
   "source": [
    "Performing an operation on arrays of non-conforming shape\n",
    "produces a `ValueError`:"
   ],
   "cell_type": "markdown",
   "metadata": {}
  },
  {
   "cell_type": "code",
   "execution_count": null,
   "metadata": {},
   "outputs": [],
   "source": [
    "import numpy as np\n",
    "\n",
    "a = np.arange(3)\n",
    "b = np.arange(2)\n",
    "a + b"
   ]
  },
  {
   "source": [
    "Trying to open a non-existing file will raise an `FileNotFoundError`."
   ],
   "cell_type": "markdown",
   "metadata": {}
  },
  {
   "cell_type": "code",
   "execution_count": null,
   "metadata": {},
   "outputs": [],
   "source": [
    "open('file_does_not_exists.txt', 'rt')"
   ]
  },
  {
   "source": [
    "In other cases, for example when using NumPy's `loadtxt`, trying\n",
    "to open a non-existing file will instead raise a `OSError`."
   ],
   "cell_type": "markdown",
   "metadata": {}
  },
  {
   "cell_type": "code",
   "execution_count": null,
   "metadata": {},
   "outputs": [],
   "source": [
    "import numpy as np\n",
    "\n",
    "data = np.loadtxt('path/to/nonexisting/file.txt')"
   ]
  },
  {
   "source": [
    "***\n",
    "## Handling errors\n",
    "\n",
    "As you just saw, there are numerous types of exceptions raised \n",
    "by Python libraries we use every day. We can handle these in two ways:\n",
    "\n",
    "1.  Avoid errors before they arise.\n",
    "2.  Catch exceptions once they arise in special exception-handling \n",
    "    blocks."
   ],
   "cell_type": "markdown",
   "metadata": {}
  },
  {
   "source": [
    "### Avoiding errors \n",
    "\n",
    "We could have avoided almost all of the above exception if \n",
    "we had surrounded them with `if` statements and checked\n",
    "whether an operation could actually be performed.\n",
    "\n",
    "This, however, is usually not the way we write Python\n",
    "code, unless we are implementing library functions\n",
    "that need to work in situations over which we have \n",
    "little control. We certainly don't want to clutter \n",
    "\"regular\" code with `if` statements everywhere.\n",
    "\n",
    "There are other ways to avoid errors.\n",
    "\n",
    "*Examples:*"
   ],
   "cell_type": "markdown",
   "metadata": {}
  },
  {
   "source": [
    "Returning to the dictionary example, we could write something\n",
    "like this:"
   ],
   "cell_type": "markdown",
   "metadata": {}
  },
  {
   "cell_type": "code",
   "execution_count": null,
   "metadata": {},
   "outputs": [],
   "source": [
    "# Access non-existant dictionary key\n",
    "dct = {'language': 'Python', 'version': 3.8}\n",
    "if 'course' in dct:\n",
    "    print(dct['course'])"
   ]
  },
  {
   "source": [
    "However, if we have a default value\n",
    "that should be used whenever a key is not present,\n",
    "we can more elegantly use the `get()` method\n",
    "which accepts a default value. No `if`'s needed:"
   ],
   "cell_type": "markdown",
   "metadata": {}
  },
  {
   "cell_type": "code",
   "execution_count": null,
   "metadata": {},
   "outputs": [],
   "source": [
    "# access non-existing key\n",
    "dct.get('course', 'The Python course')"
   ]
  },
  {
   "cell_type": "markdown",
   "source": [
    "If a key does exist, the default will of course be ignored:"
   ],
   "metadata": {
    "collapsed": false,
    "pycharm": {
     "name": "#%% md\n"
    }
   }
  },
  {
   "cell_type": "code",
   "execution_count": null,
   "outputs": [],
   "source": [
    "# access existing key\n",
    "dct.get('language', 'The Python course')"
   ],
   "metadata": {
    "collapsed": false,
    "pycharm": {
     "name": "#%%\n"
    }
   }
  },
  {
   "source": [
    "Another easily avoidable exception is the `IndexError`.\n",
    "There is hardly ever a reason to attempt retrieving\n",
    "elements at arbitrary indices. Usually, we first \n",
    "check the size of a collection:"
   ],
   "cell_type": "markdown",
   "metadata": {}
  },
  {
   "cell_type": "code",
   "execution_count": null,
   "metadata": {},
   "outputs": [],
   "source": [
    "items = 1, 2, 3\n",
    "# Assume idx was passed as an argument to a function\n",
    "# so we need to handle unforeseen cases\n",
    "idx = 1000\n",
    "# Enforce valid upper bound in case the index is\n",
    "# out of bounds.\n",
    "items[min(idx, len(items) - 1)]"
   ]
  },
  {
   "source": [
    "When operating on NumPy arrays, we frequently have to\n",
    "retrieve their dimensions first, so there is no \n",
    "risk of accessing an invalid position:"
   ],
   "cell_type": "markdown",
   "metadata": {}
  },
  {
   "cell_type": "code",
   "execution_count": 5,
   "metadata": {},
   "outputs": [
    {
     "name": "stdout",
     "output_type": "stream",
     "text": [
      "0\n",
      "1\n",
      "2\n",
      "3\n",
      "4\n",
      "5\n"
     ]
    }
   ],
   "source": [
    "import numpy as np \n",
    "\n",
    "mat = np.arange(6).reshape(2, 3)\n",
    "\n",
    "# Retrieve array dimensions\n",
    "nrow, ncol = mat.shape\n",
    "\n",
    "# Loop makes sure to never step out of bounds\n",
    "for i in range(nrow):\n",
    "    for j in range(ncol):\n",
    "        print(mat[i, j])"
   ]
  },
  {
   "source": [
    "There are also many helper routines that allow \n",
    "for \"robust\" programming. Imagine we want a \n",
    "function that returns the element at position `[0,0]`:"
   ],
   "cell_type": "markdown",
   "metadata": {}
  },
  {
   "cell_type": "code",
   "execution_count": null,
   "metadata": {},
   "outputs": [],
   "source": [
    "def get_elem(x):\n",
    "    return x[0,0]"
   ]
  },
  {
   "source": [
    "Calling this on a matrix works as intended:"
   ],
   "cell_type": "markdown",
   "metadata": {}
  },
  {
   "cell_type": "code",
   "execution_count": null,
   "metadata": {},
   "outputs": [],
   "source": [
    "get_elem(np.ones((2,2)))"
   ]
  },
  {
   "source": [
    "But what if we pass a nested list or tuple?"
   ],
   "cell_type": "markdown",
   "metadata": {}
  },
  {
   "cell_type": "code",
   "execution_count": null,
   "metadata": {},
   "outputs": [],
   "source": [
    "get_elem([[1,2], [3,4]])"
   ]
  },
  {
   "source": [
    "With very little effort, we can make this function more robust by using\n",
    "[`np.atleast_2d()`](https://numpy.org/doc/stable/reference/generated/numpy.atleast_2d.html) which ensures that its result is \n",
    "at least a 2-dimensional NumPy array (it returns higher-dimensional\n",
    "arrays unmodified):"
   ],
   "cell_type": "markdown",
   "metadata": {}
  },
  {
   "cell_type": "code",
   "execution_count": 6,
   "metadata": {},
   "outputs": [],
   "source": [
    "import numpy as np\n",
    "\n",
    "def get_elem(x):\n",
    "    x = np.atleast_2d(x)\n",
    "    return x[0,0]"
   ]
  },
  {
   "cell_type": "code",
   "execution_count": 7,
   "metadata": {},
   "outputs": [
    {
     "data": {
      "text/plain": "1"
     },
     "execution_count": 7,
     "metadata": {},
     "output_type": "execute_result"
    }
   ],
   "source": [
    "get_elem([[1,2], [3,4]])        # Now works on nested lists"
   ]
  },
  {
   "source": [
    "This function suddenly becomes much more flexible,\n",
    "maybe too flexible since it works on all\n",
    "sorts of arguments:"
   ],
   "cell_type": "markdown",
   "metadata": {}
  },
  {
   "cell_type": "code",
   "execution_count": 8,
   "metadata": {},
   "outputs": [
    {
     "data": {
      "text/plain": "1.0"
     },
     "execution_count": 8,
     "metadata": {},
     "output_type": "execute_result"
    }
   ],
   "source": [
    "get_elem([1, 2])        # simple list\n",
    "get_elem(1.0)           # scalar"
   ]
  },
  {
   "source": [
    "NumPy also implements `np.atleast_1d()` and `np.atleast_3d()` \n",
    "which serve the same purpose, but return 1-dimensional or\n",
    "3-dimensional arrays instead."
   ],
   "cell_type": "markdown",
   "metadata": {}
  },
  {
   "source": [
    "### Raising exceptions\n",
    "\n",
    "There are situations when we explicitly want to ensure\n",
    "that some condition is met, instead of letting\n",
    "the code fail somewhere down the line.\n",
    "This is particularly important when we write \n",
    "library functions that might be called from many\n",
    "different contexts or by many different users.\n",
    "Raising an exception with a clear error message is beneficial\n",
    "in such situations.\n",
    "\n",
    "To illustrate the benefit of clear error messages,\n",
    "consider the following (highly artificial) example:"
   ],
   "cell_type": "markdown",
   "metadata": {}
  },
  {
   "cell_type": "code",
   "execution_count": 9,
   "outputs": [],
   "source": [
    "def get_row(mat, i):\n",
    "    # restrict to valid row indices\n",
    "    irow = min(mat.shape[0] - 1, max(0, i))\n",
    "\n",
    "    # return row\n",
    "    row = mat[irow]\n",
    "    return row"
   ],
   "metadata": {
    "collapsed": false,
    "pycharm": {
     "name": "#%%\n"
    }
   }
  },
  {
   "cell_type": "markdown",
   "source": [
    "We define the function `get_row` that returns the `i`-th row\n",
    "of a matrix. The function ensures that the row index is\n",
    "within the admissible range for the given array.\n",
    "\n",
    "Let's call this function as follows:"
   ],
   "metadata": {
    "collapsed": false,
    "pycharm": {
     "name": "#%% md\n"
    }
   }
  },
  {
   "cell_type": "code",
   "execution_count": 10,
   "outputs": [
    {
     "ename": "IndexError",
     "evalue": "only integers, slices (`:`), ellipsis (`...`), numpy.newaxis (`None`) and integer or boolean arrays are valid indices",
     "output_type": "error",
     "traceback": [
      "\u001B[0;31mIndexError\u001B[0m\u001B[0;31m:\u001B[0m only integers, slices (`:`), ellipsis (`...`), numpy.newaxis (`None`) and integer or boolean arrays are valid indices\n"
     ]
    }
   ],
   "source": [
    "import numpy as np\n",
    "mat = np.arange(6).reshape((3, 2))\n",
    "get_row(mat, 1.0)\n"
   ],
   "metadata": {
    "collapsed": false,
    "pycharm": {
     "name": "#%%\n"
    }
   }
  },
  {
   "cell_type": "markdown",
   "source": [
    "This raises an `IndexError`, notifying the user\n",
    "that the statement `row = mat[irow]` was problematic.\n",
    "However, the caller does not know what `irow` is since this\n",
    "is not the name of the original argument. In the worst case,\n",
    "the user would have to inspect the implementation\n",
    "of `get_row()` to figure out what is wrong.\n",
    "\n",
    "\n",
    "How can we rectify this situation?\n",
    "We cannot prevent someone from calling this function\n",
    "with an inadmissible value, but we can raise \n",
    "an exception once such a value is encountered.\n",
    "\n",
    "We raise exceptions using the `raise` statement\n",
    "which is followed by an exception:"
   ],
   "metadata": {
    "collapsed": false,
    "pycharm": {
     "name": "#%% md\n"
    }
   }
  },
  {
   "cell_type": "code",
   "execution_count": 11,
   "metadata": {},
   "outputs": [],
   "source": [
    "def get_row(mat, i):\n",
    "    # Check whether i is an integer\n",
    "    if not isinstance(i, int):\n",
    "        msg = f'Integer argument required, received {i}'\n",
    "        raise ValueError(msg)\n",
    "    # restrict to valid row indices\n",
    "    irow = min(mat.shape[0] - 1, max(0, i))\n",
    "\n",
    "    # return row\n",
    "    row = mat[irow]\n",
    "    return row"
   ]
  },
  {
   "source": [
    "To check whether `i` is of integer type, we use the\n",
    "`isinstance()` function.\n",
    "\n",
    "The convention is to raise a `ValueError` when a function argument \n",
    "does not satisfy some requirement. We can optionally \n",
    "pass an error message, as in the example above. There is no need or possibility\n",
    "to add an explicit `return` statement: as soon as an exception is raised,\n",
    "any remaining code is skipped. We will examine the details below."
   ],
   "cell_type": "markdown",
   "metadata": {}
  },
  {
   "cell_type": "code",
   "execution_count": 12,
   "metadata": {},
   "outputs": [
    {
     "data": {
      "text/plain": "array([2, 3])"
     },
     "execution_count": 12,
     "metadata": {},
     "output_type": "execute_result"
    }
   ],
   "source": [
    "get_row(mat, 1)     # Call with integer argument; works as intended."
   ]
  },
  {
   "cell_type": "code",
   "execution_count": 13,
   "metadata": {},
   "outputs": [
    {
     "ename": "ValueError",
     "evalue": "Integer argument required, received 1.0",
     "output_type": "error",
     "traceback": [
      "\u001B[0;31mValueError\u001B[0m\u001B[0;31m:\u001B[0m Integer argument required, received 1.0\n"
     ]
    }
   ],
   "source": [
    "get_row(mat, 1.0)   # Call with float argument; raises exception"
   ]
  },
  {
   "source": [
    "As you see, an exception is raised and a clear error message is returned\n",
    "to the caller."
   ],
   "cell_type": "markdown",
   "metadata": {}
  },
  {
   "source": [
    "### Catching exceptions"
   ],
   "cell_type": "markdown",
   "metadata": {}
  },
  {
   "source": [
    "If we are unable or unwilling to take measures to avoid an error, we have to\n",
    "deal with the resulting exception, should one occur. If we fail to do so, the \n",
    "entire program will be terminated.\n",
    "\n",
    "We handle exceptions using the \n",
    "[`try` statement](https://docs.python.org/3/tutorial/errors.html#handling-exceptions) \n",
    "(we sometimes\n",
    "say we \"catch\" exceptions, which is the keyword used in some \n",
    "other programming languages): \n",
    "\n",
    "-   The code that potentially raises an exception is placed in the \n",
    "    `try` clause.\n",
    "-   If an error occurs, control is immediately passed on to    \n",
    "    the `except` clause and any remaining statements in \n",
    "    the `try` clause are skipped.\n",
    "-   The `except` clause takes care of handling the exception,\n",
    "    should one occur. If no exception is raised, the `except` \n",
    "    clause is never executed.\n",
    "\n",
    "*Examples:*\n",
    "\n",
    "Say we need to process an integer value but are unsure\n",
    "about the data type of the input; calling `int()` \n",
    "might therefore work, or it might not:"
   ],
   "cell_type": "markdown",
   "metadata": {}
  },
  {
   "cell_type": "code",
   "execution_count": null,
   "metadata": {},
   "outputs": [],
   "source": [
    "x = 1.2345\n",
    "int(x)          # Works, float is truncated to integer"
   ]
  },
  {
   "cell_type": "code",
   "execution_count": null,
   "metadata": {},
   "outputs": [],
   "source": [
    "x = 'abc'\n",
    "int(x)          # Does not work"
   ]
  },
  {
   "source": [
    "Calling `int()` with a string such as `'abc'` which cannot \n",
    "be interpreted as an integer will raise a `ValueError`.\n",
    "We could handle such a situation as follows:"
   ],
   "cell_type": "markdown",
   "metadata": {}
  },
  {
   "cell_type": "code",
   "execution_count": 14,
   "metadata": {},
   "outputs": [
    {
     "name": "stdout",
     "output_type": "stream",
     "text": [
      "abc cannot be converted to an integer\n"
     ]
    }
   ],
   "source": [
    "x = 'abc'\n",
    "\n",
    "try:\n",
    "    i = int(x)\n",
    "    print('Conversion to integer works!')\n",
    "except ValueError:\n",
    "    print(f'{x} cannot be converted to an integer')"
   ]
  },
  {
   "source": [
    "We see that the execution of the `try` clause terminates\n",
    "as soon as the exception is raised, so the \n",
    "`print()` function is never called. Instead, execution \n",
    "is passed on to the `except` clause which matches\n",
    "the exception type.\n",
    "\n",
    "We can have multiple `except` clauses covering all sorts of \n",
    "exceptions:"
   ],
   "cell_type": "markdown",
   "metadata": {}
  },
  {
   "cell_type": "code",
   "execution_count": 15,
   "metadata": {},
   "outputs": [],
   "source": [
    "def func(x):\n",
    "    try:\n",
    "        i = int(x)\n",
    "        print('Conversion to integer works!')\n",
    "        # Return some value\n",
    "        return 10/i\n",
    "    except ValueError:\n",
    "        print(f'{x} cannot be converted to an integer')\n",
    "    except ZeroDivisionError:\n",
    "        print('Division by zero')\n",
    "    except:\n",
    "        print('Other exception type occured')"
   ]
  },
  {
   "cell_type": "code",
   "execution_count": 16,
   "metadata": {},
   "outputs": [
    {
     "name": "stdout",
     "output_type": "stream",
     "text": [
      "abc cannot be converted to an integer\n"
     ]
    }
   ],
   "source": [
    "func('abc')         # ValueError: cannot convert integer"
   ]
  },
  {
   "cell_type": "code",
   "execution_count": 17,
   "metadata": {},
   "outputs": [
    {
     "name": "stdout",
     "output_type": "stream",
     "text": [
      "Conversion to integer works!\n",
      "Division by zero\n"
     ]
    }
   ],
   "source": [
    "func(0)             # ZeroDivisionError"
   ]
  },
  {
   "source": [
    "An `except` clause without an exception type catches\n",
    "any exceptions which do not match any preceding\n",
    "`except` clause. For example, this code\n",
    "raises a `TypeError` which is not specifically handled:"
   ],
   "cell_type": "markdown",
   "metadata": {}
  },
  {
   "cell_type": "code",
   "execution_count": 18,
   "metadata": {},
   "outputs": [
    {
     "name": "stdout",
     "output_type": "stream",
     "text": [
      "Other exception type occured\n"
     ]
    }
   ],
   "source": [
    "func([1, 2, 3])     # TypeError, caught by default clause"
   ]
  },
  {
   "source": [
    "If there is no default `except` clause and an unhandled\n",
    "exception occurs, it will be propagated back to the \n",
    "caller as if no error handling was present at all: "
   ],
   "cell_type": "markdown",
   "metadata": {}
  },
  {
   "cell_type": "code",
   "execution_count": 19,
   "metadata": {},
   "outputs": [],
   "source": [
    "# Define func to only handle ValueError\n",
    "def func(x):\n",
    "    try:\n",
    "        i = int(x)\n",
    "        print('Conversion to integer works!')\n",
    "        # Return some value\n",
    "        return 10/i\n",
    "    except ValueError:\n",
    "        print(f'{x} cannot be converted to an integer')"
   ]
  },
  {
   "cell_type": "code",
   "execution_count": null,
   "metadata": {},
   "outputs": [],
   "source": [
    "func(0)         # Raises ZeroDivisionError, which is passed to caller"
   ]
  },
  {
   "source": [
    "This even works across multiple levels of the call stack:"
   ],
   "cell_type": "markdown",
   "metadata": {}
  },
  {
   "cell_type": "code",
   "execution_count": 20,
   "metadata": {},
   "outputs": [],
   "source": [
    "# inner function converts to integer\n",
    "def inner(x):\n",
    "    i = int(x)\n",
    "    return i\n",
    "\n",
    "# outer function divides by integer value\n",
    "def outer(x):\n",
    "    i = inner(x)\n",
    "    return 10 /i "
   ]
  },
  {
   "cell_type": "code",
   "execution_count": 21,
   "metadata": {},
   "outputs": [
    {
     "ename": "ValueError",
     "evalue": "invalid literal for int() with base 10: 'abc'",
     "output_type": "error",
     "traceback": [
      "\u001B[0;31mValueError\u001B[0m\u001B[0;31m:\u001B[0m invalid literal for int() with base 10: 'abc'\n"
     ]
    }
   ],
   "source": [
    "outer('abc')            # ValueError raised in inner()"
   ]
  },
  {
   "source": [
    "Here we call `outer()`, which in turn calls `inner()`, passing on its argument.\n",
    "Conversion to an integer fails in `inner()`, but since `outer()`\n",
    "does not handle this exception, it is automatically passed on \n",
    "the the original call site."
   ],
   "cell_type": "markdown",
   "metadata": {}
  },
  {
   "source": [
    "***\n",
    "## Exercises"
   ],
   "cell_type": "markdown",
   "metadata": {}
  },
  {
   "source": [
    "### Exercise 1: Sign function\n",
    "\n",
    "Revisit the sign function you implemented in Unit 4, Exercise 1. \n",
    "To refresh your memory, the suggested solution looks as follows:\n",
    "\n"
   ],
   "cell_type": "markdown",
   "metadata": {}
  },
  {
   "cell_type": "code",
   "execution_count": null,
   "metadata": {},
   "outputs": [],
   "source": [
    "import numpy as np\n",
    "\n",
    "def sign(x):\n",
    "    if x < 0.0:\n",
    "        return -1.0\n",
    "    elif x == 0.0:\n",
    "        return 0.0\n",
    "    elif x > 0.0:\n",
    "        return 1.0\n",
    "    else:\n",
    "        # Argument is not a proper numerical value, return NaN\n",
    "        # (NaN = Not a Number)\n",
    "        return np.nan"
   ]
  },
  {
   "source": [
    "This implementation is not very robust, as it returns all sorts\n",
    "of exceptions when passed non-numeric arguments:"
   ],
   "cell_type": "markdown",
   "metadata": {}
  },
  {
   "cell_type": "code",
   "execution_count": null,
   "metadata": {},
   "outputs": [],
   "source": [
    "sign('abc')             # pass in string"
   ]
  },
  {
   "cell_type": "code",
   "execution_count": null,
   "metadata": {},
   "outputs": [],
   "source": [
    "sign(np.array([1, 2, 3]))           # Pass in NumPy array"
   ]
  },
  {
   "source": [
    "Modify the  `sign()` function such that it only accepts built-in\n",
    "numerical Python types (integers, floats) and raises a `ValueError` in all other cases"
   ],
   "cell_type": "markdown",
   "metadata": {}
  },
  {
   "source": [
    "### Exercise 2: Factorials\n",
    "\n",
    "Consider the `factorial()` function you wrote in Unit 4, Exercise 4:"
   ],
   "cell_type": "markdown",
   "metadata": {}
  },
  {
   "cell_type": "code",
   "execution_count": null,
   "metadata": {},
   "outputs": [],
   "source": [
    "def factorial(n):\n",
    "    if n == 0:\n",
    "        return 1\n",
    "    else:\n",
    "        # Use recursion to compute factorial\n",
    "        return n * factorial(n-1)"
   ]
  },
  {
   "source": [
    "This implementation is also not very robust to nonsensical arguments,\n",
    "for example:"
   ],
   "cell_type": "markdown",
   "metadata": {}
  },
  {
   "cell_type": "code",
   "execution_count": null,
   "metadata": {},
   "outputs": [],
   "source": [
    "factorial(1.123)"
   ]
  },
  {
   "source": [
    "Modify this function such that it only accepts *numerical* arguments that are either integers, or can be interpreted as integers without\n",
    "loss of data, such as a float `1.0` or a scalar array `np.array(1.0)`.\n",
    "\n",
    "The function should raise a `ValueError` for all other inputs."
   ],
   "cell_type": "markdown",
   "metadata": {}
  },
  {
   "source": [
    "### Exercise 3: Bisection\n",
    "\n",
    "Recall the `bisect()` function from Unit 4, Exercise 5:"
   ],
   "cell_type": "markdown",
   "metadata": {}
  },
  {
   "cell_type": "code",
   "execution_count": null,
   "metadata": {},
   "outputs": [],
   "source": [
    "def bisect(f, a, b, tol=1.0e-6, xtol=1.0e-6, maxiter=100):\n",
    "\n",
    "    for iteration in range(maxiter):\n",
    "        # Compute candidate value as midpoint between a and b\n",
    "        mid = (a + b) / 2.0\n",
    "        if abs(b-a) < xtol:\n",
    "            # Remaining interval is too small\n",
    "            break\n",
    "\n",
    "        fmid = f(mid)\n",
    "\n",
    "        if abs(fmid) < tol:\n",
    "            # function value is close enough to zero\n",
    "            break\n",
    "\n",
    "        print('Iteration {}: f(mid) = {:.4e}'.format(iteration, fmid))\n",
    "        if fmid*f(b) > 0.0:\n",
    "            # f(mid) and f(b) have the same sign, update upper bound b\n",
    "            print('  Updating upper bound to {:.8f}'.format(mid))\n",
    "            b = mid\n",
    "        else:\n",
    "            # f(mid) and f(a) have the same sign, or at least one of\n",
    "            # them is zero.\n",
    "            print('  Updating lower bound to {:.8f}'.format(mid))\n",
    "            a = mid\n",
    "\n",
    "    return mid"
   ]
  },
  {
   "source": [
    "This function accepts quite a few arguments, but we never implemented\n",
    "any input validation. Add the following input checks \n",
    "at the top of the function and raise a `ValueError` if any of them \n",
    "is violated:\n",
    "\n",
    "1.  Check that `f(a)` and `f(b)` are of opposite sign, a precondition\n",
    "    for the bisection algorithm to work.\n",
    "2.  Check that `tol` and `xtol` are positive and can be \n",
    "    interpreted as floating-point numbers.\n",
    "3.  Check that `maxiter` is positive and can be interpreted\n",
    "    as an integer."
   ],
   "cell_type": "markdown",
   "metadata": {}
  },
  {
   "source": [
    "***\n",
    "## Solutions"
   ],
   "cell_type": "markdown",
   "metadata": {}
  },
  {
   "source": [
    "### Solution for exercise 1"
   ],
   "cell_type": "markdown",
   "metadata": {}
  },
  {
   "source": [
    "We can use the built-in `float()` function to determine whether\n",
    "something can be represented as a floating-point number.\n",
    "\n",
    "We use only the default `except` clause without any type specification\n",
    "as the code in the `try` clause raises several types of exceptions,\n",
    "depending on the input argument."
   ],
   "cell_type": "markdown",
   "metadata": {}
  },
  {
   "cell_type": "code",
   "execution_count": 22,
   "metadata": {},
   "outputs": [],
   "source": [
    "import numpy as np\n",
    "\n",
    "def sign(x):\n",
    "    try:\n",
    "        # Convert to float, which is more generic than int\n",
    "        x = float(x)\n",
    "    except:\n",
    "        # The above statement raises at least two types\n",
    "        # of exceptions: ValueError and TypeError\n",
    "        raise ValueError('Numerical argument required!')\n",
    "\n",
    "    if x < 0.0:\n",
    "        return -1.0\n",
    "    elif x == 0.0:\n",
    "        return 0.0\n",
    "    elif x > 0.0:\n",
    "        return 1.0\n",
    "    else:\n",
    "        # Argument is not a proper numerical value, return NaN\n",
    "        # (NaN = Not a Number)\n",
    "        return np.nan"
   ]
  },
  {
   "cell_type": "code",
   "execution_count": 23,
   "metadata": {},
   "outputs": [
    {
     "data": {
      "text/plain": "1.0"
     },
     "execution_count": 23,
     "metadata": {},
     "output_type": "execute_result"
    }
   ],
   "source": [
    "sign(123)           # integer argument"
   ]
  },
  {
   "cell_type": "code",
   "execution_count": 24,
   "metadata": {},
   "outputs": [
    {
     "ename": "ValueError",
     "evalue": "Numerical argument required!",
     "output_type": "error",
     "traceback": [
      "\u001B[0;31mValueError\u001B[0m\u001B[0;31m:\u001B[0m could not convert string to float: 'abc'\n",
      "\nDuring handling of the above exception, another exception occurred:\n",
      "\u001B[0;31mValueError\u001B[0m\u001B[0;31m:\u001B[0m Numerical argument required!\n"
     ]
    }
   ],
   "source": [
    "sign('abc')         # string argument"
   ]
  },
  {
   "cell_type": "code",
   "execution_count": null,
   "metadata": {},
   "outputs": [],
   "source": [
    "sign(np.array([1, 2, 3]))       # NumPy array argument"
   ]
  },
  {
   "source": [
    "### Solution for exercise 2\n",
    "\n",
    "One possible solution looks as follows:"
   ],
   "cell_type": "markdown",
   "metadata": {}
  },
  {
   "cell_type": "code",
   "execution_count": 25,
   "metadata": {},
   "outputs": [],
   "source": [
    "def factorial(n):\n",
    "    try:\n",
    "        i = int(n)\n",
    "        assert i == n\n",
    "    except:\n",
    "        raise ValueError(f'Not an integer argument: {n}')\n",
    "\n",
    "    if i == 0:\n",
    "        return 1\n",
    "    else:\n",
    "        # Use recursion to compute factorial\n",
    "        return i * factorial(i-1)"
   ]
  },
  {
   "source": [
    "We perform input validation in two steps:\n",
    "\n",
    "1.  We use the `int()` function to convert the input to an integer.\n",
    "    This will eliminate some inadmissible arguments such as \n",
    "    `'abc'` or `[1, 2, 3]` but will accept others such as \n",
    "    `'1'` or `1.1`. We want to eliminate these as well,\n",
    "    since `'1'` is not numeric and `1.1` cannot be\n",
    "    represented as an integer without loss of data.\n",
    "2.  We achieve this with the `assert` statement where we \n",
    "    check whether `i == n`: this will only be true if `n`\n",
    "    is numerical and does not have a fractional part.\n",
    "\n",
    "    The `assert` statement will raise an `AssertionError`\n",
    "    whenever a condition is not `True`, which will \n",
    "    also be handled by the `except` clause."
   ],
   "cell_type": "markdown",
   "metadata": {}
  },
  {
   "cell_type": "code",
   "execution_count": 26,
   "metadata": {},
   "outputs": [
    {
     "data": {
      "text/plain": "1"
     },
     "execution_count": 26,
     "metadata": {},
     "output_type": "execute_result"
    }
   ],
   "source": [
    "factorial(1)            # integer argument"
   ]
  },
  {
   "cell_type": "code",
   "execution_count": 27,
   "metadata": {},
   "outputs": [
    {
     "data": {
      "text/plain": "1"
     },
     "execution_count": 27,
     "metadata": {},
     "output_type": "execute_result"
    }
   ],
   "source": [
    "factorial(1.0)          # not an integer argument, but can be\n",
    "                        # represented as an integer."
   ]
  },
  {
   "cell_type": "code",
   "execution_count": 28,
   "metadata": {},
   "outputs": [
    {
     "ename": "ValueError",
     "evalue": "Not an integer argument: 1.1",
     "output_type": "error",
     "traceback": [
      "\u001B[0;31mAssertionError\u001B[0m\n",
      "\nDuring handling of the above exception, another exception occurred:\n",
      "\u001B[0;31mValueError\u001B[0m\u001B[0;31m:\u001B[0m Not an integer argument: 1.1\n"
     ]
    }
   ],
   "source": [
    "factorial(1.1)          # Floating-point argument that \n",
    "                        # cannot be represented as an integer"
   ]
  },
  {
   "cell_type": "code",
   "execution_count": null,
   "metadata": {},
   "outputs": [],
   "source": [
    "factorial('1')          # String argument"
   ]
  },
  {
   "cell_type": "code",
   "execution_count": null,
   "metadata": {},
   "outputs": [],
   "source": [
    "factorial(np.array(10.0))       # Scalar array argument"
   ]
  },
  {
   "source": [
    "### Solution for exercise 3\n",
    "\n"
   ],
   "cell_type": "markdown",
   "metadata": {}
  },
  {
   "source": [
    "We modify the function as follows:"
   ],
   "cell_type": "markdown",
   "metadata": {}
  },
  {
   "cell_type": "code",
   "execution_count": 29,
   "metadata": {},
   "outputs": [],
   "source": [
    "def bisect(f, a, b, tol=1.0e-6, xtol=1.0e-6, maxiter=100):\n",
    "\n",
    "    fa = f(a)\n",
    "    fb = f(b)\n",
    "\n",
    "    if fa*fb > 0.0:\n",
    "        raise ValueError(f'Not a bracketing interval [{a}, {b}]')\n",
    "    try:\n",
    "        tol = float(tol)\n",
    "        assert tol > 0.0\n",
    "    except:\n",
    "        raise ValueError('Argument tol must be a positive number!')\n",
    "\n",
    "    try:\n",
    "        xtol = float(xtol)\n",
    "        assert xtol > 0.0\n",
    "    except:\n",
    "        raise ValueError('Argument xtol must be a positive number!')\n",
    "\n",
    "    try:\n",
    "        maxiter = int(maxiter)\n",
    "        assert maxiter > 0\n",
    "    except:\n",
    "        raise ValueError('Argument maxiter must be a positive integer!')\n",
    "\n",
    "\n",
    "    for iteration in range(maxiter):\n",
    "        # Compute candidate value as midpoint between a and b\n",
    "        mid = (a + b) / 2.0\n",
    "        if abs(b-a) < xtol:\n",
    "            # Remaining interval is too small\n",
    "            break\n",
    "\n",
    "        fmid = f(mid)\n",
    "\n",
    "        if abs(fmid) < tol:\n",
    "            # function value is close enough to zero\n",
    "            break\n",
    "\n",
    "        print('Iteration {}: f(mid) = {:.4e}'.format(iteration, fmid))\n",
    "        if fmid*f(b) > 0.0:\n",
    "            # f(mid) and f(b) have the same sign, update upper bound b\n",
    "            print('  Updating upper bound to {:.8f}'.format(mid))\n",
    "            b = mid\n",
    "        else:\n",
    "            # f(mid) and f(a) have the same sign, or at least one of\n",
    "            # them is zero.\n",
    "            print('  Updating lower bound to {:.8f}'.format(mid))\n",
    "            a = mid\n",
    "\n",
    "    return mid"
   ]
  },
  {
   "source": [
    "As in the main loop of the function, \n",
    "we check whether two values are non-zero and have the same \n",
    "sign using the condition `fa * fb > 0`, in which case \n",
    "we have no bracketing interval and need to raise a `ValueError`.\n",
    "\n",
    "The remaining checks are performed using the same code \n",
    "as in earlier exercises."
   ],
   "cell_type": "markdown",
   "metadata": {}
  },
  {
   "cell_type": "code",
   "execution_count": 30,
   "metadata": {},
   "outputs": [
    {
     "name": "stdout",
     "output_type": "stream",
     "text": [
      "Iteration 0: f(mid) = -1.7500e+00\n",
      "  Updating upper bound to -1.50000000\n",
      "Iteration 1: f(mid) = 1.0625e+00\n",
      "  Updating lower bound to -2.25000000\n",
      "Iteration 2: f(mid) = -4.8438e-01\n",
      "  Updating upper bound to -1.87500000\n",
      "Iteration 3: f(mid) = 2.5391e-01\n",
      "  Updating lower bound to -2.06250000\n",
      "Iteration 4: f(mid) = -1.2402e-01\n",
      "  Updating upper bound to -1.96875000\n",
      "Iteration 5: f(mid) = 6.2744e-02\n",
      "  Updating lower bound to -2.01562500\n",
      "Iteration 6: f(mid) = -3.1189e-02\n",
      "  Updating upper bound to -1.99218750\n",
      "Iteration 7: f(mid) = 1.5640e-02\n",
      "  Updating lower bound to -2.00390625\n",
      "Iteration 8: f(mid) = -7.8087e-03\n",
      "  Updating upper bound to -1.99804688\n",
      "Iteration 9: f(mid) = 3.9072e-03\n",
      "  Updating lower bound to -2.00097656\n",
      "Iteration 10: f(mid) = -1.9529e-03\n",
      "  Updating upper bound to -1.99951172\n"
     ]
    }
   ],
   "source": [
    "# Function call with valid argument\n",
    "x0 = bisect(lambda x: x**2.0 - 4.0, -3.0, 0.0, tol=1.0e-3)"
   ]
  },
  {
   "cell_type": "code",
   "execution_count": 31,
   "metadata": {},
   "outputs": [
    {
     "ename": "ValueError",
     "evalue": "Not a bracketing interval [10.0, 20.0]",
     "output_type": "error",
     "traceback": [
      "\u001B[0;31mValueError\u001B[0m\u001B[0;31m:\u001B[0m Not a bracketing interval [10.0, 20.0]\n"
     ]
    }
   ],
   "source": [
    "# Function call with f(a) and f(b) both positive\n",
    "x0 = bisect(lambda x: x**2.0 - 4.0, 10.0, 20.0)"
   ]
  },
  {
   "cell_type": "code",
   "execution_count": 32,
   "metadata": {},
   "outputs": [
    {
     "ename": "ValueError",
     "evalue": "Argument tol must be a positive number!",
     "output_type": "error",
     "traceback": [
      "\u001B[0;31mAssertionError\u001B[0m\n",
      "\nDuring handling of the above exception, another exception occurred:\n",
      "\u001B[0;31mValueError\u001B[0m\u001B[0;31m:\u001B[0m Argument tol must be a positive number!\n"
     ]
    }
   ],
   "source": [
    "# Function call with invalid tolerance criterion\n",
    "x0 = bisect(lambda x: x**2.0 - 4.0, -3.0, 0.0, tol=0.0)"
   ]
  }
 ]
}