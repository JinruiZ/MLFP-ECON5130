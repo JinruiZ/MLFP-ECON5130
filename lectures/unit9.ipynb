{
 "cells": [
  {
   "cell_type": "markdown",
   "metadata": {
    "collapsed": true,
    "pycharm": {
     "name": "#%% md\n"
    }
   },
   "source": [
    "# Input and output\n",
    "\n",
    "In this unit we will discuss input and output,\n",
    "or I/O for short. In doing so, we will focus exclusively on I/O\n",
    "routines used to load and store data from files that are relevant\n",
    "for numerical computation and data analysis.\n",
    "\n",
    "## I/O with NumPy\n",
    "\n",
    "We already encountered the most basic, and probably most frequently used\n",
    "NumPy I/O routine, `np.loadtxt()`. The most important I/O functions to\n",
    "process text data are:\n",
    "-   `loadtxt()`: load data from a text file.\n",
    "-   `genfromtxt()`: load data from a text file and handle missing\n",
    "    data.\n",
    "-   `savetxt()`: save a NumPy array to a text file.\n",
    "\n",
    "There are a few other I/O functions in NumPy, for example to\n",
    "write arrays as raw binary data.\n",
    "These are listed in the [official documentation](https://numpy.org/doc/stable/reference/routines.io.html).\n",
    "\n",
    "We frequently use files that store data\n",
    "as character-separated values (CSV) in pure text format since virtually\n",
    "and application supports this data format.\n",
    "\n",
    "Imagine we have the following tabular data from [FRED](https://fred.stlouisfed.org/)\n",
    "which we already used in the first unit, where the first two rows\n",
    "look as follows:\n",
    "\n",
    "| Year |  GDP   |  CPI | UNRATE |\n",
    "| ---- | ------ | ---- | ------ |\n",
    "| 1948 | 2118.5 | 24.0 | 3.8    |\n",
    "| 1949 | 2106.6 | 23.8 | 6.0    |\n",
    "\n",
    "To load a CSV file as a NumPy array, we use `loadtxt()`:"
   ]
  },
  {
   "cell_type": "code",
   "execution_count": 3,
   "outputs": [
    {
     "data": {
      "text/plain": "array([[1948. , 2118.5,   24. ,    3.8],\n       [1949. , 2106.6,   23.8,    6. ]])"
     },
     "execution_count": 3,
     "metadata": {},
     "output_type": "execute_result"
    }
   ],
   "source": [
    "import numpy as np\n",
    "\n",
    "# load CSV\n",
    "data = np.loadtxt('../data/FRED.csv', skiprows=1, delimiter=',')\n",
    "data[:2]        # Display first two rows"
   ],
   "metadata": {
    "collapsed": false,
    "pycharm": {
     "name": "#%%\n"
    }
   }
  },
  {
   "cell_type": "markdown",
   "source": [
    "The default arguments will in many cases be appropriate to load\n",
    "whatever CSV file you might have. However, you'll occassionally\n",
    "want to specify the following arguments to override the defaults:\n",
    "\n",
    "-   `delimiter`: Character used to separate individual fields (default: space)\n",
    "-   `skiprows=n`: Skip the first `n` rows. For example, if the CSV file\n",
    "    contains a header with variable names, `skiprows=1` needs to be\n",
    "    specified.\n",
    "-   `dtype`: Enforce a particular data type for the resulting array.\n",
    "-   `encoding`: Set the character encoding of the input data. This\n",
    "    will hardly ever be needed, but can be required to import data\n",
    "    with non-latin characters that are not encoded using Unicode.\n",
    "\n",
    "NumPy implements an additional function to load text data,\n",
    "`np.genfromtxt()`. This routine is more flexible: for example, it can handle\n",
    "missing data.\n",
    "\n",
    "Finally, to save a NumPy array to a CSV file there is a logical counterpart\n",
    "to `np.loadtxt()` which is called `np.savetxt()`."
   ],
   "metadata": {
    "collapsed": false,
    "pycharm": {
     "name": "#%% md\n"
    }
   }
  },
  {
   "cell_type": "code",
   "execution_count": 7,
   "outputs": [],
   "source": [
    "import numpy as np\n",
    "import os.path\n",
    "import tempfile\n",
    "\n",
    "# Generate some random data on [0,1)\n",
    "data = np.random.default_rng(123).random(size=(10, 5))\n",
    "\n",
    "# create temporary directory\n",
    "d = tempfile.TemporaryDirectory()\n",
    "# CSV file name\n",
    "filename = os.path.join(d.name, 'data.csv')\n",
    "\n",
    "# Write NumPy array to CSV file\n",
    "np.savetxt(filename, data, delimiter=';', fmt='%8.5f')"
   ],
   "metadata": {
    "collapsed": false,
    "pycharm": {
     "name": "#%%\n"
    }
   }
  },
  {
   "cell_type": "markdown",
   "source": [
    "The above code creates a $10 \\times 5$ matrix of random floats\n",
    "and stores these in the file `data.csv` using 5 significant digits.\n",
    "The destination file is located in a temporary directory which\n",
    "will be different on every system this code is run on\n",
    "We use the `tempfile` module to create this writable temporary\n",
    "directory.\n"
   ],
   "metadata": {
    "collapsed": false,
    "pycharm": {
     "name": "#%% md\n"
    }
   }
  },
  {
   "cell_type": "markdown",
   "source": [
    "***\n",
    "## I/O with Pandas\n",
    "\n",
    "Pandas's I/O routines are more powerful than those implemented in NumPy,\n",
    "and they support reading numerous file formats. Since pandas supports heterogeneous data,\n",
    "it will additionally import files with mixed data (eg. strings and floats),\n",
    "whereas NumPy creates a somewhat useless array of `object` type.\n",
    "\n",
    "The most important routines are:\n",
    "\n",
    "-   `read_csv()`, `to_csv()`: Read or write CSV text files\n",
    "-   `read_fwf()`: Read data with fixed field with, ie. text data\n",
    "    that does not use delimiters to separate fields.\n",
    "-   `read_excel()`, `to_excel()`: Read or write Excel spreadsheets\n",
    "-   `read_stata()`, `to_stata()`: Rear of write Stata `.dta` files.\n",
    "\n",
    "For a complete list of I/O routines, see the [official documentation](https://pandas.pydata.org/pandas-docs/stable/user_guide/io.html).\n",
    "\n",
    "To illustrate, we repeat the above example using pandas's\n",
    "`read_csv()`. Since this file contains only floating-point\n",
    "data, the result is very similar to reading in a NumPy array."
   ],
   "metadata": {
    "collapsed": false,
    "pycharm": {
     "name": "#%% md\n"
    }
   }
  },
  {
   "cell_type": "code",
   "execution_count": 11,
   "outputs": [
    {
     "data": {
      "text/plain": "   Year     GDP   CPI  UNRATE\n0  1948  2118.5  24.0     3.8\n1  1949  2106.6  23.8     6.0\n2  1950  2289.5  24.1     5.2\n3  1951  2473.8  26.0     3.3\n4  1952  2574.9  26.6     3.0",
      "text/html": "<div>\n<style scoped>\n    .dataframe tbody tr th:only-of-type {\n        vertical-align: middle;\n    }\n\n    .dataframe tbody tr th {\n        vertical-align: top;\n    }\n\n    .dataframe thead th {\n        text-align: right;\n    }\n</style>\n<table border=\"1\" class=\"dataframe\">\n  <thead>\n    <tr style=\"text-align: right;\">\n      <th></th>\n      <th>Year</th>\n      <th>GDP</th>\n      <th>CPI</th>\n      <th>UNRATE</th>\n    </tr>\n  </thead>\n  <tbody>\n    <tr>\n      <th>0</th>\n      <td>1948</td>\n      <td>2118.5</td>\n      <td>24.0</td>\n      <td>3.8</td>\n    </tr>\n    <tr>\n      <th>1</th>\n      <td>1949</td>\n      <td>2106.6</td>\n      <td>23.8</td>\n      <td>6.0</td>\n    </tr>\n    <tr>\n      <th>2</th>\n      <td>1950</td>\n      <td>2289.5</td>\n      <td>24.1</td>\n      <td>5.2</td>\n    </tr>\n    <tr>\n      <th>3</th>\n      <td>1951</td>\n      <td>2473.8</td>\n      <td>26.0</td>\n      <td>3.3</td>\n    </tr>\n    <tr>\n      <th>4</th>\n      <td>1952</td>\n      <td>2574.9</td>\n      <td>26.6</td>\n      <td>3.0</td>\n    </tr>\n  </tbody>\n</table>\n</div>"
     },
     "execution_count": 11,
     "metadata": {},
     "output_type": "execute_result"
    }
   ],
   "source": [
    "import pandas as pd\n",
    "\n",
    "filename = '../data/FRED.csv'\n",
    "df = pd.read_csv(filename, sep=',')\n",
    "df.head(2)          # Display the first 2 rows of data"
   ],
   "metadata": {
    "collapsed": false,
    "pycharm": {
     "name": "#%%\n"
    }
   }
  },
  {
   "cell_type": "markdown",
   "source": [
    "The difference between NumPy and pandas become obvious when we\n",
    "try to load our university data from an earlier unit:"
   ],
   "metadata": {
    "collapsed": false,
    "pycharm": {
     "name": "#%% md\n"
    }
   }
  },
  {
   "cell_type": "code",
   "execution_count": 12,
   "outputs": [
    {
     "ename": "ValueError",
     "evalue": "could not convert string to float: '\"Institution\"'",
     "output_type": "error",
     "traceback": [
      "\u001B[0;31m---------------------------------------------------------------------------\u001B[0m",
      "\u001B[0;31mValueError\u001B[0m                                Traceback (most recent call last)",
      "\u001B[0;32m<ipython-input-12-de029f6277f0>\u001B[0m in \u001B[0;36m<module>\u001B[0;34m\u001B[0m\n\u001B[1;32m      2\u001B[0m \u001B[0;34m\u001B[0m\u001B[0m\n\u001B[1;32m      3\u001B[0m \u001B[0mfilename\u001B[0m \u001B[0;34m=\u001B[0m \u001B[0;34m'../data/universities.csv'\u001B[0m\u001B[0;34m\u001B[0m\u001B[0;34m\u001B[0m\u001B[0m\n\u001B[0;32m----> 4\u001B[0;31m \u001B[0mdata\u001B[0m \u001B[0;34m=\u001B[0m \u001B[0mnp\u001B[0m\u001B[0;34m.\u001B[0m\u001B[0mloadtxt\u001B[0m\u001B[0;34m(\u001B[0m\u001B[0mfilename\u001B[0m\u001B[0;34m,\u001B[0m \u001B[0mdelimiter\u001B[0m\u001B[0;34m=\u001B[0m\u001B[0;34m';'\u001B[0m\u001B[0;34m)\u001B[0m\u001B[0;34m\u001B[0m\u001B[0;34m\u001B[0m\u001B[0m\n\u001B[0m\u001B[1;32m      5\u001B[0m \u001B[0;34m\u001B[0m\u001B[0m\n",
      "\u001B[0;32m~/.conda/envs/py3-default/lib/python3.7/site-packages/numpy/lib/npyio.py\u001B[0m in \u001B[0;36mloadtxt\u001B[0;34m(fname, dtype, comments, delimiter, converters, skiprows, usecols, unpack, ndmin, encoding, max_rows)\u001B[0m\n\u001B[1;32m   1137\u001B[0m         \u001B[0;31m# converting the data\u001B[0m\u001B[0;34m\u001B[0m\u001B[0;34m\u001B[0m\u001B[0;34m\u001B[0m\u001B[0m\n\u001B[1;32m   1138\u001B[0m         \u001B[0mX\u001B[0m \u001B[0;34m=\u001B[0m \u001B[0;32mNone\u001B[0m\u001B[0;34m\u001B[0m\u001B[0;34m\u001B[0m\u001B[0m\n\u001B[0;32m-> 1139\u001B[0;31m         \u001B[0;32mfor\u001B[0m \u001B[0mx\u001B[0m \u001B[0;32min\u001B[0m \u001B[0mread_data\u001B[0m\u001B[0;34m(\u001B[0m\u001B[0m_loadtxt_chunksize\u001B[0m\u001B[0;34m)\u001B[0m\u001B[0;34m:\u001B[0m\u001B[0;34m\u001B[0m\u001B[0;34m\u001B[0m\u001B[0m\n\u001B[0m\u001B[1;32m   1140\u001B[0m             \u001B[0;32mif\u001B[0m \u001B[0mX\u001B[0m \u001B[0;32mis\u001B[0m \u001B[0;32mNone\u001B[0m\u001B[0;34m:\u001B[0m\u001B[0;34m\u001B[0m\u001B[0;34m\u001B[0m\u001B[0m\n\u001B[1;32m   1141\u001B[0m                 \u001B[0mX\u001B[0m \u001B[0;34m=\u001B[0m \u001B[0mnp\u001B[0m\u001B[0;34m.\u001B[0m\u001B[0marray\u001B[0m\u001B[0;34m(\u001B[0m\u001B[0mx\u001B[0m\u001B[0;34m,\u001B[0m \u001B[0mdtype\u001B[0m\u001B[0;34m)\u001B[0m\u001B[0;34m\u001B[0m\u001B[0;34m\u001B[0m\u001B[0m\n",
      "\u001B[0;32m~/.conda/envs/py3-default/lib/python3.7/site-packages/numpy/lib/npyio.py\u001B[0m in \u001B[0;36mread_data\u001B[0;34m(chunk_size)\u001B[0m\n\u001B[1;32m   1065\u001B[0m \u001B[0;34m\u001B[0m\u001B[0m\n\u001B[1;32m   1066\u001B[0m             \u001B[0;31m# Convert each value according to its column and store\u001B[0m\u001B[0;34m\u001B[0m\u001B[0;34m\u001B[0m\u001B[0;34m\u001B[0m\u001B[0m\n\u001B[0;32m-> 1067\u001B[0;31m             \u001B[0mitems\u001B[0m \u001B[0;34m=\u001B[0m \u001B[0;34m[\u001B[0m\u001B[0mconv\u001B[0m\u001B[0;34m(\u001B[0m\u001B[0mval\u001B[0m\u001B[0;34m)\u001B[0m \u001B[0;32mfor\u001B[0m \u001B[0;34m(\u001B[0m\u001B[0mconv\u001B[0m\u001B[0;34m,\u001B[0m \u001B[0mval\u001B[0m\u001B[0;34m)\u001B[0m \u001B[0;32min\u001B[0m \u001B[0mzip\u001B[0m\u001B[0;34m(\u001B[0m\u001B[0mconverters\u001B[0m\u001B[0;34m,\u001B[0m \u001B[0mvals\u001B[0m\u001B[0;34m)\u001B[0m\u001B[0;34m]\u001B[0m\u001B[0;34m\u001B[0m\u001B[0;34m\u001B[0m\u001B[0m\n\u001B[0m\u001B[1;32m   1068\u001B[0m \u001B[0;34m\u001B[0m\u001B[0m\n\u001B[1;32m   1069\u001B[0m             \u001B[0;31m# Then pack it according to the dtype's nesting\u001B[0m\u001B[0;34m\u001B[0m\u001B[0;34m\u001B[0m\u001B[0;34m\u001B[0m\u001B[0m\n",
      "\u001B[0;32m~/.conda/envs/py3-default/lib/python3.7/site-packages/numpy/lib/npyio.py\u001B[0m in \u001B[0;36m<listcomp>\u001B[0;34m(.0)\u001B[0m\n\u001B[1;32m   1065\u001B[0m \u001B[0;34m\u001B[0m\u001B[0m\n\u001B[1;32m   1066\u001B[0m             \u001B[0;31m# Convert each value according to its column and store\u001B[0m\u001B[0;34m\u001B[0m\u001B[0;34m\u001B[0m\u001B[0;34m\u001B[0m\u001B[0m\n\u001B[0;32m-> 1067\u001B[0;31m             \u001B[0mitems\u001B[0m \u001B[0;34m=\u001B[0m \u001B[0;34m[\u001B[0m\u001B[0mconv\u001B[0m\u001B[0;34m(\u001B[0m\u001B[0mval\u001B[0m\u001B[0;34m)\u001B[0m \u001B[0;32mfor\u001B[0m \u001B[0;34m(\u001B[0m\u001B[0mconv\u001B[0m\u001B[0;34m,\u001B[0m \u001B[0mval\u001B[0m\u001B[0;34m)\u001B[0m \u001B[0;32min\u001B[0m \u001B[0mzip\u001B[0m\u001B[0;34m(\u001B[0m\u001B[0mconverters\u001B[0m\u001B[0;34m,\u001B[0m \u001B[0mvals\u001B[0m\u001B[0;34m)\u001B[0m\u001B[0;34m]\u001B[0m\u001B[0;34m\u001B[0m\u001B[0;34m\u001B[0m\u001B[0m\n\u001B[0m\u001B[1;32m   1068\u001B[0m \u001B[0;34m\u001B[0m\u001B[0m\n\u001B[1;32m   1069\u001B[0m             \u001B[0;31m# Then pack it according to the dtype's nesting\u001B[0m\u001B[0;34m\u001B[0m\u001B[0;34m\u001B[0m\u001B[0;34m\u001B[0m\u001B[0m\n",
      "\u001B[0;32m~/.conda/envs/py3-default/lib/python3.7/site-packages/numpy/lib/npyio.py\u001B[0m in \u001B[0;36mfloatconv\u001B[0;34m(x)\u001B[0m\n\u001B[1;32m    761\u001B[0m         \u001B[0;32mif\u001B[0m \u001B[0;34m'0x'\u001B[0m \u001B[0;32min\u001B[0m \u001B[0mx\u001B[0m\u001B[0;34m:\u001B[0m\u001B[0;34m\u001B[0m\u001B[0;34m\u001B[0m\u001B[0m\n\u001B[1;32m    762\u001B[0m             \u001B[0;32mreturn\u001B[0m \u001B[0mfloat\u001B[0m\u001B[0;34m.\u001B[0m\u001B[0mfromhex\u001B[0m\u001B[0;34m(\u001B[0m\u001B[0mx\u001B[0m\u001B[0;34m)\u001B[0m\u001B[0;34m\u001B[0m\u001B[0;34m\u001B[0m\u001B[0m\n\u001B[0;32m--> 763\u001B[0;31m         \u001B[0;32mreturn\u001B[0m \u001B[0mfloat\u001B[0m\u001B[0;34m(\u001B[0m\u001B[0mx\u001B[0m\u001B[0;34m)\u001B[0m\u001B[0;34m\u001B[0m\u001B[0;34m\u001B[0m\u001B[0m\n\u001B[0m\u001B[1;32m    764\u001B[0m \u001B[0;34m\u001B[0m\u001B[0m\n\u001B[1;32m    765\u001B[0m     \u001B[0mtyp\u001B[0m \u001B[0;34m=\u001B[0m \u001B[0mdtype\u001B[0m\u001B[0;34m.\u001B[0m\u001B[0mtype\u001B[0m\u001B[0;34m\u001B[0m\u001B[0;34m\u001B[0m\u001B[0m\n",
      "\u001B[0;31mValueError\u001B[0m: could not convert string to float: '\"Institution\"'"
     ]
    }
   ],
   "source": [
    "import numpy as np\n",
    "\n",
    "filename = '../data/universities.csv'\n",
    "# Try to load CSV data that contains strings\n",
    "# This will result in an error!\n",
    "data = np.loadtxt(filename, delimiter=';')"
   ],
   "metadata": {
    "collapsed": false,
    "pycharm": {
     "name": "#%%\n"
    }
   }
  },
  {
   "cell_type": "markdown",
   "source": [
    "On the other hand, this mixed data can be loaded with pandas\n",
    "without issues:"
   ],
   "metadata": {
    "collapsed": false,
    "pycharm": {
     "name": "#%% md\n"
    }
   }
  },
  {
   "cell_type": "code",
   "execution_count": 13,
   "outputs": [
    {
     "data": {
      "text/plain": "                Institution   Country  Founded  Students  Budget  Rank\n0     University of Glasgow  Scotland     1451     30805   626.5    92\n1   University of Edinburgh  Scotland     1583     34275  1102.0    30\n2  University of St Andrews  Scotland     1413      8984   251.2   201",
      "text/html": "<div>\n<style scoped>\n    .dataframe tbody tr th:only-of-type {\n        vertical-align: middle;\n    }\n\n    .dataframe tbody tr th {\n        vertical-align: top;\n    }\n\n    .dataframe thead th {\n        text-align: right;\n    }\n</style>\n<table border=\"1\" class=\"dataframe\">\n  <thead>\n    <tr style=\"text-align: right;\">\n      <th></th>\n      <th>Institution</th>\n      <th>Country</th>\n      <th>Founded</th>\n      <th>Students</th>\n      <th>Budget</th>\n      <th>Rank</th>\n    </tr>\n  </thead>\n  <tbody>\n    <tr>\n      <th>0</th>\n      <td>University of Glasgow</td>\n      <td>Scotland</td>\n      <td>1451</td>\n      <td>30805</td>\n      <td>626.5</td>\n      <td>92</td>\n    </tr>\n    <tr>\n      <th>1</th>\n      <td>University of Edinburgh</td>\n      <td>Scotland</td>\n      <td>1583</td>\n      <td>34275</td>\n      <td>1102.0</td>\n      <td>30</td>\n    </tr>\n    <tr>\n      <th>2</th>\n      <td>University of St Andrews</td>\n      <td>Scotland</td>\n      <td>1413</td>\n      <td>8984</td>\n      <td>251.2</td>\n      <td>201</td>\n    </tr>\n  </tbody>\n</table>\n</div>"
     },
     "execution_count": 13,
     "metadata": {},
     "output_type": "execute_result"
    }
   ],
   "source": [
    "import pandas as pd\n",
    "\n",
    "filename = '../data/universities.csv'\n",
    "df = pd.read_csv(filename, sep=';')\n",
    "df.head(3)      # show first 3 rows"
   ],
   "metadata": {
    "collapsed": false,
    "pycharm": {
     "name": "#%%\n"
    }
   }
  },
  {
   "cell_type": "markdown",
   "source": [
    "Unlike NumPy, pandas can also process other popular data formats\n",
    "such as MS Excel files (or OpenDocument spreadsheets):"
   ],
   "metadata": {
    "collapsed": false,
    "pycharm": {
     "name": "#%% md\n"
    }
   }
  },
  {
   "cell_type": "code",
   "execution_count": 1,
   "outputs": [
    {
     "data": {
      "text/plain": "                Institution   Country  Founded  Students  Budget  Rank\n0     University of Glasgow  Scotland     1451     30805   626.5    92\n1   University of Edinburgh  Scotland     1583     34275  1102.0    30\n2  University of St Andrews  Scotland     1413      8984   251.2   201",
      "text/html": "<div>\n<style scoped>\n    .dataframe tbody tr th:only-of-type {\n        vertical-align: middle;\n    }\n\n    .dataframe tbody tr th {\n        vertical-align: top;\n    }\n\n    .dataframe thead th {\n        text-align: right;\n    }\n</style>\n<table border=\"1\" class=\"dataframe\">\n  <thead>\n    <tr style=\"text-align: right;\">\n      <th></th>\n      <th>Institution</th>\n      <th>Country</th>\n      <th>Founded</th>\n      <th>Students</th>\n      <th>Budget</th>\n      <th>Rank</th>\n    </tr>\n  </thead>\n  <tbody>\n    <tr>\n      <th>0</th>\n      <td>University of Glasgow</td>\n      <td>Scotland</td>\n      <td>1451</td>\n      <td>30805</td>\n      <td>626.5</td>\n      <td>92</td>\n    </tr>\n    <tr>\n      <th>1</th>\n      <td>University of Edinburgh</td>\n      <td>Scotland</td>\n      <td>1583</td>\n      <td>34275</td>\n      <td>1102.0</td>\n      <td>30</td>\n    </tr>\n    <tr>\n      <th>2</th>\n      <td>University of St Andrews</td>\n      <td>Scotland</td>\n      <td>1413</td>\n      <td>8984</td>\n      <td>251.2</td>\n      <td>201</td>\n    </tr>\n  </tbody>\n</table>\n</div>"
     },
     "execution_count": 1,
     "metadata": {},
     "output_type": "execute_result"
    }
   ],
   "source": [
    "import pandas as pd\n",
    "\n",
    "# Excel file containing university data\n",
    "filename = '../data/../data/universities.xlsx'\n",
    "\n",
    "df = pd.read_excel(filename, sheet_name='universities')\n",
    "df.head(3)"
   ],
   "metadata": {
    "collapsed": false,
    "pycharm": {
     "name": "#%%\n"
    }
   }
  },
  {
   "cell_type": "markdown",
   "source": [
    "The routine `read_excel()` takes the argument `sheet_name` to\n",
    "specify the sheet that should be read.\n",
    "\n",
    "Note the Python package `xlrd` needs to be installed in order\n",
    "to read files from Excel 2003 and above.\n",
    "\n",
    "Finally, we often encounter text files with fixed field widths,\n",
    "since this is a commonly used format in older applications\n",
    "(for example, fixed-width files are easy to create in Fortran).\n",
    "To read such files, the width (ie. the number of characters)\n",
    "has to be explicitly specified:"
   ],
   "metadata": {
    "collapsed": false,
    "pycharm": {
     "name": "#%% md\n"
    }
   }
  },
  {
   "cell_type": "code",
   "execution_count": 2,
   "outputs": [
    {
     "data": {
      "text/plain": "   Year     GDP   CPI  UNRATE\n0  1948  2118.5  24.0     3.8\n1  1949  2106.6  23.8     6.0\n2  1950  2289.5  24.1     5.2",
      "text/html": "<div>\n<style scoped>\n    .dataframe tbody tr th:only-of-type {\n        vertical-align: middle;\n    }\n\n    .dataframe tbody tr th {\n        vertical-align: top;\n    }\n\n    .dataframe thead th {\n        text-align: right;\n    }\n</style>\n<table border=\"1\" class=\"dataframe\">\n  <thead>\n    <tr style=\"text-align: right;\">\n      <th></th>\n      <th>Year</th>\n      <th>GDP</th>\n      <th>CPI</th>\n      <th>UNRATE</th>\n    </tr>\n  </thead>\n  <tbody>\n    <tr>\n      <th>0</th>\n      <td>1948</td>\n      <td>2118.5</td>\n      <td>24.0</td>\n      <td>3.8</td>\n    </tr>\n    <tr>\n      <th>1</th>\n      <td>1949</td>\n      <td>2106.6</td>\n      <td>23.8</td>\n      <td>6.0</td>\n    </tr>\n    <tr>\n      <th>2</th>\n      <td>1950</td>\n      <td>2289.5</td>\n      <td>24.1</td>\n      <td>5.2</td>\n    </tr>\n  </tbody>\n</table>\n</div>"
     },
     "execution_count": 2,
     "metadata": {},
     "output_type": "execute_result"
    }
   ],
   "source": [
    "import pandas as pd\n",
    "\n",
    "# File name of FRED data, stored as fixed-width text\n",
    "filename = '../data/FRED-fixed.csv'\n",
    "\n",
    "# field widths are passed as list to read_fwf()\n",
    "df = pd.read_fwf(filename, widths=[5, 7, 5, 8])\n",
    "df.head(3)\n"
   ],
   "metadata": {
    "collapsed": false,
    "pycharm": {
     "name": "#%%\n"
    }
   }
  },
  {
   "cell_type": "markdown",
   "source": [
    "***\n",
    "## Pickling\n",
    "\n",
    "A wholly different approach to data I/O is taken by Python's\n",
    "built-in `pickle` module (see [official documentation](https://docs.python.org/3/library/pickle.html)).\n",
    "Almost any Python object can be\n",
    "dumped into a binary file and read back using `pickle.dump()`\n",
    "and `pickle.load()`.\n",
    "\n",
    "The big advantage over other methods\n",
    "is that hierarchies of objets are automatically supported.\n",
    "For example, we can pickle a list containing a `tuple`, a string and a NumPy array:"
   ],
   "metadata": {
    "collapsed": false,
    "pycharm": {
     "name": "#%% md\n"
    }
   }
  },
  {
   "cell_type": "code",
   "execution_count": 10,
   "outputs": [],
   "source": [
    "import numpy as np\n",
    "import pickle\n",
    "import tempfile\n",
    "import os.path\n",
    "\n",
    "# Generate some random data on [0,1)\n",
    "arr = np.arange(10).reshape((2, -1))\n",
    "tpl = (1, 2, 3)\n",
    "text = 'Pickle is very powerful!'\n",
    "\n",
    "# data: several nested containers and strings\n",
    "data = [tpl, text, arr]\n",
    "\n",
    "# create temporary directory\n",
    "d = tempfile.TemporaryDirectory()\n",
    "# Binary destination file\n",
    "filename = os.path.join(d.name, 'data.bin')\n",
    "\n",
    "with open(filename, 'wb') as f:\n",
    "    pickle.dump(data, f)"
   ],
   "metadata": {
    "collapsed": false,
    "pycharm": {
     "name": "#%%\n"
    }
   }
  },
  {
   "cell_type": "markdown",
   "source": [
    "We can then read back the data as follows:"
   ],
   "metadata": {
    "collapsed": false,
    "pycharm": {
     "name": "#%% md\n"
    }
   }
  },
  {
   "cell_type": "code",
   "execution_count": 12,
   "outputs": [
    {
     "data": {
      "text/plain": "array([[0, 1, 2, 3, 4],\n       [5, 6, 7, 8, 9]])"
     },
     "execution_count": 12,
     "metadata": {},
     "output_type": "execute_result"
    }
   ],
   "source": [
    "# load pickle data from above\n",
    "with open(filename, 'rb') as f:\n",
    "    data = pickle.load(f)\n",
    "\n",
    "# expand list into its components\n",
    "tpl, text, arr = data\n",
    "arr         # prints previously generated array"
   ],
   "metadata": {
    "collapsed": false,
    "pycharm": {
     "name": "#%%\n"
    }
   }
  },
  {
   "cell_type": "markdown",
   "source": [
    "The above example introduces a few concepts we have not countered so far:\n",
    "\n",
    "1.  The built-in function `open()` is used to open files for\n",
    "    reading or writing. The second argument indicates whether\n",
    "    a file should be read-only, `r`, or writable, `w`.\n",
    "    The `b` sets the file mode to *binary*, ie its contents are not\n",
    "    human-readable text.\n",
    "2.  We usually access files using a so-called context manager.\n",
    "    A context manager is created using the `with` statement.\n",
    "\n",
    "    A big advantage of using a context manager is that the\n",
    "    file resource made available as `f` in the block following\n",
    "    `with` is automatically cleaned up as soon as the block exits.\n",
    "\n",
    "So why not always use `pickle` to load and store data?\n",
    "\n",
    "1.  Pickling is Python-specific and no other application can process\n",
    "    pickled data.\n",
    "2.  The pickle protocol can change in a newer version of Python,\n",
    "    and you might not be able to read back your old pickled objects.\n",
    "3.  Even worse, because projects such as NumPy and Pandas implement\n",
    "    their own pickling routines, you might not even be able\n",
    "    to unpickle old DataFrames when you upgrade to a newer Pandas version!\n",
    "4.  `pickle` is not secure: It is possible to construct binary\n",
    "    data that will execute arbitrary code when unpickling, so you\n",
    "    don't want to unpickle data from untrusted sources.\n",
    "5.  Some object cannot be pickled. For example, this applies to\n",
    "    any classes defined using Numba or Cython.\n",
    "    As a novice programmer you will not define such data types yourself,\n",
    "    but might unknowingly encounter them if they are part of a library\n",
    "    you use.\n",
    "\n",
    "\n",
    "`pickle` is great for internal use when you do not need to exchange\n",
    "data with others, and have complete control over your computing environment\n",
    "(ie. you can enforce a specific version of Python and the libraries you are\n",
    "using). For anything else, you should avoid it."
   ],
   "metadata": {
    "collapsed": false,
    "pycharm": {
     "name": "#%% md\n"
    }
   }
  }
 ],
 "metadata": {
  "kernelspec": {
   "name": "pycharm-b08fdce2",
   "language": "python",
   "display_name": "PyCharm (python-statistics)"
  },
  "language_info": {
   "codemirror_mode": {
    "name": "ipython",
    "version": 2
   },
   "file_extension": ".py",
   "mimetype": "text/x-python",
   "name": "python",
   "nbconvert_exporter": "python",
   "pygments_lexer": "ipython2",
   "version": "2.7.6"
  }
 },
 "nbformat": 4,
 "nbformat_minor": 0
}