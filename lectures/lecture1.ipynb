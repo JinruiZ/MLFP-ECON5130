{
 "cells": [
  {
   "cell_type": "markdown",
   "metadata": {
    "collapsed": true
   },
   "source": [
    "# Lecture 1\n",
    "\n",
    "In this lecture we start exploring the Python language,\n",
    "covering the following topics:\n",
    "1. Basic syntax\n",
    "2. Built-in data types\n",
    "3. NumPy arrays\n",
    "\n",
    "## Basic syntax\n",
    "\n",
    "- You don't need to add a character to terminate a line, unlike in some languages.\n",
    "- Everything after a # character (until the end of the line) is a comment and will be ignored.\n",
    "- Whitespace characters matter (unlike in most languages)!\n",
    "    Python uses indentation (usually 4 spaces) to group statements,\n",
    "    for example loop bodies, functions, etc.\n",
    "- You can use the `print()` function to inspect almost any object."
   ]
  },
  {
   "cell_type": "code",
   "execution_count": 103,
   "outputs": [
    {
     "name": "stdout",
     "output_type": "stream",
     "text": [
      "Hello, world!\n"
     ]
    }
   ],
   "source": [
    "# First example\n",
    "\n",
    "# create a variable named 'text' that stores the string 'Hello, world!'\n",
    "text = 'Hello, world!'\n",
    "\n",
    "# print contents of 'text'\n",
    "print(text)"
   ],
   "metadata": {
    "collapsed": false,
    "pycharm": {
     "name": "#%%\n"
    }
   }
  },
  {
   "cell_type": "markdown",
   "source": [
    "In IPython notebooks and command-liny Python interpreters,\n",
    "we can also display a value by simply writing the variable name."
   ],
   "metadata": {
    "collapsed": false,
    "pycharm": {
     "name": "#%% md\n"
    }
   }
  },
  {
   "cell_type": "code",
   "execution_count": 104,
   "outputs": [
    {
     "data": {
      "text/plain": "'Hello, world!'"
     },
     "execution_count": 104,
     "metadata": {},
     "output_type": "execute_result"
    }
   ],
   "source": [
    "text"
   ],
   "metadata": {
    "collapsed": false,
    "pycharm": {
     "name": "#%%\n"
    }
   }
  },
  {
   "cell_type": "markdown",
   "source": [
    "This does not do anything in *proper* python script files\n",
    "that are run through the interpreter, though."
   ],
   "metadata": {
    "collapsed": false,
    "pycharm": {
     "name": "#%% md\n"
    }
   }
  },
  {
   "cell_type": "markdown",
   "source": [
    "## Built-in data types\n",
    "\n",
    "Pythons is a dynamically-typed language:\n",
    "- Unlike in C or Fortran, you don't need to declare a variable or its type\n",
    "\n",
    "We now look at the most useful built-in data types:\n",
    "- integers\n",
    "- floating-point numbers (floats)\n",
    "- strings\n",
    "- tuples\n",
    "- lists\n",
    "- dictionaries"
   ],
   "metadata": {
    "collapsed": false,
    "pycharm": {
     "name": "#%% md\n"
    }
   }
  },
  {
   "cell_type": "markdown",
   "source": [
    "### Integers and floats"
   ],
   "metadata": {
    "collapsed": false,
    "pycharm": {
     "name": "#%% md\n"
    }
   }
  },
  {
   "cell_type": "code",
   "execution_count": 105,
   "outputs": [],
   "source": [
    "# Integer variables\n",
    "i = 1\n",
    "\n",
    "# Floating-point variables\n",
    "x = 1.0\n",
    "\n",
    "# A name can reference any data type:\n",
    "# Previously, x was a float, now it's an integer!\n",
    "x = 1\n",
    "\n",
    "# It is good programming practice to specify floating-point\n",
    "# literals using a decimal point. It makes a difference in\n",
    "# a few cases (especially when using Numba or Cython).\n",
    "x = 1.0 # instead of x = 1"
   ],
   "metadata": {
    "collapsed": false,
    "pycharm": {
     "name": "#%%\n"
    }
   }
  },
  {
   "cell_type": "markdown",
   "source": [
    "### Strings\n",
    "\n",
    "The string data type stores sequences of characters."
   ],
   "metadata": {
    "collapsed": false,
    "pycharm": {
     "name": "#%% md\n"
    }
   }
  },
  {
   "cell_type": "code",
   "execution_count": 106,
   "outputs": [],
   "source": [
    "# Strings need to be surrounded by single (') or double (\") quotes!\n",
    "institution = 'University of Glasgow'\n",
    "institution = \"University of Glasgow\"\n"
   ],
   "metadata": {
    "collapsed": false,
    "pycharm": {
     "name": "#%%\n"
    }
   }
  },
  {
   "cell_type": "markdown",
   "source": [
    "### Tuples\n",
    "\n",
    "Tuples represent a collection of several items which can\n",
    "have different data types. They are created using parenthesis."
   ],
   "metadata": {
    "collapsed": false,
    "pycharm": {
     "name": "#%% md\n"
    }
   }
  },
  {
   "cell_type": "code",
   "execution_count": 107,
   "outputs": [],
   "source": [
    "# A tuple containing a string, an integer and a float\n",
    "items = ('foo', 1, 1.0)"
   ],
   "metadata": {
    "collapsed": false,
    "pycharm": {
     "name": "#%%\n"
    }
   }
  },
  {
   "cell_type": "markdown",
   "source": [
    "Use [] to access an element in a tuple (or any other\n",
    "list-like object)"
   ],
   "metadata": {
    "collapsed": false,
    "pycharm": {
     "name": "#%% md\n"
    }
   }
  },
  {
   "cell_type": "code",
   "execution_count": 108,
   "outputs": [
    {
     "name": "stdout",
     "output_type": "stream",
     "text": [
      "foo\n"
     ]
    }
   ],
   "source": [
    "first = items[0] # contains 'foo'\n",
    "print(first)"
   ],
   "metadata": {
    "collapsed": false,
    "pycharm": {
     "name": "#%%\n"
    }
   }
  },
  {
   "cell_type": "markdown",
   "source": [
    "Python indices are 0-based, so 0 references the first element,\n",
    "1 the second element, etc."
   ],
   "metadata": {
    "collapsed": false,
    "pycharm": {
     "name": "#%% md\n"
    }
   }
  },
  {
   "cell_type": "code",
   "execution_count": 109,
   "outputs": [],
   "source": [
    "second = items[1] # contains second element\n"
   ],
   "metadata": {
    "collapsed": false,
    "pycharm": {
     "name": "#%%\n"
    }
   }
  },
  {
   "cell_type": "markdown",
   "metadata": {},
   "source": [
    "Tuples are immutable, which means that the references\n",
    "stored in the tuple cannot be changed!"
   ]
  },
  {
   "cell_type": "code",
   "execution_count": 110,
   "outputs": [
    {
     "ename": "TypeError",
     "evalue": "'tuple' object does not support item assignment",
     "output_type": "error",
     "traceback": [
      "\u001B[0;31m---------------------------------------------------------------------------\u001B[0m",
      "\u001B[0;31mTypeError\u001B[0m                                 Traceback (most recent call last)",
      "\u001B[0;32m<ipython-input-110-3cf7deae3b1f>\u001B[0m in \u001B[0;36m<module>\u001B[0;34m\u001B[0m\n\u001B[1;32m      1\u001B[0m \u001B[0;31m# This raises an error!\u001B[0m\u001B[0;34m\u001B[0m\u001B[0;34m\u001B[0m\u001B[0;34m\u001B[0m\u001B[0m\n\u001B[0;32m----> 2\u001B[0;31m \u001B[0mitems\u001B[0m\u001B[0;34m[\u001B[0m\u001B[0;36m0\u001B[0m\u001B[0;34m]\u001B[0m \u001B[0;34m=\u001B[0m \u001B[0;36m123\u001B[0m\u001B[0;34m\u001B[0m\u001B[0;34m\u001B[0m\u001B[0m\n\u001B[0m\u001B[1;32m      3\u001B[0m \u001B[0;34m\u001B[0m\u001B[0m\n",
      "\u001B[0;31mTypeError\u001B[0m: 'tuple' object does not support item assignment"
     ]
    }
   ],
   "source": [
    "# This raises an error!\n",
    "items[0] = 123"
   ],
   "metadata": {
    "collapsed": false,
    "pycharm": {
     "name": "#%%\n"
    }
   }
  },
  {
   "cell_type": "markdown",
   "source": [
    "### Lists\n",
    "\n",
    "Lists are like tuples, expect that they can be modified.\n",
    "We create lists using brackets []."
   ],
   "metadata": {
    "collapsed": false,
    "pycharm": {
     "name": "#%% md\n"
    }
   }
  },
  {
   "cell_type": "code",
   "execution_count": null,
   "outputs": [],
   "source": [
    "lst = ['foo', 1, 1.0]"
   ],
   "metadata": {
    "collapsed": false,
    "pycharm": {
     "name": "#%%\n"
    }
   }
  },
  {
   "cell_type": "markdown",
   "source": [
    "Accessing list items works the same as with tuples"
   ],
   "metadata": {
    "collapsed": false,
    "pycharm": {
     "name": "#%% md\n"
    }
   }
  },
  {
   "cell_type": "code",
   "execution_count": null,
   "outputs": [],
   "source": [
    "print(lst[0]) # print first item"
   ],
   "metadata": {
    "collapsed": false,
    "pycharm": {
     "name": "#%%\n"
    }
   }
  },
  {
   "cell_type": "markdown",
   "source": [
    "Lists items can be modified:"
   ],
   "metadata": {
    "collapsed": false,
    "pycharm": {
     "name": "#%% md\n"
    }
   }
  },
  {
   "cell_type": "code",
   "execution_count": null,
   "outputs": [],
   "source": [
    "lst[0] = 'bar'\n",
    "lst"
   ],
   "metadata": {
    "collapsed": false,
    "pycharm": {
     "name": "#%%\n"
    }
   }
  },
  {
   "cell_type": "markdown",
   "source": [
    "Lists are full-fledged objects that support various operations,\n",
    "for example"
   ],
   "metadata": {
    "collapsed": false,
    "pycharm": {
     "name": "#%% md\n"
    }
   }
  },
  {
   "cell_type": "code",
   "execution_count": null,
   "outputs": [],
   "source": [
    "lst.insert(0, 'abc') # insert element at position 0\n",
    "lst.append(2.0) # append element at the end\n",
    "del lst[3] # delete the 4th element\n",
    "lst"
   ],
   "metadata": {
    "collapsed": false,
    "pycharm": {
     "name": "#%%\n"
    }
   }
  },
  {
   "cell_type": "markdown",
   "source": [
    "The built-in functions `len()` returns the number\n",
    "of elements in a list (and any other collection object)"
   ],
   "metadata": {
    "collapsed": false,
    "pycharm": {
     "name": "#%% md\n"
    }
   }
  },
  {
   "cell_type": "code",
   "execution_count": null,
   "outputs": [],
   "source": [
    "n = len(lst)\n",
    "print(n)"
   ],
   "metadata": {
    "collapsed": false,
    "pycharm": {
     "name": "#%%\n"
    }
   }
  },
  {
   "cell_type": "markdown",
   "source": [
    "### Dictionaries\n",
    "Dictionaries are container objects that map keys to values.\n",
    "- Both keys and values can be (almost any) Python objects,\n",
    "even though usually, we use strings as keys.\n",
    "- Dictionaries are created using curly braces {}.\n",
    "- Dictionaries are unordered, ie. elements stored in dictionaries\n",
    "  cannot be retrieved in any particular order."
   ],
   "metadata": {
    "collapsed": false,
    "pycharm": {
     "name": "#%% md\n"
    }
   }
  },
  {
   "cell_type": "code",
   "execution_count": null,
   "outputs": [],
   "source": [
    "dct = {'institution': 'University of Glasgow',\n",
    "       'course': 'Python bootcamp'}\n",
    "dct"
   ],
   "metadata": {
    "collapsed": false,
    "pycharm": {
     "name": "#%%\n"
    }
   }
  },
  {
   "cell_type": "markdown",
   "source": [
    "Specific values are access using the syntax `dict[key]`:"
   ],
   "metadata": {
    "collapsed": false,
    "pycharm": {
     "name": "#%% md\n"
    }
   }
  },
  {
   "cell_type": "code",
   "execution_count": null,
   "outputs": [],
   "source": [
    "value = dct['institution']\n",
    "value"
   ],
   "metadata": {
    "collapsed": false,
    "pycharm": {
     "name": "#%%\n"
    }
   }
  },
  {
   "cell_type": "markdown",
   "source": [
    "## NumPy arrays\n",
    "\n",
    "NumPy is a library that allows us to efficiently store and access\n",
    "(mainly) numerical data and apply numerical operations\n",
    "simular to those available in Matlab.\n",
    "- NumPy is not part of the core Python project\n",
    "- Python itself has an array type, but there is really no\n",
    "  reason to use it. Use NumPy!\n",
    "- NumPy types and functions are not built-in, we must\n",
    "  first import them to make them visible.\n",
    "  We do this using the `import` statement."
   ],
   "metadata": {
    "collapsed": false,
    "pycharm": {
     "name": "#%% md\n"
    }
   }
  },
  {
   "cell_type": "code",
   "execution_count": null,
   "outputs": [],
   "source": [
    "# The convention is to make NumPy functionality available\n",
    "# using the 'np' namespace\n",
    "import numpy as np"
   ],
   "metadata": {
    "collapsed": false,
    "pycharm": {
     "name": "#%%\n"
    }
   }
  },
  {
   "cell_type": "markdown",
   "source": [
    "### Creating arrays\n",
    "NumPy offers a multitude of functions to create arrays."
   ],
   "metadata": {
    "collapsed": false,
    "pycharm": {
     "name": "#%% md\n"
    }
   }
  },
  {
   "cell_type": "code",
   "execution_count": null,
   "outputs": [],
   "source": [
    "# Create a 1-dimensional array with 10 elements, initialise values to 0\n",
    "# We need to prefix the NumPy function zeros() with 'np'\n",
    "arr = np.zeros(10)\n",
    "arr"
   ],
   "metadata": {
    "collapsed": false,
    "pycharm": {
     "name": "#%%\n"
    }
   }
  },
  {
   "cell_type": "code",
   "execution_count": null,
   "outputs": [],
   "source": [
    "arr1 = np.ones(5) # vector of five ones\n",
    "arr1"
   ],
   "metadata": {
    "collapsed": false,
    "pycharm": {
     "name": "#%%\n"
    }
   }
  },
  {
   "cell_type": "markdown",
   "source": [
    "We can also create sequences of integers"
   ],
   "metadata": {
    "collapsed": false,
    "pycharm": {
     "name": "#%% md\n"
    }
   }
  },
  {
   "cell_type": "code",
   "execution_count": null,
   "outputs": [],
   "source": [
    "arr2 = np.arange(5) # vector [0,1,2,3,4]\n",
    "arr2"
   ],
   "metadata": {
    "collapsed": false,
    "pycharm": {
     "name": "#%%\n"
    }
   }
  },
  {
   "cell_type": "markdown",
   "source": [
    "We can explicitly specify initial values and increments.\n",
    "The end value is NOT included."
   ],
   "metadata": {
    "collapsed": false,
    "pycharm": {
     "name": "#%% md\n"
    }
   }
  },
  {
   "cell_type": "code",
   "execution_count": null,
   "outputs": [],
   "source": [
    "start = 2\n",
    "end = 10\n",
    "step = 2\n",
    "arr3 = np.arange(start, end, step)\n",
    "arr3"
   ],
   "metadata": {
    "collapsed": false,
    "pycharm": {
     "name": "#%%\n"
    }
   }
  },
  {
   "cell_type": "markdown",
   "source": [
    "We can create arrays without initialisation. This\n",
    "only allocates a chunk of memory, which most likely\n",
    "contains arbitrary garbage."
   ],
   "metadata": {
    "collapsed": false,
    "pycharm": {
     "name": "#%% md\n"
    }
   }
  },
  {
   "cell_type": "code",
   "execution_count": null,
   "outputs": [],
   "source": [
    "arr4 = np.empty(3)\n",
    "arr4 # values are unpredictable"
   ],
   "metadata": {
    "collapsed": false,
    "pycharm": {
     "name": "#%%\n"
    }
   }
  },
  {
   "cell_type": "markdown",
   "source": [
    "As in Matlab, there is a `linspace()` function that\n",
    "creates a vector of uniformly-spaced real values."
   ],
   "metadata": {
    "collapsed": false,
    "pycharm": {
     "name": "#%% md\n"
    }
   }
  },
  {
   "cell_type": "code",
   "execution_count": null,
   "outputs": [],
   "source": [
    "# Create 11 elements, equally spaced on the interval [0.0, 1.0]\n",
    "arr5 = np.linspace(0.0, 1.0, 11)\n",
    "arr5"
   ],
   "metadata": {
    "collapsed": false,
    "pycharm": {
     "name": "#%%\n"
    }
   }
  },
  {
   "cell_type": "markdown",
   "source": [
    "We can create arrays of higher dimension by specifying\n",
    "the desired shape"
   ],
   "metadata": {
    "collapsed": false,
    "pycharm": {
     "name": "#%% md\n"
    }
   }
  },
  {
   "cell_type": "code",
   "execution_count": null,
   "outputs": [],
   "source": [
    "mat = np.ones((2,2)) # Create 2x2 matrix of ones\n",
    "mat"
   ],
   "metadata": {
    "collapsed": false,
    "pycharm": {
     "name": "#%%\n"
    }
   }
  },
  {
   "cell_type": "markdown",
   "source": [
    "#### Creating arrays from other Python objects\n",
    "You can create arrays from other objects such as lists\n",
    "and tuples by calling `array()`"
   ],
   "metadata": {
    "collapsed": false,
    "pycharm": {
     "name": "#%% md\n"
    }
   }
  },
  {
   "cell_type": "code",
   "execution_count": null,
   "outputs": [],
   "source": [
    "# Create array from list [1,2,3]\n",
    "arr = np.array([1,2,3])\n",
    "arr"
   ],
   "metadata": {
    "collapsed": false,
    "pycharm": {
     "name": "#%%\n"
    }
   }
  },
  {
   "cell_type": "code",
   "execution_count": null,
   "outputs": [],
   "source": [
    "# Create array from tuple\n",
    "arr = np.array((1.0,2.0,3.0))\n",
    "arr"
   ],
   "metadata": {
    "collapsed": false,
    "pycharm": {
     "name": "#%%\n"
    }
   }
  },
  {
   "cell_type": "code",
   "execution_count": null,
   "outputs": [],
   "source": [
    "# Create two-dimensional array from nested list\n",
    "arr = np.array([[1,2,3],[4,5,6]])\n",
    "arr"
   ],
   "metadata": {
    "collapsed": false,
    "pycharm": {
     "name": "#%%\n"
    }
   }
  },
  {
   "cell_type": "markdown",
   "source": [
    "### Reshaping arrays\n",
    "The `reshape()` method of an array object can be used\n",
    "to reshape it to some other (conformable) shape."
   ],
   "metadata": {
    "collapsed": false,
    "pycharm": {
     "name": "#%% md\n"
    }
   }
  },
  {
   "cell_type": "code",
   "execution_count": null,
   "outputs": [],
   "source": [
    "mat = np.arange(4).reshape((2,2))\n",
    "mat"
   ],
   "metadata": {
    "collapsed": false,
    "pycharm": {
     "name": "#%%\n"
    }
   }
  },
  {
   "cell_type": "code",
   "execution_count": null,
   "outputs": [],
   "source": [
    "# reshape back to vector of 4 elements\n",
    "vec = mat.reshape(4)\n",
    "vec"
   ],
   "metadata": {
    "collapsed": false,
    "pycharm": {
     "name": "#%%\n"
    }
   }
  },
  {
   "cell_type": "markdown",
   "source": [
    "We can use -1 to let NumPy automatically compute\n",
    "the size of one remaining dimension."
   ],
   "metadata": {
    "collapsed": false,
    "pycharm": {
     "name": "#%% md\n"
    }
   }
  },
  {
   "cell_type": "code",
   "execution_count": null,
   "outputs": [],
   "source": [
    "# with 2 dimensions, second dimension must have size 2\n",
    "mat = np.arange(4).reshape((2,-1))\n",
    "mat"
   ],
   "metadata": {
    "collapsed": false,
    "pycharm": {
     "name": "#%%\n"
    }
   }
  },
  {
   "cell_type": "markdown",
   "source": [
    "If you just want to create an arbitray array to a vector,\n",
    "use the `flatten()` method."
   ],
   "metadata": {
    "collapsed": false,
    "pycharm": {
     "name": "#%% md\n"
    }
   }
  },
  {
   "cell_type": "code",
   "execution_count": null,
   "outputs": [],
   "source": [
    "mat.flatten()"
   ],
   "metadata": {
    "collapsed": false,
    "pycharm": {
     "name": "#%%\n"
    }
   }
  },
  {
   "cell_type": "markdown",
   "source": [
    "**Important**: the reshaped array must have the same\n",
    "number of elements!"
   ],
   "metadata": {
    "collapsed": false
   }
  },
  {
   "cell_type": "code",
   "execution_count": null,
   "outputs": [],
   "source": [
    "mat.reshape((2,2)) # Cannot reshape 6 into 4 elements!\n"
   ],
   "metadata": {
    "collapsed": false,
    "pycharm": {
     "name": "#%%\n"
    }
   }
  },
  {
   "cell_type": "markdown",
   "source": [
    "### Indexing\n",
    "\n",
    "#### Scalar indices\n",
    "\n",
    "To retrieve only a single element of each axis,\n",
    "just use the element index\n",
    "(axis is the NumPy terminology for an array dimension)"
   ],
   "metadata": {
    "collapsed": false,
    "pycharm": {
     "name": "#%% md\n"
    }
   }
  },
  {
   "cell_type": "code",
   "execution_count": null,
   "outputs": [],
   "source": [
    "mat = np.arange(6).reshape((3,2))\n",
    "mat"
   ],
   "metadata": {
    "collapsed": false,
    "pycharm": {
     "name": "#%%\n"
    }
   }
  },
  {
   "cell_type": "code",
   "execution_count": null,
   "outputs": [],
   "source": [
    "mat[1,1] # returns element in row 2, column 2"
   ],
   "metadata": {
    "collapsed": false,
    "pycharm": {
     "name": "#%%\n"
    }
   }
  },
  {
   "cell_type": "markdown",
   "source": [
    "#### Range indices\n",
    "\n",
    "There are numerous ways to retrieve a subset of\n",
    "elements from an array. The most common way is to\n",
    "specify a triplet of values\n",
    "`start:end:step` for some axis:"
   ],
   "metadata": {
    "collapsed": false,
    "pycharm": {
     "name": "#%% md\n"
    }
   }
  },
  {
   "cell_type": "code",
   "execution_count": null,
   "outputs": [],
   "source": [
    "# Create a 3x2 matrix\n",
    "mat = np.arange(6).reshape((2,3))\n",
    "mat"
   ],
   "metadata": {
    "collapsed": false,
    "pycharm": {
     "name": "#%%\n"
    }
   }
  },
  {
   "cell_type": "code",
   "source": [
    "# Retrieve only the first and third columns:\n",
    "mat[0:2,0:3:2]"
   ],
   "metadata": {
    "collapsed": false,
    "pycharm": {
     "name": "#%%\n"
    }
   },
   "execution_count": null,
   "outputs": []
  },
  {
   "cell_type": "markdown",
   "source": [
    "Indexing in NumPy can get quite intricate.\n",
    "Some basic rules:\n",
    "- all elements of `start:end:step` are optional, with\n",
    "  the obvious default values.\n",
    "  We could therefore write `::` to include all indices,\n",
    "  which is the same as `:`\n",
    "- The end value is NOT included. Writing\n",
    "  `vec[0:n]` does not include the *n*-th element!\n",
    "- Any of the elements of `start:end:step` can be negative.\n",
    "    - If `start` or `end` are negative, elements are counted\n",
    "        backwards:\n",
    "        `vec[:-1]` retrieves the vector except for the last element.\n",
    "         (the end index is never included!)\n",
    "    - If `step` is negative, the order of elements is inverted."
   ],
   "metadata": {
    "collapsed": false,
    "pycharm": {
     "name": "#%% md\n"
    }
   }
  },
  {
   "cell_type": "code",
   "execution_count": null,
   "outputs": [],
   "source": [
    "vec = np.arange(5)\n",
    "# These are equivalent ways to return the whole vector\n",
    "vec[0:5]\n",
    "vec[::]\n",
    "vec[:]\n",
    "vec[-5:]"
   ],
   "metadata": {
    "collapsed": false,
    "pycharm": {
     "name": "#%%\n"
    }
   }
  },
  {
   "cell_type": "markdown",
   "source": [
    "You can reverse the order like this"
   ],
   "metadata": {
    "collapsed": false,
    "pycharm": {
     "name": "#%% md\n"
    }
   }
  },
  {
   "cell_type": "code",
   "execution_count": null,
   "outputs": [],
   "source": [
    "vec[::-1]"
   ],
   "metadata": {
    "collapsed": false,
    "pycharm": {
     "name": "#%%\n"
    }
   }
  },
  {
   "cell_type": "markdown",
   "source": [
    "With multi-dimensional arrays, these rules apply for each\n",
    "dimension.\n",
    "- We can, however, omit explicit indices\n",
    "    for higher-order dimensions if all elements should\n",
    "    be included."
   ],
   "metadata": {
    "collapsed": false,
    "pycharm": {
     "name": "#%% md\n"
    }
   }
  },
  {
   "cell_type": "code",
   "execution_count": null,
   "outputs": [],
   "source": [
    "mat[1] # includes all columns of row 2; same as mat[1,:]"
   ],
   "metadata": {
    "collapsed": false,
    "pycharm": {
     "name": "#%%\n"
    }
   }
  },
  {
   "cell_type": "markdown",
   "source": [
    "We cannot omit the indices for preceding axis, though!"
   ],
   "metadata": {
    "collapsed": false,
    "pycharm": {
     "name": "#%% md\n"
    }
   }
  },
  {
   "cell_type": "code",
   "execution_count": null,
   "outputs": [],
   "source": [
    "mat[:, 1] # includes all rows of column 2"
   ],
   "metadata": {
    "collapsed": false,
    "pycharm": {
     "name": "#%%\n"
    }
   }
  },
  {
   "cell_type": "markdown",
   "source": [
    "#### Logical indices\n",
    "Alternatively, we can pass logical arrays as indices.\n",
    "- Logical (or boolean) arrays consist of elements that\n",
    "  can only take on values `True` and `False`"
   ],
   "metadata": {
    "collapsed": false,
    "pycharm": {
     "name": "#%% md\n"
    }
   }
  },
  {
   "cell_type": "code",
   "execution_count": null,
   "outputs": [],
   "source": [
    "vec = np.arange(5)\n",
    "mask = (vec > 1)\n",
    "mask"
   ],
   "metadata": {
    "collapsed": false,
    "pycharm": {
     "name": "#%%\n"
    }
   }
  },
  {
   "cell_type": "code",
   "execution_count": null,
   "outputs": [],
   "source": [
    "vec[mask] # use mask to retrieve only elements greater than 1"
   ],
   "metadata": {
    "collapsed": false,
    "pycharm": {
     "name": "#%%\n"
    }
   }
  },
  {
   "cell_type": "markdown",
   "source": [
    "We can even apply boolean indexing to multi-dimensional\n",
    "arrays. The result will be flatted to a 1-dimensional array,\n",
    "though."
   ],
   "metadata": {
    "collapsed": false,
    "pycharm": {
     "name": "#%% md\n"
    }
   }
  },
  {
   "cell_type": "code",
   "execution_count": null,
   "outputs": [],
   "source": [
    "mat = np.arange(6).reshape((2,3))\n",
    "mat[mat > 1]"
   ],
   "metadata": {
    "collapsed": false,
    "pycharm": {
     "name": "#%%\n"
    }
   }
  },
  {
   "cell_type": "markdown",
   "source": [
    "Some of these indexing rules also apply to the built-in\n",
    "`tuple` and `list` types, but NumPy indexing goes far beyond\n",
    "that."
   ],
   "metadata": {
    "collapsed": false,
    "pycharm": {
     "name": "#%% md\n"
    }
   }
  },
  {
   "cell_type": "code",
   "execution_count": null,
   "outputs": [],
   "source": [
    "# Apply start:end:step indexing to tuple\n",
    "tpl = (1,2,3)\n",
    "tpl[:3:2]"
   ],
   "metadata": {
    "collapsed": false,
    "pycharm": {
     "name": "#%%\n"
    }
   }
  },
  {
   "cell_type": "markdown",
   "source": [
    "Logical indexing does not work with `tuple` and `list`"
   ],
   "metadata": {
    "collapsed": false,
    "pycharm": {
     "name": "#%% md\n"
    }
   }
  },
  {
   "cell_type": "code",
   "execution_count": null,
   "outputs": [],
   "source": [
    "tpl[tpl > 1]"
   ],
   "metadata": {
    "collapsed": false,
    "pycharm": {
     "name": "#%%\n"
    }
   }
  },
  {
   "cell_type": "markdown",
   "source": [
    "### Other array methods\n",
    "You can transpose an array using `arr.T`:"
   ],
   "metadata": {
    "collapsed": false,
    "pycharm": {
     "name": "#%% md\n"
    }
   }
  },
  {
   "cell_type": "code",
   "execution_count": null,
   "outputs": [],
   "source": [
    "mat = np.arange(6).reshape((2,3))\n",
    "mat"
   ],
   "metadata": {
    "collapsed": false,
    "pycharm": {
     "name": "#%%\n"
    }
   }
  },
  {
   "cell_type": "code",
   "execution_count": null,
   "outputs": [],
   "source": [
    "mat.T"
   ],
   "metadata": {
    "collapsed": false,
    "pycharm": {
     "name": "#%%\n"
    }
   }
  },
  {
   "cell_type": "markdown",
   "source": [
    "### Numerical data types (advanced)\n",
    "\n",
    "You can explicitly specify the numerical data type when\n",
    "creating NumPy arrays.\n",
    "\n",
    "So far we haven't done so, and then NumPy does the following:\n",
    "- Functions such as `zeros()`, `ones()` and `empty()`\n",
    "    default to using `np.float64`, ie. a 64-bit floating-point\n",
    "    data type (this is also called *double precision*)\n",
    "- Other constructors such as `arange()` and `array()`\n",
    "    inspect the input data and return a corresponding array.\n",
    "- Most array creation routines accept a `dtype` argument\n",
    "  which allows you to explicitly set the data type.\n",
    "\n",
    "For example:"
   ],
   "metadata": {
    "collapsed": false,
    "pycharm": {
     "name": "#%% md\n"
    }
   }
  },
  {
   "cell_type": "code",
   "execution_count": null,
   "outputs": [],
   "source": [
    "# Floating-point arguments return array of type np.float64\n",
    "arr = np.arange(1.0, 5.0, 1.0)\n",
    "arr.dtype"
   ],
   "metadata": {
    "collapsed": false,
    "pycharm": {
     "name": "#%%\n"
    }
   }
  },
  {
   "cell_type": "code",
   "execution_count": null,
   "outputs": [],
   "source": [
    "# Integer arguments return array of type np.int64\n",
    "arr = np.arange(1,5,1)\n",
    "arr.dtype"
   ],
   "metadata": {
    "collapsed": false,
    "pycharm": {
     "name": "#%%\n"
    }
   }
  },
  {
   "cell_type": "markdown",
   "source": [
    "Often we don't care about the data type too much, but keep in\n",
    "mind that\n",
    "- Floating-point has limited precision, even for integers\n",
    "  larger than (approximately) $10^{16}$\n",
    "- Integer values cannot represent fractional numbers and\n",
    "  (often) have a more limited range.\n",
    "\n",
    "This might lead to surprising consequences:"
   ],
   "metadata": {
    "collapsed": false,
    "pycharm": {
     "name": "#%% md\n"
    }
   }
  },
  {
   "cell_type": "code",
   "execution_count": null,
   "outputs": [],
   "source": [
    "# Create integer array\n",
    "arr = np.ones(5, dtype=np.int64)\n",
    "# Add floating-point value 0.234 to second element in place\n",
    "arr[1] += 0.234\n",
    "arr"
   ],
   "metadata": {
    "collapsed": false,
    "pycharm": {
     "name": "#%%\n"
    }
   }
  },
  {
   "cell_type": "markdown",
   "source": [
    "The array is unchanged because it's impossible to represent\n",
    "1.234 as an integer value!\n",
    "\n",
    "The take-away is to always explicitly write floating-point\n",
    "literal values when you want data to be interpreted as\n",
    "floating-point values, eg. always write 1.0 instead of 1,\n",
    "unless you really want an integer!"
   ],
   "metadata": {
    "collapsed": false,
    "pycharm": {
     "name": "#%% md\n"
    }
   }
  },
  {
   "cell_type": "markdown",
   "source": [
    "### Array storage order (advanced)\n",
    "Computer memory is linear, so a multi-dimensional\n",
    "array is mapped to a one-dimensional block in memory.\n",
    "This can be done in two ways:\n",
    "1. NumPy uses the so-called *row-major order* (also called\n",
    "*C order*, because its the same as in *C* programming language)\n",
    "2. This is exactly the opposite of Matlab, which uses\n",
    "  *column-major order* (also called *F order*, because its the same\n",
    "  as in the *Fortran* programming language)"
   ],
   "metadata": {
    "collapsed": false,
    "pycharm": {
     "name": "#%% md\n"
    }
   }
  },
  {
   "cell_type": "code",
   "execution_count": null,
   "outputs": [],
   "source": [
    "mat = np.arange(6).reshape((2,3))\n",
    "# The matrix mat is stored in memory like this\n",
    "mat.reshape(-1, order='C')"
   ],
   "metadata": {
    "collapsed": false,
    "pycharm": {
     "name": "#%%\n"
    }
   }
  },
  {
   "cell_type": "code",
   "execution_count": null,
   "outputs": [],
   "source": [
    "# ... and NOT like this\n",
    "mat.reshape(-1, order='F')"
   ],
   "metadata": {
    "collapsed": false,
    "pycharm": {
     "name": "#%%\n"
    }
   }
  },
  {
   "cell_type": "markdown",
   "source": [
    "While this is not particularly important initially,\n",
    "as an advanced user you should remember that you never\n",
    "want to perform on non-contiguous blocks of memory.\n",
    "This can have devastating effects on performance!"
   ],
   "metadata": {
    "collapsed": false,
    "pycharm": {
     "name": "#%% md\n"
    }
   }
  },
  {
   "cell_type": "code",
   "execution_count": null,
   "outputs": [],
   "source": [
    "# Avoid operations on non-contiguous array sections such as\n",
    "mat[:, 1]\n",
    "# Contiguous array sections are fine\n",
    "mat[1]"
   ],
   "metadata": {
    "collapsed": false,
    "pycharm": {
     "name": "#%%\n"
    }
   }
  }
 ],
 "metadata": {
  "kernelspec": {
   "display_name": "Python 3",
   "language": "python",
   "name": "python3"
  },
  "language_info": {
   "codemirror_mode": {
    "name": "ipython",
    "version": 3
   },
   "file_extension": ".py",
   "mimetype": "text/x-python",
   "name": "python",
   "nbconvert_exporter": "python",
   "pygments_lexer": "ipython3",
   "version": "3.7.9"
  }
 },
 "nbformat": 4,
 "nbformat_minor": 1
}