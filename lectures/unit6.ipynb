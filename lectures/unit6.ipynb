{
 "cells": [
  {
   "cell_type": "markdown",
   "metadata": {
    "collapsed": true,
    "pycharm": {
     "name": "#%% md\n"
    }
   },
   "source": [
    "# Advanced NumPy\n",
    "\n",
    "We already encountered NumPy arrays and their basic usage\n",
    "throughout this course.\n",
    "In this unit, we will take a more in-depth look at NumPy.\n",
    "\n",
    "## Why NumPy arrays?\n",
    "\n",
    "Why don't we just stick with built-in types such as Python\n",
    "lists to store and process data? It turns out that while the built-in objects\n",
    "are quite flexible, this flexibility comes at the cost\n",
    "of decreased performance:\n",
    "\n",
    "-   `list` objects can store arbitrary data types, and\n",
    "    the data type of any item can change:\n",
    "\n",
    "    ```\n",
    "    items = ['foo']\n",
    "    items[0] = 1.0      # item was a string, now it's a float!\n",
    "    ```\n",
    "-   There is no guarantee where in memory the data will be stored.\n",
    "    In fact, two consecutive items could be very \"far\"\n",
    "    from each other in memory, which imposes a performance\n",
    "    penalty.\n",
    "-   Even primitive data types such as `int` and `float` are\n",
    "    not \"raw\" data, but full-fledged objects.\n",
    "    That, again, is bad for performance.\n",
    "\n",
    "On the other hand, the approach taken by NumPy is to\n",
    "store and process data in a way very similar to low-level\n",
    "languages such as C and Fortran.\n",
    "This means that\n",
    "\n",
    "-   arrays contain a *homogenous* data type. *All* elements are either\n",
    "    64-bit integers (`np.int64`), 64-bit floating-point numbers\n",
    "    (`np.float64`), or some other of the many data types\n",
    "    supported by NumPy.\n",
    "\n",
    "    It is technically possible to get around this by specifying\n",
    "    an array's data type (`dtype`) to be `object`, which is the most\n",
    "    generic Python data type. However, we would never want to\n",
    "    do this for numerical computations.\n",
    "-   NumPy arrays are usually *contiguous* in memory. This means\n",
    "    that adjacent array elements are actually guaranteed to be\n",
    "    stored next to each other, which allows for much more efficient\n",
    "    computations.\n",
    "-   NumPy arrays support numerous operations used in\n",
    "    scientific computing. For example, with a NumPy array we can write\n",
    "\n",
    "    ```\n",
    "    x = np.array([1, 2, 3])\n",
    "    y = x + 1       # We would expect this to work\n",
    "    ```\n",
    "\n",
    "    With lists, however, we cannot:\n",
    "\n",
    "    ```\n",
    "    x = [1, 2, 3]\n",
    "    y = x + 1       # Does not work!\n",
    "    ```\n",
    "    Lists don't implement an addition operator that accepts\n",
    "    integer arguments, so this code triggers an error.\n",
    "\n",
    "You can see the performance uplift provided by NumPy arrays in this simple\n",
    "example:"
   ]
  },
  {
   "cell_type": "code",
   "execution_count": 1,
   "metadata": {
    "pycharm": {
     "name": "#%%\n"
    }
   },
   "outputs": [
    {
     "output_type": "stream",
     "name": "stdout",
     "text": [
      "149 µs ± 2.21 µs per loop (mean ± std. dev. of 7 runs, 10000 loops each)\n"
     ]
    }
   ],
   "source": [
    "# Create list 0, 1, 2, ..., 999\n",
    "lst = list(range(1000))\n",
    "\n",
    "# Compute squares, time how long it takes\n",
    "%timeit [i**2 for i in lst]"
   ]
  },
  {
   "cell_type": "code",
   "execution_count": 2,
   "metadata": {
    "pycharm": {
     "name": "#%%\n"
    }
   },
   "outputs": [
    {
     "output_type": "stream",
     "name": "stdout",
     "text": [
      "864 ns ± 1.38 ns per loop (mean ± std. dev. of 7 runs, 1000000 loops each)\n"
     ]
    }
   ],
   "source": [
    "# Repeat using NumPy arrays\n",
    "import numpy as np\n",
    "arr = np.arange(1000)\n",
    "\n",
    "%timeit arr**2"
   ]
  },
  {
   "cell_type": "markdown",
   "metadata": {
    "pycharm": {
     "name": "#%% md\n"
    }
   },
   "source": [
    "-   On my machine, squaring 1000 elements of a `list` takes\n",
    "    approximately 200 times longer than the computation\n",
    "    using NumPy arrays!\n",
    "-   Also, as mentioned above, NumPy supports squaring an array directly, while\n",
    "    we have to manually loop through the `list` and square each element\n",
    "    individually.\n",
    "\n",
    "*Note:* `%timeit` is a so-called magic command that only\n",
    "works in notebooks, but not in regular Python files.\n",
    "[[See documentation](https://ipython.readthedocs.io/en/stable/interactive/magics.html)]"
   ]
  },
  {
   "cell_type": "markdown",
   "metadata": {
    "pycharm": {
     "name": "#%% md\n"
    }
   },
   "source": [
    "***\n",
    "\n",
    "## Creating arrays\n",
    "\n",
    "We have already encountered some of the most frequently\n",
    "used array creation routines:\n",
    "\n",
    "-   `np.array()` creates an array from a given argument, which can be\n",
    "    -   a scalar\n",
    "    -   a collection such as a list or tuple\n",
    "    -   some other iterable object, e.g. something created by `range()`\n",
    "-   `np.empty()` allocates memory for a given array shape, but does not\n",
    "    overwrite it with initial values.\n",
    "-   `np.zeros()` creates an array of a given shape and initializes it\n",
    "    to zeros.\n",
    "-   `np.ones()` creates an array of a given shape and initializes it\n",
    "    to ones.\n",
    "-   `np.arange(start,stop,step)` creates an array with evenly spaced\n",
    "    elements over the range $[start,stop)$.\n",
    "    -   `start` and `step` can be omitted and then default to `start=0` and `step=1`.\n",
    "    -   Note that the number `stop` is never included in\n",
    "        the resulting array!\n",
    "-   `np.linspace(start,stop,num)` returns a vector of `num` elements\n",
    "    which are evenly spaced over the interval $[start,stop]$.\n",
    "-   `np.identity(n)` returns the identity matrix of a size $n \\times n$.\n",
    "-   `np.eye()` is a more flexible variant of `identity()` that can,\n",
    "    for example, also create non-squared matrices.\n",
    "\n",
    "There are many more array creation functions for more exotic use-cases,\n",
    "see the NumPy  [documentation](https://numpy.org/doc/stable/reference/routines.array-creation.html)\n",
    "for details.\n",
    "\n",
    "*Examples:*"
   ]
  },
  {
   "cell_type": "code",
   "execution_count": 3,
   "metadata": {
    "pycharm": {
     "name": "#%%\n"
    }
   },
   "outputs": [
    {
     "output_type": "execute_result",
     "data": {
      "text/plain": [
       "array([1, 2, 3])"
      ]
     },
     "metadata": {},
     "execution_count": 3
    }
   ],
   "source": [
    "import numpy as np\n",
    "\n",
    "# Create array from list\n",
    "lst = [1, 2, 3]\n",
    "np.array(lst)"
   ]
  },
  {
   "cell_type": "code",
   "execution_count": 4,
   "metadata": {
    "pycharm": {
     "name": "#%%\n"
    }
   },
   "outputs": [
    {
     "output_type": "execute_result",
     "data": {
      "text/plain": [
       "array([1., 2., 3.])"
      ]
     },
     "metadata": {},
     "execution_count": 4
    }
   ],
   "source": [
    "# Create array from tuple\n",
    "tpl = 1.0, 2.0, 3.0\n",
    "np.array(tpl)"
   ]
  },
  {
   "cell_type": "code",
   "execution_count": 5,
   "metadata": {
    "pycharm": {
     "name": "#%%\n"
    }
   },
   "outputs": [
    {
     "output_type": "execute_result",
     "data": {
      "text/plain": [
       "array([0, 1, 2, 3, 4])"
      ]
     },
     "metadata": {},
     "execution_count": 5
    }
   ],
   "source": [
    "# arange: end point is not included!\n",
    "np.arange(5)"
   ]
  },
  {
   "cell_type": "code",
   "execution_count": 6,
   "metadata": {
    "pycharm": {
     "name": "#%%\n"
    }
   },
   "outputs": [
    {
     "output_type": "execute_result",
     "data": {
      "text/plain": [
       "array([5, 4, 3, 2])"
      ]
     },
     "metadata": {},
     "execution_count": 6
    }
   ],
   "source": [
    "# arange: increments can be negative too!\n",
    "np.arange(5, 1, -1)"
   ]
  },
  {
   "cell_type": "code",
   "execution_count": 7,
   "metadata": {
    "pycharm": {
     "name": "#%%\n"
    }
   },
   "outputs": [
    {
     "output_type": "execute_result",
     "data": {
      "text/plain": [
       "array([1.    , 1.5678, 2.1356, 2.7034])"
      ]
     },
     "metadata": {},
     "execution_count": 7
    }
   ],
   "source": [
    "# arange also works on floats\n",
    "np.arange(1.0, 3.0, 0.5678)"
   ]
  },
  {
   "cell_type": "code",
   "execution_count": 8,
   "metadata": {
    "pycharm": {
     "name": "#%%\n"
    }
   },
   "outputs": [
    {
     "output_type": "execute_result",
     "data": {
      "text/plain": [
       "array([0. , 0.1, 0.2, 0.3, 0.4, 0.5, 0.6, 0.7, 0.8, 0.9, 1. ])"
      ]
     },
     "metadata": {},
     "execution_count": 8
    }
   ],
   "source": [
    "# linspace DOES include the end point\n",
    "np.linspace(0.0, 1.0, 11)"
   ]
  },
  {
   "cell_type": "markdown",
   "metadata": {
    "pycharm": {
     "name": "#%% md\n"
    }
   },
   "source": [
    "***\n",
    "## Array shape\n",
    "\n",
    "Many of the array creation routines take the desired shape of the array\n",
    "as their first argument.\n",
    "Array shapes are usually specified as tuples:\n",
    "\n",
    "-   A vector with 5 elements has shape `(5, )`.\n",
    "\n",
    "    Note the comma `,`: we need to specify a tuple with a single\n",
    "    element using this comma, since `(5)` is just the integer 5,\n",
    "    not a tuple.\n",
    "\n",
    "    It is worth pointing out that this is not the same as a\n",
    "    2-dimensional array with shape `(1, 5)` or `(5, 1)`, even\n",
    "    though they have the same number of elements.\n",
    "\n",
    "-   A $2\\times2$ matrix has shape `(2, 2)`.\n",
    "-   A higher-dimensional array has shape `(k, l, m, n, ...)`.\n",
    "-   A *scalar* NumPy array has shape `()`, an empty tuple.\n",
    "\n",
    "    While \"scalar array\" sounds like an oxymoron, it does exist.\n",
    "\n",
    "We can query the shape of an array using the `shape` attribute,\n",
    "and the number of dimensions is stored in the `ndim` attribute.\n",
    "\n",
    "*Examples:*"
   ]
  },
  {
   "cell_type": "code",
   "execution_count": 9,
   "metadata": {
    "pycharm": {
     "name": "#%%\n"
    }
   },
   "outputs": [
    {
     "output_type": "stream",
     "name": "stdout",
     "text": [
      "Scalar array with shape=() and ndim=0\n"
     ]
    }
   ],
   "source": [
    "import numpy as np\n",
    "\n",
    "# Scalar array\n",
    "x = np.array(0.0)\n",
    "print('Scalar array with shape={} and ndim={}'.format(x.shape, x.ndim))"
   ]
  },
  {
   "cell_type": "markdown",
   "metadata": {
    "pycharm": {
     "name": "#%% md\n"
    }
   },
   "source": [
    "Note that a scalar NumPy array is not the same as a Python scalar.\n",
    "The built-in type `float` has neither a `shape`, nor an `ndim`,\n",
    "nor any other of the NumPy array attributes."
   ]
  },
  {
   "cell_type": "code",
   "execution_count": 10,
   "metadata": {
    "pycharm": {
     "name": "#%%\n"
    }
   },
   "outputs": [
    {
     "output_type": "error",
     "ename": "AttributeError",
     "evalue": "'float' object has no attribute 'shape'",
     "traceback": [
      "\u001b[0;31m---------------------------------------------------------------------------\u001b[0m",
      "\u001b[0;31mAttributeError\u001b[0m                            Traceback (most recent call last)",
      "\u001b[0;32m<ipython-input-10-cebbc052f34b>\u001b[0m in \u001b[0;36m<module>\u001b[0;34m\u001b[0m\n\u001b[1;32m      1\u001b[0m \u001b[0mscalar\u001b[0m \u001b[0;34m=\u001b[0m \u001b[0;36m1.0\u001b[0m\u001b[0;34m\u001b[0m\u001b[0;34m\u001b[0m\u001b[0m\n\u001b[0;32m----> 2\u001b[0;31m \u001b[0mscalar\u001b[0m\u001b[0;34m.\u001b[0m\u001b[0mshape\u001b[0m\u001b[0;34m\u001b[0m\u001b[0;34m\u001b[0m\u001b[0m\n\u001b[0m",
      "\u001b[0;31mAttributeError\u001b[0m: 'float' object has no attribute 'shape'"
     ]
    }
   ],
   "source": [
    "scalar = 1.0\n",
    "scalar.shape"
   ]
  },
  {
   "cell_type": "code",
   "execution_count": 11,
   "metadata": {
    "pycharm": {
     "name": "#%%\n"
    }
   },
   "outputs": [
    {
     "output_type": "execute_result",
     "data": {
      "text/plain": [
       "array([4.65201202e-310, 0.00000000e+000, 6.05205620e-066, 6.91421997e-310,\n",
       "       6.91423595e-310])"
      ]
     },
     "metadata": {},
     "execution_count": 11
    }
   ],
   "source": [
    "# 1-dimensional array (vector), values not initialised\n",
    "x = np.empty((5,))\n",
    "x       # could contain arbitrary garbage"
   ]
  },
  {
   "cell_type": "markdown",
   "metadata": {
    "pycharm": {
     "name": "#%% md\n"
    }
   },
   "source": [
    "An array created with `empty()` will contain arbitrary garbage\n",
    "since the memory block assigned to the array is not initialised.\n",
    "The result will most likely differ on each invocation and across\n",
    "computers.\n",
    "\n",
    "Most function accept an integer value instead of a `tuple`\n",
    "when creating 1-dimensional arrays, which is interpreted\n",
    "as the number of elements:"
   ]
  },
  {
   "cell_type": "code",
   "execution_count": 12,
   "metadata": {
    "pycharm": {
     "name": "#%%\n"
    }
   },
   "outputs": [],
   "source": [
    "# 1-dimensional array\n",
    "x = np.empty(5)         # equivalent to np.empty((5,))"
   ]
  },
  {
   "cell_type": "markdown",
   "metadata": {
    "pycharm": {
     "name": "#%% md\n"
    }
   },
   "source": [
    "Higher-dimensional arrays are creating by passing in tuples\n",
    "with more than one element:"
   ]
  },
  {
   "cell_type": "code",
   "execution_count": 13,
   "metadata": {
    "pycharm": {
     "name": "#%%\n"
    }
   },
   "outputs": [
    {
     "output_type": "execute_result",
     "data": {
      "text/plain": [
       "array([[[1., 1., 1.],\n",
       "        [1., 1., 1.]]])"
      ]
     },
     "metadata": {},
     "execution_count": 13
    }
   ],
   "source": [
    "np.ones((1, 2, 3))      # 3d-array"
   ]
  },
  {
   "cell_type": "markdown",
   "metadata": {
    "pycharm": {
     "name": "#%% md\n"
    }
   },
   "source": [
    "Recall from unit 2 that we can use the `reshape()` method\n",
    "to convert arrays to a different shape:\n",
    "\n",
    "-   The resulting number of elements must remain unchanged!\n",
    "-   *One* dimension can be specified using `-1`, which\n",
    "    will prompt NumPy to compute the implied dimension size\n",
    "    itself."
   ]
  },
  {
   "cell_type": "code",
   "execution_count": 14,
   "metadata": {
    "pycharm": {
     "name": "#%%\n"
    }
   },
   "outputs": [
    {
     "output_type": "execute_result",
     "data": {
      "text/plain": [
       "array([[0., 0.],\n",
       "       [0., 0.],\n",
       "       [0., 0.]])"
      ]
     },
     "metadata": {},
     "execution_count": 14
    }
   ],
   "source": [
    "x = np.zeros((2, 1, 3))\n",
    "x = x.reshape((3, -1))      # Infer number of columns\n",
    "x"
   ]
  },
  {
   "cell_type": "markdown",
   "metadata": {},
   "source": [
    "We can reshape any array to a 1-dimensional vector using any of\n",
    "the following expressions:"
   ]
  },
  {
   "cell_type": "code",
   "execution_count": 15,
   "metadata": {},
   "outputs": [
    {
     "output_type": "execute_result",
     "data": {
      "text/plain": [
       "array([0., 0., 0., 0., 0., 0.])"
      ]
     },
     "metadata": {},
     "execution_count": 15
    }
   ],
   "source": [
    "x.reshape((-1, ))          # pass shape as tuple\n",
    "x.reshape(-1)              # pass shape as integer\n",
    "x.flatten()"
   ]
  },
  {
   "cell_type": "markdown",
   "metadata": {},
   "source": [
    "This even works on scalar (0-dimensional) arrays:"
   ]
  },
  {
   "cell_type": "code",
   "execution_count": 16,
   "metadata": {},
   "outputs": [
    {
     "output_type": "execute_result",
     "data": {
      "text/plain": [
       "array([0.])"
      ]
     },
     "metadata": {},
     "execution_count": 16
    }
   ],
   "source": [
    "np.array(0.0).flatten()"
   ]
  },
  {
   "cell_type": "markdown",
   "metadata": {
    "pycharm": {
     "name": "#%% md\n"
    }
   },
   "source": [
    "***\n",
    "## Advanced indexing\n",
    "\n",
    "We previously discussed single element indexing and slicing,\n",
    "which works the same way for both Python `list` and `tuple` objects\n",
    "as well as NumPy arrays.\n",
    "\n",
    "NumPy additionally implements more sophisticated indexing mechanisms\n",
    "which we cover now.\n",
    "\n",
    "-   You might also want to consult the\n",
    "    NumPy indexing [tutorial](https://numpy.org/doc/stable/user/basics.indexing.html)\n",
    "    and the detailed indexing [reference](https://numpy.org/doc/stable/reference/arrays.indexing.html).\n",
    "\n",
    "### Boolean or \"mask\" indexing\n",
    "We can pass logical arrays as indices:\n",
    "\n",
    "-   Logical (or boolean) arrays consist of elements that\n",
    "    can only take on values `True` and `False`\n",
    "-   We usually don't create logical arrays manually, but apply\n",
    "    an operation that results in `True`/`False` values,\n",
    "    such as a comparison.\n",
    "-   The boolean index array usually has the *same*\n",
    "    shape as the indexed array.\n",
    "\n",
    "*Examples:*"
   ]
  },
  {
   "cell_type": "code",
   "execution_count": 17,
   "metadata": {
    "pycharm": {
     "name": "#%%\n"
    }
   },
   "outputs": [
    {
     "output_type": "execute_result",
     "data": {
      "text/plain": [
       "array([False, False,  True,  True,  True])"
      ]
     },
     "metadata": {},
     "execution_count": 17
    }
   ],
   "source": [
    "import numpy as np\n",
    "\n",
    "vec = np.arange(5)\n",
    "mask = (vec > 1)        # apply comparison to create boolean array\n",
    "mask"
   ]
  },
  {
   "cell_type": "code",
   "execution_count": 18,
   "metadata": {
    "pycharm": {
     "name": "#%%\n"
    }
   },
   "outputs": [
    {
     "output_type": "execute_result",
     "data": {
      "text/plain": [
       "array([2, 3, 4])"
      ]
     },
     "metadata": {},
     "execution_count": 18
    }
   ],
   "source": [
    "vec[mask]               # use mask to retrieve only elements greater than 1"
   ]
  },
  {
   "cell_type": "markdown",
   "metadata": {},
   "source": [
    "We can even apply boolean indexing to multi-dimensional\n",
    "arrays. The result will be flatted to a 1-dimensional array,\n",
    "though."
   ]
  },
  {
   "cell_type": "code",
   "execution_count": 19,
   "metadata": {
    "pycharm": {
     "name": "#%%\n"
    }
   },
   "outputs": [
    {
     "output_type": "execute_result",
     "data": {
      "text/plain": [
       "array([[0, 1, 2],\n",
       "       [3, 4, 5]])"
      ]
     },
     "metadata": {},
     "execution_count": 19
    }
   ],
   "source": [
    "mat = np.arange(6).reshape((2,3))\n",
    "mat"
   ]
  },
  {
   "cell_type": "code",
   "execution_count": 20,
   "metadata": {
    "pycharm": {
     "name": "#%%\n"
    }
   },
   "outputs": [
    {
     "output_type": "execute_result",
     "data": {
      "text/plain": [
       "array([[False, False,  True],\n",
       "       [ True,  True,  True]])"
      ]
     },
     "metadata": {},
     "execution_count": 20
    }
   ],
   "source": [
    "mask = (mat > 1)        # create boolean array\n",
    "mask"
   ]
  },
  {
   "cell_type": "code",
   "execution_count": 21,
   "metadata": {
    "pycharm": {
     "name": "#%%\n"
    }
   },
   "outputs": [
    {
     "output_type": "execute_result",
     "data": {
      "text/plain": [
       "array([2, 3, 4, 5])"
      ]
     },
     "metadata": {},
     "execution_count": 21
    }
   ],
   "source": [
    "mat[mask]            # collapses result to 1-d array"
   ]
  },
  {
   "cell_type": "markdown",
   "metadata": {},
   "source": [
    "Note that logical indexing does *not* work with `tuple` and `list`"
   ]
  },
  {
   "cell_type": "code",
   "execution_count": 22,
   "metadata": {
    "pycharm": {
     "name": "#%%\n"
    }
   },
   "outputs": [
    {
     "output_type": "error",
     "ename": "TypeError",
     "evalue": "tuple indices must be integers or slices, not tuple",
     "traceback": [
      "\u001b[0;31m---------------------------------------------------------------------------\u001b[0m",
      "\u001b[0;31mTypeError\u001b[0m                                 Traceback (most recent call last)",
      "\u001b[0;32m<ipython-input-22-19bb25c629fe>\u001b[0m in \u001b[0;36m<module>\u001b[0;34m\u001b[0m\n\u001b[1;32m      1\u001b[0m \u001b[0mtpl\u001b[0m \u001b[0;34m=\u001b[0m \u001b[0;34m(\u001b[0m\u001b[0;36m1\u001b[0m\u001b[0;34m,\u001b[0m \u001b[0;36m2\u001b[0m\u001b[0;34m,\u001b[0m \u001b[0;36m3\u001b[0m\u001b[0;34m)\u001b[0m\u001b[0;34m\u001b[0m\u001b[0;34m\u001b[0m\u001b[0m\n\u001b[1;32m      2\u001b[0m \u001b[0mmask\u001b[0m \u001b[0;34m=\u001b[0m \u001b[0;34m(\u001b[0m\u001b[0;32mTrue\u001b[0m\u001b[0;34m,\u001b[0m \u001b[0;32mFalse\u001b[0m\u001b[0;34m,\u001b[0m \u001b[0;32mTrue\u001b[0m\u001b[0;34m)\u001b[0m\u001b[0;34m\u001b[0m\u001b[0;34m\u001b[0m\u001b[0m\n\u001b[0;32m----> 3\u001b[0;31m \u001b[0mtpl\u001b[0m\u001b[0;34m[\u001b[0m\u001b[0mmask\u001b[0m\u001b[0;34m]\u001b[0m               \u001b[0;31m# error\u001b[0m\u001b[0;34m\u001b[0m\u001b[0;34m\u001b[0m\u001b[0m\n\u001b[0m",
      "\u001b[0;31mTypeError\u001b[0m: tuple indices must be integers or slices, not tuple"
     ]
    }
   ],
   "source": [
    "tpl = (1, 2, 3)\n",
    "mask = (True, False, True)\n",
    "tpl[mask]               # error"
   ]
  },
  {
   "cell_type": "markdown",
   "metadata": {
    "pycharm": {
     "name": "#%% md\n"
    }
   },
   "source": [
    "### Integer index arrays\n",
    "\n",
    "We can also use index arrays of *integer* type to select\n",
    "specific elements on each axis. These are straightforward to use\n",
    "for 1-dimensional arrays, but can get fairly complex with multiple\n",
    "dimensions."
   ]
  },
  {
   "cell_type": "code",
   "execution_count": 23,
   "metadata": {
    "pycharm": {
     "name": "#%%\n"
    }
   },
   "outputs": [
    {
     "output_type": "execute_result",
     "data": {
      "text/plain": [
       "array([1, 2, 9])"
      ]
     },
     "metadata": {},
     "execution_count": 23
    }
   ],
   "source": [
    "import numpy as np\n",
    "\n",
    "data = np.arange(10)\n",
    "index = [1, 2, 9]       # select second, third and 10th element\n",
    "data[index]"
   ]
  },
  {
   "cell_type": "markdown",
   "metadata": {
    "pycharm": {
     "name": "#%% md\n"
    }
   },
   "source": [
    "As you see, the index array does not have to be a NumPy array,\n",
    "but can also be a list (not a tuple, though!).\n",
    "\n",
    "In general, if we are using an index array to select elements\n",
    "along an axis of length $n$, then\n",
    "\n",
    "-   the index must only contain integers between $0$ and $n-1$, or negative\n",
    "    integers from $-n$ to $-1$ (which, as usual, count from\n",
    "    the end of the axis).\n",
    "-   the index can be of arbitrary length. We can therefore select the\n",
    "    same element multiple times."
   ]
  },
  {
   "cell_type": "code",
   "execution_count": 24,
   "metadata": {
    "pycharm": {
     "name": "#%%\n"
    }
   },
   "outputs": [
    {
     "output_type": "execute_result",
     "data": {
      "text/plain": [
       "array([5, 6, 7, 8, 9])"
      ]
     },
     "metadata": {},
     "execution_count": 24
    }
   ],
   "source": [
    "data = np.arange(5, 10)     # array with 5 elements, [5,...,9]\n",
    "data"
   ]
  },
  {
   "cell_type": "code",
   "execution_count": 25,
   "metadata": {
    "pycharm": {
     "name": "#%%\n"
    }
   },
   "outputs": [
    {
     "output_type": "execute_result",
     "data": {
      "text/plain": [
       "array([5, 6, 6, 7, 7, 8, 8, 9, 9])"
      ]
     },
     "metadata": {},
     "execution_count": 25
    }
   ],
   "source": [
    "index = [0, 1, 1, 2, 2, 3, 3, 4, 4]         # select elements multiple times\n",
    "data[index]"
   ]
  },
  {
   "cell_type": "markdown",
   "metadata": {
    "pycharm": {
     "name": "#%% md\n"
    }
   },
   "source": [
    "The same restrictions apply when indexing multi-dimensional arrays.\n",
    "Moreover,\n",
    "\n",
    "-   if more than one axis is indexed using index arrays,\n",
    "    the index arrays have to be of equal length.\n",
    "-   we can combine integer array indexing on one axis with\n",
    "    other types of indices on the remaining axes."
   ]
  },
  {
   "cell_type": "code",
   "execution_count": 26,
   "metadata": {
    "pycharm": {
     "name": "#%%\n"
    }
   },
   "outputs": [
    {
     "output_type": "execute_result",
     "data": {
      "text/plain": [
       "array([[ 0,  1,  2,  3],\n",
       "       [ 4,  5,  6,  7],\n",
       "       [ 8,  9, 10, 11]])"
      ]
     },
     "metadata": {},
     "execution_count": 26
    }
   ],
   "source": [
    "data = np.arange(12).reshape((3, 4))\n",
    "data"
   ]
  },
  {
   "cell_type": "code",
   "execution_count": 27,
   "metadata": {
    "pycharm": {
     "name": "#%%\n"
    }
   },
   "outputs": [
    {
     "output_type": "execute_result",
     "data": {
      "text/plain": [
       "array([ 1, 11])"
      ]
     },
     "metadata": {},
     "execution_count": 27
    }
   ],
   "source": [
    "index1 = [0, 2]     # row indices\n",
    "index2 = [1, 3]     # column indices\n",
    "data[index1, index2]"
   ]
  },
  {
   "cell_type": "markdown",
   "metadata": {
    "pycharm": {
     "name": "#%% md\n"
    }
   },
   "source": [
    "The code above selects two elements, the first at position\n",
    "`(0,1)`, the second at position `(2,3)`.\n",
    "\n",
    "We can combine index arrays on one axis with another indexing method\n",
    "on a different axis:"
   ]
  },
  {
   "cell_type": "code",
   "execution_count": 28,
   "metadata": {
    "pycharm": {
     "name": "#%%\n"
    }
   },
   "outputs": [
    {
     "output_type": "execute_result",
     "data": {
      "text/plain": [
       "array([ 2, 10])"
      ]
     },
     "metadata": {},
     "execution_count": 28
    }
   ],
   "source": [
    "data[index1, 2]     # return elements in 3rd column from rows given\n",
    "                    # in index1"
   ]
  },
  {
   "cell_type": "markdown",
   "metadata": {
    "pycharm": {
     "name": "#%% md\n"
    }
   },
   "source": [
    "Using different indexing methods, in particular index arrays,\n",
    "on higher-dimensional data can quickly become a mess, and you should\n",
    "be extra careful to see if the results make sense."
   ]
  },
  {
   "cell_type": "markdown",
   "metadata": {
    "pycharm": {
     "name": "#%% md\n"
    }
   },
   "source": [
    "***\n",
    "## Numerical operations\n",
    "\n",
    "### Element-wise operations\n",
    "Element-wise operations are performed on each element\n",
    "individually and leave the resulting array's shape unchanged.\n",
    "\n",
    "There are three types of such operations:\n",
    "\n",
    "1.  One operand is an array and one is a scalar.\n",
    "2.  Both operands are arrays, either of identical shape,\n",
    "    or broadcastable to an identical shape (we discuss\n",
    "    broadcasting below)\n",
    "3.  A function is applied to each array element.\n",
    "\n",
    "*Case 1:* Array-scalar operations. These intuitively\n",
    "behave as you would expect:"
   ]
  },
  {
   "cell_type": "code",
   "execution_count": 29,
   "metadata": {
    "pycharm": {
     "name": "#%%\n"
    }
   },
   "outputs": [],
   "source": [
    "import numpy as np\n",
    "\n",
    "x = np.arange(10)\n",
    "scalar = 1\n",
    "\n",
    "# The resulting array y has the same shape as x:\n",
    "y = x + scalar      # addition\n",
    "y = x - scalar      # subtraction\n",
    "y = x * scalar      # multiplication\n",
    "y = x / scalar      # division\n",
    "y = x // scalar     # division with integer truncation\n",
    "y = x % scalar      # modulo operator\n",
    "y = x ** scalar     # power function\n",
    "y = x == scalar     # comparison: also >, >=, <=, <"
   ]
  },
  {
   "cell_type": "markdown",
   "metadata": {
    "pycharm": {
     "name": "#%% md\n"
    }
   },
   "source": [
    "Note that unlike in Matlab, the \"standard\" operators work\n",
    "element-wise, so `x * y` is *not* matrix multiplication!\n",
    "\n",
    "*Case 2:* Both operands are arrays of equal shape:"
   ]
  },
  {
   "cell_type": "code",
   "execution_count": 30,
   "metadata": {
    "pycharm": {
     "name": "#%%\n"
    }
   },
   "outputs": [],
   "source": [
    "x = np.arange(10)\n",
    "y = np.arange(10, 20)       # has same shape as x\n",
    "\n",
    "# Resulting array z has the same shape as x and y:\n",
    "z = x + y           # addition\n",
    "z = x - y           # subtraction\n",
    "z = x * y           # multiplication\n",
    "z = x / y           # division\n",
    "z = x // y          # division with integer truncation\n",
    "z = x % y           # modulo operator\n",
    "z = x ** y          # power function\n",
    "z = x == y          # comparison: also >, >=, <=, <"
   ]
  },
  {
   "cell_type": "markdown",
   "metadata": {
    "pycharm": {
     "name": "#%% md\n"
    }
   },
   "source": [
    "*Case 3:* Applying element-wise functions.\n",
    "This case covers numerous functions defined in NumPy, such\n",
    "as\n",
    "\n",
    "-   `np.sqrt`: square root\n",
    "-   `np.exp`, `np.log`, `np.log10`: exponential and logarithmic functions\n",
    "-   `np.sin`, `np.cos`, etc.: trigonometric functions"
   ]
  },
  {
   "cell_type": "markdown",
   "metadata": {
    "pycharm": {
     "name": "#%% md\n"
    }
   },
   "source": [
    "You can find a complete list of mathematical functions in\n",
    "the NumPy [documentation](https://numpy.org/doc/stable/reference/routines.math.html)\n",
    "(not all functions listed there operate element-wise, though!)."
   ]
  },
  {
   "cell_type": "code",
   "execution_count": 31,
   "metadata": {
    "pycharm": {
     "name": "#%%\n"
    }
   },
   "outputs": [],
   "source": [
    "# element-wise functions\n",
    "x = np.arange(1, 11)\n",
    "y = np.exp(x)       # apply exponential function\n",
    "y = np.log(x)       # apply natural logarithm"
   ]
  },
  {
   "cell_type": "markdown",
   "metadata": {
    "pycharm": {
     "name": "#%% md\n"
    }
   },
   "source": [
    "### Matrix operations\n",
    "\n",
    "**Transpose**\n",
    "\n",
    "You can transpose a matrix using the `T` attribute:"
   ]
  },
  {
   "cell_type": "code",
   "execution_count": 32,
   "metadata": {
    "pycharm": {
     "name": "#%%\n"
    }
   },
   "outputs": [
    {
     "output_type": "execute_result",
     "data": {
      "text/plain": [
       "array([[0, 1, 2],\n",
       "       [3, 4, 5]])"
      ]
     },
     "metadata": {},
     "execution_count": 32
    }
   ],
   "source": [
    "mat = np.arange(6).reshape((2,3))\n",
    "mat"
   ]
  },
  {
   "cell_type": "code",
   "execution_count": 33,
   "metadata": {
    "pycharm": {
     "name": "#%%\n"
    }
   },
   "outputs": [
    {
     "output_type": "execute_result",
     "data": {
      "text/plain": [
       "array([[0, 3],\n",
       "       [1, 4],\n",
       "       [2, 5]])"
      ]
     },
     "metadata": {},
     "execution_count": 33
    }
   ],
   "source": [
    "mat.T\n"
   ]
  },
  {
   "cell_type": "markdown",
   "metadata": {
    "pycharm": {
     "name": "#%% md\n"
    }
   },
   "source": [
    "For higher-dimensional arrays, the `np.transpose()` function\n",
    "can be used to permute the axes of an array. For two-dimensional\n",
    "arrays, `np.transpose(mat)` and `mat.T` are equivalent.\n",
    "\n",
    "**Array multiplication**\n",
    "\n",
    "Matrix multiplication is performed using the `np.dot()`\n",
    "function (\"dot product\"). The operands need not be matrices\n",
    "but can be vectors as well, or even high-dimensional arrays\n",
    "(the result is then not entirely obvious and one should check\n",
    "the [documentation](https://numpy.org/doc/stable/reference/generated/numpy.dot.html)).\n",
    "\n",
    "Every newer version of Python and NumPy additionally interprets `@`\n",
    "as the matrix multiplication operator."
   ]
  },
  {
   "cell_type": "code",
   "execution_count": 34,
   "metadata": {
    "pycharm": {
     "name": "#%%\n"
    }
   },
   "outputs": [
    {
     "output_type": "execute_result",
     "data": {
      "text/plain": [
       "array([[ 15,  18,  21],\n",
       "       [ 42,  54,  66],\n",
       "       [ 69,  90, 111]])"
      ]
     },
     "metadata": {},
     "execution_count": 34
    }
   ],
   "source": [
    "import numpy as np\n",
    "\n",
    "mat = np.arange(9).reshape((3, 3))      # 3x3 matrix\n",
    "vec = np.arange(3)                      # vector of length 3\n",
    "\n",
    "# matrix-matrix multiplication\n",
    "np.dot(mat, mat)    # or: mat @ mat"
   ]
  },
  {
   "cell_type": "code",
   "execution_count": 35,
   "metadata": {
    "pycharm": {
     "name": "#%%\n"
    }
   },
   "outputs": [
    {
     "output_type": "execute_result",
     "data": {
      "text/plain": [
       "5"
      ]
     },
     "metadata": {},
     "execution_count": 35
    }
   ],
   "source": [
    "# vector dot product (returns a scalar)\n",
    "np.dot(vec, vec)    # or: vec @ vec\n"
   ]
  },
  {
   "cell_type": "code",
   "execution_count": 36,
   "metadata": {
    "pycharm": {
     "name": "#%%\n"
    }
   },
   "outputs": [
    {
     "output_type": "execute_result",
     "data": {
      "text/plain": [
       "array([ 5, 14, 23])"
      ]
     },
     "metadata": {},
     "execution_count": 36
    }
   ],
   "source": [
    "# matrix-vector product (returns vector)\n",
    "np.dot(mat, vec)    # or: mat @ vec"
   ]
  },
  {
   "cell_type": "markdown",
   "metadata": {
    "pycharm": {
     "name": "#%% md\n"
    }
   },
   "source": [
    "We must of course make sure that matrices and vector have\n",
    "conformable dimensions!"
   ]
  },
  {
   "cell_type": "code",
   "execution_count": 37,
   "metadata": {
    "pycharm": {
     "name": "#%%\n"
    }
   },
   "outputs": [
    {
     "output_type": "execute_result",
     "data": {
      "text/plain": [
       "array([[0, 1, 2],\n",
       "       [3, 4, 5]])"
      ]
     },
     "metadata": {},
     "execution_count": 37
    }
   ],
   "source": [
    "mat = np.arange(6).reshape((2, 3))\n",
    "mat"
   ]
  },
  {
   "cell_type": "code",
   "execution_count": 38,
   "metadata": {
    "pycharm": {
     "name": "#%%\n"
    }
   },
   "outputs": [
    {
     "output_type": "error",
     "ename": "ValueError",
     "evalue": "shapes (2,3) and (2,3) not aligned: 3 (dim 1) != 2 (dim 0)",
     "traceback": [
      "\u001b[0;31m---------------------------------------------------------------------------\u001b[0m",
      "\u001b[0;31mValueError\u001b[0m                                Traceback (most recent call last)",
      "\u001b[0;32m<ipython-input-38-6f2099a69a9c>\u001b[0m in \u001b[0;36m<module>\u001b[0;34m\u001b[0m\n\u001b[0;32m----> 1\u001b[0;31m \u001b[0mnp\u001b[0m\u001b[0;34m.\u001b[0m\u001b[0mdot\u001b[0m\u001b[0;34m(\u001b[0m\u001b[0mmat\u001b[0m\u001b[0;34m,\u001b[0m \u001b[0mmat\u001b[0m\u001b[0;34m)\u001b[0m        \u001b[0;31m# raises error, cannot multiply 2x3 matrix with\u001b[0m\u001b[0;34m\u001b[0m\u001b[0;34m\u001b[0m\u001b[0m\n\u001b[0m\u001b[1;32m      2\u001b[0m                         \u001b[0;31m# 2x3 matrix\u001b[0m\u001b[0;34m\u001b[0m\u001b[0;34m\u001b[0m\u001b[0;34m\u001b[0m\u001b[0m\n",
      "\u001b[0;32m<__array_function__ internals>\u001b[0m in \u001b[0;36mdot\u001b[0;34m(*args, **kwargs)\u001b[0m\n",
      "\u001b[0;31mValueError\u001b[0m: shapes (2,3) and (2,3) not aligned: 3 (dim 1) != 2 (dim 0)"
     ]
    }
   ],
   "source": [
    "np.dot(mat, mat)        # raises error, cannot multiply 2x3 matrix with \n",
    "                        # 2x3 matrix"
   ]
  },
  {
   "cell_type": "code",
   "execution_count": 39,
   "metadata": {
    "pycharm": {
     "name": "#%%\n"
    }
   },
   "outputs": [
    {
     "output_type": "execute_result",
     "data": {
      "text/plain": [
       "array([[ 5, 14],\n",
       "       [14, 50]])"
      ]
     },
     "metadata": {},
     "execution_count": 39
    }
   ],
   "source": [
    "np.dot(mat, mat.T)      # transpose second operand, works"
   ]
  },
  {
   "cell_type": "markdown",
   "metadata": {
    "pycharm": {
     "name": "#%% md\n"
    }
   },
   "source": [
    "### Reductions\n",
    "\n",
    "Reductions are operations that reduce the dimensionality of\n",
    "the data. For example, computing the mean of an array reduces\n",
    "a collection of data points to a single scalar, its mean.\n",
    "\n",
    "Basic reduction operations include:\n",
    "\n",
    "-   `np.sum()`: sum of array elements\n",
    "-   `np.prod()`: product of array elements\n",
    "-   `np.amin()`, `np.amax()`: minimum and maximum element\n",
    "-   `np.argmin()`, `np.argmax()`: location of minimum and maximum element\n",
    "-   `np.mean()`, `np.average()`: mean of array elements\n",
    "-   `np.median()`: median of array elements\n",
    "-   `np.std()`, `np.var()`: standard deviation and variance of array elements\n",
    "-   `np.percentile()`: percentiles of array elements\n",
    "\n",
    "Most if not all reductions accept an `axis` argument which\n",
    "restricts the operation to a specific axis.\n",
    "\n",
    "-   If an axis is specified, the resulting array will have one dimension\n",
    "    less than the input.\n",
    "-   If no axis is specified, the operation is applied to the\n",
    "    whole (flattened) array.\n",
    "\n",
    "*Examples:*"
   ]
  },
  {
   "cell_type": "code",
   "execution_count": 40,
   "metadata": {
    "pycharm": {
     "name": "#%%\n"
    }
   },
   "outputs": [
    {
     "output_type": "stream",
     "name": "stdout",
     "text": [
      "Mean: 0.50, std. dev.: 0.32\n"
     ]
    }
   ],
   "source": [
    "import numpy as np\n",
    "\n",
    "# 1-dimensional input data\n",
    "data = np.linspace(0.0, 1.0, 11)\n",
    "\n",
    "# Compute mean and std. of input data\n",
    "m = np.mean(data)\n",
    "s = np.std(data)\n",
    "print('Mean: {:.2f}, std. dev.: {:.2f}'.format(m, s))"
   ]
  },
  {
   "cell_type": "code",
   "execution_count": 41,
   "metadata": {
    "pycharm": {
     "name": "#%%\n"
    }
   },
   "outputs": [
    {
     "output_type": "execute_result",
     "data": {
      "text/plain": [
       "array([[0.  , 0.05, 0.1 , 0.15, 0.2 , 0.25, 0.3 ],\n",
       "       [0.35, 0.4 , 0.45, 0.5 , 0.55, 0.6 , 0.65],\n",
       "       [0.7 , 0.75, 0.8 , 0.85, 0.9 , 0.95, 1.  ]])"
      ]
     },
     "metadata": {},
     "execution_count": 41
    }
   ],
   "source": [
    "# 2-dimensional input data\n",
    "data = np.linspace(0.0, 1.0, 21).reshape((3, 7))\n",
    "data"
   ]
  },
  {
   "cell_type": "code",
   "execution_count": 42,
   "metadata": {
    "pycharm": {
     "name": "#%%\n"
    }
   },
   "outputs": [
    {
     "output_type": "execute_result",
     "data": {
      "text/plain": [
       "array([0.15, 0.5 , 0.85])"
      ]
     },
     "metadata": {},
     "execution_count": 42
    }
   ],
   "source": [
    "# Compute mean of each row, ie along the column axis\n",
    "m = np.mean(data, axis=1)\n",
    "m           # Result is a vector of 3 elements, one for each row"
   ]
  },
  {
   "cell_type": "markdown",
   "metadata": {
    "pycharm": {
     "name": "#%% md\n"
    }
   },
   "source": [
    "### Broadcasting\n",
    "\n",
    "Element-wise operations in most programming languages require\n",
    "input arrays to have identical shapes.\n",
    "NumPy relaxes this constraint and allows us to use arrays\n",
    "with different shapes that can be \"broadcast\" to identical shapes.\n",
    "\n",
    "**Simple example**\n",
    "\n",
    "What do we mean by \"broadcasting\"? We introduce the concept\n",
    "using a specific example, and will discuss the technical\n",
    "details below.\n",
    "\n",
    "-   Imagine we want to add a $2 \\times 3$ matrix to a length-2 vector.\n",
    "-   This operation does not make sense, unless we interpret the (column) vector\n",
    "    as a $2 \\times 1$ matrix, and replicate it 3 times to obtain a\n",
    "    $2 \\times 3$ matrix. This is exactly what NumPy does.\n",
    "\n",
    "*Examples:*"
   ]
  },
  {
   "cell_type": "code",
   "execution_count": 43,
   "metadata": {
    "pycharm": {
     "name": "#%%\n"
    }
   },
   "outputs": [
    {
     "output_type": "execute_result",
     "data": {
      "text/plain": [
       "array([[0, 1, 2],\n",
       "       [3, 4, 5]])"
      ]
     },
     "metadata": {},
     "execution_count": 43
    }
   ],
   "source": [
    "import numpy as np\n",
    "\n",
    "# Create 3x2 matrix\n",
    "mat = np.arange(6).reshape((2, 3))\n",
    "mat"
   ]
  },
  {
   "cell_type": "code",
   "execution_count": 44,
   "metadata": {
    "pycharm": {
     "name": "#%%\n"
    }
   },
   "outputs": [
    {
     "output_type": "execute_result",
     "data": {
      "text/plain": [
       "array([0, 1])"
      ]
     },
     "metadata": {},
     "execution_count": 44
    }
   ],
   "source": [
    "# Create 2-element vector\n",
    "vec = np.arange(2)\n",
    "vec"
   ]
  },
  {
   "cell_type": "code",
   "execution_count": 45,
   "metadata": {
    "pycharm": {
     "name": "#%%\n"
    }
   },
   "outputs": [
    {
     "output_type": "error",
     "ename": "ValueError",
     "evalue": "operands could not be broadcast together with shapes (2,3) (2,) ",
     "traceback": [
      "\u001b[0;31m---------------------------------------------------------------------------\u001b[0m",
      "\u001b[0;31mValueError\u001b[0m                                Traceback (most recent call last)",
      "\u001b[0;32m<ipython-input-45-d51c7a88afa4>\u001b[0m in \u001b[0;36m<module>\u001b[0;34m\u001b[0m\n\u001b[1;32m      1\u001b[0m \u001b[0;31m# Trying to add matrix to vector fails\u001b[0m\u001b[0;34m\u001b[0m\u001b[0;34m\u001b[0m\u001b[0;34m\u001b[0m\u001b[0m\n\u001b[0;32m----> 2\u001b[0;31m \u001b[0mmat\u001b[0m \u001b[0;34m+\u001b[0m \u001b[0mvec\u001b[0m\u001b[0;34m\u001b[0m\u001b[0;34m\u001b[0m\u001b[0m\n\u001b[0m",
      "\u001b[0;31mValueError\u001b[0m: operands could not be broadcast together with shapes (2,3) (2,) "
     ]
    }
   ],
   "source": [
    "# Trying to add matrix to vector fails\n",
    "mat + vec"
   ]
  },
  {
   "cell_type": "code",
   "execution_count": 46,
   "metadata": {
    "pycharm": {
     "name": "#%%\n"
    }
   },
   "outputs": [
    {
     "output_type": "execute_result",
     "data": {
      "text/plain": [
       "array([[0],\n",
       "       [1]])"
      ]
     },
     "metadata": {},
     "execution_count": 46
    }
   ],
   "source": [
    "# However, we can explicitly reshape the vector to a 2x1 column vector\n",
    "colvec = vec.reshape((-1, 1))\n",
    "colvec"
   ]
  },
  {
   "cell_type": "code",
   "execution_count": 47,
   "metadata": {
    "pycharm": {
     "name": "#%%\n"
    }
   },
   "outputs": [
    {
     "output_type": "execute_result",
     "data": {
      "text/plain": [
       "array([[0, 1, 2],\n",
       "       [4, 5, 6]])"
      ]
     },
     "metadata": {},
     "execution_count": 47
    }
   ],
   "source": [
    "# Now, broadcasting replicates column vector to match matrix columns\n",
    "mat + colvec"
   ]
  },
  {
   "cell_type": "markdown",
   "metadata": {
    "pycharm": {
     "name": "#%% md\n"
    }
   },
   "source": [
    "We do not need to `reshape()` data, but can instead use\n",
    "a feature of NumPy that allows us to increase the number of\n",
    "dimensions on the spot:"
   ]
  },
  {
   "cell_type": "code",
   "execution_count": 48,
   "metadata": {
    "pycharm": {
     "name": "#%%\n"
    }
   },
   "outputs": [
    {
     "output_type": "execute_result",
     "data": {
      "text/plain": [
       "array([[0, 1, 2],\n",
       "       [4, 5, 6]])"
      ]
     },
     "metadata": {},
     "execution_count": 48
    }
   ],
   "source": [
    "# use vec[:, None] to append an additional dimension to vec\n",
    "mat + vec[:, None]"
   ]
  },
  {
   "cell_type": "markdown",
   "metadata": {
    "pycharm": {
     "name": "#%% md\n"
    }
   },
   "source": [
    "For more examples, see the official NumPy [tutorial](https://numpy.org/doc/stable/user/theory.broadcasting.html)\n",
    "on broadcasting.\n",
    "\n",
    "**Technical details**\n",
    "\n",
    "We are now ready to look at the technical details\n",
    "underlying broadcasting. The NumPy [documentation](https://numpy.org/doc/stable/reference/ufuncs.html#broadcasting)\n",
    "is quite helpful, so we will just summarise the points made there.\n",
    "\n",
    "Broadcasting is applied in four steps:\n",
    "\n",
    "1.  Determine the largest dimension (`ndim` attribute) among all arrays\n",
    "    involved in an operation. Any array of smaller dimension\n",
    "    will have 1's *prepended* to its shape until its dimension\n",
    "    corresponds to the largest one.\n",
    "\n",
    "    *Example:* given array `a` with shape `(m,n)` and array\n",
    "    `b` with shape `(n,)`, the maximum dimension is 2,\n",
    "    and `b` will be implicitly reshaped to `(1,n)`.\n",
    "2.  The size of the output array is determined as the\n",
    "    maximum size of all arrays along each dimension.\n",
    "\n",
    "    *Example:* Continuing with our example from above, the\n",
    "    maximum size along dimension 1 is `m`, and the maximum\n",
    "    size along dimension 2 is `n`, so the output array\n",
    "    has shape `(m,n)`.\n",
    "3.  An input array can be used in the computation if\n",
    "    for every dimension its size either matches the output\n",
    "    size or is equal to 1. If this is not the case,\n",
    "    broadcasting cannot be applied and the operation fails.\n",
    "\n",
    "    *Example:* In the above example, the shape of `a` matches\n",
    "    the output shape exactly. The implied shape of `b` is\n",
    "    `(1,n)`, so it matches exactly along the second dimension,\n",
    "    and is 1 along the first, and thus can be used.\n",
    "4.  For any input array with size 1 along some dimension,\n",
    "    the (unique) element in this dimension will be used\n",
    "    for all calculations along that dimension.\n",
    "\n",
    "    *Example:* Any element `a[i,j]` will be matched with\n",
    "    the element `b[0,j]` to the calculate the output\n",
    "    value at `(i,j)`.\n",
    "\n",
    "Because additional dimensions are added *at the beginning*\n",
    "to create the desired output shape, broadcasting will not work\n",
    "automatically if we want to multiply arrays of\n",
    "shape `a.shape = (m,n)` and `b.shape = (m,)`.\n",
    "\n",
    "-   Following the above steps,  `b` will implicitly be\n",
    "    reshaped to `(1,m)` and the operation will fail at step 3:"
   ]
  },
  {
   "cell_type": "code",
   "execution_count": 49,
   "metadata": {
    "pycharm": {
     "name": "#%%\n"
    }
   },
   "outputs": [
    {
     "output_type": "error",
     "ename": "ValueError",
     "evalue": "operands could not be broadcast together with shapes (3,2) (3,) ",
     "traceback": [
      "\u001b[0;31m---------------------------------------------------------------------------\u001b[0m",
      "\u001b[0;31mValueError\u001b[0m                                Traceback (most recent call last)",
      "\u001b[0;32m<ipython-input-49-449a8f607184>\u001b[0m in \u001b[0;36m<module>\u001b[0;34m\u001b[0m\n\u001b[1;32m      4\u001b[0m \u001b[0mb\u001b[0m \u001b[0;34m=\u001b[0m \u001b[0mnp\u001b[0m\u001b[0;34m.\u001b[0m\u001b[0marange\u001b[0m\u001b[0;34m(\u001b[0m\u001b[0;36m1\u001b[0m\u001b[0;34m,\u001b[0m \u001b[0mm\u001b[0m\u001b[0;34m+\u001b[0m\u001b[0;36m1\u001b[0m\u001b[0;34m)\u001b[0m                   \u001b[0;31m# vector of shape (m,)\u001b[0m\u001b[0;34m\u001b[0m\u001b[0;34m\u001b[0m\u001b[0m\n\u001b[1;32m      5\u001b[0m \u001b[0;34m\u001b[0m\u001b[0m\n\u001b[0;32m----> 6\u001b[0;31m \u001b[0ma\u001b[0m \u001b[0;34m*\u001b[0m \u001b[0mb\u001b[0m           \u001b[0;31m# will not work!\u001b[0m\u001b[0;34m\u001b[0m\u001b[0;34m\u001b[0m\u001b[0m\n\u001b[0m",
      "\u001b[0;31mValueError\u001b[0m: operands could not be broadcast together with shapes (3,2) (3,) "
     ]
    }
   ],
   "source": [
    "m = 3\n",
    "n = 2\n",
    "a = np.arange(m*n).reshape((m, n))      # matrix of shape (m,n)\n",
    "b = np.arange(1, m+1)                   # vector of shape (m,)\n",
    "\n",
    "a * b           # will not work!"
   ]
  },
  {
   "cell_type": "markdown",
   "metadata": {
    "pycharm": {
     "name": "#%% md\n"
    }
   },
   "source": [
    "We therefore have to explicitly *append* a degenerate axis to\n",
    "`b` such that both arrays have the same dimension:"
   ]
  },
  {
   "cell_type": "code",
   "execution_count": 50,
   "metadata": {
    "pycharm": {
     "name": "#%%\n"
    }
   },
   "outputs": [
    {
     "output_type": "execute_result",
     "data": {
      "text/plain": [
       "array([[ 0,  1],\n",
       "       [ 4,  6],\n",
       "       [12, 15]])"
      ]
     },
     "metadata": {},
     "execution_count": 50
    }
   ],
   "source": [
    "b = b[:,None]\n",
    "a * b"
   ]
  },
  {
   "cell_type": "markdown",
   "metadata": {
    "pycharm": {
     "name": "#%% md\n"
    }
   },
   "source": [
    "Because `a` has shape `(m,n)` and `b` now has shape\n",
    "`(m,1)`, `b[:,0]` will be replicated across all columns of\n",
    "`a` to perform the operation.\n",
    "\n",
    "It is worthwhile to take some time to master broadcasting as it's\n",
    "essential to using NumPy efficiently. You might think that\n",
    "one can simply replicate array operands along some\n",
    "dimension to get the same effect, which is what we do in languages\n",
    "that do not support broadcasting.\n",
    "\n",
    "-   This included Matlab until release R2016b, where\n",
    "    implicit expansion for some arithmetic and logical\n",
    "    operations was introduced.\n",
    "\n",
    "    Prior to that, users had to manually expand input arrays\n",
    "    using `repmat()`, or use the rather inelegant `bsxfun()`\n",
    "    function.\n",
    "\n",
    "    Note that even today, NumPy broadcasting goes beyond\n",
    "    Matlab's capabilities.\n",
    "\n",
    "To illustrate the difference between broadcasting and manual replication \n",
    "of data, we perform the element-wise multiplication\n",
    "of a 3-dimensional array with a (1-dimensional) vector:"
   ]
  },
  {
   "cell_type": "code",
   "execution_count": 51,
   "metadata": {
    "pycharm": {
     "name": "#%%\n"
    }
   },
   "outputs": [],
   "source": [
    "# Dimensions of 3d array\n",
    "k = 10\n",
    "m = 11\n",
    "n = 12\n",
    "\n",
    "a = np.arange(k*m*n).reshape((k, m, n))     # create 3d array\n",
    "b = np.arange(n)                            # create 1d vector"
   ]
  },
  {
   "cell_type": "markdown",
   "metadata": {
    "pycharm": {
     "name": "#%% md\n"
    }
   },
   "source": [
    "We can manually expand the vector to have the same\n",
    "shape as the array `a` using `np.tile()` which creates:\n",
    "`k * m` copies of the `n` elements in `b`:"
   ]
  },
  {
   "cell_type": "code",
   "execution_count": 52,
   "metadata": {
    "pycharm": {
     "name": "#%%\n"
    }
   },
   "outputs": [
    {
     "output_type": "execute_result",
     "data": {
      "text/plain": [
       "(10, 11, 12)"
      ]
     },
     "metadata": {},
     "execution_count": 52
    }
   ],
   "source": [
    "b_exp = np.tile(b, reps=(k, m, 1))\n",
    "b_exp.shape"
   ]
  },
  {
   "cell_type": "markdown",
   "metadata": {
    "pycharm": {
     "name": "#%% md\n"
    }
   },
   "source": [
    "The following code compares the execution time of computing\n",
    "`a * b` using broadcasting to the case where we first\n",
    "explicitly expand `b`:"
   ]
  },
  {
   "cell_type": "code",
   "execution_count": 53,
   "metadata": {
    "pycharm": {
     "name": "#%%\n"
    }
   },
   "outputs": [
    {
     "output_type": "stream",
     "name": "stdout",
     "text": [
      "1.88 µs ± 6.32 ns per loop (mean ± std. dev. of 7 runs, 1000000 loops each)\n"
     ]
    }
   ],
   "source": [
    "# Multiplication with broadcasting\n",
    "%timeit a * b"
   ]
  },
  {
   "cell_type": "code",
   "execution_count": 54,
   "metadata": {
    "pycharm": {
     "name": "#%%\n"
    }
   },
   "outputs": [
    {
     "output_type": "stream",
     "name": "stdout",
     "text": [
      "6.37 µs ± 78.6 ns per loop (mean ± std. dev. of 7 runs, 100000 loops each)\n"
     ]
    }
   ],
   "source": [
    "# Multiplication with explicitly expanded operands\n",
    "%timeit a * np.tile(b, reps=(k, m, 1))"
   ]
  },
  {
   "cell_type": "markdown",
   "metadata": {
    "pycharm": {
     "name": "#%% md\n"
    }
   },
   "source": [
    "As you see, not only is the second operation more complex\n",
    "and difficult to read, it also takes approximately three times\n",
    "as long to execute! The reason is that `np.tile()`\n",
    "replicates the data in memory, which is expensive. No copying\n",
    "is done when using broadcasting."
   ]
  },
  {
   "cell_type": "markdown",
   "metadata": {
    "pycharm": {
     "name": "#%% md\n"
    }
   },
   "source": [
    "***\n",
    "\n",
    "## Vectorisation\n",
    "\n",
    "Vectorisation is the concept of applying operations to\n",
    "whole arrays of data instead of every singular element\n",
    "(note that the term also has other meanings in computer science).\n",
    "In Python, as well as languages such as Matlab and R, we use\n",
    "this programming technique to increase performance for two reasons:\n",
    "\n",
    "1.  Looping over elements is slow.\n",
    "2.  Calling a function on every single element is also slow.\n",
    "\n",
    "These performance penalties are less pronounced for compiled\n",
    "languages such as C or Fortran, so we try to move the looping\n",
    "to code written in one of these languages. In particular,\n",
    "since NumPy's core parts are implemented in C, we always\n",
    "want to do looping \"within\" NumPy.\n",
    "\n",
    "For example, consider element-wise addition of two arrays, `a` and `b`:"
   ]
  },
  {
   "cell_type": "code",
   "execution_count": 55,
   "metadata": {
    "pycharm": {
     "name": "#%%\n"
    }
   },
   "outputs": [],
   "source": [
    "import numpy as np\n",
    "\n",
    "# array size\n",
    "N = 100\n",
    "\n",
    "# input arrays\n",
    "a = np.linspace(0.0, 1.0, N)\n",
    "b = np.linspace(1.0, 2.0, N)"
   ]
  },
  {
   "cell_type": "markdown",
   "metadata": {
    "pycharm": {
     "name": "#%% md\n"
    }
   },
   "source": [
    "Benchmarking a non-vectorised loop in pure Python\n",
    "against NumPy's vectorised implementation reveals some\n",
    "striking differences:"
   ]
  },
  {
   "cell_type": "code",
   "execution_count": 56,
   "metadata": {
    "pycharm": {
     "name": "#%%\n"
    }
   },
   "outputs": [
    {
     "output_type": "stream",
     "name": "stdout",
     "text": [
      "31.6 µs ± 235 ns per loop (mean ± std. dev. of 7 runs, 10000 loops each)\n"
     ]
    }
   ],
   "source": [
    "%%timeit\n",
    "# Compute c = a + b using Python loops\n",
    "c = np.empty(N)         # allocate output array\n",
    "for i in range(N):\n",
    "    c[i] = a[i] + b[i]"
   ]
  },
  {
   "cell_type": "code",
   "execution_count": 57,
   "metadata": {
    "pycharm": {
     "name": "#%%\n"
    }
   },
   "outputs": [
    {
     "output_type": "stream",
     "name": "stdout",
     "text": [
      "380 ns ± 26.3 ns per loop (mean ± std. dev. of 7 runs, 1000000 loops each)\n"
     ]
    }
   ],
   "source": [
    "# Compute c = a + b using vectorised addition\n",
    "%timeit c = a + b"
   ]
  },
  {
   "cell_type": "markdown",
   "metadata": {
    "pycharm": {
     "name": "#%% md\n"
    }
   },
   "source": [
    "We see that the vectorised variant is about 100 times faster!\n",
    "What is going on?\n",
    "\n",
    "-   NumPy implements a vectorised operator `+` which accepts\n",
    "    arrays as operands.\n",
    "-   NumPy performs looping over individual elements in C\n",
    "    which is compiled to high-performance machine code.\n",
    "\n",
    "Of course this example is somewhat artificial: you would\n",
    "not have implemented a loop in Python in the first place,\n",
    "you probably just assumed that `+` works with array operands.\n",
    "\n",
    "However, we can easily construct more complex computations\n",
    "which may not be implemented in NumPy but\n",
    "which can use vectorised building blocks to speed up computations.\n",
    "\n",
    "As an example, consider the following function which computes the \n",
    "sum of finite of elements of an array, ignoring infinity and NaNs."
   ]
  },
  {
   "cell_type": "code",
   "execution_count": 58,
   "metadata": {
    "pycharm": {
     "name": "#%%\n"
    }
   },
   "outputs": [],
   "source": [
    "# Compute sum of finite elements in x\n",
    "def finite_sum(x):\n",
    "    # initialise sum\n",
    "    s = 0.0\n",
    "    # loop over array elements\n",
    "    for xi in x:\n",
    "        # Check whether a value is finite\n",
    "        if np.isfinite(xi):\n",
    "            # Add to running sum\n",
    "            s += xi\n",
    "    return s"
   ]
  },
  {
   "cell_type": "markdown",
   "metadata": {},
   "source": [
    "Next, we create a sample array with a few NaNs and infinite values and to \n",
    "test `finite_sum()`:"
   ]
  },
  {
   "cell_type": "code",
   "execution_count": 59,
   "metadata": {},
   "outputs": [],
   "source": [
    "arr = np.linspace(0.0, 1.0, 100)\n",
    "arr[::3] = np.inf       # assign infinity to every 3rd element\n",
    "arr[::5] = np.nan       # assign NaN to every 5th element"
   ]
  },
  {
   "cell_type": "markdown",
   "metadata": {},
   "source": [
    "Comparing our `finite_sum()` to a vectorised version again shows \n",
    "the performance advantage of vectorised code:"
   ]
  },
  {
   "cell_type": "code",
   "execution_count": 60,
   "metadata": {},
   "outputs": [
    {
     "output_type": "stream",
     "name": "stdout",
     "text": [
      "113 µs ± 647 ns per loop (mean ± std. dev. of 7 runs, 10000 loops each)\n"
     ]
    }
   ],
   "source": [
    "%timeit finite_sum(arr)"
   ]
  },
  {
   "cell_type": "code",
   "execution_count": 61,
   "metadata": {},
   "outputs": [
    {
     "output_type": "stream",
     "name": "stdout",
     "text": [
      "3.77 µs ± 11.3 ns per loop (mean ± std. dev. of 7 runs, 100000 loops each)\n"
     ]
    }
   ],
   "source": [
    "%timeit np.sum(arr[np.isfinite(arr)])"
   ]
  },
  {
   "cell_type": "markdown",
   "metadata": {},
   "source": [
    "The vectorised version is approximately 25 times faster, despite the fact that\n",
    "\n",
    "-   NumPy does not implement this specific function; and\n",
    "-   the vectorised implementation creates two temporary arrays: \n",
    "\n",
    "    -   one when calling `np.isfinite()`; and \n",
    "    -   one when indexing `arr` with the boolean array returned by\n",
    "        `np.isfinite()`. As we discuss below, indexing with boolean arrays \n",
    "        always creates a copy!\n",
    "\n",
    "This illustrates that creating vectorised code by combining several vectorised functions\n",
    "also yields considerable speed-ups.\n",
    "\n",
    "As an aside, note that NumPy actually implements `np.nansum()` which drops NaNs,\n",
    "but it does not discard infinite values."
   ]
  },
  {
   "cell_type": "markdown",
   "metadata": {},
   "source": [
    "***\n",
    "\n",
    "## Copies and views (advanced)\n",
    "\n",
    "Recall that assignment in Python does *not* create a copy\n",
    "(unlike in C, Fortran or Matlab):"
   ]
  },
  {
   "cell_type": "code",
   "execution_count": 62,
   "metadata": {
    "pycharm": {
     "name": "#%%\n"
    }
   },
   "outputs": [
    {
     "output_type": "execute_result",
     "data": {
      "text/plain": [
       "True"
      ]
     },
     "metadata": {},
     "execution_count": 62
    }
   ],
   "source": [
    "a = [0, 0, 0]\n",
    "b = a           # b references the same object as a\n",
    "b[1] = 1        # modify second element of b (and a!)\n",
    "a == b          # a and b are still the same"
   ]
  },
  {
   "cell_type": "markdown",
   "metadata": {},
   "source": [
    "NumPy adds another layer to this sort of data sharing:\n",
    "whenever you perform an assignment or indexing operation,\n",
    "NumPy tries hard *not* to copy the underlying data but instead\n",
    "creates a so-called view which points to the same block of memory.\n",
    "It does so for performance reasons (copying is expensive).\n",
    "\n",
    "We can illustrate this using array slicing:"
   ]
  },
  {
   "cell_type": "code",
   "execution_count": 63,
   "metadata": {
    "pycharm": {
     "name": "#%%\n"
    }
   },
   "outputs": [
    {
     "output_type": "execute_result",
     "data": {
      "text/plain": [
       "array([0, 1, 2, 3, 4, 5, 6, 7, 8, 9])"
      ]
     },
     "metadata": {},
     "execution_count": 63
    }
   ],
   "source": [
    "import numpy as np\n",
    "\n",
    "x = np.arange(10)\n",
    "x"
   ]
  },
  {
   "cell_type": "code",
   "execution_count": 64,
   "metadata": {
    "pycharm": {
     "name": "#%%\n"
    }
   },
   "outputs": [
    {
     "output_type": "execute_result",
     "data": {
      "text/plain": [
       "array([3, 4, 5, 6, 7])"
      ]
     },
     "metadata": {},
     "execution_count": 64
    }
   ],
   "source": [
    "y = x[3:8]          # Create array that points to elements 4-8 of x\n",
    "y"
   ]
  },
  {
   "cell_type": "markdown",
   "metadata": {},
   "source": [
    "The arrays `x` and `y` are two different Python objects, which we\n",
    "can verify using the built-in `id()` function:"
   ]
  },
  {
   "cell_type": "code",
   "execution_count": 65,
   "metadata": {
    "pycharm": {
     "name": "#%%\n"
    }
   },
   "outputs": [
    {
     "output_type": "stream",
     "name": "stdout",
     "text": [
      "139945336388544\n139945336336432\n"
     ]
    }
   ],
   "source": [
    "print(id(x))\n",
    "print(id(y))"
   ]
  },
  {
   "cell_type": "code",
   "execution_count": 66,
   "metadata": {
    "pycharm": {
     "name": "#%%\n"
    }
   },
   "outputs": [
    {
     "output_type": "execute_result",
     "data": {
      "text/plain": [
       "False"
      ]
     },
     "metadata": {},
     "execution_count": 66
    }
   ],
   "source": [
    "id(x) == id(y)"
   ]
  },
  {
   "cell_type": "markdown",
   "metadata": {},
   "source": [
    "And yet, the NumPy implementation makes sure that they reference\n",
    "the same block of memory!\n",
    "\n",
    "We can see this easily by modifying `y`:"
   ]
  },
  {
   "cell_type": "code",
   "execution_count": 67,
   "metadata": {
    "pycharm": {
     "name": "#%%\n"
    }
   },
   "outputs": [
    {
     "output_type": "execute_result",
     "data": {
      "text/plain": [
       "array([0, 0, 0, 0, 0])"
      ]
     },
     "metadata": {},
     "execution_count": 67
    }
   ],
   "source": [
    "y[:] = 0        # overwrite all elements of y with zeros\n",
    "y"
   ]
  },
  {
   "cell_type": "code",
   "execution_count": 68,
   "metadata": {
    "pycharm": {
     "name": "#%%\n"
    }
   },
   "outputs": [
    {
     "output_type": "execute_result",
     "data": {
      "text/plain": [
       "array([0, 1, 2, 0, 0, 0, 0, 0, 8, 9])"
      ]
     },
     "metadata": {},
     "execution_count": 68
    }
   ],
   "source": [
    "x               # elements of x that are also referenced by y\n",
    "                # are now also zero!"
   ]
  },
  {
   "cell_type": "markdown",
   "metadata": {},
   "source": [
    "This behaviour is even triggered when `y` references\n",
    "non-adjacent elements in `x`. For example, we can let `y`\n",
    "be a view onto every *second* element in `x`:"
   ]
  },
  {
   "cell_type": "code",
   "execution_count": 69,
   "metadata": {
    "pycharm": {
     "name": "#%%\n"
    }
   },
   "outputs": [
    {
     "output_type": "execute_result",
     "data": {
      "text/plain": [
       "array([0, 1, 0, 3, 0, 5, 0, 7, 0, 9])"
      ]
     },
     "metadata": {},
     "execution_count": 69
    }
   ],
   "source": [
    "x = np.arange(10)\n",
    "y = x[::2]      # y now points to every second element of x\n",
    "y[:] = 0        # overwrite all elements of y with zeros\n",
    "x               # every second element in x is now zero!"
   ]
  },
  {
   "cell_type": "markdown",
   "metadata": {},
   "source": [
    "As a rule of thumb, NumPy will create a view as opposed to\n",
    "copying data if\n",
    "\n",
    "-   An array is created from another array via slicing\n",
    "    (i.e. indexing using the `start:stop:step` triplet)\n",
    "\n",
    "Conversely, a *copy* is created whenever\n",
    "\n",
    "-   An array is created from another array via boolean\n",
    "    (mask) indexing.\n",
    "-   An array is created from another array via integer\n",
    "    array indexing.\n",
    "\n",
    "Moreover, you can always force NumPy to create a copy by calling\n",
    "`np.copy()`!\n",
    "\n",
    "*Examples:*"
   ]
  },
  {
   "cell_type": "code",
   "execution_count": 70,
   "metadata": {
    "pycharm": {
     "name": "#%%\n"
    }
   },
   "outputs": [
    {
     "output_type": "execute_result",
     "data": {
      "text/plain": [
       "array([0, 1, 2, 3, 4, 5, 6, 7, 8, 9])"
      ]
     },
     "metadata": {},
     "execution_count": 70
    }
   ],
   "source": [
    "# Copies are created with boolean indexing\n",
    "x = np.arange(10)\n",
    "mask = (x > 4)      # boolean mask\n",
    "y = x[mask]         # create y using boolean indexing\n",
    "y[:] = 0\n",
    "x                   # x is unmodified"
   ]
  },
  {
   "cell_type": "code",
   "execution_count": 71,
   "metadata": {
    "pycharm": {
     "name": "#%%\n"
    }
   },
   "outputs": [
    {
     "output_type": "execute_result",
     "data": {
      "text/plain": [
       "array([0, 1, 2, 3, 4, 5, 6, 7, 8, 9])"
      ]
     },
     "metadata": {},
     "execution_count": 71
    }
   ],
   "source": [
    "# Copies are created with integer array indexing\n",
    "x = np.arange(10)\n",
    "index = [3, 4, 5]   # List of indices to include in y\n",
    "y = x[index]\n",
    "y[:] = 0\n",
    "x                   # x is unmodified"
   ]
  },
  {
   "cell_type": "code",
   "execution_count": 72,
   "metadata": {
    "pycharm": {
     "name": "#%%\n"
    }
   },
   "outputs": [
    {
     "output_type": "execute_result",
     "data": {
      "text/plain": [
       "array([0, 1, 2, 3, 4, 5, 6, 7, 8, 9])"
      ]
     },
     "metadata": {},
     "execution_count": 72
    }
   ],
   "source": [
    "# Forced copy with slicing\n",
    "x = np.arange(10)\n",
    "y = np.copy(x[3:8]) # force copy with np.copy()\n",
    "y[:] = 0\n",
    "x                   # x is unmodified"
   ]
  },
  {
   "cell_type": "markdown",
   "metadata": {},
   "source": [
    "As an alternative to `np.copy()`, we can directly call the `copy()`\n",
    "method of an array:"
   ]
  },
  {
   "cell_type": "code",
   "execution_count": 73,
   "metadata": {
    "pycharm": {
     "name": "#%%\n"
    }
   },
   "outputs": [],
   "source": [
    "y = x[3:8].copy()\n"
   ]
  },
  {
   "cell_type": "markdown",
   "metadata": {
    "pycharm": {
     "name": "#%% md\n"
    }
   },
   "source": [
    "***\n",
    "## NumPy data types (advanced)\n",
    "\n",
    "### Default data types\n",
    "We have already touched upon the numerical data types\n",
    "used by NumPy. If we do not explicitly request a\n",
    "data type using the `dtype` keyword argument, NumPy\n",
    "by default behaves as follows:\n",
    "\n",
    "1.  The default data type for most array creation routines\n",
    "    which create arrays of a given shape or size, such as\n",
    "    `np.empty()`, `np.ones()` and `np.zeros()`,\n",
    "    is a 64-bit floating-point number (`np.float64`).\n",
    "2.  Array creation routines that accept numerical input\n",
    "    data will use the data type of this input data\n",
    "    to determine the array data type.\n",
    "\n",
    "    Examples of such functions are `np.arange()` and\n",
    "    `np.array()`.\n",
    "3.  Arrays that are implicitly created as a result of an\n",
    "    operation (addition, etc.) are assigned the most suitable\n",
    "    type to represent the result.\n",
    "\n",
    "    For example, when adding a floating-point and an\n",
    "    integer array, the result will be a floating-point array.\n",
    "\n",
    "*Examples:*\n",
    "\n",
    "*Case 1:* default data type is `np.float64`:"
   ]
  },
  {
   "cell_type": "code",
   "execution_count": 74,
   "metadata": {
    "pycharm": {
     "name": "#%%\n"
    }
   },
   "outputs": [
    {
     "output_type": "execute_result",
     "data": {
      "text/plain": [
       "dtype('float64')"
      ]
     },
     "metadata": {},
     "execution_count": 74
    }
   ],
   "source": [
    "import numpy as np\n",
    "\n",
    "x = np.ones(1)      # length-1 vector of ones\n",
    "x.dtype             # default type: float64"
   ]
  },
  {
   "cell_type": "markdown",
   "metadata": {},
   "source": [
    "*Case 2:* data type depends on input data:"
   ]
  },
  {
   "cell_type": "code",
   "execution_count": 75,
   "metadata": {
    "pycharm": {
     "name": "#%%\n"
    }
   },
   "outputs": [
    {
     "output_type": "execute_result",
     "data": {
      "text/plain": [
       "dtype('int64')"
      ]
     },
     "metadata": {},
     "execution_count": 75
    }
   ],
   "source": [
    "# Argument is an integer\n",
    "x = np.arange(5)\n",
    "x.dtype             # data type is np.int64 (on most platforms)"
   ]
  },
  {
   "cell_type": "code",
   "execution_count": 76,
   "metadata": {
    "pycharm": {
     "name": "#%%\n"
    }
   },
   "outputs": [
    {
     "output_type": "execute_result",
     "data": {
      "text/plain": [
       "dtype('float64')"
      ]
     },
     "metadata": {},
     "execution_count": 76
    }
   ],
   "source": [
    "# Argument is a float\n",
    "x = np.arange(5.0)\n",
    "x.dtype             # data type is np.float64"
   ]
  },
  {
   "cell_type": "markdown",
   "metadata": {},
   "source": [
    "*Case 3:* data type determined to accommodate result"
   ]
  },
  {
   "cell_type": "code",
   "execution_count": 77,
   "metadata": {
    "pycharm": {
     "name": "#%%\n"
    }
   },
   "outputs": [
    {
     "output_type": "stream",
     "name": "stdout",
     "text": [
      "[3 3 3]\n"
     ]
    },
    {
     "output_type": "execute_result",
     "data": {
      "text/plain": [
       "dtype('int64')"
      ]
     },
     "metadata": {},
     "execution_count": 77
    }
   ],
   "source": [
    "# Add two integer arrays\n",
    "arr1 = np.arange(3)\n",
    "arr2 = np.arange(3, 0, -1)      # creates [3, 2, 1]\n",
    "result = arr1 + arr2\n",
    "print(result)\n",
    "result.dtype                    # data type is np.int64"
   ]
  },
  {
   "cell_type": "code",
   "execution_count": 78,
   "metadata": {
    "pycharm": {
     "name": "#%%\n"
    }
   },
   "outputs": [
    {
     "output_type": "stream",
     "name": "stdout",
     "text": [
      "[3. 3. 3.]\n"
     ]
    },
    {
     "output_type": "execute_result",
     "data": {
      "text/plain": [
       "dtype('float64')"
      ]
     },
     "metadata": {},
     "execution_count": 78
    }
   ],
   "source": [
    "# Add integer to floating-point array\n",
    "arr1 = np.arange(3)\n",
    "arr2 = np.arange(3.0, 0.0, -1.0)    # creates [3.0, 2.0, 1.0]\n",
    "result = arr1 + arr2\n",
    "print(result)\n",
    "result.dtype                        # data type is np.float64"
   ]
  },
  {
   "cell_type": "markdown",
   "metadata": {
    "pycharm": {
     "name": "#%% md\n"
    }
   },
   "source": [
    "Even though the resulting array is `[3.0, 3.0, 3.0]`\n",
    "and can thus be represented as integers without loss of data,\n",
    "NumPy only takes into account that one of the operands\n",
    "is floating-point, and thus the result has to be\n",
    "of floating-point type!"
   ]
  },
  {
   "cell_type": "markdown",
   "metadata": {},
   "source": [
    "### Explicit data types\n",
    "\n",
    "We can almost always explicitly request an array to be\n",
    "of a particular data type by passing the `dtype` keyword argument.\n",
    "The most common types are:\n",
    "\n",
    "-   `np.float64`: a 64-bit floating-point number, also called\n",
    "    *double precision* in other languages.\n",
    "\n",
    "    This is the most commonly used floating-point data type. It can\n",
    "    represent numbers with up to 16 decimal digits, and covers\n",
    "    a range of approximately $\\pm 10^{308}$.\n",
    "\n",
    "-   `np.int64`: a 64-bit integer which can represent integer\n",
    "    values on the interval of (approximately) $\\pm10^{19}$.\n",
    "\n",
    "    Unlike floating-point, the integer representation\n",
    "    is *exact*, but covers a much smaller range (and, obviously,\n",
    "    no fractional numbers)\n",
    "\n",
    "-   `np.float32`, `np.float16`: single-precision and half-precision\n",
    "    floating-point numbers. These occupy only 32 and 16 bits\n",
    "    of memory, respectively.\n",
    "\n",
    "    They thus trade off storage requirements for a loss of\n",
    "    precision and range.\n",
    "\n",
    "-   `np.int32`, `np.int16`, `np.int8` represent integers\n",
    "    using 32, 16 and 8 bits, respectively.\n",
    "\n",
    "    They require less memory, but can represent only a smaller\n",
    "    range of integers. For example, `np.int8` can only\n",
    "    store integer values from -128 to 127.\n",
    "\n",
    "-   NumPy also supports complex numerical types to represent\n",
    "    imaginary numbers. We will not be using those in this tutorial.\n",
    "\n",
    "Would we ever want to use anything other than the default\n",
    "data types, which in most cases are either `np.float64`\n",
    "and `np.int64`? These, after all, support the largest range\n",
    "and highest precision. This is true in general, but there are\n",
    "special cases where other data types need to be used:\n",
    "\n",
    "1.  *Storage requirements:* if you work with large amounts of\n",
    "    data, for example arrays with many dimensions, you can run\n",
    "    out of memory or storage space (when saving results to files).\n",
    "\n",
    "    In this case, you can store data as `np.float32` instead\n",
    "    of `np.float64`, which halves the storage requirement.\n",
    "\n",
    "    Similarly, if you know that your integer data only takes\n",
    "    on values between -128 and 127, you can store them\n",
    "    as `np.int8` which consumes only 1/8 of the space\n",
    "    compared to `np.int64`!\n",
    "\n",
    "2.  *Performance:* Some tasks simply don't require high\n",
    "    precision or range. For example, some machine learning\n",
    "    tasks can be performed using only 8-bit integers,\n",
    "    and companies like Google have developed dedicated\n",
    "    processors to considerably speed up workloads using 8-bit integers.\n",
    "\n",
    "    Even if you are not using any specialised CPUs or GPUs,\n",
    "    data has to be transferred from memory to the processor\n",
    "    and this is a major performance bottleneck. The less data needs to\n",
    "    be transferred, the better!\n",
    "\n",
    "    In general, this is nothing you need to worry about at this\n",
    "    point, but might become relevant once you start writing\n",
    "    complex high-performance code.\n",
    "\n",
    "*Examples:*"
   ]
  },
  {
   "cell_type": "code",
   "execution_count": 79,
   "metadata": {
    "pycharm": {
     "name": "#%%\n"
    }
   },
   "outputs": [
    {
     "output_type": "execute_result",
     "data": {
      "text/plain": [
       "array([1.], dtype=float16)"
      ]
     },
     "metadata": {},
     "execution_count": 79
    }
   ],
   "source": [
    "import numpy as np\n",
    "\n",
    "# Explicitly specify data type\n",
    "x = np.ones(1, dtype=np.float16)\n",
    "x       # prints np.float16"
   ]
  },
  {
   "cell_type": "markdown",
   "metadata": {},
   "source": [
    "We can use `dtype` to override the data type inferred from\n",
    "input data:"
   ]
  },
  {
   "cell_type": "code",
   "execution_count": 80,
   "metadata": {
    "pycharm": {
     "name": "#%%\n"
    }
   },
   "outputs": [
    {
     "output_type": "execute_result",
     "data": {
      "text/plain": [
       "dtype('int64')"
      ]
     },
     "metadata": {},
     "execution_count": 80
    }
   ],
   "source": [
    "lst = [1, 2, 3]\n",
    "x = np.array(lst)       # given list of integers, creates integer array\n",
    "x.dtype                 # prints np.int64"
   ]
  },
  {
   "cell_type": "code",
   "execution_count": 81,
   "metadata": {
    "pycharm": {
     "name": "#%%\n"
    }
   },
   "outputs": [
    {
     "output_type": "execute_result",
     "data": {
      "text/plain": [
       "dtype('float64')"
      ]
     },
     "metadata": {},
     "execution_count": 81
    }
   ],
   "source": [
    "# override inferred data type:\n",
    "# created floating-point array even if integers were given\n",
    "x = np.array(lst, dtype=np.float64)\n",
    "x.dtype                 # prints np.float64"
   ]
  },
  {
   "cell_type": "code",
   "execution_count": 82,
   "metadata": {
    "pycharm": {
     "name": "#%%\n"
    }
   },
   "outputs": [
    {
     "output_type": "stream",
     "name": "stdout",
     "text": [
      "[1 4 6]\n"
     ]
    },
    {
     "output_type": "execute_result",
     "data": {
      "text/plain": [
       "dtype('int64')"
      ]
     },
     "metadata": {},
     "execution_count": 82
    }
   ],
   "source": [
    "# override inferred data type:\n",
    "# created integer array even if floats were given,\n",
    "# thus truncating input data!\n",
    "lst = [1.234, 4.567, 6.789]\n",
    "x = np.array(lst, dtype=np.int)\n",
    "print(x)                # prints [1, 4, 6]\n",
    "x.dtype                 # prints np.int64\n"
   ]
  },
  {
   "cell_type": "markdown",
   "metadata": {},
   "source": [
    "***\n",
    "\n",
    "## Array storage order (advanced)\n",
    "Computer memory is linear, so a multi-dimensional\n",
    "array is mapped to a one-dimensional block in memory.\n",
    "This can be done in two ways:\n",
    "\n",
    "1.  NumPy uses the so-called *row-major order* (also called\n",
    "    *C order*, because its the same as in C programming language)\n",
    "2.  This is exactly the opposite of Matlab, which uses\n",
    "    *column-major order* (also called *F order*, because its the same\n",
    "    as in the Fortran programming language)"
   ]
  },
  {
   "cell_type": "code",
   "execution_count": 83,
   "metadata": {
    "pycharm": {
     "name": "#%%\n"
    }
   },
   "outputs": [
    {
     "output_type": "execute_result",
     "data": {
      "text/plain": [
       "array([[0, 1, 2],\n",
       "       [3, 4, 5]])"
      ]
     },
     "metadata": {},
     "execution_count": 83
    }
   ],
   "source": [
    "import numpy as np\n",
    "\n",
    "mat = np.arange(6).reshape((2,3))\n",
    "mat"
   ]
  },
  {
   "cell_type": "code",
   "execution_count": 84,
   "metadata": {
    "pycharm": {
     "name": "#%%\n"
    }
   },
   "outputs": [
    {
     "output_type": "execute_result",
     "data": {
      "text/plain": [
       "array([0, 1, 2, 3, 4, 5])"
      ]
     },
     "metadata": {},
     "execution_count": 84
    }
   ],
   "source": [
    "# The matrix mat is stored in memory like this\n",
    "mat.reshape(-1, order='C')"
   ]
  },
  {
   "cell_type": "code",
   "execution_count": 85,
   "metadata": {
    "pycharm": {
     "name": "#%%\n"
    }
   },
   "outputs": [
    {
     "output_type": "execute_result",
     "data": {
      "text/plain": [
       "array([0, 3, 1, 4, 2, 5])"
      ]
     },
     "metadata": {},
     "execution_count": 85
    }
   ],
   "source": [
    "# ... and NOT like this\n",
    "mat.reshape(-1, order='F')      # use order='F' to convert to column-major storage order"
   ]
  },
  {
   "cell_type": "markdown",
   "metadata": {},
   "source": [
    "While this is not particularly important initially,\n",
    "as an advanced user you should remember that you never\n",
    "want to perform on non-contiguous blocks of memory.\n",
    "This can have devastating effects on performance!"
   ]
  },
  {
   "cell_type": "code",
   "execution_count": 86,
   "metadata": {
    "pycharm": {
     "name": "#%%\n"
    }
   },
   "outputs": [
    {
     "output_type": "execute_result",
     "data": {
      "text/plain": [
       "array([3, 4, 5])"
      ]
     },
     "metadata": {},
     "execution_count": 86
    }
   ],
   "source": [
    "# Avoid operations on non-contiguous array sections such as\n",
    "mat[:, 1]\n",
    "\n",
    "# Contiguous array sections are fine\n",
    "mat[1]\n"
   ]
  },
  {
   "cell_type": "markdown",
   "metadata": {
    "pycharm": {
     "name": "#%% md\n"
    }
   },
   "source": [
    "***\n",
    "# Exercises"
   ]
  },
  {
   "cell_type": "markdown",
   "metadata": {},
   "source": [
    "## Exercise 1: Broadcasting\n",
    "\n",
    "Let `m = 2`, `n = 3` and `k = 4`. Create an array `a` with shape `(m,n)` like this:\n",
    "```\n",
    "a = np.arange(m*n).reshape((m,n))\n",
    "```\n",
    "\n",
    "Perform the following tasks:\n",
    "\n",
    "1.  Define the vector `b = np.arange(n) * 10` and use broadcasting to compute `c = a * b`\n",
    "    such that `c` has shape `(m,n)`.\n",
    "2.  Define the vector `b = np.arange(m) * 10` and use broadcasting to compute `c = a * b`\n",
    "    such that `c` has shape `(m,n)`.\n",
    "3.  Define the 3-dimensional array `b`,\n",
    "\n",
    "    ```\n",
    "    b = np.arange(m*n*k).reshape((m,k,n)) * 10\n",
    "    ```\n",
    "    \n",
    "    and use broadcasting to compute `c = a * b` such that `c` has shape `(m,k,n)`."
   ]
  },
  {
   "cell_type": "markdown",
   "metadata": {},
   "source": [
    "## Exercise 2: Boolean indexing\n",
    "\n",
    "Let `m = 8` and `n = 9`. Create an array `a` with shape `(m,n)` as follows:\n",
    "```\n",
    "a = np.arange(m*n).reshape((m,n)) % 7\n",
    "```\n",
    "The `%` is the modulo operator which returns the remainder of a division of one\n",
    "number by another (in this case the division by 7). The resulting array `a` will\n",
    "therefore contain integers between 0 and 6.\n",
    "\n",
    "1.  Create a boolean array called `mask` which has the same shape as `a` and \n",
    "    is `True` whenever an element in `a` is between 1 and 4 (inclusive).\n",
    "    \n",
    "    *Hint:* The character `&` works as a logical `and` operator for NumPy arrays.\n",
    "    Alternatively, you can use the function `np.logical_and()`.\n",
    "2.  Compute the number of elements in `a` that satisfy this criterion.\n",
    "3.  Compute the average of these elements."
   ]
  },
  {
   "cell_type": "markdown",
   "metadata": {},
   "source": [
    "## Exercise 3: Diagonal matrices\n",
    "\n",
    "In this exercise, we'll create diagonal matrices using integer array indexing.\n",
    "\n",
    "1.  Create a square matrix of zeros with shape `(n,n)` for `n = 5` and `dtype = int`\n",
    "    as its data type:\n",
    "    ```\n",
    "    a = np.zeros((n,n), dtype=int)\n",
    "    ```\n",
    "    Use integer array\n",
    "    indexing to modify its diagonal to construct the following matrix, where \n",
    "    omitted elements are zero:\n",
    "    $$\n",
    "    \\begin{bmatrix}\n",
    "    1 &   &   &   & \\\\\n",
    "      & 2 &   &   & \\\\\n",
    "      &   & 3 &   & \\\\\n",
    "      &   &   & 4 & \\\\\n",
    "      &   &   &   & 5     \n",
    "    \\end{bmatrix}\n",
    "    $$\n",
    "    \n",
    "2.  Repeat the exercise, but now use a non-squared matrix with shape `(4,5)`, and \n",
    "    insert `1,2,...` as the values of the first diagonal above the \n",
    "    main diagonal:\n",
    "    $$\n",
    "    \\begin{bmatrix}\n",
    "     0 & 1 &   &   &   \\\\\n",
    "     &   & 2 &   &   \\\\\n",
    "     &   &   & 3 &   \\\\\n",
    "     &   &   &   & 4 \\\\\n",
    "    \\end{bmatrix}\n",
    "    $$\n",
    "\n",
    "3.  Repeat the exercise, but now use a matrix with shape `(6,5)`. Adapt your code\n",
    "    so that it can handle matrix shapes `(m,n)` for cases `n > m`, `n = m` and `n < m`:\n",
    "    $$\n",
    "    \\begin{bmatrix}\n",
    "     0 & 1 &   &   &   \\\\\n",
    "     &   & 2 &   &   \\\\\n",
    "     &   &   & 3 &   \\\\\n",
    "     &   &   &   & 4 \\\\\n",
    "     &&&& \\\\\n",
    "     &&&&\n",
    "    \\end{bmatrix}\n",
    "    $$"
   ]
  },
  {
   "cell_type": "markdown",
   "metadata": {},
   "source": [
    "## Exercise 4: Triangular matrices\n",
    "\n",
    "Create a matrix of zeros with shape `(m,n)`, with `m = 4`, `n = 5`, and `dtype = int`:\n",
    "```\n",
    "a = np.zeros((m,n), dtype=int)\n",
    "```\n",
    "Transform it to an upper-triangular matrix so that it looks like this:\n",
    "$$\n",
    "\\begin{bmatrix}\n",
    "1 & 2 & 3 & 4 & 5 \\\\\n",
    " & 6 & 7 & 8 & 9 \\\\\n",
    "  & & 10 & 11 & 12 \\\\\n",
    "  & & & 13 & 14\n",
    "\\end{bmatrix}\n",
    "$$\n",
    "where the omitted elements are zeros. Do this without using loops.\n",
    "\n",
    "*Hint:* For any upper-diagonal element at position $(i,j)$ it holds that $j \\geq i$.\n",
    "Create arrays of row and column indices and use these to build a mask with shape \n",
    "`(m,n)` which selects all upper-triangular elements. Exploit the fact that logical array \n",
    "operations support broadcasting!\n",
    "\n",
    "*Challenge:* Modify your code to construct the following upper-triangular matrix instead:\n",
    "$$\n",
    "\\begin{bmatrix}\n",
    "1 & 2 & 4 & 7 & 11 \\\\\n",
    "  & 3 & 5 & 8 & 12 \\\\\n",
    "  &   & 6 & 9 & 13 \\\\\n",
    "  &   &   & 10 & 14 \\\\\n",
    "\\end{bmatrix}\n",
    "$$\n",
    "\n",
    "*Hint:* One solution is to build a lower-triangular matrix and transpose it!"
   ]
  },
  {
   "cell_type": "markdown",
   "metadata": {},
   "source": [
    "## Exercise 5: Row averages (ignoring NaNs)\n",
    "\n",
    "Construct a matrix with shape `(m,n)` where `m = 5` and `n = 8` as follows:\n",
    "```\n",
    "a = np.arange(m*n, dtype=np.float).reshape((m, n))\n",
    "mask = (a % 5) == 0\n",
    "a[mask] = np.nan\n",
    "```\n",
    "Lines two and three set all elements of `a` which are divisible by 5 without remainder\n",
    "to `np.nan`, the floating-point value signalling that something is \"not a number\" (NaN).\n",
    "\n",
    "Write code to perform the following tasks:\n",
    "\n",
    "1.  Define a function `rowmeans(x)` which takes a matrix `x` as an argument and \n",
    "    returns a vector of row averages of elements in `x` which are not NaN. \n",
    "    The return vector should therefore have the same length as the number of rows in `x`.\n",
    "\n",
    "    *Hint:* Use `np.isnan()` to check whether something is NaN.\n",
    "2.  Compare your results to the output of `np.nanmean()` with argument `axis = 1`.\n",
    "3.  Use the `%timeit` magic to benchmark the run time of your routine against\n",
    "    the (vectorised) `np.nanmean()`."
   ]
  },
  {
   "cell_type": "markdown",
   "metadata": {},
   "source": [
    "## Exercise 6: Locating maxima (advanced)\n",
    "\n",
    "Consider the following quadratic polynomial in $x$ \n",
    "which is parametrised by the positive real numbers $a$, $b$ and $c$:\n",
    "$$\n",
    "p(x;a,b,c) = -a (x-b)^2 + c\n",
    "$$\n",
    "\n",
    "Imagine that we have a set of `m = 10` such functions, each with different values\n",
    "for $a$, $b$ and $c$. These parameters take on the following values:\n",
    "```\n",
    "m = 10\n",
    "\n",
    "a = np.linspace(0.4, 2.0, m)\n",
    "b = np.linspace(-1.0, 0.0, m)\n",
    "c = np.linspace(0.0, 3.0, m)\n",
    "```\n",
    "The parameters for the first polynomial are thus `a[0]`, `b[0]` and `c[0]`, and similarly\n",
    "for the remaining polynomials.\n",
    "\n",
    "Perform the following tasks:\n",
    "\n",
    "1.  Evaluate each polynomial on an equidistant grid of `n = 50` points on the \n",
    "    interval `[-2.0, 2.0]`. Store the results as an $m \\times n$ matrix called `pvalues`.\n",
    "2.  Create a (single) graph which plots all `m` polynomials.\n",
    "3.  Write a function `find_max(pvalues)` which accepts this matrix\n",
    "    as an argument and returns an integer array of length `m`. Each element `i`\n",
    "    should contain the location of the maximum for the `i`-th row of `pvalues`.\n",
    "4.  Add the maxima you found to the graph you created: each maximum \n",
    "    should be marked as a black dot at the correct $(x,y)$ coordinates.\n",
    "5.  Use vectorised code to perform the same task as the function `find_max()`:\n",
    "    1.  You actually don't have to do anything here since NumPy implements\n",
    "        the function `np.argmax()` which does what you need (just correctly\n",
    "        specify the `axis` argument.)\n",
    "    2.  Use the `%timeit` magic to compare the runtime of your `find_max()`\n",
    "        to NumPy's `np.argmax()`."
   ]
  },
  {
   "cell_type": "markdown",
   "metadata": {
    "pycharm": {
     "name": "#%% md\n"
    }
   },
   "source": [
    "# Solutions"
   ]
  },
  {
   "cell_type": "markdown",
   "metadata": {},
   "source": [
    "## Solution for exercise 1\n",
    "\n",
    "To solve this exercise, we need to make sure that the broadcasting rules\n",
    "can be applied by inserting an additional axis in either `a` or `b` as \n",
    "needed."
   ]
  },
  {
   "cell_type": "code",
   "execution_count": 87,
   "metadata": {},
   "outputs": [
    {
     "output_type": "execute_result",
     "data": {
      "text/plain": [
       "array([[0, 1, 2],\n",
       "       [3, 4, 5]])"
      ]
     },
     "metadata": {},
     "execution_count": 87
    }
   ],
   "source": [
    "# Define problem dimensions\n",
    "m = 2\n",
    "n = 3\n",
    "k = 4\n",
    "\n",
    "# Create array a\n",
    "a = np.arange(6).reshape((m, n))\n",
    "a"
   ]
  },
  {
   "cell_type": "code",
   "execution_count": 88,
   "metadata": {},
   "outputs": [
    {
     "output_type": "execute_result",
     "data": {
      "text/plain": [
       "array([[  0,  10,  40],\n",
       "       [  0,  40, 100]])"
      ]
     },
     "metadata": {},
     "execution_count": 88
    }
   ],
   "source": [
    "# Task 1\n",
    "b = np.arange(n) * 10\n",
    "# Broadcasing works as is, axis will be prepended to b\n",
    "c = a * b\n",
    "\n",
    "# If we really want, we can prepend new axis manually:\n",
    "c = a * b[None]\n",
    "c"
   ]
  },
  {
   "cell_type": "code",
   "execution_count": 89,
   "metadata": {},
   "outputs": [
    {
     "output_type": "execute_result",
     "data": {
      "text/plain": [
       "array([[ 0,  0,  0],\n",
       "       [30, 40, 50]])"
      ]
     },
     "metadata": {},
     "execution_count": 89
    }
   ],
   "source": [
    "# Task 2\n",
    "b = np.arange(m) * 10\n",
    "# Manually append new axis to b to make broadcasing work\n",
    "c = a * b[:,None]\n",
    "c"
   ]
  },
  {
   "cell_type": "code",
   "execution_count": 90,
   "metadata": {},
   "outputs": [
    {
     "output_type": "execute_result",
     "data": {
      "text/plain": [
       "array([[[  0,  10,  20],\n",
       "        [ 30,  40,  50],\n",
       "        [ 60,  70,  80],\n",
       "        [ 90, 100, 110]],\n",
       "\n",
       "       [[120, 130, 140],\n",
       "        [150, 160, 170],\n",
       "        [180, 190, 200],\n",
       "        [210, 220, 230]]])"
      ]
     },
     "metadata": {},
     "execution_count": 90
    }
   ],
   "source": [
    "# Task 3\n",
    "b = np.arange(n*m*k).reshape((m, k, n)) * 10\n",
    "b"
   ]
  },
  {
   "cell_type": "code",
   "execution_count": 91,
   "metadata": {},
   "outputs": [
    {
     "output_type": "execute_result",
     "data": {
      "text/plain": [
       "array([[[   0,   10,   40],\n",
       "        [   0,   40,  100],\n",
       "        [   0,   70,  160],\n",
       "        [   0,  100,  220]],\n",
       "\n",
       "       [[ 360,  520,  700],\n",
       "        [ 450,  640,  850],\n",
       "        [ 540,  760, 1000],\n",
       "        [ 630,  880, 1150]]])"
      ]
     },
     "metadata": {},
     "execution_count": 91
    }
   ],
   "source": [
    "# Need to insert new axis inbetween existing axes in a\n",
    "c = a[:,None] * b\n",
    "c"
   ]
  },
  {
   "cell_type": "markdown",
   "metadata": {},
   "source": [
    "## Solution for exercise 2"
   ]
  },
  {
   "cell_type": "code",
   "execution_count": 92,
   "metadata": {},
   "outputs": [
    {
     "output_type": "execute_result",
     "data": {
      "text/plain": [
       "array([[False,  True,  True,  True,  True, False, False, False,  True],\n",
       "       [ True,  True,  True, False, False, False,  True,  True,  True],\n",
       "       [ True, False, False, False,  True,  True,  True,  True, False],\n",
       "       [False, False,  True,  True,  True,  True, False, False, False],\n",
       "       [ True,  True,  True,  True, False, False, False,  True,  True],\n",
       "       [ True,  True, False, False, False,  True,  True,  True,  True],\n",
       "       [False, False, False,  True,  True,  True,  True, False, False],\n",
       "       [False,  True,  True,  True,  True, False, False, False,  True]])"
      ]
     },
     "metadata": {},
     "execution_count": 92
    }
   ],
   "source": [
    "import numpy as np\n",
    "\n",
    "# Array dimensions\n",
    "m = 8\n",
    "n = 9\n",
    "\n",
    "# Create array a\n",
    "a = np.arange(m*n).reshape((m,n)) % 7\n",
    "\n",
    "# Create mask that selects all elements \n",
    "# between 1 and 4\n",
    "mask = (a > 0) & (a < 5)    # same as np.logical_and(a > 0, a < 5)\n",
    "mask"
   ]
  },
  {
   "cell_type": "markdown",
   "metadata": {},
   "source": [
    "We use `&` to obtain the set of elements for which the conditions `a > 0`\n",
    "and `a < 5` are `True` at the same time.\n",
    "\n",
    "Boolean arrays only contain values `False` and `True`. However, arithmetic\n",
    "operations automatically interpret `False` as 0 and `True` as 1, so\n",
    "we can simply sum over the array to obtain the number of elements that are `True`:"
   ]
  },
  {
   "cell_type": "code",
   "execution_count": 93,
   "metadata": {},
   "outputs": [
    {
     "output_type": "execute_result",
     "data": {
      "text/plain": [
       "41"
      ]
     },
     "metadata": {},
     "execution_count": 93
    }
   ],
   "source": [
    "# Count number of elements\n",
    "nmask = np.sum(mask)\n",
    "nmask"
   ]
  },
  {
   "cell_type": "markdown",
   "metadata": {},
   "source": [
    "Finally, we compute the average as follows:"
   ]
  },
  {
   "cell_type": "code",
   "execution_count": 94,
   "metadata": {},
   "outputs": [
    {
     "output_type": "execute_result",
     "data": {
      "text/plain": [
       "2.4634146341463414"
      ]
     },
     "metadata": {},
     "execution_count": 94
    }
   ],
   "source": [
    "# Compute average of elements selected by mask\n",
    "# We do this by summing over selected elements and\n",
    "# dividing by the number of such elements.\n",
    "mean = np.sum(a[mask]) / nmask\n",
    "mean"
   ]
  },
  {
   "cell_type": "markdown",
   "metadata": {},
   "source": [
    "## Solution for exercise 3"
   ]
  },
  {
   "cell_type": "code",
   "execution_count": 95,
   "metadata": {},
   "outputs": [
    {
     "output_type": "execute_result",
     "data": {
      "text/plain": [
       "array([[1, 0, 0, 0, 0],\n",
       "       [0, 2, 0, 0, 0],\n",
       "       [0, 0, 3, 0, 0],\n",
       "       [0, 0, 0, 4, 0],\n",
       "       [0, 0, 0, 0, 5]])"
      ]
     },
     "metadata": {},
     "execution_count": 95
    }
   ],
   "source": [
    "import numpy as np \n",
    "\n",
    "# Square matrix with 1,2,...n diagonal\n",
    "\n",
    "n = 5\n",
    "# Create matrix of zeros\n",
    "mat = np.zeros((n,n), dtype=int)\n",
    "\n",
    "# Create row and column indices for the diagonal elements\n",
    "irow = np.arange(n)\n",
    "icol = irow             # column indices are the same since \n",
    "                        # this is the diagonal of a square matrix\n",
    "\n",
    "# Vector to insert as diagonal\n",
    "diag = np.arange(1, n+1)\n",
    "\n",
    "# Set new diagonal\n",
    "mat[irow, icol] = diag\n",
    "\n",
    "mat         # print result"
   ]
  },
  {
   "cell_type": "markdown",
   "metadata": {},
   "source": [
    "You can achieve the same result with NumPy's `np.diag()` function:"
   ]
  },
  {
   "cell_type": "code",
   "execution_count": 96,
   "metadata": {},
   "outputs": [
    {
     "output_type": "execute_result",
     "data": {
      "text/plain": [
       "array([[1, 0, 0, 0, 0],\n",
       "       [0, 2, 0, 0, 0],\n",
       "       [0, 0, 3, 0, 0],\n",
       "       [0, 0, 0, 4, 0],\n",
       "       [0, 0, 0, 0, 5]])"
      ]
     },
     "metadata": {},
     "execution_count": 96
    }
   ],
   "source": [
    "np.diag(np.arange(n) + 1)"
   ]
  },
  {
   "cell_type": "markdown",
   "metadata": {},
   "source": [
    "For task 2, we need to specify row and column index arrays that are no longer \n",
    "identical:"
   ]
  },
  {
   "cell_type": "code",
   "execution_count": 97,
   "metadata": {},
   "outputs": [
    {
     "output_type": "execute_result",
     "data": {
      "text/plain": [
       "array([[0, 1, 0, 0, 0],\n",
       "       [0, 0, 2, 0, 0],\n",
       "       [0, 0, 0, 3, 0],\n",
       "       [0, 0, 0, 0, 4]])"
      ]
     },
     "metadata": {},
     "execution_count": 97
    }
   ],
   "source": [
    "# Task 2: set upper diagonal elements of non-square matrix\n",
    "import numpy as np\n",
    "\n",
    "m = 4\n",
    "n = 5\n",
    "\n",
    "# Create matrix of zeros\n",
    "mat = np.zeros((m, n), dtype=int)\n",
    "\n",
    "# Row and column indices\n",
    "irow = np.arange(m)\n",
    "icol = np.arange(n-1) + 1\n",
    "\n",
    "diag = np.arange(m) + 1\n",
    "\n",
    "# Set new diagonal\n",
    "mat[irow, icol] = diag\n",
    "\n",
    "mat                 # print result"
   ]
  },
  {
   "cell_type": "markdown",
   "metadata": {},
   "source": [
    "We now create a more generic version of the code above that can handle the cases\n",
    "`n > m`, `n = m` and `n < m`. The above code will fail for `m > n`."
   ]
  },
  {
   "cell_type": "code",
   "execution_count": 98,
   "metadata": {},
   "outputs": [
    {
     "output_type": "execute_result",
     "data": {
      "text/plain": [
       "array([[0, 1, 0, 0, 0],\n",
       "       [0, 0, 2, 0, 0],\n",
       "       [0, 0, 0, 3, 0],\n",
       "       [0, 0, 0, 0, 4],\n",
       "       [0, 0, 0, 0, 0],\n",
       "       [0, 0, 0, 0, 0]])"
      ]
     },
     "metadata": {},
     "execution_count": 98
    }
   ],
   "source": [
    "import numpy as np\n",
    "\n",
    "m = 6\n",
    "n = 5\n",
    "\n",
    "# Create matrix of zeros\n",
    "mat = np.zeros((m, n), dtype=int)\n",
    "\n",
    "# Row indices: this is the min. of the number of rows,\n",
    "#       and the number of cols-1, since the first col\n",
    "#       is newer included.\n",
    "irow = np.arange(min(m,n-1))\n",
    "\n",
    "# Col indices: array needs to have same length as\n",
    "# row indices. First col is omitted so we \n",
    "# need to shift all indices by 1.\n",
    "icol = np.arange(len(irow)) + 1\n",
    "\n",
    "# Number of elements to insert needs to be identical\n",
    "# to length of array index.\n",
    "diag = np.arange(len(irow)) + 1\n",
    "\n",
    "# Set new diagonal\n",
    "mat[irow, icol] = diag\n",
    "\n",
    "mat                 # print result"
   ]
  },
  {
   "cell_type": "markdown",
   "metadata": {},
   "source": [
    "For the special case of `m = n`, NumPy's `np.diag()` can also insert values at diagonals\n",
    "other than the main diagonal. For example, for `m = n = 5`, we can create a similar matrix as follows:"
   ]
  },
  {
   "cell_type": "code",
   "execution_count": 99,
   "metadata": {},
   "outputs": [
    {
     "output_type": "execute_result",
     "data": {
      "text/plain": [
       "array([[0, 1, 0, 0, 0],\n",
       "       [0, 0, 2, 0, 0],\n",
       "       [0, 0, 0, 3, 0],\n",
       "       [0, 0, 0, 0, 4],\n",
       "       [0, 0, 0, 0, 0]])"
      ]
     },
     "metadata": {},
     "execution_count": 99
    }
   ],
   "source": [
    "n = 5\n",
    "# the k argument tells diag() which diagonal to manipulate.\n",
    "# k = 1 corresponds to first diagonal above\n",
    "# the main diagonal.\n",
    "np.diag(np.arange(n-1)+1, k=1)"
   ]
  },
  {
   "cell_type": "markdown",
   "metadata": {},
   "source": [
    "## Solution for exercise 4"
   ]
  },
  {
   "cell_type": "code",
   "execution_count": 100,
   "metadata": {},
   "outputs": [
    {
     "output_type": "execute_result",
     "data": {
      "text/plain": [
       "array([[ True,  True,  True,  True,  True],\n",
       "       [False,  True,  True,  True,  True],\n",
       "       [False, False,  True,  True,  True],\n",
       "       [False, False, False,  True,  True]])"
      ]
     },
     "metadata": {},
     "execution_count": 100
    }
   ],
   "source": [
    "m = 4\n",
    "n = 5\n",
    "\n",
    "# Create arrays of valid row and column indices.\n",
    "irow = np.arange(m)\n",
    "icol = np.arange(n)\n",
    "\n",
    "# Use broadcasting to idetify all upper-triangular elements\n",
    "mask = icol[None] >= irow[:,None]\n",
    "mask"
   ]
  },
  {
   "cell_type": "code",
   "execution_count": 101,
   "metadata": {},
   "outputs": [
    {
     "output_type": "execute_result",
     "data": {
      "text/plain": [
       "array([[ 1,  2,  3,  4,  5],\n",
       "       [ 0,  6,  7,  8,  9],\n",
       "       [ 0,  0, 10, 11, 12],\n",
       "       [ 0,  0,  0, 13, 14]])"
      ]
     },
     "metadata": {},
     "execution_count": 101
    }
   ],
   "source": [
    "# Create matrix of zeros\n",
    "mat = np.zeros((m, n), dtype=int)\n",
    "\n",
    "# count number of True values in mask\n",
    "ntrue = np.sum(mask)\n",
    "\n",
    "# Values to insert into upper-triangular part:\n",
    "# 1, 2, ... \n",
    "values = np.arange(ntrue) + 1\n",
    "\n",
    "mat[mask] = values\n",
    "mat"
   ]
  },
  {
   "cell_type": "markdown",
   "metadata": {},
   "source": [
    "To create the second matrix, we need to make sure that the sequence of \n",
    "integers is arranged column-wise instead of by row, as in the code above.\n",
    "\n",
    "This is most likely not possible to achieve with masked indexing and C-ordered arrays.\n",
    "If we want to use masked indexing, we instead create the transposed\n",
    "matrix using the same approach as above, and then transpose it to \n",
    "get the final matrix."
   ]
  },
  {
   "cell_type": "code",
   "execution_count": 102,
   "metadata": {},
   "outputs": [
    {
     "output_type": "execute_result",
     "data": {
      "text/plain": [
       "array([[ True, False, False, False],\n",
       "       [ True,  True, False, False],\n",
       "       [ True,  True,  True, False],\n",
       "       [ True,  True,  True,  True],\n",
       "       [ True,  True,  True,  True]])"
      ]
     },
     "metadata": {},
     "execution_count": 102
    }
   ],
   "source": [
    "# dimensions of TRANSPOSED matrix\n",
    "m = 5\n",
    "n = 4\n",
    "\n",
    "# row and column indices of TRANSPOSED matrix\n",
    "irow = np.arange(m)\n",
    "icol = np.arange(n)\n",
    "\n",
    "# mask to select lower-triangular elements\n",
    "# of transposed matrix\n",
    "mask = irow[:, None] >= icol[None]\n",
    "mask"
   ]
  },
  {
   "cell_type": "code",
   "execution_count": 103,
   "metadata": {},
   "outputs": [
    {
     "output_type": "execute_result",
     "data": {
      "text/plain": [
       "array([[ 1,  2,  4,  7, 11],\n",
       "       [ 0,  3,  5,  8, 12],\n",
       "       [ 0,  0,  6,  9, 13],\n",
       "       [ 0,  0,  0, 10, 14]])"
      ]
     },
     "metadata": {},
     "execution_count": 103
    }
   ],
   "source": [
    "# Create matrix of zeros\n",
    "mat = np.zeros((m, n), dtype=int)\n",
    "\n",
    "# Number of True elements in mask\n",
    "ntrue = np.sum(mask)\n",
    "\n",
    "# Values to insert into lower-triangular part:\n",
    "# 1, 2, ... \n",
    "values = np.arange(ntrue) + 1\n",
    "mat[mask] = values\n",
    "\n",
    "# Transpose to get final matrix\n",
    "mat = mat.T\n",
    "mat"
   ]
  },
  {
   "cell_type": "markdown",
   "metadata": {},
   "source": [
    "Of course, you can also solve this using the brute-force way with loops, but that does not\n",
    "help us practice using NumPy:"
   ]
  },
  {
   "cell_type": "code",
   "execution_count": 104,
   "metadata": {},
   "outputs": [
    {
     "output_type": "execute_result",
     "data": {
      "text/plain": [
       "array([[ 1,  2,  4,  7, 11],\n",
       "       [ 0,  3,  5,  8, 12],\n",
       "       [ 0,  0,  6,  9, 13],\n",
       "       [ 0,  0,  0, 10, 14]])"
      ]
     },
     "metadata": {},
     "execution_count": 104
    }
   ],
   "source": [
    "m = 4\n",
    "n = 5\n",
    "\n",
    "mat = np.zeros((m, n), dtype=int)\n",
    "\n",
    "# keep track of current value to be inserted\n",
    "# into matrix\n",
    "value = 1\n",
    "\n",
    "# loop over columns\n",
    "for j in range(n):\n",
    "    # loop over rows\n",
    "    for i in range(m):\n",
    "        if j >= i:\n",
    "            mat[i,j] = value\n",
    "            # increment value for next applicable\n",
    "            # element\n",
    "            value += 1\n",
    "\n",
    "mat\n"
   ]
  },
  {
   "cell_type": "markdown",
   "metadata": {},
   "source": [
    "## Solution for exercise 5\n",
    "\n",
    "One implementation of `rowmeans()` could look as follows:"
   ]
  },
  {
   "cell_type": "code",
   "execution_count": 105,
   "metadata": {},
   "outputs": [],
   "source": [
    "import numpy as np\n",
    "\n",
    "def rowmeans(x):\n",
    "    # Number of rows and columns in x\n",
    "    m, n = x.shape\n",
    "\n",
    "    means = np.zeros(m)\n",
    "\n",
    "    # Loop over rows\n",
    "    for i in range(m):\n",
    "        # number of non-NaN elements in current row\n",
    "        count = 0\n",
    "        # sum of non-Nan elements in current row\n",
    "        s = 0.0\n",
    "        for j in range(n):\n",
    "            value = x[i,j]\n",
    "            if not np.isnan(value):\n",
    "                s += value\n",
    "                # increments number of non-NaN elements\n",
    "                count += 1\n",
    "\n",
    "        # compute mean, store in output vector\n",
    "        means[i] = s / count \n",
    "\n",
    "    return means\n"
   ]
  },
  {
   "cell_type": "markdown",
   "metadata": {},
   "source": [
    "We create the array given in the exercise to test our function:"
   ]
  },
  {
   "cell_type": "code",
   "execution_count": 106,
   "metadata": {},
   "outputs": [
    {
     "output_type": "execute_result",
     "data": {
      "text/plain": [
       "array([[nan,  1.,  2.,  3.,  4., nan,  6.,  7.],\n",
       "       [ 8.,  9., nan, 11., 12., 13., 14., nan],\n",
       "       [16., 17., 18., 19., nan, 21., 22., 23.],\n",
       "       [24., nan, 26., 27., 28., 29., nan, 31.],\n",
       "       [32., 33., 34., nan, 36., 37., 38., 39.]])"
      ]
     },
     "metadata": {},
     "execution_count": 106
    }
   ],
   "source": [
    "m = 5\n",
    "n = 8\n",
    "a = np.arange(m*n, dtype=np.float).reshape((m, n))\n",
    "mask = (a % 5) == 0\n",
    "a[mask] = np.nan\n",
    "a"
   ]
  },
  {
   "cell_type": "markdown",
   "metadata": {},
   "source": [
    "As you see, NumPy indicates elements that are NaN using the string 'nan'."
   ]
  },
  {
   "cell_type": "code",
   "execution_count": 107,
   "metadata": {},
   "outputs": [
    {
     "output_type": "execute_result",
     "data": {
      "text/plain": [
       "array([ 3.83333333, 11.16666667, 19.42857143, 27.5       , 35.57142857])"
      ]
     },
     "metadata": {},
     "execution_count": 107
    }
   ],
   "source": [
    "# call rowmeans() using test data\n",
    "means = rowmeans(a)\n",
    "means "
   ]
  },
  {
   "cell_type": "markdown",
   "metadata": {},
   "source": [
    "We verify our results using the NumPy routine `np.nanmean()` which implements the same functionality.\n",
    "Since we are computing row averages (and thus compute averages *across* columns),\n",
    "we need to pass in the argument `axis = 1`: axes are numbered starting at 0, \n",
    "so `axis = 1` refers to the second axis, i.e. the columns."
   ]
  },
  {
   "cell_type": "code",
   "execution_count": 108,
   "metadata": {},
   "outputs": [
    {
     "output_type": "execute_result",
     "data": {
      "text/plain": [
       "array([ 3.83333333, 11.16666667, 19.42857143, 27.5       , 35.57142857])"
      ]
     },
     "metadata": {},
     "execution_count": 108
    }
   ],
   "source": [
    "means2 = np.nanmean(a, axis=1)\n",
    "means2 "
   ]
  },
  {
   "cell_type": "markdown",
   "metadata": {},
   "source": [
    "To test whether the results are the same, we check whether their absolute difference\n",
    "is below some tolerance level, in this case $10^{-8}$. The routine `np.all()` \n",
    "evaluates to `True` if this is the case for *all* elements."
   ]
  },
  {
   "cell_type": "code",
   "execution_count": 109,
   "metadata": {},
   "outputs": [
    {
     "output_type": "execute_result",
     "data": {
      "text/plain": [
       "True"
      ]
     },
     "metadata": {},
     "execution_count": 109
    }
   ],
   "source": [
    "np.all(np.abs(means - means2) < 1.0e-8)"
   ]
  },
  {
   "cell_type": "markdown",
   "metadata": {},
   "source": [
    "Note that we rarely want to compare floating-point numbers resulting from computations\n",
    "for exact equality using `==`. Floating-point has limited precision, and\n",
    "different implementations can potentially produce different rounding errors. \n",
    "It is therefore unlikely that two floating-point results will be *exactly* identical.\n",
    "\n",
    "Finally, we use the %timeit magic to benchmark our implementation against NumPy's."
   ]
  },
  {
   "cell_type": "code",
   "execution_count": 110,
   "metadata": {},
   "outputs": [
    {
     "output_type": "stream",
     "name": "stdout",
     "text": [
      "54.3 µs ± 184 ns per loop (mean ± std. dev. of 7 runs, 10000 loops each)\n"
     ]
    }
   ],
   "source": [
    "%timeit rowmeans(a)"
   ]
  },
  {
   "cell_type": "code",
   "execution_count": 111,
   "metadata": {},
   "outputs": [
    {
     "output_type": "stream",
     "name": "stdout",
     "text": [
      "22.5 µs ± 1.83 µs per loop (mean ± std. dev. of 7 runs, 10000 loops each)\n"
     ]
    }
   ],
   "source": [
    "%timeit np.nanmean(a, axis=1)"
   ]
  },
  {
   "cell_type": "markdown",
   "metadata": {},
   "source": [
    "You may be surprised that `np.nanmean()` is only twice as fast as our implementation, \n",
    "but this is purely due to the small array size, as then there are only a few iterations\n",
    "performed in our Python loop.\n",
    "\n",
    "Try increasing the array dimensions to `(500,800)` instead of `(5,8)` and you will\n",
    "see that then NumPy is about 500 times faster!"
   ]
  },
  {
   "cell_type": "markdown",
   "metadata": {},
   "source": [
    "## Solution for exercise 6\n",
    "\n",
    "We first create the matrix `pvalues` which contains the all polynomials\n",
    "(for all `m = 10`) parametrisations evaluated on a common grid of\n",
    "x-values. Each row of this matrix represents a different polynomial \n",
    "parametrisation."
   ]
  },
  {
   "cell_type": "code",
   "execution_count": 112,
   "metadata": {},
   "outputs": [],
   "source": [
    "import numpy as np\n",
    "import matplotlib.pyplot as plt\n",
    "\n",
    "m = 10\n",
    "n = 50\n",
    "\n",
    "# Parameters for each polynomial\n",
    "a = np.linspace(0.4, 2.0, m)\n",
    "b = np.linspace(-1.0, 0.0, m)\n",
    "c = np.linspace(0.0, 3.0, m)\n",
    "\n",
    "# grid of x values on which to evaluate polynomials\n",
    "xgrid = np.linspace(-2.0, 2.0, n)\n",
    "\n",
    "# polynomials on x, for each parameter tuple (a,b,c)\n",
    "pvalues = - a[:,None] * (xgrid[None] - b[:,None])**2.0 + c[:,None]"
   ]
  },
  {
   "cell_type": "markdown",
   "metadata": {},
   "source": [
    "Next, we create a function to plot all polynomials. We will be reusing\n",
    "this code, so it is convenient to encapsulate it in a function \n",
    "instead of copy-pasting it again and again!"
   ]
  },
  {
   "cell_type": "code",
   "execution_count": 113,
   "metadata": {},
   "outputs": [],
   "source": [
    "# function to plot quadratic polynomials\n",
    "def plot_quad(xvalues, pvalues):\n",
    "    # Number of different polynomials in pvalues\n",
    "    m = pvalues.shape[0]\n",
    "\n",
    "    # Use different transparency (alpha) level for each polynomial\n",
    "    alphas = np.linspace(0.2, 0.8, m)\n",
    "    \n",
    "    # Plot each row against the common x-values\n",
    "    for i in range(m):\n",
    "        plt.plot(xvalues, pvalues[i], color='darkblue', alpha=alphas[i])\n",
    "    \n",
    "    # Label axes, figure\n",
    "    plt.xlabel(r'$x$')\n",
    "    plt.ylabel(r'$p(x;a,b,c)$')\n",
    "    plt.title('Quadratic functions')"
   ]
  },
  {
   "cell_type": "code",
   "execution_count": 114,
   "metadata": {},
   "outputs": [
    {
     "output_type": "display_data",
     "data": {
      "text/plain": "<Figure size 432x288 with 1 Axes>",
      "image/svg+xml": "<?xml version=\"1.0\" encoding=\"utf-8\" standalone=\"no\"?>\n<!DOCTYPE svg PUBLIC \"-//W3C//DTD SVG 1.1//EN\"\n  \"http://www.w3.org/Graphics/SVG/1.1/DTD/svg11.dtd\">\n<!-- Created with matplotlib (https://matplotlib.org/) -->\n<svg height=\"277.314375pt\" version=\"1.1\" viewBox=\"0 0 384.642187 277.314375\" width=\"384.642187pt\" xmlns=\"http://www.w3.org/2000/svg\" xmlns:xlink=\"http://www.w3.org/1999/xlink\">\n <metadata>\n  <rdf:RDF xmlns:cc=\"http://creativecommons.org/ns#\" xmlns:dc=\"http://purl.org/dc/elements/1.1/\" xmlns:rdf=\"http://www.w3.org/1999/02/22-rdf-syntax-ns#\">\n   <cc:Work>\n    <dc:type rdf:resource=\"http://purl.org/dc/dcmitype/StillImage\"/>\n    <dc:date>2020-12-07T21:35:24.337763</dc:date>\n    <dc:format>image/svg+xml</dc:format>\n    <dc:creator>\n     <cc:Agent>\n      <dc:title>Matplotlib v3.3.2, https://matplotlib.org/</dc:title>\n     </cc:Agent>\n    </dc:creator>\n   </cc:Work>\n  </rdf:RDF>\n </metadata>\n <defs>\n  <style type=\"text/css\">*{stroke-linecap:butt;stroke-linejoin:round;}</style>\n </defs>\n <g id=\"figure_1\">\n  <g id=\"patch_1\">\n   <path d=\"M 0 277.314375 \nL 384.642187 277.314375 \nL 384.642187 0 \nL 0 0 \nz\n\" style=\"fill:none;\"/>\n  </g>\n  <g id=\"axes_1\">\n   <g id=\"patch_2\">\n    <path d=\"M 42.642188 239.758125 \nL 377.442187 239.758125 \nL 377.442187 22.318125 \nL 42.642188 22.318125 \nz\n\" style=\"fill:#ffffff;\"/>\n   </g>\n   <g id=\"matplotlib.axis_1\">\n    <g id=\"xtick_1\">\n     <g id=\"line2d_1\">\n      <defs>\n       <path d=\"M 0 0 \nL 0 3.5 \n\" id=\"ma76f0edb53\" style=\"stroke:#000000;stroke-width:0.8;\"/>\n      </defs>\n      <g>\n       <use style=\"stroke:#000000;stroke-width:0.8;\" x=\"57.860369\" xlink:href=\"#ma76f0edb53\" y=\"239.758125\"/>\n      </g>\n     </g>\n     <g id=\"text_1\">\n      <!-- −2.0 -->\n      <g transform=\"translate(45.718963 254.356562)scale(0.1 -0.1)\">\n       <defs>\n        <path d=\"M 10.59375 35.5 \nL 73.1875 35.5 \nL 73.1875 27.203125 \nL 10.59375 27.203125 \nz\n\" id=\"DejaVuSans-8722\"/>\n        <path d=\"M 19.1875 8.296875 \nL 53.609375 8.296875 \nL 53.609375 0 \nL 7.328125 0 \nL 7.328125 8.296875 \nQ 12.9375 14.109375 22.625 23.890625 \nQ 32.328125 33.6875 34.8125 36.53125 \nQ 39.546875 41.84375 41.421875 45.53125 \nQ 43.3125 49.21875 43.3125 52.78125 \nQ 43.3125 58.59375 39.234375 62.25 \nQ 35.15625 65.921875 28.609375 65.921875 \nQ 23.96875 65.921875 18.8125 64.3125 \nQ 13.671875 62.703125 7.8125 59.421875 \nL 7.8125 69.390625 \nQ 13.765625 71.78125 18.9375 73 \nQ 24.125 74.21875 28.421875 74.21875 \nQ 39.75 74.21875 46.484375 68.546875 \nQ 53.21875 62.890625 53.21875 53.421875 \nQ 53.21875 48.921875 51.53125 44.890625 \nQ 49.859375 40.875 45.40625 35.40625 \nQ 44.1875 33.984375 37.640625 27.21875 \nQ 31.109375 20.453125 19.1875 8.296875 \nz\n\" id=\"DejaVuSans-50\"/>\n        <path d=\"M 10.6875 12.40625 \nL 21 12.40625 \nL 21 0 \nL 10.6875 0 \nz\n\" id=\"DejaVuSans-46\"/>\n        <path d=\"M 31.78125 66.40625 \nQ 24.171875 66.40625 20.328125 58.90625 \nQ 16.5 51.421875 16.5 36.375 \nQ 16.5 21.390625 20.328125 13.890625 \nQ 24.171875 6.390625 31.78125 6.390625 \nQ 39.453125 6.390625 43.28125 13.890625 \nQ 47.125 21.390625 47.125 36.375 \nQ 47.125 51.421875 43.28125 58.90625 \nQ 39.453125 66.40625 31.78125 66.40625 \nz\nM 31.78125 74.21875 \nQ 44.046875 74.21875 50.515625 64.515625 \nQ 56.984375 54.828125 56.984375 36.375 \nQ 56.984375 17.96875 50.515625 8.265625 \nQ 44.046875 -1.421875 31.78125 -1.421875 \nQ 19.53125 -1.421875 13.0625 8.265625 \nQ 6.59375 17.96875 6.59375 36.375 \nQ 6.59375 54.828125 13.0625 64.515625 \nQ 19.53125 74.21875 31.78125 74.21875 \nz\n\" id=\"DejaVuSans-48\"/>\n       </defs>\n       <use xlink:href=\"#DejaVuSans-8722\"/>\n       <use x=\"83.789062\" xlink:href=\"#DejaVuSans-50\"/>\n       <use x=\"147.412109\" xlink:href=\"#DejaVuSans-46\"/>\n       <use x=\"179.199219\" xlink:href=\"#DejaVuSans-48\"/>\n      </g>\n     </g>\n    </g>\n    <g id=\"xtick_2\">\n     <g id=\"line2d_2\">\n      <g>\n       <use style=\"stroke:#000000;stroke-width:0.8;\" x=\"95.905824\" xlink:href=\"#ma76f0edb53\" y=\"239.758125\"/>\n      </g>\n     </g>\n     <g id=\"text_2\">\n      <!-- −1.5 -->\n      <g transform=\"translate(83.764418 254.356562)scale(0.1 -0.1)\">\n       <defs>\n        <path d=\"M 12.40625 8.296875 \nL 28.515625 8.296875 \nL 28.515625 63.921875 \nL 10.984375 60.40625 \nL 10.984375 69.390625 \nL 28.421875 72.90625 \nL 38.28125 72.90625 \nL 38.28125 8.296875 \nL 54.390625 8.296875 \nL 54.390625 0 \nL 12.40625 0 \nz\n\" id=\"DejaVuSans-49\"/>\n        <path d=\"M 10.796875 72.90625 \nL 49.515625 72.90625 \nL 49.515625 64.59375 \nL 19.828125 64.59375 \nL 19.828125 46.734375 \nQ 21.96875 47.46875 24.109375 47.828125 \nQ 26.265625 48.1875 28.421875 48.1875 \nQ 40.625 48.1875 47.75 41.5 \nQ 54.890625 34.8125 54.890625 23.390625 \nQ 54.890625 11.625 47.5625 5.09375 \nQ 40.234375 -1.421875 26.90625 -1.421875 \nQ 22.3125 -1.421875 17.546875 -0.640625 \nQ 12.796875 0.140625 7.71875 1.703125 \nL 7.71875 11.625 \nQ 12.109375 9.234375 16.796875 8.0625 \nQ 21.484375 6.890625 26.703125 6.890625 \nQ 35.15625 6.890625 40.078125 11.328125 \nQ 45.015625 15.765625 45.015625 23.390625 \nQ 45.015625 31 40.078125 35.4375 \nQ 35.15625 39.890625 26.703125 39.890625 \nQ 22.75 39.890625 18.8125 39.015625 \nQ 14.890625 38.140625 10.796875 36.28125 \nz\n\" id=\"DejaVuSans-53\"/>\n       </defs>\n       <use xlink:href=\"#DejaVuSans-8722\"/>\n       <use x=\"83.789062\" xlink:href=\"#DejaVuSans-49\"/>\n       <use x=\"147.412109\" xlink:href=\"#DejaVuSans-46\"/>\n       <use x=\"179.199219\" xlink:href=\"#DejaVuSans-53\"/>\n      </g>\n     </g>\n    </g>\n    <g id=\"xtick_3\">\n     <g id=\"line2d_3\">\n      <g>\n       <use style=\"stroke:#000000;stroke-width:0.8;\" x=\"133.951278\" xlink:href=\"#ma76f0edb53\" y=\"239.758125\"/>\n      </g>\n     </g>\n     <g id=\"text_3\">\n      <!-- −1.0 -->\n      <g transform=\"translate(121.809872 254.356562)scale(0.1 -0.1)\">\n       <use xlink:href=\"#DejaVuSans-8722\"/>\n       <use x=\"83.789062\" xlink:href=\"#DejaVuSans-49\"/>\n       <use x=\"147.412109\" xlink:href=\"#DejaVuSans-46\"/>\n       <use x=\"179.199219\" xlink:href=\"#DejaVuSans-48\"/>\n      </g>\n     </g>\n    </g>\n    <g id=\"xtick_4\">\n     <g id=\"line2d_4\">\n      <g>\n       <use style=\"stroke:#000000;stroke-width:0.8;\" x=\"171.996733\" xlink:href=\"#ma76f0edb53\" y=\"239.758125\"/>\n      </g>\n     </g>\n     <g id=\"text_4\">\n      <!-- −0.5 -->\n      <g transform=\"translate(159.855327 254.356562)scale(0.1 -0.1)\">\n       <use xlink:href=\"#DejaVuSans-8722\"/>\n       <use x=\"83.789062\" xlink:href=\"#DejaVuSans-48\"/>\n       <use x=\"147.412109\" xlink:href=\"#DejaVuSans-46\"/>\n       <use x=\"179.199219\" xlink:href=\"#DejaVuSans-53\"/>\n      </g>\n     </g>\n    </g>\n    <g id=\"xtick_5\">\n     <g id=\"line2d_5\">\n      <g>\n       <use style=\"stroke:#000000;stroke-width:0.8;\" x=\"210.042187\" xlink:href=\"#ma76f0edb53\" y=\"239.758125\"/>\n      </g>\n     </g>\n     <g id=\"text_5\">\n      <!-- 0.0 -->\n      <g transform=\"translate(202.090625 254.356562)scale(0.1 -0.1)\">\n       <use xlink:href=\"#DejaVuSans-48\"/>\n       <use x=\"63.623047\" xlink:href=\"#DejaVuSans-46\"/>\n       <use x=\"95.410156\" xlink:href=\"#DejaVuSans-48\"/>\n      </g>\n     </g>\n    </g>\n    <g id=\"xtick_6\">\n     <g id=\"line2d_6\">\n      <g>\n       <use style=\"stroke:#000000;stroke-width:0.8;\" x=\"248.087642\" xlink:href=\"#ma76f0edb53\" y=\"239.758125\"/>\n      </g>\n     </g>\n     <g id=\"text_6\">\n      <!-- 0.5 -->\n      <g transform=\"translate(240.13608 254.356562)scale(0.1 -0.1)\">\n       <use xlink:href=\"#DejaVuSans-48\"/>\n       <use x=\"63.623047\" xlink:href=\"#DejaVuSans-46\"/>\n       <use x=\"95.410156\" xlink:href=\"#DejaVuSans-53\"/>\n      </g>\n     </g>\n    </g>\n    <g id=\"xtick_7\">\n     <g id=\"line2d_7\">\n      <g>\n       <use style=\"stroke:#000000;stroke-width:0.8;\" x=\"286.133097\" xlink:href=\"#ma76f0edb53\" y=\"239.758125\"/>\n      </g>\n     </g>\n     <g id=\"text_7\">\n      <!-- 1.0 -->\n      <g transform=\"translate(278.181534 254.356562)scale(0.1 -0.1)\">\n       <use xlink:href=\"#DejaVuSans-49\"/>\n       <use x=\"63.623047\" xlink:href=\"#DejaVuSans-46\"/>\n       <use x=\"95.410156\" xlink:href=\"#DejaVuSans-48\"/>\n      </g>\n     </g>\n    </g>\n    <g id=\"xtick_8\">\n     <g id=\"line2d_8\">\n      <g>\n       <use style=\"stroke:#000000;stroke-width:0.8;\" x=\"324.178551\" xlink:href=\"#ma76f0edb53\" y=\"239.758125\"/>\n      </g>\n     </g>\n     <g id=\"text_8\">\n      <!-- 1.5 -->\n      <g transform=\"translate(316.226989 254.356562)scale(0.1 -0.1)\">\n       <use xlink:href=\"#DejaVuSans-49\"/>\n       <use x=\"63.623047\" xlink:href=\"#DejaVuSans-46\"/>\n       <use x=\"95.410156\" xlink:href=\"#DejaVuSans-53\"/>\n      </g>\n     </g>\n    </g>\n    <g id=\"xtick_9\">\n     <g id=\"line2d_9\">\n      <g>\n       <use style=\"stroke:#000000;stroke-width:0.8;\" x=\"362.224006\" xlink:href=\"#ma76f0edb53\" y=\"239.758125\"/>\n      </g>\n     </g>\n     <g id=\"text_9\">\n      <!-- 2.0 -->\n      <g transform=\"translate(354.272443 254.356562)scale(0.1 -0.1)\">\n       <use xlink:href=\"#DejaVuSans-50\"/>\n       <use x=\"63.623047\" xlink:href=\"#DejaVuSans-46\"/>\n       <use x=\"95.410156\" xlink:href=\"#DejaVuSans-48\"/>\n      </g>\n     </g>\n    </g>\n    <g id=\"text_10\">\n     <!-- $x$ -->\n     <g transform=\"translate(207.042187 268.034687)scale(0.1 -0.1)\">\n      <defs>\n       <path d=\"M 60.015625 54.6875 \nL 34.90625 27.875 \nL 50.296875 0 \nL 39.984375 0 \nL 28.421875 21.6875 \nL 8.296875 0 \nL -2.59375 0 \nL 24.3125 28.8125 \nL 10.015625 54.6875 \nL 20.3125 54.6875 \nL 30.8125 34.90625 \nL 49.125 54.6875 \nz\n\" id=\"DejaVuSans-Oblique-120\"/>\n      </defs>\n      <use transform=\"translate(0 0.3125)\" xlink:href=\"#DejaVuSans-Oblique-120\"/>\n     </g>\n    </g>\n   </g>\n   <g id=\"matplotlib.axis_2\">\n    <g id=\"ytick_1\">\n     <g id=\"line2d_10\">\n      <defs>\n       <path d=\"M 0 0 \nL -3.5 0 \n\" id=\"m61ac1d2ae7\" style=\"stroke:#000000;stroke-width:0.8;\"/>\n      </defs>\n      <g>\n       <use style=\"stroke:#000000;stroke-width:0.8;\" x=\"42.642188\" xlink:href=\"#m61ac1d2ae7\" y=\"229.111896\"/>\n      </g>\n     </g>\n     <g id=\"text_11\">\n      <!-- −6 -->\n      <g transform=\"translate(20.9 232.911115)scale(0.1 -0.1)\">\n       <defs>\n        <path d=\"M 33.015625 40.375 \nQ 26.375 40.375 22.484375 35.828125 \nQ 18.609375 31.296875 18.609375 23.390625 \nQ 18.609375 15.53125 22.484375 10.953125 \nQ 26.375 6.390625 33.015625 6.390625 \nQ 39.65625 6.390625 43.53125 10.953125 \nQ 47.40625 15.53125 47.40625 23.390625 \nQ 47.40625 31.296875 43.53125 35.828125 \nQ 39.65625 40.375 33.015625 40.375 \nz\nM 52.59375 71.296875 \nL 52.59375 62.3125 \nQ 48.875 64.0625 45.09375 64.984375 \nQ 41.3125 65.921875 37.59375 65.921875 \nQ 27.828125 65.921875 22.671875 59.328125 \nQ 17.53125 52.734375 16.796875 39.40625 \nQ 19.671875 43.65625 24.015625 45.921875 \nQ 28.375 48.1875 33.59375 48.1875 \nQ 44.578125 48.1875 50.953125 41.515625 \nQ 57.328125 34.859375 57.328125 23.390625 \nQ 57.328125 12.15625 50.6875 5.359375 \nQ 44.046875 -1.421875 33.015625 -1.421875 \nQ 20.359375 -1.421875 13.671875 8.265625 \nQ 6.984375 17.96875 6.984375 36.375 \nQ 6.984375 53.65625 15.1875 63.9375 \nQ 23.390625 74.21875 37.203125 74.21875 \nQ 40.921875 74.21875 44.703125 73.484375 \nQ 48.484375 72.75 52.59375 71.296875 \nz\n\" id=\"DejaVuSans-54\"/>\n       </defs>\n       <use xlink:href=\"#DejaVuSans-8722\"/>\n       <use x=\"83.789062\" xlink:href=\"#DejaVuSans-54\"/>\n      </g>\n     </g>\n    </g>\n    <g id=\"ytick_2\">\n     <g id=\"line2d_11\">\n      <g>\n       <use style=\"stroke:#000000;stroke-width:0.8;\" x=\"42.642188\" xlink:href=\"#m61ac1d2ae7\" y=\"185.337883\"/>\n      </g>\n     </g>\n     <g id=\"text_12\">\n      <!-- −4 -->\n      <g transform=\"translate(20.9 189.137101)scale(0.1 -0.1)\">\n       <defs>\n        <path d=\"M 37.796875 64.3125 \nL 12.890625 25.390625 \nL 37.796875 25.390625 \nz\nM 35.203125 72.90625 \nL 47.609375 72.90625 \nL 47.609375 25.390625 \nL 58.015625 25.390625 \nL 58.015625 17.1875 \nL 47.609375 17.1875 \nL 47.609375 0 \nL 37.796875 0 \nL 37.796875 17.1875 \nL 4.890625 17.1875 \nL 4.890625 26.703125 \nz\n\" id=\"DejaVuSans-52\"/>\n       </defs>\n       <use xlink:href=\"#DejaVuSans-8722\"/>\n       <use x=\"83.789062\" xlink:href=\"#DejaVuSans-52\"/>\n      </g>\n     </g>\n    </g>\n    <g id=\"ytick_3\">\n     <g id=\"line2d_12\">\n      <g>\n       <use style=\"stroke:#000000;stroke-width:0.8;\" x=\"42.642188\" xlink:href=\"#m61ac1d2ae7\" y=\"141.563869\"/>\n      </g>\n     </g>\n     <g id=\"text_13\">\n      <!-- −2 -->\n      <g transform=\"translate(20.9 145.363088)scale(0.1 -0.1)\">\n       <use xlink:href=\"#DejaVuSans-8722\"/>\n       <use x=\"83.789062\" xlink:href=\"#DejaVuSans-50\"/>\n      </g>\n     </g>\n    </g>\n    <g id=\"ytick_4\">\n     <g id=\"line2d_13\">\n      <g>\n       <use style=\"stroke:#000000;stroke-width:0.8;\" x=\"42.642188\" xlink:href=\"#m61ac1d2ae7\" y=\"97.789855\"/>\n      </g>\n     </g>\n     <g id=\"text_14\">\n      <!-- 0 -->\n      <g transform=\"translate(29.279688 101.589074)scale(0.1 -0.1)\">\n       <use xlink:href=\"#DejaVuSans-48\"/>\n      </g>\n     </g>\n    </g>\n    <g id=\"ytick_5\">\n     <g id=\"line2d_14\">\n      <g>\n       <use style=\"stroke:#000000;stroke-width:0.8;\" x=\"42.642188\" xlink:href=\"#m61ac1d2ae7\" y=\"54.015842\"/>\n      </g>\n     </g>\n     <g id=\"text_15\">\n      <!-- 2 -->\n      <g transform=\"translate(29.279688 57.815061)scale(0.1 -0.1)\">\n       <use xlink:href=\"#DejaVuSans-50\"/>\n      </g>\n     </g>\n    </g>\n    <g id=\"text_16\">\n     <!-- $p(x;a,b,c)$ -->\n     <g transform=\"translate(14.8 157.888125)rotate(-90)scale(0.1 -0.1)\">\n      <defs>\n       <path d=\"M 49.609375 33.6875 \nQ 49.609375 40.875 46.484375 44.671875 \nQ 43.359375 48.484375 37.5 48.484375 \nQ 33.5 48.484375 29.859375 46.4375 \nQ 26.21875 44.390625 23.390625 40.484375 \nQ 20.609375 36.625 18.9375 31.15625 \nQ 17.28125 25.6875 17.28125 20.3125 \nQ 17.28125 13.484375 20.40625 9.796875 \nQ 23.53125 6.109375 29.296875 6.109375 \nQ 33.546875 6.109375 37.1875 8.109375 \nQ 40.828125 10.109375 43.40625 13.921875 \nQ 46.1875 17.921875 47.890625 23.34375 \nQ 49.609375 28.765625 49.609375 33.6875 \nz\nM 21.78125 46.390625 \nQ 25.390625 51.125 30.296875 53.5625 \nQ 35.203125 56 41.21875 56 \nQ 49.609375 56 54.25 50.5 \nQ 58.890625 45.015625 58.890625 35.109375 \nQ 58.890625 27 56 19.65625 \nQ 53.125 12.3125 47.703125 6.5 \nQ 44.09375 2.640625 39.546875 0.609375 \nQ 35.015625 -1.421875 29.984375 -1.421875 \nQ 24.171875 -1.421875 20.21875 1 \nQ 16.265625 3.421875 14.3125 8.203125 \nL 8.6875 -20.796875 \nL -0.296875 -20.796875 \nL 14.40625 54.6875 \nL 23.390625 54.6875 \nz\n\" id=\"DejaVuSans-Oblique-112\"/>\n       <path d=\"M 31 75.875 \nQ 24.46875 64.65625 21.28125 53.65625 \nQ 18.109375 42.671875 18.109375 31.390625 \nQ 18.109375 20.125 21.3125 9.0625 \nQ 24.515625 -2 31 -13.1875 \nL 23.1875 -13.1875 \nQ 15.875 -1.703125 12.234375 9.375 \nQ 8.59375 20.453125 8.59375 31.390625 \nQ 8.59375 42.28125 12.203125 53.3125 \nQ 15.828125 64.359375 23.1875 75.875 \nz\n\" id=\"DejaVuSans-40\"/>\n       <path d=\"M 11.71875 51.703125 \nL 22.015625 51.703125 \nL 22.015625 39.3125 \nL 11.71875 39.3125 \nz\nM 11.71875 12.40625 \nL 22.015625 12.40625 \nL 22.015625 4 \nL 14.015625 -11.625 \nL 7.71875 -11.625 \nL 11.71875 4 \nz\n\" id=\"DejaVuSans-59\"/>\n       <path d=\"M 53.71875 31.203125 \nL 47.609375 0 \nL 38.625 0 \nL 40.28125 8.296875 \nQ 36.328125 3.421875 31.265625 1 \nQ 26.21875 -1.421875 20.015625 -1.421875 \nQ 13.03125 -1.421875 8.5625 2.84375 \nQ 4.109375 7.125 4.109375 13.8125 \nQ 4.109375 23.390625 11.75 28.953125 \nQ 19.390625 34.515625 32.8125 34.515625 \nL 45.3125 34.515625 \nL 45.796875 36.921875 \nQ 45.90625 37.3125 45.953125 37.765625 \nQ 46 38.234375 46 39.203125 \nQ 46 43.5625 42.453125 45.96875 \nQ 38.921875 48.390625 32.515625 48.390625 \nQ 28.125 48.390625 23.5 47.265625 \nQ 18.890625 46.140625 14.015625 43.890625 \nL 15.578125 52.203125 \nQ 20.65625 54.109375 25.515625 55.046875 \nQ 30.375 56 34.90625 56 \nQ 44.578125 56 49.625 51.796875 \nQ 54.6875 47.609375 54.6875 39.59375 \nQ 54.6875 37.984375 54.4375 35.8125 \nQ 54.203125 33.640625 53.71875 31.203125 \nz\nM 44 27.484375 \nL 35.015625 27.484375 \nQ 23.96875 27.484375 18.671875 24.53125 \nQ 13.375 21.578125 13.375 15.375 \nQ 13.375 11.078125 16.078125 8.640625 \nQ 18.796875 6.203125 23.578125 6.203125 \nQ 30.90625 6.203125 36.375 11.453125 \nQ 41.84375 16.703125 43.609375 25.484375 \nz\n\" id=\"DejaVuSans-Oblique-97\"/>\n       <path d=\"M 11.71875 12.40625 \nL 22.015625 12.40625 \nL 22.015625 4 \nL 14.015625 -11.625 \nL 7.71875 -11.625 \nL 11.71875 4 \nz\n\" id=\"DejaVuSans-44\"/>\n       <path d=\"M 49.515625 33.40625 \nQ 49.515625 40.484375 46.265625 44.484375 \nQ 43.015625 48.484375 37.3125 48.484375 \nQ 33.15625 48.484375 29.515625 46.453125 \nQ 25.875 44.4375 23.1875 40.578125 \nQ 20.359375 36.53125 18.71875 31.171875 \nQ 17.09375 25.828125 17.09375 20.515625 \nQ 17.09375 13.765625 20.28125 9.9375 \nQ 23.484375 6.109375 29.109375 6.109375 \nQ 33.34375 6.109375 36.953125 8.078125 \nQ 40.578125 10.0625 43.3125 13.921875 \nQ 46.09375 17.921875 47.796875 23.234375 \nQ 49.515625 28.5625 49.515625 33.40625 \nz\nM 21.578125 46.390625 \nQ 24.90625 50.875 29.90625 53.4375 \nQ 34.90625 56 40.375 56 \nQ 48.78125 56 53.734375 50.328125 \nQ 58.6875 44.671875 58.6875 35.015625 \nQ 58.6875 27.09375 55.78125 19.671875 \nQ 52.875 12.25 47.515625 6.5 \nQ 44 2.6875 39.40625 0.625 \nQ 34.8125 -1.421875 29.78125 -1.421875 \nQ 24.46875 -1.421875 20.5625 1.015625 \nQ 16.65625 3.46875 14.203125 8.296875 \nL 12.59375 0 \nL 3.609375 0 \nL 18.40625 75.984375 \nL 27.390625 75.984375 \nz\n\" id=\"DejaVuSans-Oblique-98\"/>\n       <path d=\"M 53.609375 52.59375 \nL 51.8125 43.703125 \nQ 48.578125 46.046875 44.9375 47.21875 \nQ 41.3125 48.390625 37.40625 48.390625 \nQ 33.109375 48.390625 29.21875 46.875 \nQ 25.34375 45.359375 22.703125 42.578125 \nQ 18.5 38.328125 16.203125 32.609375 \nQ 13.921875 26.90625 13.921875 20.796875 \nQ 13.921875 13.421875 17.609375 9.8125 \nQ 21.296875 6.203125 28.8125 6.203125 \nQ 32.515625 6.203125 36.6875 7.328125 \nQ 40.875 8.453125 45.40625 10.6875 \nL 43.703125 1.8125 \nQ 39.796875 0.203125 35.671875 -0.609375 \nQ 31.546875 -1.421875 27.203125 -1.421875 \nQ 16.3125 -1.421875 10.453125 4.015625 \nQ 4.59375 9.46875 4.59375 19.578125 \nQ 4.59375 28.078125 7.640625 35.234375 \nQ 10.6875 42.390625 16.703125 48.09375 \nQ 20.796875 52 26.3125 54 \nQ 31.84375 56 38.375 56 \nQ 42.1875 56 45.9375 55.140625 \nQ 49.703125 54.296875 53.609375 52.59375 \nz\n\" id=\"DejaVuSans-Oblique-99\"/>\n       <path d=\"M 8.015625 75.875 \nL 15.828125 75.875 \nQ 23.140625 64.359375 26.78125 53.3125 \nQ 30.421875 42.28125 30.421875 31.390625 \nQ 30.421875 20.453125 26.78125 9.375 \nQ 23.140625 -1.703125 15.828125 -13.1875 \nL 8.015625 -13.1875 \nQ 14.5 -2 17.703125 9.0625 \nQ 20.90625 20.125 20.90625 31.390625 \nQ 20.90625 42.671875 17.703125 53.65625 \nQ 14.5 64.65625 8.015625 75.875 \nz\n\" id=\"DejaVuSans-41\"/>\n      </defs>\n      <use transform=\"translate(0 0.015625)\" xlink:href=\"#DejaVuSans-Oblique-112\"/>\n      <use transform=\"translate(63.476562 0.015625)\" xlink:href=\"#DejaVuSans-40\"/>\n      <use transform=\"translate(102.490234 0.015625)\" xlink:href=\"#DejaVuSans-Oblique-120\"/>\n      <use transform=\"translate(161.669922 0.015625)\" xlink:href=\"#DejaVuSans-59\"/>\n      <use transform=\"translate(214.84375 0.015625)\" xlink:href=\"#DejaVuSans-Oblique-97\"/>\n      <use transform=\"translate(276.123047 0.015625)\" xlink:href=\"#DejaVuSans-44\"/>\n      <use transform=\"translate(327.392578 0.015625)\" xlink:href=\"#DejaVuSans-Oblique-98\"/>\n      <use transform=\"translate(390.869141 0.015625)\" xlink:href=\"#DejaVuSans-44\"/>\n      <use transform=\"translate(442.138672 0.015625)\" xlink:href=\"#DejaVuSans-Oblique-99\"/>\n      <use transform=\"translate(497.119141 0.015625)\" xlink:href=\"#DejaVuSans-41\"/>\n     </g>\n    </g>\n   </g>\n   <g id=\"line2d_15\">\n    <path clip-path=\"url(#pa58b494e15)\" d=\"M 57.860369 106.544658 \nL 64.071872 105.173644 \nL 70.283375 103.919311 \nL 76.494878 102.781661 \nL 82.70638 101.760693 \nL 88.917883 100.856406 \nL 95.129386 100.068802 \nL 101.340889 99.39788 \nL 107.552392 98.84364 \nL 113.763894 98.406083 \nL 119.975397 98.085207 \nL 126.1869 97.881013 \nL 132.398403 97.793502 \nL 138.609905 97.822672 \nL 144.821408 97.968525 \nL 151.032911 98.23106 \nL 157.244414 98.610276 \nL 163.455917 99.106175 \nL 169.667419 99.718756 \nL 175.878922 100.448019 \nL 182.090425 101.293964 \nL 188.301928 102.256591 \nL 194.513431 103.335901 \nL 200.724933 104.531892 \nL 206.936436 105.844566 \nL 213.147939 107.273921 \nL 219.359442 108.819959 \nL 225.570944 110.482678 \nL 231.782447 112.26208 \nL 237.99395 114.158164 \nL 244.205453 116.17093 \nL 250.416956 118.300378 \nL 256.628458 120.546508 \nL 262.839961 122.909321 \nL 269.051464 125.388815 \nL 275.262967 127.984991 \nL 281.47447 130.69785 \nL 287.685972 133.52739 \nL 293.897475 136.473613 \nL 300.108978 139.536518 \nL 306.320481 142.716105 \nL 312.531983 146.012373 \nL 318.743486 149.425324 \nL 324.954989 152.954958 \nL 331.166492 156.601273 \nL 337.377995 160.36427 \nL 343.589497 164.243949 \nL 349.801 168.240311 \nL 356.012503 172.353354 \nL 362.224006 176.58308 \n\" style=\"fill:none;stroke:#00008b;stroke-linecap:square;stroke-opacity:0.2;stroke-width:1.5;\"/>\n   </g>\n   <g id=\"line2d_16\">\n    <path clip-path=\"url(#pa58b494e15)\" d=\"M 57.860369 106.106318 \nL 64.071872 103.89656 \nL 70.283375 101.855344 \nL 76.494878 99.982669 \nL 82.70638 98.278534 \nL 88.917883 96.74294 \nL 95.129386 95.375887 \nL 101.340889 94.177375 \nL 107.552392 93.147403 \nL 113.763894 92.285973 \nL 119.975397 91.593083 \nL 126.1869 91.068734 \nL 132.398403 90.712925 \nL 138.609905 90.525658 \nL 144.821408 90.506931 \nL 151.032911 90.656745 \nL 157.244414 90.9751 \nL 163.455917 91.461996 \nL 169.667419 92.117432 \nL 175.878922 92.941409 \nL 182.090425 93.933927 \nL 188.301928 95.094986 \nL 194.513431 96.424585 \nL 200.724933 97.922726 \nL 206.936436 99.589407 \nL 213.147939 101.424629 \nL 219.359442 103.428392 \nL 225.570944 105.600695 \nL 231.782447 107.941539 \nL 237.99395 110.450925 \nL 244.205453 113.12885 \nL 250.416956 115.975317 \nL 256.628458 118.990325 \nL 262.839961 122.173873 \nL 269.051464 125.525962 \nL 275.262967 129.046592 \nL 281.47447 132.735762 \nL 287.685972 136.593474 \nL 293.897475 140.619726 \nL 300.108978 144.814519 \nL 306.320481 149.177853 \nL 312.531983 153.709727 \nL 318.743486 158.410143 \nL 324.954989 163.279099 \nL 331.166492 168.316596 \nL 337.377995 173.522633 \nL 343.589497 178.897212 \nL 349.801 184.440331 \nL 356.012503 190.151991 \nL 362.224006 196.032192 \n\" style=\"fill:none;stroke:#00008b;stroke-linecap:square;stroke-opacity:0.266667;stroke-width:1.5;\"/>\n   </g>\n   <g id=\"line2d_17\">\n    <path clip-path=\"url(#pa58b494e15)\" d=\"M 57.860369 107.901713 \nL 64.071872 104.712042 \nL 70.283375 101.742771 \nL 76.494878 98.9939 \nL 82.70638 96.465428 \nL 88.917883 94.157355 \nL 95.129386 92.069682 \nL 101.340889 90.202409 \nL 107.552392 88.555535 \nL 113.763894 87.12906 \nL 119.975397 85.922985 \nL 126.1869 84.93731 \nL 132.398403 84.172034 \nL 138.609905 83.627157 \nL 144.821408 83.30268 \nL 151.032911 83.198603 \nL 157.244414 83.314925 \nL 163.455917 83.651646 \nL 169.667419 84.208767 \nL 175.878922 84.986287 \nL 182.090425 85.984207 \nL 188.301928 87.202527 \nL 194.513431 88.641246 \nL 200.724933 90.300364 \nL 206.936436 92.179882 \nL 213.147939 94.279799 \nL 219.359442 96.600116 \nL 225.570944 99.140833 \nL 231.782447 101.901949 \nL 237.99395 104.883464 \nL 244.205453 108.085379 \nL 250.416956 111.507693 \nL 256.628458 115.150407 \nL 262.839961 119.01352 \nL 269.051464 123.097033 \nL 275.262967 127.400946 \nL 281.47447 131.925257 \nL 287.685972 136.669969 \nL 293.897475 141.63508 \nL 300.108978 146.82059 \nL 306.320481 152.2265 \nL 312.531983 157.852809 \nL 318.743486 163.699518 \nL 324.954989 169.766626 \nL 331.166492 176.054134 \nL 337.377995 182.562041 \nL 343.589497 189.290348 \nL 349.801 196.239054 \nL 356.012503 203.40816 \nL 362.224006 210.797665 \n\" style=\"fill:none;stroke:#00008b;stroke-linecap:square;stroke-opacity:0.333333;stroke-width:1.5;\"/>\n   </g>\n   <g id=\"line2d_18\">\n    <path clip-path=\"url(#pa58b494e15)\" d=\"M 57.860369 112.219067 \nL 64.071872 107.908312 \nL 70.283375 103.869816 \nL 76.494878 100.103577 \nL 82.70638 96.609597 \nL 88.917883 93.387875 \nL 95.129386 90.438411 \nL 101.340889 87.761206 \nL 107.552392 85.356258 \nL 113.763894 83.223569 \nL 119.975397 81.363138 \nL 126.1869 79.774965 \nL 132.398403 78.459051 \nL 138.609905 77.415394 \nL 144.821408 76.643996 \nL 151.032911 76.144856 \nL 157.244414 75.917974 \nL 163.455917 75.96335 \nL 169.667419 76.280985 \nL 175.878922 76.870878 \nL 182.090425 77.733029 \nL 188.301928 78.867438 \nL 194.513431 80.274105 \nL 200.724933 81.953031 \nL 206.936436 83.904215 \nL 213.147939 86.127657 \nL 219.359442 88.623357 \nL 225.570944 91.391315 \nL 231.782447 94.431532 \nL 237.99395 97.744006 \nL 244.205453 101.328739 \nL 250.416956 105.18573 \nL 256.628458 109.31498 \nL 262.839961 113.716487 \nL 269.051464 118.390253 \nL 275.262967 123.336277 \nL 281.47447 128.554559 \nL 287.685972 134.0451 \nL 293.897475 139.807898 \nL 300.108978 145.842955 \nL 306.320481 152.15027 \nL 312.531983 158.729843 \nL 318.743486 165.581674 \nL 324.954989 172.705764 \nL 331.166492 180.102112 \nL 337.377995 187.770718 \nL 343.589497 195.711582 \nL 349.801 203.924704 \nL 356.012503 212.410085 \nL 362.224006 221.167723 \n\" style=\"fill:none;stroke:#00008b;stroke-linecap:square;stroke-opacity:0.4;stroke-width:1.5;\"/>\n   </g>\n   <g id=\"line2d_19\">\n    <path clip-path=\"url(#pa58b494e15)\" d=\"M 57.860369 119.346606 \nL 64.071872 113.773595 \nL 70.283375 108.524702 \nL 76.494878 103.599926 \nL 82.70638 98.999267 \nL 88.917883 94.722724 \nL 95.129386 90.770299 \nL 101.340889 87.14199 \nL 107.552392 83.837798 \nL 113.763894 80.857723 \nL 119.975397 78.201765 \nL 126.1869 75.869924 \nL 132.398403 73.8622 \nL 138.609905 72.178593 \nL 144.821408 70.819102 \nL 151.032911 69.783729 \nL 157.244414 69.072473 \nL 163.455917 68.685333 \nL 169.667419 68.62231 \nL 175.878922 68.883404 \nL 182.090425 69.468615 \nL 188.301928 70.377943 \nL 194.513431 71.611388 \nL 200.724933 73.16895 \nL 206.936436 75.050629 \nL 213.147939 77.256424 \nL 219.359442 79.786337 \nL 225.570944 82.640366 \nL 231.782447 85.818513 \nL 237.99395 89.320776 \nL 244.205453 93.147156 \nL 250.416956 97.297653 \nL 256.628458 101.772267 \nL 262.839961 106.570998 \nL 269.051464 111.693845 \nL 275.262967 117.14081 \nL 281.47447 122.911892 \nL 287.685972 129.00709 \nL 293.897475 135.426405 \nL 300.108978 142.169838 \nL 306.320481 149.237387 \nL 312.531983 156.629053 \nL 318.743486 164.344836 \nL 324.954989 172.384736 \nL 331.166492 180.748752 \nL 337.377995 189.436886 \nL 343.589497 198.449137 \nL 349.801 207.785504 \nL 356.012503 217.445988 \nL 362.224006 227.43059 \n\" style=\"fill:none;stroke:#00008b;stroke-linecap:square;stroke-opacity:0.466667;stroke-width:1.5;\"/>\n   </g>\n   <g id=\"line2d_20\">\n    <path clip-path=\"url(#pa58b494e15)\" d=\"M 57.860369 129.572551 \nL 64.071872 122.596115 \nL 70.283375 115.995654 \nL 76.494878 109.771169 \nL 82.70638 103.92266 \nL 88.917883 98.450126 \nL 95.129386 93.353568 \nL 101.340889 88.632985 \nL 107.552392 84.288378 \nL 113.763894 80.319747 \nL 119.975397 76.727091 \nL 126.1869 73.510411 \nL 132.398403 70.669706 \nL 138.609905 68.204977 \nL 144.821408 66.116224 \nL 151.032911 64.403446 \nL 157.244414 63.066644 \nL 163.455917 62.105817 \nL 169.667419 61.520966 \nL 175.878922 61.312091 \nL 182.090425 61.479191 \nL 188.301928 62.022267 \nL 194.513431 62.941319 \nL 200.724933 64.236346 \nL 206.936436 65.907348 \nL 213.147939 67.954327 \nL 219.359442 70.377281 \nL 225.570944 73.17621 \nL 231.782447 76.351115 \nL 237.99395 79.901996 \nL 244.205453 83.828852 \nL 250.416956 88.131684 \nL 256.628458 92.810492 \nL 262.839961 97.865275 \nL 269.051464 103.296034 \nL 275.262967 109.102768 \nL 281.47447 115.285478 \nL 287.685972 121.844164 \nL 293.897475 128.778825 \nL 300.108978 136.089462 \nL 306.320481 143.776074 \nL 312.531983 151.838662 \nL 318.743486 160.277226 \nL 324.954989 169.091765 \nL 331.166492 178.28228 \nL 337.377995 187.848771 \nL 343.589497 197.791237 \nL 349.801 208.109678 \nL 356.012503 218.804096 \nL 362.224006 229.874489 \n\" style=\"fill:none;stroke:#00008b;stroke-linecap:square;stroke-opacity:0.533333;stroke-width:1.5;\"/>\n   </g>\n   <g id=\"line2d_21\">\n    <path clip-path=\"url(#pa58b494e15)\" d=\"M 57.860369 143.185129 \nL 64.071872 134.664095 \nL 70.283375 126.570896 \nL 76.494878 118.905531 \nL 82.70638 111.668001 \nL 88.917883 104.858305 \nL 95.129386 98.476443 \nL 101.340889 92.522416 \nL 107.552392 86.996222 \nL 113.763894 81.897863 \nL 119.975397 77.227339 \nL 126.1869 72.984649 \nL 132.398403 69.169793 \nL 138.609905 65.782771 \nL 144.821408 62.823584 \nL 151.032911 60.292231 \nL 157.244414 58.188712 \nL 163.455917 56.513028 \nL 169.667419 55.265177 \nL 175.878922 54.445162 \nL 182.090425 54.05298 \nL 188.301928 54.088633 \nL 194.513431 54.55212 \nL 200.724933 55.443442 \nL 206.936436 56.762598 \nL 213.147939 58.509588 \nL 219.359442 60.684412 \nL 225.570944 63.287071 \nL 231.782447 66.317564 \nL 237.99395 69.775891 \nL 244.205453 73.662053 \nL 250.416956 77.976049 \nL 256.628458 82.717879 \nL 262.839961 87.887544 \nL 269.051464 93.485043 \nL 275.262967 99.510376 \nL 281.47447 105.963544 \nL 287.685972 112.844545 \nL 293.897475 120.153382 \nL 300.108978 127.890052 \nL 306.320481 136.054557 \nL 312.531983 144.646896 \nL 318.743486 153.667069 \nL 324.954989 163.115077 \nL 331.166492 172.990919 \nL 337.377995 183.294596 \nL 343.589497 194.026106 \nL 349.801 205.185451 \nL 356.012503 216.772631 \nL 362.224006 228.787644 \n\" style=\"fill:none;stroke:#00008b;stroke-linecap:square;stroke-opacity:0.6;stroke-width:1.5;\"/>\n   </g>\n   <g id=\"line2d_22\">\n    <path clip-path=\"url(#pa58b494e15)\" d=\"M 57.860369 160.472562 \nL 64.071872 150.26576 \nL 70.283375 140.538652 \nL 76.494878 131.291236 \nL 82.70638 122.523514 \nL 88.917883 114.235485 \nL 95.129386 106.427148 \nL 101.340889 99.098505 \nL 107.552392 92.249555 \nL 113.763894 85.880297 \nL 119.975397 79.990733 \nL 126.1869 74.580862 \nL 132.398403 69.650684 \nL 138.609905 65.200198 \nL 144.821408 61.229406 \nL 151.032911 57.738307 \nL 157.244414 54.726901 \nL 163.455917 52.195188 \nL 169.667419 50.143168 \nL 175.878922 48.57084 \nL 182.090425 47.478206 \nL 188.301928 46.865265 \nL 194.513431 46.732017 \nL 200.724933 47.078462 \nL 206.936436 47.9046 \nL 213.147939 49.210431 \nL 219.359442 50.995955 \nL 225.570944 53.261172 \nL 231.782447 56.006082 \nL 237.99395 59.230685 \nL 244.205453 62.934981 \nL 250.416956 67.11897 \nL 256.628458 71.782653 \nL 262.839961 76.926028 \nL 269.051464 82.549096 \nL 275.262967 88.651857 \nL 281.47447 95.234311 \nL 287.685972 102.296458 \nL 293.897475 109.838299 \nL 300.108978 117.859832 \nL 306.320481 126.361058 \nL 312.531983 135.341977 \nL 318.743486 144.80259 \nL 324.954989 154.742895 \nL 331.166492 165.162893 \nL 337.377995 176.062585 \nL 343.589497 187.441969 \nL 349.801 199.301046 \nL 356.012503 211.639817 \nL 362.224006 224.45828 \n\" style=\"fill:none;stroke:#00008b;stroke-linecap:square;stroke-opacity:0.666667;stroke-width:1.5;\"/>\n   </g>\n   <g id=\"line2d_23\">\n    <path clip-path=\"url(#pa58b494e15)\" d=\"M 57.860369 181.723074 \nL 64.071872 169.689333 \nL 70.283375 158.187145 \nL 76.494878 147.216508 \nL 82.70638 136.777423 \nL 88.917883 126.869889 \nL 95.129386 117.493907 \nL 101.340889 108.649477 \nL 107.552392 100.336599 \nL 113.763894 92.555272 \nL 119.975397 85.305498 \nL 126.1869 78.587274 \nL 132.398403 72.400603 \nL 138.609905 66.745483 \nL 144.821408 61.621915 \nL 151.032911 57.029899 \nL 157.244414 52.969434 \nL 163.455917 49.440522 \nL 169.667419 46.44316 \nL 175.878922 43.977351 \nL 182.090425 42.043093 \nL 188.301928 40.640388 \nL 194.513431 39.769233 \nL 200.724933 39.429631 \nL 206.936436 39.62158 \nL 213.147939 40.345081 \nL 219.359442 41.600134 \nL 225.570944 43.386738 \nL 231.782447 45.704894 \nL 237.99395 48.554602 \nL 244.205453 51.935862 \nL 250.416956 55.848673 \nL 256.628458 60.293036 \nL 262.839961 65.268951 \nL 269.051464 70.776417 \nL 275.262967 76.815435 \nL 281.47447 83.386005 \nL 287.685972 90.488127 \nL 293.897475 98.1218 \nL 300.108978 106.287025 \nL 306.320481 114.983802 \nL 312.531983 124.21213 \nL 318.743486 133.972011 \nL 324.954989 144.263443 \nL 331.166492 155.086426 \nL 337.377995 166.440962 \nL 343.589497 178.327049 \nL 349.801 190.744688 \nL 356.012503 203.693878 \nL 362.224006 217.174621 \n\" style=\"fill:none;stroke:#00008b;stroke-linecap:square;stroke-opacity:0.733333;stroke-width:1.5;\"/>\n   </g>\n   <g id=\"line2d_24\">\n    <path clip-path=\"url(#pa58b494e15)\" d=\"M 57.860369 207.224889 \nL 64.071872 193.223039 \nL 70.283375 179.804599 \nL 76.494878 166.96957 \nL 82.70638 154.717951 \nL 88.917883 143.049742 \nL 95.129386 131.964944 \nL 101.340889 121.463557 \nL 107.552392 111.545579 \nL 113.763894 102.211013 \nL 119.975397 93.459856 \nL 126.1869 85.29211 \nL 132.398403 77.707775 \nL 138.609905 70.70685 \nL 144.821408 64.289335 \nL 151.032911 58.455231 \nL 157.244414 53.204537 \nL 163.455917 48.537253 \nL 169.667419 44.45338 \nL 175.878922 40.952918 \nL 182.090425 38.035866 \nL 188.301928 35.702224 \nL 194.513431 33.951993 \nL 200.724933 32.785172 \nL 206.936436 32.201761 \nL 213.147939 32.201761 \nL 219.359442 32.785172 \nL 225.570944 33.951993 \nL 231.782447 35.702224 \nL 237.99395 38.035866 \nL 244.205453 40.952918 \nL 250.416956 44.45338 \nL 256.628458 48.537253 \nL 262.839961 53.204537 \nL 269.051464 58.455231 \nL 275.262967 64.289335 \nL 281.47447 70.70685 \nL 287.685972 77.707775 \nL 293.897475 85.29211 \nL 300.108978 93.459856 \nL 306.320481 102.211013 \nL 312.531983 111.545579 \nL 318.743486 121.463557 \nL 324.954989 131.964944 \nL 331.166492 143.049742 \nL 337.377995 154.717951 \nL 343.589497 166.96957 \nL 349.801 179.804599 \nL 356.012503 193.223039 \nL 362.224006 207.224889 \n\" style=\"fill:none;stroke:#00008b;stroke-linecap:square;stroke-opacity:0.8;stroke-width:1.5;\"/>\n   </g>\n   <g id=\"patch_3\">\n    <path d=\"M 42.642188 239.758125 \nL 42.642188 22.318125 \n\" style=\"fill:none;stroke:#000000;stroke-linecap:square;stroke-linejoin:miter;stroke-width:0.8;\"/>\n   </g>\n   <g id=\"patch_4\">\n    <path d=\"M 377.442187 239.758125 \nL 377.442187 22.318125 \n\" style=\"fill:none;stroke:#000000;stroke-linecap:square;stroke-linejoin:miter;stroke-width:0.8;\"/>\n   </g>\n   <g id=\"patch_5\">\n    <path d=\"M 42.642188 239.758125 \nL 377.442187 239.758125 \n\" style=\"fill:none;stroke:#000000;stroke-linecap:square;stroke-linejoin:miter;stroke-width:0.8;\"/>\n   </g>\n   <g id=\"patch_6\">\n    <path d=\"M 42.642188 22.318125 \nL 377.442187 22.318125 \n\" style=\"fill:none;stroke:#000000;stroke-linecap:square;stroke-linejoin:miter;stroke-width:0.8;\"/>\n   </g>\n   <g id=\"text_17\">\n    <!-- Quadratic functions -->\n    <g transform=\"translate(151.0275 16.318125)scale(0.12 -0.12)\">\n     <defs>\n      <path d=\"M 39.40625 66.21875 \nQ 28.65625 66.21875 22.328125 58.203125 \nQ 16.015625 50.203125 16.015625 36.375 \nQ 16.015625 22.609375 22.328125 14.59375 \nQ 28.65625 6.59375 39.40625 6.59375 \nQ 50.140625 6.59375 56.421875 14.59375 \nQ 62.703125 22.609375 62.703125 36.375 \nQ 62.703125 50.203125 56.421875 58.203125 \nQ 50.140625 66.21875 39.40625 66.21875 \nz\nM 53.21875 1.3125 \nL 66.21875 -12.890625 \nL 54.296875 -12.890625 \nL 43.5 -1.21875 \nQ 41.890625 -1.3125 41.03125 -1.359375 \nQ 40.1875 -1.421875 39.40625 -1.421875 \nQ 24.03125 -1.421875 14.8125 8.859375 \nQ 5.609375 19.140625 5.609375 36.375 \nQ 5.609375 53.65625 14.8125 63.9375 \nQ 24.03125 74.21875 39.40625 74.21875 \nQ 54.734375 74.21875 63.90625 63.9375 \nQ 73.09375 53.65625 73.09375 36.375 \nQ 73.09375 23.6875 67.984375 14.640625 \nQ 62.890625 5.609375 53.21875 1.3125 \nz\n\" id=\"DejaVuSans-81\"/>\n      <path d=\"M 8.5 21.578125 \nL 8.5 54.6875 \nL 17.484375 54.6875 \nL 17.484375 21.921875 \nQ 17.484375 14.15625 20.5 10.265625 \nQ 23.53125 6.390625 29.59375 6.390625 \nQ 36.859375 6.390625 41.078125 11.03125 \nQ 45.3125 15.671875 45.3125 23.6875 \nL 45.3125 54.6875 \nL 54.296875 54.6875 \nL 54.296875 0 \nL 45.3125 0 \nL 45.3125 8.40625 \nQ 42.046875 3.421875 37.71875 1 \nQ 33.40625 -1.421875 27.6875 -1.421875 \nQ 18.265625 -1.421875 13.375 4.4375 \nQ 8.5 10.296875 8.5 21.578125 \nz\nM 31.109375 56 \nz\n\" id=\"DejaVuSans-117\"/>\n      <path d=\"M 34.28125 27.484375 \nQ 23.390625 27.484375 19.1875 25 \nQ 14.984375 22.515625 14.984375 16.5 \nQ 14.984375 11.71875 18.140625 8.90625 \nQ 21.296875 6.109375 26.703125 6.109375 \nQ 34.1875 6.109375 38.703125 11.40625 \nQ 43.21875 16.703125 43.21875 25.484375 \nL 43.21875 27.484375 \nz\nM 52.203125 31.203125 \nL 52.203125 0 \nL 43.21875 0 \nL 43.21875 8.296875 \nQ 40.140625 3.328125 35.546875 0.953125 \nQ 30.953125 -1.421875 24.3125 -1.421875 \nQ 15.921875 -1.421875 10.953125 3.296875 \nQ 6 8.015625 6 15.921875 \nQ 6 25.140625 12.171875 29.828125 \nQ 18.359375 34.515625 30.609375 34.515625 \nL 43.21875 34.515625 \nL 43.21875 35.40625 \nQ 43.21875 41.609375 39.140625 45 \nQ 35.0625 48.390625 27.6875 48.390625 \nQ 23 48.390625 18.546875 47.265625 \nQ 14.109375 46.140625 10.015625 43.890625 \nL 10.015625 52.203125 \nQ 14.9375 54.109375 19.578125 55.046875 \nQ 24.21875 56 28.609375 56 \nQ 40.484375 56 46.34375 49.84375 \nQ 52.203125 43.703125 52.203125 31.203125 \nz\n\" id=\"DejaVuSans-97\"/>\n      <path d=\"M 45.40625 46.390625 \nL 45.40625 75.984375 \nL 54.390625 75.984375 \nL 54.390625 0 \nL 45.40625 0 \nL 45.40625 8.203125 \nQ 42.578125 3.328125 38.25 0.953125 \nQ 33.9375 -1.421875 27.875 -1.421875 \nQ 17.96875 -1.421875 11.734375 6.484375 \nQ 5.515625 14.40625 5.515625 27.296875 \nQ 5.515625 40.1875 11.734375 48.09375 \nQ 17.96875 56 27.875 56 \nQ 33.9375 56 38.25 53.625 \nQ 42.578125 51.265625 45.40625 46.390625 \nz\nM 14.796875 27.296875 \nQ 14.796875 17.390625 18.875 11.75 \nQ 22.953125 6.109375 30.078125 6.109375 \nQ 37.203125 6.109375 41.296875 11.75 \nQ 45.40625 17.390625 45.40625 27.296875 \nQ 45.40625 37.203125 41.296875 42.84375 \nQ 37.203125 48.484375 30.078125 48.484375 \nQ 22.953125 48.484375 18.875 42.84375 \nQ 14.796875 37.203125 14.796875 27.296875 \nz\n\" id=\"DejaVuSans-100\"/>\n      <path d=\"M 41.109375 46.296875 \nQ 39.59375 47.171875 37.8125 47.578125 \nQ 36.03125 48 33.890625 48 \nQ 26.265625 48 22.1875 43.046875 \nQ 18.109375 38.09375 18.109375 28.8125 \nL 18.109375 0 \nL 9.078125 0 \nL 9.078125 54.6875 \nL 18.109375 54.6875 \nL 18.109375 46.1875 \nQ 20.953125 51.171875 25.484375 53.578125 \nQ 30.03125 56 36.53125 56 \nQ 37.453125 56 38.578125 55.875 \nQ 39.703125 55.765625 41.0625 55.515625 \nz\n\" id=\"DejaVuSans-114\"/>\n      <path d=\"M 18.3125 70.21875 \nL 18.3125 54.6875 \nL 36.8125 54.6875 \nL 36.8125 47.703125 \nL 18.3125 47.703125 \nL 18.3125 18.015625 \nQ 18.3125 11.328125 20.140625 9.421875 \nQ 21.96875 7.515625 27.59375 7.515625 \nL 36.8125 7.515625 \nL 36.8125 0 \nL 27.59375 0 \nQ 17.1875 0 13.234375 3.875 \nQ 9.28125 7.765625 9.28125 18.015625 \nL 9.28125 47.703125 \nL 2.6875 47.703125 \nL 2.6875 54.6875 \nL 9.28125 54.6875 \nL 9.28125 70.21875 \nz\n\" id=\"DejaVuSans-116\"/>\n      <path d=\"M 9.421875 54.6875 \nL 18.40625 54.6875 \nL 18.40625 0 \nL 9.421875 0 \nz\nM 9.421875 75.984375 \nL 18.40625 75.984375 \nL 18.40625 64.59375 \nL 9.421875 64.59375 \nz\n\" id=\"DejaVuSans-105\"/>\n      <path d=\"M 48.78125 52.59375 \nL 48.78125 44.1875 \nQ 44.96875 46.296875 41.140625 47.34375 \nQ 37.3125 48.390625 33.40625 48.390625 \nQ 24.65625 48.390625 19.8125 42.84375 \nQ 14.984375 37.3125 14.984375 27.296875 \nQ 14.984375 17.28125 19.8125 11.734375 \nQ 24.65625 6.203125 33.40625 6.203125 \nQ 37.3125 6.203125 41.140625 7.25 \nQ 44.96875 8.296875 48.78125 10.40625 \nL 48.78125 2.09375 \nQ 45.015625 0.34375 40.984375 -0.53125 \nQ 36.96875 -1.421875 32.421875 -1.421875 \nQ 20.0625 -1.421875 12.78125 6.34375 \nQ 5.515625 14.109375 5.515625 27.296875 \nQ 5.515625 40.671875 12.859375 48.328125 \nQ 20.21875 56 33.015625 56 \nQ 37.15625 56 41.109375 55.140625 \nQ 45.0625 54.296875 48.78125 52.59375 \nz\n\" id=\"DejaVuSans-99\"/>\n      <path id=\"DejaVuSans-32\"/>\n      <path d=\"M 37.109375 75.984375 \nL 37.109375 68.5 \nL 28.515625 68.5 \nQ 23.6875 68.5 21.796875 66.546875 \nQ 19.921875 64.59375 19.921875 59.515625 \nL 19.921875 54.6875 \nL 34.71875 54.6875 \nL 34.71875 47.703125 \nL 19.921875 47.703125 \nL 19.921875 0 \nL 10.890625 0 \nL 10.890625 47.703125 \nL 2.296875 47.703125 \nL 2.296875 54.6875 \nL 10.890625 54.6875 \nL 10.890625 58.5 \nQ 10.890625 67.625 15.140625 71.796875 \nQ 19.390625 75.984375 28.609375 75.984375 \nz\n\" id=\"DejaVuSans-102\"/>\n      <path d=\"M 54.890625 33.015625 \nL 54.890625 0 \nL 45.90625 0 \nL 45.90625 32.71875 \nQ 45.90625 40.484375 42.875 44.328125 \nQ 39.84375 48.1875 33.796875 48.1875 \nQ 26.515625 48.1875 22.3125 43.546875 \nQ 18.109375 38.921875 18.109375 30.90625 \nL 18.109375 0 \nL 9.078125 0 \nL 9.078125 54.6875 \nL 18.109375 54.6875 \nL 18.109375 46.1875 \nQ 21.34375 51.125 25.703125 53.5625 \nQ 30.078125 56 35.796875 56 \nQ 45.21875 56 50.046875 50.171875 \nQ 54.890625 44.34375 54.890625 33.015625 \nz\n\" id=\"DejaVuSans-110\"/>\n      <path d=\"M 30.609375 48.390625 \nQ 23.390625 48.390625 19.1875 42.75 \nQ 14.984375 37.109375 14.984375 27.296875 \nQ 14.984375 17.484375 19.15625 11.84375 \nQ 23.34375 6.203125 30.609375 6.203125 \nQ 37.796875 6.203125 41.984375 11.859375 \nQ 46.1875 17.53125 46.1875 27.296875 \nQ 46.1875 37.015625 41.984375 42.703125 \nQ 37.796875 48.390625 30.609375 48.390625 \nz\nM 30.609375 56 \nQ 42.328125 56 49.015625 48.375 \nQ 55.71875 40.765625 55.71875 27.296875 \nQ 55.71875 13.875 49.015625 6.21875 \nQ 42.328125 -1.421875 30.609375 -1.421875 \nQ 18.84375 -1.421875 12.171875 6.21875 \nQ 5.515625 13.875 5.515625 27.296875 \nQ 5.515625 40.765625 12.171875 48.375 \nQ 18.84375 56 30.609375 56 \nz\n\" id=\"DejaVuSans-111\"/>\n      <path d=\"M 44.28125 53.078125 \nL 44.28125 44.578125 \nQ 40.484375 46.53125 36.375 47.5 \nQ 32.28125 48.484375 27.875 48.484375 \nQ 21.1875 48.484375 17.84375 46.4375 \nQ 14.5 44.390625 14.5 40.28125 \nQ 14.5 37.15625 16.890625 35.375 \nQ 19.28125 33.59375 26.515625 31.984375 \nL 29.59375 31.296875 \nQ 39.15625 29.25 43.1875 25.515625 \nQ 47.21875 21.78125 47.21875 15.09375 \nQ 47.21875 7.46875 41.1875 3.015625 \nQ 35.15625 -1.421875 24.609375 -1.421875 \nQ 20.21875 -1.421875 15.453125 -0.5625 \nQ 10.6875 0.296875 5.421875 2 \nL 5.421875 11.28125 \nQ 10.40625 8.6875 15.234375 7.390625 \nQ 20.0625 6.109375 24.8125 6.109375 \nQ 31.15625 6.109375 34.5625 8.28125 \nQ 37.984375 10.453125 37.984375 14.40625 \nQ 37.984375 18.0625 35.515625 20.015625 \nQ 33.0625 21.96875 24.703125 23.78125 \nL 21.578125 24.515625 \nQ 13.234375 26.265625 9.515625 29.90625 \nQ 5.8125 33.546875 5.8125 39.890625 \nQ 5.8125 47.609375 11.28125 51.796875 \nQ 16.75 56 26.8125 56 \nQ 31.78125 56 36.171875 55.265625 \nQ 40.578125 54.546875 44.28125 53.078125 \nz\n\" id=\"DejaVuSans-115\"/>\n     </defs>\n     <use xlink:href=\"#DejaVuSans-81\"/>\n     <use x=\"78.710938\" xlink:href=\"#DejaVuSans-117\"/>\n     <use x=\"142.089844\" xlink:href=\"#DejaVuSans-97\"/>\n     <use x=\"203.369141\" xlink:href=\"#DejaVuSans-100\"/>\n     <use x=\"266.845703\" xlink:href=\"#DejaVuSans-114\"/>\n     <use x=\"307.958984\" xlink:href=\"#DejaVuSans-97\"/>\n     <use x=\"369.238281\" xlink:href=\"#DejaVuSans-116\"/>\n     <use x=\"408.447266\" xlink:href=\"#DejaVuSans-105\"/>\n     <use x=\"436.230469\" xlink:href=\"#DejaVuSans-99\"/>\n     <use x=\"491.210938\" xlink:href=\"#DejaVuSans-32\"/>\n     <use x=\"522.998047\" xlink:href=\"#DejaVuSans-102\"/>\n     <use x=\"558.203125\" xlink:href=\"#DejaVuSans-117\"/>\n     <use x=\"621.582031\" xlink:href=\"#DejaVuSans-110\"/>\n     <use x=\"684.960938\" xlink:href=\"#DejaVuSans-99\"/>\n     <use x=\"739.941406\" xlink:href=\"#DejaVuSans-116\"/>\n     <use x=\"779.150391\" xlink:href=\"#DejaVuSans-105\"/>\n     <use x=\"806.933594\" xlink:href=\"#DejaVuSans-111\"/>\n     <use x=\"868.115234\" xlink:href=\"#DejaVuSans-110\"/>\n     <use x=\"931.494141\" xlink:href=\"#DejaVuSans-115\"/>\n    </g>\n   </g>\n  </g>\n </g>\n <defs>\n  <clipPath id=\"pa58b494e15\">\n   <rect height=\"217.44\" width=\"334.8\" x=\"42.642188\" y=\"22.318125\"/>\n  </clipPath>\n </defs>\n</svg>\n",
      "image/png": "[encoded data removed]"
     },
     "metadata": {
      "needs_background": "light"
     }
    }
   ],
   "source": [
    "# Call plotting routine, passing x-values and y-values\n",
    "# as arguments\n",
    "plot_quad(xgrid, pvalues)"
   ]
  },
  {
   "cell_type": "markdown",
   "metadata": {},
   "source": [
    "### Locating maxima using loops\n",
    "\n",
    "Below is one possible way to implement a function that returns a vector \n",
    "of indices, each index storing the location of the maximum \n",
    "element in the corresponding row."
   ]
  },
  {
   "cell_type": "code",
   "execution_count": 115,
   "metadata": {},
   "outputs": [],
   "source": [
    "# Function to locate the maximum value in each row\n",
    "def find_max(pvalues):\n",
    "    # unpack rows and columns from shape attribute\n",
    "    nrow, ncol = pvalues.shape\n",
    "    # Create array to store location of maximum for each row.\n",
    "    # Location is an index, so choose integer array type!\n",
    "    imax = np.zeros(nrow, dtype=np.int)\n",
    "\n",
    "    # iterate over all row\n",
    "    for i in range(nrow):\n",
    "        # initial guess for location of row maximum\n",
    "        jmax = 0\n",
    "        # iterate over all columns, locate index of maximum\n",
    "        for j in range(1, ncol):\n",
    "            if pvalues[i,j] > pvalues[i,jmax]:\n",
    "                # value at (i,j) is larger than\n",
    "                # value at current max: \n",
    "                # update jmax\n",
    "                jmax = j\n",
    "        # store index of maximum for current row\n",
    "        imax[i] = jmax\n",
    "    \n",
    "    return imax"
   ]
  },
  {
   "cell_type": "code",
   "execution_count": 116,
   "metadata": {},
   "outputs": [
    {
     "output_type": "execute_result",
     "data": {
      "text/plain": [
       "array([12, 14, 15, 16, 18, 19, 20, 22, 23, 24])"
      ]
     },
     "metadata": {},
     "execution_count": 116
    }
   ],
   "source": [
    "# use find_max() to locale indices of each row maximum\n",
    "ipmax = find_max(pvalues)\n",
    "ipmax"
   ]
  },
  {
   "cell_type": "markdown",
   "metadata": {},
   "source": [
    "We plot the polynomials using the function we defined above. We then \n",
    "add the maxima to the *same* plot."
   ]
  },
  {
   "cell_type": "code",
   "execution_count": 117,
   "metadata": {},
   "outputs": [
    {
     "output_type": "execute_result",
     "data": {
      "text/plain": [
       "<matplotlib.legend.Legend at 0x7f47770017f0>"
      ]
     },
     "metadata": {},
     "execution_count": 117
    },
    {
     "output_type": "display_data",
     "data": {
      "text/plain": "<Figure size 432x288 with 1 Axes>",
      "image/svg+xml": "<?xml version=\"1.0\" encoding=\"utf-8\" standalone=\"no\"?>\n<!DOCTYPE svg PUBLIC \"-//W3C//DTD SVG 1.1//EN\"\n  \"http://www.w3.org/Graphics/SVG/1.1/DTD/svg11.dtd\">\n<!-- Created with matplotlib (https://matplotlib.org/) -->\n<svg height=\"277.314375pt\" version=\"1.1\" viewBox=\"0 0 384.642187 277.314375\" width=\"384.642187pt\" xmlns=\"http://www.w3.org/2000/svg\" xmlns:xlink=\"http://www.w3.org/1999/xlink\">\n <metadata>\n  <rdf:RDF xmlns:cc=\"http://creativecommons.org/ns#\" xmlns:dc=\"http://purl.org/dc/elements/1.1/\" xmlns:rdf=\"http://www.w3.org/1999/02/22-rdf-syntax-ns#\">\n   <cc:Work>\n    <dc:type rdf:resource=\"http://purl.org/dc/dcmitype/StillImage\"/>\n    <dc:date>2020-12-07T21:35:24.605625</dc:date>\n    <dc:format>image/svg+xml</dc:format>\n    <dc:creator>\n     <cc:Agent>\n      <dc:title>Matplotlib v3.3.2, https://matplotlib.org/</dc:title>\n     </cc:Agent>\n    </dc:creator>\n   </cc:Work>\n  </rdf:RDF>\n </metadata>\n <defs>\n  <style type=\"text/css\">*{stroke-linecap:butt;stroke-linejoin:round;}</style>\n </defs>\n <g id=\"figure_1\">\n  <g id=\"patch_1\">\n   <path d=\"M 0 277.314375 \nL 384.642187 277.314375 \nL 384.642187 0 \nL 0 0 \nz\n\" style=\"fill:none;\"/>\n  </g>\n  <g id=\"axes_1\">\n   <g id=\"patch_2\">\n    <path d=\"M 42.642188 239.758125 \nL 377.442187 239.758125 \nL 377.442187 22.318125 \nL 42.642188 22.318125 \nz\n\" style=\"fill:#ffffff;\"/>\n   </g>\n   <g id=\"PathCollection_1\">\n    <defs>\n     <path d=\"M 0 3 \nC 0.795609 3 1.55874 2.683901 2.12132 2.12132 \nC 2.683901 1.55874 3 0.795609 3 0 \nC 3 -0.795609 2.683901 -1.55874 2.12132 -2.12132 \nC 1.55874 -2.683901 0.795609 -3 0 -3 \nC -0.795609 -3 -1.55874 -2.683901 -2.12132 -2.12132 \nC -2.683901 -1.55874 -3 -0.795609 -3 0 \nC -3 0.795609 -2.683901 1.55874 -2.12132 2.12132 \nC -1.55874 2.683901 -0.795609 3 0 3 \nz\n\" id=\"me48c5ea41e\" style=\"stroke:#000000;\"/>\n    </defs>\n    <g clip-path=\"url(#p139ca52c1c)\">\n     <use style=\"stroke:#000000;\" x=\"132.398403\" xlink:href=\"#me48c5ea41e\" y=\"97.793502\"/>\n     <use style=\"stroke:#000000;\" x=\"144.821408\" xlink:href=\"#me48c5ea41e\" y=\"90.506931\"/>\n     <use style=\"stroke:#000000;\" x=\"151.032911\" xlink:href=\"#me48c5ea41e\" y=\"83.198603\"/>\n     <use style=\"stroke:#000000;\" x=\"157.244414\" xlink:href=\"#me48c5ea41e\" y=\"75.917974\"/>\n     <use style=\"stroke:#000000;\" x=\"169.667419\" xlink:href=\"#me48c5ea41e\" y=\"68.62231\"/>\n     <use style=\"stroke:#000000;\" x=\"175.878922\" xlink:href=\"#me48c5ea41e\" y=\"61.312091\"/>\n     <use style=\"stroke:#000000;\" x=\"182.090425\" xlink:href=\"#me48c5ea41e\" y=\"54.05298\"/>\n     <use style=\"stroke:#000000;\" x=\"194.513431\" xlink:href=\"#me48c5ea41e\" y=\"46.732017\"/>\n     <use style=\"stroke:#000000;\" x=\"200.724933\" xlink:href=\"#me48c5ea41e\" y=\"39.429631\"/>\n     <use style=\"stroke:#000000;\" x=\"206.936436\" xlink:href=\"#me48c5ea41e\" y=\"32.201761\"/>\n    </g>\n   </g>\n   <g id=\"matplotlib.axis_1\">\n    <g id=\"xtick_1\">\n     <g id=\"line2d_1\">\n      <defs>\n       <path d=\"M 0 0 \nL 0 3.5 \n\" id=\"ma4ce0f6d4b\" style=\"stroke:#000000;stroke-width:0.8;\"/>\n      </defs>\n      <g>\n       <use style=\"stroke:#000000;stroke-width:0.8;\" x=\"57.860369\" xlink:href=\"#ma4ce0f6d4b\" y=\"239.758125\"/>\n      </g>\n     </g>\n     <g id=\"text_1\">\n      <!-- −2.0 -->\n      <g transform=\"translate(45.718963 254.356562)scale(0.1 -0.1)\">\n       <defs>\n        <path d=\"M 10.59375 35.5 \nL 73.1875 35.5 \nL 73.1875 27.203125 \nL 10.59375 27.203125 \nz\n\" id=\"DejaVuSans-8722\"/>\n        <path d=\"M 19.1875 8.296875 \nL 53.609375 8.296875 \nL 53.609375 0 \nL 7.328125 0 \nL 7.328125 8.296875 \nQ 12.9375 14.109375 22.625 23.890625 \nQ 32.328125 33.6875 34.8125 36.53125 \nQ 39.546875 41.84375 41.421875 45.53125 \nQ 43.3125 49.21875 43.3125 52.78125 \nQ 43.3125 58.59375 39.234375 62.25 \nQ 35.15625 65.921875 28.609375 65.921875 \nQ 23.96875 65.921875 18.8125 64.3125 \nQ 13.671875 62.703125 7.8125 59.421875 \nL 7.8125 69.390625 \nQ 13.765625 71.78125 18.9375 73 \nQ 24.125 74.21875 28.421875 74.21875 \nQ 39.75 74.21875 46.484375 68.546875 \nQ 53.21875 62.890625 53.21875 53.421875 \nQ 53.21875 48.921875 51.53125 44.890625 \nQ 49.859375 40.875 45.40625 35.40625 \nQ 44.1875 33.984375 37.640625 27.21875 \nQ 31.109375 20.453125 19.1875 8.296875 \nz\n\" id=\"DejaVuSans-50\"/>\n        <path d=\"M 10.6875 12.40625 \nL 21 12.40625 \nL 21 0 \nL 10.6875 0 \nz\n\" id=\"DejaVuSans-46\"/>\n        <path d=\"M 31.78125 66.40625 \nQ 24.171875 66.40625 20.328125 58.90625 \nQ 16.5 51.421875 16.5 36.375 \nQ 16.5 21.390625 20.328125 13.890625 \nQ 24.171875 6.390625 31.78125 6.390625 \nQ 39.453125 6.390625 43.28125 13.890625 \nQ 47.125 21.390625 47.125 36.375 \nQ 47.125 51.421875 43.28125 58.90625 \nQ 39.453125 66.40625 31.78125 66.40625 \nz\nM 31.78125 74.21875 \nQ 44.046875 74.21875 50.515625 64.515625 \nQ 56.984375 54.828125 56.984375 36.375 \nQ 56.984375 17.96875 50.515625 8.265625 \nQ 44.046875 -1.421875 31.78125 -1.421875 \nQ 19.53125 -1.421875 13.0625 8.265625 \nQ 6.59375 17.96875 6.59375 36.375 \nQ 6.59375 54.828125 13.0625 64.515625 \nQ 19.53125 74.21875 31.78125 74.21875 \nz\n\" id=\"DejaVuSans-48\"/>\n       </defs>\n       <use xlink:href=\"#DejaVuSans-8722\"/>\n       <use x=\"83.789062\" xlink:href=\"#DejaVuSans-50\"/>\n       <use x=\"147.412109\" xlink:href=\"#DejaVuSans-46\"/>\n       <use x=\"179.199219\" xlink:href=\"#DejaVuSans-48\"/>\n      </g>\n     </g>\n    </g>\n    <g id=\"xtick_2\">\n     <g id=\"line2d_2\">\n      <g>\n       <use style=\"stroke:#000000;stroke-width:0.8;\" x=\"95.905824\" xlink:href=\"#ma4ce0f6d4b\" y=\"239.758125\"/>\n      </g>\n     </g>\n     <g id=\"text_2\">\n      <!-- −1.5 -->\n      <g transform=\"translate(83.764418 254.356562)scale(0.1 -0.1)\">\n       <defs>\n        <path d=\"M 12.40625 8.296875 \nL 28.515625 8.296875 \nL 28.515625 63.921875 \nL 10.984375 60.40625 \nL 10.984375 69.390625 \nL 28.421875 72.90625 \nL 38.28125 72.90625 \nL 38.28125 8.296875 \nL 54.390625 8.296875 \nL 54.390625 0 \nL 12.40625 0 \nz\n\" id=\"DejaVuSans-49\"/>\n        <path d=\"M 10.796875 72.90625 \nL 49.515625 72.90625 \nL 49.515625 64.59375 \nL 19.828125 64.59375 \nL 19.828125 46.734375 \nQ 21.96875 47.46875 24.109375 47.828125 \nQ 26.265625 48.1875 28.421875 48.1875 \nQ 40.625 48.1875 47.75 41.5 \nQ 54.890625 34.8125 54.890625 23.390625 \nQ 54.890625 11.625 47.5625 5.09375 \nQ 40.234375 -1.421875 26.90625 -1.421875 \nQ 22.3125 -1.421875 17.546875 -0.640625 \nQ 12.796875 0.140625 7.71875 1.703125 \nL 7.71875 11.625 \nQ 12.109375 9.234375 16.796875 8.0625 \nQ 21.484375 6.890625 26.703125 6.890625 \nQ 35.15625 6.890625 40.078125 11.328125 \nQ 45.015625 15.765625 45.015625 23.390625 \nQ 45.015625 31 40.078125 35.4375 \nQ 35.15625 39.890625 26.703125 39.890625 \nQ 22.75 39.890625 18.8125 39.015625 \nQ 14.890625 38.140625 10.796875 36.28125 \nz\n\" id=\"DejaVuSans-53\"/>\n       </defs>\n       <use xlink:href=\"#DejaVuSans-8722\"/>\n       <use x=\"83.789062\" xlink:href=\"#DejaVuSans-49\"/>\n       <use x=\"147.412109\" xlink:href=\"#DejaVuSans-46\"/>\n       <use x=\"179.199219\" xlink:href=\"#DejaVuSans-53\"/>\n      </g>\n     </g>\n    </g>\n    <g id=\"xtick_3\">\n     <g id=\"line2d_3\">\n      <g>\n       <use style=\"stroke:#000000;stroke-width:0.8;\" x=\"133.951278\" xlink:href=\"#ma4ce0f6d4b\" y=\"239.758125\"/>\n      </g>\n     </g>\n     <g id=\"text_3\">\n      <!-- −1.0 -->\n      <g transform=\"translate(121.809872 254.356562)scale(0.1 -0.1)\">\n       <use xlink:href=\"#DejaVuSans-8722\"/>\n       <use x=\"83.789062\" xlink:href=\"#DejaVuSans-49\"/>\n       <use x=\"147.412109\" xlink:href=\"#DejaVuSans-46\"/>\n       <use x=\"179.199219\" xlink:href=\"#DejaVuSans-48\"/>\n      </g>\n     </g>\n    </g>\n    <g id=\"xtick_4\">\n     <g id=\"line2d_4\">\n      <g>\n       <use style=\"stroke:#000000;stroke-width:0.8;\" x=\"171.996733\" xlink:href=\"#ma4ce0f6d4b\" y=\"239.758125\"/>\n      </g>\n     </g>\n     <g id=\"text_4\">\n      <!-- −0.5 -->\n      <g transform=\"translate(159.855327 254.356562)scale(0.1 -0.1)\">\n       <use xlink:href=\"#DejaVuSans-8722\"/>\n       <use x=\"83.789062\" xlink:href=\"#DejaVuSans-48\"/>\n       <use x=\"147.412109\" xlink:href=\"#DejaVuSans-46\"/>\n       <use x=\"179.199219\" xlink:href=\"#DejaVuSans-53\"/>\n      </g>\n     </g>\n    </g>\n    <g id=\"xtick_5\">\n     <g id=\"line2d_5\">\n      <g>\n       <use style=\"stroke:#000000;stroke-width:0.8;\" x=\"210.042187\" xlink:href=\"#ma4ce0f6d4b\" y=\"239.758125\"/>\n      </g>\n     </g>\n     <g id=\"text_5\">\n      <!-- 0.0 -->\n      <g transform=\"translate(202.090625 254.356562)scale(0.1 -0.1)\">\n       <use xlink:href=\"#DejaVuSans-48\"/>\n       <use x=\"63.623047\" xlink:href=\"#DejaVuSans-46\"/>\n       <use x=\"95.410156\" xlink:href=\"#DejaVuSans-48\"/>\n      </g>\n     </g>\n    </g>\n    <g id=\"xtick_6\">\n     <g id=\"line2d_6\">\n      <g>\n       <use style=\"stroke:#000000;stroke-width:0.8;\" x=\"248.087642\" xlink:href=\"#ma4ce0f6d4b\" y=\"239.758125\"/>\n      </g>\n     </g>\n     <g id=\"text_6\">\n      <!-- 0.5 -->\n      <g transform=\"translate(240.13608 254.356562)scale(0.1 -0.1)\">\n       <use xlink:href=\"#DejaVuSans-48\"/>\n       <use x=\"63.623047\" xlink:href=\"#DejaVuSans-46\"/>\n       <use x=\"95.410156\" xlink:href=\"#DejaVuSans-53\"/>\n      </g>\n     </g>\n    </g>\n    <g id=\"xtick_7\">\n     <g id=\"line2d_7\">\n      <g>\n       <use style=\"stroke:#000000;stroke-width:0.8;\" x=\"286.133097\" xlink:href=\"#ma4ce0f6d4b\" y=\"239.758125\"/>\n      </g>\n     </g>\n     <g id=\"text_7\">\n      <!-- 1.0 -->\n      <g transform=\"translate(278.181534 254.356562)scale(0.1 -0.1)\">\n       <use xlink:href=\"#DejaVuSans-49\"/>\n       <use x=\"63.623047\" xlink:href=\"#DejaVuSans-46\"/>\n       <use x=\"95.410156\" xlink:href=\"#DejaVuSans-48\"/>\n      </g>\n     </g>\n    </g>\n    <g id=\"xtick_8\">\n     <g id=\"line2d_8\">\n      <g>\n       <use style=\"stroke:#000000;stroke-width:0.8;\" x=\"324.178551\" xlink:href=\"#ma4ce0f6d4b\" y=\"239.758125\"/>\n      </g>\n     </g>\n     <g id=\"text_8\">\n      <!-- 1.5 -->\n      <g transform=\"translate(316.226989 254.356562)scale(0.1 -0.1)\">\n       <use xlink:href=\"#DejaVuSans-49\"/>\n       <use x=\"63.623047\" xlink:href=\"#DejaVuSans-46\"/>\n       <use x=\"95.410156\" xlink:href=\"#DejaVuSans-53\"/>\n      </g>\n     </g>\n    </g>\n    <g id=\"xtick_9\">\n     <g id=\"line2d_9\">\n      <g>\n       <use style=\"stroke:#000000;stroke-width:0.8;\" x=\"362.224006\" xlink:href=\"#ma4ce0f6d4b\" y=\"239.758125\"/>\n      </g>\n     </g>\n     <g id=\"text_9\">\n      <!-- 2.0 -->\n      <g transform=\"translate(354.272443 254.356562)scale(0.1 -0.1)\">\n       <use xlink:href=\"#DejaVuSans-50\"/>\n       <use x=\"63.623047\" xlink:href=\"#DejaVuSans-46\"/>\n       <use x=\"95.410156\" xlink:href=\"#DejaVuSans-48\"/>\n      </g>\n     </g>\n    </g>\n    <g id=\"text_10\">\n     <!-- $x$ -->\n     <g transform=\"translate(207.042187 268.034687)scale(0.1 -0.1)\">\n      <defs>\n       <path d=\"M 60.015625 54.6875 \nL 34.90625 27.875 \nL 50.296875 0 \nL 39.984375 0 \nL 28.421875 21.6875 \nL 8.296875 0 \nL -2.59375 0 \nL 24.3125 28.8125 \nL 10.015625 54.6875 \nL 20.3125 54.6875 \nL 30.8125 34.90625 \nL 49.125 54.6875 \nz\n\" id=\"DejaVuSans-Oblique-120\"/>\n      </defs>\n      <use transform=\"translate(0 0.3125)\" xlink:href=\"#DejaVuSans-Oblique-120\"/>\n     </g>\n    </g>\n   </g>\n   <g id=\"matplotlib.axis_2\">\n    <g id=\"ytick_1\">\n     <g id=\"line2d_10\">\n      <defs>\n       <path d=\"M 0 0 \nL -3.5 0 \n\" id=\"m0a8e71e600\" style=\"stroke:#000000;stroke-width:0.8;\"/>\n      </defs>\n      <g>\n       <use style=\"stroke:#000000;stroke-width:0.8;\" x=\"42.642188\" xlink:href=\"#m0a8e71e600\" y=\"229.111896\"/>\n      </g>\n     </g>\n     <g id=\"text_11\">\n      <!-- −6 -->\n      <g transform=\"translate(20.9 232.911115)scale(0.1 -0.1)\">\n       <defs>\n        <path d=\"M 33.015625 40.375 \nQ 26.375 40.375 22.484375 35.828125 \nQ 18.609375 31.296875 18.609375 23.390625 \nQ 18.609375 15.53125 22.484375 10.953125 \nQ 26.375 6.390625 33.015625 6.390625 \nQ 39.65625 6.390625 43.53125 10.953125 \nQ 47.40625 15.53125 47.40625 23.390625 \nQ 47.40625 31.296875 43.53125 35.828125 \nQ 39.65625 40.375 33.015625 40.375 \nz\nM 52.59375 71.296875 \nL 52.59375 62.3125 \nQ 48.875 64.0625 45.09375 64.984375 \nQ 41.3125 65.921875 37.59375 65.921875 \nQ 27.828125 65.921875 22.671875 59.328125 \nQ 17.53125 52.734375 16.796875 39.40625 \nQ 19.671875 43.65625 24.015625 45.921875 \nQ 28.375 48.1875 33.59375 48.1875 \nQ 44.578125 48.1875 50.953125 41.515625 \nQ 57.328125 34.859375 57.328125 23.390625 \nQ 57.328125 12.15625 50.6875 5.359375 \nQ 44.046875 -1.421875 33.015625 -1.421875 \nQ 20.359375 -1.421875 13.671875 8.265625 \nQ 6.984375 17.96875 6.984375 36.375 \nQ 6.984375 53.65625 15.1875 63.9375 \nQ 23.390625 74.21875 37.203125 74.21875 \nQ 40.921875 74.21875 44.703125 73.484375 \nQ 48.484375 72.75 52.59375 71.296875 \nz\n\" id=\"DejaVuSans-54\"/>\n       </defs>\n       <use xlink:href=\"#DejaVuSans-8722\"/>\n       <use x=\"83.789062\" xlink:href=\"#DejaVuSans-54\"/>\n      </g>\n     </g>\n    </g>\n    <g id=\"ytick_2\">\n     <g id=\"line2d_11\">\n      <g>\n       <use style=\"stroke:#000000;stroke-width:0.8;\" x=\"42.642188\" xlink:href=\"#m0a8e71e600\" y=\"185.337883\"/>\n      </g>\n     </g>\n     <g id=\"text_12\">\n      <!-- −4 -->\n      <g transform=\"translate(20.9 189.137101)scale(0.1 -0.1)\">\n       <defs>\n        <path d=\"M 37.796875 64.3125 \nL 12.890625 25.390625 \nL 37.796875 25.390625 \nz\nM 35.203125 72.90625 \nL 47.609375 72.90625 \nL 47.609375 25.390625 \nL 58.015625 25.390625 \nL 58.015625 17.1875 \nL 47.609375 17.1875 \nL 47.609375 0 \nL 37.796875 0 \nL 37.796875 17.1875 \nL 4.890625 17.1875 \nL 4.890625 26.703125 \nz\n\" id=\"DejaVuSans-52\"/>\n       </defs>\n       <use xlink:href=\"#DejaVuSans-8722\"/>\n       <use x=\"83.789062\" xlink:href=\"#DejaVuSans-52\"/>\n      </g>\n     </g>\n    </g>\n    <g id=\"ytick_3\">\n     <g id=\"line2d_12\">\n      <g>\n       <use style=\"stroke:#000000;stroke-width:0.8;\" x=\"42.642188\" xlink:href=\"#m0a8e71e600\" y=\"141.563869\"/>\n      </g>\n     </g>\n     <g id=\"text_13\">\n      <!-- −2 -->\n      <g transform=\"translate(20.9 145.363088)scale(0.1 -0.1)\">\n       <use xlink:href=\"#DejaVuSans-8722\"/>\n       <use x=\"83.789062\" xlink:href=\"#DejaVuSans-50\"/>\n      </g>\n     </g>\n    </g>\n    <g id=\"ytick_4\">\n     <g id=\"line2d_13\">\n      <g>\n       <use style=\"stroke:#000000;stroke-width:0.8;\" x=\"42.642188\" xlink:href=\"#m0a8e71e600\" y=\"97.789855\"/>\n      </g>\n     </g>\n     <g id=\"text_14\">\n      <!-- 0 -->\n      <g transform=\"translate(29.279688 101.589074)scale(0.1 -0.1)\">\n       <use xlink:href=\"#DejaVuSans-48\"/>\n      </g>\n     </g>\n    </g>\n    <g id=\"ytick_5\">\n     <g id=\"line2d_14\">\n      <g>\n       <use style=\"stroke:#000000;stroke-width:0.8;\" x=\"42.642188\" xlink:href=\"#m0a8e71e600\" y=\"54.015842\"/>\n      </g>\n     </g>\n     <g id=\"text_15\">\n      <!-- 2 -->\n      <g transform=\"translate(29.279688 57.815061)scale(0.1 -0.1)\">\n       <use xlink:href=\"#DejaVuSans-50\"/>\n      </g>\n     </g>\n    </g>\n    <g id=\"text_16\">\n     <!-- $p(x;a,b,c)$ -->\n     <g transform=\"translate(14.8 157.888125)rotate(-90)scale(0.1 -0.1)\">\n      <defs>\n       <path d=\"M 49.609375 33.6875 \nQ 49.609375 40.875 46.484375 44.671875 \nQ 43.359375 48.484375 37.5 48.484375 \nQ 33.5 48.484375 29.859375 46.4375 \nQ 26.21875 44.390625 23.390625 40.484375 \nQ 20.609375 36.625 18.9375 31.15625 \nQ 17.28125 25.6875 17.28125 20.3125 \nQ 17.28125 13.484375 20.40625 9.796875 \nQ 23.53125 6.109375 29.296875 6.109375 \nQ 33.546875 6.109375 37.1875 8.109375 \nQ 40.828125 10.109375 43.40625 13.921875 \nQ 46.1875 17.921875 47.890625 23.34375 \nQ 49.609375 28.765625 49.609375 33.6875 \nz\nM 21.78125 46.390625 \nQ 25.390625 51.125 30.296875 53.5625 \nQ 35.203125 56 41.21875 56 \nQ 49.609375 56 54.25 50.5 \nQ 58.890625 45.015625 58.890625 35.109375 \nQ 58.890625 27 56 19.65625 \nQ 53.125 12.3125 47.703125 6.5 \nQ 44.09375 2.640625 39.546875 0.609375 \nQ 35.015625 -1.421875 29.984375 -1.421875 \nQ 24.171875 -1.421875 20.21875 1 \nQ 16.265625 3.421875 14.3125 8.203125 \nL 8.6875 -20.796875 \nL -0.296875 -20.796875 \nL 14.40625 54.6875 \nL 23.390625 54.6875 \nz\n\" id=\"DejaVuSans-Oblique-112\"/>\n       <path d=\"M 31 75.875 \nQ 24.46875 64.65625 21.28125 53.65625 \nQ 18.109375 42.671875 18.109375 31.390625 \nQ 18.109375 20.125 21.3125 9.0625 \nQ 24.515625 -2 31 -13.1875 \nL 23.1875 -13.1875 \nQ 15.875 -1.703125 12.234375 9.375 \nQ 8.59375 20.453125 8.59375 31.390625 \nQ 8.59375 42.28125 12.203125 53.3125 \nQ 15.828125 64.359375 23.1875 75.875 \nz\n\" id=\"DejaVuSans-40\"/>\n       <path d=\"M 11.71875 51.703125 \nL 22.015625 51.703125 \nL 22.015625 39.3125 \nL 11.71875 39.3125 \nz\nM 11.71875 12.40625 \nL 22.015625 12.40625 \nL 22.015625 4 \nL 14.015625 -11.625 \nL 7.71875 -11.625 \nL 11.71875 4 \nz\n\" id=\"DejaVuSans-59\"/>\n       <path d=\"M 53.71875 31.203125 \nL 47.609375 0 \nL 38.625 0 \nL 40.28125 8.296875 \nQ 36.328125 3.421875 31.265625 1 \nQ 26.21875 -1.421875 20.015625 -1.421875 \nQ 13.03125 -1.421875 8.5625 2.84375 \nQ 4.109375 7.125 4.109375 13.8125 \nQ 4.109375 23.390625 11.75 28.953125 \nQ 19.390625 34.515625 32.8125 34.515625 \nL 45.3125 34.515625 \nL 45.796875 36.921875 \nQ 45.90625 37.3125 45.953125 37.765625 \nQ 46 38.234375 46 39.203125 \nQ 46 43.5625 42.453125 45.96875 \nQ 38.921875 48.390625 32.515625 48.390625 \nQ 28.125 48.390625 23.5 47.265625 \nQ 18.890625 46.140625 14.015625 43.890625 \nL 15.578125 52.203125 \nQ 20.65625 54.109375 25.515625 55.046875 \nQ 30.375 56 34.90625 56 \nQ 44.578125 56 49.625 51.796875 \nQ 54.6875 47.609375 54.6875 39.59375 \nQ 54.6875 37.984375 54.4375 35.8125 \nQ 54.203125 33.640625 53.71875 31.203125 \nz\nM 44 27.484375 \nL 35.015625 27.484375 \nQ 23.96875 27.484375 18.671875 24.53125 \nQ 13.375 21.578125 13.375 15.375 \nQ 13.375 11.078125 16.078125 8.640625 \nQ 18.796875 6.203125 23.578125 6.203125 \nQ 30.90625 6.203125 36.375 11.453125 \nQ 41.84375 16.703125 43.609375 25.484375 \nz\n\" id=\"DejaVuSans-Oblique-97\"/>\n       <path d=\"M 11.71875 12.40625 \nL 22.015625 12.40625 \nL 22.015625 4 \nL 14.015625 -11.625 \nL 7.71875 -11.625 \nL 11.71875 4 \nz\n\" id=\"DejaVuSans-44\"/>\n       <path d=\"M 49.515625 33.40625 \nQ 49.515625 40.484375 46.265625 44.484375 \nQ 43.015625 48.484375 37.3125 48.484375 \nQ 33.15625 48.484375 29.515625 46.453125 \nQ 25.875 44.4375 23.1875 40.578125 \nQ 20.359375 36.53125 18.71875 31.171875 \nQ 17.09375 25.828125 17.09375 20.515625 \nQ 17.09375 13.765625 20.28125 9.9375 \nQ 23.484375 6.109375 29.109375 6.109375 \nQ 33.34375 6.109375 36.953125 8.078125 \nQ 40.578125 10.0625 43.3125 13.921875 \nQ 46.09375 17.921875 47.796875 23.234375 \nQ 49.515625 28.5625 49.515625 33.40625 \nz\nM 21.578125 46.390625 \nQ 24.90625 50.875 29.90625 53.4375 \nQ 34.90625 56 40.375 56 \nQ 48.78125 56 53.734375 50.328125 \nQ 58.6875 44.671875 58.6875 35.015625 \nQ 58.6875 27.09375 55.78125 19.671875 \nQ 52.875 12.25 47.515625 6.5 \nQ 44 2.6875 39.40625 0.625 \nQ 34.8125 -1.421875 29.78125 -1.421875 \nQ 24.46875 -1.421875 20.5625 1.015625 \nQ 16.65625 3.46875 14.203125 8.296875 \nL 12.59375 0 \nL 3.609375 0 \nL 18.40625 75.984375 \nL 27.390625 75.984375 \nz\n\" id=\"DejaVuSans-Oblique-98\"/>\n       <path d=\"M 53.609375 52.59375 \nL 51.8125 43.703125 \nQ 48.578125 46.046875 44.9375 47.21875 \nQ 41.3125 48.390625 37.40625 48.390625 \nQ 33.109375 48.390625 29.21875 46.875 \nQ 25.34375 45.359375 22.703125 42.578125 \nQ 18.5 38.328125 16.203125 32.609375 \nQ 13.921875 26.90625 13.921875 20.796875 \nQ 13.921875 13.421875 17.609375 9.8125 \nQ 21.296875 6.203125 28.8125 6.203125 \nQ 32.515625 6.203125 36.6875 7.328125 \nQ 40.875 8.453125 45.40625 10.6875 \nL 43.703125 1.8125 \nQ 39.796875 0.203125 35.671875 -0.609375 \nQ 31.546875 -1.421875 27.203125 -1.421875 \nQ 16.3125 -1.421875 10.453125 4.015625 \nQ 4.59375 9.46875 4.59375 19.578125 \nQ 4.59375 28.078125 7.640625 35.234375 \nQ 10.6875 42.390625 16.703125 48.09375 \nQ 20.796875 52 26.3125 54 \nQ 31.84375 56 38.375 56 \nQ 42.1875 56 45.9375 55.140625 \nQ 49.703125 54.296875 53.609375 52.59375 \nz\n\" id=\"DejaVuSans-Oblique-99\"/>\n       <path d=\"M 8.015625 75.875 \nL 15.828125 75.875 \nQ 23.140625 64.359375 26.78125 53.3125 \nQ 30.421875 42.28125 30.421875 31.390625 \nQ 30.421875 20.453125 26.78125 9.375 \nQ 23.140625 -1.703125 15.828125 -13.1875 \nL 8.015625 -13.1875 \nQ 14.5 -2 17.703125 9.0625 \nQ 20.90625 20.125 20.90625 31.390625 \nQ 20.90625 42.671875 17.703125 53.65625 \nQ 14.5 64.65625 8.015625 75.875 \nz\n\" id=\"DejaVuSans-41\"/>\n      </defs>\n      <use transform=\"translate(0 0.015625)\" xlink:href=\"#DejaVuSans-Oblique-112\"/>\n      <use transform=\"translate(63.476562 0.015625)\" xlink:href=\"#DejaVuSans-40\"/>\n      <use transform=\"translate(102.490234 0.015625)\" xlink:href=\"#DejaVuSans-Oblique-120\"/>\n      <use transform=\"translate(161.669922 0.015625)\" xlink:href=\"#DejaVuSans-59\"/>\n      <use transform=\"translate(214.84375 0.015625)\" xlink:href=\"#DejaVuSans-Oblique-97\"/>\n      <use transform=\"translate(276.123047 0.015625)\" xlink:href=\"#DejaVuSans-44\"/>\n      <use transform=\"translate(327.392578 0.015625)\" xlink:href=\"#DejaVuSans-Oblique-98\"/>\n      <use transform=\"translate(390.869141 0.015625)\" xlink:href=\"#DejaVuSans-44\"/>\n      <use transform=\"translate(442.138672 0.015625)\" xlink:href=\"#DejaVuSans-Oblique-99\"/>\n      <use transform=\"translate(497.119141 0.015625)\" xlink:href=\"#DejaVuSans-41\"/>\n     </g>\n    </g>\n   </g>\n   <g id=\"line2d_15\">\n    <path clip-path=\"url(#p139ca52c1c)\" d=\"M 57.860369 106.544658 \nL 64.071872 105.173644 \nL 70.283375 103.919311 \nL 76.494878 102.781661 \nL 82.70638 101.760693 \nL 88.917883 100.856406 \nL 95.129386 100.068802 \nL 101.340889 99.39788 \nL 107.552392 98.84364 \nL 113.763894 98.406083 \nL 119.975397 98.085207 \nL 126.1869 97.881013 \nL 132.398403 97.793502 \nL 138.609905 97.822672 \nL 144.821408 97.968525 \nL 151.032911 98.23106 \nL 157.244414 98.610276 \nL 163.455917 99.106175 \nL 169.667419 99.718756 \nL 175.878922 100.448019 \nL 182.090425 101.293964 \nL 188.301928 102.256591 \nL 194.513431 103.335901 \nL 200.724933 104.531892 \nL 206.936436 105.844566 \nL 213.147939 107.273921 \nL 219.359442 108.819959 \nL 225.570944 110.482678 \nL 231.782447 112.26208 \nL 237.99395 114.158164 \nL 244.205453 116.17093 \nL 250.416956 118.300378 \nL 256.628458 120.546508 \nL 262.839961 122.909321 \nL 269.051464 125.388815 \nL 275.262967 127.984991 \nL 281.47447 130.69785 \nL 287.685972 133.52739 \nL 293.897475 136.473613 \nL 300.108978 139.536518 \nL 306.320481 142.716105 \nL 312.531983 146.012373 \nL 318.743486 149.425324 \nL 324.954989 152.954958 \nL 331.166492 156.601273 \nL 337.377995 160.36427 \nL 343.589497 164.243949 \nL 349.801 168.240311 \nL 356.012503 172.353354 \nL 362.224006 176.58308 \n\" style=\"fill:none;stroke:#00008b;stroke-linecap:square;stroke-opacity:0.2;stroke-width:1.5;\"/>\n   </g>\n   <g id=\"line2d_16\">\n    <path clip-path=\"url(#p139ca52c1c)\" d=\"M 57.860369 106.106318 \nL 64.071872 103.89656 \nL 70.283375 101.855344 \nL 76.494878 99.982669 \nL 82.70638 98.278534 \nL 88.917883 96.74294 \nL 95.129386 95.375887 \nL 101.340889 94.177375 \nL 107.552392 93.147403 \nL 113.763894 92.285973 \nL 119.975397 91.593083 \nL 126.1869 91.068734 \nL 132.398403 90.712925 \nL 138.609905 90.525658 \nL 144.821408 90.506931 \nL 151.032911 90.656745 \nL 157.244414 90.9751 \nL 163.455917 91.461996 \nL 169.667419 92.117432 \nL 175.878922 92.941409 \nL 182.090425 93.933927 \nL 188.301928 95.094986 \nL 194.513431 96.424585 \nL 200.724933 97.922726 \nL 206.936436 99.589407 \nL 213.147939 101.424629 \nL 219.359442 103.428392 \nL 225.570944 105.600695 \nL 231.782447 107.941539 \nL 237.99395 110.450925 \nL 244.205453 113.12885 \nL 250.416956 115.975317 \nL 256.628458 118.990325 \nL 262.839961 122.173873 \nL 269.051464 125.525962 \nL 275.262967 129.046592 \nL 281.47447 132.735762 \nL 287.685972 136.593474 \nL 293.897475 140.619726 \nL 300.108978 144.814519 \nL 306.320481 149.177853 \nL 312.531983 153.709727 \nL 318.743486 158.410143 \nL 324.954989 163.279099 \nL 331.166492 168.316596 \nL 337.377995 173.522633 \nL 343.589497 178.897212 \nL 349.801 184.440331 \nL 356.012503 190.151991 \nL 362.224006 196.032192 \n\" style=\"fill:none;stroke:#00008b;stroke-linecap:square;stroke-opacity:0.266667;stroke-width:1.5;\"/>\n   </g>\n   <g id=\"line2d_17\">\n    <path clip-path=\"url(#p139ca52c1c)\" d=\"M 57.860369 107.901713 \nL 64.071872 104.712042 \nL 70.283375 101.742771 \nL 76.494878 98.9939 \nL 82.70638 96.465428 \nL 88.917883 94.157355 \nL 95.129386 92.069682 \nL 101.340889 90.202409 \nL 107.552392 88.555535 \nL 113.763894 87.12906 \nL 119.975397 85.922985 \nL 126.1869 84.93731 \nL 132.398403 84.172034 \nL 138.609905 83.627157 \nL 144.821408 83.30268 \nL 151.032911 83.198603 \nL 157.244414 83.314925 \nL 163.455917 83.651646 \nL 169.667419 84.208767 \nL 175.878922 84.986287 \nL 182.090425 85.984207 \nL 188.301928 87.202527 \nL 194.513431 88.641246 \nL 200.724933 90.300364 \nL 206.936436 92.179882 \nL 213.147939 94.279799 \nL 219.359442 96.600116 \nL 225.570944 99.140833 \nL 231.782447 101.901949 \nL 237.99395 104.883464 \nL 244.205453 108.085379 \nL 250.416956 111.507693 \nL 256.628458 115.150407 \nL 262.839961 119.01352 \nL 269.051464 123.097033 \nL 275.262967 127.400946 \nL 281.47447 131.925257 \nL 287.685972 136.669969 \nL 293.897475 141.63508 \nL 300.108978 146.82059 \nL 306.320481 152.2265 \nL 312.531983 157.852809 \nL 318.743486 163.699518 \nL 324.954989 169.766626 \nL 331.166492 176.054134 \nL 337.377995 182.562041 \nL 343.589497 189.290348 \nL 349.801 196.239054 \nL 356.012503 203.40816 \nL 362.224006 210.797665 \n\" style=\"fill:none;stroke:#00008b;stroke-linecap:square;stroke-opacity:0.333333;stroke-width:1.5;\"/>\n   </g>\n   <g id=\"line2d_18\">\n    <path clip-path=\"url(#p139ca52c1c)\" d=\"M 57.860369 112.219067 \nL 64.071872 107.908312 \nL 70.283375 103.869816 \nL 76.494878 100.103577 \nL 82.70638 96.609597 \nL 88.917883 93.387875 \nL 95.129386 90.438411 \nL 101.340889 87.761206 \nL 107.552392 85.356258 \nL 113.763894 83.223569 \nL 119.975397 81.363138 \nL 126.1869 79.774965 \nL 132.398403 78.459051 \nL 138.609905 77.415394 \nL 144.821408 76.643996 \nL 151.032911 76.144856 \nL 157.244414 75.917974 \nL 163.455917 75.96335 \nL 169.667419 76.280985 \nL 175.878922 76.870878 \nL 182.090425 77.733029 \nL 188.301928 78.867438 \nL 194.513431 80.274105 \nL 200.724933 81.953031 \nL 206.936436 83.904215 \nL 213.147939 86.127657 \nL 219.359442 88.623357 \nL 225.570944 91.391315 \nL 231.782447 94.431532 \nL 237.99395 97.744006 \nL 244.205453 101.328739 \nL 250.416956 105.18573 \nL 256.628458 109.31498 \nL 262.839961 113.716487 \nL 269.051464 118.390253 \nL 275.262967 123.336277 \nL 281.47447 128.554559 \nL 287.685972 134.0451 \nL 293.897475 139.807898 \nL 300.108978 145.842955 \nL 306.320481 152.15027 \nL 312.531983 158.729843 \nL 318.743486 165.581674 \nL 324.954989 172.705764 \nL 331.166492 180.102112 \nL 337.377995 187.770718 \nL 343.589497 195.711582 \nL 349.801 203.924704 \nL 356.012503 212.410085 \nL 362.224006 221.167723 \n\" style=\"fill:none;stroke:#00008b;stroke-linecap:square;stroke-opacity:0.4;stroke-width:1.5;\"/>\n   </g>\n   <g id=\"line2d_19\">\n    <path clip-path=\"url(#p139ca52c1c)\" d=\"M 57.860369 119.346606 \nL 64.071872 113.773595 \nL 70.283375 108.524702 \nL 76.494878 103.599926 \nL 82.70638 98.999267 \nL 88.917883 94.722724 \nL 95.129386 90.770299 \nL 101.340889 87.14199 \nL 107.552392 83.837798 \nL 113.763894 80.857723 \nL 119.975397 78.201765 \nL 126.1869 75.869924 \nL 132.398403 73.8622 \nL 138.609905 72.178593 \nL 144.821408 70.819102 \nL 151.032911 69.783729 \nL 157.244414 69.072473 \nL 163.455917 68.685333 \nL 169.667419 68.62231 \nL 175.878922 68.883404 \nL 182.090425 69.468615 \nL 188.301928 70.377943 \nL 194.513431 71.611388 \nL 200.724933 73.16895 \nL 206.936436 75.050629 \nL 213.147939 77.256424 \nL 219.359442 79.786337 \nL 225.570944 82.640366 \nL 231.782447 85.818513 \nL 237.99395 89.320776 \nL 244.205453 93.147156 \nL 250.416956 97.297653 \nL 256.628458 101.772267 \nL 262.839961 106.570998 \nL 269.051464 111.693845 \nL 275.262967 117.14081 \nL 281.47447 122.911892 \nL 287.685972 129.00709 \nL 293.897475 135.426405 \nL 300.108978 142.169838 \nL 306.320481 149.237387 \nL 312.531983 156.629053 \nL 318.743486 164.344836 \nL 324.954989 172.384736 \nL 331.166492 180.748752 \nL 337.377995 189.436886 \nL 343.589497 198.449137 \nL 349.801 207.785504 \nL 356.012503 217.445988 \nL 362.224006 227.43059 \n\" style=\"fill:none;stroke:#00008b;stroke-linecap:square;stroke-opacity:0.466667;stroke-width:1.5;\"/>\n   </g>\n   <g id=\"line2d_20\">\n    <path clip-path=\"url(#p139ca52c1c)\" d=\"M 57.860369 129.572551 \nL 64.071872 122.596115 \nL 70.283375 115.995654 \nL 76.494878 109.771169 \nL 82.70638 103.92266 \nL 88.917883 98.450126 \nL 95.129386 93.353568 \nL 101.340889 88.632985 \nL 107.552392 84.288378 \nL 113.763894 80.319747 \nL 119.975397 76.727091 \nL 126.1869 73.510411 \nL 132.398403 70.669706 \nL 138.609905 68.204977 \nL 144.821408 66.116224 \nL 151.032911 64.403446 \nL 157.244414 63.066644 \nL 163.455917 62.105817 \nL 169.667419 61.520966 \nL 175.878922 61.312091 \nL 182.090425 61.479191 \nL 188.301928 62.022267 \nL 194.513431 62.941319 \nL 200.724933 64.236346 \nL 206.936436 65.907348 \nL 213.147939 67.954327 \nL 219.359442 70.377281 \nL 225.570944 73.17621 \nL 231.782447 76.351115 \nL 237.99395 79.901996 \nL 244.205453 83.828852 \nL 250.416956 88.131684 \nL 256.628458 92.810492 \nL 262.839961 97.865275 \nL 269.051464 103.296034 \nL 275.262967 109.102768 \nL 281.47447 115.285478 \nL 287.685972 121.844164 \nL 293.897475 128.778825 \nL 300.108978 136.089462 \nL 306.320481 143.776074 \nL 312.531983 151.838662 \nL 318.743486 160.277226 \nL 324.954989 169.091765 \nL 331.166492 178.28228 \nL 337.377995 187.848771 \nL 343.589497 197.791237 \nL 349.801 208.109678 \nL 356.012503 218.804096 \nL 362.224006 229.874489 \n\" style=\"fill:none;stroke:#00008b;stroke-linecap:square;stroke-opacity:0.533333;stroke-width:1.5;\"/>\n   </g>\n   <g id=\"line2d_21\">\n    <path clip-path=\"url(#p139ca52c1c)\" d=\"M 57.860369 143.185129 \nL 64.071872 134.664095 \nL 70.283375 126.570896 \nL 76.494878 118.905531 \nL 82.70638 111.668001 \nL 88.917883 104.858305 \nL 95.129386 98.476443 \nL 101.340889 92.522416 \nL 107.552392 86.996222 \nL 113.763894 81.897863 \nL 119.975397 77.227339 \nL 126.1869 72.984649 \nL 132.398403 69.169793 \nL 138.609905 65.782771 \nL 144.821408 62.823584 \nL 151.032911 60.292231 \nL 157.244414 58.188712 \nL 163.455917 56.513028 \nL 169.667419 55.265177 \nL 175.878922 54.445162 \nL 182.090425 54.05298 \nL 188.301928 54.088633 \nL 194.513431 54.55212 \nL 200.724933 55.443442 \nL 206.936436 56.762598 \nL 213.147939 58.509588 \nL 219.359442 60.684412 \nL 225.570944 63.287071 \nL 231.782447 66.317564 \nL 237.99395 69.775891 \nL 244.205453 73.662053 \nL 250.416956 77.976049 \nL 256.628458 82.717879 \nL 262.839961 87.887544 \nL 269.051464 93.485043 \nL 275.262967 99.510376 \nL 281.47447 105.963544 \nL 287.685972 112.844545 \nL 293.897475 120.153382 \nL 300.108978 127.890052 \nL 306.320481 136.054557 \nL 312.531983 144.646896 \nL 318.743486 153.667069 \nL 324.954989 163.115077 \nL 331.166492 172.990919 \nL 337.377995 183.294596 \nL 343.589497 194.026106 \nL 349.801 205.185451 \nL 356.012503 216.772631 \nL 362.224006 228.787644 \n\" style=\"fill:none;stroke:#00008b;stroke-linecap:square;stroke-opacity:0.6;stroke-width:1.5;\"/>\n   </g>\n   <g id=\"line2d_22\">\n    <path clip-path=\"url(#p139ca52c1c)\" d=\"M 57.860369 160.472562 \nL 64.071872 150.26576 \nL 70.283375 140.538652 \nL 76.494878 131.291236 \nL 82.70638 122.523514 \nL 88.917883 114.235485 \nL 95.129386 106.427148 \nL 101.340889 99.098505 \nL 107.552392 92.249555 \nL 113.763894 85.880297 \nL 119.975397 79.990733 \nL 126.1869 74.580862 \nL 132.398403 69.650684 \nL 138.609905 65.200198 \nL 144.821408 61.229406 \nL 151.032911 57.738307 \nL 157.244414 54.726901 \nL 163.455917 52.195188 \nL 169.667419 50.143168 \nL 175.878922 48.57084 \nL 182.090425 47.478206 \nL 188.301928 46.865265 \nL 194.513431 46.732017 \nL 200.724933 47.078462 \nL 206.936436 47.9046 \nL 213.147939 49.210431 \nL 219.359442 50.995955 \nL 225.570944 53.261172 \nL 231.782447 56.006082 \nL 237.99395 59.230685 \nL 244.205453 62.934981 \nL 250.416956 67.11897 \nL 256.628458 71.782653 \nL 262.839961 76.926028 \nL 269.051464 82.549096 \nL 275.262967 88.651857 \nL 281.47447 95.234311 \nL 287.685972 102.296458 \nL 293.897475 109.838299 \nL 300.108978 117.859832 \nL 306.320481 126.361058 \nL 312.531983 135.341977 \nL 318.743486 144.80259 \nL 324.954989 154.742895 \nL 331.166492 165.162893 \nL 337.377995 176.062585 \nL 343.589497 187.441969 \nL 349.801 199.301046 \nL 356.012503 211.639817 \nL 362.224006 224.45828 \n\" style=\"fill:none;stroke:#00008b;stroke-linecap:square;stroke-opacity:0.666667;stroke-width:1.5;\"/>\n   </g>\n   <g id=\"line2d_23\">\n    <path clip-path=\"url(#p139ca52c1c)\" d=\"M 57.860369 181.723074 \nL 64.071872 169.689333 \nL 70.283375 158.187145 \nL 76.494878 147.216508 \nL 82.70638 136.777423 \nL 88.917883 126.869889 \nL 95.129386 117.493907 \nL 101.340889 108.649477 \nL 107.552392 100.336599 \nL 113.763894 92.555272 \nL 119.975397 85.305498 \nL 126.1869 78.587274 \nL 132.398403 72.400603 \nL 138.609905 66.745483 \nL 144.821408 61.621915 \nL 151.032911 57.029899 \nL 157.244414 52.969434 \nL 163.455917 49.440522 \nL 169.667419 46.44316 \nL 175.878922 43.977351 \nL 182.090425 42.043093 \nL 188.301928 40.640388 \nL 194.513431 39.769233 \nL 200.724933 39.429631 \nL 206.936436 39.62158 \nL 213.147939 40.345081 \nL 219.359442 41.600134 \nL 225.570944 43.386738 \nL 231.782447 45.704894 \nL 237.99395 48.554602 \nL 244.205453 51.935862 \nL 250.416956 55.848673 \nL 256.628458 60.293036 \nL 262.839961 65.268951 \nL 269.051464 70.776417 \nL 275.262967 76.815435 \nL 281.47447 83.386005 \nL 287.685972 90.488127 \nL 293.897475 98.1218 \nL 300.108978 106.287025 \nL 306.320481 114.983802 \nL 312.531983 124.21213 \nL 318.743486 133.972011 \nL 324.954989 144.263443 \nL 331.166492 155.086426 \nL 337.377995 166.440962 \nL 343.589497 178.327049 \nL 349.801 190.744688 \nL 356.012503 203.693878 \nL 362.224006 217.174621 \n\" style=\"fill:none;stroke:#00008b;stroke-linecap:square;stroke-opacity:0.733333;stroke-width:1.5;\"/>\n   </g>\n   <g id=\"line2d_24\">\n    <path clip-path=\"url(#p139ca52c1c)\" d=\"M 57.860369 207.224889 \nL 64.071872 193.223039 \nL 70.283375 179.804599 \nL 76.494878 166.96957 \nL 82.70638 154.717951 \nL 88.917883 143.049742 \nL 95.129386 131.964944 \nL 101.340889 121.463557 \nL 107.552392 111.545579 \nL 113.763894 102.211013 \nL 119.975397 93.459856 \nL 126.1869 85.29211 \nL 132.398403 77.707775 \nL 138.609905 70.70685 \nL 144.821408 64.289335 \nL 151.032911 58.455231 \nL 157.244414 53.204537 \nL 163.455917 48.537253 \nL 169.667419 44.45338 \nL 175.878922 40.952918 \nL 182.090425 38.035866 \nL 188.301928 35.702224 \nL 194.513431 33.951993 \nL 200.724933 32.785172 \nL 206.936436 32.201761 \nL 213.147939 32.201761 \nL 219.359442 32.785172 \nL 225.570944 33.951993 \nL 231.782447 35.702224 \nL 237.99395 38.035866 \nL 244.205453 40.952918 \nL 250.416956 44.45338 \nL 256.628458 48.537253 \nL 262.839961 53.204537 \nL 269.051464 58.455231 \nL 275.262967 64.289335 \nL 281.47447 70.70685 \nL 287.685972 77.707775 \nL 293.897475 85.29211 \nL 300.108978 93.459856 \nL 306.320481 102.211013 \nL 312.531983 111.545579 \nL 318.743486 121.463557 \nL 324.954989 131.964944 \nL 331.166492 143.049742 \nL 337.377995 154.717951 \nL 343.589497 166.96957 \nL 349.801 179.804599 \nL 356.012503 193.223039 \nL 362.224006 207.224889 \n\" style=\"fill:none;stroke:#00008b;stroke-linecap:square;stroke-opacity:0.8;stroke-width:1.5;\"/>\n   </g>\n   <g id=\"patch_3\">\n    <path d=\"M 42.642188 239.758125 \nL 42.642188 22.318125 \n\" style=\"fill:none;stroke:#000000;stroke-linecap:square;stroke-linejoin:miter;stroke-width:0.8;\"/>\n   </g>\n   <g id=\"patch_4\">\n    <path d=\"M 377.442187 239.758125 \nL 377.442187 22.318125 \n\" style=\"fill:none;stroke:#000000;stroke-linecap:square;stroke-linejoin:miter;stroke-width:0.8;\"/>\n   </g>\n   <g id=\"patch_5\">\n    <path d=\"M 42.642188 239.758125 \nL 377.442187 239.758125 \n\" style=\"fill:none;stroke:#000000;stroke-linecap:square;stroke-linejoin:miter;stroke-width:0.8;\"/>\n   </g>\n   <g id=\"patch_6\">\n    <path d=\"M 42.642188 22.318125 \nL 377.442187 22.318125 \n\" style=\"fill:none;stroke:#000000;stroke-linecap:square;stroke-linejoin:miter;stroke-width:0.8;\"/>\n   </g>\n   <g id=\"text_17\">\n    <!-- Quadratic functions -->\n    <g transform=\"translate(151.0275 16.318125)scale(0.12 -0.12)\">\n     <defs>\n      <path d=\"M 39.40625 66.21875 \nQ 28.65625 66.21875 22.328125 58.203125 \nQ 16.015625 50.203125 16.015625 36.375 \nQ 16.015625 22.609375 22.328125 14.59375 \nQ 28.65625 6.59375 39.40625 6.59375 \nQ 50.140625 6.59375 56.421875 14.59375 \nQ 62.703125 22.609375 62.703125 36.375 \nQ 62.703125 50.203125 56.421875 58.203125 \nQ 50.140625 66.21875 39.40625 66.21875 \nz\nM 53.21875 1.3125 \nL 66.21875 -12.890625 \nL 54.296875 -12.890625 \nL 43.5 -1.21875 \nQ 41.890625 -1.3125 41.03125 -1.359375 \nQ 40.1875 -1.421875 39.40625 -1.421875 \nQ 24.03125 -1.421875 14.8125 8.859375 \nQ 5.609375 19.140625 5.609375 36.375 \nQ 5.609375 53.65625 14.8125 63.9375 \nQ 24.03125 74.21875 39.40625 74.21875 \nQ 54.734375 74.21875 63.90625 63.9375 \nQ 73.09375 53.65625 73.09375 36.375 \nQ 73.09375 23.6875 67.984375 14.640625 \nQ 62.890625 5.609375 53.21875 1.3125 \nz\n\" id=\"DejaVuSans-81\"/>\n      <path d=\"M 8.5 21.578125 \nL 8.5 54.6875 \nL 17.484375 54.6875 \nL 17.484375 21.921875 \nQ 17.484375 14.15625 20.5 10.265625 \nQ 23.53125 6.390625 29.59375 6.390625 \nQ 36.859375 6.390625 41.078125 11.03125 \nQ 45.3125 15.671875 45.3125 23.6875 \nL 45.3125 54.6875 \nL 54.296875 54.6875 \nL 54.296875 0 \nL 45.3125 0 \nL 45.3125 8.40625 \nQ 42.046875 3.421875 37.71875 1 \nQ 33.40625 -1.421875 27.6875 -1.421875 \nQ 18.265625 -1.421875 13.375 4.4375 \nQ 8.5 10.296875 8.5 21.578125 \nz\nM 31.109375 56 \nz\n\" id=\"DejaVuSans-117\"/>\n      <path d=\"M 34.28125 27.484375 \nQ 23.390625 27.484375 19.1875 25 \nQ 14.984375 22.515625 14.984375 16.5 \nQ 14.984375 11.71875 18.140625 8.90625 \nQ 21.296875 6.109375 26.703125 6.109375 \nQ 34.1875 6.109375 38.703125 11.40625 \nQ 43.21875 16.703125 43.21875 25.484375 \nL 43.21875 27.484375 \nz\nM 52.203125 31.203125 \nL 52.203125 0 \nL 43.21875 0 \nL 43.21875 8.296875 \nQ 40.140625 3.328125 35.546875 0.953125 \nQ 30.953125 -1.421875 24.3125 -1.421875 \nQ 15.921875 -1.421875 10.953125 3.296875 \nQ 6 8.015625 6 15.921875 \nQ 6 25.140625 12.171875 29.828125 \nQ 18.359375 34.515625 30.609375 34.515625 \nL 43.21875 34.515625 \nL 43.21875 35.40625 \nQ 43.21875 41.609375 39.140625 45 \nQ 35.0625 48.390625 27.6875 48.390625 \nQ 23 48.390625 18.546875 47.265625 \nQ 14.109375 46.140625 10.015625 43.890625 \nL 10.015625 52.203125 \nQ 14.9375 54.109375 19.578125 55.046875 \nQ 24.21875 56 28.609375 56 \nQ 40.484375 56 46.34375 49.84375 \nQ 52.203125 43.703125 52.203125 31.203125 \nz\n\" id=\"DejaVuSans-97\"/>\n      <path d=\"M 45.40625 46.390625 \nL 45.40625 75.984375 \nL 54.390625 75.984375 \nL 54.390625 0 \nL 45.40625 0 \nL 45.40625 8.203125 \nQ 42.578125 3.328125 38.25 0.953125 \nQ 33.9375 -1.421875 27.875 -1.421875 \nQ 17.96875 -1.421875 11.734375 6.484375 \nQ 5.515625 14.40625 5.515625 27.296875 \nQ 5.515625 40.1875 11.734375 48.09375 \nQ 17.96875 56 27.875 56 \nQ 33.9375 56 38.25 53.625 \nQ 42.578125 51.265625 45.40625 46.390625 \nz\nM 14.796875 27.296875 \nQ 14.796875 17.390625 18.875 11.75 \nQ 22.953125 6.109375 30.078125 6.109375 \nQ 37.203125 6.109375 41.296875 11.75 \nQ 45.40625 17.390625 45.40625 27.296875 \nQ 45.40625 37.203125 41.296875 42.84375 \nQ 37.203125 48.484375 30.078125 48.484375 \nQ 22.953125 48.484375 18.875 42.84375 \nQ 14.796875 37.203125 14.796875 27.296875 \nz\n\" id=\"DejaVuSans-100\"/>\n      <path d=\"M 41.109375 46.296875 \nQ 39.59375 47.171875 37.8125 47.578125 \nQ 36.03125 48 33.890625 48 \nQ 26.265625 48 22.1875 43.046875 \nQ 18.109375 38.09375 18.109375 28.8125 \nL 18.109375 0 \nL 9.078125 0 \nL 9.078125 54.6875 \nL 18.109375 54.6875 \nL 18.109375 46.1875 \nQ 20.953125 51.171875 25.484375 53.578125 \nQ 30.03125 56 36.53125 56 \nQ 37.453125 56 38.578125 55.875 \nQ 39.703125 55.765625 41.0625 55.515625 \nz\n\" id=\"DejaVuSans-114\"/>\n      <path d=\"M 18.3125 70.21875 \nL 18.3125 54.6875 \nL 36.8125 54.6875 \nL 36.8125 47.703125 \nL 18.3125 47.703125 \nL 18.3125 18.015625 \nQ 18.3125 11.328125 20.140625 9.421875 \nQ 21.96875 7.515625 27.59375 7.515625 \nL 36.8125 7.515625 \nL 36.8125 0 \nL 27.59375 0 \nQ 17.1875 0 13.234375 3.875 \nQ 9.28125 7.765625 9.28125 18.015625 \nL 9.28125 47.703125 \nL 2.6875 47.703125 \nL 2.6875 54.6875 \nL 9.28125 54.6875 \nL 9.28125 70.21875 \nz\n\" id=\"DejaVuSans-116\"/>\n      <path d=\"M 9.421875 54.6875 \nL 18.40625 54.6875 \nL 18.40625 0 \nL 9.421875 0 \nz\nM 9.421875 75.984375 \nL 18.40625 75.984375 \nL 18.40625 64.59375 \nL 9.421875 64.59375 \nz\n\" id=\"DejaVuSans-105\"/>\n      <path d=\"M 48.78125 52.59375 \nL 48.78125 44.1875 \nQ 44.96875 46.296875 41.140625 47.34375 \nQ 37.3125 48.390625 33.40625 48.390625 \nQ 24.65625 48.390625 19.8125 42.84375 \nQ 14.984375 37.3125 14.984375 27.296875 \nQ 14.984375 17.28125 19.8125 11.734375 \nQ 24.65625 6.203125 33.40625 6.203125 \nQ 37.3125 6.203125 41.140625 7.25 \nQ 44.96875 8.296875 48.78125 10.40625 \nL 48.78125 2.09375 \nQ 45.015625 0.34375 40.984375 -0.53125 \nQ 36.96875 -1.421875 32.421875 -1.421875 \nQ 20.0625 -1.421875 12.78125 6.34375 \nQ 5.515625 14.109375 5.515625 27.296875 \nQ 5.515625 40.671875 12.859375 48.328125 \nQ 20.21875 56 33.015625 56 \nQ 37.15625 56 41.109375 55.140625 \nQ 45.0625 54.296875 48.78125 52.59375 \nz\n\" id=\"DejaVuSans-99\"/>\n      <path id=\"DejaVuSans-32\"/>\n      <path d=\"M 37.109375 75.984375 \nL 37.109375 68.5 \nL 28.515625 68.5 \nQ 23.6875 68.5 21.796875 66.546875 \nQ 19.921875 64.59375 19.921875 59.515625 \nL 19.921875 54.6875 \nL 34.71875 54.6875 \nL 34.71875 47.703125 \nL 19.921875 47.703125 \nL 19.921875 0 \nL 10.890625 0 \nL 10.890625 47.703125 \nL 2.296875 47.703125 \nL 2.296875 54.6875 \nL 10.890625 54.6875 \nL 10.890625 58.5 \nQ 10.890625 67.625 15.140625 71.796875 \nQ 19.390625 75.984375 28.609375 75.984375 \nz\n\" id=\"DejaVuSans-102\"/>\n      <path d=\"M 54.890625 33.015625 \nL 54.890625 0 \nL 45.90625 0 \nL 45.90625 32.71875 \nQ 45.90625 40.484375 42.875 44.328125 \nQ 39.84375 48.1875 33.796875 48.1875 \nQ 26.515625 48.1875 22.3125 43.546875 \nQ 18.109375 38.921875 18.109375 30.90625 \nL 18.109375 0 \nL 9.078125 0 \nL 9.078125 54.6875 \nL 18.109375 54.6875 \nL 18.109375 46.1875 \nQ 21.34375 51.125 25.703125 53.5625 \nQ 30.078125 56 35.796875 56 \nQ 45.21875 56 50.046875 50.171875 \nQ 54.890625 44.34375 54.890625 33.015625 \nz\n\" id=\"DejaVuSans-110\"/>\n      <path d=\"M 30.609375 48.390625 \nQ 23.390625 48.390625 19.1875 42.75 \nQ 14.984375 37.109375 14.984375 27.296875 \nQ 14.984375 17.484375 19.15625 11.84375 \nQ 23.34375 6.203125 30.609375 6.203125 \nQ 37.796875 6.203125 41.984375 11.859375 \nQ 46.1875 17.53125 46.1875 27.296875 \nQ 46.1875 37.015625 41.984375 42.703125 \nQ 37.796875 48.390625 30.609375 48.390625 \nz\nM 30.609375 56 \nQ 42.328125 56 49.015625 48.375 \nQ 55.71875 40.765625 55.71875 27.296875 \nQ 55.71875 13.875 49.015625 6.21875 \nQ 42.328125 -1.421875 30.609375 -1.421875 \nQ 18.84375 -1.421875 12.171875 6.21875 \nQ 5.515625 13.875 5.515625 27.296875 \nQ 5.515625 40.765625 12.171875 48.375 \nQ 18.84375 56 30.609375 56 \nz\n\" id=\"DejaVuSans-111\"/>\n      <path d=\"M 44.28125 53.078125 \nL 44.28125 44.578125 \nQ 40.484375 46.53125 36.375 47.5 \nQ 32.28125 48.484375 27.875 48.484375 \nQ 21.1875 48.484375 17.84375 46.4375 \nQ 14.5 44.390625 14.5 40.28125 \nQ 14.5 37.15625 16.890625 35.375 \nQ 19.28125 33.59375 26.515625 31.984375 \nL 29.59375 31.296875 \nQ 39.15625 29.25 43.1875 25.515625 \nQ 47.21875 21.78125 47.21875 15.09375 \nQ 47.21875 7.46875 41.1875 3.015625 \nQ 35.15625 -1.421875 24.609375 -1.421875 \nQ 20.21875 -1.421875 15.453125 -0.5625 \nQ 10.6875 0.296875 5.421875 2 \nL 5.421875 11.28125 \nQ 10.40625 8.6875 15.234375 7.390625 \nQ 20.0625 6.109375 24.8125 6.109375 \nQ 31.15625 6.109375 34.5625 8.28125 \nQ 37.984375 10.453125 37.984375 14.40625 \nQ 37.984375 18.0625 35.515625 20.015625 \nQ 33.0625 21.96875 24.703125 23.78125 \nL 21.578125 24.515625 \nQ 13.234375 26.265625 9.515625 29.90625 \nQ 5.8125 33.546875 5.8125 39.890625 \nQ 5.8125 47.609375 11.28125 51.796875 \nQ 16.75 56 26.8125 56 \nQ 31.78125 56 36.171875 55.265625 \nQ 40.578125 54.546875 44.28125 53.078125 \nz\n\" id=\"DejaVuSans-115\"/>\n     </defs>\n     <use xlink:href=\"#DejaVuSans-81\"/>\n     <use x=\"78.710938\" xlink:href=\"#DejaVuSans-117\"/>\n     <use x=\"142.089844\" xlink:href=\"#DejaVuSans-97\"/>\n     <use x=\"203.369141\" xlink:href=\"#DejaVuSans-100\"/>\n     <use x=\"266.845703\" xlink:href=\"#DejaVuSans-114\"/>\n     <use x=\"307.958984\" xlink:href=\"#DejaVuSans-97\"/>\n     <use x=\"369.238281\" xlink:href=\"#DejaVuSans-116\"/>\n     <use x=\"408.447266\" xlink:href=\"#DejaVuSans-105\"/>\n     <use x=\"436.230469\" xlink:href=\"#DejaVuSans-99\"/>\n     <use x=\"491.210938\" xlink:href=\"#DejaVuSans-32\"/>\n     <use x=\"522.998047\" xlink:href=\"#DejaVuSans-102\"/>\n     <use x=\"558.203125\" xlink:href=\"#DejaVuSans-117\"/>\n     <use x=\"621.582031\" xlink:href=\"#DejaVuSans-110\"/>\n     <use x=\"684.960938\" xlink:href=\"#DejaVuSans-99\"/>\n     <use x=\"739.941406\" xlink:href=\"#DejaVuSans-116\"/>\n     <use x=\"779.150391\" xlink:href=\"#DejaVuSans-105\"/>\n     <use x=\"806.933594\" xlink:href=\"#DejaVuSans-111\"/>\n     <use x=\"868.115234\" xlink:href=\"#DejaVuSans-110\"/>\n     <use x=\"931.494141\" xlink:href=\"#DejaVuSans-115\"/>\n    </g>\n   </g>\n   <g id=\"legend_1\">\n    <g id=\"patch_7\">\n     <path d=\"M 289.170312 44.99625 \nL 370.442187 44.99625 \nQ 372.442187 44.99625 372.442187 42.99625 \nL 372.442187 29.318125 \nQ 372.442187 27.318125 370.442187 27.318125 \nL 289.170312 27.318125 \nQ 287.170312 27.318125 287.170312 29.318125 \nL 287.170312 42.99625 \nQ 287.170312 44.99625 289.170312 44.99625 \nz\n\" style=\"fill:#ffffff;opacity:0.8;stroke:#cccccc;stroke-linejoin:miter;\"/>\n    </g>\n    <g id=\"PathCollection_2\">\n     <g>\n      <use style=\"stroke:#000000;\" x=\"301.170312\" xlink:href=\"#me48c5ea41e\" y=\"36.291562\"/>\n     </g>\n    </g>\n    <g id=\"text_18\">\n     <!-- Maximum -->\n     <g transform=\"translate(319.170312 38.916562)scale(0.1 -0.1)\">\n      <defs>\n       <path d=\"M 9.8125 72.90625 \nL 24.515625 72.90625 \nL 43.109375 23.296875 \nL 61.8125 72.90625 \nL 76.515625 72.90625 \nL 76.515625 0 \nL 66.890625 0 \nL 66.890625 64.015625 \nL 48.09375 14.015625 \nL 38.1875 14.015625 \nL 19.390625 64.015625 \nL 19.390625 0 \nL 9.8125 0 \nz\n\" id=\"DejaVuSans-77\"/>\n       <path d=\"M 54.890625 54.6875 \nL 35.109375 28.078125 \nL 55.90625 0 \nL 45.3125 0 \nL 29.390625 21.484375 \nL 13.484375 0 \nL 2.875 0 \nL 24.125 28.609375 \nL 4.6875 54.6875 \nL 15.28125 54.6875 \nL 29.78125 35.203125 \nL 44.28125 54.6875 \nz\n\" id=\"DejaVuSans-120\"/>\n       <path d=\"M 52 44.1875 \nQ 55.375 50.25 60.0625 53.125 \nQ 64.75 56 71.09375 56 \nQ 79.640625 56 84.28125 50.015625 \nQ 88.921875 44.046875 88.921875 33.015625 \nL 88.921875 0 \nL 79.890625 0 \nL 79.890625 32.71875 \nQ 79.890625 40.578125 77.09375 44.375 \nQ 74.3125 48.1875 68.609375 48.1875 \nQ 61.625 48.1875 57.5625 43.546875 \nQ 53.515625 38.921875 53.515625 30.90625 \nL 53.515625 0 \nL 44.484375 0 \nL 44.484375 32.71875 \nQ 44.484375 40.625 41.703125 44.40625 \nQ 38.921875 48.1875 33.109375 48.1875 \nQ 26.21875 48.1875 22.15625 43.53125 \nQ 18.109375 38.875 18.109375 30.90625 \nL 18.109375 0 \nL 9.078125 0 \nL 9.078125 54.6875 \nL 18.109375 54.6875 \nL 18.109375 46.1875 \nQ 21.1875 51.21875 25.484375 53.609375 \nQ 29.78125 56 35.6875 56 \nQ 41.65625 56 45.828125 52.96875 \nQ 50 49.953125 52 44.1875 \nz\n\" id=\"DejaVuSans-109\"/>\n      </defs>\n      <use xlink:href=\"#DejaVuSans-77\"/>\n      <use x=\"86.279297\" xlink:href=\"#DejaVuSans-97\"/>\n      <use x=\"147.558594\" xlink:href=\"#DejaVuSans-120\"/>\n      <use x=\"206.738281\" xlink:href=\"#DejaVuSans-105\"/>\n      <use x=\"234.521484\" xlink:href=\"#DejaVuSans-109\"/>\n      <use x=\"331.933594\" xlink:href=\"#DejaVuSans-117\"/>\n      <use x=\"395.3125\" xlink:href=\"#DejaVuSans-109\"/>\n     </g>\n    </g>\n   </g>\n  </g>\n </g>\n <defs>\n  <clipPath id=\"p139ca52c1c\">\n   <rect height=\"217.44\" width=\"334.8\" x=\"42.642188\" y=\"22.318125\"/>\n  </clipPath>\n </defs>\n</svg>\n",
      "image/png": "[encoded data removed]"
     },
     "metadata": {
      "needs_background": "light"
     }
    }
   ],
   "source": [
    "# Recreate original plot from above\n",
    "plot_quad(xgrid, pvalues)\n",
    "\n",
    "# Plot maxima on top of previous graph\n",
    "ix = np.arange(m)\n",
    "plt.scatter(xgrid[ipmax], pvalues[ix,ipmax], c='black', label='Maximum')\n",
    "plt.legend()"
   ]
  },
  {
   "cell_type": "markdown",
   "metadata": {},
   "source": [
    "### Vectorised version\n",
    "\n",
    "The vectorised version simply uses NumPy's `np.argmax()` function. We need to\n",
    "pass the argument `axis = 1` as the maximum should be computed across all columns\n",
    "for any given row."
   ]
  },
  {
   "cell_type": "code",
   "execution_count": 118,
   "metadata": {},
   "outputs": [
    {
     "output_type": "execute_result",
     "data": {
      "text/plain": [
       "array([12, 14, 15, 16, 18, 19, 20, 22, 23, 24])"
      ]
     },
     "metadata": {},
     "execution_count": 118
    }
   ],
   "source": [
    "# Find row maxima using np.argmax()\n",
    "\n",
    "ipmax2 = np.argmax(pvalues, axis=1)\n",
    "ipmax2"
   ]
  },
  {
   "cell_type": "markdown",
   "metadata": {},
   "source": [
    "We verify that the results of our and NumPy's implementation are \n",
    "identical. Since the values here are integers, we can directly\n",
    "compare them using `==`. "
   ]
  },
  {
   "cell_type": "code",
   "execution_count": 119,
   "metadata": {},
   "outputs": [
    {
     "output_type": "execute_result",
     "data": {
      "text/plain": [
       "True"
      ]
     },
     "metadata": {},
     "execution_count": 119
    }
   ],
   "source": [
    "# Check that these are the same as what we computed above\n",
    "np.all(ipmax == ipmax2)"
   ]
  },
  {
   "cell_type": "markdown",
   "metadata": {},
   "source": [
    "Finally, we benchmark both implementations using `%timeit`. The NumPy version is approximately\n",
    "100 times faster!"
   ]
  },
  {
   "cell_type": "code",
   "execution_count": 120,
   "metadata": {},
   "outputs": [
    {
     "output_type": "stream",
     "name": "stdout",
     "text": [
      "131 µs ± 2.88 µs per loop (mean ± std. dev. of 7 runs, 10000 loops each)\n"
     ]
    }
   ],
   "source": [
    "# Time our manual implementation\n",
    "%timeit find_max(pvalues)"
   ]
  },
  {
   "cell_type": "code",
   "execution_count": 121,
   "metadata": {},
   "outputs": [
    {
     "output_type": "stream",
     "name": "stdout",
     "text": [
      "1.48 µs ± 13.4 ns per loop (mean ± std. dev. of 7 runs, 1000000 loops each)\n"
     ]
    }
   ],
   "source": [
    "# Time NumPy's implementation\n",
    "%timeit np.argmax(pvalues, axis=1)"
   ]
  }
 ],
 "metadata": {
  "kernelspec": {
   "display_name": "PyCharm (python-statistics)",
   "language": "python",
   "name": "pycharm-b08fdce2"
  },
  "language_info": {
   "codemirror_mode": {
    "name": "ipython",
    "version": 3
   },
   "file_extension": ".py",
   "mimetype": "text/x-python",
   "name": "python",
   "nbconvert_exporter": "python",
   "pygments_lexer": "ipython3",
   "version": "3.8.5-final"
  }
 },
 "nbformat": 4,
 "nbformat_minor": 1
}