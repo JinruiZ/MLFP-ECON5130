{
 "cells": [
  {
   "cell_type": "markdown",
   "metadata": {
    "collapsed": true,
    "pycharm": {
     "name": "#%% md\n"
    }
   },
   "source": [
    "# Reusing code - Functions, modules and packages\n",
    "\n",
    "In this unit, we show how to build reusable code with functions.\n",
    "We will also briefly discuss modules and packages.\n",
    "\n",
    "## Functions\n",
    "\n",
    "Functions are used to implement code that performs a narrowly\n",
    "defined task. We use functions for two reasons:\n",
    "\n",
    "1.  A function can be called repeatedly without having to\n",
    "    write code again and again.\n",
    "2.  Even if a function is not called frequently, functions\n",
    "    allow us to write code that is \"shielded\" from other code\n",
    "    we write and is called via a clean interface.\n",
    "    This helps to write more robust and error-free code.\n",
    "\n",
    "Functions are defined using the `def` keyword, and the function\n",
    "body needs to be an indented block:"
   ]
  },
  {
   "cell_type": "code",
   "execution_count": 1,
   "metadata": {
    "pycharm": {
     "name": "#%%\n"
    }
   },
   "outputs": [
    {
     "output_type": "stream",
     "name": "stdout",
     "text": [
      "func called\n"
     ]
    }
   ],
   "source": [
    "def func():\n",
    "    print('func called')\n",
    "\n",
    "# invoke func without arguments\n",
    "func()"
   ]
  },
  {
   "cell_type": "markdown",
   "metadata": {
    "pycharm": {
     "name": "#%% md\n"
    }
   },
   "source": [
    "### Arguments\n",
    "Functions can have an arbitrary number of positional arguments\n",
    "(also called parameters)."
   ]
  },
  {
   "cell_type": "code",
   "execution_count": 2,
   "metadata": {
    "pycharm": {
     "name": "#%%\n"
    }
   },
   "outputs": [
    {
     "output_type": "stream",
     "name": "stdout",
     "text": [
      "func called with argument 1\nfunc called with argument foo\n"
     ]
    }
   ],
   "source": [
    "# Define func to accept argument x\n",
    "def func(x):\n",
    "    print(f'func called with argument {x}')\n",
    "\n",
    "# call function with various arguments.\n",
    "func(1)\n",
    "func('foo')"
   ]
  },
  {
   "cell_type": "markdown",
   "metadata": {
    "pycharm": {
     "name": "#%% md\n"
    }
   },
   "source": [
    "### Return values\n",
    "Functions can also return values to their caller using\n",
    "the `return` statement."
   ]
  },
  {
   "cell_type": "code",
   "execution_count": 3,
   "metadata": {
    "pycharm": {
     "name": "#%%\n"
    }
   },
   "outputs": [
    {
     "output_type": "stream",
     "name": "stdout",
     "text": [
      "2.0\n"
     ]
    }
   ],
   "source": [
    "def func(x):\n",
    "    return x * 2.0\n",
    "\n",
    "result = func(1.0)\n",
    "print(result)       # prints 2.0"
   ]
  },
  {
   "cell_type": "markdown",
   "metadata": {
    "pycharm": {
     "name": "#%% md\n"
    }
   },
   "source": [
    "A `return` statement without any argument immediately exits the functions.\n",
    "The default return value is the special type `None`.\n",
    "\n",
    "A function can return multiple values which are then automatically collected\n",
    "into a tuple:"
   ]
  },
  {
   "cell_type": "code",
   "execution_count": 4,
   "metadata": {
    "pycharm": {
     "name": "#%%\n"
    }
   },
   "outputs": [
    {
     "output_type": "execute_result",
     "data": {
      "text/plain": [
       "tuple"
      ]
     },
     "metadata": {},
     "execution_count": 4
    }
   ],
   "source": [
    "def func():\n",
    "    return 1, 2, 3\n",
    "\n",
    "values = func()         # call func(), get tuple of values\n",
    "type(values)"
   ]
  },
  {
   "cell_type": "markdown",
   "metadata": {
    "pycharm": {
     "name": "#%% md\n"
    }
   },
   "source": [
    "Python supports \"unpacking\" of tuples, lists, etc.\n",
    "We can use this to directly assign names to multiple return values:"
   ]
  },
  {
   "cell_type": "code",
   "execution_count": 5,
   "metadata": {
    "pycharm": {
     "name": "#%%\n"
    }
   },
   "outputs": [
    {
     "output_type": "stream",
     "name": "stdout",
     "text": [
      "Value 1: a, Value 2: b, Value 3: c\n"
     ]
    }
   ],
   "source": [
    "def func():\n",
    "    return 'a', 'b', 'c'\n",
    "\n",
    "value1, value2, value3 = func()     # call func(), unpack return values\n",
    "print(f'Value 1: {value1}, Value 2: {value2}, Value 3: {value3}')"
   ]
  },
  {
   "cell_type": "markdown",
   "metadata": {
    "pycharm": {
     "name": "#%% md\n"
    }
   },
   "source": [
    "### Accessing data from outside scope\n",
    "A function need not have arguments or a return value, but that limits its usefulness\n",
    "somewhat. However, a function can access outside data:"
   ]
  },
  {
   "cell_type": "code",
   "execution_count": 6,
   "metadata": {
    "pycharm": {
     "name": "#%%\n"
    }
   },
   "outputs": [
    {
     "output_type": "stream",
     "name": "stdout",
     "text": [
      "func accessing x from outer scope: x = 1.0\n"
     ]
    }
   ],
   "source": [
    "x = 1.0\n",
    "def func():\n",
    "    # Read x from outer scope\n",
    "    print(f'func accessing x from outer scope: x = {x}')\n",
    "\n",
    "# prints value of x from within func()\n",
    "func()"
   ]
  },
  {
   "cell_type": "markdown",
   "metadata": {
    "pycharm": {
     "name": "#%% md\n"
    }
   },
   "source": [
    "We can write functions without any arguments\n",
    "that only operate on outside data. However, this is terrible programming\n",
    "practice and should be avoided in most cases.\n",
    "\n",
    "Because functions can operate on external data,\n",
    "they are not analogous to mathematical functions. If we write\n",
    "$f(x)$, we usually mean that $f$ is a function of $x$ only\n",
    "(and possibly some constant parameters).\n",
    "By definition we must have\n",
    "\n",
    "$$x_1 = x_2 \\Longrightarrow f(x_1) = f(x_2),$$\n",
    "\n",
    "i.e. a function always returns the same value when\n",
    "called with the same parameters.\n",
    "However, this is not the case in Python or most other programming\n",
    "languages:"
   ]
  },
  {
   "cell_type": "code",
   "execution_count": 7,
   "metadata": {
    "pycharm": {
     "name": "#%%\n"
    }
   },
   "outputs": [
    {
     "output_type": "stream",
     "name": "stdout",
     "text": [
      "1.0\n2.0\n"
     ]
    }
   ],
   "source": [
    "a = 1.0\n",
    "def func(x):\n",
    "    return a*x\n",
    "\n",
    "x = 1.0\n",
    "print(func(x))      # prints 1.0\n",
    "\n",
    "a = 2.0\n",
    "print(func(x))      # x unchanged, but prints 2.0"
   ]
  },
  {
   "cell_type": "markdown",
   "metadata": {
    "pycharm": {
     "name": "#%% md\n"
    }
   },
   "source": [
    "### More on arguments\n",
    "\n",
    "**Default arguments**\n",
    "\n",
    "Python offers an extremely convenient way to specify default values\n",
    "for arguments, so these need not be passed when the function is called:"
   ]
  },
  {
   "cell_type": "code",
   "execution_count": 8,
   "metadata": {
    "pycharm": {
     "name": "#%%\n"
    }
   },
   "outputs": [
    {
     "output_type": "stream",
     "name": "stdout",
     "text": [
      "2.0\n2.0\n6.0\n"
     ]
    }
   ],
   "source": [
    "# define function with a default value for argument alpha\n",
    "def func(x, alpha=1.0):\n",
    "    return x * alpha\n",
    "\n",
    "print(func(2.0))        # uses default value for alpha\n",
    "print(func(2.0, 1.0))   # explicitly specified optional argument\n",
    "print(func(2.0, 3.0))   # use some other value for alpha"
   ]
  },
  {
   "cell_type": "markdown",
   "metadata": {
    "pycharm": {
     "name": "#%% md\n"
    }
   },
   "source": [
    "**Arbitrary number of optional arguments**\n",
    "\n",
    "Python supports functions which accept an arbitrary number of positional\n",
    "and keyword arguments. This is accomplished via two special\n",
    "tokens that need to be placed at the end of the argument list:\n",
    "\n",
    "-   `*args`: collects any number of \"excess\" *positional arguments* and packs\n",
    "    them into a tuple.\n",
    "-   `**kwargs`: collects any number of \"excess\" *keyword arguments* and packs them\n",
    "    into a dictionary.\n",
    "\n",
    "*Examples:*"
   ]
  },
  {
   "cell_type": "code",
   "execution_count": 9,
   "metadata": {
    "pycharm": {
     "name": "#%%\n"
    }
   },
   "outputs": [],
   "source": [
    "# Define function with mandatory, optional, optional positional\n",
    "# and optional keyword arguments\n",
    "\n",
    "def func(x, opt='default',  *args, **kwargs):\n",
    "    print(f'Required argument x: {x}')\n",
    "    print(f'Optional argument opt: {opt}')\n",
    "    if args:\n",
    "        # if the tuple 'args' is non-empty, print its contents\n",
    "        print('Optional positional arguments:')\n",
    "        for arg in args:\n",
    "            print(f'  {arg}')\n",
    "    if kwargs:\n",
    "        # if the dictionary 'kwargs' is non-empty, print its contents\n",
    "        print('Optional keyword arguments:')\n",
    "        for key, value in kwargs.items():\n",
    "            print(f'  {key}: {value}')"
   ]
  },
  {
   "cell_type": "code",
   "execution_count": 10,
   "metadata": {
    "pycharm": {
     "name": "#%%\n"
    }
   },
   "outputs": [
    {
     "output_type": "stream",
     "name": "stdout",
     "text": [
      "Required argument x: 0\nOptional argument opt: default\n"
     ]
    }
   ],
   "source": [
    "# Call only with required argument\n",
    "func(0)"
   ]
  },
  {
   "cell_type": "code",
   "execution_count": 11,
   "metadata": {
    "pycharm": {
     "name": "#%%\n"
    }
   },
   "outputs": [
    {
     "output_type": "stream",
     "name": "stdout",
     "text": [
      "Required argument x: 0\nOptional argument opt: optional\n"
     ]
    }
   ],
   "source": [
    "# Call with required and optional arguments\n",
    "func(0, 'optional')"
   ]
  },
  {
   "cell_type": "code",
   "execution_count": 12,
   "metadata": {
    "pycharm": {
     "name": "#%%\n"
    }
   },
   "outputs": [
    {
     "output_type": "stream",
     "name": "stdout",
     "text": [
      "Required argument x: 0\nOptional argument opt: optional\nOptional positional arguments:\n  1\n  2\n  3\n"
     ]
    }
   ],
   "source": [
    "# Call with required and optional arguments, and\n",
    "# optional positional arguments\n",
    "func(0, 'optional', 1, 2, 3)"
   ]
  },
  {
   "cell_type": "code",
   "execution_count": 13,
   "metadata": {
    "pycharm": {
     "name": "#%%\n"
    }
   },
   "outputs": [
    {
     "output_type": "stream",
     "name": "stdout",
     "text": [
      "Required argument x: 0\nOptional argument opt: optional\nOptional positional arguments:\n  1\n  2\n  3\nOptional keyword arguments:\n  arg1: value1\n  arg2: value2\n"
     ]
    }
   ],
   "source": [
    "# Call with required and optional arguments, and\n",
    "# optional positional and keyword arguments\n",
    "func(0, 'optional', 1, 2, 3, arg1='value1', arg2='value2')"
   ]
  },
  {
   "cell_type": "markdown",
   "metadata": {
    "pycharm": {
     "name": "#%% md\n"
    }
   },
   "source": [
    "We don't even need to specify arguments in the order they are defined\n",
    "in the function, except for optional positional arguments, since these have no argument names.\n",
    "We can just use the `name=value` syntax:"
   ]
  },
  {
   "cell_type": "code",
   "execution_count": 14,
   "metadata": {
    "pycharm": {
     "name": "#%%\n"
    }
   },
   "outputs": [
    {
     "output_type": "stream",
     "name": "stdout",
     "text": [
      "Required argument x: 1\nOptional argument opt: optional value\n"
     ]
    }
   ],
   "source": [
    "# call func() with interchanged argument order\n",
    "func(opt='optional value', x=1)"
   ]
  },
  {
   "cell_type": "markdown",
   "metadata": {},
   "source": [
    "Note, however, that in a function call any positional arguments must come first and those passed\n",
    "as `name=value` pairs last:"
   ]
  },
  {
   "cell_type": "code",
   "execution_count": 15,
   "metadata": {},
   "outputs": [
    {
     "output_type": "error",
     "ename": "SyntaxError",
     "evalue": "positional argument follows keyword argument (<ipython-input-15-329ad3602f54>, line 4)",
     "traceback": [
      "\u001b[0;36m  File \u001b[0;32m\"<ipython-input-15-329ad3602f54>\"\u001b[0;36m, line \u001b[0;32m4\u001b[0m\n\u001b[0;31m    func(opt='optional value', x)\u001b[0m\n\u001b[0m                               ^\u001b[0m\n\u001b[0;31mSyntaxError\u001b[0m\u001b[0;31m:\u001b[0m positional argument follows keyword argument\n"
     ]
    }
   ],
   "source": [
    "x = 1\n",
    "\n",
    "# this will not work, cannot specifiy positional arguments last\n",
    "func(opt='optional value', x)"
   ]
  },
  {
   "cell_type": "markdown",
   "metadata": {},
   "source": [
    "The same applies for optional arguments passed in via `*args` and `**kwargs`:"
   ]
  },
  {
   "cell_type": "code",
   "execution_count": 16,
   "metadata": {},
   "outputs": [
    {
     "output_type": "error",
     "ename": "SyntaxError",
     "evalue": "positional argument follows keyword argument (<ipython-input-16-48f7c34cded9>, line 3)",
     "traceback": [
      "\u001b[0;36m  File \u001b[0;32m\"<ipython-input-16-48f7c34cded9>\"\u001b[0;36m, line \u001b[0;32m3\u001b[0m\n\u001b[0;31m    func(1.0, 'opt', arg1='value1', arg2='value2', 1, 2, 3)\u001b[0m\n\u001b[0m                                                   ^\u001b[0m\n\u001b[0;31mSyntaxError\u001b[0m\u001b[0;31m:\u001b[0m positional argument follows keyword argument\n"
     ]
    }
   ],
   "source": [
    "# fails because arguments collected in *args must\n",
    "# be specified before arguments collected in **kwargs!\n",
    "func(1.0, 'opt', arg1='value1', arg2='value2', 1, 2, 3)\n",
    "     "
   ]
  },
  {
   "cell_type": "markdown",
   "metadata": {
    "pycharm": {
     "name": "#%% md\n"
    }
   },
   "source": [
    "### Pass by value or pass by reference?\n",
    "Can functions modify their arguments? This questions\n",
    "usually comes down to whether a function call uses\n",
    "*pass by value* or *pass by reference*:\n",
    "\n",
    "-   *pass by value* means that a copy of every argument is\n",
    "    created before it is passed into the function. A function\n",
    "    therefore cannot modify a value in the caller's environment.\n",
    "-   *pass by reference* means that only a reference to a value\n",
    "    is passed to the function, so the function can directly\n",
    "    modify values at the call site.\n",
    "\n",
    "This programming model is used in languages such as C\n",
    "(pass by value) or Fortran (pass by reference), but not in\n",
    "Python. Sloppily speaking, we can say that in Python a reference (\"variable name\")\n",
    "is passed by value. This means assigning a different value\n",
    "to an argument (\"the reference\") within a function has no effect outside of the\n",
    "function:"
   ]
  },
  {
   "cell_type": "code",
   "execution_count": 17,
   "metadata": {
    "pycharm": {
     "name": "#%%\n"
    }
   },
   "outputs": [
    {
     "output_type": "execute_result",
     "data": {
      "text/plain": [
       "123"
      ]
     },
     "metadata": {},
     "execution_count": 17
    }
   ],
   "source": [
    "def func(x):\n",
    "    # x now points to something else\n",
    "    x = 1.0\n",
    "\n",
    "x = 123\n",
    "func(x)\n",
    "\n",
    "x       # prints 123, x in the outer scope is unchanged"
   ]
  },
  {
   "cell_type": "markdown",
   "metadata": {
    "pycharm": {
     "name": "#%% md\n"
    }
   },
   "source": [
    "However, if a variable is a mutable object (such as a `list` or a `dict`), the function\n",
    "can use its own copy of the reference to that object\n",
    "to modify the object even in the outer scope:"
   ]
  },
  {
   "cell_type": "code",
   "execution_count": 18,
   "metadata": {
    "pycharm": {
     "name": "#%%\n"
    }
   },
   "outputs": [
    {
     "output_type": "execute_result",
     "data": {
      "text/plain": [
       "[1, 2, 3, 4]"
      ]
     },
     "metadata": {},
     "execution_count": 18
    }
   ],
   "source": [
    "def func(x):\n",
    "    # uses reference x to modify list object outside of func()\n",
    "    x.append(4)\n",
    "\n",
    "lst = [1,2,3]\n",
    "func(lst)\n",
    "lst     # prints [1,2,3,4]"
   ]
  },
  {
   "cell_type": "markdown",
   "metadata": {
    "pycharm": {
     "name": "#%% md\n"
    }
   },
   "source": [
    "Nevertheless, even for mutable objects the rule from above applies:\n",
    "when a new value is *assigned* to a named argument,\n",
    "that name then references a different object, leaving the original object\n",
    "unmodified:"
   ]
  },
  {
   "cell_type": "code",
   "execution_count": 19,
   "metadata": {
    "pycharm": {
     "name": "#%%\n"
    }
   },
   "outputs": [
    {
     "output_type": "execute_result",
     "data": {
      "text/plain": [
       "[1, 2, 3]"
      ]
     },
     "metadata": {},
     "execution_count": 19
    }
   ],
   "source": [
    "def func(x):\n",
    "    # this does not modify object in outer scope,\n",
    "    # x now references a new (local) object.\n",
    "    x = ['a', 'b', 'c']\n",
    "\n",
    "lst = [1,2,3]\n",
    "# pass list, which is mutable and can thus be changed in func()\n",
    "func(x)\n",
    "\n",
    "lst # prints [1,2,3]"
   ]
  },
  {
   "cell_type": "markdown",
   "metadata": {},
   "source": [
    "For immutable objects such as tuples, the reference passed to the function of course cannot be used\n",
    "to modify the object inside the function:"
   ]
  },
  {
   "cell_type": "code",
   "execution_count": 20,
   "metadata": {
    "scrolled": true
   },
   "outputs": [
    {
     "output_type": "error",
     "ename": "TypeError",
     "evalue": "'tuple' object does not support item assignment",
     "traceback": [
      "\u001b[0;31m---------------------------------------------------------------------------\u001b[0m",
      "\u001b[0;31mTypeError\u001b[0m                                 Traceback (most recent call last)",
      "\u001b[0;32m<ipython-input-20-f059e7c62df7>\u001b[0m in \u001b[0;36m<module>\u001b[0;34m\u001b[0m\n\u001b[1;32m      3\u001b[0m \u001b[0;34m\u001b[0m\u001b[0m\n\u001b[1;32m      4\u001b[0m \u001b[0mitems\u001b[0m \u001b[0;34m=\u001b[0m \u001b[0;34m(\u001b[0m\u001b[0;36m1\u001b[0m\u001b[0;34m,\u001b[0m \u001b[0;36m2\u001b[0m\u001b[0;34m,\u001b[0m \u001b[0;36m3\u001b[0m\u001b[0;34m)\u001b[0m          \u001b[0;31m# create tuple of integers\u001b[0m\u001b[0;34m\u001b[0m\u001b[0;34m\u001b[0m\u001b[0m\n\u001b[0;32m----> 5\u001b[0;31m \u001b[0mfunc\u001b[0m\u001b[0;34m(\u001b[0m\u001b[0mitems\u001b[0m\u001b[0;34m)\u001b[0m\u001b[0;34m\u001b[0m\u001b[0;34m\u001b[0m\u001b[0m\n\u001b[0m",
      "\u001b[0;32m<ipython-input-20-f059e7c62df7>\u001b[0m in \u001b[0;36mfunc\u001b[0;34m(x)\u001b[0m\n\u001b[1;32m      1\u001b[0m \u001b[0;32mdef\u001b[0m \u001b[0mfunc\u001b[0m\u001b[0;34m(\u001b[0m\u001b[0mx\u001b[0m\u001b[0;34m)\u001b[0m\u001b[0;34m:\u001b[0m\u001b[0;34m\u001b[0m\u001b[0;34m\u001b[0m\u001b[0m\n\u001b[0;32m----> 2\u001b[0;31m     \u001b[0mx\u001b[0m\u001b[0;34m[\u001b[0m\u001b[0;36m0\u001b[0m\u001b[0;34m]\u001b[0m \u001b[0;34m=\u001b[0m \u001b[0;34m'modified in func'\u001b[0m\u001b[0;34m\u001b[0m\u001b[0;34m\u001b[0m\u001b[0m\n\u001b[0m\u001b[1;32m      3\u001b[0m \u001b[0;34m\u001b[0m\u001b[0m\n\u001b[1;32m      4\u001b[0m \u001b[0mitems\u001b[0m \u001b[0;34m=\u001b[0m \u001b[0;34m(\u001b[0m\u001b[0;36m1\u001b[0m\u001b[0;34m,\u001b[0m \u001b[0;36m2\u001b[0m\u001b[0;34m,\u001b[0m \u001b[0;36m3\u001b[0m\u001b[0;34m)\u001b[0m          \u001b[0;31m# create tuple of integers\u001b[0m\u001b[0;34m\u001b[0m\u001b[0;34m\u001b[0m\u001b[0m\n\u001b[1;32m      5\u001b[0m \u001b[0mfunc\u001b[0m\u001b[0;34m(\u001b[0m\u001b[0mitems\u001b[0m\u001b[0;34m)\u001b[0m\u001b[0;34m\u001b[0m\u001b[0;34m\u001b[0m\u001b[0m\n",
      "\u001b[0;31mTypeError\u001b[0m: 'tuple' object does not support item assignment"
     ]
    }
   ],
   "source": [
    "def func(x):\n",
    "    x[0] = 'modified in func'\n",
    "    \n",
    "items = (1, 2, 3)          # create tuple of integers\n",
    "func(items)"
   ]
  },
  {
   "cell_type": "markdown",
   "metadata": {},
   "source": [
    "Passing in a mutable collection such as a list, however, works as expected:"
   ]
  },
  {
   "cell_type": "code",
   "execution_count": 21,
   "metadata": {},
   "outputs": [
    {
     "output_type": "execute_result",
     "data": {
      "text/plain": [
       "['modified in func', 2, 3]"
      ]
     },
     "metadata": {},
     "execution_count": 21
    }
   ],
   "source": [
    "items = [1, 2, 3]\n",
    "\n",
    "func(items)\n",
    "\n",
    "items"
   ]
  },
  {
   "cell_type": "markdown",
   "metadata": {
    "pycharm": {
     "name": "#%% md\n"
    }
   },
   "source": [
    "### Methods\n",
    "Methods are simply functions that perform an action on a\n",
    "particular object which they are bound to.\n",
    "We will not write methods in this tutorial ourselves\n",
    "(they are part of what's called object-oriented programming),\n",
    "but we frequently use them when we invoke\n",
    "actions on objects such as lists:"
   ]
  },
  {
   "cell_type": "code",
   "execution_count": 22,
   "metadata": {
    "pycharm": {
     "name": "#%%\n"
    }
   },
   "outputs": [
    {
     "output_type": "execute_result",
     "data": {
      "text/plain": [
       "[1, 2, 3, 4]"
      ]
     },
     "metadata": {},
     "execution_count": 22
    }
   ],
   "source": [
    "# Create a list\n",
    "lst = [1,2,3]\n",
    "\n",
    "# append() is a method of the list class and can be invoked\n",
    "# on list objects.\n",
    "lst.append(4)\n",
    "lst"
   ]
  },
  {
   "cell_type": "markdown",
   "metadata": {
    "pycharm": {
     "name": "#%% md\n"
    }
   },
   "source": [
    "### Functions as objects\n",
    "Functions are objects in their own right, which means that you\n",
    "can perform various operations with them:\n",
    "\n",
    "-   Assign a function to a variable.\n",
    "-   Store functions in collections.\n",
    "-   Pass function as an argument to other functions.\n",
    "\n",
    "*Examples:*"
   ]
  },
  {
   "cell_type": "code",
   "execution_count": 23,
   "metadata": {
    "pycharm": {
     "name": "#%%\n"
    }
   },
   "outputs": [
    {
     "output_type": "stream",
     "name": "stdout",
     "text": [
      "func1 called with argument foo\nfunc2 called with argument foo\n"
     ]
    }
   ],
   "source": [
    "def func1(x):\n",
    "    print(f'func1 called with argument {x}')\n",
    "\n",
    "def func2(x):\n",
    "    print(f'func2 called with argument {x}')\n",
    "\n",
    "\n",
    "# List of functions\n",
    "funcs = [func1, func2]\n",
    "\n",
    "# Assign functions to variable f\n",
    "for f in funcs:\n",
    "    # call function referenced by f\n",
    "    f('foo')"
   ]
  },
  {
   "cell_type": "code",
   "execution_count": 24,
   "metadata": {
    "pycharm": {
     "name": "#%%\n"
    }
   },
   "outputs": [
    {
     "output_type": "stream",
     "name": "stdout",
     "text": [
      "func1 called with argument <function func2 at 0x7f51cc2b6040>\n"
     ]
    }
   ],
   "source": [
    "# Pass one function as argument to another function\n",
    "func1(func2)"
   ]
  },
  {
   "cell_type": "markdown",
   "metadata": {
    "pycharm": {
     "name": "#%% md\n"
    }
   },
   "source": [
    "### lambda expressions\n",
    "\n",
    "You can think of lambda expressions as light-weight functions.\n",
    "The syntax is\n",
    "```\n",
    "lambda x: <do something with x>\n",
    "```\n",
    "The return value of a lambda expression is whatever\n",
    "its body evaluates to. There is no need (or possibility)\n",
    "to explicitly add a `return` statement.\n",
    "\n",
    "One big difference to regular functions is that\n",
    "lambda expressions are *expressions*, not statements.\n",
    "\n",
    "-   At this point we gain little from a technical\n",
    "    discussion on *statements* vs *expressions*. Loosely speaking,\n",
    "    statements are one level above expressions in the Python syntax\n",
    "    hierarchy, and the language puts restrictions on where statements\n",
    "    can appear. Function definitions, `for` and `while` loops, and\n",
    "    `if/elif/else` blocks are statements, among others.\n",
    "-   Conversely, *expressions* are more flexible and can appear\n",
    "    basically anywhere. They usually evaluate to some object that\n",
    "    can be assigned, passed to a function, etc., whereas\n",
    "    statements usually can't.\n",
    "\n",
    "The take-away is that we can fiddle in lambda expressions almost anywhere,\n",
    "even as arguments in function calls!\n",
    "\n",
    "For example, we might have a function that applies some\n",
    "algebraic operation to its arguments, and the\n",
    "operation can be flexibly defined by the caller."
   ]
  },
  {
   "cell_type": "code",
   "execution_count": 25,
   "metadata": {
    "pycharm": {
     "name": "#%%\n"
    }
   },
   "outputs": [
    {
     "output_type": "execute_result",
     "data": {
      "text/plain": [
       "[2.0, 3.0, 4.0]"
      ]
     },
     "metadata": {},
     "execution_count": 25
    }
   ],
   "source": [
    "def func(items, operation=lambda z: z + 1):\n",
    "    # default operation: increment value by 1\n",
    "    result = [operation(i) for i in items]\n",
    "    return result\n",
    "\n",
    "numbers = [1.0, 2.0, 3.0]\n",
    "# call with default operation\n",
    "func(numbers)               # prints [2.0, 3.0, 4.0]"
   ]
  },
  {
   "cell_type": "code",
   "execution_count": 26,
   "metadata": {
    "pycharm": {
     "name": "#%%\n"
    }
   },
   "outputs": [
    {
     "output_type": "execute_result",
     "data": {
      "text/plain": [
       "[1.0, 4.0, 9.0]"
      ]
     },
     "metadata": {},
     "execution_count": 26
    }
   ],
   "source": [
    "# We can also use lambda expressions to specify\n",
    "# an alternative operation directly in the call!\n",
    "\n",
    "func(numbers, lambda x: x**2.0)     # prints [1.0, 4.0, 9.0]"
   ]
  },
  {
   "cell_type": "markdown",
   "metadata": {
    "pycharm": {
     "name": "#%% md\n"
    }
   },
   "source": [
    "While we could have defined the operation\n",
    "using a \"regular\" function statement, this is shorter.\n"
   ]
  },
  {
   "cell_type": "markdown",
   "metadata": {
    "pycharm": {
     "name": "#%% md\n"
    }
   },
   "source": [
    "***\n",
    "## Modules and packages\n",
    "\n",
    "### Modules\n",
    "Modules allow us to further encapsulate code that implements\n",
    "some particular functionality.\n",
    "\n",
    "-   Each Python file (with the extension `.py`)\n",
    "    automatically corresponds to a module of the same name.\n",
    "-   Objects defined within such a module are by default not visible outside\n",
    "    of the module, thus helping to avoid naming conflicts.\n",
    "\n",
    "To actually demonstrate the usage of modules, we need to use\n",
    "files outside of this notebook. To this end, there is an additional\n",
    "Python file in the current directory:\n",
    "```\n",
    "lectures/\n",
    "    unit4_mod.py\n",
    "```\n",
    "\n",
    "The module `unit4_mod.py` contains the following\n",
    "definitions:\n",
    "```\n",
    "# Contents of unit4_mod.py\n",
    "\n",
    "# global variable in this module\n",
    "var = 1\n",
    "\n",
    "# global function in this module\n",
    "def func():\n",
    "    print(f'func in module unit4_mod called')\n",
    "```\n",
    "\n",
    "We now want to use `func` and `var` in our notebook.\n",
    "However, by default these symbols are not visible\n",
    "and first need to be imported.\n",
    "We can do this in several ways:\n",
    "\n",
    "1.  We can import the module and use fully qualified names\n",
    "    to reference objects from `unit4_mod`.\n",
    "2.  We can select which names from `unit4_mod` should be directly\n",
    "    accessible.\n",
    "\n",
    "The first variant looks like this:"
   ]
  },
  {
   "cell_type": "code",
   "execution_count": 27,
   "metadata": {
    "pycharm": {
     "name": "#%%\n"
    }
   },
   "outputs": [
    {
     "output_type": "stream",
     "name": "stdout",
     "text": [
      "1\nfunc in module unit4_mod called\n"
     ]
    }
   ],
   "source": [
    "import unit4_mod\n",
    "\n",
    "# Access variable defined in unit4_mod\n",
    "print(unit4_mod.var)\n",
    "\n",
    "# Call function defined in unit4_mod\n",
    "unit4_mod.func()"
   ]
  },
  {
   "cell_type": "markdown",
   "metadata": {
    "pycharm": {
     "name": "#%% md\n"
    }
   },
   "source": [
    "If a symbol from `unit4_mod` is used frequently, we might\n",
    "want to make it accessible without the `unit4_mod` prefix. This\n",
    "is the second variant:"
   ]
  },
  {
   "cell_type": "code",
   "execution_count": 28,
   "metadata": {
    "pycharm": {
     "name": "#%%\n"
    }
   },
   "outputs": [
    {
     "output_type": "stream",
     "name": "stdout",
     "text": [
      "1\nfunc in module unit4_mod called\n"
     ]
    }
   ],
   "source": [
    "from unit4_mod import var, func\n",
    "\n",
    "# Access variable defined in unit4_mod\n",
    "print(var)\n",
    "\n",
    "# Call function defined in unit4_mod\n",
    "func()"
   ]
  },
  {
   "cell_type": "markdown",
   "metadata": {
    "pycharm": {
     "name": "#%% md\n"
    }
   },
   "source": [
    "What if our notebook itself defines a function `func()` which\n",
    "would overwrite the reference to the one imported from\n",
    "`unit4_mod`, as in the following example?"
   ]
  },
  {
   "cell_type": "code",
   "execution_count": 29,
   "metadata": {
    "pycharm": {
     "name": "#%%\n"
    }
   },
   "outputs": [
    {
     "output_type": "stream",
     "name": "stdout",
     "text": [
      "func in module unit4_mod called\nfunc in notebook called\n"
     ]
    }
   ],
   "source": [
    "from unit4_mod import func\n",
    "\n",
    "# Calls func() defined in unit4_mod\n",
    "func()         \n",
    "\n",
    "# overwrites definition from unit4_mod with local version\n",
    "def func():\n",
    "    print('func in notebook called')\n",
    "\n",
    "# Calls func() defined in notebook\n",
    "func()          "
   ]
  },
  {
   "cell_type": "markdown",
   "metadata": {
    "pycharm": {
     "name": "#%% md\n"
    }
   },
   "source": [
    "\n",
    "In such a scenario, we can assign aliases to\n",
    "imported symbols using `as`:"
   ]
  },
  {
   "cell_type": "code",
   "execution_count": 30,
   "metadata": {
    "pycharm": {
     "name": "#%%\n"
    }
   },
   "outputs": [
    {
     "output_type": "stream",
     "name": "stdout",
     "text": [
      "func in notebook called\nfunc in module unit4_mod called\n"
     ]
    }
   ],
   "source": [
    "from unit4_mod import func as imported_func     # The function formerly known\n",
    "                                                # as func is now imported_func\n",
    "\n",
    "def func():\n",
    "    print('func in notebook called')\n",
    "\n",
    "# call our own func\n",
    "func()\n",
    "\n",
    "# call func from module unit4_mod\n",
    "imported_func()"
   ]
  },
  {
   "cell_type": "markdown",
   "metadata": {},
   "source": [
    "We can even alias the module name itself, as we frequently do with\n",
    "widely used modules such as `numpy`:"
   ]
  },
  {
   "cell_type": "code",
   "execution_count": 31,
   "metadata": {},
   "outputs": [
    {
     "output_type": "stream",
     "name": "stdout",
     "text": [
      "func in module unit4_mod called\n"
     ]
    }
   ],
   "source": [
    "import unit4_mod as u4m\n",
    "\n",
    "u4m.func()    # call function from module unit4_mod"
   ]
  },
  {
   "cell_type": "code",
   "execution_count": 32,
   "metadata": {},
   "outputs": [],
   "source": [
    "# universal convention to import numpy like this\n",
    "import numpy as np"
   ]
  },
  {
   "cell_type": "markdown",
   "metadata": {
    "pycharm": {
     "name": "#%% md\n"
    }
   },
   "source": [
    "### Packages\n",
    "\n",
    "Packages are roughly speaking collections of modules and a\n",
    "little magic on top. We will not be creating packages in\n",
    "this tutorial, but we have already been using them:\n",
    "basically everything besides the built-in\n",
    "functions is defined in some package. For example, the NumPy\n",
    "library is a collection of packages."
   ]
  },
  {
   "cell_type": "markdown",
   "metadata": {
    "pycharm": {
     "name": "#%% md\n"
    }
   },
   "source": [
    "***\n",
    "# Exercises"
   ]
  },
  {
   "cell_type": "markdown",
   "metadata": {},
   "source": [
    "## Exercise 1: Sign function\n",
    "\n",
    "Implement a function `sign` which returns the following values:\n",
    "$$\n",
    "sign(x) = \n",
    "\\begin{cases}\n",
    "-1 & \\text{if } x < 0 \\\\\n",
    "\\phantom{-} 0 & \\text{if } x = 0 \\\\\n",
    "\\phantom{-} 1 & \\text{if } x > 0\n",
    "\\end{cases}\n",
    "$$\n",
    "Test your function on a negative, zero and positive argument."
   ]
  },
  {
   "cell_type": "markdown",
   "metadata": {},
   "source": [
    "## Exercise 2: Sum of arbitrary number of elements\n",
    "\n",
    "Create a function called `my_sum` which accepts an arbitrary\n",
    "number of arguments (possibly zero) and returns their sum.\n",
    "Assume that all arguments are numeric.\n",
    "\n",
    "Test your function with the following arguments:\n",
    "```\n",
    "my_sum(10.0)    # one argument\n",
    "my_sum(1,2,3)   # multiple arguments\n",
    "my_sum()        # no arguments\n",
    "```\n",
    "Make sure that in the last case your function returns zero,\n",
    "which is the sum over an empty set."
   ]
  },
  {
   "cell_type": "markdown",
   "metadata": {},
   "source": [
    "## Exercise 3: Fibonacci sequence\n",
    "\n",
    "A classical introductory exercise to programming is to write\n",
    "a function that returns the first $n$ terms of the Fibonacci\n",
    "sequence. The $i$-th element of this sequence is the integer\n",
    "$x_i$ defined as\n",
    "$$\n",
    "x_i = \n",
    "\\begin{cases} 0 & \\text{if } i = 0   \\\\\n",
    "    1  & \\text{if } i = 1\\\\\n",
    "    x_{i-1} + x_{i-2} & \\text{else}\n",
    "\\end{cases}\n",
    "$$\n",
    "\n",
    "Write a function `fibonacci(i)`,\n",
    "```\n",
    "def fibonacci(i):\n",
    "    ...\n",
    "```\n",
    "which returns the $i$-th item in the sequence using recursion.\n",
    "A recursive function is a function that calls itself to\n",
    "perform (part of) its task, i.e. you should compute $x_i$ like this:\n",
    "```\n",
    "xi = fibonacci(i-1) + fibonacci(i-2)\n",
    "```\n",
    "\n",
    "Use this function to compute the first 10 elements\n",
    "of this sequence with a list comprehension."
   ]
  },
  {
   "cell_type": "markdown",
   "metadata": {},
   "source": [
    "## Exercise 4: Factorials\n",
    "\n",
    "1.  Implement a function that computes the factorial of a non-negative\n",
    "    integer $n$ defined as $n! = \\prod_{i=1}^n i$. Keep in mind that\n",
    "    this definition implies that $0! = 1$.\n",
    "    Use the list comprehension syntax to create a tuple that contains the\n",
    "    factorials for the integers $n=1,\\dots,10$.\n",
    "\n",
    "    *Hint:* The factorial can be written as a recurrence relation\n",
    "    $n! = n \\cdot (n-1)!$, which you can use to implement\n",
    "    the recursive function.\n",
    "2. Provide an alternative implementation that does not rely on\n",
    "    recursion, but instead uses NumPy's `prod()` function\n",
    "    to compute the product of a sequence of numbers.\n",
    "    Again, create a `tuple` that contains the factorials\n",
    "    for the integers $n=1,\\dots,10$ using a list comprehension.\n",
    "\n",
    "    *Hint 1:* To compute the product of the integers\n",
    "    $i,i+1,\\dots,j$, you can use `np.prod(range(i,j+1))`.\n",
    "\n",
    "    *Hint 2:* The product of an empty set is 1, which is what\n",
    "    `np.prod()` returns."
   ]
  },
  {
   "cell_type": "markdown",
   "metadata": {},
   "source": [
    "## Exercise 5: Bisection root-finding algorithm (advanced)\n",
    "\n",
    "We revisit the binary search algorithm from unit 3, this time applied\n",
    "to finding the root of a continuous function. This is called\n",
    "the [bisection method](https://en.wikipedia.org/wiki/Bisection_method).\n",
    "\n",
    "Implement a function `bisection(f, a, b, tol, xtol)`\n",
    "which finds the root of the function $f(x)$, i.e. the value $x_0$\n",
    "where $f(x_0) = 0$, on the interval $[a,b]$. Assume that $a<b$ and\n",
    "that the function values $f(a)$ and $f(b)$ have opposite signs.\n",
    "\n",
    "Test your implementation using the function $f(x) = x^2 - 4$ on the\n",
    "interval $[-3,0]$, which has a (unique) root at $x_0 = -2$.\n",
    "\n",
    "*Hint:* The bisection algorithm proceeds as follows:\n",
    "\n",
    "1.  Define tolerance levels $\\epsilon > 0$ and $\\epsilon_x > 0$. The algorithm\n",
    "    completes successfully whenever we have either $|f(x_0)| < \\epsilon$\n",
    "    or $|b-a|<\\epsilon_x$.\n",
    "2.  Main loop of the algorithm:\n",
    "    1.  Compute the midpoint $x_m = (a+b)/2$\n",
    "    2.  Compute function value $f_m = f(x_m)$\n",
    "    3.  If either $|f_m| < \\epsilon$ or $|b-a|< \\epsilon_x$, accept $x_m$\n",
    "        as the solution and exit.\n",
    "    4.  Otherwise, update either $a$ or $b$:\n",
    "        1.  If $sign(f(b)) = sign(f_m)$, set $b = x_m$\n",
    "\n",
    "            *Hint:* One way to check whether two non-zero values have the\n",
    "            same sign is to check if $f(b) \\cdot f_m > 0$.\n",
    "        2.  Otherwise, $a = x_m$\n",
    "    5.  Proceed to next iteration of main loop."
   ]
  },
  {
   "cell_type": "markdown",
   "metadata": {
    "pycharm": {
     "name": "#%% md\n"
    }
   },
   "source": [
    "***\n",
    "# Solutions\n",
    "\n",
    "\n",
    "## Solution for exercise 1"
   ]
  },
  {
   "cell_type": "code",
   "execution_count": 33,
   "metadata": {
    "pycharm": {
     "name": "#%%\n"
    }
   },
   "outputs": [
    {
     "output_type": "stream",
     "name": "stdout",
     "text": [
      "-1.0\n0.0\n1.0\n"
     ]
    }
   ],
   "source": [
    "import numpy as np\n",
    "\n",
    "def sign(x):\n",
    "    if x < 0.0:\n",
    "        return -1.0\n",
    "    elif x == 0.0:\n",
    "        return 0.0\n",
    "    elif x > 0.0:\n",
    "        return 1.0\n",
    "    else:\n",
    "        # Argument is not a proper numerical value, return NaN\n",
    "        # (NaN = Not a Number)\n",
    "        return np.nan\n",
    "\n",
    "# Test on a few values\n",
    "print(sign(-123))\n",
    "print(sign(0))\n",
    "print(sign(12345))"
   ]
  },
  {
   "cell_type": "markdown",
   "metadata": {
    "pycharm": {
     "name": "#%% md\n"
    }
   },
   "source": [
    "Note that NumPy has a \"proper\" sign function, `np.sign()`,\n",
    "which implements the same logic but is more robust, accepts\n",
    "array arguments, etc."
   ]
  },
  {
   "cell_type": "markdown",
   "metadata": {
    "pycharm": {
     "name": "#%% md\n"
    }
   },
   "source": [
    "## Solution for exercise 2\n",
    "\n",
    "For a function to accept an arbitrary number of elements,\n",
    "we need to declare an `*args` argument.\n",
    "\n",
    "One possible implementation of `my_sum()` looks as follows:"
   ]
  },
  {
   "cell_type": "code",
   "execution_count": 34,
   "metadata": {
    "pycharm": {
     "name": "#%%\n"
    }
   },
   "outputs": [
    {
     "output_type": "stream",
     "name": "stdout",
     "text": [
      "10.0\n6\n0\n"
     ]
    }
   ],
   "source": [
    "def my_sum(*args):\n",
    "    # Initialise sum to 0\n",
    "    s = 0\n",
    "    for x in args:\n",
    "        s += x\n",
    "    return s\n",
    "\n",
    "\n",
    "# Test with built-in range() object\n",
    "print(my_sum(10.0))\n",
    "print(my_sum(1, 2, 3))\n",
    "print(my_sum())"
   ]
  },
  {
   "cell_type": "markdown",
   "metadata": {
    "pycharm": {
     "name": "#%% md\n"
    }
   },
   "source": [
    "Of course in real code we would use the built-in function `sum()`,\n",
    "or preferably the NumPy variant `np.sum()`:"
   ]
  },
  {
   "cell_type": "code",
   "execution_count": 35,
   "metadata": {
    "pycharm": {
     "name": "#%%\n"
    }
   },
   "outputs": [
    {
     "output_type": "stream",
     "name": "stdout",
     "text": [
      "10.0\n6\n"
     ]
    },
    {
     "output_type": "execute_result",
     "data": {
      "text/plain": [
       "0.0"
      ]
     },
     "metadata": {},
     "execution_count": 35
    }
   ],
   "source": [
    "import numpy as np\n",
    "\n",
    "print(np.sum(10.0))\n",
    "\n",
    "# Need to pass argument as collection\n",
    "print(np.sum((1, 2, 3)))\n",
    "\n",
    "# np.sum() cannot be invoked without arguments, but we can\n",
    "# call it with an empty tuple ()\n",
    "np.sum(())"
   ]
  },
  {
   "cell_type": "markdown",
   "metadata": {
    "pycharm": {
     "name": "#%% md\n"
    }
   },
   "source": [
    "## Solution for exercise 3\n",
    "\n",
    "The recursive definition of `fibonacci(i)` could look like this:"
   ]
  },
  {
   "cell_type": "code",
   "execution_count": 36,
   "metadata": {
    "pycharm": {
     "name": "#%%\n"
    }
   },
   "outputs": [
    {
     "output_type": "execute_result",
     "data": {
      "text/plain": [
       "[0, 1, 1, 2, 3, 5, 8, 13, 21, 34]"
      ]
     },
     "metadata": {},
     "execution_count": 36
    }
   ],
   "source": [
    "def fibonacci(i):\n",
    "    if i == 0:\n",
    "        # No recursion needed\n",
    "        xi = 0\n",
    "    elif i == 1:\n",
    "        # No recursion needed\n",
    "        xi = 1\n",
    "    else:\n",
    "        # Assume that i > 1. We will learn later how to\n",
    "        # return an error if this is not the case.\n",
    "        # Use recursion to compute the two preceding values\n",
    "        # of the sequence.\n",
    "        xi = fibonacci(i-1) + fibonacci(i-2)\n",
    "    return xi\n",
    "\n",
    "# Compute the first 10 elements of the sequence using a list comprehension\n",
    "first10 = [fibonacci(i) for i in range(10)]\n",
    "first10"
   ]
  },
  {
   "cell_type": "markdown",
   "metadata": {
    "pycharm": {
     "name": "#%% md\n"
    }
   },
   "source": [
    "Note that this is a terribly inefficient way to compute things,\n",
    "as the same elements of the sequence will needlessly be calculated\n",
    "over and over again.\n",
    "\n",
    "Also, Python has a built-in recursion limit, so you cannot\n",
    "call a function recursively arbitrarily many times.\n",
    "You can find out what this limit is as follows:"
   ]
  },
  {
   "cell_type": "code",
   "execution_count": 37,
   "metadata": {
    "pycharm": {
     "name": "#%%\n"
    }
   },
   "outputs": [
    {
     "output_type": "stream",
     "name": "stdout",
     "text": [
      "3000\n"
     ]
    }
   ],
   "source": [
    "import sys\n",
    "print(sys.getrecursionlimit())"
   ]
  },
  {
   "cell_type": "markdown",
   "metadata": {
    "pycharm": {
     "name": "#%% md\n"
    }
   },
   "source": [
    "## Solution for exercise 4\n",
    "\n",
    "The following code shows a function computing the factorial $n!$ using\n",
    "recursion:"
   ]
  },
  {
   "cell_type": "code",
   "execution_count": 38,
   "metadata": {
    "pycharm": {
     "name": "#%%\n"
    }
   },
   "outputs": [
    {
     "output_type": "execute_result",
     "data": {
      "text/plain": [
       "(1, 1, 2, 6, 24, 120, 720, 5040, 40320, 362880)"
      ]
     },
     "metadata": {},
     "execution_count": 38
    }
   ],
   "source": [
    "def factorial(n):\n",
    "    if n == 0:\n",
    "        return 1\n",
    "    else:\n",
    "        # Use recursion to compute factorial\n",
    "        return n * factorial(n-1)\n",
    "\n",
    "fact10 = tuple(factorial(n) for n in range(10))\n",
    "fact10"
   ]
  },
  {
   "cell_type": "markdown",
   "metadata": {
    "pycharm": {
     "name": "#%% md\n"
    }
   },
   "source": [
    "An implementation without recursion can be created using\n",
    "NumPy's `prod()` function which\n",
    "computes the product of a sequence of numbers:"
   ]
  },
  {
   "cell_type": "code",
   "execution_count": 39,
   "metadata": {
    "pycharm": {
     "name": "#%%\n"
    }
   },
   "outputs": [
    {
     "output_type": "execute_result",
     "data": {
      "text/plain": [
       "(1.0, 1, 2, 6, 24, 120, 720, 5040, 40320, 362880)"
      ]
     },
     "metadata": {},
     "execution_count": 39
    }
   ],
   "source": [
    "import numpy as np\n",
    "fact10 =  tuple(np.prod(range(1,n+1)) for n in range(10))\n",
    "fact10"
   ]
  },
  {
   "cell_type": "markdown",
   "metadata": {
    "pycharm": {
     "name": "#%% md\n"
    }
   },
   "source": [
    "Notice that the first element of this sequence is a floating-point\n",
    "value 1.0, while the remaining elements are integers.\n",
    "Why is that? Examine the argument passed to `np.prod()`\n",
    "for `n=0`:"
   ]
  },
  {
   "cell_type": "code",
   "execution_count": 40,
   "metadata": {
    "pycharm": {
     "name": "#%%\n"
    }
   },
   "outputs": [
    {
     "output_type": "execute_result",
     "data": {
      "text/plain": [
       "()"
      ]
     },
     "metadata": {},
     "execution_count": 40
    }
   ],
   "source": [
    "n = 0\n",
    "# We have to embed range() in an expression that forces the Python\n",
    "# interpreter to actually expand the range object, such as a tuple().\n",
    "tuple(range(1,n+1))"
   ]
  },
  {
   "cell_type": "markdown",
   "metadata": {
    "pycharm": {
     "name": "#%% md\n"
    }
   },
   "source": [
    "As you see, for `n=0` this is an empty container without elements.\n",
    "The mathematical convention is that the product over an empty\n",
    "set is\n",
    "$\\prod_{i \\in \\emptyset} = 1$, and this is exactly\n",
    "what `np.prod()` returns. However, by default NumPy creates\n",
    "floating-point values, and so the return value is 1.0, not 1.\n",
    "\n",
    "You can get around this by explicitly specifying the\n",
    "data type using the `dtype` argument, which is accepted\n",
    "by many NumPy functions."
   ]
  },
  {
   "cell_type": "code",
   "execution_count": 41,
   "metadata": {
    "pycharm": {
     "name": "#%%\n"
    }
   },
   "outputs": [
    {
     "output_type": "execute_result",
     "data": {
      "text/plain": [
       "(1, 1, 2, 6, 24, 120, 720, 5040, 40320, 362880)"
      ]
     },
     "metadata": {},
     "execution_count": 41
    }
   ],
   "source": [
    "import numpy as np\n",
    "# Force result to be of integer type\n",
    "fact10 =  tuple(np.prod(range(1,n+1), dtype=np.int) for n in range(10))\n",
    "fact10"
   ]
  },
  {
   "cell_type": "markdown",
   "metadata": {
    "pycharm": {
     "name": "#%% md\n"
    }
   },
   "source": [
    "Alternatively, we can use `np.arange()` instead of `range()` as\n",
    "the former by default returns integer arrays, even if they are empty:"
   ]
  },
  {
   "cell_type": "code",
   "execution_count": 42,
   "metadata": {
    "pycharm": {
     "name": "#%%\n"
    }
   },
   "outputs": [
    {
     "output_type": "execute_result",
     "data": {
      "text/plain": [
       "(1, 1, 2, 6, 24, 120, 720, 5040, 40320, 362880)"
      ]
     },
     "metadata": {},
     "execution_count": 42
    }
   ],
   "source": [
    "import numpy as np\n",
    "# Force result to be of integer type\n",
    "fact10 =  tuple(np.prod(np.arange(1,n+1)) for n in range(10))\n",
    "fact10"
   ]
  },
  {
   "cell_type": "markdown",
   "metadata": {
    "pycharm": {
     "name": "#%% md\n"
    }
   },
   "source": [
    "Finally, you of course would not need to implement the\n",
    "factorial function yourself, as there is one in the `math` module\n",
    "shipped with Python:"
   ]
  },
  {
   "cell_type": "code",
   "execution_count": 43,
   "metadata": {
    "pycharm": {
     "name": "#%%\n"
    }
   },
   "outputs": [
    {
     "output_type": "execute_result",
     "data": {
      "text/plain": [
       "(1, 1, 2, 6, 24, 120, 720, 5040, 40320, 362880)"
      ]
     },
     "metadata": {},
     "execution_count": 43
    }
   ],
   "source": [
    "import math\n",
    "fact10 = tuple(math.factorial(n) for n in range(10))\n",
    "fact10\n"
   ]
  },
  {
   "cell_type": "markdown",
   "metadata": {
    "pycharm": {
     "name": "#%% md\n"
    }
   },
   "source": [
    "## Solution for exercise 5"
   ]
  },
  {
   "cell_type": "markdown",
   "metadata": {
    "pycharm": {
     "name": "#%% md\n"
    }
   },
   "source": [
    "Below you find a simple implementation of a bisection algorithm.\n",
    "This function does not perform any error checking and assumes that the\n",
    "initial bracket $[a,b]$ actually contains a root, and that\n",
    "the values $f(a)$ and $f(b)$ have opposite signs.\n",
    "\n",
    "Note that we impose two termination criteria, and the algorithm will\n",
    "end successfully whenever one of them is satisfied:\n",
    "\n",
    "1.  The function value is sufficiently close to zero, i.e. $|f(x_0)| < \\epsilon$\n",
    "    for some small $\\epsilon > 0$.\n",
    "2.  The bracket is sufficiently small, i.e. $|b-a| < \\epsilon_x$, again\n",
    "    for some small $\\epsilon_x > 0$\n",
    "\n",
    "This is standard practice in numerical optimisation since we don't want the\n",
    "algorithm to continue unnecessarily if the desired degree of precision\n",
    "was achieved.\n",
    "\n",
    "We specify the termination tolerance as optional arguments `tol` and `xtol`\n",
    "with sensible defaults. We also add the maximum permissible number\n",
    "of iterations as an optional argument `maxiter`."
   ]
  },
  {
   "cell_type": "code",
   "execution_count": 44,
   "metadata": {
    "pycharm": {
     "name": "#%%\n"
    }
   },
   "outputs": [
    {
     "output_type": "stream",
     "name": "stdout",
     "text": [
      "Iteration 0: f(mid) = -1.7500e+00\n  Updating upper bound to -1.50000000\nIteration 1: f(mid) = 1.0625e+00\n  Updating lower bound to -2.25000000\nIteration 2: f(mid) = -4.8438e-01\n  Updating upper bound to -1.87500000\nIteration 3: f(mid) = 2.5391e-01\n  Updating lower bound to -2.06250000\nIteration 4: f(mid) = -1.2402e-01\n  Updating upper bound to -1.96875000\nIteration 5: f(mid) = 6.2744e-02\n  Updating lower bound to -2.01562500\nIteration 6: f(mid) = -3.1189e-02\n  Updating upper bound to -1.99218750\nIteration 7: f(mid) = 1.5640e-02\n  Updating lower bound to -2.00390625\nIteration 8: f(mid) = -7.8087e-03\n  Updating upper bound to -1.99804688\nIteration 9: f(mid) = 3.9072e-03\n  Updating lower bound to -2.00097656\nIteration 10: f(mid) = -1.9529e-03\n  Updating upper bound to -1.99951172\nIteration 11: f(mid) = 9.7662e-04\n  Updating lower bound to -2.00024414\nIteration 12: f(mid) = -4.8827e-04\n  Updating upper bound to -1.99987793\nIteration 13: f(mid) = 2.4414e-04\n  Updating lower bound to -2.00006104\nIteration 14: f(mid) = -1.2207e-04\n  Updating upper bound to -1.99996948\nIteration 15: f(mid) = 6.1035e-05\n  Updating lower bound to -2.00001526\nIteration 16: f(mid) = -3.0518e-05\n  Updating upper bound to -1.99999237\nIteration 17: f(mid) = 1.5259e-05\n  Updating lower bound to -2.00000381\nIteration 18: f(mid) = -7.6294e-06\n  Updating upper bound to -1.99999809\nIteration 19: f(mid) = 3.8147e-06\n  Updating lower bound to -2.00000095\nIteration 20: f(mid) = -1.9073e-06\n  Updating upper bound to -1.99999952\n"
     ]
    },
    {
     "output_type": "execute_result",
     "data": {
      "text/plain": [
       "-2.000000238418579"
      ]
     },
     "metadata": {},
     "execution_count": 44
    }
   ],
   "source": [
    "def bisect(f, a, b, tol=1.0e-6, xtol=1.0e-6, maxiter=100):\n",
    "\n",
    "    for iteration in range(maxiter):\n",
    "        # Compute candidate value as midpoint between a and b\n",
    "        mid = (a + b) / 2.0\n",
    "        if abs(b-a) < xtol:\n",
    "            # Remaining interval is too small\n",
    "            break\n",
    "\n",
    "        fmid = f(mid)\n",
    "\n",
    "        if abs(fmid) < tol:\n",
    "            # function value is close enough to zero\n",
    "            break\n",
    "\n",
    "        print('Iteration {}: f(mid) = {:.4e}'.format(iteration, fmid))\n",
    "        if fmid*f(b) > 0.0:\n",
    "            # f(mid) and f(b) have the same sign, update upper bound b\n",
    "            print('  Updating upper bound to {:.8f}'.format(mid))\n",
    "            b = mid\n",
    "        else:\n",
    "            # f(mid) and f(a) have the same sign, or at least one of\n",
    "            # them is zero.\n",
    "            print('  Updating lower bound to {:.8f}'.format(mid))\n",
    "            a = mid\n",
    "\n",
    "    return mid\n",
    "\n",
    "# Compute root of f(x) = x^2 - 4 on the interval [-3, 0]\n",
    "# We pass the function f as the first argument, and use a lambda expression\n",
    "# to define the function directly in the call.\n",
    "x0 = bisect(lambda x: x**2.0 - 4.0, -3.0, 0.0)\n",
    "\n",
    "# Print root. The true value is -2.0\n",
    "x0\n",
    "\n"
   ]
  }
 ],
 "metadata": {
  "kernelspec": {
   "display_name": "PyCharm (python-statistics)",
   "language": "python",
   "name": "pycharm-b08fdce2"
  },
  "language_info": {
   "codemirror_mode": {
    "name": "ipython",
    "version": 3
   },
   "file_extension": ".py",
   "mimetype": "text/x-python",
   "name": "python",
   "nbconvert_exporter": "python",
   "pygments_lexer": "ipython3",
   "version": "3.8.5-final"
  }
 },
 "nbformat": 4,
 "nbformat_minor": 1
}