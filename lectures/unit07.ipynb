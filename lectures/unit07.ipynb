{
 "cells": [
  {
   "cell_type": "markdown",
   "metadata": {
    "collapsed": true,
    "pycharm": {
     "name": "#%% md\n"
    }
   },
   "source": [
    "# Handling data with pandas\n",
    "\n",
    "\n",
    "## Motivation\n",
    "\n",
    "So far, we have encountered NumPy arrays as the only way to store numerical\n",
    "data (we mostly ignored the built-in containers provided directly in Python).\n",
    "However, while NumPy arrays are great for storing homogenous data\n",
    "without any particular structure, they are somewhat limited when\n",
    "we want to use them for high-level data analysis.\n",
    "\n",
    "For example, we usually want to process data sets with\n",
    "\n",
    "1.  several variables;\n",
    "2.  multiple observations, which need not be identical across\n",
    "    variables (some values may be missing);\n",
    "3.  non-homogenous data types: for examples,\n",
    "    names need to be stored as strings, birthdays as dates and income as\n",
    "    a floating-point number.\n",
    "\n",
    "While NumPy can in principle handle such situations, it puts all the\n",
    "burden on the user. Most users would prefer to not have to deal\n",
    "with such low-level details.\n",
    "\n",
    "Imagine we want to store names, birth dates and\n",
    "annual income for two people:\n",
    "\n",
    "| Name | Date of birth | Income |\n",
    "| ---- | ------------- | ------ |\n",
    "| Alice | 1985-01-01   | 30,000 |\n",
    "| Bob  | 1997-05-12    | -      |\n",
    "\n",
    "No income was reported for Bob, so it's missing.\n",
    "With NumPy, we could do this as follows:"
   ]
  },
  {
   "cell_type": "code",
   "execution_count": 1,
   "metadata": {
    "collapsed": false,
    "pycharm": {
     "name": "#%%\n"
    }
   },
   "outputs": [
    {
     "data": {
      "text/plain": [
       "array([['Alice', datetime.date(1985, 1, 1), 30000.0],\n",
       "       ['Bob', datetime.date(1997, 5, 12), None]], dtype=object)"
      ]
     },
     "execution_count": 1,
     "metadata": {},
     "output_type": "execute_result"
    }
   ],
   "source": [
    "import numpy as np\n",
    "from datetime import date\n",
    "\n",
    "date1 = date(1985, 1, 1)            # birth date for Alice\n",
    "date2 = date(1997, 5, 12)           # birth date for Bob\n",
    "\n",
    "data = np.array([['Alice', date1, 30000.0],\n",
    "                 ['Bob', date2, None]])\n",
    "\n",
    "data"
   ]
  },
  {
   "cell_type": "code",
   "execution_count": 2,
   "metadata": {
    "collapsed": false,
    "pycharm": {
     "name": "#%%\n"
    }
   },
   "outputs": [
    {
     "data": {
      "text/plain": [
       "dtype('O')"
      ]
     },
     "execution_count": 2,
     "metadata": {},
     "output_type": "execute_result"
    }
   ],
   "source": [
    "data.dtype          # print array data type"
   ]
  },
  {
   "cell_type": "markdown",
   "metadata": {
    "collapsed": false,
    "pycharm": {
     "name": "#%% md\n"
    }
   },
   "source": [
    "While we can create such arrays, they are almost useless for data analysis,\n",
    "in particular since everything is stored as a generic `object`.\n",
    "\n",
    "-   To be fair, NumPy offers an alternative array type called\n",
    "    [\"record\" or \"structured\" array](https://numpy.org/doc/stable/user/basics.rec.html)\n",
    "    which can handle fields of different data types.\n",
    "\n",
    "    However, the pandas library offers much more beyond that,\n",
    "    so there is little reason to use structured arrays.\n",
    "\n",
    "Pandas was created to offer more versatile data structures that are\n",
    "straightforward to use for storing, manipulating and analysing\n",
    "heterogeneous data:\n",
    "\n",
    "1.  Data is clearly organised in *variables* and *observations*, similar\n",
    "    to econometrics programs such as Stata.\n",
    "2.  Each variable is permitted to have a different data type.\n",
    "3.  We can use *labels* to select observations, instead of having to use\n",
    "    a linear numerical index as with NumPy.\n",
    "\n",
    "    We could, for example, index a data set using National Insurance Numbers.\n",
    "4.  Pandas offers many convenient data aggregation and reduction\n",
    "    routines that can be applied to subsets of data.\n",
    "\n",
    "    For example, we can easily group observations by city and compute average\n",
    "    incomes.\n",
    "5.  Pandas also offers many convenient data import / export functions that\n",
    "    go beyond what's in NumPy.\n",
    "\n",
    "Should we be using pandas at all times, then? No!\n",
    "\n",
    "-   For low-level tasks where performance is essential, use NumPy.\n",
    "-   For homogenous data without any particular data structure, use NumPy.\n",
    "-   On the other hand, if data is heterogeneous, needs to be imported from\n",
    "    an external data source and cleaned or transformed before\n",
    "    performing computations, use pandas.\n",
    "\n",
    "There are numerous tutorials on pandas on the internet, so we will\n",
    "keep this unit short and illustrate only the main concepts.\n",
    "Useful references to additional material include:\n",
    "\n",
    "-   The official [user guide](https://pandas.pydata.org/docs/user_guide/index.html).\n",
    "-   The official [pandas cheat sheet](https://pandas.pydata.org/Pandas_Cheat_Sheet.pdf)\n",
    "    which nicely illustrates the most frequently used\n",
    "    operations.\n",
    "-   The official [API reference](https://pandas.pydata.org/docs/reference/index.html) with details on\n",
    "    every pandas object and function.\n",
    "-   There are numerous tutorials (including videos) available\n",
    "    on the internet. See [here](https://pandas.pydata.org/docs/getting_started/tutorials.html)\n",
    "    for a list."
   ]
  },
  {
   "cell_type": "markdown",
   "metadata": {
    "collapsed": false,
    "pycharm": {
     "name": "#%% md\n"
    }
   },
   "source": [
    "***\n",
    "## Creating pandas data structures\n",
    "\n",
    "Pandas has two main data structures:\n",
    "\n",
    "1.  `Series` represents observations of a single variable.\n",
    "2.  `DataFrame` is a container for several variables. You can think\n",
    "    of each individual column of a `DataFrame` as a `Series`,\n",
    "    and each row represents one observation.\n",
    "\n",
    "The easiest way to create a `Series` or `DataFrame` is to create\n",
    "them from pre-existing data.\n",
    "\n",
    "To access pandas data structures and routines, we need to import them first.\n",
    "The near-universal convention is to make pandas available using the name `pd`:"
   ]
  },
  {
   "cell_type": "code",
   "execution_count": 3,
   "metadata": {
    "collapsed": false,
    "pycharm": {
     "name": "#%%\n"
    }
   },
   "outputs": [],
   "source": [
    "import pandas as pd"
   ]
  },
  {
   "cell_type": "markdown",
   "metadata": {
    "collapsed": false,
    "pycharm": {
     "name": "#%% md\n"
    }
   },
   "source": [
    "*Examples:*\n",
    "\n",
    "We can create a `DataFrame` from a NumPy array:"
   ]
  },
  {
   "cell_type": "code",
   "execution_count": 4,
   "metadata": {
    "collapsed": false,
    "pycharm": {
     "name": "#%%\n"
    }
   },
   "outputs": [
    {
     "data": {
      "text/html": [
       "<div>\n",
       "<style scoped>\n",
       "    .dataframe tbody tr th:only-of-type {\n",
       "        vertical-align: middle;\n",
       "    }\n",
       "\n",
       "    .dataframe tbody tr th {\n",
       "        vertical-align: top;\n",
       "    }\n",
       "\n",
       "    .dataframe thead th {\n",
       "        text-align: right;\n",
       "    }\n",
       "</style>\n",
       "<table border=\"1\" class=\"dataframe\">\n",
       "  <thead>\n",
       "    <tr style=\"text-align: right;\">\n",
       "      <th></th>\n",
       "      <th>A</th>\n",
       "      <th>B</th>\n",
       "      <th>C</th>\n",
       "    </tr>\n",
       "  </thead>\n",
       "  <tbody>\n",
       "    <tr>\n",
       "      <th>0</th>\n",
       "      <td>-0.989121</td>\n",
       "      <td>-0.367787</td>\n",
       "      <td>1.287925</td>\n",
       "    </tr>\n",
       "    <tr>\n",
       "      <th>1</th>\n",
       "      <td>0.193974</td>\n",
       "      <td>0.920231</td>\n",
       "      <td>0.577104</td>\n",
       "    </tr>\n",
       "    <tr>\n",
       "      <th>2</th>\n",
       "      <td>-0.636464</td>\n",
       "      <td>0.541952</td>\n",
       "      <td>-0.316595</td>\n",
       "    </tr>\n",
       "    <tr>\n",
       "      <th>3</th>\n",
       "      <td>-0.322389</td>\n",
       "      <td>0.097167</td>\n",
       "      <td>-1.525930</td>\n",
       "    </tr>\n",
       "    <tr>\n",
       "      <th>4</th>\n",
       "      <td>1.192166</td>\n",
       "      <td>-0.671090</td>\n",
       "      <td>1.000269</td>\n",
       "    </tr>\n",
       "    <tr>\n",
       "      <th>5</th>\n",
       "      <td>0.136321</td>\n",
       "      <td>1.532033</td>\n",
       "      <td>-0.659969</td>\n",
       "    </tr>\n",
       "    <tr>\n",
       "      <th>6</th>\n",
       "      <td>-0.311795</td>\n",
       "      <td>0.337769</td>\n",
       "      <td>-2.207471</td>\n",
       "    </tr>\n",
       "    <tr>\n",
       "      <th>7</th>\n",
       "      <td>0.827921</td>\n",
       "      <td>1.541630</td>\n",
       "      <td>1.126807</td>\n",
       "    </tr>\n",
       "    <tr>\n",
       "      <th>8</th>\n",
       "      <td>0.754770</td>\n",
       "      <td>-0.145978</td>\n",
       "      <td>1.281902</td>\n",
       "    </tr>\n",
       "    <tr>\n",
       "      <th>9</th>\n",
       "      <td>1.074031</td>\n",
       "      <td>0.392621</td>\n",
       "      <td>0.005114</td>\n",
       "    </tr>\n",
       "  </tbody>\n",
       "</table>\n",
       "</div>"
      ],
      "text/plain": [
       "          A         B         C\n",
       "0 -0.989121 -0.367787  1.287925\n",
       "1  0.193974  0.920231  0.577104\n",
       "2 -0.636464  0.541952 -0.316595\n",
       "3 -0.322389  0.097167 -1.525930\n",
       "4  1.192166 -0.671090  1.000269\n",
       "5  0.136321  1.532033 -0.659969\n",
       "6 -0.311795  0.337769 -2.207471\n",
       "7  0.827921  1.541630  1.126807\n",
       "8  0.754770 -0.145978  1.281902\n",
       "9  1.074031  0.392621  0.005114"
      ]
     },
     "execution_count": 4,
     "metadata": {},
     "output_type": "execute_result"
    }
   ],
   "source": [
    "import numpy as np\n",
    "import pandas as pd             # universal convention: import using pd\n",
    "from numpy.random import default_rng\n",
    "\n",
    "# Draw normally distributed data\n",
    "rng = default_rng(123)\n",
    "data = rng.normal(size=(10,3))\n",
    "\n",
    "# Define variable (or column) names\n",
    "varnames = ['A', 'B', 'C']\n",
    "\n",
    "# Create pandas DataFrame\n",
    "pd.DataFrame(data, columns=varnames)"
   ]
  },
  {
   "cell_type": "markdown",
   "metadata": {
    "collapsed": false,
    "pycharm": {
     "name": "#%% md\n"
    }
   },
   "source": [
    "This code creates a `DataFrame` of three variables called `A`, `B` and `C`\n",
    "with 10 observations each.\n",
    "\n",
    "Alternatively, we can create a `DataFrame` from non-homogenous data as follows:"
   ]
  },
  {
   "cell_type": "code",
   "execution_count": 5,
   "metadata": {
    "collapsed": false,
    "pycharm": {
     "name": "#%%\n"
    }
   },
   "outputs": [
    {
     "data": {
      "text/html": [
       "<div>\n",
       "<style scoped>\n",
       "    .dataframe tbody tr th:only-of-type {\n",
       "        vertical-align: middle;\n",
       "    }\n",
       "\n",
       "    .dataframe tbody tr th {\n",
       "        vertical-align: top;\n",
       "    }\n",
       "\n",
       "    .dataframe thead th {\n",
       "        text-align: right;\n",
       "    }\n",
       "</style>\n",
       "<table border=\"1\" class=\"dataframe\">\n",
       "  <thead>\n",
       "    <tr style=\"text-align: right;\">\n",
       "      <th></th>\n",
       "      <th>Name</th>\n",
       "      <th>Birthdate</th>\n",
       "      <th>Income</th>\n",
       "    </tr>\n",
       "  </thead>\n",
       "  <tbody>\n",
       "    <tr>\n",
       "      <th>0</th>\n",
       "      <td>Alice</td>\n",
       "      <td>1985-01-01</td>\n",
       "      <td>35000.0</td>\n",
       "    </tr>\n",
       "    <tr>\n",
       "      <th>1</th>\n",
       "      <td>Bob</td>\n",
       "      <td>1997-05-12</td>\n",
       "      <td>NaN</td>\n",
       "    </tr>\n",
       "  </tbody>\n",
       "</table>\n",
       "</div>"
      ],
      "text/plain": [
       "    Name  Birthdate   Income\n",
       "0  Alice 1985-01-01  35000.0\n",
       "1    Bob 1997-05-12      NaN"
      ]
     },
     "execution_count": 5,
     "metadata": {},
     "output_type": "execute_result"
    }
   ],
   "source": [
    "# Names (strings)\n",
    "names = ['Alice', 'Bob']\n",
    "\n",
    "# Birth dates (datetime objects)\n",
    "bdates = pd.to_datetime(['1985-01-01', '1997-05-12'])\n",
    "\n",
    "# Incomes (floats)\n",
    "incomes = np.array([35000, np.nan])         # code missing income as NaN\n",
    "\n",
    "# create DataFrame from dictionary\n",
    "pd.DataFrame({'Name': names, 'Birthdate': bdates, 'Income': incomes})"
   ]
  },
  {
   "cell_type": "markdown",
   "metadata": {
    "collapsed": false,
    "pycharm": {
     "name": "#%% md\n"
    }
   },
   "source": [
    "If data types differ across columns, as in the above example,\n",
    "it is often convenient to create the `DataFrame` by passing\n",
    "a dictionary as an argument. Each key represents a column name\n",
    "and each corresponding value contains the data for that variable."
   ]
  },
  {
   "cell_type": "markdown",
   "metadata": {
    "collapsed": false,
    "pycharm": {
     "name": "#%% md\n"
    }
   },
   "source": [
    "***\n",
    "## Viewing data\n",
    "\n",
    "With large data sets, you hardly ever want to print the entire `DataFrame`.\n",
    "Pandas by default limits the amount of data shown. You can\n",
    "use the `head()` and `tail()` methods to explicitly display a specific\n",
    "number of rows from the top or the end of a `DataFrame`.\n",
    "\n",
    "To illustrate, we use a data set of 23 UK universities that contains\n",
    "the following variables:\n",
    "\n",
    "-   `Instititution`: Name of the institution\n",
    "-   `Country`: Country/nation within the UK (England, Scotland, ...)\n",
    "-   `Founded`: Year in which university (or a predecessor institution)\n",
    "    was founded\n",
    "-   `Students`: Total number of students\n",
    "-   `Staff`: Number of academic staff\n",
    "-   `Admin`: Number of administrative staff\n",
    "-   `Budget`: Budget in million pounds\n",
    "-   `Russell`: Binary indicator whether university is a member of the\n",
    "    [Russell Group](https://en.wikipedia.org/wiki/Russell_Group),\n",
    "    an association of the UK's top research universities.\n",
    "\n",
    "The data was compiled based on information from Wikipedia."
   ]
  },
  {
   "cell_type": "markdown",
   "metadata": {},
   "source": [
    "Before we read in any data, it is convenient to define a variable pointing to the directory where the data resides. We can either use a relative local path `../data`, which, however, will not work when running the notebook in some cloud environments such as Google Colab. Alternatively, we can use the full URL to the data file in the GitHub repository."
   ]
  },
  {
   "cell_type": "code",
   "execution_count": 6,
   "metadata": {},
   "outputs": [],
   "source": [
    "# Uncomment this to use files in the local data/ directory\n",
    "# DATA_PATH = '../data'\n",
    "\n",
    "# Load data directly from GitHub\n",
    "DATA_PATH = 'https://raw.githubusercontent.com/richardfoltyn/MLFP-ECON5130/main/data'"
   ]
  },
  {
   "cell_type": "markdown",
   "metadata": {},
   "source": [
    "We can now read in the data stored in the file `universities.csv` like this:"
   ]
  },
  {
   "cell_type": "code",
   "execution_count": 7,
   "metadata": {
    "collapsed": false,
    "pycharm": {
     "name": "#%%\n"
    }
   },
   "outputs": [],
   "source": [
    "import pandas as pd\n",
    "\n",
    "# URL to CSV file in GitHub repository\n",
    "file = f'{DATA_PATH}/universities.csv'\n",
    "\n",
    "# Load sample data set of UK universities. Individual fields are separated\n",
    "# using ; so we need to pass sep=';' as an argument.\n",
    "df = pd.read_csv(file, sep=';')"
   ]
  },
  {
   "cell_type": "markdown",
   "metadata": {
    "collapsed": false,
    "pycharm": {
     "name": "#%% md\n"
    }
   },
   "source": [
    "We can now display the first and last three rows:"
   ]
  },
  {
   "cell_type": "code",
   "execution_count": 8,
   "metadata": {
    "collapsed": false,
    "pycharm": {
     "name": "#%%\n"
    }
   },
   "outputs": [
    {
     "data": {
      "text/html": [
       "<div>\n",
       "<style scoped>\n",
       "    .dataframe tbody tr th:only-of-type {\n",
       "        vertical-align: middle;\n",
       "    }\n",
       "\n",
       "    .dataframe tbody tr th {\n",
       "        vertical-align: top;\n",
       "    }\n",
       "\n",
       "    .dataframe thead th {\n",
       "        text-align: right;\n",
       "    }\n",
       "</style>\n",
       "<table border=\"1\" class=\"dataframe\">\n",
       "  <thead>\n",
       "    <tr style=\"text-align: right;\">\n",
       "      <th></th>\n",
       "      <th>Institution</th>\n",
       "      <th>Country</th>\n",
       "      <th>Founded</th>\n",
       "      <th>Students</th>\n",
       "      <th>Staff</th>\n",
       "      <th>Admin</th>\n",
       "      <th>Budget</th>\n",
       "      <th>Russell</th>\n",
       "    </tr>\n",
       "  </thead>\n",
       "  <tbody>\n",
       "    <tr>\n",
       "      <th>0</th>\n",
       "      <td>University of Glasgow</td>\n",
       "      <td>Scotland</td>\n",
       "      <td>1451</td>\n",
       "      <td>30805</td>\n",
       "      <td>2942.0</td>\n",
       "      <td>4003.0</td>\n",
       "      <td>626.5</td>\n",
       "      <td>1</td>\n",
       "    </tr>\n",
       "    <tr>\n",
       "      <th>1</th>\n",
       "      <td>University of Edinburgh</td>\n",
       "      <td>Scotland</td>\n",
       "      <td>1583</td>\n",
       "      <td>34275</td>\n",
       "      <td>4589.0</td>\n",
       "      <td>6107.0</td>\n",
       "      <td>1102.0</td>\n",
       "      <td>1</td>\n",
       "    </tr>\n",
       "    <tr>\n",
       "      <th>2</th>\n",
       "      <td>University of St Andrews</td>\n",
       "      <td>Scotland</td>\n",
       "      <td>1413</td>\n",
       "      <td>8984</td>\n",
       "      <td>1137.0</td>\n",
       "      <td>1576.0</td>\n",
       "      <td>251.2</td>\n",
       "      <td>0</td>\n",
       "    </tr>\n",
       "  </tbody>\n",
       "</table>\n",
       "</div>"
      ],
      "text/plain": [
       "                Institution   Country  Founded  Students   Staff   Admin  \\\n",
       "0     University of Glasgow  Scotland     1451     30805  2942.0  4003.0   \n",
       "1   University of Edinburgh  Scotland     1583     34275  4589.0  6107.0   \n",
       "2  University of St Andrews  Scotland     1413      8984  1137.0  1576.0   \n",
       "\n",
       "   Budget  Russell  \n",
       "0   626.5        1  \n",
       "1  1102.0        1  \n",
       "2   251.2        0  "
      ]
     },
     "execution_count": 8,
     "metadata": {},
     "output_type": "execute_result"
    }
   ],
   "source": [
    "df.head(3)      # show first three rows"
   ]
  },
  {
   "cell_type": "code",
   "execution_count": 9,
   "metadata": {
    "collapsed": false,
    "pycharm": {
     "name": "#%%\n"
    }
   },
   "outputs": [
    {
     "data": {
      "text/html": [
       "<div>\n",
       "<style scoped>\n",
       "    .dataframe tbody tr th:only-of-type {\n",
       "        vertical-align: middle;\n",
       "    }\n",
       "\n",
       "    .dataframe tbody tr th {\n",
       "        vertical-align: top;\n",
       "    }\n",
       "\n",
       "    .dataframe thead th {\n",
       "        text-align: right;\n",
       "    }\n",
       "</style>\n",
       "<table border=\"1\" class=\"dataframe\">\n",
       "  <thead>\n",
       "    <tr style=\"text-align: right;\">\n",
       "      <th></th>\n",
       "      <th>Institution</th>\n",
       "      <th>Country</th>\n",
       "      <th>Founded</th>\n",
       "      <th>Students</th>\n",
       "      <th>Staff</th>\n",
       "      <th>Admin</th>\n",
       "      <th>Budget</th>\n",
       "      <th>Russell</th>\n",
       "    </tr>\n",
       "  </thead>\n",
       "  <tbody>\n",
       "    <tr>\n",
       "      <th>20</th>\n",
       "      <td>University of Stirling</td>\n",
       "      <td>Scotland</td>\n",
       "      <td>1967</td>\n",
       "      <td>9548</td>\n",
       "      <td>NaN</td>\n",
       "      <td>1872.0</td>\n",
       "      <td>113.3</td>\n",
       "      <td>0</td>\n",
       "    </tr>\n",
       "    <tr>\n",
       "      <th>21</th>\n",
       "      <td>Queen’s University Belfast</td>\n",
       "      <td>Northern Ireland</td>\n",
       "      <td>1810</td>\n",
       "      <td>18438</td>\n",
       "      <td>2414.0</td>\n",
       "      <td>1489.0</td>\n",
       "      <td>369.2</td>\n",
       "      <td>1</td>\n",
       "    </tr>\n",
       "    <tr>\n",
       "      <th>22</th>\n",
       "      <td>Swansea University</td>\n",
       "      <td>Wales</td>\n",
       "      <td>1920</td>\n",
       "      <td>20620</td>\n",
       "      <td>NaN</td>\n",
       "      <td>3290.0</td>\n",
       "      <td>NaN</td>\n",
       "      <td>0</td>\n",
       "    </tr>\n",
       "  </tbody>\n",
       "</table>\n",
       "</div>"
      ],
      "text/plain": [
       "                   Institution           Country  Founded  Students   Staff  \\\n",
       "20      University of Stirling          Scotland     1967      9548     NaN   \n",
       "21  Queen’s University Belfast  Northern Ireland     1810     18438  2414.0   \n",
       "22          Swansea University             Wales     1920     20620     NaN   \n",
       "\n",
       "     Admin  Budget  Russell  \n",
       "20  1872.0   113.3        0  \n",
       "21  1489.0   369.2        1  \n",
       "22  3290.0     NaN        0  "
      ]
     },
     "execution_count": 9,
     "metadata": {},
     "output_type": "execute_result"
    }
   ],
   "source": [
    "df.tail(3)      # show last three rows"
   ]
  },
  {
   "cell_type": "markdown",
   "metadata": {
    "collapsed": false,
    "pycharm": {
     "name": "#%% md\n"
    }
   },
   "source": [
    "To quickly compute some descriptive statistics for the\n",
    "*numerical* variables in the `DataFrame`, we use `describe()`:"
   ]
  },
  {
   "cell_type": "code",
   "execution_count": 10,
   "metadata": {
    "collapsed": false,
    "pycharm": {
     "name": "#%%\n"
    }
   },
   "outputs": [
    {
     "data": {
      "text/html": [
       "<div>\n",
       "<style scoped>\n",
       "    .dataframe tbody tr th:only-of-type {\n",
       "        vertical-align: middle;\n",
       "    }\n",
       "\n",
       "    .dataframe tbody tr th {\n",
       "        vertical-align: top;\n",
       "    }\n",
       "\n",
       "    .dataframe thead th {\n",
       "        text-align: right;\n",
       "    }\n",
       "</style>\n",
       "<table border=\"1\" class=\"dataframe\">\n",
       "  <thead>\n",
       "    <tr style=\"text-align: right;\">\n",
       "      <th></th>\n",
       "      <th>Founded</th>\n",
       "      <th>Students</th>\n",
       "      <th>Staff</th>\n",
       "      <th>Admin</th>\n",
       "      <th>Budget</th>\n",
       "      <th>Russell</th>\n",
       "    </tr>\n",
       "  </thead>\n",
       "  <tbody>\n",
       "    <tr>\n",
       "      <th>count</th>\n",
       "      <td>23.000000</td>\n",
       "      <td>23.000000</td>\n",
       "      <td>20.000000</td>\n",
       "      <td>19.000000</td>\n",
       "      <td>22.000000</td>\n",
       "      <td>23.000000</td>\n",
       "    </tr>\n",
       "    <tr>\n",
       "      <th>mean</th>\n",
       "      <td>1745.652174</td>\n",
       "      <td>24106.782609</td>\n",
       "      <td>3664.250000</td>\n",
       "      <td>3556.736842</td>\n",
       "      <td>768.609091</td>\n",
       "      <td>0.739130</td>\n",
       "    </tr>\n",
       "    <tr>\n",
       "      <th>std</th>\n",
       "      <td>256.992149</td>\n",
       "      <td>9093.000735</td>\n",
       "      <td>2025.638038</td>\n",
       "      <td>1550.434342</td>\n",
       "      <td>608.234948</td>\n",
       "      <td>0.448978</td>\n",
       "    </tr>\n",
       "    <tr>\n",
       "      <th>min</th>\n",
       "      <td>1096.000000</td>\n",
       "      <td>8984.000000</td>\n",
       "      <td>1086.000000</td>\n",
       "      <td>1489.000000</td>\n",
       "      <td>113.300000</td>\n",
       "      <td>0.000000</td>\n",
       "    </tr>\n",
       "    <tr>\n",
       "      <th>25%</th>\n",
       "      <td>1589.000000</td>\n",
       "      <td>18776.500000</td>\n",
       "      <td>2294.250000</td>\n",
       "      <td>2193.500000</td>\n",
       "      <td>340.850000</td>\n",
       "      <td>0.500000</td>\n",
       "    </tr>\n",
       "    <tr>\n",
       "      <th>50%</th>\n",
       "      <td>1826.000000</td>\n",
       "      <td>23247.000000</td>\n",
       "      <td>3307.500000</td>\n",
       "      <td>3485.000000</td>\n",
       "      <td>643.750000</td>\n",
       "      <td>1.000000</td>\n",
       "    </tr>\n",
       "    <tr>\n",
       "      <th>75%</th>\n",
       "      <td>1941.500000</td>\n",
       "      <td>30801.500000</td>\n",
       "      <td>4439.750000</td>\n",
       "      <td>4347.500000</td>\n",
       "      <td>1023.500000</td>\n",
       "      <td>1.000000</td>\n",
       "    </tr>\n",
       "    <tr>\n",
       "      <th>max</th>\n",
       "      <td>2004.000000</td>\n",
       "      <td>41180.000000</td>\n",
       "      <td>7913.000000</td>\n",
       "      <td>6199.000000</td>\n",
       "      <td>2450.000000</td>\n",
       "      <td>1.000000</td>\n",
       "    </tr>\n",
       "  </tbody>\n",
       "</table>\n",
       "</div>"
      ],
      "text/plain": [
       "           Founded      Students        Staff        Admin       Budget  \\\n",
       "count    23.000000     23.000000    20.000000    19.000000    22.000000   \n",
       "mean   1745.652174  24106.782609  3664.250000  3556.736842   768.609091   \n",
       "std     256.992149   9093.000735  2025.638038  1550.434342   608.234948   \n",
       "min    1096.000000   8984.000000  1086.000000  1489.000000   113.300000   \n",
       "25%    1589.000000  18776.500000  2294.250000  2193.500000   340.850000   \n",
       "50%    1826.000000  23247.000000  3307.500000  3485.000000   643.750000   \n",
       "75%    1941.500000  30801.500000  4439.750000  4347.500000  1023.500000   \n",
       "max    2004.000000  41180.000000  7913.000000  6199.000000  2450.000000   \n",
       "\n",
       "         Russell  \n",
       "count  23.000000  \n",
       "mean    0.739130  \n",
       "std     0.448978  \n",
       "min     0.000000  \n",
       "25%     0.500000  \n",
       "50%     1.000000  \n",
       "75%     1.000000  \n",
       "max     1.000000  "
      ]
     },
     "execution_count": 10,
     "metadata": {},
     "output_type": "execute_result"
    }
   ],
   "source": [
    "df.describe()"
   ]
  },
  {
   "cell_type": "markdown",
   "metadata": {
    "collapsed": false,
    "pycharm": {
     "name": "#%% md\n"
    }
   },
   "source": [
    "Note that this automatically ignores the columns `Institution`\n",
    "and `Country` as they contain strings, and computing the mean, etc.\n",
    "of a string variable does not make sense.\n",
    "\n",
    "To see low-level information about the data type\n",
    "used in each column, we call `info()`:"
   ]
  },
  {
   "cell_type": "code",
   "execution_count": 11,
   "metadata": {
    "collapsed": false,
    "pycharm": {
     "name": "#%%\n"
    }
   },
   "outputs": [
    {
     "name": "stdout",
     "output_type": "stream",
     "text": [
      "<class 'pandas.core.frame.DataFrame'>\n",
      "RangeIndex: 23 entries, 0 to 22\n",
      "Data columns (total 8 columns):\n",
      " #   Column       Non-Null Count  Dtype  \n",
      "---  ------       --------------  -----  \n",
      " 0   Institution  23 non-null     object \n",
      " 1   Country      23 non-null     object \n",
      " 2   Founded      23 non-null     int64  \n",
      " 3   Students     23 non-null     int64  \n",
      " 4   Staff        20 non-null     float64\n",
      " 5   Admin        19 non-null     float64\n",
      " 6   Budget       22 non-null     float64\n",
      " 7   Russell      23 non-null     int64  \n",
      "dtypes: float64(3), int64(3), object(2)\n",
      "memory usage: 1.6+ KB\n"
     ]
    }
   ],
   "source": [
    "df.info()"
   ]
  },
  {
   "cell_type": "markdown",
   "metadata": {
    "collapsed": false,
    "pycharm": {
     "name": "#%% md\n"
    }
   },
   "source": [
    "Pandas automatically discards missing information\n",
    "in computations. For example, the number of academic staff\n",
    "is missing for several universities, so the number of\n",
    "*non-null* entries reported in the table above is less than 23,\n",
    "the overall sample size."
   ]
  },
  {
   "cell_type": "markdown",
   "metadata": {
    "collapsed": false,
    "pycharm": {
     "name": "#%% md\n"
    }
   },
   "source": [
    "***\n",
    "## Indexing\n",
    "\n",
    "Pandas supports two types of indexing:\n",
    "\n",
    "1.  Indexing by position. This is basically identical to the\n",
    "    indexing of other Python and NumPy containers.\n",
    "2.  Indexing by label, i.e., by the values assigned to the row or column index.\n",
    "    These labels need not be integers in increasing order, as is the case\n",
    "    for NumPy.\n",
    "\n",
    "    We will see how to assign labels below.\n",
    "\n",
    "Pandas indexing is performed either by using brackets `[]`, or by using\n",
    "`.loc[]` for label indexing, or `.iloc[]` for positional indexing.\n",
    "\n",
    "Indexing via `[]` can be somewhat confusing:\n",
    "\n",
    "-   specifying `df['name']` returns the column `name` as a `Series` object.\n",
    "-   On the other hand, specifying a range such as `df[5:10]` returns the *rows*\n",
    "    associated with the *positions* 5,...,9.\n",
    "\n",
    "*Examples:*"
   ]
  },
  {
   "cell_type": "code",
   "execution_count": 12,
   "metadata": {
    "collapsed": false,
    "pycharm": {
     "name": "#%%\n"
    }
   },
   "outputs": [
    {
     "data": {
      "text/plain": [
       "0               University of Glasgow\n",
       "1             University of Edinburgh\n",
       "2            University of St Andrews\n",
       "3              University of Aberdeen\n",
       "4           University of Strathclyde\n",
       "5                                 LSE\n",
       "6                                 UCL\n",
       "7             University of Cambridge\n",
       "8                University of Oxford\n",
       "9               University of Warwick\n",
       "10            Imperial College London\n",
       "11              King’s College London\n",
       "12           University of Manchester\n",
       "13              University of Bristol\n",
       "14           University of Birmingham\n",
       "15    Queen Mary University of London\n",
       "16                 University of York\n",
       "17           University of Nottingham\n",
       "18               University of Dundee\n",
       "19                 Cardiff University\n",
       "20             University of Stirling\n",
       "21         Queen’s University Belfast\n",
       "22                 Swansea University\n",
       "Name: Institution, dtype: object"
      ]
     },
     "execution_count": 12,
     "metadata": {},
     "output_type": "execute_result"
    }
   ],
   "source": [
    "import pandas as pd\n",
    "\n",
    "# Load sample data set of UK universities\n",
    "df = pd.read_csv(f'{DATA_PATH}/universities.csv', sep=';')\n",
    "df['Institution']               # select a single column"
   ]
  },
  {
   "cell_type": "code",
   "execution_count": 13,
   "metadata": {
    "collapsed": false,
    "pycharm": {
     "name": "#%%\n"
    }
   },
   "outputs": [
    {
     "data": {
      "text/html": [
       "<div>\n",
       "<style scoped>\n",
       "    .dataframe tbody tr th:only-of-type {\n",
       "        vertical-align: middle;\n",
       "    }\n",
       "\n",
       "    .dataframe tbody tr th {\n",
       "        vertical-align: top;\n",
       "    }\n",
       "\n",
       "    .dataframe thead th {\n",
       "        text-align: right;\n",
       "    }\n",
       "</style>\n",
       "<table border=\"1\" class=\"dataframe\">\n",
       "  <thead>\n",
       "    <tr style=\"text-align: right;\">\n",
       "      <th></th>\n",
       "      <th>Institution</th>\n",
       "      <th>Students</th>\n",
       "    </tr>\n",
       "  </thead>\n",
       "  <tbody>\n",
       "    <tr>\n",
       "      <th>0</th>\n",
       "      <td>University of Glasgow</td>\n",
       "      <td>30805</td>\n",
       "    </tr>\n",
       "    <tr>\n",
       "      <th>1</th>\n",
       "      <td>University of Edinburgh</td>\n",
       "      <td>34275</td>\n",
       "    </tr>\n",
       "    <tr>\n",
       "      <th>2</th>\n",
       "      <td>University of St Andrews</td>\n",
       "      <td>8984</td>\n",
       "    </tr>\n",
       "    <tr>\n",
       "      <th>3</th>\n",
       "      <td>University of Aberdeen</td>\n",
       "      <td>14775</td>\n",
       "    </tr>\n",
       "    <tr>\n",
       "      <th>4</th>\n",
       "      <td>University of Strathclyde</td>\n",
       "      <td>22640</td>\n",
       "    </tr>\n",
       "    <tr>\n",
       "      <th>5</th>\n",
       "      <td>LSE</td>\n",
       "      <td>11850</td>\n",
       "    </tr>\n",
       "    <tr>\n",
       "      <th>6</th>\n",
       "      <td>UCL</td>\n",
       "      <td>41180</td>\n",
       "    </tr>\n",
       "    <tr>\n",
       "      <th>7</th>\n",
       "      <td>University of Cambridge</td>\n",
       "      <td>23247</td>\n",
       "    </tr>\n",
       "    <tr>\n",
       "      <th>8</th>\n",
       "      <td>University of Oxford</td>\n",
       "      <td>24515</td>\n",
       "    </tr>\n",
       "    <tr>\n",
       "      <th>9</th>\n",
       "      <td>University of Warwick</td>\n",
       "      <td>27278</td>\n",
       "    </tr>\n",
       "    <tr>\n",
       "      <th>10</th>\n",
       "      <td>Imperial College London</td>\n",
       "      <td>19115</td>\n",
       "    </tr>\n",
       "    <tr>\n",
       "      <th>11</th>\n",
       "      <td>King’s College London</td>\n",
       "      <td>32895</td>\n",
       "    </tr>\n",
       "    <tr>\n",
       "      <th>12</th>\n",
       "      <td>University of Manchester</td>\n",
       "      <td>40250</td>\n",
       "    </tr>\n",
       "    <tr>\n",
       "      <th>13</th>\n",
       "      <td>University of Bristol</td>\n",
       "      <td>25955</td>\n",
       "    </tr>\n",
       "    <tr>\n",
       "      <th>14</th>\n",
       "      <td>University of Birmingham</td>\n",
       "      <td>35445</td>\n",
       "    </tr>\n",
       "    <tr>\n",
       "      <th>15</th>\n",
       "      <td>Queen Mary University of London</td>\n",
       "      <td>20560</td>\n",
       "    </tr>\n",
       "    <tr>\n",
       "      <th>16</th>\n",
       "      <td>University of York</td>\n",
       "      <td>19470</td>\n",
       "    </tr>\n",
       "    <tr>\n",
       "      <th>17</th>\n",
       "      <td>University of Nottingham</td>\n",
       "      <td>30798</td>\n",
       "    </tr>\n",
       "    <tr>\n",
       "      <th>18</th>\n",
       "      <td>University of Dundee</td>\n",
       "      <td>15915</td>\n",
       "    </tr>\n",
       "    <tr>\n",
       "      <th>19</th>\n",
       "      <td>Cardiff University</td>\n",
       "      <td>25898</td>\n",
       "    </tr>\n",
       "    <tr>\n",
       "      <th>20</th>\n",
       "      <td>University of Stirling</td>\n",
       "      <td>9548</td>\n",
       "    </tr>\n",
       "    <tr>\n",
       "      <th>21</th>\n",
       "      <td>Queen’s University Belfast</td>\n",
       "      <td>18438</td>\n",
       "    </tr>\n",
       "    <tr>\n",
       "      <th>22</th>\n",
       "      <td>Swansea University</td>\n",
       "      <td>20620</td>\n",
       "    </tr>\n",
       "  </tbody>\n",
       "</table>\n",
       "</div>"
      ],
      "text/plain": [
       "                        Institution  Students\n",
       "0             University of Glasgow     30805\n",
       "1           University of Edinburgh     34275\n",
       "2          University of St Andrews      8984\n",
       "3            University of Aberdeen     14775\n",
       "4         University of Strathclyde     22640\n",
       "5                               LSE     11850\n",
       "6                               UCL     41180\n",
       "7           University of Cambridge     23247\n",
       "8              University of Oxford     24515\n",
       "9             University of Warwick     27278\n",
       "10          Imperial College London     19115\n",
       "11            King’s College London     32895\n",
       "12         University of Manchester     40250\n",
       "13            University of Bristol     25955\n",
       "14         University of Birmingham     35445\n",
       "15  Queen Mary University of London     20560\n",
       "16               University of York     19470\n",
       "17         University of Nottingham     30798\n",
       "18             University of Dundee     15915\n",
       "19               Cardiff University     25898\n",
       "20           University of Stirling      9548\n",
       "21       Queen’s University Belfast     18438\n",
       "22               Swansea University     20620"
      ]
     },
     "execution_count": 13,
     "metadata": {},
     "output_type": "execute_result"
    }
   ],
   "source": [
    "df[['Institution', 'Students']]     # select multiple columns using a list"
   ]
  },
  {
   "cell_type": "markdown",
   "metadata": {
    "collapsed": false,
    "pycharm": {
     "name": "#%% md\n"
    }
   },
   "source": [
    "To return the rows at positions 1, 2 and 3 we use"
   ]
  },
  {
   "cell_type": "code",
   "execution_count": 14,
   "metadata": {
    "collapsed": false,
    "pycharm": {
     "name": "#%%\n"
    }
   },
   "outputs": [
    {
     "data": {
      "text/html": [
       "<div>\n",
       "<style scoped>\n",
       "    .dataframe tbody tr th:only-of-type {\n",
       "        vertical-align: middle;\n",
       "    }\n",
       "\n",
       "    .dataframe tbody tr th {\n",
       "        vertical-align: top;\n",
       "    }\n",
       "\n",
       "    .dataframe thead th {\n",
       "        text-align: right;\n",
       "    }\n",
       "</style>\n",
       "<table border=\"1\" class=\"dataframe\">\n",
       "  <thead>\n",
       "    <tr style=\"text-align: right;\">\n",
       "      <th></th>\n",
       "      <th>Institution</th>\n",
       "      <th>Country</th>\n",
       "      <th>Founded</th>\n",
       "      <th>Students</th>\n",
       "      <th>Staff</th>\n",
       "      <th>Admin</th>\n",
       "      <th>Budget</th>\n",
       "      <th>Russell</th>\n",
       "    </tr>\n",
       "  </thead>\n",
       "  <tbody>\n",
       "    <tr>\n",
       "      <th>1</th>\n",
       "      <td>University of Edinburgh</td>\n",
       "      <td>Scotland</td>\n",
       "      <td>1583</td>\n",
       "      <td>34275</td>\n",
       "      <td>4589.0</td>\n",
       "      <td>6107.0</td>\n",
       "      <td>1102.0</td>\n",
       "      <td>1</td>\n",
       "    </tr>\n",
       "    <tr>\n",
       "      <th>2</th>\n",
       "      <td>University of St Andrews</td>\n",
       "      <td>Scotland</td>\n",
       "      <td>1413</td>\n",
       "      <td>8984</td>\n",
       "      <td>1137.0</td>\n",
       "      <td>1576.0</td>\n",
       "      <td>251.2</td>\n",
       "      <td>0</td>\n",
       "    </tr>\n",
       "    <tr>\n",
       "      <th>3</th>\n",
       "      <td>University of Aberdeen</td>\n",
       "      <td>Scotland</td>\n",
       "      <td>1495</td>\n",
       "      <td>14775</td>\n",
       "      <td>1086.0</td>\n",
       "      <td>1489.0</td>\n",
       "      <td>219.5</td>\n",
       "      <td>0</td>\n",
       "    </tr>\n",
       "  </tbody>\n",
       "</table>\n",
       "</div>"
      ],
      "text/plain": [
       "                Institution   Country  Founded  Students   Staff   Admin  \\\n",
       "1   University of Edinburgh  Scotland     1583     34275  4589.0  6107.0   \n",
       "2  University of St Andrews  Scotland     1413      8984  1137.0  1576.0   \n",
       "3    University of Aberdeen  Scotland     1495     14775  1086.0  1489.0   \n",
       "\n",
       "   Budget  Russell  \n",
       "1  1102.0        1  \n",
       "2   251.2        0  \n",
       "3   219.5        0  "
      ]
     },
     "execution_count": 14,
     "metadata": {},
     "output_type": "execute_result"
    }
   ],
   "source": [
    "df[1:4]"
   ]
  },
  {
   "cell_type": "markdown",
   "metadata": {
    "collapsed": false,
    "pycharm": {
     "name": "#%% md\n"
    }
   },
   "source": [
    "Pandas follows the Python convention that indices are 0-based, and the\n",
    "endpoint of a slice is not included."
   ]
  },
  {
   "cell_type": "markdown",
   "metadata": {
    "collapsed": false,
    "pycharm": {
     "name": "#%% md\n"
    }
   },
   "source": [
    "### Manipulating indices\n",
    "\n",
    "Pandas uses *labels* to index and align\n",
    "data. These can be integer values starting at 0 with increments of 1\n",
    "for each additional element, which is the default, but they need not be.\n",
    "The two main methods to manipulate indices are:\n",
    "\n",
    "-   `set_index(keys=['column1', ...])`: uses the values of `column1`\n",
    "    and optionally additional columns as indices, discarding the current index.\n",
    "-   `reset_index()`: resets the index to its default value, a sequence\n",
    "    of increasing integers starting at 0.\n",
    "\n",
    "Both methods return a new `DataFrame` and leave the original `DataFrame`\n",
    "unchanged. If we want to change the existing `DataFrame`, we need\n",
    "to pass the argument `inplace=True`.\n",
    "\n",
    "For example, we can replace the row index and use the Roman lower-case\n",
    " characters `a`, `b`, `c`, ... as labels\n",
    "instead of integers:"
   ]
  },
  {
   "cell_type": "code",
   "execution_count": 15,
   "metadata": {
    "collapsed": false,
    "pycharm": {
     "name": "#%%\n"
    }
   },
   "outputs": [
    {
     "data": {
      "text/plain": [
       "['a',\n",
       " 'b',\n",
       " 'c',\n",
       " 'd',\n",
       " 'e',\n",
       " 'f',\n",
       " 'g',\n",
       " 'h',\n",
       " 'i',\n",
       " 'j',\n",
       " 'k',\n",
       " 'l',\n",
       " 'm',\n",
       " 'n',\n",
       " 'o',\n",
       " 'p',\n",
       " 'q',\n",
       " 'r',\n",
       " 's',\n",
       " 't',\n",
       " 'u',\n",
       " 'v',\n",
       " 'w']"
      ]
     },
     "execution_count": 15,
     "metadata": {},
     "output_type": "execute_result"
    }
   ],
   "source": [
    "import pandas as pd\n",
    "df = pd.read_csv(f'{DATA_PATH}/universities.csv', sep=';')\n",
    "\n",
    "# Create list of lower-case letters which has same\n",
    "# length as the number of observations.\n",
    "index = [chr(97+i) for i in range(len(df))]     # len(df) returns number of obs.\n",
    "index"
   ]
  },
  {
   "cell_type": "code",
   "execution_count": 16,
   "metadata": {
    "collapsed": false,
    "pycharm": {
     "name": "#%%\n"
    }
   },
   "outputs": [
    {
     "data": {
      "text/html": [
       "<div>\n",
       "<style scoped>\n",
       "    .dataframe tbody tr th:only-of-type {\n",
       "        vertical-align: middle;\n",
       "    }\n",
       "\n",
       "    .dataframe tbody tr th {\n",
       "        vertical-align: top;\n",
       "    }\n",
       "\n",
       "    .dataframe thead th {\n",
       "        text-align: right;\n",
       "    }\n",
       "</style>\n",
       "<table border=\"1\" class=\"dataframe\">\n",
       "  <thead>\n",
       "    <tr style=\"text-align: right;\">\n",
       "      <th></th>\n",
       "      <th>Institution</th>\n",
       "      <th>Country</th>\n",
       "      <th>Founded</th>\n",
       "      <th>Students</th>\n",
       "      <th>Staff</th>\n",
       "      <th>Admin</th>\n",
       "      <th>Budget</th>\n",
       "      <th>Russell</th>\n",
       "    </tr>\n",
       "    <tr>\n",
       "      <th>index</th>\n",
       "      <th></th>\n",
       "      <th></th>\n",
       "      <th></th>\n",
       "      <th></th>\n",
       "      <th></th>\n",
       "      <th></th>\n",
       "      <th></th>\n",
       "      <th></th>\n",
       "    </tr>\n",
       "  </thead>\n",
       "  <tbody>\n",
       "    <tr>\n",
       "      <th>a</th>\n",
       "      <td>University of Glasgow</td>\n",
       "      <td>Scotland</td>\n",
       "      <td>1451</td>\n",
       "      <td>30805</td>\n",
       "      <td>2942.0</td>\n",
       "      <td>4003.0</td>\n",
       "      <td>626.5</td>\n",
       "      <td>1</td>\n",
       "    </tr>\n",
       "    <tr>\n",
       "      <th>b</th>\n",
       "      <td>University of Edinburgh</td>\n",
       "      <td>Scotland</td>\n",
       "      <td>1583</td>\n",
       "      <td>34275</td>\n",
       "      <td>4589.0</td>\n",
       "      <td>6107.0</td>\n",
       "      <td>1102.0</td>\n",
       "      <td>1</td>\n",
       "    </tr>\n",
       "    <tr>\n",
       "      <th>c</th>\n",
       "      <td>University of St Andrews</td>\n",
       "      <td>Scotland</td>\n",
       "      <td>1413</td>\n",
       "      <td>8984</td>\n",
       "      <td>1137.0</td>\n",
       "      <td>1576.0</td>\n",
       "      <td>251.2</td>\n",
       "      <td>0</td>\n",
       "    </tr>\n",
       "  </tbody>\n",
       "</table>\n",
       "</div>"
      ],
      "text/plain": [
       "                    Institution   Country  Founded  Students   Staff   Admin  \\\n",
       "index                                                                          \n",
       "a         University of Glasgow  Scotland     1451     30805  2942.0  4003.0   \n",
       "b       University of Edinburgh  Scotland     1583     34275  4589.0  6107.0   \n",
       "c      University of St Andrews  Scotland     1413      8984  1137.0  1576.0   \n",
       "\n",
       "       Budget  Russell  \n",
       "index                   \n",
       "a       626.5        1  \n",
       "b      1102.0        1  \n",
       "c       251.2        0  "
      ]
     },
     "execution_count": 16,
     "metadata": {},
     "output_type": "execute_result"
    }
   ],
   "source": [
    "df['index'] = index                             # create new column 'index'\n",
    "df.set_index(keys=['index'], inplace=True)      # set letters as index!\n",
    "\n",
    "# print first 3 rows using labels\n",
    "df['a':'c']             # This is the same as df[:3]"
   ]
  },
  {
   "cell_type": "markdown",
   "metadata": {
    "collapsed": false,
    "pycharm": {
     "name": "#%% md\n"
    }
   },
   "source": [
    "To add to the confusion, note that when specifying a range in terms of\n",
    "labels, the last element *is* included! Hence the row with index `c`\n",
    "in the above example is shown.\n",
    "\n",
    "We can reset the index to its default integer values using\n",
    "the `reset_index()` method:"
   ]
  },
  {
   "cell_type": "code",
   "execution_count": 17,
   "metadata": {
    "collapsed": false,
    "pycharm": {
     "name": "#%%\n"
    }
   },
   "outputs": [
    {
     "data": {
      "text/html": [
       "<div>\n",
       "<style scoped>\n",
       "    .dataframe tbody tr th:only-of-type {\n",
       "        vertical-align: middle;\n",
       "    }\n",
       "\n",
       "    .dataframe tbody tr th {\n",
       "        vertical-align: top;\n",
       "    }\n",
       "\n",
       "    .dataframe thead th {\n",
       "        text-align: right;\n",
       "    }\n",
       "</style>\n",
       "<table border=\"1\" class=\"dataframe\">\n",
       "  <thead>\n",
       "    <tr style=\"text-align: right;\">\n",
       "      <th></th>\n",
       "      <th>Institution</th>\n",
       "      <th>Country</th>\n",
       "      <th>Founded</th>\n",
       "      <th>Students</th>\n",
       "      <th>Staff</th>\n",
       "      <th>Admin</th>\n",
       "      <th>Budget</th>\n",
       "      <th>Russell</th>\n",
       "    </tr>\n",
       "  </thead>\n",
       "  <tbody>\n",
       "    <tr>\n",
       "      <th>0</th>\n",
       "      <td>University of Glasgow</td>\n",
       "      <td>Scotland</td>\n",
       "      <td>1451</td>\n",
       "      <td>30805</td>\n",
       "      <td>2942.0</td>\n",
       "      <td>4003.0</td>\n",
       "      <td>626.5</td>\n",
       "      <td>1</td>\n",
       "    </tr>\n",
       "    <tr>\n",
       "      <th>1</th>\n",
       "      <td>University of Edinburgh</td>\n",
       "      <td>Scotland</td>\n",
       "      <td>1583</td>\n",
       "      <td>34275</td>\n",
       "      <td>4589.0</td>\n",
       "      <td>6107.0</td>\n",
       "      <td>1102.0</td>\n",
       "      <td>1</td>\n",
       "    </tr>\n",
       "    <tr>\n",
       "      <th>2</th>\n",
       "      <td>University of St Andrews</td>\n",
       "      <td>Scotland</td>\n",
       "      <td>1413</td>\n",
       "      <td>8984</td>\n",
       "      <td>1137.0</td>\n",
       "      <td>1576.0</td>\n",
       "      <td>251.2</td>\n",
       "      <td>0</td>\n",
       "    </tr>\n",
       "  </tbody>\n",
       "</table>\n",
       "</div>"
      ],
      "text/plain": [
       "                Institution   Country  Founded  Students   Staff   Admin  \\\n",
       "0     University of Glasgow  Scotland     1451     30805  2942.0  4003.0   \n",
       "1   University of Edinburgh  Scotland     1583     34275  4589.0  6107.0   \n",
       "2  University of St Andrews  Scotland     1413      8984  1137.0  1576.0   \n",
       "\n",
       "   Budget  Russell  \n",
       "0   626.5        1  \n",
       "1  1102.0        1  \n",
       "2   251.2        0  "
      ]
     },
     "execution_count": 17,
     "metadata": {},
     "output_type": "execute_result"
    }
   ],
   "source": [
    "# Reset index labels to default value (integers 0, 1, 2, ...)\n",
    "df_new = df.reset_index(drop=True)\n",
    "df_new.head(3)          # print first 3 rows of new DataFrame"
   ]
  },
  {
   "cell_type": "markdown",
   "metadata": {
    "collapsed": false,
    "pycharm": {
     "name": "#%% md\n"
    }
   },
   "source": [
    "The `drop=True` argument tells pandas to throw away the old index\n",
    "values instead of storing them as a column of the resulting `DataFrame`.\n",
    "\n",
    "### Selecting elements\n",
    "\n",
    "To more clearly distinguish between selection by label and by position,\n",
    "pandas provides the `.loc[]` and `.iloc[]` methods of indexing.\n",
    "To make your intention obvious, you should therefore adhere to the following\n",
    "rules:\n",
    "\n",
    "1.  Use `df['name']` only to select *columns* and nothing else.\n",
    "2.  Use `.loc[]` to select by label.\n",
    "3.  Use `.iloc[]` to select by position.\n",
    "\n",
    "**Selection by label**\n",
    "\n",
    "To illustrate, using `.loc[]` unambiguously indexes by label:"
   ]
  },
  {
   "cell_type": "code",
   "execution_count": 18,
   "metadata": {
    "collapsed": false,
    "pycharm": {
     "name": "#%%\n"
    }
   },
   "outputs": [
    {
     "data": {
      "text/html": [
       "<div>\n",
       "<style scoped>\n",
       "    .dataframe tbody tr th:only-of-type {\n",
       "        vertical-align: middle;\n",
       "    }\n",
       "\n",
       "    .dataframe tbody tr th {\n",
       "        vertical-align: top;\n",
       "    }\n",
       "\n",
       "    .dataframe thead th {\n",
       "        text-align: right;\n",
       "    }\n",
       "</style>\n",
       "<table border=\"1\" class=\"dataframe\">\n",
       "  <thead>\n",
       "    <tr style=\"text-align: right;\">\n",
       "      <th></th>\n",
       "      <th>Institution</th>\n",
       "      <th>Students</th>\n",
       "    </tr>\n",
       "    <tr>\n",
       "      <th>index</th>\n",
       "      <th></th>\n",
       "      <th></th>\n",
       "    </tr>\n",
       "  </thead>\n",
       "  <tbody>\n",
       "    <tr>\n",
       "      <th>d</th>\n",
       "      <td>University of Aberdeen</td>\n",
       "      <td>14775</td>\n",
       "    </tr>\n",
       "    <tr>\n",
       "      <th>e</th>\n",
       "      <td>University of Strathclyde</td>\n",
       "      <td>22640</td>\n",
       "    </tr>\n",
       "    <tr>\n",
       "      <th>f</th>\n",
       "      <td>LSE</td>\n",
       "      <td>11850</td>\n",
       "    </tr>\n",
       "  </tbody>\n",
       "</table>\n",
       "</div>"
      ],
      "text/plain": [
       "                     Institution  Students\n",
       "index                                     \n",
       "d         University of Aberdeen     14775\n",
       "e      University of Strathclyde     22640\n",
       "f                            LSE     11850"
      ]
     },
     "execution_count": 18,
     "metadata": {},
     "output_type": "execute_result"
    }
   ],
   "source": [
    "df.loc['d':'f', ['Institution', 'Students']]"
   ]
  },
  {
   "cell_type": "markdown",
   "metadata": {
    "collapsed": false,
    "pycharm": {
     "name": "#%% md\n"
    }
   },
   "source": [
    "With `.loc[]` we can even perform slicing on column names, which\n",
    "is not possible with the simpler `df[]` syntax:"
   ]
  },
  {
   "cell_type": "code",
   "execution_count": 19,
   "metadata": {
    "collapsed": false,
    "pycharm": {
     "name": "#%%\n"
    }
   },
   "outputs": [
    {
     "data": {
      "text/html": [
       "<div>\n",
       "<style scoped>\n",
       "    .dataframe tbody tr th:only-of-type {\n",
       "        vertical-align: middle;\n",
       "    }\n",
       "\n",
       "    .dataframe tbody tr th {\n",
       "        vertical-align: top;\n",
       "    }\n",
       "\n",
       "    .dataframe thead th {\n",
       "        text-align: right;\n",
       "    }\n",
       "</style>\n",
       "<table border=\"1\" class=\"dataframe\">\n",
       "  <thead>\n",
       "    <tr style=\"text-align: right;\">\n",
       "      <th></th>\n",
       "      <th>Institution</th>\n",
       "      <th>Country</th>\n",
       "      <th>Founded</th>\n",
       "    </tr>\n",
       "    <tr>\n",
       "      <th>index</th>\n",
       "      <th></th>\n",
       "      <th></th>\n",
       "      <th></th>\n",
       "    </tr>\n",
       "  </thead>\n",
       "  <tbody>\n",
       "    <tr>\n",
       "      <th>d</th>\n",
       "      <td>University of Aberdeen</td>\n",
       "      <td>Scotland</td>\n",
       "      <td>1495</td>\n",
       "    </tr>\n",
       "    <tr>\n",
       "      <th>e</th>\n",
       "      <td>University of Strathclyde</td>\n",
       "      <td>Scotland</td>\n",
       "      <td>1964</td>\n",
       "    </tr>\n",
       "    <tr>\n",
       "      <th>f</th>\n",
       "      <td>LSE</td>\n",
       "      <td>England</td>\n",
       "      <td>1895</td>\n",
       "    </tr>\n",
       "  </tbody>\n",
       "</table>\n",
       "</div>"
      ],
      "text/plain": [
       "                     Institution   Country  Founded\n",
       "index                                              \n",
       "d         University of Aberdeen  Scotland     1495\n",
       "e      University of Strathclyde  Scotland     1964\n",
       "f                            LSE   England     1895"
      ]
     },
     "execution_count": 19,
     "metadata": {},
     "output_type": "execute_result"
    }
   ],
   "source": [
    "df.loc['d':'f', 'Institution':'Founded']"
   ]
  },
  {
   "cell_type": "markdown",
   "metadata": {
    "collapsed": false,
    "pycharm": {
     "name": "#%% md\n"
    }
   },
   "source": [
    "This includes all the columns between `Institution` and `Founded`,\n",
    "where the latter is included since we are slicing by label.\n",
    "\n",
    "Trying to pass in positional arguments will return an error for\n",
    "the given `DataFrame` since the index labels are `a`, `b`, `c`,...\n",
    "and not 0, 1, 2..."
   ]
  },
  {
   "cell_type": "code",
   "execution_count": 20,
   "metadata": {
    "collapsed": false,
    "pycharm": {
     "name": "#%%\n"
    }
   },
   "outputs": [
    {
     "ename": "TypeError",
     "evalue": "cannot do slice indexing on Index with these indexers [0] of type int",
     "output_type": "error",
     "traceback": [
      "\u001b[0;31mTypeError\u001b[0m\u001b[0;31m:\u001b[0m cannot do slice indexing on Index with these indexers [0] of type int\n"
     ]
    }
   ],
   "source": [
    "df.loc[0:4]"
   ]
  },
  {
   "cell_type": "markdown",
   "metadata": {
    "collapsed": false,
    "pycharm": {
     "name": "#%% md\n"
    }
   },
   "source": [
    "However, we can reset the index to its default value. Then\n",
    "the index labels are integers and coincide with their position,\n",
    "so that `.loc[]` works:"
   ]
  },
  {
   "cell_type": "code",
   "execution_count": 21,
   "metadata": {
    "collapsed": false,
    "pycharm": {
     "name": "#%%\n"
    }
   },
   "outputs": [
    {
     "data": {
      "text/html": [
       "<div>\n",
       "<style scoped>\n",
       "    .dataframe tbody tr th:only-of-type {\n",
       "        vertical-align: middle;\n",
       "    }\n",
       "\n",
       "    .dataframe tbody tr th {\n",
       "        vertical-align: top;\n",
       "    }\n",
       "\n",
       "    .dataframe thead th {\n",
       "        text-align: right;\n",
       "    }\n",
       "</style>\n",
       "<table border=\"1\" class=\"dataframe\">\n",
       "  <thead>\n",
       "    <tr style=\"text-align: right;\">\n",
       "      <th></th>\n",
       "      <th>Institution</th>\n",
       "      <th>Country</th>\n",
       "      <th>Founded</th>\n",
       "      <th>Students</th>\n",
       "      <th>Staff</th>\n",
       "      <th>Admin</th>\n",
       "      <th>Budget</th>\n",
       "      <th>Russell</th>\n",
       "    </tr>\n",
       "  </thead>\n",
       "  <tbody>\n",
       "    <tr>\n",
       "      <th>0</th>\n",
       "      <td>University of Glasgow</td>\n",
       "      <td>Scotland</td>\n",
       "      <td>1451</td>\n",
       "      <td>30805</td>\n",
       "      <td>2942.0</td>\n",
       "      <td>4003.0</td>\n",
       "      <td>626.5</td>\n",
       "      <td>1</td>\n",
       "    </tr>\n",
       "    <tr>\n",
       "      <th>1</th>\n",
       "      <td>University of Edinburgh</td>\n",
       "      <td>Scotland</td>\n",
       "      <td>1583</td>\n",
       "      <td>34275</td>\n",
       "      <td>4589.0</td>\n",
       "      <td>6107.0</td>\n",
       "      <td>1102.0</td>\n",
       "      <td>1</td>\n",
       "    </tr>\n",
       "    <tr>\n",
       "      <th>2</th>\n",
       "      <td>University of St Andrews</td>\n",
       "      <td>Scotland</td>\n",
       "      <td>1413</td>\n",
       "      <td>8984</td>\n",
       "      <td>1137.0</td>\n",
       "      <td>1576.0</td>\n",
       "      <td>251.2</td>\n",
       "      <td>0</td>\n",
       "    </tr>\n",
       "    <tr>\n",
       "      <th>3</th>\n",
       "      <td>University of Aberdeen</td>\n",
       "      <td>Scotland</td>\n",
       "      <td>1495</td>\n",
       "      <td>14775</td>\n",
       "      <td>1086.0</td>\n",
       "      <td>1489.0</td>\n",
       "      <td>219.5</td>\n",
       "      <td>0</td>\n",
       "    </tr>\n",
       "    <tr>\n",
       "      <th>4</th>\n",
       "      <td>University of Strathclyde</td>\n",
       "      <td>Scotland</td>\n",
       "      <td>1964</td>\n",
       "      <td>22640</td>\n",
       "      <td>NaN</td>\n",
       "      <td>3200.0</td>\n",
       "      <td>304.4</td>\n",
       "      <td>0</td>\n",
       "    </tr>\n",
       "  </tbody>\n",
       "</table>\n",
       "</div>"
      ],
      "text/plain": [
       "                 Institution   Country  Founded  Students   Staff   Admin  \\\n",
       "0      University of Glasgow  Scotland     1451     30805  2942.0  4003.0   \n",
       "1    University of Edinburgh  Scotland     1583     34275  4589.0  6107.0   \n",
       "2   University of St Andrews  Scotland     1413      8984  1137.0  1576.0   \n",
       "3     University of Aberdeen  Scotland     1495     14775  1086.0  1489.0   \n",
       "4  University of Strathclyde  Scotland     1964     22640     NaN  3200.0   \n",
       "\n",
       "   Budget  Russell  \n",
       "0   626.5        1  \n",
       "1  1102.0        1  \n",
       "2   251.2        0  \n",
       "3   219.5        0  \n",
       "4   304.4        0  "
      ]
     },
     "execution_count": 21,
     "metadata": {},
     "output_type": "execute_result"
    }
   ],
   "source": [
    "df.reset_index(inplace=True, drop=True)     # reset index labels to integers,\n",
    "                                            # drop original index\n",
    "df.loc[0:4]"
   ]
  },
  {
   "cell_type": "markdown",
   "metadata": {
    "collapsed": false,
    "pycharm": {
     "name": "#%% md\n"
    }
   },
   "source": [
    "Again, the end point with label `4` is included because we\n",
    "are selecting by label.\n",
    "\n",
    "Somewhat surprisingly, we can also pass boolean arrays to `.loc[]`\n",
    "even though these are clearly not labels:"
   ]
  },
  {
   "cell_type": "code",
   "execution_count": 22,
   "metadata": {},
   "outputs": [
    {
     "data": {
      "text/html": [
       "<div>\n",
       "<style scoped>\n",
       "    .dataframe tbody tr th:only-of-type {\n",
       "        vertical-align: middle;\n",
       "    }\n",
       "\n",
       "    .dataframe tbody tr th {\n",
       "        vertical-align: top;\n",
       "    }\n",
       "\n",
       "    .dataframe thead th {\n",
       "        text-align: right;\n",
       "    }\n",
       "</style>\n",
       "<table border=\"1\" class=\"dataframe\">\n",
       "  <thead>\n",
       "    <tr style=\"text-align: right;\">\n",
       "      <th></th>\n",
       "      <th>Institution</th>\n",
       "      <th>Country</th>\n",
       "      <th>Founded</th>\n",
       "      <th>Students</th>\n",
       "      <th>Staff</th>\n",
       "      <th>Admin</th>\n",
       "      <th>Budget</th>\n",
       "      <th>Russell</th>\n",
       "    </tr>\n",
       "  </thead>\n",
       "  <tbody>\n",
       "    <tr>\n",
       "      <th>0</th>\n",
       "      <td>University of Glasgow</td>\n",
       "      <td>Scotland</td>\n",
       "      <td>1451</td>\n",
       "      <td>30805</td>\n",
       "      <td>2942.0</td>\n",
       "      <td>4003.0</td>\n",
       "      <td>626.5</td>\n",
       "      <td>1</td>\n",
       "    </tr>\n",
       "    <tr>\n",
       "      <th>1</th>\n",
       "      <td>University of Edinburgh</td>\n",
       "      <td>Scotland</td>\n",
       "      <td>1583</td>\n",
       "      <td>34275</td>\n",
       "      <td>4589.0</td>\n",
       "      <td>6107.0</td>\n",
       "      <td>1102.0</td>\n",
       "      <td>1</td>\n",
       "    </tr>\n",
       "    <tr>\n",
       "      <th>2</th>\n",
       "      <td>University of St Andrews</td>\n",
       "      <td>Scotland</td>\n",
       "      <td>1413</td>\n",
       "      <td>8984</td>\n",
       "      <td>1137.0</td>\n",
       "      <td>1576.0</td>\n",
       "      <td>251.2</td>\n",
       "      <td>0</td>\n",
       "    </tr>\n",
       "    <tr>\n",
       "      <th>3</th>\n",
       "      <td>University of Aberdeen</td>\n",
       "      <td>Scotland</td>\n",
       "      <td>1495</td>\n",
       "      <td>14775</td>\n",
       "      <td>1086.0</td>\n",
       "      <td>1489.0</td>\n",
       "      <td>219.5</td>\n",
       "      <td>0</td>\n",
       "    </tr>\n",
       "    <tr>\n",
       "      <th>4</th>\n",
       "      <td>University of Strathclyde</td>\n",
       "      <td>Scotland</td>\n",
       "      <td>1964</td>\n",
       "      <td>22640</td>\n",
       "      <td>NaN</td>\n",
       "      <td>3200.0</td>\n",
       "      <td>304.4</td>\n",
       "      <td>0</td>\n",
       "    </tr>\n",
       "    <tr>\n",
       "      <th>18</th>\n",
       "      <td>University of Dundee</td>\n",
       "      <td>Scotland</td>\n",
       "      <td>1967</td>\n",
       "      <td>15915</td>\n",
       "      <td>1410.0</td>\n",
       "      <td>1805.0</td>\n",
       "      <td>256.4</td>\n",
       "      <td>0</td>\n",
       "    </tr>\n",
       "    <tr>\n",
       "      <th>20</th>\n",
       "      <td>University of Stirling</td>\n",
       "      <td>Scotland</td>\n",
       "      <td>1967</td>\n",
       "      <td>9548</td>\n",
       "      <td>NaN</td>\n",
       "      <td>1872.0</td>\n",
       "      <td>113.3</td>\n",
       "      <td>0</td>\n",
       "    </tr>\n",
       "  </tbody>\n",
       "</table>\n",
       "</div>"
      ],
      "text/plain": [
       "                  Institution   Country  Founded  Students   Staff   Admin  \\\n",
       "0       University of Glasgow  Scotland     1451     30805  2942.0  4003.0   \n",
       "1     University of Edinburgh  Scotland     1583     34275  4589.0  6107.0   \n",
       "2    University of St Andrews  Scotland     1413      8984  1137.0  1576.0   \n",
       "3      University of Aberdeen  Scotland     1495     14775  1086.0  1489.0   \n",
       "4   University of Strathclyde  Scotland     1964     22640     NaN  3200.0   \n",
       "18       University of Dundee  Scotland     1967     15915  1410.0  1805.0   \n",
       "20     University of Stirling  Scotland     1967      9548     NaN  1872.0   \n",
       "\n",
       "    Budget  Russell  \n",
       "0    626.5        1  \n",
       "1   1102.0        1  \n",
       "2    251.2        0  \n",
       "3    219.5        0  \n",
       "4    304.4        0  \n",
       "18   256.4        0  \n",
       "20   113.3        0  "
      ]
     },
     "execution_count": 22,
     "metadata": {},
     "output_type": "execute_result"
    }
   ],
   "source": [
    "df.loc[df['Country'] == 'Scotland']"
   ]
  },
  {
   "cell_type": "markdown",
   "metadata": {
    "collapsed": false,
    "pycharm": {
     "name": "#%% md\n"
    }
   },
   "source": [
    "Indexing via `.loc[]` supports a few more types of arguments,\n",
    "see the [official documentation](https://pandas.pydata.org/docs/user_guide/indexing.html#selection-by-label)\n",
    "for details."
   ]
  },
  {
   "cell_type": "markdown",
   "metadata": {
    "collapsed": false,
    "pycharm": {
     "name": "#%% md\n"
    }
   },
   "source": [
    "**Selection by position**\n",
    "\n",
    "Conversely, if we want to select items exclusively by their position\n",
    "and ignore their labels, we use `.iloc[]`:"
   ]
  },
  {
   "cell_type": "code",
   "execution_count": 23,
   "metadata": {
    "collapsed": false,
    "pycharm": {
     "name": "#%%\n"
    }
   },
   "outputs": [
    {
     "data": {
      "text/html": [
       "<div>\n",
       "<style scoped>\n",
       "    .dataframe tbody tr th:only-of-type {\n",
       "        vertical-align: middle;\n",
       "    }\n",
       "\n",
       "    .dataframe tbody tr th {\n",
       "        vertical-align: top;\n",
       "    }\n",
       "\n",
       "    .dataframe thead th {\n",
       "        text-align: right;\n",
       "    }\n",
       "</style>\n",
       "<table border=\"1\" class=\"dataframe\">\n",
       "  <thead>\n",
       "    <tr style=\"text-align: right;\">\n",
       "      <th></th>\n",
       "      <th>Institution</th>\n",
       "      <th>Country</th>\n",
       "    </tr>\n",
       "  </thead>\n",
       "  <tbody>\n",
       "    <tr>\n",
       "      <th>0</th>\n",
       "      <td>University of Glasgow</td>\n",
       "      <td>Scotland</td>\n",
       "    </tr>\n",
       "    <tr>\n",
       "      <th>1</th>\n",
       "      <td>University of Edinburgh</td>\n",
       "      <td>Scotland</td>\n",
       "    </tr>\n",
       "    <tr>\n",
       "      <th>2</th>\n",
       "      <td>University of St Andrews</td>\n",
       "      <td>Scotland</td>\n",
       "    </tr>\n",
       "    <tr>\n",
       "      <th>3</th>\n",
       "      <td>University of Aberdeen</td>\n",
       "      <td>Scotland</td>\n",
       "    </tr>\n",
       "  </tbody>\n",
       "</table>\n",
       "</div>"
      ],
      "text/plain": [
       "                Institution   Country\n",
       "0     University of Glasgow  Scotland\n",
       "1   University of Edinburgh  Scotland\n",
       "2  University of St Andrews  Scotland\n",
       "3    University of Aberdeen  Scotland"
      ]
     },
     "execution_count": 23,
     "metadata": {},
     "output_type": "execute_result"
    }
   ],
   "source": [
    "df.iloc[0:4, 0:2]           # select first 4 rows, first 2 columns"
   ]
  },
  {
   "cell_type": "markdown",
   "metadata": {
    "collapsed": false,
    "pycharm": {
     "name": "#%% md\n"
    }
   },
   "source": [
    "Again, `.iloc[]` supports a multitude of other arguments,\n",
    "including boolean arrays. See the [official documentation](https://pandas.pydata.org/docs/user_guide/indexing.html#selection-by-position)\n",
    "for details.\n"
   ]
  },
  {
   "cell_type": "markdown",
   "metadata": {
    "collapsed": false,
    "pycharm": {
     "name": "#%% md\n"
    }
   },
   "source": [
    "***\n",
    "## Aggregation and reduction\n",
    "\n",
    "### Working with entire DataFrames\n",
    "\n",
    "The simplest way to perform data reduction is to invoke the desired\n",
    "routine on the entire `DataFrame`:"
   ]
  },
  {
   "cell_type": "code",
   "execution_count": 24,
   "metadata": {
    "collapsed": false,
    "pycharm": {
     "name": "#%%\n"
    }
   },
   "outputs": [
    {
     "data": {
      "text/plain": [
       "Founded      1745.652174\n",
       "Students    24106.782609\n",
       "Staff        3664.250000\n",
       "Admin        3556.736842\n",
       "Budget        768.609091\n",
       "Russell         0.739130\n",
       "dtype: float64"
      ]
     },
     "execution_count": 24,
     "metadata": {},
     "output_type": "execute_result"
    }
   ],
   "source": [
    "import pandas as pd\n",
    "\n",
    "df = pd.read_csv(f'{DATA_PATH}/universities.csv', sep=';')\n",
    "df.mean(numeric_only=True)"
   ]
  },
  {
   "cell_type": "markdown",
   "metadata": {
    "collapsed": false,
    "pycharm": {
     "name": "#%% md\n"
    }
   },
   "source": [
    "Methods such as `mean()` are by default applied column-wise to each\n",
    "column. The `numeric_only=True` argument is used to discard\n",
    "all non-numeric columns (depending on the version of pandas, `mean()` will\n",
    "issue a warning otherwise).\n",
    "\n",
    "One big advantage over NumPy is that missing values (represented\n",
    "by `np.nan`) are automatically ignored:"
   ]
  },
  {
   "cell_type": "code",
   "execution_count": 25,
   "metadata": {
    "collapsed": false,
    "pycharm": {
     "name": "#%%\n"
    }
   },
   "outputs": [
    {
     "data": {
      "text/plain": [
       "3664.25"
      ]
     },
     "execution_count": 25,
     "metadata": {},
     "output_type": "execute_result"
    }
   ],
   "source": [
    "# mean() automatically drops 3 missing observations\n",
    "df['Staff'].mean()"
   ]
  },
  {
   "cell_type": "markdown",
   "metadata": {
    "collapsed": false,
    "pycharm": {
     "name": "#%% md\n"
    }
   },
   "source": [
    "### Splitting and grouping\n",
    "\n",
    "Applying aggregation functions to the entire `DataFrame` is similar\n",
    "to what we can do with NumPy. The added flexibility of pandas\n",
    "becomes obvious once we want to apply these functions to subsets of\n",
    "data, i.e., groups, which we can define based on values or index labels.\n",
    "\n",
    "For example, we can easily group our universities by country:"
   ]
  },
  {
   "cell_type": "code",
   "execution_count": 26,
   "metadata": {
    "collapsed": false,
    "pycharm": {
     "name": "#%%\n"
    }
   },
   "outputs": [],
   "source": [
    "import pandas as pd\n",
    "\n",
    "df = pd.read_csv('../data/universities.csv', sep=';')\n",
    "\n",
    "groups = df.groupby(['Country'])"
   ]
  },
  {
   "cell_type": "markdown",
   "metadata": {
    "collapsed": false,
    "pycharm": {
     "name": "#%% md\n"
    }
   },
   "source": [
    "Here `groups` is a special pandas objects which can subsequently be\n",
    "used to process group-specific data. To compute the group-wise\n",
    "averages, we can simply run"
   ]
  },
  {
   "cell_type": "code",
   "execution_count": 27,
   "metadata": {
    "collapsed": false,
    "pycharm": {
     "name": "#%%\n"
    }
   },
   "outputs": [
    {
     "data": {
      "text/html": [
       "<div>\n",
       "<style scoped>\n",
       "    .dataframe tbody tr th:only-of-type {\n",
       "        vertical-align: middle;\n",
       "    }\n",
       "\n",
       "    .dataframe tbody tr th {\n",
       "        vertical-align: top;\n",
       "    }\n",
       "\n",
       "    .dataframe thead th {\n",
       "        text-align: right;\n",
       "    }\n",
       "</style>\n",
       "<table border=\"1\" class=\"dataframe\">\n",
       "  <thead>\n",
       "    <tr style=\"text-align: right;\">\n",
       "      <th></th>\n",
       "      <th>Founded</th>\n",
       "      <th>Students</th>\n",
       "      <th>Staff</th>\n",
       "      <th>Admin</th>\n",
       "      <th>Budget</th>\n",
       "      <th>Russell</th>\n",
       "    </tr>\n",
       "    <tr>\n",
       "      <th>Country</th>\n",
       "      <th></th>\n",
       "      <th></th>\n",
       "      <th></th>\n",
       "      <th></th>\n",
       "      <th></th>\n",
       "      <th></th>\n",
       "    </tr>\n",
       "  </thead>\n",
       "  <tbody>\n",
       "    <tr>\n",
       "      <th>England</th>\n",
       "      <td>1745.923077</td>\n",
       "      <td>27119.846154</td>\n",
       "      <td>4336.692308</td>\n",
       "      <td>4112.000000</td>\n",
       "      <td>1001.700000</td>\n",
       "      <td>1.000000</td>\n",
       "    </tr>\n",
       "    <tr>\n",
       "      <th>Northern Ireland</th>\n",
       "      <td>1810.000000</td>\n",
       "      <td>18438.000000</td>\n",
       "      <td>2414.000000</td>\n",
       "      <td>1489.000000</td>\n",
       "      <td>369.200000</td>\n",
       "      <td>1.000000</td>\n",
       "    </tr>\n",
       "    <tr>\n",
       "      <th>Scotland</th>\n",
       "      <td>1691.428571</td>\n",
       "      <td>19563.142857</td>\n",
       "      <td>2232.800000</td>\n",
       "      <td>2864.571429</td>\n",
       "      <td>410.471429</td>\n",
       "      <td>0.285714</td>\n",
       "    </tr>\n",
       "    <tr>\n",
       "      <th>Wales</th>\n",
       "      <td>1901.500000</td>\n",
       "      <td>23259.000000</td>\n",
       "      <td>3330.000000</td>\n",
       "      <td>4514.500000</td>\n",
       "      <td>644.800000</td>\n",
       "      <td>0.500000</td>\n",
       "    </tr>\n",
       "  </tbody>\n",
       "</table>\n",
       "</div>"
      ],
      "text/plain": [
       "                      Founded      Students        Staff        Admin  \\\n",
       "Country                                                                 \n",
       "England           1745.923077  27119.846154  4336.692308  4112.000000   \n",
       "Northern Ireland  1810.000000  18438.000000  2414.000000  1489.000000   \n",
       "Scotland          1691.428571  19563.142857  2232.800000  2864.571429   \n",
       "Wales             1901.500000  23259.000000  3330.000000  4514.500000   \n",
       "\n",
       "                       Budget   Russell  \n",
       "Country                                  \n",
       "England           1001.700000  1.000000  \n",
       "Northern Ireland   369.200000  1.000000  \n",
       "Scotland           410.471429  0.285714  \n",
       "Wales              644.800000  0.500000  "
      ]
     },
     "execution_count": 27,
     "metadata": {},
     "output_type": "execute_result"
    }
   ],
   "source": [
    "groups.mean()"
   ]
  },
  {
   "cell_type": "markdown",
   "metadata": {
    "collapsed": false,
    "pycharm": {
     "name": "#%% md\n"
    }
   },
   "source": [
    "Groups support column indexing: if we want to only compute the\n",
    "total number of students for each country\n",
    "in our sample, we can do this as follows:"
   ]
  },
  {
   "cell_type": "code",
   "execution_count": 28,
   "metadata": {
    "collapsed": false,
    "pycharm": {
     "name": "#%%\n"
    }
   },
   "outputs": [
    {
     "data": {
      "text/plain": [
       "Country\n",
       "England             352558\n",
       "Northern Ireland     18438\n",
       "Scotland            136942\n",
       "Wales                46518\n",
       "Name: Students, dtype: int64"
      ]
     },
     "execution_count": 28,
     "metadata": {},
     "output_type": "execute_result"
    }
   ],
   "source": [
    "groups['Students'].sum()"
   ]
  },
  {
   "cell_type": "markdown",
   "metadata": {
    "collapsed": false,
    "pycharm": {
     "name": "#%% md\n"
    }
   },
   "source": [
    "There are numerous routines to aggregate grouped data, for example:\n",
    "\n",
    "-   `mean()`, `sum()`: averages and sums over numerical items within groups.\n",
    "-   `std()`, `var()`: within-group std. dev. and variances\n",
    "-   `size()`: group sizes\n",
    "-   `first()`, `last()`: first and last elements in each group\n",
    "-   `min()`, `max()`: minimum and maximum elements within a group"
   ]
  },
  {
   "cell_type": "markdown",
   "metadata": {
    "collapsed": false,
    "pycharm": {
     "name": "#%% md\n"
    }
   },
   "source": [
    "*Examples:*"
   ]
  },
  {
   "cell_type": "code",
   "execution_count": 29,
   "metadata": {
    "collapsed": false,
    "pycharm": {
     "name": "#%%\n"
    }
   },
   "outputs": [
    {
     "data": {
      "text/plain": [
       "Country\n",
       "England             13\n",
       "Northern Ireland     1\n",
       "Scotland             7\n",
       "Wales                2\n",
       "dtype: int64"
      ]
     },
     "execution_count": 29,
     "metadata": {},
     "output_type": "execute_result"
    }
   ],
   "source": [
    "groups.size()       # return number of elements in each group"
   ]
  },
  {
   "cell_type": "code",
   "execution_count": 30,
   "metadata": {
    "collapsed": false,
    "pycharm": {
     "name": "#%%\n"
    }
   },
   "outputs": [
    {
     "data": {
      "text/html": [
       "<div>\n",
       "<style scoped>\n",
       "    .dataframe tbody tr th:only-of-type {\n",
       "        vertical-align: middle;\n",
       "    }\n",
       "\n",
       "    .dataframe tbody tr th {\n",
       "        vertical-align: top;\n",
       "    }\n",
       "\n",
       "    .dataframe thead th {\n",
       "        text-align: right;\n",
       "    }\n",
       "</style>\n",
       "<table border=\"1\" class=\"dataframe\">\n",
       "  <thead>\n",
       "    <tr style=\"text-align: right;\">\n",
       "      <th></th>\n",
       "      <th>Institution</th>\n",
       "      <th>Founded</th>\n",
       "      <th>Students</th>\n",
       "      <th>Staff</th>\n",
       "      <th>Admin</th>\n",
       "      <th>Budget</th>\n",
       "      <th>Russell</th>\n",
       "    </tr>\n",
       "    <tr>\n",
       "      <th>Country</th>\n",
       "      <th></th>\n",
       "      <th></th>\n",
       "      <th></th>\n",
       "      <th></th>\n",
       "      <th></th>\n",
       "      <th></th>\n",
       "      <th></th>\n",
       "    </tr>\n",
       "  </thead>\n",
       "  <tbody>\n",
       "    <tr>\n",
       "      <th>England</th>\n",
       "      <td>LSE</td>\n",
       "      <td>1895</td>\n",
       "      <td>11850</td>\n",
       "      <td>1725.0</td>\n",
       "      <td>2515.0</td>\n",
       "      <td>415.1</td>\n",
       "      <td>1</td>\n",
       "    </tr>\n",
       "    <tr>\n",
       "      <th>Northern Ireland</th>\n",
       "      <td>Queen’s University Belfast</td>\n",
       "      <td>1810</td>\n",
       "      <td>18438</td>\n",
       "      <td>2414.0</td>\n",
       "      <td>1489.0</td>\n",
       "      <td>369.2</td>\n",
       "      <td>1</td>\n",
       "    </tr>\n",
       "    <tr>\n",
       "      <th>Scotland</th>\n",
       "      <td>University of Glasgow</td>\n",
       "      <td>1451</td>\n",
       "      <td>30805</td>\n",
       "      <td>2942.0</td>\n",
       "      <td>4003.0</td>\n",
       "      <td>626.5</td>\n",
       "      <td>1</td>\n",
       "    </tr>\n",
       "    <tr>\n",
       "      <th>Wales</th>\n",
       "      <td>Cardiff University</td>\n",
       "      <td>1883</td>\n",
       "      <td>25898</td>\n",
       "      <td>3330.0</td>\n",
       "      <td>5739.0</td>\n",
       "      <td>644.8</td>\n",
       "      <td>1</td>\n",
       "    </tr>\n",
       "  </tbody>\n",
       "</table>\n",
       "</div>"
      ],
      "text/plain": [
       "                                 Institution  Founded  Students   Staff  \\\n",
       "Country                                                                   \n",
       "England                                  LSE     1895     11850  1725.0   \n",
       "Northern Ireland  Queen’s University Belfast     1810     18438  2414.0   \n",
       "Scotland               University of Glasgow     1451     30805  2942.0   \n",
       "Wales                     Cardiff University     1883     25898  3330.0   \n",
       "\n",
       "                   Admin  Budget  Russell  \n",
       "Country                                    \n",
       "England           2515.0   415.1        1  \n",
       "Northern Ireland  1489.0   369.2        1  \n",
       "Scotland          4003.0   626.5        1  \n",
       "Wales             5739.0   644.8        1  "
      ]
     },
     "execution_count": 30,
     "metadata": {},
     "output_type": "execute_result"
    }
   ],
   "source": [
    "groups.first()      # return first element in each group"
   ]
  },
  {
   "cell_type": "markdown",
   "metadata": {
    "collapsed": false,
    "pycharm": {
     "name": "#%% md\n"
    }
   },
   "source": [
    "We can create custom aggregation routines by calling `agg()`\n",
    "or `aggregate()` on the grouped object. To illustrate, we\n",
    "count the number of universities in each country that have more\n",
    "than 20,000 students:"
   ]
  },
  {
   "cell_type": "code",
   "execution_count": 31,
   "metadata": {
    "collapsed": false,
    "pycharm": {
     "name": "#%%\n"
    }
   },
   "outputs": [
    {
     "data": {
      "text/plain": [
       "Country\n",
       "England             10\n",
       "Northern Ireland     0\n",
       "Scotland             3\n",
       "Wales                2\n",
       "Name: Students, dtype: int64"
      ]
     },
     "execution_count": 31,
     "metadata": {},
     "output_type": "execute_result"
    }
   ],
   "source": [
    "groups['Students'].agg(lambda x: np.sum(x >= 20000))"
   ]
  },
  {
   "cell_type": "markdown",
   "metadata": {
    "collapsed": false,
    "pycharm": {
     "name": "#%% md\n"
    }
   },
   "source": [
    "Note that we called `agg()` only on the column `Students`, otherwise\n",
    "the function would be applied to every column separately, which is not\n",
    "what we want.\n",
    "\n",
    "The most flexible aggregation method is `apply()` which calls a\n",
    "given function, passing the entire group-specific subset of data (including\n",
    "all columns) as an argument, and glues together the results.\n",
    "\n",
    "For example, if we want to compute the average budget per student\n",
    "(in pounds), we can do this as follows:"
   ]
  },
  {
   "cell_type": "code",
   "execution_count": 32,
   "metadata": {
    "collapsed": false,
    "pycharm": {
     "name": "#%%\n"
    }
   },
   "outputs": [
    {
     "data": {
      "text/plain": [
       "Country\n",
       "England             36936.050239\n",
       "Northern Ireland    20023.863760\n",
       "Scotland            20981.875539\n",
       "Wales               13861.301002\n",
       "dtype: float64"
      ]
     },
     "execution_count": 32,
     "metadata": {},
     "output_type": "execute_result"
    }
   ],
   "source": [
    "# Budget is in millions of pounds, rescale by 1.0e6\n",
    "groups.apply(lambda x: x['Budget'].sum() / x['Students'].sum() * 1.0e6)"
   ]
  },
  {
   "cell_type": "markdown",
   "metadata": {
    "collapsed": false,
    "pycharm": {
     "name": "#%% md\n"
    }
   },
   "source": [
    "We couldn't have done this with `agg()`, since `agg()` never gets to see\n",
    "the entire chunk of data but only one column at a time.\n",
    "\n",
    "This section provided only a first look at pandas's \"split-apply-combine\"\n",
    "functionality implemented via `groupby`. See the [official documentation](https://pandas.pydata.org/pandas-docs/stable/user_guide/groupby.html)\n",
    "for more details."
   ]
  },
  {
   "cell_type": "markdown",
   "metadata": {
    "collapsed": false,
    "pycharm": {
     "name": "#%% md\n"
    }
   },
   "source": [
    "***\n",
    "## Visualisation\n",
    "\n",
    "We covered plotting with Matplotlib in earlier units. Pandas itself\n",
    "implements some convenience wrappers around Matplotlib plotting routines\n",
    "which allow us to quickly inspect data stored in `DataFrames`.\n",
    "Alternatively, we can extract the numerical data and pass it\n",
    "to Matplotlib's routines manually.\n",
    "\n",
    "For example, to plot student numbers as a bar chart, we can directly\n",
    "use pandas:"
   ]
  },
  {
   "cell_type": "code",
   "execution_count": 33,
   "metadata": {
    "collapsed": false,
    "pycharm": {
     "name": "#%%\n"
    }
   },
   "outputs": [
    {
     "data": {
      "text/plain": [
       "<AxesSubplot:xlabel='Institution'>"
      ]
     },
     "execution_count": 33,
     "metadata": {},
     "output_type": "execute_result"
    },
    {
     "data": {
      "application/pdf": "[encoded data removed]",
      "image/png": "[encoded data removed]",
      "text/plain": [
       "<Figure size 400x300 with 1 Axes>"
      ]
     },
     "metadata": {},
     "output_type": "display_data"
    }
   ],
   "source": [
    "import pandas as pd\n",
    "\n",
    "df = pd.read_csv(f'{DATA_PATH}/universities.csv', sep=';')\n",
    "\n",
    "# set institution as label so they automatically show up in plot\n",
    "df2 = df.set_index(keys=['Institution'])\n",
    "df2['Students'].plot(kind='bar')        # same as df2['Students'].plot.bar()"
   ]
  },
  {
   "cell_type": "markdown",
   "metadata": {
    "collapsed": false,
    "pycharm": {
     "name": "#%% md\n"
    }
   },
   "source": [
    "Alternatively, we can construct the graph using Matplotlib ourselves:"
   ]
  },
  {
   "cell_type": "code",
   "execution_count": 34,
   "metadata": {
    "collapsed": false,
    "pycharm": {
     "name": "#%%\n"
    }
   },
   "outputs": [
    {
     "data": {
      "application/pdf": "[encoded data removed]",
      "image/png": "[encoded data removed]",
      "text/plain": [
       "<Figure size 400x300 with 1 Axes>"
      ]
     },
     "metadata": {},
     "output_type": "display_data"
    }
   ],
   "source": [
    "import matplotlib.pyplot as plt\n",
    "\n",
    "labels = df['Institution'].to_list()        # labels as list\n",
    "values = df['Students'].to_numpy()          # data as NumPy array\n",
    "plt.bar(labels, values)\n",
    "plt.tick_params(axis='x', labelrotation=90)"
   ]
  },
  {
   "cell_type": "markdown",
   "metadata": {
    "collapsed": false,
    "pycharm": {
     "name": "#%% md\n"
    }
   },
   "source": [
    "Sometimes Matplotlib's routines directly work with pandas's data structures,\n",
    "sometimes they don't. In cases where they don't, we can convert a `DataFrame` or `Series` object\n",
    "to a NumPy array using the `to_numpy()` method, and convert a `Series`\n",
    "to a Python list using `to_list()`, as illustrated in the example above.\n",
    "\n",
    "\n",
    "To plot timeseries-like data, we can use the `plot()` method,\n",
    "which optionally accepts arguments to specify which columns\n",
    "should be used for the $x$-axis and which for the $y$-axis:"
   ]
  },
  {
   "cell_type": "code",
   "execution_count": 35,
   "metadata": {
    "collapsed": false,
    "pycharm": {
     "name": "#%%\n"
    }
   },
   "outputs": [
    {
     "data": {
      "text/plain": [
       "<AxesSubplot:xlabel='A'>"
      ]
     },
     "execution_count": 35,
     "metadata": {},
     "output_type": "execute_result"
    },
    {
     "data": {
      "application/pdf": "[encoded data removed]",
      "image/png": "[encoded data removed]",
      "text/plain": [
       "<Figure size 400x300 with 1 Axes>"
      ]
     },
     "metadata": {},
     "output_type": "display_data"
    }
   ],
   "source": [
    "import numpy as np\n",
    "import pandas as pd\n",
    "\n",
    "# Instantiate RNG\n",
    "rng = np.random.default_rng(123)\n",
    "\n",
    "# Create pandas DataFrame\n",
    "nobs = 50\n",
    "df = pd.DataFrame({'A': np.arange(nobs), 'B': rng.normal(size=nobs)})\n",
    "\n",
    "df.plot(x='A', y='B')       # plot A on x-axis, B on y-axis"
   ]
  },
  {
   "cell_type": "markdown",
   "metadata": {
    "collapsed": false,
    "pycharm": {
     "name": "#%% md\n"
    }
   },
   "source": [
    "To quickly generate some descriptive statistics, we can use\n",
    "the built-in box plot:"
   ]
  },
  {
   "cell_type": "code",
   "execution_count": 36,
   "metadata": {
    "collapsed": false,
    "pycharm": {
     "name": "#%%\n"
    }
   },
   "outputs": [
    {
     "data": {
      "text/plain": [
       "<AxesSubplot:>"
      ]
     },
     "execution_count": 36,
     "metadata": {},
     "output_type": "execute_result"
    },
    {
     "data": {
      "application/pdf": "[encoded data removed]",
      "image/png": "[encoded data removed]",
      "text/plain": [
       "<Figure size 400x300 with 1 Axes>"
      ]
     },
     "metadata": {},
     "output_type": "display_data"
    }
   ],
   "source": [
    "import numpy as np\n",
    "import pandas as pd\n",
    "\n",
    "# Instantiate RNG\n",
    "rng = np.random.default_rng(123)\n",
    "\n",
    "# Create pandas DataFrame\n",
    "df = pd.DataFrame(rng.normal(size=(100, 5)),\n",
    "                  columns=['A', 'B', 'C', 'D', 'E'])\n",
    "\n",
    "df.plot.box()           # same as df.plot(kind='box')"
   ]
  },
  {
   "cell_type": "markdown",
   "metadata": {
    "collapsed": false,
    "pycharm": {
     "name": "#%% md\n"
    }
   },
   "source": [
    "Similarly, we can generate scatter plots, plotting one column\n",
    "against another:"
   ]
  },
  {
   "cell_type": "code",
   "execution_count": 37,
   "metadata": {
    "collapsed": false,
    "pycharm": {
     "name": "#%%\n"
    }
   },
   "outputs": [
    {
     "data": {
      "text/plain": [
       "<AxesSubplot:xlabel='A', ylabel='E'>"
      ]
     },
     "execution_count": 37,
     "metadata": {},
     "output_type": "execute_result"
    },
    {
     "data": {
      "application/pdf": "[encoded data removed]",
      "image/png": "[encoded data removed]",
      "text/plain": [
       "<Figure size 400x300 with 1 Axes>"
      ]
     },
     "metadata": {},
     "output_type": "display_data"
    }
   ],
   "source": [
    "# Create pandas DataFrame\n",
    "df = pd.DataFrame(rng.uniform(size=(100, 5)),\n",
    "                  columns=['A', 'B', 'C', 'D', 'E'])\n",
    "\n",
    "df.plot.scatter(x='A', y='E', label='Pandas scatter plot')"
   ]
  },
  {
   "cell_type": "code",
   "execution_count": 38,
   "metadata": {
    "collapsed": false,
    "pycharm": {
     "name": "#%%\n"
    }
   },
   "outputs": [
    {
     "data": {
      "text/plain": [
       "<AxesSubplot:xlabel='A', ylabel='E'>"
      ]
     },
     "execution_count": 38,
     "metadata": {},
     "output_type": "execute_result"
    },
    {
     "data": {
      "application/pdf": "[encoded data removed]",
      "image/png": "[encoded data removed]",
      "text/plain": [
       "<Figure size 400x300 with 1 Axes>"
      ]
     },
     "metadata": {},
     "output_type": "display_data"
    }
   ],
   "source": [
    "# We can even use a column to specify the dot size!\n",
    "df.plot.scatter(x='A', y='E', s=df['B']*100.0)"
   ]
  },
  {
   "cell_type": "markdown",
   "metadata": {
    "collapsed": false,
    "pycharm": {
     "name": "#%% md\n"
    }
   },
   "source": [
    "In general, the wrappers implemented in pandas are useful to\n",
    "get an idea how the data looks like. For reusable code or more\n",
    "complex graphs, we'll usually want to directly use Matplotlib\n",
    "and pass the data converted to NumPy arrays."
   ]
  },
  {
   "cell_type": "markdown",
   "metadata": {
    "collapsed": false,
    "pycharm": {
     "name": "#%% md\n"
    }
   },
   "source": [
    "***\n",
    "## Optional exercises\n",
    "\n",
    "The following exercises use data files from the `data/` folder."
   ]
  },
  {
   "cell_type": "markdown",
   "metadata": {},
   "source": [
    "### Exercise 1: Basic data manipulations\n",
    "\n",
    "In this exercise, we will perform some basic data manipulation and plot the results.\n",
    "\n",
    "1.  Load the CSV file `FRED_QTR.csv` (using `sep=','`). \n",
    "    Set the columns `Year` and `Quarter` as (joint) indices.\n",
    "\n",
    "    *Hint:* You can do this by specifying these column names in the `index_col` \n",
    "    argument of [`read_csv()`](https://pandas.pydata.org/pandas-docs/stable/reference/api/pandas.read_csv.html). Alternatively, you can cell [`set_index()`](https://pandas.pydata.org/pandas-docs/stable/reference/api/pandas.DataFrame.set_index.html)\n",
    "    once you have loaded the data.\n",
    "2.  This data comes at a quarterly frequency. Convert it to annual values by computing\n",
    "    the average values for each year.\n",
    "\n",
    "    *Hint:* Group the data by `Year` using the [`groupby()`](https://pandas.pydata.org/pandas-docs/stable/reference/api/pandas.DataFrame.groupby.html) function and compute \n",
    "    the mean on the grouped data.\n",
    "3.  Compute two new variables from the annualised data and add them to the `DataFrame`:\n",
    "    -   `Inflation`, defined as the growth rate of `CPI` (consumer price index)\n",
    "    -   `GDP_growth`, defined as the growth rate of `GDP`\n",
    "4.  Drop all rows with missing values (these show up as `NaN`).\n",
    "\n",
    "    *Hint:* There is no need to manually filter out `NaN` values, you can \n",
    "    use the [`dropna()`](https://pandas.pydata.org/pandas-docs/stable/reference/api/pandas.DataFrame.dropna.html) method instead.\n",
    "5.  Plot the columns `GDP_growth`, `Inflation`, `UNRATE` (unemployment rate)\n",
    "    and `LFPART` (labour force participation) using the pandas plotting routines.\n",
    "    Use the option `subplots=True` and `layout=(2,2)` to create a $2\\times2$ grid.\n",
    "    See the documentation for [`plot()`](https://pandas.pydata.org/docs/reference/api/pandas.DataFrame.plot.html#pandas.DataFrame.plot) for details."
   ]
  },
  {
   "cell_type": "markdown",
   "metadata": {},
   "source": [
    "### Exercise 2: Decade averages\n",
    "\n",
    "Load the FRED data from the CSV file `FRED_QTR.csv` (using `sep=','`) and \n",
    "perform the following tasks:\n",
    "\n",
    "1.  Compute the quarterly GDP growth rate and inflation, similar to what you \n",
    "    did in the previous exercise.\n",
    "2.  Add the column `Decade` which contains the decade for every observation.\n",
    "    Use 1940 to code the 40s, 1950 for the 50s, etc.\n",
    "3.  We want to retain only observations for decades for which all 40 quarters\n",
    "    are present:\n",
    "    1.  Group the data by `Decade` and count the number of observations using \n",
    "        [`count()`](https://pandas.pydata.org/pandas-docs/stable/reference/api/pandas.DataFrame.count.html).\n",
    "    2.  A decade should be kept in the data set only if *all* variables\n",
    "        have the full 40 observations.\n",
    "    3.  Drop all observations for which this is not the case.\n",
    "4.  With the remaining observations, compute the decade averages for quarterly \n",
    "    GDP growth, inflation and the unemployment rate (`UNRATE`). Annualise the\n",
    "    GDP growth and inflation figures by multiplying them by 4.\n",
    "5.  Create a bar chart that plots these three variables by decade."
   ]
  },
  {
   "cell_type": "markdown",
   "metadata": {},
   "source": [
    "### Exercise 3: Group averages\n",
    "\n",
    "Load the universities data from the CSV file `universities.csv` (using `sep=';'`) and perform the following tasks:\n",
    "\n",
    "1.  Group the data by Russell Group membership using the indicator variable `Russell`.\n",
    "    For each group, compute the averages of the following ratios using \n",
    "    [`apply()`](https://pandas.pydata.org/pandas-docs/stable/reference/api/pandas.core.groupby.GroupBy.apply.html):\n",
    "    \n",
    "    -   The ratio of academic staff (`Staff`) to students (`Students`)\n",
    "    -   The ratio of administrative staff (`Admin`) to students.\n",
    "    -   The budget (`Budget`) per student in pounds.\n",
    "\n",
    "    Additionally, compute the number of universities is each group.\n",
    "\n",
    "2.  Repeat the task using a different approach:\n",
    "\n",
    "    1.  Compute the above ratios and add them as new columns to the initial\n",
    "        `DataFrame`.\n",
    "    2.  Group the data by Russell Group membership.\n",
    "    3.  Compute the mean of each ratio using [`mean()`](https://pandas.pydata.org/pandas-docs/stable/reference/api/pandas.core.groupby.GroupBy.mean.html).\n",
    "    4.  Compute the number of universities in each group using `count()`, and \n",
    "        store the result in the column `Count` in the `DataFrame` you obtained in \n",
    "        the previous step.\n",
    "\n",
    "3.  Create a bar chart, plotting the value for universities in and outside of \n",
    "    the Russell Group for each of the four statistics computed above."
   ]
  },
  {
   "cell_type": "markdown",
   "metadata": {},
   "source": [
    "### Exercise 4: Grouping by multiple dimensions\n",
    "\n",
    "Load the universities data from the CSV file `universities.csv` (using `sep=';'`) and perform the following tasks:\n",
    "\n",
    "1.  Create an indicator `Pre1800` which is `True` for universities founded \n",
    "    before the year 1800.\n",
    "2.  Group the data by `Country` and the value of `Pre1800`.\n",
    "\n",
    "    *Hint:* You need to pass a list of column names to [`groupby()`](https://pandas.pydata.org/pandas-docs/stable/reference/api/pandas.DataFrame.groupby.html).\n",
    "3.  Compute the number of universities for each combination of `(Country, Pre1800)`.\n",
    "4.  Create a bar chart showing the number of pre- and post-1800 universities\n",
    "    by country (i.e. create four groups of bars, each group showing \n",
    "    one bar for pre- and one for post-1800).\n",
    "5.  Create a bar chart showing the number of universities by country\n",
    "    by pre- and post-1800 period (i.e. create two groups of bars, each \n",
    "    group showing four bars, one for each country.)"
   ]
  },
  {
   "cell_type": "markdown",
   "metadata": {},
   "source": [
    "### Exercise 5: Okun's law (advanced)\n",
    "\n",
    "In this exercise, we will estimate [Okun's law](https://en.wikipedia.org/wiki/Okun%27s_law) on quarterly data for each of the last eight decades.\n",
    "\n",
    "Okun's law relates unemployment to the output gap. One version (see Jones: Macroeconomics, 2019) is stated as follows:\n",
    "$$\n",
    "u_t - \\overline{u}_{t} = \n",
    "\\alpha + \\beta \\left(\\frac{Y_t - \\overline{Y}_t}{\\overline{Y}_t}\\right)\n",
    "$$\n",
    "where $u_t$ is the unemployment rate, $\\overline{u}_{t}$ is the natural rate of \n",
    "unemployment, $Y_t$ is output (GDP) and $\\overline{Y}_{t}$ is potential output. \n",
    "We will refer to $u_t-\\overline{u}_{t}$ as \"cyclical unemployment\" and to the term in \n",
    "parenthesis on the right-hand side as the \"output gap.\" Okun's law says that \n",
    "the coefficient $\\beta$ is negative, i.e. cyclical unemployment is \n",
    "higher when the output gap is low (negative) because the economy \n",
    "is in a recession.\n",
    "\n",
    "Load the FRED data from the CSV file `FRED_QTR.csv` (using `sep=','`) and \n",
    "perform the following tasks:\n",
    "\n",
    "1.  Compute the output gap and cyclical unemployment rate as defined above and \n",
    "    add them as columns to the `DataFrame`.\n",
    "2.  Assign each observation to a decade as you did in previous exercises.\n",
    "3.  Write a function `regress_okun()` which accepts a `DataFrame` \n",
    "    containing a decade-spefic \n",
    "    sub-sample as the only argument, and estimates the coefficients \n",
    "    $\\alpha$ (the intercept) and $\\beta$ (the slope) of the above regression\n",
    "    equation.\n",
    "\n",
    "    This function should return a `DataFrame` of a single row and two\n",
    "    columns which store the intercept and slope.\n",
    "\n",
    "    *Hint:* Use NumPy's [`lstsq()`](https://numpy.org/doc/stable/reference/generated/numpy.linalg.lstsq.html)\n",
    "    to perform the regression. To regress the dependent\n",
    "    variable `y` on regressors `X`, you need to call `lstsq(X, y)`.\n",
    "    To include the intercept, you will manually have to create `X` such that the \n",
    "    first column contains only ones.\n",
    "4.  Group the data by decade and call the [`apply()`](https://pandas.pydata.org/pandas-docs/stable/reference/api/pandas.core.groupby.GroupBy.apply.html) method, passing \n",
    "    `regress_okun` you wrote as the argument.\n",
    "5.  Plot your results: for each decade, create a scatter plot of the raw \n",
    "    data and overlay it with the regression line you estimated."
   ]
  },
  {
   "cell_type": "markdown",
   "metadata": {
    "collapsed": false,
    "pycharm": {
     "name": "#%% md\n"
    }
   },
   "source": [
    "***\n",
    "## Solutions\n",
    "\n",
    "These solutions illustrate *one* possible way to solve the \n",
    "exercises. Pandas is extremely flexible (maybe too flexible)\n",
    "and allows us to perform these tasks in many different ways, so \n",
    "your implementation might look very different.\n",
    "\n",
    "The solutions are also provided as Python scripts in the [lectures/solutions/unit07/](../lectures/solutions/unit07) folder."
   ]
  },
  {
   "cell_type": "markdown",
   "metadata": {},
   "source": [
    "### Solution for exercise 1\n",
    "\n",
    "One possible implementation looks as follows:"
   ]
  },
  {
   "cell_type": "code",
   "execution_count": 39,
   "metadata": {},
   "outputs": [
    {
     "data": {
      "text/plain": [
       "array([[<AxesSubplot:xlabel='Year'>, <AxesSubplot:xlabel='Year'>],\n",
       "       [<AxesSubplot:xlabel='Year'>, <AxesSubplot:xlabel='Year'>]],\n",
       "      dtype=object)"
      ]
     },
     "execution_count": 39,
     "metadata": {},
     "output_type": "execute_result"
    },
    {
     "data": {
      "application/pdf": "[encoded data removed]",
      "image/png": "[encoded data removed]",
      "text/plain": [
       "<Figure size 800x600 with 4 Axes>"
      ]
     },
     "metadata": {},
     "output_type": "display_data"
    }
   ],
   "source": [
    "import pandas as pd\n",
    "\n",
    "# Use either local or remote path to data/ directory\n",
    "# DATA_PATH = '../data'\n",
    "DATA_PATH = 'https://raw.githubusercontent.com/richardfoltyn/MLFP-ECON5130/main/data'\n",
    "filepath = f'{DATA_PATH}/FRED_QTR.csv'\n",
    "\n",
    "df = pd.read_csv(filepath, sep=',', index_col=['Year', 'Quarter'])\n",
    "# Alternatively, set index columns later\n",
    "# df = pd.read_csv(filepath, sep=',')\n",
    "# df.set_index(keys=['Year', 'Quarter'], inplace=True)\n",
    "\n",
    "# Convert to annual frequency\n",
    "# Group by year\n",
    "grp = df.groupby(['Year'])\n",
    "# Compute annual data as mean of quarterly values\n",
    "df_year = grp.mean()\n",
    "\n",
    "# Alternative ways to perform the same aggregation:\n",
    "# df_year = grp.agg('mean')\n",
    "# df_year = grp.agg(np.mean)\n",
    "\n",
    "# Compute CPI and GDP growth rates (in percent)\n",
    "df_year['Inflation'] = df_year['CPI'].diff() / df_year['CPI'].shift() * 100.0\n",
    "df_year['GDP_growth'] = df_year['GDP'].diff() / df_year['GDP'].shift() * 100.0\n",
    "\n",
    "# Drop all rows that contain any NaNs\n",
    "df_year = df_year.dropna(axis=0)\n",
    "\n",
    "# Columns to plot\n",
    "varnames = ['GDP_growth', 'Inflation', 'UNRATE', 'LFPART']\n",
    "df_year.plot.line(y=varnames, subplots=True, layout=(2, 2),  \n",
    "                  sharex=True, figsize=(8, 6))\n",
    "                \n",
    "# Alternatively, we can call plot() directly, which\n",
    "# defaults to generating a line plot:\n",
    "#\n",
    "# df_year.plot(y=varnames, subplots=True, layout=(2, 2),  \n",
    "#              sharex=True, figsize=(10, 10))\n"
   ]
  },
  {
   "cell_type": "markdown",
   "metadata": {},
   "source": [
    "A few comments:\n",
    "\n",
    "1.  We can set the index column when loading a CSV file by\n",
    "    passing the column names as `index_col`:\n",
    "\n",
    "        df = pd.read_csv(filepath, sep=',', index_col=['Year', 'Quarter'])\n",
    "\n",
    "    Alternatively, we can first load the CSV file and set the index later:\n",
    "\n",
    "        df = pd.read_csv(filepath, sep=',')\n",
    "        df.set_index(keys=['Year', 'Quarter'], inplace=True)\n",
    "2.  There are several ways to compute the means of grouped data:\n",
    "    1.  We can call `mean()` on the group object directly:\n",
    "\n",
    "            df_year = grp.mean()\n",
    "    \n",
    "    2.  Alternatively, we can call `agg()` and pass it the aggregation\n",
    "        routine that should be applied:\n",
    "\n",
    "            df_year = grp.agg('mean')\n",
    "            df_year = grp.agg(np.mean)\n",
    "\n",
    "        Here we again have multiple options: pandas understands `'mean'` if\n",
    "        passed as a string (which might not be the case for some other functions),\n",
    "        or we pass an actual function such as `np.mean`.\n",
    "3.  The easiest way to compute differences between adjacent rows is\n",
    "    to use the [`diff()`](https://pandas.pydata.org/pandas-docs/stable/reference/api/pandas.DataFrame.diff.html) method, which returns $x_t - x_{t-1}$.\n",
    "    Pandas then automatically matches the correct\n",
    "    values and sets the first observation to `NaN` as there is no preceding value to \n",
    "    compute the difference.\n",
    "\n",
    "    To compute a growth rate $(x_t - x_{t-1})/x_{t-1}$, we additionally need to\n",
    "    lag a variable to get the correct period in the denominator. In pandas this \n",
    "    is achieved using the [`shift()`](https://pandas.pydata.org/pandas-docs/stable/reference/api/pandas.DataFrame.shift.html) method (which defaults to shifting \n",
    "    by 1 period).\n",
    "            "
   ]
  },
  {
   "cell_type": "markdown",
   "metadata": {},
   "source": [
    "### Solution for exercise 2\n",
    "\n",
    "This time we do not specify `index_cols` when reading in the CSV\n",
    "data since we need `Year` as a regular variable, not as the index.\n",
    "\n",
    "We then compute the decade for each year, using the fact that \n",
    "`//` performs division with integer truncation. As an example, \n",
    "1951 // 10 is 195, and (1951 // 10) * 10 = 1950, \n",
    "which we use to represent the 1950s."
   ]
  },
  {
   "cell_type": "code",
   "execution_count": 40,
   "metadata": {},
   "outputs": [
    {
     "name": "stdout",
     "output_type": "stream",
     "text": [
      "        Year  Quarter  GDP  CPI  UNRATE  LFPART  GDPPOT  NROU  GDP_growth  \\\n",
      "Decade                                                                      \n",
      "1940       8        8    8    8       8       8       4     4           7   \n",
      "1950      40       40   40   40      40      40      40    40          40   \n",
      "1960      40       40   40   40      40      40      40    40          40   \n",
      "1970      40       40   40   40      40      40      40    40          40   \n",
      "1980      40       40   40   40      40      40      40    40          40   \n",
      "1990      40       40   40   40      40      40      40    40          40   \n",
      "2000      40       40   40   40      40      40      40    40          40   \n",
      "2010      40       40   40   40      40      40      40    40          40   \n",
      "\n",
      "        Inflation  \n",
      "Decade             \n",
      "1940            7  \n",
      "1950           40  \n",
      "1960           40  \n",
      "1970           40  \n",
      "1980           40  \n",
      "1990           40  \n",
      "2000           40  \n",
      "2010           40  \n"
     ]
    }
   ],
   "source": [
    "import pandas as pd \n",
    "\n",
    "# Use either local or remote path to data/ directory\n",
    "# DATA_PATH = '../data'\n",
    "DATA_PATH = 'https://raw.githubusercontent.com/richardfoltyn/MLFP-ECON5130/main/data'\n",
    "filepath = f'{DATA_PATH}/FRED_QTR.csv'\n",
    "\n",
    "df = pd.read_csv(filepath, sep=',')\n",
    "\n",
    "# Compute GDP growth rates, inflation (in percent)\n",
    "df['GDP_growth'] = df['GDP'].diff() / df['GDP'].shift() * 100.0\n",
    "df['Inflation'] = df['CPI'].diff() / df['CPI'].shift() * 100.0\n",
    "\n",
    "# Assign decade using // to truncate division to\n",
    "# integer part. So we have 194x // 10 = 194 for any x.\n",
    "df['Decade'] = (df['Year'] // 10) * 10\n",
    "\n",
    "grp = df.groupby(['Decade'])\n",
    "\n",
    "# Print number of obs. by decade\n",
    "print(grp.count())\n",
    "\n",
    "# Create series that contains True for each\n",
    "# decade if all variables have 40 observations.\n",
    "use_decade = (grp.count() == 40).all(axis=1)\n",
    "# Convert series to DataFrame, assign column name 'Keep'\n",
    "df_decade = use_decade.to_frame('Keep')\n",
    "# merge into original DataFrame, matching rows on value\n",
    "# of column 'Decade'\n",
    "df = df.merge(df_decade, on='Decade')\n",
    "# Restrict data only to rows which are part of complete decade\n",
    "df = df.loc[df['Keep'], :].copy()\n",
    "# Drop 'Keep' column\n",
    "del df['Keep']\n",
    "\n",
    "# Compute average growth rates and unemployment rate by decade\n",
    "grp = df.groupby(['Decade'])\n",
    "\n",
    "df_avg = grp[['GDP_growth', 'Inflation', 'UNRATE']].mean()\n",
    "# Convert to (approximate) annualised growth rates\n",
    "df_avg['GDP_growth'] *= 4.0\n",
    "df_avg['Inflation'] *= 4.0"
   ]
  },
  {
   "cell_type": "markdown",
   "metadata": {},
   "source": [
    "The tricky part is to keep only observations for \"complete\"\n",
    "decades that have 40 quarters of data. We see that this \n",
    "is not the case for the 1940s:\n",
    "\n",
    "1.  We group by `Decade` and use `count()` to determine\n",
    "    the number of non-missing observations for each variable.\n",
    "2.  `count() == 40` evaluates to `True` for some variable \n",
    "    if it has 40 observations.\n",
    "3.  We then use [`all()`](https://pandas.pydata.org/pandas-docs/stable/reference/api/pandas.DataFrame.all.html) to aggregate across all variables,\n",
    "    i.e. we require 40 observations for every variable to\n",
    "    keep the decade.\n",
    "4.  Finally, we merge the indicator whether a decade should be kept in \n",
    "    the data set using [`merge()`](https://pandas.pydata.org/pandas-docs/stable/reference/api/pandas.DataFrame.merge.html), where we match on the value \n",
    "    of the column `Decade`. Note that the argument to `merge()` must \n",
    "    be a `DataFrame`, so we first have to convert our indicator data.\n",
    "5.  Finally, we keep only those observations which have a flag that is `True`.\n",
    "\n",
    "The rest of the exercise is straightforward as it just repeats \n",
    "what we have done previously. You can create the bar chart directly with\n",
    "pandas as follows:"
   ]
  },
  {
   "cell_type": "code",
   "execution_count": 41,
   "metadata": {},
   "outputs": [
    {
     "data": {
      "text/plain": [
       "<AxesSubplot:xlabel='Decade'>"
      ]
     },
     "execution_count": 41,
     "metadata": {},
     "output_type": "execute_result"
    },
    {
     "data": {
      "application/pdf": "[encoded data removed]",
      "image/png": "[encoded data removed]",
      "text/plain": [
       "<Figure size 400x300 with 1 Axes>"
      ]
     },
     "metadata": {},
     "output_type": "display_data"
    }
   ],
   "source": [
    "df_avg.plot.bar(y=['GDP_growth', 'Inflation', 'UNRATE'])"
   ]
  },
  {
   "cell_type": "markdown",
   "metadata": {},
   "source": [
    "### Solution for exercise 3\n",
    "\n",
    "We first read in the CSV file, specifying `';'` as the field \n",
    "separator:"
   ]
  },
  {
   "cell_type": "code",
   "execution_count": 42,
   "metadata": {},
   "outputs": [],
   "source": [
    "import pandas as pd\n",
    "\n",
    "# Use either local or remote path to data/ directory\n",
    "# DATA_PATH = '../data'\n",
    "DATA_PATH = 'https://raw.githubusercontent.com/richardfoltyn/MLFP-ECON5130/main/data'\n",
    "\n",
    "# Load CSV file\n",
    "filepath = f'{DATA_PATH}/universities.csv'\n",
    "df = pd.read_csv(filepath, sep=';')"
   ]
  },
  {
   "cell_type": "markdown",
   "metadata": {},
   "source": [
    "For the first task we use `apply()` to create a \n",
    "new `Series` object for each ratio of interest.\n",
    "\n",
    "We compute the ratios for each institution\n",
    "which will result in NaNs if either the numerator\n",
    "of denominator is missing. We thus use `np.nanmean()`\n",
    "to compute averages, ignoring any NaNs.\n",
    "\n",
    "Finally, we combine all `Series` into a `DataFrame`.\n",
    "We do this by specifying the data passed to \n",
    "`DataFrame()` as a dictionary, since then \n",
    "we can specify the column names as keys."
   ]
  },
  {
   "cell_type": "code",
   "execution_count": 43,
   "metadata": {},
   "outputs": [
    {
     "data": {
      "text/html": [
       "<div>\n",
       "<style scoped>\n",
       "    .dataframe tbody tr th:only-of-type {\n",
       "        vertical-align: middle;\n",
       "    }\n",
       "\n",
       "    .dataframe tbody tr th {\n",
       "        vertical-align: top;\n",
       "    }\n",
       "\n",
       "    .dataframe thead th {\n",
       "        text-align: right;\n",
       "    }\n",
       "</style>\n",
       "<table border=\"1\" class=\"dataframe\">\n",
       "  <thead>\n",
       "    <tr style=\"text-align: right;\">\n",
       "      <th></th>\n",
       "      <th>Staff_Student</th>\n",
       "      <th>Admin_Student</th>\n",
       "      <th>Budget_Student</th>\n",
       "      <th>Count</th>\n",
       "    </tr>\n",
       "    <tr>\n",
       "      <th>Russell</th>\n",
       "      <th></th>\n",
       "      <th></th>\n",
       "      <th></th>\n",
       "      <th></th>\n",
       "    </tr>\n",
       "  </thead>\n",
       "  <tbody>\n",
       "    <tr>\n",
       "      <th>0</th>\n",
       "      <td>0.096219</td>\n",
       "      <td>0.147762</td>\n",
       "      <td>16847.834366</td>\n",
       "      <td>6</td>\n",
       "    </tr>\n",
       "    <tr>\n",
       "      <th>1</th>\n",
       "      <td>0.155131</td>\n",
       "      <td>0.169079</td>\n",
       "      <td>35406.453649</td>\n",
       "      <td>17</td>\n",
       "    </tr>\n",
       "  </tbody>\n",
       "</table>\n",
       "</div>"
      ],
      "text/plain": [
       "         Staff_Student  Admin_Student  Budget_Student  Count\n",
       "Russell                                                     \n",
       "0             0.096219       0.147762    16847.834366      6\n",
       "1             0.155131       0.169079    35406.453649     17"
      ]
     },
     "execution_count": 43,
     "metadata": {},
     "output_type": "execute_result"
    }
   ],
   "source": [
    "# Variant 1\n",
    "# Compute means using apply()\n",
    "\n",
    "grp = df.groupby(['Russell'])\n",
    "\n",
    "# Create Series objects with the desired means\n",
    "staff = grp.apply(lambda x: np.nanmean(x['Staff'] / x['Students']))\n",
    "admin = grp.apply(lambda x: np.nanmean(x['Admin'] / x['Students']))\n",
    "# Budget in millions of pounds\n",
    "budget = grp.apply(lambda x: np.nanmean(x['Budget'] / x['Students']))\n",
    "# Convert to pounds\n",
    "budget *= 1.0e6\n",
    "# Count number of institutions in each group.\n",
    "# We can accomplish this by calling size() on the group object.\n",
    "count = grp.size()\n",
    "\n",
    "# Create a new DataFrame. Each column is a Series object.\n",
    "df_all = pd.DataFrame({'Staff_Student': staff,\n",
    "                       'Admin_Student': admin,\n",
    "                       'Budget_Student': budget,\n",
    "                       'Count': count})\n",
    "\n",
    "df_all"
   ]
  },
  {
   "cell_type": "markdown",
   "metadata": {},
   "source": [
    "For the second task, we first insert additional columns\n",
    "which contain the ratios of interest for each \n",
    "university.\n",
    "\n",
    "We then drop all unused columns, group by the `Russell`\n",
    "indicator and compute the means by directly \n",
    "calling `mean()` on the group object."
   ]
  },
  {
   "cell_type": "code",
   "execution_count": 44,
   "metadata": {},
   "outputs": [
    {
     "data": {
      "text/html": [
       "<div>\n",
       "<style scoped>\n",
       "    .dataframe tbody tr th:only-of-type {\n",
       "        vertical-align: middle;\n",
       "    }\n",
       "\n",
       "    .dataframe tbody tr th {\n",
       "        vertical-align: top;\n",
       "    }\n",
       "\n",
       "    .dataframe thead th {\n",
       "        text-align: right;\n",
       "    }\n",
       "</style>\n",
       "<table border=\"1\" class=\"dataframe\">\n",
       "  <thead>\n",
       "    <tr style=\"text-align: right;\">\n",
       "      <th></th>\n",
       "      <th>Staff_Student</th>\n",
       "      <th>Admin_Student</th>\n",
       "      <th>Budget_Student</th>\n",
       "      <th>Count</th>\n",
       "    </tr>\n",
       "    <tr>\n",
       "      <th>Russell</th>\n",
       "      <th></th>\n",
       "      <th></th>\n",
       "      <th></th>\n",
       "      <th></th>\n",
       "    </tr>\n",
       "  </thead>\n",
       "  <tbody>\n",
       "    <tr>\n",
       "      <th>0</th>\n",
       "      <td>0.096219</td>\n",
       "      <td>0.147762</td>\n",
       "      <td>16847.834366</td>\n",
       "      <td>6</td>\n",
       "    </tr>\n",
       "    <tr>\n",
       "      <th>1</th>\n",
       "      <td>0.155131</td>\n",
       "      <td>0.169079</td>\n",
       "      <td>35406.453649</td>\n",
       "      <td>17</td>\n",
       "    </tr>\n",
       "  </tbody>\n",
       "</table>\n",
       "</div>"
      ],
      "text/plain": [
       "         Staff_Student  Admin_Student  Budget_Student  Count\n",
       "Russell                                                     \n",
       "0             0.096219       0.147762    16847.834366      6\n",
       "1             0.155131       0.169079    35406.453649     17"
      ]
     },
     "execution_count": 44,
     "metadata": {},
     "output_type": "execute_result"
    }
   ],
   "source": [
    "# Variant 2:\n",
    "# Compute ratios first, apply aggregation later\n",
    "\n",
    "# Create new variables directly in original DataFrame\n",
    "df['Staff_Student'] = df['Staff'] / df['Students']\n",
    "df['Admin_Student'] = df['Admin'] / df['Students']\n",
    "# Budget in pounds (original Budget is in million pounds)\n",
    "df['Budget_Student'] = df['Budget'] / df['Students'] * 1.0e6\n",
    "\n",
    "# Keep only newly constructed ratios\n",
    "columns_keep = [name for name in df.columns\n",
    "                if name.endswith('_Student')]\n",
    "# Also keep Russell indicator\n",
    "columns_keep += ['Russell']\n",
    "df = df[columns_keep].copy()\n",
    "\n",
    "# Aggregate by Russell indicator\n",
    "grp = df.groupby(['Russell'])\n",
    "# Count number of institutions in each group.\n",
    "# We can accomplish this by calling size() on the group object.\n",
    "count = grp.size()\n",
    "\n",
    "df_all = grp.mean()\n",
    "# Add counter\n",
    "df_all['Count'] = count\n",
    "\n",
    "df_all"
   ]
  },
  {
   "cell_type": "markdown",
   "metadata": {},
   "source": [
    "We plot the results using pandas's `bar()` function.\n",
    "Since the data is of vastly different magnitudes, we \n",
    "specify `sharey=False` so that each panel will have \n",
    "its own scaling on the $y$-axis."
   ]
  },
  {
   "cell_type": "code",
   "execution_count": 45,
   "metadata": {},
   "outputs": [
    {
     "data": {
      "text/plain": [
       "array([[<AxesSubplot:title={'center':'Staff/Student'}, xlabel='Russell'>,\n",
       "        <AxesSubplot:title={'center':'Admin/Student'}, xlabel='Russell'>],\n",
       "       [<AxesSubplot:title={'center':'Budget/Student'}, xlabel='Russell'>,\n",
       "        <AxesSubplot:title={'center':'Number of Univ.'}, xlabel='Russell'>]],\n",
       "      dtype=object)"
      ]
     },
     "execution_count": 45,
     "metadata": {},
     "output_type": "execute_result"
    },
    {
     "data": {
      "application/pdf": "[encoded data removed]",
      "image/png": "[encoded data removed]",
      "text/plain": [
       "<Figure size 600x400 with 4 Axes>"
      ]
     },
     "metadata": {},
     "output_type": "display_data"
    }
   ],
   "source": [
    "# Plot results as bar charts, one panel for each variable\n",
    "\n",
    "# Pretty titles\n",
    "title = ['Staff/Student', 'Admin/Student', 'Budget/Student', 'Number of Univ.']\n",
    "# Create bar chart using pandas's bar() function\n",
    "df_all.plot.bar(sharey=False, subplots=True, layout=(2, 2), legend=False,\n",
    "                title=title, figsize=(6, 4))"
   ]
  },
  {
   "cell_type": "markdown",
   "metadata": {},
   "source": [
    "### Solution for exercise 4"
   ]
  },
  {
   "cell_type": "markdown",
   "metadata": {},
   "source": [
    "We create an indicator variable called `Pre1800` which\n",
    "is set to `True` whenever the founding year in column\n",
    "`Founded` is lower than 1800.\n",
    "\n",
    "We then group the data by `Country` and `Pre1800` and \n",
    "count the number of universities in each group using \n",
    "`count()`."
   ]
  },
  {
   "cell_type": "code",
   "execution_count": 46,
   "metadata": {},
   "outputs": [
    {
     "data": {
      "text/plain": [
       "Country           Pre1800\n",
       "England           False      8\n",
       "                  True       5\n",
       "Northern Ireland  False      1\n",
       "Scotland          False      3\n",
       "                  True       4\n",
       "Wales             False      2\n",
       "dtype: int64"
      ]
     },
     "execution_count": 46,
     "metadata": {},
     "output_type": "execute_result"
    }
   ],
   "source": [
    "import pandas as pd\n",
    "\n",
    "# Use either local or remote path to data/ directory\n",
    "# DATA_PATH = '../data'\n",
    "DATA_PATH = 'https://raw.githubusercontent.com/richardfoltyn/MLFP-ECON5130/main/data'\n",
    "\n",
    "# Load CSV file\n",
    "filepath = f'{DATA_PATH}/universities.csv'\n",
    "df = pd.read_csv(filepath, sep=';')\n",
    "\n",
    "# Create mask for founding period\n",
    "df['Pre1800'] = (df['Founded'] < 1800)\n",
    "\n",
    "# Create group by country and founding period;\n",
    "grp = df.groupby(['Country', 'Pre1800'])\n",
    "\n",
    "# Number of universities by country and founding period.\n",
    "# Since we are grouping by two attributes, this will create a\n",
    "# Series with a multi-level (hierarchical) index\n",
    "count = grp.size()\n",
    "\n",
    "count"
   ]
  },
  {
   "cell_type": "markdown",
   "metadata": {},
   "source": [
    "The resulting `Series` only contains values for \n",
    "those combinations that are actually present in the data.\n",
    "For example, the combination `(Wales, True)` does \n",
    "not show up because there are no Welsh universities\n",
    "founded before 1800 in our sample. We will have to \n",
    "\"complete\" the data and add zero entries in all such cases.\n",
    "\n",
    "First, we create a `DataFrame` with countries in rows and the number \n",
    "of universities for the pre- and post-1800 periods in columns.\n",
    "To accomplish this, we need to pivot the second row index\n",
    "using the [`unstack()`](https://pandas.pydata.org/pandas-docs/stable/reference/api/pandas.DataFrame.unstack.html) method. The `level=-1`\n",
    "argument tells it to use the last row index, and `fill_value=0`\n",
    "will assign zeros to all elements that were not present in the \n",
    "initial `DataFrame`, such as the combination `(Wales, True)`."
   ]
  },
  {
   "cell_type": "code",
   "execution_count": 47,
   "metadata": {},
   "outputs": [
    {
     "data": {
      "text/html": [
       "<div>\n",
       "<style scoped>\n",
       "    .dataframe tbody tr th:only-of-type {\n",
       "        vertical-align: middle;\n",
       "    }\n",
       "\n",
       "    .dataframe tbody tr th {\n",
       "        vertical-align: top;\n",
       "    }\n",
       "\n",
       "    .dataframe thead th {\n",
       "        text-align: right;\n",
       "    }\n",
       "</style>\n",
       "<table border=\"1\" class=\"dataframe\">\n",
       "  <thead>\n",
       "    <tr style=\"text-align: right;\">\n",
       "      <th>Founding year</th>\n",
       "      <th>After 1800</th>\n",
       "      <th>Before 1800</th>\n",
       "    </tr>\n",
       "    <tr>\n",
       "      <th>Country</th>\n",
       "      <th></th>\n",
       "      <th></th>\n",
       "    </tr>\n",
       "  </thead>\n",
       "  <tbody>\n",
       "    <tr>\n",
       "      <th>England</th>\n",
       "      <td>8</td>\n",
       "      <td>5</td>\n",
       "    </tr>\n",
       "    <tr>\n",
       "      <th>Northern Ireland</th>\n",
       "      <td>1</td>\n",
       "      <td>0</td>\n",
       "    </tr>\n",
       "    <tr>\n",
       "      <th>Scotland</th>\n",
       "      <td>3</td>\n",
       "      <td>4</td>\n",
       "    </tr>\n",
       "    <tr>\n",
       "      <th>Wales</th>\n",
       "      <td>2</td>\n",
       "      <td>0</td>\n",
       "    </tr>\n",
       "  </tbody>\n",
       "</table>\n",
       "</div>"
      ],
      "text/plain": [
       "Founding year     After 1800  Before 1800\n",
       "Country                                  \n",
       "England                    8            5\n",
       "Northern Ireland           1            0\n",
       "Scotland                   3            4\n",
       "Wales                      2            0"
      ]
     },
     "execution_count": 47,
     "metadata": {},
     "output_type": "execute_result"
    }
   ],
   "source": [
    "# DataFrame with countries in rows, Pre-1800 indicator in columns\n",
    "\n",
    "# Pivot inner index level to create separate columns for True/False\n",
    "# values of Pre1800 indicator\n",
    "df_count = count.unstack(level=-1, fill_value=0)\n",
    "\n",
    "# Set name of column index to something pretty: this will\n",
    "# be used as the legend title\n",
    "df_count.columns.rename('Founding year', inplace=True)\n",
    "# Rename columns to get pretty labels in legend\n",
    "df_count.rename(columns={True: 'Before 1800', False: 'After 1800'},\n",
    "                inplace=True)\n",
    "\n",
    "df_count"
   ]
  },
  {
   "cell_type": "markdown",
   "metadata": {},
   "source": [
    "Whenever we use pandas's built-in plotting functions,\n",
    "these use index names and labels to automatically \n",
    "label the graph. We therefore first have \n",
    "to assign these objects \"pretty\" names.\n",
    "\n",
    "We can then generate the bar chart as follows:"
   ]
  },
  {
   "cell_type": "code",
   "execution_count": 48,
   "metadata": {},
   "outputs": [
    {
     "data": {
      "text/plain": [
       "<AxesSubplot:title={'center':'Number of universities by founding year'}, xlabel='Country'>"
      ]
     },
     "execution_count": 48,
     "metadata": {},
     "output_type": "execute_result"
    },
    {
     "data": {
      "application/pdf": "[encoded data removed]",
      "image/png": "[encoded data removed]",
      "text/plain": [
       "<Figure size 400x300 with 1 Axes>"
      ]
     },
     "metadata": {},
     "output_type": "display_data"
    }
   ],
   "source": [
    "# Create bar chart by country\n",
    "title = 'Number of universities by founding year'\n",
    "# pass rot=0 to undo the rotation of x-tick labels\n",
    "# which pandas applies by default\n",
    "df_count.plot.bar(xlabel='Country', rot=0, title=title)"
   ]
  },
  {
   "cell_type": "markdown",
   "metadata": {},
   "source": [
    "Note how the legend title is automatically set to the column index name \n",
    "and the legend labels use the column index labels.\n",
    "\n",
    "We create the second `DataFrame` with the founding \n",
    "period in rows and country names in columns\n",
    "in exactly the same way, but now call\n",
    "`unstack(level=0)` so that the first index level \n",
    "will be pivoted."
   ]
  },
  {
   "cell_type": "code",
   "execution_count": 49,
   "metadata": {},
   "outputs": [
    {
     "data": {
      "text/html": [
       "<div>\n",
       "<style scoped>\n",
       "    .dataframe tbody tr th:only-of-type {\n",
       "        vertical-align: middle;\n",
       "    }\n",
       "\n",
       "    .dataframe tbody tr th {\n",
       "        vertical-align: top;\n",
       "    }\n",
       "\n",
       "    .dataframe thead th {\n",
       "        text-align: right;\n",
       "    }\n",
       "</style>\n",
       "<table border=\"1\" class=\"dataframe\">\n",
       "  <thead>\n",
       "    <tr style=\"text-align: right;\">\n",
       "      <th>Country</th>\n",
       "      <th>England</th>\n",
       "      <th>Northern Ireland</th>\n",
       "      <th>Scotland</th>\n",
       "      <th>Wales</th>\n",
       "    </tr>\n",
       "    <tr>\n",
       "      <th>Founding year</th>\n",
       "      <th></th>\n",
       "      <th></th>\n",
       "      <th></th>\n",
       "      <th></th>\n",
       "    </tr>\n",
       "  </thead>\n",
       "  <tbody>\n",
       "    <tr>\n",
       "      <th>After 1800</th>\n",
       "      <td>8</td>\n",
       "      <td>1</td>\n",
       "      <td>3</td>\n",
       "      <td>2</td>\n",
       "    </tr>\n",
       "    <tr>\n",
       "      <th>Before 1800</th>\n",
       "      <td>5</td>\n",
       "      <td>0</td>\n",
       "      <td>4</td>\n",
       "      <td>0</td>\n",
       "    </tr>\n",
       "  </tbody>\n",
       "</table>\n",
       "</div>"
      ],
      "text/plain": [
       "Country        England  Northern Ireland  Scotland  Wales\n",
       "Founding year                                            \n",
       "After 1800           8                 1         3      2\n",
       "Before 1800          5                 0         4      0"
      ]
     },
     "execution_count": 49,
     "metadata": {},
     "output_type": "execute_result"
    }
   ],
   "source": [
    "# Pivot first row index level to create separate columns for each country\n",
    "df_count = count.unstack(level=0, fill_value=0)\n",
    "\n",
    "# Set index name to something pretty\n",
    "df_count.index.rename('Founding year', inplace=True)\n",
    "# Rename index labels to get pretty text in legend\n",
    "df_count.rename(index={True: 'Before 1800', False: 'After 1800'},\n",
    "                inplace=True)\n",
    "\n",
    "df_count"
   ]
  },
  {
   "cell_type": "code",
   "execution_count": 50,
   "metadata": {},
   "outputs": [
    {
     "data": {
      "text/plain": [
       "<AxesSubplot:title={'center':'Number of universities by founding year'}, xlabel='Founding year'>"
      ]
     },
     "execution_count": 50,
     "metadata": {},
     "output_type": "execute_result"
    },
    {
     "data": {
      "application/pdf": "[encoded data removed]",
      "image/png": "[encoded data removed]",
      "text/plain": [
       "<Figure size 400x300 with 1 Axes>"
      ]
     },
     "metadata": {},
     "output_type": "display_data"
    }
   ],
   "source": [
    "# Create bar chart by founding year\n",
    "# pass rot=0 to undo the rotation of x-tick labels\n",
    "# which pandas applies by default\n",
    "df_count.plot.bar(rot=0, title=title)"
   ]
  },
  {
   "cell_type": "markdown",
   "metadata": {},
   "source": [
    "### Solution for exercise 5\n",
    "\n",
    "This exercise is quite involved, so we will discuss it in parts. \n",
    "First, we write the function that will be called by `apply()` to\n",
    "process sub-sets of the data which belong to a single decade:"
   ]
  },
  {
   "cell_type": "code",
   "execution_count": 51,
   "metadata": {},
   "outputs": [],
   "source": [
    "def regress_okun(x):\n",
    "    # x is a DataFrame, restricted to rows for the current decade\n",
    "\n",
    "    # Extract dependent and regressor variables\n",
    "    outcome = x['unempl_gap'].to_numpy()\n",
    "    GDP_gap = x['GDP_gap'].to_numpy()\n",
    "\n",
    "    # Regressor matrix including intercept\n",
    "    regr = np.ones((len(GDP_gap), 2))\n",
    "    # overwrite second column with output gap\n",
    "    regr[:,1] = GDP_gap\n",
    "\n",
    "    # Solve least-squares problem (pass rcond=None to avoid a warning)\n",
    "    coefs, *rest = np.linalg.lstsq(regr, outcome, rcond=None)\n",
    "\n",
    "    # Construct DataFrame which will be returned to apply()\n",
    "    # Convert data to 1 x 2 matrix\n",
    "    data = coefs[None]\n",
    "    columns = ['Const', 'GDP_gap']\n",
    "    df_out = pd.DataFrame(data, columns=columns)\n",
    "\n",
    "    return df_out"
   ]
  },
  {
   "cell_type": "markdown",
   "metadata": {},
   "source": [
    "This function is passed in a single argument which is a \n",
    "`DataFrame` restricted to the sub-sample that is currently\n",
    "being processed.\n",
    "\n",
    "-   Our task is to perform the required calculations\n",
    "    and to return the result as a `DataFrame`. `apply()`\n",
    "    then glues together all decade-specific DataFrames \n",
    "    to form the result of the operation.\n",
    "-   We first extract the relevant variables as NumPy arrays,\n",
    "    and we create a regressor matrix which has ones in\n",
    "    the first column. This column represents the intercept.\n",
    "-   We invoke `lstsq()` to run the regression. `lstsq()`\n",
    "    returns several arguments which we mop up in the tuple \n",
    "    `*rest` since we are only interested in the regression \n",
    "    coefficients.\n",
    "\n",
    "    Note that we wouldn't be using `lstsq()` to run OLS \n",
    "    on a regular basis, but it's sufficient for this use case.\n",
    "    \n",
    "-   Finally, we build the `DataFrame` to be returned \n",
    "    by this function. It has only one row (since we ran\n",
    "    only one regression) and two columns, one for each \n",
    "    regression coefficient.\n",
    "\n",
    "This was the hard part. We now need to perform some standard \n",
    "manipulations to prepare the data:\n",
    "\n",
    "1.  We construct the output gap (in percent), which \n",
    "    we store in the column `GDP_gap`.\n",
    "2.  We construct the cyclical unemployment rate and \n",
    "    store it in the column `unempl_gap`.\n",
    "3.  We determine the decade each observation belongs\n",
    "    to using the same code as in previous \n",
    "    exercises.\n",
    "4.  We then drop all unused variables from the `DataFrame`\n",
    "    and also all observations which contain missing values.\n",
    "\n",
    "Lastly, we can call `apply()` to run the regression for \n",
    "each decade."
   ]
  },
  {
   "cell_type": "code",
   "execution_count": 52,
   "metadata": {},
   "outputs": [
    {
     "data": {
      "text/html": [
       "<div>\n",
       "<style scoped>\n",
       "    .dataframe tbody tr th:only-of-type {\n",
       "        vertical-align: middle;\n",
       "    }\n",
       "\n",
       "    .dataframe tbody tr th {\n",
       "        vertical-align: top;\n",
       "    }\n",
       "\n",
       "    .dataframe thead th {\n",
       "        text-align: right;\n",
       "    }\n",
       "</style>\n",
       "<table border=\"1\" class=\"dataframe\">\n",
       "  <thead>\n",
       "    <tr style=\"text-align: right;\">\n",
       "      <th></th>\n",
       "      <th>Const</th>\n",
       "      <th>GDP_gap</th>\n",
       "    </tr>\n",
       "    <tr>\n",
       "      <th>Decade</th>\n",
       "      <th></th>\n",
       "      <th></th>\n",
       "    </tr>\n",
       "  </thead>\n",
       "  <tbody>\n",
       "    <tr>\n",
       "      <th>1940</th>\n",
       "      <td>-0.259986</td>\n",
       "      <td>-0.567257</td>\n",
       "    </tr>\n",
       "    <tr>\n",
       "      <th>1950</th>\n",
       "      <td>-0.277104</td>\n",
       "      <td>-0.494637</td>\n",
       "    </tr>\n",
       "    <tr>\n",
       "      <th>1960</th>\n",
       "      <td>-0.331665</td>\n",
       "      <td>-0.467206</td>\n",
       "    </tr>\n",
       "    <tr>\n",
       "      <th>1970</th>\n",
       "      <td>-0.032063</td>\n",
       "      <td>-0.398751</td>\n",
       "    </tr>\n",
       "    <tr>\n",
       "      <th>1980</th>\n",
       "      <td>-0.178001</td>\n",
       "      <td>-0.666688</td>\n",
       "    </tr>\n",
       "    <tr>\n",
       "      <th>1990</th>\n",
       "      <td>-0.102465</td>\n",
       "      <td>-0.489427</td>\n",
       "    </tr>\n",
       "    <tr>\n",
       "      <th>2000</th>\n",
       "      <td>-0.355138</td>\n",
       "      <td>-0.723567</td>\n",
       "    </tr>\n",
       "    <tr>\n",
       "      <th>2010</th>\n",
       "      <td>-0.279333</td>\n",
       "      <td>-0.983768</td>\n",
       "    </tr>\n",
       "  </tbody>\n",
       "</table>\n",
       "</div>"
      ],
      "text/plain": [
       "           Const   GDP_gap\n",
       "Decade                    \n",
       "1940   -0.259986 -0.567257\n",
       "1950   -0.277104 -0.494637\n",
       "1960   -0.331665 -0.467206\n",
       "1970   -0.032063 -0.398751\n",
       "1980   -0.178001 -0.666688\n",
       "1990   -0.102465 -0.489427\n",
       "2000   -0.355138 -0.723567\n",
       "2010   -0.279333 -0.983768"
      ]
     },
     "execution_count": 52,
     "metadata": {},
     "output_type": "execute_result"
    }
   ],
   "source": [
    "import pandas as pd\n",
    "import numpy as np\n",
    "import matplotlib.pyplot as plt\n",
    "\n",
    "# Use either local or remote path to data/ directory\n",
    "# DATA_PATH = '../data'\n",
    "DATA_PATH = 'https://raw.githubusercontent.com/richardfoltyn/MLFP-ECON5130/main/data'\n",
    "\n",
    "# Load CSV file\n",
    "filepath = f'{DATA_PATH}/FRED_QTR.csv'\n",
    "df = pd.read_csv(filepath, sep=',')\n",
    "\n",
    "# Generate output gap (in percent)\n",
    "df['GDP_gap'] = (df['GDP'] - df['GDPPOT']) / df['GDPPOT'] * 100.0\n",
    "\n",
    "# Generate deviations of unempl. rate from natural unempl. rate\n",
    "df['unempl_gap'] = df['UNRATE'] - df['NROU']\n",
    "\n",
    "# Assign decade using // to truncate division to\n",
    "# integer part. So we have 194x // 10 = 194 for any x.\n",
    "df['Decade'] = (df['Year'] // 10) * 10\n",
    "\n",
    "# Keep only variables of interest\n",
    "df = df[['Decade', 'GDP_gap', 'unempl_gap']]\n",
    "# Drop rows with any missing obs.\n",
    "df = df.dropna(axis=0)\n",
    "\n",
    "# Group by decade\n",
    "grp = df.groupby(['Decade'])\n",
    "\n",
    "# Apply regression routine to sub-set of data for each decade\n",
    "df_reg = grp.apply(regress_okun)\n",
    "# Get rid of second row index introduced by apply()\n",
    "df_reg = df_reg.reset_index(level=-1, drop=True)\n",
    "\n",
    "# Display intercept and slope coefficients\n",
    "# estimated for each decade.\n",
    "df_reg\n",
    "\n"
   ]
  },
  {
   "cell_type": "markdown",
   "metadata": {},
   "source": [
    "The following code creates 8 panels of scatter plots showing\n",
    "the raw data and overlays a regression line for each decade."
   ]
  },
  {
   "cell_type": "code",
   "execution_count": 53,
   "metadata": {},
   "outputs": [
    {
     "data": {
      "text/plain": [
       "Text(0.5, 0.98, \"Okun's law\")"
      ]
     },
     "execution_count": 53,
     "metadata": {},
     "output_type": "execute_result"
    },
    {
     "data": {
      "application/pdf": "[encoded data removed]",
      "image/png": "[encoded data removed]",
      "text/plain": [
       "<Figure size 600x1100 with 8 Axes>"
      ]
     },
     "metadata": {},
     "output_type": "display_data"
    }
   ],
   "source": [
    "# Number of plots (= number of decades)\n",
    "Nplots = len(df_reg)\n",
    "\n",
    "# Fix number of columns, determine rows as needed\n",
    "ncol = 2\n",
    "nrow = int(np.ceil(Nplots / ncol))\n",
    "\n",
    "fig, axes = plt.subplots(nrow, ncol, sharey=True, sharex=True, \n",
    "                         figsize=(6, 11))\n",
    "\n",
    "for i, ax in enumerate(axes.flatten()):\n",
    "    \n",
    "    # decade in current iteration\n",
    "    decade = df_reg.index.values[i]\n",
    "    # restrict DataFrame to decade-specific data\n",
    "    dfi = df.loc[df['Decade'] == decade]\n",
    "    # Scatter plot of raw data\n",
    "    ax.scatter(dfi['GDP_gap'], dfi['unempl_gap'], color='steelblue',\n",
    "               alpha=0.7, label='Raw data')\n",
    "    # Extract regression coefficients\n",
    "    const = df_reg.loc[decade, 'Const']\n",
    "    slope = df_reg.loc[decade, 'GDP_gap']\n",
    "\n",
    "    # plot regression line:\n",
    "    # We need to provide one point and a slope to define the line to be plotted.\n",
    "    ax.axline((0.0, const), slope=slope, color='red',\n",
    "              lw=2.0, label='Regression line')\n",
    "\n",
    "    # Add label containing the current decade\n",
    "    ax.text(0.95, 0.95, f\"{decade}'s\", transform=ax.transAxes,\n",
    "            va='top', ha='right')\n",
    "\n",
    "    # Add legend in the first panel only\n",
    "    if i == 0:\n",
    "        ax.legend(loc='lower left', frameon=False)\n",
    "\n",
    "    # Add x- and y-labels, but only for those panels\n",
    "    # that are on the left/lower boundary of the figure\n",
    "    if i >= nrow * (ncol - 1):\n",
    "        ax.set_xlabel('Output gap (%)')\n",
    "    if (i % ncol) == 0:\n",
    "        ax.set_ylabel('Cycl. unempl. rate (%-points)')\n",
    "\n",
    "fig.suptitle(\"Okun's law\")"
   ]
  }
 ],
 "metadata": {
  "kernelspec": {
   "display_name": "Python 3.10.4 ('py3-default')",
   "language": "python",
   "name": "python3"
  },
  "language_info": {
   "codemirror_mode": {
    "name": "ipython",
    "version": 3
   },
   "file_extension": ".py",
   "mimetype": "text/x-python",
   "name": "python",
   "nbconvert_exporter": "python",
   "pygments_lexer": "ipython3",
   "version": "3.10.4"
  },
  "vscode": {
   "interpreter": {
    "hash": "89692ee4bd8d7a7842eb7c7050f10ae8c4113955275de7625334d5364ea86119"
   }
  }
 },
 "nbformat": 4,
 "nbformat_minor": 0
}
