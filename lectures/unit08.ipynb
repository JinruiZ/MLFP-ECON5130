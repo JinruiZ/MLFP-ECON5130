{
 "cells": [
  {
   "cell_type": "markdown",
   "metadata": {
    "collapsed": true,
    "pycharm": {
     "name": "#%% md\n"
    }
   },
   "source": [
    "# Data input and output\n",
    "\n",
    "In this unit we discuss input and output,\n",
    "or I/O for short. We focus exclusively on I/O\n",
    "routines used to load and store data from files that are relevant\n",
    "for numerical computation and data analysis."
   ]
  },
  {
   "cell_type": "markdown",
   "metadata": {},
   "source": [
    "## I/O with NumPy\n",
    "\n",
    "### Loading text data\n",
    "\n",
    "We have already encountered the most basic, and probably most frequently used\n",
    "NumPy I/O routine, `np.loadtxt()`.\n",
    "We often use files that store data\n",
    "as text files containing character-separated values (CSV) since virtually\n",
    "any application supports this data format.\n",
    "The most important I/O functions to process text data are:\n",
    "\n",
    "-   [`np.loadtxt()`](https://numpy.org/doc/stable/reference/generated/numpy.loadtxt.html):     load data from a text file.\n",
    "-   [`np.genfromtxt()`](https://numpy.org/doc/stable/reference/generated/numpy.genfromtxt.html): \n",
    "    load data from a text file and handle missing data.\n",
    "-   [`np.savetxt()`](https://numpy.org/doc/stable/reference/generated/numpy.savetxt.html): \n",
    "    save a NumPy array to a text file.\n",
    "\n",
    "There are a few other I/O functions in NumPy, for example to\n",
    "write arrays as raw binary data.\n",
    "We won't cover them here, but you can find them in the\n",
    "[official documentation](https://numpy.org/doc/stable/reference/routines.io.html).\n",
    "\n",
    "Imagine we have the following tabular data from [FRED](https://fred.stlouisfed.org/), where the first two rows\n",
    "look as follows:\n",
    "\n",
    "| Year |  GDP   |  CPI | UNRATE |\n",
    "| ---- | ------ | ---- | ------ |\n",
    "| 1948 | 2118.5 | 24.0 | 3.8    |\n",
    "| 1949 | 2106.6 | 23.8 | 6.0    |\n",
    "\n",
    "To load this CSV file as a NumPy array, we use `loadtxt()`. As in the previous unit, it is advantageous to globally set the path to the `data/` directory that can point either to the local directory or to the `data/` directory on GitHub."
   ]
  },
  {
   "cell_type": "code",
   "execution_count": 1,
   "metadata": {},
   "outputs": [],
   "source": [
    "# Uncomment this to use files in the local data/ directory\n",
    "# DATA_PATH = '../data'\n",
    "\n",
    "# Load data directly from GitHub\n",
    "DATA_PATH = 'https://raw.githubusercontent.com/richardfoltyn/MLFP-ECON5130/main/data'"
   ]
  },
  {
   "cell_type": "code",
   "execution_count": 2,
   "metadata": {
    "collapsed": false,
    "pycharm": {
     "name": "#%%\n"
    }
   },
   "outputs": [
    {
     "data": {
      "text/plain": [
       "array([[1948. , 2118.5,   24. ,    3.8],\n",
       "       [1949. , 2106.6,   23.8,    6. ]])"
      ]
     },
     "execution_count": 2,
     "metadata": {},
     "output_type": "execute_result"
    }
   ],
   "source": [
    "import numpy as np\n",
    "\n",
    "\n",
    "# relative path to CSV file\n",
    "file = f'{DATA_PATH}/FRED.csv'\n",
    "\n",
    "# load CSV\n",
    "data = np.loadtxt(file, skiprows=1, delimiter=',')\n",
    "data[:2]        # Display first two rows"
   ]
  },
  {
   "cell_type": "markdown",
   "metadata": {
    "collapsed": false,
    "pycharm": {
     "name": "#%% md\n"
    }
   },
   "source": [
    "The default settings will in many cases be appropriate to load\n",
    "whatever CSV file we might have. However, we'll occasionally\n",
    "want to specify the following arguments to override the defaults:\n",
    "\n",
    "-   `delimiter`: Character used to separate individual fields (default: space).\n",
    "-   `skiprows=n`: Skip the first `n` rows. For example, if the CSV file\n",
    "    contains a header with variable names, `skiprows=1` needs to be\n",
    "    specified as NumPy by default cannot process these names.\n",
    "-   `dtype`: Enforce a particular data type for the resulting array.\n",
    "-   `encoding`: Set the character encoding of the input data. This\n",
    "    is usually not needed, but can be required to import data\n",
    "    with non-latin characters that are not encoded using Unicode.\n",
    "\n",
    "While `loadtxt()` is simple to use, it quickly reaches its limits\n",
    "with more complex data sets.\n",
    "For example, when we try to load our sample of universities with\n",
    "`loadtxt()`, we get the following error:"
   ]
  },
  {
   "cell_type": "code",
   "execution_count": 3,
   "metadata": {
    "collapsed": false,
    "pycharm": {
     "name": "#%%\n"
    }
   },
   "outputs": [
    {
     "ename": "ValueError",
     "evalue": "could not convert string to float: '\"University of Glasgow\"'",
     "output_type": "error",
     "traceback": [
      "\u001b[0;31mValueError\u001b[0m\u001b[0;31m:\u001b[0m could not convert string to float: '\"University of Glasgow\"'\n"
     ]
    }
   ],
   "source": [
    "import numpy as np\n",
    "\n",
    "file = f'{DATA_PATH}/universities.csv'\n",
    "\n",
    "# Try to load CSV data that contains strings\n",
    "# This will result in an error!\n",
    "data = np.loadtxt(file, delimiter=';', skiprows=1)"
   ]
  },
  {
   "cell_type": "markdown",
   "metadata": {
    "collapsed": false,
    "pycharm": {
     "name": "#%% md\n"
    }
   },
   "source": [
    "This code fails for two reasons:\n",
    "\n",
    "1.  The file contains strings and floats, and `loadtxt()` by default\n",
    "    cannot load mixed data.\n",
    "2.  There are missing values (empty fields), which `loadtxt()` cannot\n",
    "    handle either.\n",
    "\n",
    "We can address the first issue by creating a so-called\n",
    "[structured array](https://numpy.org/doc/stable/user/basics.rec.html),\n",
    "i.e., an array that contains fields with mixed data.\n",
    "This is accomplished by constructing a special `dtype` object that\n",
    "specifies the field names and their data types:"
   ]
  },
  {
   "cell_type": "code",
   "execution_count": 4,
   "metadata": {
    "collapsed": false,
    "pycharm": {
     "name": "#%%\n"
    }
   },
   "outputs": [
    {
     "ename": "ValueError",
     "evalue": "could not convert string to float: ''",
     "output_type": "error",
     "traceback": [
      "\u001b[0;31mValueError\u001b[0m\u001b[0;31m:\u001b[0m could not convert string to float: ''\n"
     ]
    }
   ],
   "source": [
    "# Define names and data types for fields in CSV file\n",
    "#   Data types are defined using two tokens:\n",
    "#       1.  The main data type (U: unicode string, f: float, i: integer)\n",
    "#       2.  The precision or field width\n",
    "dtypes = np.dtype([('Institution', 'U30'),      # unicode string of length 30\n",
    "                   ('Country', 'U20'),          # unicode string of length 20\n",
    "                   ('Founded', 'i4'),           # integer, 4 bytes\n",
    "                   ('Students', 'i4'),\n",
    "                   ('Staff', 'i4'),\n",
    "                   ('Admin', 'i4'),\n",
    "                   ('Budget', 'f8'),            # float, 8 bytes\n",
    "                   ('Russell', 'i1')])          # integer, 1 byte\n",
    "\n",
    "data = np.loadtxt(file, delimiter=';', skiprows=1, dtype=dtypes)"
   ]
  },
  {
   "cell_type": "markdown",
   "metadata": {
    "collapsed": false,
    "pycharm": {
     "name": "#%% md\n"
    }
   },
   "source": [
    "However, this still fails because the of a few missing values.\n",
    "\n",
    "We can get around this by using `genfromtxt()`, which is\n",
    "more flexible and can also deal with missing data:"
   ]
  },
  {
   "cell_type": "code",
   "execution_count": 5,
   "metadata": {
    "collapsed": false,
    "pycharm": {
     "name": "#%%\n"
    }
   },
   "outputs": [
    {
     "data": {
      "text/plain": [
       "array([('\"University of Strathclyde\"', '\"Scotland\"', 1964, 22640,   -1, 3200,  304.4, 0),\n",
       "       ('\"University of Oxford\"', '\"England\"', 1096, 24515, 7000,   -1, 2450. , 1),\n",
       "       ('\"University of Manchester\"', '\"England\"', 2004, 40250, 3849,   -1, 1095.4, 1),\n",
       "       ('\"University of Birmingham\"', '\"England\"', 1825, 35445, 4020,   -1,  673.8, 1),\n",
       "       ('\"University of Nottingham\"', '\"England\"', 1798, 30798, 3495,   -1,  656.5, 1),\n",
       "       ('\"University of Stirling\"', '\"Scotland\"', 1967,  9548,   -1, 1872,  113.3, 0),\n",
       "       ('\"Swansea University\"', '\"Wales\"', 1920, 20620,   -1, 3290,    nan, 0)],\n",
       "      dtype=[('Institution', '<U30'), ('Country', '<U20'), ('Founded', '<i4'), ('Students', '<i4'), ('Staff', '<i4'), ('Admin', '<i4'), ('Budget', '<f8'), ('Russell', 'i1')])"
      ]
     },
     "execution_count": 5,
     "metadata": {},
     "output_type": "execute_result"
    }
   ],
   "source": [
    "# load data using genfromtxt()\n",
    "# We still need to specify the dtype defined above!\n",
    "data = np.genfromtxt(file, delimiter=';', dtype=dtypes, encoding='utf8',\n",
    "                     skip_header=1)\n",
    "\n",
    "# Determine rows with missing data:\n",
    "#   - missing integers are coded as -1\n",
    "#   - missing floats are coded as np.nan\n",
    "missing = (data['Staff'] < 0) | (data['Admin'] < 0) | np.isnan(data['Budget'])\n",
    "\n",
    "# print rows with missing values\n",
    "data[missing]"
   ]
  },
  {
   "cell_type": "markdown",
   "metadata": {
    "collapsed": false,
    "pycharm": {
     "name": "#%% md\n"
    }
   },
   "source": [
    "While the CSV file can now be processed without errors, you see that\n",
    "NumPy does not remove the double quotes around strings such as the\n",
    "university names.\n",
    "Instead of trying to fix this, it is advisable to just use pandas to\n",
    "load this kind of data which handles all these problems automatically.\n",
    "We examine this alternative below."
   ]
  },
  {
   "cell_type": "markdown",
   "metadata": {
    "collapsed": false
   },
   "source": [
    "### Saving data to text files\n",
    "\n",
    "To save a NumPy array to a CSV file, there is a logical counterpart\n",
    "to `np.loadtxt()` which is called `np.savetxt()`."
   ]
  },
  {
   "cell_type": "code",
   "execution_count": 6,
   "metadata": {
    "collapsed": false,
    "pycharm": {
     "name": "#%%\n"
    }
   },
   "outputs": [
    {
     "name": "stdout",
     "output_type": "stream",
     "text": [
      "Saving CSV file to /tmp/tmpdo45ybdi/data.csv\n"
     ]
    }
   ],
   "source": [
    "import numpy as np\n",
    "import os.path\n",
    "import tempfile\n",
    "\n",
    "# Generate some random data on [0,1)\n",
    "data = np.random.default_rng(123).random(size=(10, 5))\n",
    "\n",
    "# create temporary directory\n",
    "d = tempfile.TemporaryDirectory()\n",
    "\n",
    "# path to CSV file\n",
    "file = os.path.join(d.name, 'data.csv')\n",
    "\n",
    "# Print destination file - this will be different each time\n",
    "print(f'Saving CSV file to {file}')\n",
    "\n",
    "# Write NumPy array to CSV file. The fmt argument specifies\n",
    "# that data should be saved as floating-point using a\n",
    "# field width of 8 characters and 5 decimal digits.\n",
    "np.savetxt(file, data, delimiter=';', fmt='%8.5f')"
   ]
  },
  {
   "cell_type": "markdown",
   "metadata": {
    "collapsed": false,
    "pycharm": {
     "name": "#%% md\n"
    }
   },
   "source": [
    "The above code creates a $10 \\times 5$ matrix of random floats\n",
    "and stores these in the file `data.csv` using 5 significant digits.\n",
    "\n",
    "We store the destination file in a temporary directory which\n",
    "we create as follows:\n",
    "\n",
    "-   Because we cannot know in advance on which system this code\n",
    "    is run (e.g. the operating system and directory layout),\n",
    "    we cannot hard-code a file path.\n",
    "-   Moreover, we do not know whether the code is run with write\n",
    "    permissions in any particular folder.\n",
    "-   We work around this issue by asking the Python runtime to\n",
    "    create a writeable temporary directory *for the system\n",
    "    where the code is being run*.\n",
    "-   We use the routines in the \n",
    "    [`tempfile`](https://docs.python.org/3/library/tempfile.html) \n",
    "    module to create this temporary directory.\n",
    "\n",
    "Of course, on your own computer you do not need to use a temporary\n",
    "directory, but can instead use any directory where\n",
    "your user has write permissions. For example, on Windows you\n",
    "could use something along the lines of\n",
    "\n",
    "    file = 'C:/Users/Path/to/file.txt'\n",
    "    np.savetxt(file, data, delimiter=';', fmt='%8.5f')\n",
    "\n",
    "You can even use relative paths. To store a file in the \n",
    "current working directory it is sufficient to just \n",
    "pass the file name:\n",
    "\n",
    "    file = 'file.txt'\n",
    "    np.savetxt(file, data, delimiter=';', fmt='%8.5f')"
   ]
  },
  {
   "cell_type": "markdown",
   "metadata": {
    "collapsed": false,
    "pycharm": {
     "name": "#%% md\n"
    }
   },
   "source": [
    "***\n",
    "## I/O with pandas\n",
    "\n",
    "Pandas's I/O routines are more powerful than those implemented in NumPy:\n",
    "\n",
    "-   They support reading and writing numerous file formats.\n",
    "-   They support heterogeneous data without having to specify\n",
    "    the data type in advance.\n",
    "-   They gracefully handle missing values.\n",
    "\n",
    "For these reasons, it is often preferable to directly use pandas to\n",
    "process data instead of NumPy.\n",
    "\n",
    "The most important routines are:\n",
    "\n",
    "-   [`read_csv()`](https://pandas.pydata.org/pandas-docs/stable/reference/api/pandas.read_csv.html), \n",
    "    [`to_csv()`](https://pandas.pydata.org/pandas-docs/stable/reference/api/pandas.DataFrame.to_csv.html): \n",
    "    Read or write CSV text files\n",
    "-   [`read_fwf()`](https://pandas.pydata.org/pandas-docs/stable/reference/api/pandas.read_fwf.html): \n",
    "    Read data with fixed field widths, i.e. text data\n",
    "    that does not use delimiters to separate fields.\n",
    "-   [`read_excel()`](https://pandas.pydata.org/pandas-docs/stable/reference/api/pandas.read_excel.html), \n",
    "    [`to_excel()`](https://pandas.pydata.org/pandas-docs/stable/reference/api/pandas.DataFrame.to_excel.html): \n",
    "    Read or write Excel spreadsheets\n",
    "-   [`read_stata()`](https://pandas.pydata.org/pandas-docs/stable/reference/api/pandas.read_stata.html), \n",
    "    [`to_stata()`](https://pandas.pydata.org/pandas-docs/stable/reference/api/pandas.DataFrame.to_stata.html): \n",
    "    Read or write Stata's `.dta` files.\n",
    "\n",
    "For a complete list of I/O routines, see the [official documentation](https://pandas.pydata.org/pandas-docs/stable/user_guide/io.html).\n",
    "\n",
    "To illustrate, we repeat the above examples using pandas's\n",
    "`read_csv()`. Since the FRED data contains only floating-point\n",
    "data, the result is very similar to reading in a NumPy array."
   ]
  },
  {
   "cell_type": "code",
   "execution_count": 7,
   "metadata": {
    "collapsed": false,
    "pycharm": {
     "name": "#%%\n"
    }
   },
   "outputs": [
    {
     "data": {
      "text/html": [
       "<div>\n",
       "<style scoped>\n",
       "    .dataframe tbody tr th:only-of-type {\n",
       "        vertical-align: middle;\n",
       "    }\n",
       "\n",
       "    .dataframe tbody tr th {\n",
       "        vertical-align: top;\n",
       "    }\n",
       "\n",
       "    .dataframe thead th {\n",
       "        text-align: right;\n",
       "    }\n",
       "</style>\n",
       "<table border=\"1\" class=\"dataframe\">\n",
       "  <thead>\n",
       "    <tr style=\"text-align: right;\">\n",
       "      <th></th>\n",
       "      <th>Year</th>\n",
       "      <th>GDP</th>\n",
       "      <th>CPI</th>\n",
       "      <th>UNRATE</th>\n",
       "    </tr>\n",
       "  </thead>\n",
       "  <tbody>\n",
       "    <tr>\n",
       "      <th>0</th>\n",
       "      <td>1948</td>\n",
       "      <td>2118.5</td>\n",
       "      <td>24.0</td>\n",
       "      <td>3.8</td>\n",
       "    </tr>\n",
       "    <tr>\n",
       "      <th>1</th>\n",
       "      <td>1949</td>\n",
       "      <td>2106.6</td>\n",
       "      <td>23.8</td>\n",
       "      <td>6.0</td>\n",
       "    </tr>\n",
       "  </tbody>\n",
       "</table>\n",
       "</div>"
      ],
      "text/plain": [
       "   Year     GDP   CPI  UNRATE\n",
       "0  1948  2118.5  24.0     3.8\n",
       "1  1949  2106.6  23.8     6.0"
      ]
     },
     "execution_count": 7,
     "metadata": {},
     "output_type": "execute_result"
    }
   ],
   "source": [
    "import pandas as pd\n",
    "\n",
    "# relative path to CSV file\n",
    "file = f'{DATA_PATH}/FRED.csv'\n",
    "\n",
    "df = pd.read_csv(file, sep=',')\n",
    "df.head(2)          # Display the first 2 rows of data"
   ]
  },
  {
   "cell_type": "markdown",
   "metadata": {
    "collapsed": false,
    "pycharm": {
     "name": "#%% md\n"
    }
   },
   "source": [
    "The difference between NumPy and pandas become obvious when we\n",
    "try to load our university data: this works out of the box,\n",
    "without the need to specify any data types or to handle missing values:"
   ]
  },
  {
   "cell_type": "code",
   "execution_count": 8,
   "metadata": {
    "collapsed": false,
    "pycharm": {
     "name": "#%%\n"
    }
   },
   "outputs": [
    {
     "data": {
      "text/html": [
       "<div>\n",
       "<style scoped>\n",
       "    .dataframe tbody tr th:only-of-type {\n",
       "        vertical-align: middle;\n",
       "    }\n",
       "\n",
       "    .dataframe tbody tr th {\n",
       "        vertical-align: top;\n",
       "    }\n",
       "\n",
       "    .dataframe thead th {\n",
       "        text-align: right;\n",
       "    }\n",
       "</style>\n",
       "<table border=\"1\" class=\"dataframe\">\n",
       "  <thead>\n",
       "    <tr style=\"text-align: right;\">\n",
       "      <th></th>\n",
       "      <th>Institution</th>\n",
       "      <th>Country</th>\n",
       "      <th>Founded</th>\n",
       "      <th>Students</th>\n",
       "      <th>Staff</th>\n",
       "      <th>Admin</th>\n",
       "      <th>Budget</th>\n",
       "      <th>Russell</th>\n",
       "    </tr>\n",
       "  </thead>\n",
       "  <tbody>\n",
       "    <tr>\n",
       "      <th>20</th>\n",
       "      <td>University of Stirling</td>\n",
       "      <td>Scotland</td>\n",
       "      <td>1967</td>\n",
       "      <td>9548</td>\n",
       "      <td>NaN</td>\n",
       "      <td>1872.0</td>\n",
       "      <td>113.3</td>\n",
       "      <td>0</td>\n",
       "    </tr>\n",
       "    <tr>\n",
       "      <th>21</th>\n",
       "      <td>Queen’s University Belfast</td>\n",
       "      <td>Northern Ireland</td>\n",
       "      <td>1810</td>\n",
       "      <td>18438</td>\n",
       "      <td>2414.0</td>\n",
       "      <td>1489.0</td>\n",
       "      <td>369.2</td>\n",
       "      <td>1</td>\n",
       "    </tr>\n",
       "    <tr>\n",
       "      <th>22</th>\n",
       "      <td>Swansea University</td>\n",
       "      <td>Wales</td>\n",
       "      <td>1920</td>\n",
       "      <td>20620</td>\n",
       "      <td>NaN</td>\n",
       "      <td>3290.0</td>\n",
       "      <td>NaN</td>\n",
       "      <td>0</td>\n",
       "    </tr>\n",
       "  </tbody>\n",
       "</table>\n",
       "</div>"
      ],
      "text/plain": [
       "                   Institution           Country  Founded  Students   Staff  \\\n",
       "20      University of Stirling          Scotland     1967      9548     NaN   \n",
       "21  Queen’s University Belfast  Northern Ireland     1810     18438  2414.0   \n",
       "22          Swansea University             Wales     1920     20620     NaN   \n",
       "\n",
       "     Admin  Budget  Russell  \n",
       "20  1872.0   113.3        0  \n",
       "21  1489.0   369.2        1  \n",
       "22  3290.0     NaN        0  "
      ]
     },
     "execution_count": 8,
     "metadata": {},
     "output_type": "execute_result"
    }
   ],
   "source": [
    "import pandas as pd\n",
    "\n",
    "# relative path to CSV file\n",
    "file = f'{DATA_PATH}/universities.csv'\n",
    "\n",
    "df = pd.read_csv(file, sep=';')\n",
    "df.tail(3)      # show last 3 rows"
   ]
  },
  {
   "cell_type": "markdown",
   "metadata": {
    "collapsed": false,
    "pycharm": {
     "name": "#%% md\n"
    }
   },
   "source": [
    "Note that missing values are correctly converted to `np.nan` and\n",
    "the double quotes surrounding strings are automatically removed!\n",
    "\n",
    "\n",
    "Unlike NumPy, pandas can also process other popular data formats\n",
    "such as MS Excel files (or OpenDocument spreadsheets):"
   ]
  },
  {
   "cell_type": "code",
   "execution_count": 9,
   "metadata": {
    "collapsed": false,
    "pycharm": {
     "name": "#%%\n"
    }
   },
   "outputs": [
    {
     "data": {
      "text/html": [
       "<div>\n",
       "<style scoped>\n",
       "    .dataframe tbody tr th:only-of-type {\n",
       "        vertical-align: middle;\n",
       "    }\n",
       "\n",
       "    .dataframe tbody tr th {\n",
       "        vertical-align: top;\n",
       "    }\n",
       "\n",
       "    .dataframe thead th {\n",
       "        text-align: right;\n",
       "    }\n",
       "</style>\n",
       "<table border=\"1\" class=\"dataframe\">\n",
       "  <thead>\n",
       "    <tr style=\"text-align: right;\">\n",
       "      <th></th>\n",
       "      <th>Institution</th>\n",
       "      <th>Country</th>\n",
       "      <th>Founded</th>\n",
       "      <th>Students</th>\n",
       "      <th>Staff</th>\n",
       "      <th>Admin</th>\n",
       "      <th>Budget</th>\n",
       "      <th>Russell</th>\n",
       "    </tr>\n",
       "  </thead>\n",
       "  <tbody>\n",
       "    <tr>\n",
       "      <th>0</th>\n",
       "      <td>University of Glasgow</td>\n",
       "      <td>Scotland</td>\n",
       "      <td>1451</td>\n",
       "      <td>30805</td>\n",
       "      <td>2942.0</td>\n",
       "      <td>4003.0</td>\n",
       "      <td>626.5</td>\n",
       "      <td>1</td>\n",
       "    </tr>\n",
       "    <tr>\n",
       "      <th>1</th>\n",
       "      <td>University of Edinburgh</td>\n",
       "      <td>Scotland</td>\n",
       "      <td>1583</td>\n",
       "      <td>34275</td>\n",
       "      <td>4589.0</td>\n",
       "      <td>6107.0</td>\n",
       "      <td>1102.0</td>\n",
       "      <td>1</td>\n",
       "    </tr>\n",
       "    <tr>\n",
       "      <th>2</th>\n",
       "      <td>University of St Andrews</td>\n",
       "      <td>Scotland</td>\n",
       "      <td>1413</td>\n",
       "      <td>8984</td>\n",
       "      <td>1137.0</td>\n",
       "      <td>1576.0</td>\n",
       "      <td>251.2</td>\n",
       "      <td>0</td>\n",
       "    </tr>\n",
       "  </tbody>\n",
       "</table>\n",
       "</div>"
      ],
      "text/plain": [
       "                Institution   Country  Founded  Students   Staff   Admin  \\\n",
       "0     University of Glasgow  Scotland     1451     30805  2942.0  4003.0   \n",
       "1   University of Edinburgh  Scotland     1583     34275  4589.0  6107.0   \n",
       "2  University of St Andrews  Scotland     1413      8984  1137.0  1576.0   \n",
       "\n",
       "   Budget  Russell  \n",
       "0   626.5        1  \n",
       "1  1102.0        1  \n",
       "2   251.2        0  "
      ]
     },
     "execution_count": 9,
     "metadata": {},
     "output_type": "execute_result"
    }
   ],
   "source": [
    "import pandas as pd\n",
    "\n",
    "# Excel file containing university data\n",
    "file = f'{DATA_PATH}/universities.xlsx'\n",
    "\n",
    "df = pd.read_excel(file, sheet_name='universities')\n",
    "df.head(3)"
   ]
  },
  {
   "cell_type": "markdown",
   "metadata": {
    "collapsed": false,
    "pycharm": {
     "name": "#%% md\n"
    }
   },
   "source": [
    "The routine `read_excel()` takes the argument `sheet_name` to\n",
    "specify the sheet that should be read.\n",
    "\n",
    "-   Note that the Python package \n",
    "    [`openpyxl`](https://pypi.org/project/openpyxl/) \n",
    "    needs to be installed in order\n",
    "    to read files from Excel 2003 and above.\n",
    "-   To read older Excel files (`.xls`), you need the package \n",
    "    [`xlrd`](https://pypi.org/project/xlrd/).\n",
    "\n",
    "Finally, we often encounter text files with fixed field widths,\n",
    "since this is a commonly used format in older applications\n",
    "(for example, fixed-width files are easy to create in Fortran).\n",
    "To illustrate, the fixed-width variant of our FRED data looks like this:\n",
    "```\n",
    " Year GDP    CPI  UNRATE\n",
    " 1948 2118.5   24     3.8\n",
    " 1949 2106.6 23.8       6\n",
    " 1950 2289.5 24.1     5.2\n",
    " 1951 2473.8   26     3.3\n",
    " 1952 2574.9 26.6       3\n",
    "```\n",
    "You see that the column `Year` occupies the first 5\n",
    "characters, the `GDP` column the next 7 characters, and so on.\n",
    "To read such files, the width (i.e., the number of characters)\n",
    "has to be explicitly specified:"
   ]
  },
  {
   "cell_type": "code",
   "execution_count": 10,
   "metadata": {
    "collapsed": false,
    "pycharm": {
     "name": "#%%\n"
    }
   },
   "outputs": [
    {
     "data": {
      "text/html": [
       "<div>\n",
       "<style scoped>\n",
       "    .dataframe tbody tr th:only-of-type {\n",
       "        vertical-align: middle;\n",
       "    }\n",
       "\n",
       "    .dataframe tbody tr th {\n",
       "        vertical-align: top;\n",
       "    }\n",
       "\n",
       "    .dataframe thead th {\n",
       "        text-align: right;\n",
       "    }\n",
       "</style>\n",
       "<table border=\"1\" class=\"dataframe\">\n",
       "  <thead>\n",
       "    <tr style=\"text-align: right;\">\n",
       "      <th></th>\n",
       "      <th>Year</th>\n",
       "      <th>GDP</th>\n",
       "      <th>CPI</th>\n",
       "      <th>UNRATE</th>\n",
       "    </tr>\n",
       "  </thead>\n",
       "  <tbody>\n",
       "    <tr>\n",
       "      <th>0</th>\n",
       "      <td>1948</td>\n",
       "      <td>2118.5</td>\n",
       "      <td>24.0</td>\n",
       "      <td>3.8</td>\n",
       "    </tr>\n",
       "    <tr>\n",
       "      <th>1</th>\n",
       "      <td>1949</td>\n",
       "      <td>2106.6</td>\n",
       "      <td>23.8</td>\n",
       "      <td>6.0</td>\n",
       "    </tr>\n",
       "    <tr>\n",
       "      <th>2</th>\n",
       "      <td>1950</td>\n",
       "      <td>2289.5</td>\n",
       "      <td>24.1</td>\n",
       "      <td>5.2</td>\n",
       "    </tr>\n",
       "  </tbody>\n",
       "</table>\n",
       "</div>"
      ],
      "text/plain": [
       "   Year     GDP   CPI  UNRATE\n",
       "0  1948  2118.5  24.0     3.8\n",
       "1  1949  2106.6  23.8     6.0\n",
       "2  1950  2289.5  24.1     5.2"
      ]
     },
     "execution_count": 10,
     "metadata": {},
     "output_type": "execute_result"
    }
   ],
   "source": [
    "import pandas as pd\n",
    "\n",
    "# File name of FRED data, stored as fixed-width text\n",
    "file = f'{DATA_PATH}/FRED-fixed.csv'\n",
    "\n",
    "# field widths are passed as list to read_fwf()\n",
    "df = pd.read_fwf(file, widths=[5, 7, 5, 8])\n",
    "df.head(3)"
   ]
  },
  {
   "cell_type": "markdown",
   "metadata": {
    "collapsed": false,
    "pycharm": {
     "name": "#%% md\n"
    }
   },
   "source": [
    "Here the `widths` argument accepts a list that contains the\n",
    "number of characters to be used for each field."
   ]
  },
  {
   "cell_type": "markdown",
   "metadata": {},
   "source": [
    "***\n",
    "## Retrieving macroeconomic / financial data from the web"
   ]
  },
  {
   "cell_type": "markdown",
   "metadata": {},
   "source": [
    "### Federal Reserve Economic Data (FRED)\n",
    "\n",
    "[FRED](https://fred.stlouisfed.org/), provided by the Federal Reserve of St. Louis, is likely the most important macroeconomic online database (at least for US-centric data).\n",
    "[`fredapi`](https://pypi.org/project/fredapi/) is a Python API for the FRED data which provides a wrapper for the FRED web service (see also the project's [GitHub page](https://github.com/mortada/fredapi)).\n",
    "\n",
    "Before accessing FRED, you need to install `fredapi` into your Python environment as follows:\n",
    "```\n",
    "pip install --no-deps fredapi\n",
    "```\n",
    "\n",
    "*Important:*\n",
    "\n",
    "- The `--no-deps` argument might be required for Anaconda users as otherwise the conda-provided versions of `numpy` and `pandas` could be overwritten.\n",
    "- Anaconda users should _not_ use the `fredapi` package provided in `conda-forge` as that one is outdated and will not work.\n",
    "\n",
    "To use FRED, you additional need an API key which can be requested at [https://fred.stlouisfed.org/docs/api/api_key.html](https://fred.stlouisfed.org/docs/api/api_key.html). Unlike with some other APIs we discuss below, it is not possible to make a request without a key. Once you have a key, you can specify it in several ways:\n",
    "\n",
    "1. On your local machine, set the environment variable `FRED_API_KEY` to store the key and it will be picked up automatically. This only works if you run a Python environment locally.\n",
    "2. Store it in a file and pass the file name when creating a `Fred` instance:\n",
    "\n",
    "    ```\n",
    "    from fredapi import Fred\n",
    "    fred = Fred(api_key_file='path_to_file')\n",
    "    ```\n",
    "\n",
    "3. Pass the string containing the API key as a parameter:\n",
    "\n",
    "    ```\n",
    "    from fredapi import Fred\n",
    "    fred = Fred(api_key='INSERT API KEY HERE')\n",
    "    ```\n",
    "\n",
    "The following code assumes that the `FRED_API_KEY` variable has been set up and might not work in your environment if that is not the case."
   ]
  },
  {
   "cell_type": "markdown",
   "metadata": {},
   "source": [
    "*Examples:*"
   ]
  },
  {
   "cell_type": "code",
   "execution_count": null,
   "metadata": {},
   "outputs": [],
   "source": [
    "# Uncomment next line to install fredapi in your local or cloud-hosted Python environment (Binder or Google Colab)\n",
    "#! pip install --no-deps fredapi"
   ]
  },
  {
   "cell_type": "markdown",
   "metadata": {},
   "source": [
    "In order to retrieve any data, we first need to identify the series name. This is easiest done by searching for the data on [FRED](https://fred.stlouisfed.org/) using your browser and copying the series name, highlighted in red in the screenshot below.\n",
    "\n",
    "![FRED series name](FRED_series_name.png)\n",
    "\n",
    "For example, if we want to retrieve the [10-year real interest rate](https://fred.stlouisfed.org/series/REAINTRATREARAT10Y), the corresponding series name is `REAINTRATREARAT10Y`. The FRED web page contains additional useful information such as the time period for which the data is available, the data frequency (monthly, quarterly, annual) and whether it's seasonally adjusted."
   ]
  },
  {
   "cell_type": "markdown",
   "metadata": {},
   "source": [
    "To download and plot the 10-year real interest rate, we proceed as follows:"
   ]
  },
  {
   "cell_type": "code",
   "execution_count": 2,
   "metadata": {},
   "outputs": [],
   "source": [
    "from fredapi import Fred\n",
    "\n",
    "# Create instance assuming API key is stored as environment variable\n",
    "fred = Fred()\n",
    "\n",
    "# or specify API key directly\n",
    "# fred = Fred(api_key='INSERT API KEY HERE')\n",
    "\n",
    "# Download observations starting from the year 2000 onward\n",
    "series = fred.get_series('REAINTRATREARAT10Y', observation_start='2000-01-01')"
   ]
  },
  {
   "cell_type": "code",
   "execution_count": 3,
   "metadata": {},
   "outputs": [
    {
     "data": {
      "text/plain": [
       "2000-01-01    3.411051\n",
       "2000-02-01    3.513343\n",
       "2000-03-01    3.440347\n",
       "2000-04-01    3.202967\n",
       "2000-05-01    3.360531\n",
       "dtype: float64"
      ]
     },
     "execution_count": 3,
     "metadata": {},
     "output_type": "execute_result"
    }
   ],
   "source": [
    "# Print first 5 observations\n",
    "series.head(5)"
   ]
  },
  {
   "cell_type": "markdown",
   "metadata": {},
   "source": [
    "The data is returned as a pandas `Series` object with the corresponding dates set as the index."
   ]
  },
  {
   "cell_type": "code",
   "execution_count": 7,
   "metadata": {},
   "outputs": [
    {
     "name": "stdout",
     "output_type": "stream",
     "text": [
      "<class 'pandas.core.series.Series'>\n",
      "DatetimeIndex: 273 entries, 2000-01-01 to 2022-09-01\n",
      "Series name: None\n",
      "Non-Null Count  Dtype  \n",
      "--------------  -----  \n",
      "273 non-null    float64\n",
      "dtypes: float64(1)\n",
      "memory usage: 4.3 KB\n"
     ]
    }
   ],
   "source": [
    "series.info()"
   ]
  },
  {
   "cell_type": "code",
   "execution_count": 5,
   "metadata": {},
   "outputs": [
    {
     "data": {
      "text/plain": [
       "<AxesSubplot:ylabel='10-year real interest rate'>"
      ]
     },
     "execution_count": 5,
     "metadata": {},
     "output_type": "execute_result"
    },
    {
     "data": {
      "application/pdf": "[encoded data removed]",
      "image/png": "[encoded data removed]",
      "text/plain": [
       "<Figure size 400x300 with 1 Axes>"
      ]
     },
     "metadata": {},
     "output_type": "display_data"
    }
   ],
   "source": [
    "# Plot interest rate time series\n",
    "series.plot(ylabel='10-year real interest rate')"
   ]
  },
  {
   "cell_type": "markdown",
   "metadata": {},
   "source": [
    "Other popular time series available on FRED are the [CPI](https://fred.stlouisfed.org/series/CPIAUCSL), [real GDP](https://fred.stlouisfed.org/series/GDPC1) and the [unemployment rate](https://fred.stlouisfed.org/series/UNRATE)."
   ]
  },
  {
   "cell_type": "markdown",
   "metadata": {},
   "source": [
    "### Yahoo! Finance data\n",
    "\n",
    "[`yfinance`](https://pypi.org/project/yfinance/) is a user-written library to access data from [Yahoo! Finance](https://finance.yahoo.com/) using the public API (see the project's [GitHub repository](https://github.com/ranaroussi/yfinance) for detailed examples). This project is not affiliated with Yahoo! Finance and is intended for personal use only. Before using the library, it needs to be installed from PyPi as follows:\n",
    "```\n",
    "pip install yfinance \n",
    "```"
   ]
  },
  {
   "cell_type": "code",
   "execution_count": null,
   "metadata": {},
   "outputs": [],
   "source": [
    "# When running via Google Colab, uncomment and execute the following line\n",
    "#! pip install yfinance"
   ]
  },
  {
   "cell_type": "markdown",
   "metadata": {},
   "source": [
    "`yfinance` allows us to retrieve information for a single symbol via properties of the `Ticker` object, or for multiple ticker symbols at once.\n",
    "\n",
    "*Example: Retrieving data for a single symbol*\n",
    "\n",
    "We first use the API to retrieve data for a single symbol, in this case the [S&P 500 index](https://finance.yahoo.com/quote/%5EGSPC) which has the (somewhat unusual) ticker symbol `^GSPS`. One can easily find the desired ticker symbol by searching for some stock, index, currency or other asset on Yahoo! Finance."
   ]
  },
  {
   "cell_type": "code",
   "execution_count": 6,
   "metadata": {},
   "outputs": [],
   "source": [
    "import yfinance as yf\n",
    "\n",
    "# Symbol for S&P 500 index\n",
    "symbol = '^GSPC'\n",
    "\n",
    "# Create ticker object\n",
    "ticker = yf.Ticker(symbol)"
   ]
  },
  {
   "cell_type": "markdown",
   "metadata": {},
   "source": [
    "We can now use the attributes of the `ticker` object to get all sorts of information. For example, we can get some meta data from the `info` attribute as follows:"
   ]
  },
  {
   "cell_type": "code",
   "execution_count": 7,
   "metadata": {},
   "outputs": [
    {
     "name": "stdout",
     "output_type": "stream",
     "text": [
      "S&P 500 is an INDEX\n",
      "S&P 500 52-week range: 3636.87 - 4818.62\n"
     ]
    }
   ],
   "source": [
    "# Descriptive name and asset class\n",
    "shortname = ticker.info['shortName']\n",
    "quoteType = ticker.info['quoteType']\n",
    "\n",
    "# 52-week low and high\n",
    "low = ticker.info['fiftyTwoWeekLow']\n",
    "high = ticker.info['fiftyTwoWeekHigh']\n",
    "\n",
    "print(f'{shortname} is an {quoteType}')\n",
    "print(f'{shortname} 52-week range: {low} - {high}')\n",
    "\n",
    "# To see which keys are available, use the keys() method\n",
    "# ticker.info.keys()"
   ]
  },
  {
   "cell_type": "markdown",
   "metadata": {},
   "source": [
    "We use the `history` attribute to get detailed price data. Unless we want all available data, we should select the relevant period using the `start=...` and `end=...` arguments. "
   ]
  },
  {
   "cell_type": "code",
   "execution_count": 8,
   "metadata": {},
   "outputs": [
    {
     "data": {
      "text/html": [
       "<div>\n",
       "<style scoped>\n",
       "    .dataframe tbody tr th:only-of-type {\n",
       "        vertical-align: middle;\n",
       "    }\n",
       "\n",
       "    .dataframe tbody tr th {\n",
       "        vertical-align: top;\n",
       "    }\n",
       "\n",
       "    .dataframe thead th {\n",
       "        text-align: right;\n",
       "    }\n",
       "</style>\n",
       "<table border=\"1\" class=\"dataframe\">\n",
       "  <thead>\n",
       "    <tr style=\"text-align: right;\">\n",
       "      <th></th>\n",
       "      <th>Open</th>\n",
       "      <th>High</th>\n",
       "      <th>Low</th>\n",
       "      <th>Close</th>\n",
       "      <th>Volume</th>\n",
       "      <th>Dividends</th>\n",
       "      <th>Stock Splits</th>\n",
       "    </tr>\n",
       "    <tr>\n",
       "      <th>Date</th>\n",
       "      <th></th>\n",
       "      <th></th>\n",
       "      <th></th>\n",
       "      <th></th>\n",
       "      <th></th>\n",
       "      <th></th>\n",
       "      <th></th>\n",
       "    </tr>\n",
       "  </thead>\n",
       "  <tbody>\n",
       "    <tr>\n",
       "      <th>2022-01-03</th>\n",
       "      <td>4778.140137</td>\n",
       "      <td>4796.640137</td>\n",
       "      <td>4758.169922</td>\n",
       "      <td>4796.560059</td>\n",
       "      <td>2775190000</td>\n",
       "      <td>0</td>\n",
       "      <td>0</td>\n",
       "    </tr>\n",
       "    <tr>\n",
       "      <th>2022-01-04</th>\n",
       "      <td>4804.509766</td>\n",
       "      <td>4818.620117</td>\n",
       "      <td>4774.270020</td>\n",
       "      <td>4793.540039</td>\n",
       "      <td>3641050000</td>\n",
       "      <td>0</td>\n",
       "      <td>0</td>\n",
       "    </tr>\n",
       "    <tr>\n",
       "      <th>2022-01-05</th>\n",
       "      <td>4787.990234</td>\n",
       "      <td>4797.700195</td>\n",
       "      <td>4699.439941</td>\n",
       "      <td>4700.580078</td>\n",
       "      <td>3733540000</td>\n",
       "      <td>0</td>\n",
       "      <td>0</td>\n",
       "    </tr>\n",
       "    <tr>\n",
       "      <th>2022-01-06</th>\n",
       "      <td>4693.390137</td>\n",
       "      <td>4725.009766</td>\n",
       "      <td>4671.259766</td>\n",
       "      <td>4696.049805</td>\n",
       "      <td>3371250000</td>\n",
       "      <td>0</td>\n",
       "      <td>0</td>\n",
       "    </tr>\n",
       "    <tr>\n",
       "      <th>2022-01-07</th>\n",
       "      <td>4697.660156</td>\n",
       "      <td>4707.950195</td>\n",
       "      <td>4662.740234</td>\n",
       "      <td>4677.029785</td>\n",
       "      <td>3279870000</td>\n",
       "      <td>0</td>\n",
       "      <td>0</td>\n",
       "    </tr>\n",
       "  </tbody>\n",
       "</table>\n",
       "</div>"
      ],
      "text/plain": [
       "                   Open         High          Low        Close      Volume  \\\n",
       "Date                                                                         \n",
       "2022-01-03  4778.140137  4796.640137  4758.169922  4796.560059  2775190000   \n",
       "2022-01-04  4804.509766  4818.620117  4774.270020  4793.540039  3641050000   \n",
       "2022-01-05  4787.990234  4797.700195  4699.439941  4700.580078  3733540000   \n",
       "2022-01-06  4693.390137  4725.009766  4671.259766  4696.049805  3371250000   \n",
       "2022-01-07  4697.660156  4707.950195  4662.740234  4677.029785  3279870000   \n",
       "\n",
       "            Dividends  Stock Splits  \n",
       "Date                                 \n",
       "2022-01-03          0             0  \n",
       "2022-01-04          0             0  \n",
       "2022-01-05          0             0  \n",
       "2022-01-06          0             0  \n",
       "2022-01-07          0             0  "
      ]
     },
     "execution_count": 8,
     "metadata": {},
     "output_type": "execute_result"
    }
   ],
   "source": [
    "# Retrieve daily index values data for this year\n",
    "daily = ticker.history(start='2022-01-01', end='2022-03-31')\n",
    "\n",
    "# Print first 5 rows\n",
    "daily.head()"
   ]
  },
  {
   "cell_type": "markdown",
   "metadata": {},
   "source": [
    "We can then use this data to plot the daily closing price and trading volume."
   ]
  },
  {
   "cell_type": "code",
   "execution_count": 9,
   "metadata": {},
   "outputs": [
    {
     "data": {
      "text/plain": [
       "(0.0, 10000000000.0)"
      ]
     },
     "execution_count": 9,
     "metadata": {},
     "output_type": "execute_result"
    },
    {
     "data": {
      "application/pdf": "[encoded data removed]",
      "image/png": "[encoded data removed]",
      "text/plain": [
       "<Figure size 700x400 with 2 Axes>"
      ]
     },
     "metadata": {},
     "output_type": "display_data"
    }
   ],
   "source": [
    "import matplotlib.pyplot as plt\n",
    "\n",
    "fix, ax = plt.subplots(1, 1, figsize=(7,4))\n",
    "\n",
    "# Plot closing price\n",
    "ax.plot(daily.index, daily['Close'], color='darkblue', marker='o', ms=3, lw=1)\n",
    "\n",
    "# Create secondary y-axis for trading volume\n",
    "ax2 = ax.twinx()\n",
    "\n",
    "# Plot trading volume as bar chart\n",
    "ax2.bar(daily.index, daily['Volume'], color='#666666', alpha=0.4, zorder=-1, lw=0)\n",
    "ax2.set_ylim((0.0, 1.0e10))"
   ]
  },
  {
   "cell_type": "markdown",
   "metadata": {},
   "source": [
    "*Example: Retrieving data for multiple symbols*\n",
    "\n",
    "We can download trading data for multiple symbols at once using the `download()` function. Unlike the `Ticker` class, this immediately returns a `DataFrame` containing data similar to the `history` method we called previosuly, but now the column index contains an additional level for each ticker symbol. For example, to get the trading data for Amazon and Microsoft for the last 3 months, we proceed as follows:"
   ]
  },
  {
   "cell_type": "code",
   "execution_count": 10,
   "metadata": {},
   "outputs": [
    {
     "name": "stdout",
     "output_type": "stream",
     "text": [
      "[*********************100%***********************]  2 of 2 completed\n"
     ]
    },
    {
     "data": {
      "text/html": [
       "<div>\n",
       "<style scoped>\n",
       "    .dataframe tbody tr th:only-of-type {\n",
       "        vertical-align: middle;\n",
       "    }\n",
       "\n",
       "    .dataframe tbody tr th {\n",
       "        vertical-align: top;\n",
       "    }\n",
       "\n",
       "    .dataframe thead tr th {\n",
       "        text-align: left;\n",
       "    }\n",
       "\n",
       "    .dataframe thead tr:last-of-type th {\n",
       "        text-align: right;\n",
       "    }\n",
       "</style>\n",
       "<table border=\"1\" class=\"dataframe\">\n",
       "  <thead>\n",
       "    <tr>\n",
       "      <th></th>\n",
       "      <th colspan=\"2\" halign=\"left\">Adj Close</th>\n",
       "      <th colspan=\"2\" halign=\"left\">Close</th>\n",
       "      <th colspan=\"2\" halign=\"left\">High</th>\n",
       "      <th colspan=\"2\" halign=\"left\">Low</th>\n",
       "      <th colspan=\"2\" halign=\"left\">Open</th>\n",
       "      <th colspan=\"2\" halign=\"left\">Volume</th>\n",
       "    </tr>\n",
       "    <tr>\n",
       "      <th></th>\n",
       "      <th>AMZN</th>\n",
       "      <th>MSFT</th>\n",
       "      <th>AMZN</th>\n",
       "      <th>MSFT</th>\n",
       "      <th>AMZN</th>\n",
       "      <th>MSFT</th>\n",
       "      <th>AMZN</th>\n",
       "      <th>MSFT</th>\n",
       "      <th>AMZN</th>\n",
       "      <th>MSFT</th>\n",
       "      <th>AMZN</th>\n",
       "      <th>MSFT</th>\n",
       "    </tr>\n",
       "    <tr>\n",
       "      <th>Date</th>\n",
       "      <th></th>\n",
       "      <th></th>\n",
       "      <th></th>\n",
       "      <th></th>\n",
       "      <th></th>\n",
       "      <th></th>\n",
       "      <th></th>\n",
       "      <th></th>\n",
       "      <th></th>\n",
       "      <th></th>\n",
       "      <th></th>\n",
       "      <th></th>\n",
       "    </tr>\n",
       "  </thead>\n",
       "  <tbody>\n",
       "    <tr>\n",
       "      <th>2022-06-27</th>\n",
       "      <td>113.220001</td>\n",
       "      <td>264.328949</td>\n",
       "      <td>113.220001</td>\n",
       "      <td>264.890015</td>\n",
       "      <td>117.980003</td>\n",
       "      <td>268.299988</td>\n",
       "      <td>112.699997</td>\n",
       "      <td>263.279999</td>\n",
       "      <td>117.089996</td>\n",
       "      <td>268.209991</td>\n",
       "      <td>62133200</td>\n",
       "      <td>24615100</td>\n",
       "    </tr>\n",
       "    <tr>\n",
       "      <th>2022-06-28</th>\n",
       "      <td>107.400002</td>\n",
       "      <td>255.936752</td>\n",
       "      <td>107.400002</td>\n",
       "      <td>256.480011</td>\n",
       "      <td>114.849998</td>\n",
       "      <td>266.910004</td>\n",
       "      <td>107.040001</td>\n",
       "      <td>256.320007</td>\n",
       "      <td>113.500000</td>\n",
       "      <td>263.980011</td>\n",
       "      <td>74942900</td>\n",
       "      <td>27295500</td>\n",
       "    </tr>\n",
       "    <tr>\n",
       "      <th>2022-06-29</th>\n",
       "      <td>108.919998</td>\n",
       "      <td>259.708740</td>\n",
       "      <td>108.919998</td>\n",
       "      <td>260.260010</td>\n",
       "      <td>110.989998</td>\n",
       "      <td>261.970001</td>\n",
       "      <td>106.910004</td>\n",
       "      <td>255.759995</td>\n",
       "      <td>107.379997</td>\n",
       "      <td>257.589996</td>\n",
       "      <td>66375300</td>\n",
       "      <td>20069800</td>\n",
       "    </tr>\n",
       "    <tr>\n",
       "      <th>2022-06-30</th>\n",
       "      <td>106.209999</td>\n",
       "      <td>256.285980</td>\n",
       "      <td>106.209999</td>\n",
       "      <td>256.829987</td>\n",
       "      <td>108.180000</td>\n",
       "      <td>259.529999</td>\n",
       "      <td>102.519997</td>\n",
       "      <td>252.899994</td>\n",
       "      <td>108.110001</td>\n",
       "      <td>257.049988</td>\n",
       "      <td>97679400</td>\n",
       "      <td>31730900</td>\n",
       "    </tr>\n",
       "    <tr>\n",
       "      <th>2022-07-01</th>\n",
       "      <td>109.559998</td>\n",
       "      <td>259.030182</td>\n",
       "      <td>109.559998</td>\n",
       "      <td>259.579987</td>\n",
       "      <td>109.750000</td>\n",
       "      <td>259.769989</td>\n",
       "      <td>105.849998</td>\n",
       "      <td>254.610001</td>\n",
       "      <td>106.290001</td>\n",
       "      <td>256.390015</td>\n",
       "      <td>73021200</td>\n",
       "      <td>22837700</td>\n",
       "    </tr>\n",
       "  </tbody>\n",
       "</table>\n",
       "</div>"
      ],
      "text/plain": [
       "             Adj Close                   Close                    High  \\\n",
       "                  AMZN        MSFT        AMZN        MSFT        AMZN   \n",
       "Date                                                                     \n",
       "2022-06-27  113.220001  264.328949  113.220001  264.890015  117.980003   \n",
       "2022-06-28  107.400002  255.936752  107.400002  256.480011  114.849998   \n",
       "2022-06-29  108.919998  259.708740  108.919998  260.260010  110.989998   \n",
       "2022-06-30  106.209999  256.285980  106.209999  256.829987  108.180000   \n",
       "2022-07-01  109.559998  259.030182  109.559998  259.579987  109.750000   \n",
       "\n",
       "                               Low                    Open              \\\n",
       "                  MSFT        AMZN        MSFT        AMZN        MSFT   \n",
       "Date                                                                     \n",
       "2022-06-27  268.299988  112.699997  263.279999  117.089996  268.209991   \n",
       "2022-06-28  266.910004  107.040001  256.320007  113.500000  263.980011   \n",
       "2022-06-29  261.970001  106.910004  255.759995  107.379997  257.589996   \n",
       "2022-06-30  259.529999  102.519997  252.899994  108.110001  257.049988   \n",
       "2022-07-01  259.769989  105.849998  254.610001  106.290001  256.390015   \n",
       "\n",
       "              Volume            \n",
       "                AMZN      MSFT  \n",
       "Date                            \n",
       "2022-06-27  62133200  24615100  \n",
       "2022-06-28  74942900  27295500  \n",
       "2022-06-29  66375300  20069800  \n",
       "2022-06-30  97679400  31730900  \n",
       "2022-07-01  73021200  22837700  "
      ]
     },
     "execution_count": 10,
     "metadata": {},
     "output_type": "execute_result"
    }
   ],
   "source": [
    "import yfinance as yf\n",
    "\n",
    "# Get data for Amazon (AMZN) and Microsoft (MSFT) for the last three months.\n",
    "# valid intervals for the 'period' argument are: \n",
    "#   1m,2m,5m,15m,30m,60m,90m,1h,1d,5d,1wk,1mo,3mo\n",
    "data = yf.download(\"AMZN MSFT\", period='3mo')\n",
    "data.head()"
   ]
  },
  {
   "cell_type": "markdown",
   "metadata": {},
   "source": [
    "To extract data for a particular symbol, we have to take into account the hierarchical column index:"
   ]
  },
  {
   "cell_type": "code",
   "execution_count": 11,
   "metadata": {},
   "outputs": [
    {
     "data": {
      "text/plain": [
       "Date\n",
       "2022-06-27    113.220001\n",
       "2022-06-28    107.400002\n",
       "2022-06-29    108.919998\n",
       "2022-06-30    106.209999\n",
       "2022-07-01    109.559998\n",
       "Name: (Close, AMZN), dtype: float64"
      ]
     },
     "execution_count": 11,
     "metadata": {},
     "output_type": "execute_result"
    }
   ],
   "source": [
    "# Use hierarchical indexing to get data for Amazon\n",
    "data[('Close', 'AMZN')].head()"
   ]
  },
  {
   "cell_type": "code",
   "execution_count": 12,
   "metadata": {},
   "outputs": [
    {
     "data": {
      "text/plain": [
       "<AxesSubplot:xlabel='Date'>"
      ]
     },
     "execution_count": 12,
     "metadata": {},
     "output_type": "execute_result"
    },
    {
     "data": {
      "application/pdf": "[encoded data removed]",
      "image/png": "[encoded data removed]",
      "text/plain": [
       "<Figure size 400x300 with 1 Axes>"
      ]
     },
     "metadata": {},
     "output_type": "display_data"
    }
   ],
   "source": [
    "# Plot daily returns for both stocks\n",
    "returns = data['Close'].diff() / data['Close']\n",
    "returns.plot(y=['AMZN', 'MSFT'])"
   ]
  },
  {
   "cell_type": "markdown",
   "metadata": {},
   "source": [
    "### NASDAQ data API (formerly quandl)\n",
    "\n",
    "The NASDAQ stock exchange provides an open-source Python library hosted on [GitHub](https://github.com/Nasdaq/data-link-python) \n",
    "to access various types of financial data (not only those traded on NASDAQ), see [here](https://data.nasdaq.com/) for details. The detailed API documentation can be found at \n",
    "[here](https://docs.data.nasdaq.com/docs). This data API was formerly known as [quandl](https://github.com/quandl/quandl-python) which is no longer actively maintained but might still work.\n",
    "\n",
    "Before using this service, you need to make sure that the Python package is installed. Depending on how you launched this notebook, you may need to execute the following code to install `nasdaq-data-link`:\n",
    "```\n",
    "pip install nasdaq-data-link\n",
    "```\n",
    "\n",
    "Various types of data are available via this service and can be found using the online search at [https://data.nasdaq.com/search](https://data.nasdaq.com/search).\n",
    "\n",
    "- Data come from various data provides. To select a data set, you usually have to specify a string of the form `'PROVIDER/SERIES'` where `'PROVIDER'` is the name of the provider (e.g., `'FRED'` or `'BOE'`) and `'SERIES'` is the name of the time series.\n",
    "- Most of these data require a subscription or at least a free NASDAQ account. Once you have an account, you will need to get an API key and specify it when retrieving data. See the above links for details. \n",
    "- Some commercial data series include sample data that can be used without a subscription but requires a free NASDAQ account.\n",
    "- Some data series are freely available without a subscription or an account. These are often taken from other freely available data sets such as [FRED](https://fred.stlouisfed.org/) or [blockchain.com](https://www.blockchain.com/). We'll be using these to demonstrate how the API works.\n",
    "\n",
    "  _Important:_ Even for freely available data, NASDAQ imposes a cap of 50 calls per day. You need to register to get around this.\n",
    "\n",
    "The data is returned as pandas `DataFrame` object (or alternatively as an NumPy array)."
   ]
  },
  {
   "cell_type": "code",
   "execution_count": 58,
   "metadata": {},
   "outputs": [],
   "source": [
    "# When running via Google Colab, uncomment and execute the following line\n",
    "#! pip install nasdaq-data-link"
   ]
  },
  {
   "cell_type": "markdown",
   "metadata": {},
   "source": [
    "*Example: Data from the Bank of England*\n",
    "\n",
    "Let's start by retrieving some macroeconomic times series from the Bank of England (BOE). It's not always straightforward to find the name of the time series one is looking for, but you can see some of the available time series [here](https://data.nasdaq.com/data/BOE-bank-of-england-official-statistics/documentation). The name will vary depending on the type of data (interest rate, exchange rate), the frequency and how it is aggregated (daily, last day of the month, monthly average) and a currency pair, if applicable."
   ]
  },
  {
   "cell_type": "code",
   "execution_count": 59,
   "metadata": {},
   "outputs": [
    {
     "data": {
      "text/plain": [
       "<AxesSubplot:xlabel='Date', ylabel='5 Year Real Implied Forward (Monthly)'>"
      ]
     },
     "execution_count": 59,
     "metadata": {},
     "output_type": "execute_result"
    },
    {
     "data": {
      "application/pdf": "[encoded data removed]",
      "image/png": "[encoded data removed]",
      "text/plain": [
       "<Figure size 400x300 with 1 Axes>"
      ]
     },
     "metadata": {},
     "output_type": "display_data"
    }
   ],
   "source": [
    "# Retrieve 5-year real implied yield on UK government bonds\n",
    "import nasdaqdatalink as ndl\n",
    "df = ndl.get('BOE/IUMASRIF')\n",
    "\n",
    "# Rename column which is always called 'Value'\n",
    "df = df.rename(columns={'Value': 'Yield'})\n",
    "\n",
    "# Plot time series \n",
    "df.plot(ylabel='5 Year Real Implied Forward (Monthly)')"
   ]
  },
  {
   "cell_type": "markdown",
   "metadata": {},
   "source": [
    "As another example, we retrieve the US dollar / Sterling exchange rate at a monthly frequency (this is determined by the name of the time series used where `ML` requests the monthly series, using the last observation for each month). Note that we can pass additional arguments, for example restricting the time period we want to retrieve using `start_date` and `end_date`."
   ]
  },
  {
   "cell_type": "code",
   "execution_count": 60,
   "metadata": {},
   "outputs": [
    {
     "data": {
      "text/plain": [
       "<AxesSubplot:xlabel='Date', ylabel='USD/GBP exchange rate'>"
      ]
     },
     "execution_count": 60,
     "metadata": {},
     "output_type": "execute_result"
    },
    {
     "data": {
      "application/pdf": "[encoded data removed]",
      "image/png": "[encoded data removed]",
      "text/plain": [
       "<Figure size 400x300 with 1 Axes>"
      ]
     },
     "metadata": {},
     "output_type": "display_data"
    }
   ],
   "source": [
    "# Get USD / GDP exchange rate using the last observation for each month.\n",
    "df = ndl.get('BOE/XUMLUSS', start_date='2000-01-31')\n",
    "df = df.rename(columns={'Value': 'USD_GBP'})\n",
    "\n",
    "# Plot USD/GBP time series\n",
    "df.plot(ylabel='USD/GBP exchange rate')"
   ]
  },
  {
   "cell_type": "markdown",
   "metadata": {},
   "source": [
    "*Example: Data from blockchain.com*\n",
    "\n",
    "The NASDAQ data link also supports retrieving data on cryptocurrencies. For example, there is a freely accessible time series for the price of Bitcoin in USD."
   ]
  },
  {
   "cell_type": "code",
   "execution_count": 61,
   "metadata": {},
   "outputs": [
    {
     "data": {
      "text/plain": [
       "<AxesSubplot:xlabel='Date', ylabel='BTC price in USD'>"
      ]
     },
     "execution_count": 61,
     "metadata": {},
     "output_type": "execute_result"
    },
    {
     "data": {
      "application/pdf": "[encoded data removed]",
      "image/png": "[encoded data removed]",
      "text/plain": [
       "<Figure size 400x300 with 1 Axes>"
      ]
     },
     "metadata": {},
     "output_type": "display_data"
    }
   ],
   "source": [
    "import nasdaqdatalink as ndl\n",
    "\n",
    "# Retrieve price of BTC in USD for 2022\n",
    "df = ndl.get('BCHAIN/MKPRU', start_date='2022-01-31')\n",
    "\n",
    "# Change column name to something more descriptive\n",
    "df = df.rename(columns={'Value': 'BTC_USD'})\n",
    "\n",
    "# Plot time series\n",
    "df.plot(ylabel='BTC price in USD')"
   ]
  },
  {
   "cell_type": "markdown",
   "metadata": {},
   "source": [
    "*Example: Historical stock data*\n",
    "\n",
    "As a final example, we obtain the trading data for the stock of Apple (ticker symbol `AAPL`) for the year 2001. Such data is often not available without a subscription or a login, but it works if the requested time period is sufficiently far in the past!"
   ]
  },
  {
   "cell_type": "code",
   "execution_count": 62,
   "metadata": {},
   "outputs": [],
   "source": [
    "# Retrieve stock data for Apple (ticker symbol AAPL)\n",
    "df = ndl.get(\"WIKI/AAPL\", start_date='2000-01-01', end_date='2000-12-31')"
   ]
  },
  {
   "cell_type": "markdown",
   "metadata": {},
   "source": [
    "Unlike in the previous examples, this data contains not only a single value, but a whole range of variables including the opening and closing price, the trading volume, etc.:"
   ]
  },
  {
   "cell_type": "code",
   "execution_count": 63,
   "metadata": {},
   "outputs": [
    {
     "name": "stdout",
     "output_type": "stream",
     "text": [
      "<class 'pandas.core.frame.DataFrame'>\n",
      "DatetimeIndex: 252 entries, 2000-01-03 to 2000-12-29\n",
      "Data columns (total 12 columns):\n",
      " #   Column       Non-Null Count  Dtype  \n",
      "---  ------       --------------  -----  \n",
      " 0   Open         252 non-null    float64\n",
      " 1   High         252 non-null    float64\n",
      " 2   Low          252 non-null    float64\n",
      " 3   Close        252 non-null    float64\n",
      " 4   Volume       252 non-null    float64\n",
      " 5   Ex-Dividend  252 non-null    float64\n",
      " 6   Split Ratio  252 non-null    float64\n",
      " 7   Adj. Open    252 non-null    float64\n",
      " 8   Adj. High    252 non-null    float64\n",
      " 9   Adj. Low     252 non-null    float64\n",
      " 10  Adj. Close   252 non-null    float64\n",
      " 11  Adj. Volume  252 non-null    float64\n",
      "dtypes: float64(12)\n",
      "memory usage: 25.6 KB\n"
     ]
    }
   ],
   "source": [
    "df.info()"
   ]
  },
  {
   "cell_type": "markdown",
   "metadata": {},
   "source": [
    "To plot a specific column, we can use the `y=...` argument to `DataFrame.plot()`."
   ]
  },
  {
   "cell_type": "code",
   "execution_count": 64,
   "metadata": {},
   "outputs": [
    {
     "data": {
      "text/plain": [
       "<AxesSubplot:xlabel='Date', ylabel='Stock prive of AAPL'>"
      ]
     },
     "execution_count": 64,
     "metadata": {},
     "output_type": "execute_result"
    },
    {
     "data": {
      "application/pdf": "[encoded data removed]",
      "image/png": "[encoded data removed]",
      "text/plain": [
       "<Figure size 400x300 with 1 Axes>"
      ]
     },
     "metadata": {},
     "output_type": "display_data"
    }
   ],
   "source": [
    "df.plot(y='Close', ylabel='Stock prive of AAPL')"
   ]
  },
  {
   "cell_type": "markdown",
   "metadata": {},
   "source": [
    "### Pandas Datareader\n",
    "\n",
    "[`pandas-datareader`](https://github.com/pydata/pandas-datareader) is a Python library that fetches online data from multiple sources and returns them as pandas `DataFrame` objects. Despite its name, this library is not included in `pandas` and may need to be installed separately, e.g., by running\n",
    "```\n",
    "pip install pandas-datareader\n",
    "```\n",
    "\n",
    "The aim is to provide a uniform API to access data from multiple sources, including those we covered earlier.\n",
    "See the official [documentation](https://pandas-datareader.readthedocs.io/en/latest/) for supported data sources and how to access them."
   ]
  },
  {
   "cell_type": "code",
   "execution_count": 1,
   "metadata": {},
   "outputs": [],
   "source": [
    "# Uncomment and execute the following line if running in Google Colab\n",
    "# ! pip install pandas-datareader"
   ]
  },
  {
   "cell_type": "markdown",
   "metadata": {},
   "source": [
    "*Example: Downloading data from FRED*\n",
    "\n",
    "As a first illustration, we fetch macroeconomic data from [FRED](https://fred.stlouisfed.org/), but instead of `fredapi` we use `pandas-datareader` and set the data source to `'fred'`. No API key is required for this particular data source, but this is not true for all data sources supported by `pandas-datareader`.\n",
    "\n",
    "Note that we find the name of the series we want to download in the same way as previously discussed in the section on FRED."
   ]
  },
  {
   "cell_type": "code",
   "execution_count": 7,
   "metadata": {},
   "outputs": [
    {
     "data": {
      "text/html": [
       "<div>\n",
       "<style scoped>\n",
       "    .dataframe tbody tr th:only-of-type {\n",
       "        vertical-align: middle;\n",
       "    }\n",
       "\n",
       "    .dataframe tbody tr th {\n",
       "        vertical-align: top;\n",
       "    }\n",
       "\n",
       "    .dataframe thead th {\n",
       "        text-align: right;\n",
       "    }\n",
       "</style>\n",
       "<table border=\"1\" class=\"dataframe\">\n",
       "  <thead>\n",
       "    <tr style=\"text-align: right;\">\n",
       "      <th></th>\n",
       "      <th>GDP</th>\n",
       "    </tr>\n",
       "    <tr>\n",
       "      <th>DATE</th>\n",
       "      <th></th>\n",
       "    </tr>\n",
       "  </thead>\n",
       "  <tbody>\n",
       "    <tr>\n",
       "      <th>2000-01-01</th>\n",
       "      <td>10002.179</td>\n",
       "    </tr>\n",
       "    <tr>\n",
       "      <th>2000-04-01</th>\n",
       "      <td>10247.720</td>\n",
       "    </tr>\n",
       "    <tr>\n",
       "      <th>2000-07-01</th>\n",
       "      <td>10318.165</td>\n",
       "    </tr>\n",
       "  </tbody>\n",
       "</table>\n",
       "</div>"
      ],
      "text/plain": [
       "                  GDP\n",
       "DATE                 \n",
       "2000-01-01  10002.179\n",
       "2000-04-01  10247.720\n",
       "2000-07-01  10318.165"
      ]
     },
     "execution_count": 7,
     "metadata": {},
     "output_type": "execute_result"
    }
   ],
   "source": [
    "# The convention is to import this library as web\n",
    "import pandas_datareader.data as web\n",
    "\n",
    "# define start and end dates\n",
    "start_date = \"2000-01-01\"\n",
    "end_date = \"2021-12-31\"\n",
    "\n",
    "# Specify series name as first and 'fred' data source as second argument\n",
    "gdp = web.DataReader('GDP', 'fred', start_date, end_date)\n",
    "\n",
    "# Show first 3 observations\n",
    "gdp.head(3)"
   ]
  },
  {
   "cell_type": "markdown",
   "metadata": {},
   "source": [
    "We can also fetch multiple series at the same time, for example the CPI and the unemployment rate."
   ]
  },
  {
   "cell_type": "code",
   "execution_count": 10,
   "metadata": {},
   "outputs": [
    {
     "data": {
      "text/html": [
       "<div>\n",
       "<style scoped>\n",
       "    .dataframe tbody tr th:only-of-type {\n",
       "        vertical-align: middle;\n",
       "    }\n",
       "\n",
       "    .dataframe tbody tr th {\n",
       "        vertical-align: top;\n",
       "    }\n",
       "\n",
       "    .dataframe thead th {\n",
       "        text-align: right;\n",
       "    }\n",
       "</style>\n",
       "<table border=\"1\" class=\"dataframe\">\n",
       "  <thead>\n",
       "    <tr style=\"text-align: right;\">\n",
       "      <th></th>\n",
       "      <th>CPIAUCSL</th>\n",
       "      <th>UNRATE</th>\n",
       "    </tr>\n",
       "    <tr>\n",
       "      <th>DATE</th>\n",
       "      <th></th>\n",
       "      <th></th>\n",
       "    </tr>\n",
       "  </thead>\n",
       "  <tbody>\n",
       "    <tr>\n",
       "      <th>2020-01-01</th>\n",
       "      <td>258.682</td>\n",
       "      <td>3.5</td>\n",
       "    </tr>\n",
       "    <tr>\n",
       "      <th>2020-02-01</th>\n",
       "      <td>259.007</td>\n",
       "      <td>3.5</td>\n",
       "    </tr>\n",
       "    <tr>\n",
       "      <th>2020-03-01</th>\n",
       "      <td>258.165</td>\n",
       "      <td>4.4</td>\n",
       "    </tr>\n",
       "  </tbody>\n",
       "</table>\n",
       "</div>"
      ],
      "text/plain": [
       "            CPIAUCSL  UNRATE\n",
       "DATE                        \n",
       "2020-01-01   258.682     3.5\n",
       "2020-02-01   259.007     3.5\n",
       "2020-03-01   258.165     4.4"
      ]
     },
     "execution_count": 10,
     "metadata": {},
     "output_type": "execute_result"
    }
   ],
   "source": [
    "data = web.DataReader(['CPIAUCSL', 'UNRATE'], data_source='fred', start='2020-01-01')\n",
    "data.head(3)"
   ]
  },
  {
   "cell_type": "markdown",
   "metadata": {},
   "source": [
    "*Example: Download data from Yahoo! Finance*\n",
    "\n",
    "As another example, we can use `pandas-datareader` as a client for Yahoo! Finance by specifying `'yahoo'` as the data source. As with `yfinance` we discussed earlier, we use the search function on \n",
    "[Yahoo! Finance](https://finance.yahoo.com)\n",
    "to identify the ticker symbol for the data series we are interested in.\n",
    "\n",
    "The example below also illustrates that we can optionally use instances of `datetime` to define the sample period instead of plain strings."
   ]
  },
  {
   "cell_type": "code",
   "execution_count": 15,
   "metadata": {},
   "outputs": [
    {
     "data": {
      "text/html": [
       "<div>\n",
       "<style scoped>\n",
       "    .dataframe tbody tr th:only-of-type {\n",
       "        vertical-align: middle;\n",
       "    }\n",
       "\n",
       "    .dataframe tbody tr th {\n",
       "        vertical-align: top;\n",
       "    }\n",
       "\n",
       "    .dataframe thead th {\n",
       "        text-align: right;\n",
       "    }\n",
       "</style>\n",
       "<table border=\"1\" class=\"dataframe\">\n",
       "  <thead>\n",
       "    <tr style=\"text-align: right;\">\n",
       "      <th></th>\n",
       "      <th>High</th>\n",
       "      <th>Low</th>\n",
       "      <th>Open</th>\n",
       "      <th>Close</th>\n",
       "      <th>Volume</th>\n",
       "      <th>Adj Close</th>\n",
       "    </tr>\n",
       "    <tr>\n",
       "      <th>Date</th>\n",
       "      <th></th>\n",
       "      <th></th>\n",
       "      <th></th>\n",
       "      <th></th>\n",
       "      <th></th>\n",
       "      <th></th>\n",
       "    </tr>\n",
       "  </thead>\n",
       "  <tbody>\n",
       "    <tr>\n",
       "      <th>2011-01-03</th>\n",
       "      <td>1.800000</td>\n",
       "      <td>1.726667</td>\n",
       "      <td>1.789333</td>\n",
       "      <td>1.774667</td>\n",
       "      <td>19245000.0</td>\n",
       "      <td>1.774667</td>\n",
       "    </tr>\n",
       "    <tr>\n",
       "      <th>2011-01-04</th>\n",
       "      <td>1.796667</td>\n",
       "      <td>1.734667</td>\n",
       "      <td>1.777333</td>\n",
       "      <td>1.778000</td>\n",
       "      <td>17811000.0</td>\n",
       "      <td>1.778000</td>\n",
       "    </tr>\n",
       "    <tr>\n",
       "      <th>2011-01-05</th>\n",
       "      <td>1.793333</td>\n",
       "      <td>1.746000</td>\n",
       "      <td>1.765333</td>\n",
       "      <td>1.788667</td>\n",
       "      <td>21700500.0</td>\n",
       "      <td>1.788667</td>\n",
       "    </tr>\n",
       "  </tbody>\n",
       "</table>\n",
       "</div>"
      ],
      "text/plain": [
       "                High       Low      Open     Close      Volume  Adj Close\n",
       "Date                                                                     \n",
       "2011-01-03  1.800000  1.726667  1.789333  1.774667  19245000.0   1.774667\n",
       "2011-01-04  1.796667  1.734667  1.777333  1.778000  17811000.0   1.778000\n",
       "2011-01-05  1.793333  1.746000  1.765333  1.788667  21700500.0   1.788667"
      ]
     },
     "execution_count": 15,
     "metadata": {},
     "output_type": "execute_result"
    }
   ],
   "source": [
    "import pandas_datareader.data as web\n",
    "import datetime\n",
    "\n",
    "# Instead of strings, we can define period in terms of datetime objects:\n",
    "# Sample period: 2011-01-1 to 2021-12-31\n",
    "start = datetime.datetime(2011, 1, 1)\n",
    "end = datetime.datetime(2021, 12, 31)\n",
    "\n",
    "# Fetch stock price data for Tesla (ticker symbol TSLA)\n",
    "data = web.DataReader('TSLA', data_source='yahoo', start=start, end=end)\n",
    "\n",
    "data.head(3)\n"
   ]
  },
  {
   "cell_type": "markdown",
   "metadata": {
    "collapsed": false,
    "pycharm": {
     "name": "#%% md\n"
    }
   },
   "source": [
    "***\n",
    "## Pickling\n",
    "\n",
    "A wholly different approach to data I/O is taken by Python's\n",
    "built-in [`pickle`](https://docs.python.org/3/library/pickle.html)\n",
    "module.\n",
    "Almost any Python object can be\n",
    "dumped into a binary file and read back using `pickle.dump()`\n",
    "and `pickle.load()`.\n",
    "\n",
    "The big advantage over other methods\n",
    "is that hierarchies of objects are automatically supported.\n",
    "For example, we can pickle a list containing a `tuple`, a string and a NumPy array:"
   ]
  },
  {
   "cell_type": "code",
   "execution_count": 65,
   "metadata": {
    "collapsed": false,
    "pycharm": {
     "name": "#%%\n"
    }
   },
   "outputs": [
    {
     "name": "stdout",
     "output_type": "stream",
     "text": [
      "Pickled data written to /tmp/tmpjwzpy3a6/data.bin\n"
     ]
    }
   ],
   "source": [
    "import numpy as np\n",
    "import pickle\n",
    "import tempfile\n",
    "import os.path\n",
    "\n",
    "# Generate 2d array of integers\n",
    "arr = np.arange(10).reshape((2, -1))\n",
    "tpl = (1, 2, 3)\n",
    "text = 'Pickle is very powerful!'\n",
    "\n",
    "# data: several nested containers and strings\n",
    "data = [tpl, text, arr]\n",
    "\n",
    "# create temporary directory\n",
    "d = tempfile.TemporaryDirectory()\n",
    "# Binary destination file\n",
    "file = os.path.join(d.name, 'data.bin')\n",
    "\n",
    "# print destination file path\n",
    "print(f'Pickled data written to {file}')\n",
    "\n",
    "with open(file, 'wb') as f:\n",
    "    pickle.dump(data, f)"
   ]
  },
  {
   "cell_type": "markdown",
   "metadata": {
    "collapsed": false,
    "pycharm": {
     "name": "#%% md\n"
    }
   },
   "source": [
    "We can then read back the data as follows:"
   ]
  },
  {
   "cell_type": "code",
   "execution_count": 66,
   "metadata": {
    "collapsed": false,
    "pycharm": {
     "name": "#%%\n"
    }
   },
   "outputs": [
    {
     "data": {
      "text/plain": [
       "array([[0, 1, 2, 3, 4],\n",
       "       [5, 6, 7, 8, 9]])"
      ]
     },
     "execution_count": 66,
     "metadata": {},
     "output_type": "execute_result"
    }
   ],
   "source": [
    "# load pickle data from above\n",
    "with open(file, 'rb') as f:\n",
    "    data = pickle.load(f)\n",
    "\n",
    "# expand data into its components\n",
    "tpl, text, arr = data\n",
    "arr         # prints previously generated 2d array"
   ]
  },
  {
   "cell_type": "markdown",
   "metadata": {
    "collapsed": false,
    "pycharm": {
     "name": "#%% md\n"
    }
   },
   "source": [
    "The above example introduces a few concepts we have not encountered so far:\n",
    "\n",
    "1.  The built-in function \n",
    "    [`open()`](https://docs.python.org/3/library/functions.html#open)\n",
    "    is used to open files for reading or writing.\n",
    "\n",
    "    -   The second argument indicates whether\n",
    "        a file should be read-only, `r`, or writeable, `w`.\n",
    "    -   The `b` sets the file mode to *binary*, i.e., its contents are *not*\n",
    "        human-readable text.\n",
    "\n",
    "2.  We usually access files using a so-called *context manager*.\n",
    "    A context manager is created via the `with` statement.\n",
    "\n",
    "    A big advantage of using a context manager is that the\n",
    "    file resource made available as `f` in the block following\n",
    "    `with` is automatically cleaned up as soon as the block exits.\n",
    "    This is particularly important when writing data.\n",
    "\n",
    "So why not always use `pickle` to load and store data?\n",
    "\n",
    "1.  Pickling is Python-specific and no other application can process\n",
    "    pickled data.\n",
    "2.  The pickle protocol can change in a newer version of Python,\n",
    "    and you might not be able to read back your old pickled objects.\n",
    "3.  Even worse, because projects such as NumPy and pandas implement\n",
    "    their own pickling routines, you might not even be able\n",
    "    to unpickle old DataFrames when you upgrade to a newer pandas version!\n",
    "4.  `pickle` is not secure: It is possible to construct binary\n",
    "    data that will execute arbitrary code when unpickling, so you\n",
    "    don't want to unpickle data from untrusted sources.\n",
    "5.  Some objects cannot be pickled automatically.\n",
    "    For example, this applies to\n",
    "    any classes defined with Numba or Cython, unless special care\n",
    "    is taken to implement the pickle protocol.\n",
    "\n",
    "\n",
    "`pickle` is great for internal use when you do not need to exchange\n",
    "data with others and have complete control over your computing environment\n",
    "(i.e., you can enforce a specific version of Python and the libraries you are\n",
    "using). For anything else, you should avoid it."
   ]
  }
 ],
 "metadata": {
  "kernelspec": {
   "display_name": "Python 3.10.4 ('py3-default')",
   "language": "python",
   "name": "python3"
  },
  "language_info": {
   "codemirror_mode": {
    "name": "ipython",
    "version": 3
   },
   "file_extension": ".py",
   "mimetype": "text/x-python",
   "name": "python",
   "nbconvert_exporter": "python",
   "pygments_lexer": "ipython3",
   "version": "3.10.4"
  },
  "vscode": {
   "interpreter": {
    "hash": "89692ee4bd8d7a7842eb7c7050f10ae8c4113955275de7625334d5364ea86119"
   }
  }
 },
 "nbformat": 4,
 "nbformat_minor": 0
}
