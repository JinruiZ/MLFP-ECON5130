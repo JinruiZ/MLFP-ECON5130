{
 "cells": [
  {
   "cell_type": "markdown",
   "metadata": {
    "collapsed": true,
    "pycharm": {
     "name": "#%% md\n"
    }
   },
   "source": [
    "# Handling data with pandas\n",
    "\n",
    "\n",
    "## Motivation\n",
    "\n",
    "So far we have encountered NumPy arrays as the only way to store numerical\n",
    "data (we mostly ignored the built-in contains provided directly in Python).\n",
    "\n",
    "However, while NumPy arrays are great for storing homogenous data which\n",
    "does not have any particular structure, they are somewhat limited when\n",
    "we want to use them for high-level data analysis.\n",
    "\n",
    "For example, we usually want to process data sets with\n",
    "\n",
    "1.  several variables\n",
    "2.  multiple observations, which need not be identical across\n",
    "    variables (imagine we have some missing values)\n",
    "3.  non-homogenous data types: for examples,\n",
    "    names need to be stored as strings, birthdays as dates and income as\n",
    "    a floating-point number.\n",
    "\n",
    "While NumPy can in principle handle such situations, it puts all the\n",
    "burden on the user. Most users would prefer to not have to deal\n",
    "with such low-level details.\n",
    "\n",
    "Imagine we want to store names, birth dates and\n",
    "annual income for two persons:\n",
    "\n",
    "| Name | Date of birth | Income |\n",
    "| ---- | ------------- | ------ |\n",
    "| Alice | 1985-01-01   | 30,000 |\n",
    "| Bob  | 1997-05-12    | -      |\n",
    "\n",
    "No income was reported for Bob, so it's missing.\n",
    "With NumPy, we could do this as follows:"
   ]
  },
  {
   "cell_type": "code",
   "execution_count": 1,
   "outputs": [
    {
     "data": {
      "text/plain": "array([['Alice', datetime.date(1985, 1, 1), 30000.0],\n       ['Bob', datetime.date(1997, 5, 12), None]], dtype=object)"
     },
     "execution_count": 1,
     "metadata": {},
     "output_type": "execute_result"
    }
   ],
   "source": [
    "import numpy as np\n",
    "from datetime import date\n",
    "\n",
    "date1 = date(1985, 1, 1)            # birth date for Alice\n",
    "date2 = date(1997, 5, 12)           # birth date for Bob\n",
    "\n",
    "data = np.array([['Alice', date1, 30000.0],\n",
    "                 ['Bob', date2, None]])\n",
    "\n",
    "data"
   ],
   "metadata": {
    "collapsed": false,
    "pycharm": {
     "name": "#%%\n"
    }
   }
  },
  {
   "cell_type": "markdown",
   "source": [
    "While we can create such arrays, they are almost useless for data analysis,\n",
    "in particular since everything is stored as a generic `object`.\n",
    "\n",
    "-   To be fair, NumPy offers an alternative array type called\n",
    "    [\"record\" or \"structured\" array](https://numpy.org/doc/stable/user/basics.rec.html)\n",
    "    which can handle fields of different data types,\n",
    "    but the pandas library offers much more beyond that,\n",
    "    so there is little reason to use it.\n",
    "\n",
    "*Pandas* was created to offer more versatile data structures that are\n",
    "much more straightforward to use for storing, manipulating and analysing\n",
    "heterogenous data:\n",
    "\n",
    "1.  Data is clearly organised in variables and observations, similar\n",
    "    to econometrics programs such as Stata.\n",
    "2.  Each variable is permitted to have a different data type.\n",
    "3.  We can use *labels* to select observations, instead of having to use\n",
    "    a linear numerical index as with NumPy.\n",
    "\n",
    "    We could, for example, index a data set using National Insurance Numbers.\n",
    "4.  Pandas offers many convenient data aggregation and reduction\n",
    "    routines that can be applied to subsets of data.\n",
    "\n",
    "    For example, we can easily group observations by city and compute average\n",
    "    incomes.\n",
    "5.  Pandas also offers many convenient data import / export functions that\n",
    "    go beyond what's in NumPy.\n",
    "\n",
    "Should we be using pandas at all times, then? No!\n",
    "\n",
    "-   For low-level tasks where performance is essential, use NumPy.\n",
    "-   For homogenous data without any particular data structure, use NumPy.\n",
    "-   On the other hand, if data is heterogenous, needs to be imported from\n",
    "    an external data source and cleaned or transformed before computations,\n",
    "    use pandas.\n",
    "\n",
    "There are numerous tutorials on pandas on the internet, so we will\n",
    "keep this unit short and illustrate only the main concepts.\n",
    "Useful references to additional material include:\n",
    "\n",
    "-   The official user guide is available [here](https://pandas.pydata.org/docs/user_guide/index.html).\n",
    "-   There is an official [pandas cheat sheet](https://pandas.pydata.org/Pandas_Cheat_Sheet.pdf)\n",
    "    which nicely illustrates the most frequently used\n",
    "    operations.\n",
    "-   The official API reference with details on\n",
    "    every pandas object and function can be found\n",
    "    [here](https://pandas.pydata.org/docs/reference/index.html).\n",
    "-   There are numerous tutorials (including videos) freely available\n",
    "    on the internet. See [here](https://pandas.pydata.org/docs/getting_started/tutorials.html)\n",
    "    for a list."
   ],
   "metadata": {
    "collapsed": false,
    "pycharm": {
     "name": "#%% md\n"
    }
   }
  },
  {
   "cell_type": "markdown",
   "source": [
    "***\n",
    "## Creating pandas data structures\n",
    "\n",
    "Pandas has two main data structures:\n",
    "\n",
    "1.  `Series` represents observations of a single variable.\n",
    "2.  `DataFrame` is a container for several variables. You can think\n",
    "    of each individual column of a `DataFrame` as a `Series`.\n",
    "\n",
    "The easiest way to get a `DataFrame` is to create it from pre-existing\n",
    "data.\n",
    "\n",
    "To access pandas data structures and routines, we need to import it first.\n",
    "The near-universal convention is to make it available using the name `pd`:\n",
    "```\n",
    "import pandas as pd\n",
    "```\n",
    "\n",
    "*Examples:*\n",
    "\n",
    "We can then create a `DataFrame` of a NumPy array:"
   ],
   "metadata": {
    "collapsed": false,
    "pycharm": {
     "name": "#%% md\n"
    }
   }
  },
  {
   "cell_type": "code",
   "execution_count": 2,
   "outputs": [
    {
     "data": {
      "text/plain": "          A         B         C\n0 -0.989121 -0.367787  1.287925\n1  0.193974  0.920231  0.577104\n2 -0.636464  0.541952 -0.316595\n3 -0.322389  0.097167 -1.525930\n4  1.192166 -0.671090  1.000269\n5  0.136321  1.532033 -0.659969\n6 -0.311795  0.337769 -2.207471\n7  0.827921  1.541630  1.126807\n8  0.754770 -0.145978  1.281902\n9  1.074031  0.392621  0.005114",
      "text/html": "<div>\n<style scoped>\n    .dataframe tbody tr th:only-of-type {\n        vertical-align: middle;\n    }\n\n    .dataframe tbody tr th {\n        vertical-align: top;\n    }\n\n    .dataframe thead th {\n        text-align: right;\n    }\n</style>\n<table border=\"1\" class=\"dataframe\">\n  <thead>\n    <tr style=\"text-align: right;\">\n      <th></th>\n      <th>A</th>\n      <th>B</th>\n      <th>C</th>\n    </tr>\n  </thead>\n  <tbody>\n    <tr>\n      <th>0</th>\n      <td>-0.989121</td>\n      <td>-0.367787</td>\n      <td>1.287925</td>\n    </tr>\n    <tr>\n      <th>1</th>\n      <td>0.193974</td>\n      <td>0.920231</td>\n      <td>0.577104</td>\n    </tr>\n    <tr>\n      <th>2</th>\n      <td>-0.636464</td>\n      <td>0.541952</td>\n      <td>-0.316595</td>\n    </tr>\n    <tr>\n      <th>3</th>\n      <td>-0.322389</td>\n      <td>0.097167</td>\n      <td>-1.525930</td>\n    </tr>\n    <tr>\n      <th>4</th>\n      <td>1.192166</td>\n      <td>-0.671090</td>\n      <td>1.000269</td>\n    </tr>\n    <tr>\n      <th>5</th>\n      <td>0.136321</td>\n      <td>1.532033</td>\n      <td>-0.659969</td>\n    </tr>\n    <tr>\n      <th>6</th>\n      <td>-0.311795</td>\n      <td>0.337769</td>\n      <td>-2.207471</td>\n    </tr>\n    <tr>\n      <th>7</th>\n      <td>0.827921</td>\n      <td>1.541630</td>\n      <td>1.126807</td>\n    </tr>\n    <tr>\n      <th>8</th>\n      <td>0.754770</td>\n      <td>-0.145978</td>\n      <td>1.281902</td>\n    </tr>\n    <tr>\n      <th>9</th>\n      <td>1.074031</td>\n      <td>0.392621</td>\n      <td>0.005114</td>\n    </tr>\n  </tbody>\n</table>\n</div>"
     },
     "execution_count": 2,
     "metadata": {},
     "output_type": "execute_result"
    }
   ],
   "source": [
    "import numpy as np\n",
    "import pandas as pd             # universal convention: import using pd\n",
    "from numpy.random import default_rng\n",
    "\n",
    "# Draw normally distributed data\n",
    "rng = default_rng(123)\n",
    "data = rng.normal(size=(10,3))\n",
    "\n",
    "# Create pandas DataFrame\n",
    "varnames = ['A', 'B', 'C']\n",
    "df = pd.DataFrame(data, columns=varnames)\n",
    "df"
   ],
   "metadata": {
    "collapsed": false,
    "pycharm": {
     "name": "#%%\n"
    }
   }
  },
  {
   "cell_type": "markdown",
   "source": [
    "This code creates a `DataFrame` of three variables called `A`, `B` and `C`\n",
    "with 10 observations each.\n",
    "\n",
    "Alternatively, we can create a `DataFrame` from non-homogenous data as follows:"
   ],
   "metadata": {
    "collapsed": false,
    "pycharm": {
     "name": "#%% md\n"
    }
   }
  },
  {
   "cell_type": "code",
   "execution_count": 3,
   "outputs": [
    {
     "data": {
      "text/plain": "    Name  Birthdate   Income\n0  Alice 1985-01-01  35000.0\n1    Bob 1997-05-12      NaN",
      "text/html": "<div>\n<style scoped>\n    .dataframe tbody tr th:only-of-type {\n        vertical-align: middle;\n    }\n\n    .dataframe tbody tr th {\n        vertical-align: top;\n    }\n\n    .dataframe thead th {\n        text-align: right;\n    }\n</style>\n<table border=\"1\" class=\"dataframe\">\n  <thead>\n    <tr style=\"text-align: right;\">\n      <th></th>\n      <th>Name</th>\n      <th>Birthdate</th>\n      <th>Income</th>\n    </tr>\n  </thead>\n  <tbody>\n    <tr>\n      <th>0</th>\n      <td>Alice</td>\n      <td>1985-01-01</td>\n      <td>35000.0</td>\n    </tr>\n    <tr>\n      <th>1</th>\n      <td>Bob</td>\n      <td>1997-05-12</td>\n      <td>NaN</td>\n    </tr>\n  </tbody>\n</table>\n</div>"
     },
     "execution_count": 3,
     "metadata": {},
     "output_type": "execute_result"
    }
   ],
   "source": [
    "names = ['Alice', 'Bob']\n",
    "bdates = pd.to_datetime(['1985-01-01', '1997-05-12'])\n",
    "incomes = np.array([35000, np.nan])         # code missing income as NaN\n",
    "\n",
    "# create DataFrame from dictionary\n",
    "df = pd.DataFrame({'Name': names, 'Birthdate': bdates, 'Income': incomes})\n",
    "df"
   ],
   "metadata": {
    "collapsed": false,
    "pycharm": {
     "name": "#%%\n"
    }
   }
  },
  {
   "cell_type": "markdown",
   "source": [
    "It data types differ across columns, as in the above example,\n",
    "it is often convenient to create the `DataFrame` by passing\n",
    "a dictionary as an argument, where each key contains a column name\n",
    "and each corresponding value the data for that variable."
   ],
   "metadata": {
    "collapsed": false,
    "pycharm": {
     "name": "#%% md\n"
    }
   }
  },
  {
   "cell_type": "markdown",
   "source": [
    "***\n",
    "## Viewing data\n",
    "\n",
    "With large data sets, you hardly ever want to print the entire `DataFrame`.\n",
    "Pandas by default already limits that amount of data shown. You can\n",
    "use the `head()` and `tail()` methods to explictly display a specific\n",
    "number of rows from the top or the end of a `DataFrame`.\n",
    "\n",
    "To illustrate, we will be using a data set of a few UK universities\n",
    "that contains their name, number of students and budget in million pounds\n",
    "(both from Wikipedia), and their [Times Higher Education (THE) ranking](https://www.timeshighereducation.com/world-university-rankings).\n",
    "\n",
    "We can read in the data stored in `universities.csv` and display the\n",
    "first three rows like this:"
   ],
   "metadata": {
    "collapsed": false,
    "pycharm": {
     "name": "#%% md\n"
    }
   }
  },
  {
   "cell_type": "code",
   "execution_count": 4,
   "outputs": [
    {
     "data": {
      "text/plain": "                Institution   Country  Founded  Students  Budget  Rank\n0     University of Glasgow  Scotland     1451     30805   626.5    92\n1   University of Edinburgh  Scotland     1583     34275  1102.0    30\n2  University of St Andrews  Scotland     1413      8984   251.2   201",
      "text/html": "<div>\n<style scoped>\n    .dataframe tbody tr th:only-of-type {\n        vertical-align: middle;\n    }\n\n    .dataframe tbody tr th {\n        vertical-align: top;\n    }\n\n    .dataframe thead th {\n        text-align: right;\n    }\n</style>\n<table border=\"1\" class=\"dataframe\">\n  <thead>\n    <tr style=\"text-align: right;\">\n      <th></th>\n      <th>Institution</th>\n      <th>Country</th>\n      <th>Founded</th>\n      <th>Students</th>\n      <th>Budget</th>\n      <th>Rank</th>\n    </tr>\n  </thead>\n  <tbody>\n    <tr>\n      <th>0</th>\n      <td>University of Glasgow</td>\n      <td>Scotland</td>\n      <td>1451</td>\n      <td>30805</td>\n      <td>626.5</td>\n      <td>92</td>\n    </tr>\n    <tr>\n      <th>1</th>\n      <td>University of Edinburgh</td>\n      <td>Scotland</td>\n      <td>1583</td>\n      <td>34275</td>\n      <td>1102.0</td>\n      <td>30</td>\n    </tr>\n    <tr>\n      <th>2</th>\n      <td>University of St Andrews</td>\n      <td>Scotland</td>\n      <td>1413</td>\n      <td>8984</td>\n      <td>251.2</td>\n      <td>201</td>\n    </tr>\n  </tbody>\n</table>\n</div>"
     },
     "execution_count": 4,
     "metadata": {},
     "output_type": "execute_result"
    }
   ],
   "source": [
    "import pandas as pd\n",
    "\n",
    "# Load sample data set of UK universities\n",
    "df = pd.read_csv('../data/universities.csv', sep=';')\n",
    "df.head(3)      # show first three rows"
   ],
   "metadata": {
    "collapsed": false,
    "pycharm": {
     "name": "#%%\n"
    }
   }
  },
  {
   "cell_type": "code",
   "execution_count": 5,
   "outputs": [
    {
     "data": {
      "text/plain": "               Institution  Country  Founded  Students  Budget  Rank\n7  University of Cambridge  England     1209     23247  2192.0     6\n8     University of Oxford  England     1096     24515  2450.0     1\n9    University of Warwick  England     1965     27278   688.6    77",
      "text/html": "<div>\n<style scoped>\n    .dataframe tbody tr th:only-of-type {\n        vertical-align: middle;\n    }\n\n    .dataframe tbody tr th {\n        vertical-align: top;\n    }\n\n    .dataframe thead th {\n        text-align: right;\n    }\n</style>\n<table border=\"1\" class=\"dataframe\">\n  <thead>\n    <tr style=\"text-align: right;\">\n      <th></th>\n      <th>Institution</th>\n      <th>Country</th>\n      <th>Founded</th>\n      <th>Students</th>\n      <th>Budget</th>\n      <th>Rank</th>\n    </tr>\n  </thead>\n  <tbody>\n    <tr>\n      <th>7</th>\n      <td>University of Cambridge</td>\n      <td>England</td>\n      <td>1209</td>\n      <td>23247</td>\n      <td>2192.0</td>\n      <td>6</td>\n    </tr>\n    <tr>\n      <th>8</th>\n      <td>University of Oxford</td>\n      <td>England</td>\n      <td>1096</td>\n      <td>24515</td>\n      <td>2450.0</td>\n      <td>1</td>\n    </tr>\n    <tr>\n      <th>9</th>\n      <td>University of Warwick</td>\n      <td>England</td>\n      <td>1965</td>\n      <td>27278</td>\n      <td>688.6</td>\n      <td>77</td>\n    </tr>\n  </tbody>\n</table>\n</div>"
     },
     "execution_count": 5,
     "metadata": {},
     "output_type": "execute_result"
    }
   ],
   "source": [
    "df.tail(3)      # show last three rows"
   ],
   "metadata": {
    "collapsed": false,
    "pycharm": {
     "name": "#%%\n"
    }
   }
  },
  {
   "cell_type": "markdown",
   "source": [
    "To quickly compute some descriptive statistics for the\n",
    "*numerical* variables in the `DataFrame`, you can use `describe()`:"
   ],
   "metadata": {
    "collapsed": false,
    "pycharm": {
     "name": "#%% md\n"
    }
   }
  },
  {
   "cell_type": "code",
   "execution_count": 6,
   "outputs": [
    {
     "data": {
      "text/plain": "           Founded      Students      Budget        Rank\ncount    10.000000     10.000000    10.00000   10.000000\nmean   1589.700000  23954.900000   970.04000  102.900000\nstd     312.364122  10103.058992   813.81164  126.190729\nmin    1096.000000   8984.000000   219.50000    1.000000\n25%    1422.500000  16741.250000   332.07500   18.750000\n50%    1539.000000  23881.000000   657.55000   53.500000\n75%    1877.750000  29923.250000  1363.82500  156.500000\nmax    1965.000000  41180.000000  2450.00000  401.000000",
      "text/html": "<div>\n<style scoped>\n    .dataframe tbody tr th:only-of-type {\n        vertical-align: middle;\n    }\n\n    .dataframe tbody tr th {\n        vertical-align: top;\n    }\n\n    .dataframe thead th {\n        text-align: right;\n    }\n</style>\n<table border=\"1\" class=\"dataframe\">\n  <thead>\n    <tr style=\"text-align: right;\">\n      <th></th>\n      <th>Founded</th>\n      <th>Students</th>\n      <th>Budget</th>\n      <th>Rank</th>\n    </tr>\n  </thead>\n  <tbody>\n    <tr>\n      <th>count</th>\n      <td>10.000000</td>\n      <td>10.000000</td>\n      <td>10.00000</td>\n      <td>10.000000</td>\n    </tr>\n    <tr>\n      <th>mean</th>\n      <td>1589.700000</td>\n      <td>23954.900000</td>\n      <td>970.04000</td>\n      <td>102.900000</td>\n    </tr>\n    <tr>\n      <th>std</th>\n      <td>312.364122</td>\n      <td>10103.058992</td>\n      <td>813.81164</td>\n      <td>126.190729</td>\n    </tr>\n    <tr>\n      <th>min</th>\n      <td>1096.000000</td>\n      <td>8984.000000</td>\n      <td>219.50000</td>\n      <td>1.000000</td>\n    </tr>\n    <tr>\n      <th>25%</th>\n      <td>1422.500000</td>\n      <td>16741.250000</td>\n      <td>332.07500</td>\n      <td>18.750000</td>\n    </tr>\n    <tr>\n      <th>50%</th>\n      <td>1539.000000</td>\n      <td>23881.000000</td>\n      <td>657.55000</td>\n      <td>53.500000</td>\n    </tr>\n    <tr>\n      <th>75%</th>\n      <td>1877.750000</td>\n      <td>29923.250000</td>\n      <td>1363.82500</td>\n      <td>156.500000</td>\n    </tr>\n    <tr>\n      <th>max</th>\n      <td>1965.000000</td>\n      <td>41180.000000</td>\n      <td>2450.00000</td>\n      <td>401.000000</td>\n    </tr>\n  </tbody>\n</table>\n</div>"
     },
     "execution_count": 6,
     "metadata": {},
     "output_type": "execute_result"
    }
   ],
   "source": [
    "df.describe()"
   ],
   "metadata": {
    "collapsed": false,
    "pycharm": {
     "name": "#%%\n"
    }
   }
  },
  {
   "cell_type": "markdown",
   "source": [
    "If you want to see low-level information about the data type\n",
    "used in each column, call `info()`:"
   ],
   "metadata": {
    "collapsed": false,
    "pycharm": {
     "name": "#%% md\n"
    }
   }
  },
  {
   "cell_type": "code",
   "execution_count": 7,
   "outputs": [
    {
     "name": "stdout",
     "output_type": "stream",
     "text": [
      "<class 'pandas.core.frame.DataFrame'>\n",
      "RangeIndex: 10 entries, 0 to 9\n",
      "Data columns (total 6 columns):\n",
      " #   Column       Non-Null Count  Dtype  \n",
      "---  ------       --------------  -----  \n",
      " 0   Institution  10 non-null     object \n",
      " 1   Country      10 non-null     object \n",
      " 2   Founded      10 non-null     int64  \n",
      " 3   Students     10 non-null     int64  \n",
      " 4   Budget       10 non-null     float64\n",
      " 5   Rank         10 non-null     int64  \n",
      "dtypes: float64(1), int64(3), object(2)\n",
      "memory usage: 608.0+ bytes\n"
     ]
    }
   ],
   "source": [
    "df.info()"
   ],
   "metadata": {
    "collapsed": false,
    "pycharm": {
     "name": "#%%\n"
    }
   }
  },
  {
   "cell_type": "markdown",
   "source": [
    "***\n",
    "## Indexing\n",
    "\n",
    "Pandas supports two types of indexing:\n",
    "\n",
    "1.  Indexing by label, ie. by the values assigned to the row or column index.\n",
    "    These labels need not be integers in increasing order, as is the case\n",
    "    for NumPy.\n",
    "2.  Indexing by position. This is very similar to slicing of NumPy arrays.\n",
    "\n",
    "Pandas indexing is performed either by using brackets `[]`, or by using\n",
    "`.loc[]` for label indexing, or `.iloc[]` for position indexing.\n",
    "\n",
    "Indexing via `[]` can be somewhat confusing:\n",
    "\n",
    "-   specifying `df['name']` returns the column `name` as a `Series` object.\n",
    "-   On the other hand, specifying a range such as `df[5:10]` returns the *rows*\n",
    "    associated with the *positions* 5,...,9.\n",
    "\n",
    "*Examples:*"
   ],
   "metadata": {
    "collapsed": false,
    "pycharm": {
     "name": "#%% md\n"
    }
   }
  },
  {
   "cell_type": "code",
   "execution_count": 8,
   "outputs": [
    {
     "data": {
      "text/plain": "0        University of Glasgow\n1      University of Edinburgh\n2     University of St Andrews\n3       University of Aberdeen\n4    University of Strathclyde\n5                          LSE\n6                          UCL\n7      University of Cambridge\n8         University of Oxford\n9        University of Warwick\nName: Institution, dtype: object"
     },
     "execution_count": 8,
     "metadata": {},
     "output_type": "execute_result"
    }
   ],
   "source": [
    "import pandas as pd\n",
    "\n",
    "# Load sample data set of UK universities\n",
    "df = pd.read_csv('../data/universities.csv', sep=';')\n",
    "df['Institution']               # select a single column"
   ],
   "metadata": {
    "collapsed": false,
    "pycharm": {
     "name": "#%%\n"
    }
   }
  },
  {
   "cell_type": "code",
   "execution_count": 9,
   "outputs": [
    {
     "data": {
      "text/plain": "                 Institution  Rank\n0      University of Glasgow    92\n1    University of Edinburgh    30\n2   University of St Andrews   201\n3     University of Aberdeen   178\n4  University of Strathclyde   401\n5                        LSE    27\n6                        UCL    16\n7    University of Cambridge     6\n8       University of Oxford     1\n9      University of Warwick    77",
      "text/html": "<div>\n<style scoped>\n    .dataframe tbody tr th:only-of-type {\n        vertical-align: middle;\n    }\n\n    .dataframe tbody tr th {\n        vertical-align: top;\n    }\n\n    .dataframe thead th {\n        text-align: right;\n    }\n</style>\n<table border=\"1\" class=\"dataframe\">\n  <thead>\n    <tr style=\"text-align: right;\">\n      <th></th>\n      <th>Institution</th>\n      <th>Rank</th>\n    </tr>\n  </thead>\n  <tbody>\n    <tr>\n      <th>0</th>\n      <td>University of Glasgow</td>\n      <td>92</td>\n    </tr>\n    <tr>\n      <th>1</th>\n      <td>University of Edinburgh</td>\n      <td>30</td>\n    </tr>\n    <tr>\n      <th>2</th>\n      <td>University of St Andrews</td>\n      <td>201</td>\n    </tr>\n    <tr>\n      <th>3</th>\n      <td>University of Aberdeen</td>\n      <td>178</td>\n    </tr>\n    <tr>\n      <th>4</th>\n      <td>University of Strathclyde</td>\n      <td>401</td>\n    </tr>\n    <tr>\n      <th>5</th>\n      <td>LSE</td>\n      <td>27</td>\n    </tr>\n    <tr>\n      <th>6</th>\n      <td>UCL</td>\n      <td>16</td>\n    </tr>\n    <tr>\n      <th>7</th>\n      <td>University of Cambridge</td>\n      <td>6</td>\n    </tr>\n    <tr>\n      <th>8</th>\n      <td>University of Oxford</td>\n      <td>1</td>\n    </tr>\n    <tr>\n      <th>9</th>\n      <td>University of Warwick</td>\n      <td>77</td>\n    </tr>\n  </tbody>\n</table>\n</div>"
     },
     "execution_count": 9,
     "metadata": {},
     "output_type": "execute_result"
    }
   ],
   "source": [
    "df[['Institution', 'Rank']]     # select multiple columns using a list"
   ],
   "metadata": {
    "collapsed": false,
    "pycharm": {
     "name": "#%%\n"
    }
   }
  },
  {
   "cell_type": "markdown",
   "source": [
    "To return the rows at positions 1, 2 and 3 we use"
   ],
   "metadata": {
    "collapsed": false,
    "pycharm": {
     "name": "#%% md\n"
    }
   }
  },
  {
   "cell_type": "code",
   "execution_count": 10,
   "outputs": [
    {
     "data": {
      "text/plain": "                Institution   Country  Founded  Students  Budget  Rank\n1   University of Edinburgh  Scotland     1583     34275  1102.0    30\n2  University of St Andrews  Scotland     1413      8984   251.2   201\n3    University of Aberdeen  Scotland     1495     14775   219.5   178",
      "text/html": "<div>\n<style scoped>\n    .dataframe tbody tr th:only-of-type {\n        vertical-align: middle;\n    }\n\n    .dataframe tbody tr th {\n        vertical-align: top;\n    }\n\n    .dataframe thead th {\n        text-align: right;\n    }\n</style>\n<table border=\"1\" class=\"dataframe\">\n  <thead>\n    <tr style=\"text-align: right;\">\n      <th></th>\n      <th>Institution</th>\n      <th>Country</th>\n      <th>Founded</th>\n      <th>Students</th>\n      <th>Budget</th>\n      <th>Rank</th>\n    </tr>\n  </thead>\n  <tbody>\n    <tr>\n      <th>1</th>\n      <td>University of Edinburgh</td>\n      <td>Scotland</td>\n      <td>1583</td>\n      <td>34275</td>\n      <td>1102.0</td>\n      <td>30</td>\n    </tr>\n    <tr>\n      <th>2</th>\n      <td>University of St Andrews</td>\n      <td>Scotland</td>\n      <td>1413</td>\n      <td>8984</td>\n      <td>251.2</td>\n      <td>201</td>\n    </tr>\n    <tr>\n      <th>3</th>\n      <td>University of Aberdeen</td>\n      <td>Scotland</td>\n      <td>1495</td>\n      <td>14775</td>\n      <td>219.5</td>\n      <td>178</td>\n    </tr>\n  </tbody>\n</table>\n</div>"
     },
     "execution_count": 10,
     "metadata": {},
     "output_type": "execute_result"
    }
   ],
   "source": [
    "df[1:4]"
   ],
   "metadata": {
    "collapsed": false,
    "pycharm": {
     "name": "#%%\n"
    }
   }
  },
  {
   "cell_type": "markdown",
   "source": [
    "Pandas follows the Python convention that indices are 0-based, and the\n",
    "endpoint of a slice is not included."
   ],
   "metadata": {
    "collapsed": false,
    "pycharm": {
     "name": "#%% md\n"
    }
   }
  },
  {
   "cell_type": "markdown",
   "source": [
    "### Selection by label\n",
    "\n",
    "We have already mentioned that pandas uses *labels* to index and align\n",
    "data. These can be integer values starting at 0 with increments of 1\n",
    "for each additional element, but they need not be.\n",
    "\n",
    "For example, we can replace the row index and use the labels `a`, `b`, `c`, ...\n",
    "instead of integers as follows:"
   ],
   "metadata": {
    "collapsed": false,
    "pycharm": {
     "name": "#%% md\n"
    }
   }
  },
  {
   "cell_type": "code",
   "execution_count": 11,
   "outputs": [
    {
     "data": {
      "text/plain": "['a', 'b', 'c', 'd', 'e', 'f', 'g', 'h', 'i', 'j']"
     },
     "execution_count": 11,
     "metadata": {},
     "output_type": "execute_result"
    }
   ],
   "source": [
    "import pandas as pd\n",
    "df = pd.read_csv('../data/universities.csv', sep=';')\n",
    "\n",
    "# Map list of integers to roman letters\n",
    "index = [chr(97+i) for i in df.index.values]\n",
    "index"
   ],
   "metadata": {
    "collapsed": false,
    "pycharm": {
     "name": "#%%\n"
    }
   }
  },
  {
   "cell_type": "code",
   "execution_count": 12,
   "outputs": [
    {
     "data": {
      "text/plain": "                    Institution   Country  Founded  Students  Budget  Rank\nindex                                                                     \na         University of Glasgow  Scotland     1451     30805   626.5    92\nb       University of Edinburgh  Scotland     1583     34275  1102.0    30\nc      University of St Andrews  Scotland     1413      8984   251.2   201",
      "text/html": "<div>\n<style scoped>\n    .dataframe tbody tr th:only-of-type {\n        vertical-align: middle;\n    }\n\n    .dataframe tbody tr th {\n        vertical-align: top;\n    }\n\n    .dataframe thead th {\n        text-align: right;\n    }\n</style>\n<table border=\"1\" class=\"dataframe\">\n  <thead>\n    <tr style=\"text-align: right;\">\n      <th></th>\n      <th>Institution</th>\n      <th>Country</th>\n      <th>Founded</th>\n      <th>Students</th>\n      <th>Budget</th>\n      <th>Rank</th>\n    </tr>\n    <tr>\n      <th>index</th>\n      <th></th>\n      <th></th>\n      <th></th>\n      <th></th>\n      <th></th>\n      <th></th>\n    </tr>\n  </thead>\n  <tbody>\n    <tr>\n      <th>a</th>\n      <td>University of Glasgow</td>\n      <td>Scotland</td>\n      <td>1451</td>\n      <td>30805</td>\n      <td>626.5</td>\n      <td>92</td>\n    </tr>\n    <tr>\n      <th>b</th>\n      <td>University of Edinburgh</td>\n      <td>Scotland</td>\n      <td>1583</td>\n      <td>34275</td>\n      <td>1102.0</td>\n      <td>30</td>\n    </tr>\n    <tr>\n      <th>c</th>\n      <td>University of St Andrews</td>\n      <td>Scotland</td>\n      <td>1413</td>\n      <td>8984</td>\n      <td>251.2</td>\n      <td>201</td>\n    </tr>\n  </tbody>\n</table>\n</div>"
     },
     "execution_count": 12,
     "metadata": {},
     "output_type": "execute_result"
    }
   ],
   "source": [
    "df['index'] = index     # create new column 'index'\n",
    "df.set_index(keys=['index'], inplace=True)      # set letters as index!\n",
    "# print first 3 rows using labels\n",
    "df['a':'c']             # This is the same as df[:3]"
   ],
   "metadata": {
    "collapsed": false,
    "pycharm": {
     "name": "#%%\n"
    }
   }
  },
  {
   "cell_type": "markdown",
   "source": [
    "To add to the confusion, note that when specifying a range in terms of\n",
    "labels, the last element *is* included!\n",
    "\n",
    "\n",
    "To more clearly distinguish between selection by label and by position,\n",
    "pandas provides the `.loc[]` and `.iloc[]` methods of indexing.\n",
    "To make your intention obvious, you should therefore adhere to the following\n",
    "rules:\n",
    "\n",
    "1.  Use `df['name']` only to select *columns* and for nothing else.\n",
    "2.  Use `.loc[]` to select by label.\n",
    "3.  Use `.iloc[]` to select by position.\n",
    "\n",
    "To illustrate, using `.iloc[]` unambibguously indexes by label:"
   ],
   "metadata": {
    "collapsed": false,
    "pycharm": {
     "name": "#%% md\n"
    }
   }
  },
  {
   "cell_type": "code",
   "execution_count": 13,
   "outputs": [
    {
     "data": {
      "text/plain": "                    Institution  Students\nindex                                    \na         University of Glasgow     30805\nb       University of Edinburgh     34275\nc      University of St Andrews      8984",
      "text/html": "<div>\n<style scoped>\n    .dataframe tbody tr th:only-of-type {\n        vertical-align: middle;\n    }\n\n    .dataframe tbody tr th {\n        vertical-align: top;\n    }\n\n    .dataframe thead th {\n        text-align: right;\n    }\n</style>\n<table border=\"1\" class=\"dataframe\">\n  <thead>\n    <tr style=\"text-align: right;\">\n      <th></th>\n      <th>Institution</th>\n      <th>Students</th>\n    </tr>\n    <tr>\n      <th>index</th>\n      <th></th>\n      <th></th>\n    </tr>\n  </thead>\n  <tbody>\n    <tr>\n      <th>a</th>\n      <td>University of Glasgow</td>\n      <td>30805</td>\n    </tr>\n    <tr>\n      <th>b</th>\n      <td>University of Edinburgh</td>\n      <td>34275</td>\n    </tr>\n    <tr>\n      <th>c</th>\n      <td>University of St Andrews</td>\n      <td>8984</td>\n    </tr>\n  </tbody>\n</table>\n</div>"
     },
     "execution_count": 13,
     "metadata": {},
     "output_type": "execute_result"
    }
   ],
   "source": [
    "df.loc['a':'c', ['Institution', 'Students']]"
   ],
   "metadata": {
    "collapsed": false,
    "pycharm": {
     "name": "#%%\n"
    }
   }
  },
  {
   "cell_type": "markdown",
   "source": [
    "With `.loc[]` we can even perform slicing on column names, which\n",
    "is not possible with the simpler `df[]` syntax:"
   ],
   "metadata": {
    "collapsed": false,
    "pycharm": {
     "name": "#%% md\n"
    }
   }
  },
  {
   "cell_type": "code",
   "execution_count": 14,
   "outputs": [
    {
     "data": {
      "text/plain": "       Students  Budget  Rank\nindex                        \na         30805   626.5    92\nb         34275  1102.0    30\nc          8984   251.2   201",
      "text/html": "<div>\n<style scoped>\n    .dataframe tbody tr th:only-of-type {\n        vertical-align: middle;\n    }\n\n    .dataframe tbody tr th {\n        vertical-align: top;\n    }\n\n    .dataframe thead th {\n        text-align: right;\n    }\n</style>\n<table border=\"1\" class=\"dataframe\">\n  <thead>\n    <tr style=\"text-align: right;\">\n      <th></th>\n      <th>Students</th>\n      <th>Budget</th>\n      <th>Rank</th>\n    </tr>\n    <tr>\n      <th>index</th>\n      <th></th>\n      <th></th>\n      <th></th>\n    </tr>\n  </thead>\n  <tbody>\n    <tr>\n      <th>a</th>\n      <td>30805</td>\n      <td>626.5</td>\n      <td>92</td>\n    </tr>\n    <tr>\n      <th>b</th>\n      <td>34275</td>\n      <td>1102.0</td>\n      <td>30</td>\n    </tr>\n    <tr>\n      <th>c</th>\n      <td>8984</td>\n      <td>251.2</td>\n      <td>201</td>\n    </tr>\n  </tbody>\n</table>\n</div>"
     },
     "execution_count": 14,
     "metadata": {},
     "output_type": "execute_result"
    }
   ],
   "source": [
    "df.loc['a':'c', 'Students':'Rank']"
   ],
   "metadata": {
    "collapsed": false,
    "pycharm": {
     "name": "#%%\n"
    }
   }
  },
  {
   "cell_type": "markdown",
   "source": [
    "This includes all the columns between `Students` and `Rank`,\n",
    "where the latter is again included since we are slicing by label.\n",
    "\n",
    "Trying to pass in positional arguments will return an error if the\n",
    "index does not happen to be of type integer and the given values\n",
    "are actual labels:"
   ],
   "metadata": {
    "collapsed": false,
    "pycharm": {
     "name": "#%% md\n"
    }
   }
  },
  {
   "cell_type": "code",
   "execution_count": 15,
   "outputs": [
    {
     "ename": "TypeError",
     "evalue": "cannot do slice indexing on Index with these indexers [0] of type int",
     "output_type": "error",
     "traceback": [
      "\u001B[0;31m---------------------------------------------------------------------------\u001B[0m",
      "\u001B[0;31mTypeError\u001B[0m                                 Traceback (most recent call last)",
      "\u001B[0;32m<ipython-input-15-120356db40ca>\u001B[0m in \u001B[0;36m<module>\u001B[0;34m\u001B[0m\n\u001B[0;32m----> 1\u001B[0;31m \u001B[0mdf\u001B[0m\u001B[0;34m.\u001B[0m\u001B[0mloc\u001B[0m\u001B[0;34m[\u001B[0m\u001B[0;36m0\u001B[0m\u001B[0;34m:\u001B[0m\u001B[0;36m4\u001B[0m\u001B[0;34m]\u001B[0m\u001B[0;34m\u001B[0m\u001B[0;34m\u001B[0m\u001B[0m\n\u001B[0m\u001B[1;32m      2\u001B[0m \u001B[0;34m\u001B[0m\u001B[0m\n",
      "\u001B[0;32m~/.conda/envs/py3-default/lib/python3.7/site-packages/pandas/core/indexing.py\u001B[0m in \u001B[0;36m__getitem__\u001B[0;34m(self, key)\u001B[0m\n\u001B[1;32m    877\u001B[0m \u001B[0;34m\u001B[0m\u001B[0m\n\u001B[1;32m    878\u001B[0m             \u001B[0mmaybe_callable\u001B[0m \u001B[0;34m=\u001B[0m \u001B[0mcom\u001B[0m\u001B[0;34m.\u001B[0m\u001B[0mapply_if_callable\u001B[0m\u001B[0;34m(\u001B[0m\u001B[0mkey\u001B[0m\u001B[0;34m,\u001B[0m \u001B[0mself\u001B[0m\u001B[0;34m.\u001B[0m\u001B[0mobj\u001B[0m\u001B[0;34m)\u001B[0m\u001B[0;34m\u001B[0m\u001B[0;34m\u001B[0m\u001B[0m\n\u001B[0;32m--> 879\u001B[0;31m             \u001B[0;32mreturn\u001B[0m \u001B[0mself\u001B[0m\u001B[0;34m.\u001B[0m\u001B[0m_getitem_axis\u001B[0m\u001B[0;34m(\u001B[0m\u001B[0mmaybe_callable\u001B[0m\u001B[0;34m,\u001B[0m \u001B[0maxis\u001B[0m\u001B[0;34m=\u001B[0m\u001B[0maxis\u001B[0m\u001B[0;34m)\u001B[0m\u001B[0;34m\u001B[0m\u001B[0;34m\u001B[0m\u001B[0m\n\u001B[0m\u001B[1;32m    880\u001B[0m \u001B[0;34m\u001B[0m\u001B[0m\n\u001B[1;32m    881\u001B[0m     \u001B[0;32mdef\u001B[0m \u001B[0m_is_scalar_access\u001B[0m\u001B[0;34m(\u001B[0m\u001B[0mself\u001B[0m\u001B[0;34m,\u001B[0m \u001B[0mkey\u001B[0m\u001B[0;34m:\u001B[0m \u001B[0mTuple\u001B[0m\u001B[0;34m)\u001B[0m\u001B[0;34m:\u001B[0m\u001B[0;34m\u001B[0m\u001B[0;34m\u001B[0m\u001B[0m\n",
      "\u001B[0;32m~/.conda/envs/py3-default/lib/python3.7/site-packages/pandas/core/indexing.py\u001B[0m in \u001B[0;36m_getitem_axis\u001B[0;34m(self, key, axis)\u001B[0m\n\u001B[1;32m   1086\u001B[0m         \u001B[0;32mif\u001B[0m \u001B[0misinstance\u001B[0m\u001B[0;34m(\u001B[0m\u001B[0mkey\u001B[0m\u001B[0;34m,\u001B[0m \u001B[0mslice\u001B[0m\u001B[0;34m)\u001B[0m\u001B[0;34m:\u001B[0m\u001B[0;34m\u001B[0m\u001B[0;34m\u001B[0m\u001B[0m\n\u001B[1;32m   1087\u001B[0m             \u001B[0mself\u001B[0m\u001B[0;34m.\u001B[0m\u001B[0m_validate_key\u001B[0m\u001B[0;34m(\u001B[0m\u001B[0mkey\u001B[0m\u001B[0;34m,\u001B[0m \u001B[0maxis\u001B[0m\u001B[0;34m)\u001B[0m\u001B[0;34m\u001B[0m\u001B[0;34m\u001B[0m\u001B[0m\n\u001B[0;32m-> 1088\u001B[0;31m             \u001B[0;32mreturn\u001B[0m \u001B[0mself\u001B[0m\u001B[0;34m.\u001B[0m\u001B[0m_get_slice_axis\u001B[0m\u001B[0;34m(\u001B[0m\u001B[0mkey\u001B[0m\u001B[0;34m,\u001B[0m \u001B[0maxis\u001B[0m\u001B[0;34m=\u001B[0m\u001B[0maxis\u001B[0m\u001B[0;34m)\u001B[0m\u001B[0;34m\u001B[0m\u001B[0;34m\u001B[0m\u001B[0m\n\u001B[0m\u001B[1;32m   1089\u001B[0m         \u001B[0;32melif\u001B[0m \u001B[0mcom\u001B[0m\u001B[0;34m.\u001B[0m\u001B[0mis_bool_indexer\u001B[0m\u001B[0;34m(\u001B[0m\u001B[0mkey\u001B[0m\u001B[0;34m)\u001B[0m\u001B[0;34m:\u001B[0m\u001B[0;34m\u001B[0m\u001B[0;34m\u001B[0m\u001B[0m\n\u001B[1;32m   1090\u001B[0m             \u001B[0;32mreturn\u001B[0m \u001B[0mself\u001B[0m\u001B[0;34m.\u001B[0m\u001B[0m_getbool_axis\u001B[0m\u001B[0;34m(\u001B[0m\u001B[0mkey\u001B[0m\u001B[0;34m,\u001B[0m \u001B[0maxis\u001B[0m\u001B[0;34m=\u001B[0m\u001B[0maxis\u001B[0m\u001B[0;34m)\u001B[0m\u001B[0;34m\u001B[0m\u001B[0;34m\u001B[0m\u001B[0m\n",
      "\u001B[0;32m~/.conda/envs/py3-default/lib/python3.7/site-packages/pandas/core/indexing.py\u001B[0m in \u001B[0;36m_get_slice_axis\u001B[0;34m(self, slice_obj, axis)\u001B[0m\n\u001B[1;32m   1121\u001B[0m         \u001B[0mlabels\u001B[0m \u001B[0;34m=\u001B[0m \u001B[0mobj\u001B[0m\u001B[0;34m.\u001B[0m\u001B[0m_get_axis\u001B[0m\u001B[0;34m(\u001B[0m\u001B[0maxis\u001B[0m\u001B[0;34m)\u001B[0m\u001B[0;34m\u001B[0m\u001B[0;34m\u001B[0m\u001B[0m\n\u001B[1;32m   1122\u001B[0m         indexer = labels.slice_indexer(\n\u001B[0;32m-> 1123\u001B[0;31m             \u001B[0mslice_obj\u001B[0m\u001B[0;34m.\u001B[0m\u001B[0mstart\u001B[0m\u001B[0;34m,\u001B[0m \u001B[0mslice_obj\u001B[0m\u001B[0;34m.\u001B[0m\u001B[0mstop\u001B[0m\u001B[0;34m,\u001B[0m \u001B[0mslice_obj\u001B[0m\u001B[0;34m.\u001B[0m\u001B[0mstep\u001B[0m\u001B[0;34m,\u001B[0m \u001B[0mkind\u001B[0m\u001B[0;34m=\u001B[0m\u001B[0;34m\"loc\"\u001B[0m\u001B[0;34m\u001B[0m\u001B[0;34m\u001B[0m\u001B[0m\n\u001B[0m\u001B[1;32m   1124\u001B[0m         )\n\u001B[1;32m   1125\u001B[0m \u001B[0;34m\u001B[0m\u001B[0m\n",
      "\u001B[0;32m~/.conda/envs/py3-default/lib/python3.7/site-packages/pandas/core/indexes/base.py\u001B[0m in \u001B[0;36mslice_indexer\u001B[0;34m(self, start, end, step, kind)\u001B[0m\n\u001B[1;32m   4964\u001B[0m         \u001B[0mslice\u001B[0m\u001B[0;34m(\u001B[0m\u001B[0;36m1\u001B[0m\u001B[0;34m,\u001B[0m \u001B[0;36m3\u001B[0m\u001B[0;34m,\u001B[0m \u001B[0;32mNone\u001B[0m\u001B[0;34m)\u001B[0m\u001B[0;34m\u001B[0m\u001B[0;34m\u001B[0m\u001B[0m\n\u001B[1;32m   4965\u001B[0m         \"\"\"\n\u001B[0;32m-> 4966\u001B[0;31m         \u001B[0mstart_slice\u001B[0m\u001B[0;34m,\u001B[0m \u001B[0mend_slice\u001B[0m \u001B[0;34m=\u001B[0m \u001B[0mself\u001B[0m\u001B[0;34m.\u001B[0m\u001B[0mslice_locs\u001B[0m\u001B[0;34m(\u001B[0m\u001B[0mstart\u001B[0m\u001B[0;34m,\u001B[0m \u001B[0mend\u001B[0m\u001B[0;34m,\u001B[0m \u001B[0mstep\u001B[0m\u001B[0;34m=\u001B[0m\u001B[0mstep\u001B[0m\u001B[0;34m,\u001B[0m \u001B[0mkind\u001B[0m\u001B[0;34m=\u001B[0m\u001B[0mkind\u001B[0m\u001B[0;34m)\u001B[0m\u001B[0;34m\u001B[0m\u001B[0;34m\u001B[0m\u001B[0m\n\u001B[0m\u001B[1;32m   4967\u001B[0m \u001B[0;34m\u001B[0m\u001B[0m\n\u001B[1;32m   4968\u001B[0m         \u001B[0;31m# return a slice\u001B[0m\u001B[0;34m\u001B[0m\u001B[0;34m\u001B[0m\u001B[0;34m\u001B[0m\u001B[0m\n",
      "\u001B[0;32m~/.conda/envs/py3-default/lib/python3.7/site-packages/pandas/core/indexes/base.py\u001B[0m in \u001B[0;36mslice_locs\u001B[0;34m(self, start, end, step, kind)\u001B[0m\n\u001B[1;32m   5165\u001B[0m         \u001B[0mstart_slice\u001B[0m \u001B[0;34m=\u001B[0m \u001B[0;32mNone\u001B[0m\u001B[0;34m\u001B[0m\u001B[0;34m\u001B[0m\u001B[0m\n\u001B[1;32m   5166\u001B[0m         \u001B[0;32mif\u001B[0m \u001B[0mstart\u001B[0m \u001B[0;32mis\u001B[0m \u001B[0;32mnot\u001B[0m \u001B[0;32mNone\u001B[0m\u001B[0;34m:\u001B[0m\u001B[0;34m\u001B[0m\u001B[0;34m\u001B[0m\u001B[0m\n\u001B[0;32m-> 5167\u001B[0;31m             \u001B[0mstart_slice\u001B[0m \u001B[0;34m=\u001B[0m \u001B[0mself\u001B[0m\u001B[0;34m.\u001B[0m\u001B[0mget_slice_bound\u001B[0m\u001B[0;34m(\u001B[0m\u001B[0mstart\u001B[0m\u001B[0;34m,\u001B[0m \u001B[0;34m\"left\"\u001B[0m\u001B[0;34m,\u001B[0m \u001B[0mkind\u001B[0m\u001B[0;34m)\u001B[0m\u001B[0;34m\u001B[0m\u001B[0;34m\u001B[0m\u001B[0m\n\u001B[0m\u001B[1;32m   5168\u001B[0m         \u001B[0;32mif\u001B[0m \u001B[0mstart_slice\u001B[0m \u001B[0;32mis\u001B[0m \u001B[0;32mNone\u001B[0m\u001B[0;34m:\u001B[0m\u001B[0;34m\u001B[0m\u001B[0;34m\u001B[0m\u001B[0m\n\u001B[1;32m   5169\u001B[0m             \u001B[0mstart_slice\u001B[0m \u001B[0;34m=\u001B[0m \u001B[0;36m0\u001B[0m\u001B[0;34m\u001B[0m\u001B[0;34m\u001B[0m\u001B[0m\n",
      "\u001B[0;32m~/.conda/envs/py3-default/lib/python3.7/site-packages/pandas/core/indexes/base.py\u001B[0m in \u001B[0;36mget_slice_bound\u001B[0;34m(self, label, side, kind)\u001B[0m\n\u001B[1;32m   5077\u001B[0m         \u001B[0;31m# For datetime indices label may be a string that has to be converted\u001B[0m\u001B[0;34m\u001B[0m\u001B[0;34m\u001B[0m\u001B[0;34m\u001B[0m\u001B[0m\n\u001B[1;32m   5078\u001B[0m         \u001B[0;31m# to datetime boundary according to its resolution.\u001B[0m\u001B[0;34m\u001B[0m\u001B[0;34m\u001B[0m\u001B[0;34m\u001B[0m\u001B[0m\n\u001B[0;32m-> 5079\u001B[0;31m         \u001B[0mlabel\u001B[0m \u001B[0;34m=\u001B[0m \u001B[0mself\u001B[0m\u001B[0;34m.\u001B[0m\u001B[0m_maybe_cast_slice_bound\u001B[0m\u001B[0;34m(\u001B[0m\u001B[0mlabel\u001B[0m\u001B[0;34m,\u001B[0m \u001B[0mside\u001B[0m\u001B[0;34m,\u001B[0m \u001B[0mkind\u001B[0m\u001B[0;34m)\u001B[0m\u001B[0;34m\u001B[0m\u001B[0;34m\u001B[0m\u001B[0m\n\u001B[0m\u001B[1;32m   5080\u001B[0m \u001B[0;34m\u001B[0m\u001B[0m\n\u001B[1;32m   5081\u001B[0m         \u001B[0;31m# we need to look up the label\u001B[0m\u001B[0;34m\u001B[0m\u001B[0;34m\u001B[0m\u001B[0;34m\u001B[0m\u001B[0m\n",
      "\u001B[0;32m~/.conda/envs/py3-default/lib/python3.7/site-packages/pandas/core/indexes/base.py\u001B[0m in \u001B[0;36m_maybe_cast_slice_bound\u001B[0;34m(self, label, side, kind)\u001B[0m\n\u001B[1;32m   5029\u001B[0m         \u001B[0;31m# this is rejected (generally .loc gets you here)\u001B[0m\u001B[0;34m\u001B[0m\u001B[0;34m\u001B[0m\u001B[0;34m\u001B[0m\u001B[0m\n\u001B[1;32m   5030\u001B[0m         \u001B[0;32melif\u001B[0m \u001B[0mis_integer\u001B[0m\u001B[0;34m(\u001B[0m\u001B[0mlabel\u001B[0m\u001B[0;34m)\u001B[0m\u001B[0;34m:\u001B[0m\u001B[0;34m\u001B[0m\u001B[0;34m\u001B[0m\u001B[0m\n\u001B[0;32m-> 5031\u001B[0;31m             \u001B[0mself\u001B[0m\u001B[0;34m.\u001B[0m\u001B[0m_invalid_indexer\u001B[0m\u001B[0;34m(\u001B[0m\u001B[0;34m\"slice\"\u001B[0m\u001B[0;34m,\u001B[0m \u001B[0mlabel\u001B[0m\u001B[0;34m)\u001B[0m\u001B[0;34m\u001B[0m\u001B[0;34m\u001B[0m\u001B[0m\n\u001B[0m\u001B[1;32m   5032\u001B[0m \u001B[0;34m\u001B[0m\u001B[0m\n\u001B[1;32m   5033\u001B[0m         \u001B[0;32mreturn\u001B[0m \u001B[0mlabel\u001B[0m\u001B[0;34m\u001B[0m\u001B[0;34m\u001B[0m\u001B[0m\n",
      "\u001B[0;32m~/.conda/envs/py3-default/lib/python3.7/site-packages/pandas/core/indexes/base.py\u001B[0m in \u001B[0;36m_invalid_indexer\u001B[0;34m(self, form, key)\u001B[0m\n\u001B[1;32m   3266\u001B[0m         \"\"\"\n\u001B[1;32m   3267\u001B[0m         raise TypeError(\n\u001B[0;32m-> 3268\u001B[0;31m             \u001B[0;34mf\"cannot do {form} indexing on {type(self).__name__} with these \"\u001B[0m\u001B[0;34m\u001B[0m\u001B[0;34m\u001B[0m\u001B[0m\n\u001B[0m\u001B[1;32m   3269\u001B[0m             \u001B[0;34mf\"indexers [{key}] of type {type(key).__name__}\"\u001B[0m\u001B[0;34m\u001B[0m\u001B[0;34m\u001B[0m\u001B[0m\n\u001B[1;32m   3270\u001B[0m         )\n",
      "\u001B[0;31mTypeError\u001B[0m: cannot do slice indexing on Index with these indexers [0] of type int"
     ]
    }
   ],
   "source": [
    "df.loc[0:4]"
   ],
   "metadata": {
    "collapsed": false,
    "pycharm": {
     "name": "#%%\n"
    }
   }
  },
  {
   "cell_type": "markdown",
   "source": [
    "Somewhat surprisingly, we can also pass boolean arrays to `.loc[]`\n",
    "even though these are clearly not labels:"
   ],
   "metadata": {
    "collapsed": false,
    "pycharm": {
     "name": "#%% md\n"
    }
   }
  },
  {
   "cell_type": "code",
   "execution_count": null,
   "outputs": [],
   "source": [
    "df.loc[df['Country'] == 'Scotland']"
   ],
   "metadata": {
    "collapsed": false,
    "pycharm": {
     "name": "#%%\n"
    }
   }
  },
  {
   "cell_type": "markdown",
   "source": [
    "Indexing via `.loc[]` supports a few more types of arguments,\n",
    "see the [official documentation](https://pandas.pydata.org/docs/user_guide/indexing.html#selection-by-label)\n",
    "for details."
   ],
   "metadata": {
    "collapsed": false,
    "pycharm": {
     "name": "#%% md\n"
    }
   }
  },
  {
   "cell_type": "markdown",
   "source": [
    "### Selection by position\n",
    "\n",
    "Conversely, if we want to select items exclusively by their position\n",
    "and ignore their labels, we use `.iloc[]`:"
   ],
   "metadata": {
    "collapsed": false,
    "pycharm": {
     "name": "#%% md\n"
    }
   }
  },
  {
   "cell_type": "code",
   "execution_count": null,
   "outputs": [],
   "source": [
    "df.iloc[0:4, 0:2]           # select first 4 rows, first 2 columns"
   ],
   "metadata": {
    "collapsed": false,
    "pycharm": {
     "name": "#%%\n"
    }
   }
  },
  {
   "cell_type": "markdown",
   "source": [
    "Again, `.iloc[]` supports a multitude of other arguments,\n",
    "including boolean arrays. See the [official documentation](https://pandas.pydata.org/docs/user_guide/indexing.html#selection-by-position)\n",
    "for details.\n"
   ],
   "metadata": {
    "collapsed": false,
    "pycharm": {
     "name": "#%% md\n"
    }
   }
  },
  {
   "cell_type": "markdown",
   "source": [
    "***\n",
    "## Aggregation and reduction\n",
    "\n",
    "### Working with entire DataFrames\n",
    "\n",
    "The simplest way to invoke data reduction is to invoke the desired\n",
    "routine on the entire `DataFrame`:"
   ],
   "metadata": {
    "collapsed": false,
    "pycharm": {
     "name": "#%% md\n"
    }
   }
  },
  {
   "cell_type": "code",
   "execution_count": null,
   "outputs": [],
   "source": [
    "import pandas as pd\n",
    "\n",
    "df = pd.read_csv('../data/universities.csv', sep=';')\n",
    "df.mean()"
   ],
   "metadata": {
    "collapsed": false,
    "pycharm": {
     "name": "#%%\n"
    }
   }
  },
  {
   "cell_type": "markdown",
   "source": [
    "Methods such as `mean()` are by default applied column-wise to each\n",
    "numerical column.\n",
    "\n",
    "One bid advantage over NumPy is that missing values (represented\n",
    "by `np.nan`) are automatically ignored:"
   ],
   "metadata": {
    "collapsed": false,
    "pycharm": {
     "name": "#%% md\n"
    }
   }
  },
  {
   "cell_type": "code",
   "execution_count": null,
   "outputs": [],
   "source": [
    "# Set Aberdeen's THE ranking to missing\n",
    "df.loc[df['Institution'] == 'University of Aberdeen', 'Rank'] = np.nan\n",
    "df.loc[df['Institution'] == 'University of Aberdeen']"
   ],
   "metadata": {
    "collapsed": false,
    "pycharm": {
     "name": "#%%\n"
    }
   }
  },
  {
   "cell_type": "code",
   "execution_count": null,
   "outputs": [],
   "source": [
    "# mean() automatically drops missing observations\n",
    "df.mean()"
   ],
   "metadata": {
    "collapsed": false,
    "pycharm": {
     "name": "#%%\n"
    }
   }
  },
  {
   "cell_type": "markdown",
   "source": [
    "### Splitting and grouping\n",
    "\n",
    "Applying aggregation functions to the entire `DataFrame` is simular\n",
    "to what we can do with NumPy. The added flexibility of pandas\n",
    "becomes obvious once we want to apply these functions to subsets of\n",
    "data, ie groups, which we can define based on values or index labels.\n",
    "\n",
    "For example, we can easily group our university data by country:"
   ],
   "metadata": {
    "collapsed": false,
    "pycharm": {
     "name": "#%% md\n"
    }
   }
  },
  {
   "cell_type": "code",
   "execution_count": null,
   "outputs": [],
   "source": [
    "import pandas as pd\n",
    "\n",
    "df = pd.read_csv('../data/universities.csv', sep=';')\n",
    "\n",
    "groups = df.groupby(['Country'])"
   ],
   "metadata": {
    "collapsed": false,
    "pycharm": {
     "name": "#%%\n"
    }
   }
  },
  {
   "cell_type": "markdown",
   "source": [
    "Here `groups` is a special pandas objects which can be subsequently be\n",
    "used to process group-specific data. To compute the group-wise\n",
    "averages, we can simply run"
   ],
   "metadata": {
    "collapsed": false,
    "pycharm": {
     "name": "#%% md\n"
    }
   }
  },
  {
   "cell_type": "code",
   "execution_count": null,
   "outputs": [],
   "source": [
    "groups.mean()"
   ],
   "metadata": {
    "collapsed": false,
    "pycharm": {
     "name": "#%%\n"
    }
   }
  },
  {
   "cell_type": "markdown",
   "source": [
    "Groups support column indexing. If we want to only compute the\n",
    "total number of students for the Scottish and English universities\n",
    "in our sample, we can do this as follows:"
   ],
   "metadata": {
    "collapsed": false,
    "pycharm": {
     "name": "#%% md\n"
    }
   }
  },
  {
   "cell_type": "code",
   "source": [
    "groups['Students'].sum()"
   ],
   "metadata": {
    "collapsed": false,
    "pycharm": {
     "name": "#%%\n"
    }
   },
   "execution_count": null,
   "outputs": []
  },
  {
   "cell_type": "markdown",
   "source": [
    "There are numerous routines available to aggregate grouped data,\n",
    "for example:\n",
    "\n",
    "-   `mean()`, `sum()`: averages and sum over numerical items within groups.\n",
    "-   `std()`, `var()`: within-group std. dev. and variance\n",
    "-   `size()`: group sizes\n",
    "-   `first()`, `last()`: first and last elements in each group\n",
    "-   `min()`, `max()`: minimum and maximum elements within a group"
   ],
   "metadata": {
    "collapsed": false,
    "pycharm": {
     "name": "#%% md\n"
    }
   }
  },
  {
   "cell_type": "markdown",
   "source": [
    "*Examples:*"
   ],
   "metadata": {
    "collapsed": false,
    "pycharm": {
     "name": "#%% md\n"
    }
   }
  },
  {
   "cell_type": "code",
   "execution_count": null,
   "outputs": [],
   "source": [
    "groups.size()       # return number of elements in each group"
   ],
   "metadata": {
    "collapsed": false,
    "pycharm": {
     "name": "#%%\n"
    }
   }
  },
  {
   "cell_type": "code",
   "execution_count": null,
   "outputs": [],
   "source": [
    "groups.first()      # return first element in each group"
   ],
   "metadata": {
    "collapsed": false,
    "pycharm": {
     "name": "#%%\n"
    }
   }
  },
  {
   "cell_type": "markdown",
   "source": [
    "You can create custom aggregation routines by calling `agg()`\n",
    "or `aggregate()` on the grouped object. To illustrate, we\n",
    "count the number of universities in each country that have more\n",
    "than 20,000 students:"
   ],
   "metadata": {
    "collapsed": false,
    "pycharm": {
     "name": "#%% md\n"
    }
   }
  },
  {
   "cell_type": "code",
   "execution_count": null,
   "outputs": [],
   "source": [
    "groups['Students'].agg(lambda x: np.sum(x >= 20000))"
   ],
   "metadata": {
    "collapsed": false,
    "pycharm": {
     "name": "#%%\n"
    }
   }
  },
  {
   "cell_type": "markdown",
   "source": [
    "Note that we called `agg()` only on the column `Students`, otherwise\n",
    "the function would be applied to every column separately, which is not\n",
    "what we want.\n",
    "\n",
    "The most flexible aggregate function is `apply()`, which calls the\n",
    "given function with the entire group-specific subset of data (including\n",
    "all columns) and glues together the results.\n",
    "\n",
    "For example, if we want to compute the average budget per student\n",
    "(in pounds) in Scotland and England, we can do this as follows:"
   ],
   "metadata": {
    "collapsed": false,
    "pycharm": {
     "name": "#%% md\n"
    }
   }
  },
  {
   "cell_type": "code",
   "execution_count": null,
   "outputs": [],
   "source": [
    "groups.apply(lambda x: x['Budget'].sum() / x['Students'].sum() * 1.0e6)"
   ],
   "metadata": {
    "collapsed": false,
    "pycharm": {
     "name": "#%%\n"
    }
   }
  },
  {
   "cell_type": "markdown",
   "source": [
    "We couldn't have done this with `agg()` since `agg()` never gets to see\n",
    "the entire chunk of data, but only one column at a time.\n",
    "\n",
    "This section provided only a first look at pandas's \"split-apply-combine\"\n",
    "functionality implemented via `groupby`. See the [official documentation](https://pandas.pydata.org/pandas-docs/stable/user_guide/groupby.html)\n",
    "for more details."
   ],
   "metadata": {
    "collapsed": false,
    "pycharm": {
     "name": "#%% md\n"
    }
   }
  },
  {
   "cell_type": "markdown",
   "source": [
    "***\n",
    "## Visualisation\n",
    "\n",
    "We covered plotting with Matplotlib in earlier units. Pandas itself\n",
    "implements some convenience wrappers around Matplotlib plotting routines\n",
    "which allow us to quickly inspect data stored in `DataFrames`.\n",
    "We can or course alternatively extract the numerical data add pass it\n",
    "to Matplotlib's routines instead.\n",
    "\n",
    "For example, to plot student numbers as a bar chart, we can directly\n",
    "use Pandas:"
   ],
   "metadata": {
    "collapsed": false,
    "pycharm": {
     "name": "#%% md\n"
    }
   }
  },
  {
   "cell_type": "code",
   "execution_count": null,
   "outputs": [],
   "source": [
    "import pandas as pd\n",
    "\n",
    "df = pd.read_csv('../data/universities.csv', sep=';')\n",
    "\n",
    "# set institution as label so they automatically show up in plot\n",
    "df2 = df.set_index(keys=['Institution'])\n",
    "df2['Students'].plot(kind='bar')"
   ],
   "metadata": {
    "collapsed": false,
    "pycharm": {
     "name": "#%%\n"
    }
   }
  },
  {
   "cell_type": "markdown",
   "source": [
    "Alternatively, we can construct the graph using Matplotlib ourselves:"
   ],
   "metadata": {
    "collapsed": false,
    "pycharm": {
     "name": "#%% md\n"
    }
   }
  },
  {
   "cell_type": "code",
   "execution_count": null,
   "outputs": [],
   "source": [
    "import matplotlib.pyplot as plt\n",
    "\n",
    "labels = df['Institution'].to_list()        # labels as list\n",
    "values = df['Students'].to_numpy()          # data as NumPy array\n",
    "plt.bar(labels, values)\n",
    "plt.tick_params(axis='x', labelrotation=90)"
   ],
   "metadata": {
    "collapsed": false,
    "pycharm": {
     "name": "#%%\n"
    }
   }
  },
  {
   "cell_type": "markdown",
   "source": [
    "Sometimes Matplotlib's routines directly work with pandas's data structures,\n",
    "sometimes they don't. We can convert a `DataFrame` or `Series` object\n",
    "to a NumPy array using the `to_numpy()` method, and convert a `Series`\n",
    "to a Python list using `to_list()`, as illustrated in the example above.\n",
    "\n",
    "\n",
    "To plot timeseries-like data, we can use the `plot()` method,\n",
    "which optionally accepts arguments to specify which columns\n",
    "should be used for the x-axis and which for the y-axis:"
   ],
   "metadata": {
    "collapsed": false,
    "pycharm": {
     "name": "#%% md\n"
    }
   }
  },
  {
   "cell_type": "code",
   "execution_count": null,
   "outputs": [],
   "source": [
    "import numpy as np\n",
    "import pandas as pd\n",
    "\n",
    "# Instantiate RNG\n",
    "rng = np.random.default_rng(123)\n",
    "\n",
    "# Create pandas DataFrame\n",
    "nobs = 50\n",
    "df = pd.DataFrame({'A': np.arange(nobs), 'B': rng.normal(size=nobs)})\n",
    "\n",
    "df.plot(x='A', y='B')       # plot A on x-axis, B on y-axis"
   ],
   "metadata": {
    "collapsed": false,
    "pycharm": {
     "name": "#%%\n"
    }
   }
  },
  {
   "cell_type": "markdown",
   "source": [
    "To quickly generate some descriptive statistics, we can use\n",
    "the built-in box plot:"
   ],
   "metadata": {
    "collapsed": false,
    "pycharm": {
     "name": "#%% md\n"
    }
   }
  },
  {
   "cell_type": "code",
   "execution_count": 16,
   "outputs": [
    {
     "data": {
      "text/plain": "<AxesSubplot:>"
     },
     "execution_count": 16,
     "metadata": {},
     "output_type": "execute_result"
    },
    {
     "data": {
      "text/plain": "<Figure size 432x288 with 1 Axes>",
      "image/png": "[encoded data removed]",
      "application/pdf": "[encoded data removed]"
     },
     "metadata": {
      "needs_background": "light"
     },
     "output_type": "display_data"
    }
   ],
   "source": [
    "import numpy as np\n",
    "import pandas as pd\n",
    "\n",
    "# Instantiate RNG\n",
    "rng = np.random.default_rng(123)\n",
    "\n",
    "# Create pandas DataFrame\n",
    "df = pd.DataFrame(rng.normal(size=(100, 5)),\n",
    "                  columns=['A', 'B', 'C', 'D', 'E'])\n",
    "\n",
    "df.plot.box()           # same as df.plot(kind='box)"
   ],
   "metadata": {
    "collapsed": false,
    "pycharm": {
     "name": "#%%\n"
    }
   }
  },
  {
   "cell_type": "markdown",
   "source": [
    "Similarly, you can generate scatter plots, plotting one column\n",
    "against another:"
   ],
   "metadata": {
    "collapsed": false,
    "pycharm": {
     "name": "#%% md\n"
    }
   }
  },
  {
   "cell_type": "code",
   "execution_count": 24,
   "outputs": [
    {
     "data": {
      "text/plain": "<AxesSubplot:xlabel='A', ylabel='E'>"
     },
     "execution_count": 24,
     "metadata": {},
     "output_type": "execute_result"
    },
    {
     "data": {
      "text/plain": "<Figure size 432x288 with 1 Axes>",
      "image/png": "[encoded data removed]",
      "application/pdf": "[encoded data removed]"
     },
     "metadata": {
      "needs_background": "light"
     },
     "output_type": "display_data"
    }
   ],
   "source": [
    "# Create pandas DataFrame\n",
    "df = pd.DataFrame(rng.uniform(size=(100, 5)),\n",
    "                  columns=['A', 'B', 'C', 'D', 'E'])\n",
    "\n",
    "df.plot.scatter(x='A', y='E', label='Pandas scatter plot')"
   ],
   "metadata": {
    "collapsed": false,
    "pycharm": {
     "name": "#%%\n"
    }
   }
  },
  {
   "cell_type": "code",
   "execution_count": 25,
   "outputs": [
    {
     "data": {
      "text/plain": "<AxesSubplot:xlabel='A', ylabel='E'>"
     },
     "execution_count": 25,
     "metadata": {},
     "output_type": "execute_result"
    },
    {
     "data": {
      "text/plain": "<Figure size 432x288 with 1 Axes>",
      "image/png": "[encoded data removed]",
      "application/pdf": "[encoded data removed]"
     },
     "metadata": {
      "needs_background": "light"
     },
     "output_type": "display_data"
    }
   ],
   "source": [
    "# You can even use a column to specify the dot size!\n",
    "df.plot.scatter(x='A', y='E', s=df['B']*100.0)"
   ],
   "metadata": {
    "collapsed": false,
    "pycharm": {
     "name": "#%%\n"
    }
   }
  },
  {
   "cell_type": "markdown",
   "source": [
    "In general, the wrappers implemented in Pandas are useful to\n",
    "get an idea how the data looks like. For reusable code or more\n",
    "complex graphs you'll usually want to directly use Matplotlib\n",
    "and pass the data convert to NumPy arrays."
   ],
   "metadata": {
    "collapsed": false,
    "pycharm": {
     "name": "#%% md\n"
    }
   }
  },
  {
   "cell_type": "markdown",
   "source": [
    "***\n",
    "# Exercises\n"
   ],
   "metadata": {
    "collapsed": false,
    "pycharm": {
     "name": "#%% md\n"
    }
   }
  },
  {
   "cell_type": "markdown",
   "source": [
    "***\n",
    "# Solutions"
   ],
   "metadata": {
    "collapsed": false,
    "pycharm": {
     "name": "#%% md\n"
    }
   }
  }
 ],
 "metadata": {
  "kernelspec": {
   "name": "pycharm-b08fdce2",
   "language": "python",
   "display_name": "PyCharm (python-statistics)"
  },
  "language_info": {
   "codemirror_mode": {
    "name": "ipython",
    "version": 2
   },
   "file_extension": ".py",
   "mimetype": "text/x-python",
   "name": "python",
   "nbconvert_exporter": "python",
   "pygments_lexer": "ipython2",
   "version": "2.7.6"
  }
 },
 "nbformat": 4,
 "nbformat_minor": 0
}