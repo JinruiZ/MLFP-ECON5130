{
 "cells": [
  {
   "cell_type": "markdown",
   "metadata": {
    "collapsed": true,
    "pycharm": {
     "name": "#%% md\n"
    }
   },
   "source": [
    "# Unit 3: Resuing code - Functions, modules and packages\n",
    "\n",
    "In this unit we shows how to built reusable code with functions.\n",
    "We will also briefly discuss modules and packages.\n",
    "\n",
    "## Functions\n",
    "\n",
    "Functions are used to implement code that performs a narrowly\n",
    "defined task. We use functions for two reasons:\n",
    "1. A function can be called repeatedly without having to\n",
    "    write code again and again.\n",
    "2. Even if a function is not called frequently, functions\n",
    "    allow us to write code that is \"shielded\" from other code\n",
    "    you write, and is called via a clean interface.\n",
    "    This helps to write more robust and error-free code.\n",
    "\n",
    "Functions are defined using the `def` keyword, and the function\n",
    "body needs to be an indented block:"
   ]
  },
  {
   "cell_type": "code",
   "execution_count": null,
   "outputs": [],
   "source": [
    "def func():\n",
    "    print('func called')\n",
    "\n",
    "# invoke func without arguments\n",
    "func()"
   ],
   "metadata": {
    "collapsed": false,
    "pycharm": {
     "name": "#%%\n"
    }
   }
  },
  {
   "cell_type": "markdown",
   "source": [
    "### Arguments\n",
    "Functions specify an arbitrary number of positional arguments\n",
    "(also called parameters)."
   ],
   "metadata": {
    "collapsed": false,
    "pycharm": {
     "name": "#%% md\n"
    }
   }
  },
  {
   "cell_type": "code",
   "source": [
    "# Define func to accept argument x\n",
    "def func(x):\n",
    "    print('func called with argument {}'.format(x))\n",
    "\n",
    "# call function with various arguments.\n",
    "func(1)\n",
    "func('foo')"
   ],
   "metadata": {
    "collapsed": false,
    "pycharm": {
     "name": "#%%\n"
    }
   },
   "execution_count": 1,
   "outputs": [
    {
     "name": "stdout",
     "output_type": "stream",
     "text": [
      "func called with argument 1\n",
      "func called with argument foo\n"
     ]
    }
   ]
  },
  {
   "cell_type": "markdown",
   "source": [
    "### Return values\n",
    "Functions can also return value to their caller using\n",
    "the `return` statement."
   ],
   "metadata": {
    "collapsed": false,
    "pycharm": {
     "name": "#%% md\n"
    }
   }
  },
  {
   "cell_type": "code",
   "execution_count": 6,
   "outputs": [
    {
     "name": "stdout",
     "output_type": "stream",
     "text": [
      "2.0\n"
     ]
    }
   ],
   "source": [
    "def func(x):\n",
    "    return x * 2.0\n",
    "\n",
    "result = func(1.0)\n",
    "print(result) # prints 2.0"
   ],
   "metadata": {
    "collapsed": false,
    "pycharm": {
     "name": "#%%\n"
    }
   }
  },
  {
   "cell_type": "markdown",
   "source": [
    "A `return` statement without any argument immediately exits the functions.\n",
    "The default return value is the special type `None`."
   ],
   "metadata": {
    "collapsed": false,
    "pycharm": {
     "name": "#%% md\n"
    }
   }
  },
  {
   "cell_type": "markdown",
   "source": [
    "### Accessing data from outside scope\n",
    "A function need not have arguments or a return value, but that limits its usefulness\n",
    "somewhat. However, a function can access outside data:"
   ],
   "metadata": {
    "collapsed": false,
    "pycharm": {
     "name": "#%% md\n"
    }
   }
  },
  {
   "cell_type": "code",
   "execution_count": 3,
   "outputs": [
    {
     "name": "stdout",
     "output_type": "stream",
     "text": [
      "func accessing x from outer scope: 1.0\n"
     ]
    }
   ],
   "source": [
    "x = 1.0\n",
    "def func():\n",
    "    # Read x from outer scope\n",
    "    print('func accessing x from outer scope: {}'.format(x))\n",
    "\n",
    "# prints value of x from within func()\n",
    "func()"
   ],
   "metadata": {
    "collapsed": false,
    "pycharm": {
     "name": "#%%\n"
    }
   }
  },
  {
   "cell_type": "markdown",
   "source": [
    "While we can write functions without any arguments\n",
    "that only operate on outside data, this is terrible programming\n",
    "practice and should be avoided in most cases.\n",
    "\n",
    "Because functions can operate on external data,\n",
    "they are no analogous to mathematical functions. If we write\n",
    "$f(x)$, we usually mean that $f$ is a function of $x$ only\n",
    "(and possibly some constant parameters).\n",
    "By definition we must have\n",
    "$$x_1 = x_2 \\Longrightarrow f(x_1) = f(x_2),$$\n",
    "but his is not the case in Python, or most other programming\n",
    "languages:"
   ],
   "metadata": {
    "collapsed": false,
    "pycharm": {
     "name": "#%% md\n"
    }
   }
  },
  {
   "cell_type": "code",
   "execution_count": 5,
   "outputs": [
    {
     "name": "stdout",
     "output_type": "stream",
     "text": [
      "1.0\n",
      "2.0\n"
     ]
    }
   ],
   "source": [
    "a = 1.0\n",
    "def func(x):\n",
    "    return a*x\n",
    "\n",
    "x = 1.0\n",
    "print(func(x)) # prints 1.0\n",
    "\n",
    "a = 2.0\n",
    "print(func(x)) # prints 2.0"
   ],
   "metadata": {
    "collapsed": false,
    "pycharm": {
     "name": "#%%\n"
    }
   }
  },
  {
   "cell_type": "markdown",
   "source": [
    "### More on arguments\n",
    "\n",
    "#### Default arguments\n",
    "\n",
    "Python offers an extremely convient way to specify default values\n",
    "for arguments so these need to be specified when the function is called:"
   ],
   "metadata": {
    "collapsed": false,
    "pycharm": {
     "name": "#%% md\n"
    }
   }
  },
  {
   "cell_type": "code",
   "execution_count": 7,
   "outputs": [
    {
     "name": "stdout",
     "output_type": "stream",
     "text": [
      "2.0\n",
      "2.0\n"
     ]
    }
   ],
   "source": [
    "def func(x, alpha=1.0):\n",
    "    return x * alpha\n",
    "\n",
    "print(func(2.0, 1.0))   # explicitly specified optional argument\n",
    "print(func(2.0))        # uses default value of alpha"
   ],
   "metadata": {
    "collapsed": false,
    "pycharm": {
     "name": "#%%\n"
    }
   }
  },
  {
   "cell_type": "markdown",
   "source": [
    "#### Arbitrary number of optional arguments\n",
    "Python supports function which can accept an arbitrary number of positional\n",
    "and keywork arguments. This is accomplished via two special\n",
    "argument specifications that need to be placed at the end of the argument list:\n",
    "- `*args`: collects any number of \"excess\" positional arguments and packs\n",
    "    them into a tuple.\n",
    "- `**kwargs`: collects any number of \"excess\" keyword arguments and packs them\n",
    "    into a dictionary."
   ],
   "metadata": {
    "collapsed": false,
    "pycharm": {
     "name": "#%% md\n"
    }
   }
  },
  {
   "cell_type": "code",
   "execution_count": 13,
   "outputs": [],
   "source": [
    "# Define function with mandatory, optional, optional position\n",
    "# and optional keyword arguments\n",
    "\n",
    "def func(x, opt='default',  *args, **kwargs):\n",
    "    print('Mandatory positional argument x: {}'.format(x))\n",
    "    print('Optional named argument opt: {}'.format(opt))\n",
    "    if args:\n",
    "        # if the tuple 'args' is non-empty, print its contents\n",
    "        print('Optional unnamed positional arguments:')\n",
    "        for arg in args:\n",
    "            print('  {}'.format(arg))\n",
    "    if kwargs:\n",
    "        # if the dictionary 'kwargs' is non-empty, print its contents\n",
    "        print('Optional keyword arguments:')\n",
    "        for key, value in kwargs.items():\n",
    "            print('  {}: {}'.format(key, value))"
   ],
   "metadata": {
    "collapsed": false,
    "pycharm": {
     "name": "#%%\n"
    }
   }
  },
  {
   "cell_type": "code",
   "execution_count": null,
   "outputs": [],
   "source": [
    "# Call only with mandatory positional argument\n",
    "func(0)"
   ],
   "metadata": {
    "collapsed": false,
    "pycharm": {
     "name": "#%%\n"
    }
   }
  },
  {
   "cell_type": "code",
   "execution_count": null,
   "outputs": [],
   "source": [
    "# Call with mandatory and optional named arguments\n",
    "func(0, 'optional')"
   ],
   "metadata": {
    "collapsed": false,
    "pycharm": {
     "name": "#%%\n"
    }
   }
  },
  {
   "cell_type": "code",
   "execution_count": null,
   "outputs": [],
   "source": [
    "# Call with mandatory and optional named arguments, and\n",
    "# optional positional arguments\n",
    "func(0, 'optional', 1, 2, 3)"
   ],
   "metadata": {
    "collapsed": false,
    "pycharm": {
     "name": "#%%\n"
    }
   }
  },
  {
   "cell_type": "code",
   "execution_count": 14,
   "outputs": [
    {
     "name": "stdout",
     "output_type": "stream",
     "text": [
      "Mandatory positional argument x: 0\n",
      "Optional named argument opt: optional\n",
      "Optional unnamed positional arguments:\n",
      "  1\n",
      "  2\n",
      "  3\n",
      "Optional keyword arguments:\n",
      "  arg1: value1\n",
      "  arg2: value2\n"
     ]
    }
   ],
   "source": [
    "# Call with mandatory and optional named arguments, and\n",
    "# optional positional and keyword arguments\n",
    "func(0, 'optional', 1, 2, 3, arg1='value1', arg2='value2')"
   ],
   "metadata": {
    "collapsed": false,
    "pycharm": {
     "name": "#%%\n"
    }
   }
  },
  {
   "cell_type": "markdown",
   "source": [
    "As you see from the above example, we don't even need\n",
    "to specify arguments in the order they are defined\n",
    "in the function, except for optioanl positional arguments.\n",
    "We can just use the `name=value` syntax:"
   ],
   "metadata": {
    "collapsed": false,
    "pycharm": {
     "name": "#%% md\n"
    }
   }
  },
  {
   "cell_type": "code",
   "execution_count": 10,
   "outputs": [
    {
     "name": "stdout",
     "output_type": "stream",
     "text": [
      "Mandatory positional argument x: 1\n",
      "Optional named argument opt: optional value\n"
     ]
    }
   ],
   "source": [
    "# call func() with interchanged order\n",
    "func(opt='optional value', x=1)"
   ],
   "metadata": {
    "collapsed": false,
    "pycharm": {
     "name": "#%%\n"
    }
   }
  },
  {
   "cell_type": "markdown",
   "source": [
    "### Pass by value or pass by reference?\n",
    "Can functions modify their arguments? This questions\n",
    "usually comes down to whether the a function call uses\n",
    "*pass by value* or *pass by reference*:\n",
    "- *pass by value* means that a copy of every argument is\n",
    "  created before it is passed into the function. A function\n",
    "  therefore cannot modify a value at the call site.\n",
    "- *pass by reference* means that only a reference to a value\n",
    "  is passed to the function, so the function can directly\n",
    "  modify values at the call site.\n",
    "\n",
    "This programming model is used in languages such as C\n",
    "(pass by value) or Fortran (pass by reference), but not in\n",
    "Python. In Python, the reference (\"variable name\") is passed\n",
    "by value. This means assigning a different value\n",
    "to an argument within a function has no effect outside of the\n",
    "function:"
   ],
   "metadata": {
    "collapsed": false,
    "pycharm": {
     "name": "#%% md\n"
    }
   }
  },
  {
   "cell_type": "code",
   "execution_count": 15,
   "outputs": [
    {
     "data": {
      "text/plain": "123"
     },
     "execution_count": 15,
     "metadata": {},
     "output_type": "execute_result"
    }
   ],
   "source": [
    "def func(x):\n",
    "    # x now points to something else\n",
    "    x = 1.0\n",
    "    return x\n",
    "\n",
    "x = 123\n",
    "func(x)\n",
    "\n",
    "x # prints 123, x in the outer scope is unchanged"
   ],
   "metadata": {
    "collapsed": false,
    "pycharm": {
     "name": "#%%\n"
    }
   }
  },
  {
   "cell_type": "markdown",
   "source": [
    "However, if a variable is a mutable object (such as a `list` or a `dict`), the function\n",
    "can use its own copy of the reference to that object\n",
    "to modify it even in the outer scope."
   ],
   "metadata": {
    "collapsed": false,
    "pycharm": {
     "name": "#%% md\n"
    }
   }
  },
  {
   "cell_type": "code",
   "execution_count": 16,
   "outputs": [
    {
     "data": {
      "text/plain": "[1, 2, 3, 4]"
     },
     "execution_count": 16,
     "metadata": {},
     "output_type": "execute_result"
    }
   ],
   "source": [
    "def func(x):\n",
    "    # uses reference x to modify list object outside of func()\n",
    "    x.append(4)\n",
    "\n",
    "lst = [1,2,3]\n",
    "func(lst)\n",
    "lst # prints [1,2,3,4]"
   ],
   "metadata": {
    "collapsed": false,
    "pycharm": {
     "name": "#%%\n"
    }
   }
  },
  {
   "cell_type": "markdown",
   "source": [
    "However, even for mutable objects the rule from before applies:\n",
    "when a new value is *assigned* to an argument, it simply\n",
    "references a different object, leaving the original object\n",
    "unmodified."
   ],
   "metadata": {
    "collapsed": false,
    "pycharm": {
     "name": "#%% md\n"
    }
   }
  },
  {
   "cell_type": "code",
   "execution_count": 17,
   "outputs": [
    {
     "data": {
      "text/plain": "[1, 2, 3]"
     },
     "execution_count": 17,
     "metadata": {},
     "output_type": "execute_result"
    }
   ],
   "source": [
    "def func(x):\n",
    "    # this does not modify object in outer scope,\n",
    "    # x now references a new (local) object.\n",
    "    x = [5,6,7]\n",
    "\n",
    "lst = [1,2,3]\n",
    "func(x)\n",
    "\n",
    "lst # prints [1,2,3]"
   ],
   "metadata": {
    "collapsed": false,
    "pycharm": {
     "name": "#%%\n"
    }
   }
  },
  {
   "cell_type": "markdown",
   "source": [
    "### Methods\n",
    "Methods are simply functions that perform an action on a\n",
    "particular object which they are bound to.\n",
    "We will not write methods in this tutorial ourselves\n",
    "(they are part of what's called object-oriented programming),\n",
    "but we frequently use them when we invoke\n",
    "actions on various objects such as lists.\n",
    "\n",
    "For example:"
   ],
   "metadata": {
    "collapsed": false,
    "pycharm": {
     "name": "#%% md\n"
    }
   }
  },
  {
   "cell_type": "code",
   "execution_count": 18,
   "outputs": [
    {
     "data": {
      "text/plain": "[1, 2, 3, 4]"
     },
     "execution_count": 18,
     "metadata": {},
     "output_type": "execute_result"
    }
   ],
   "source": [
    "# Create a list\n",
    "lst = [1,2,3]\n",
    "# append() is a method of the list class and can be invoked\n",
    "# on list objects.\n",
    "lst.append(4)\n",
    "lst"
   ],
   "metadata": {
    "collapsed": false,
    "pycharm": {
     "name": "#%%\n"
    }
   }
  },
  {
   "cell_type": "markdown",
   "source": [
    "### Functions as objects\n",
    "Functions are objects in their own right, which means that you\n",
    "can perform various operations with them:\n",
    "- Assign a function to a variable\n",
    "- Store functions in collections\n",
    "- Pass function as an argument to other functions"
   ],
   "metadata": {
    "collapsed": false,
    "pycharm": {
     "name": "#%% md\n"
    }
   }
  },
  {
   "cell_type": "code",
   "execution_count": 19,
   "outputs": [
    {
     "name": "stdout",
     "output_type": "stream",
     "text": [
      "func1 called with foo\n",
      "func2 called with foo\n"
     ]
    }
   ],
   "source": [
    "def func1(x):\n",
    "    print('func1 called with argument {}'.format(x))\n",
    "\n",
    "def func2(x):\n",
    "    print('func2 called with argument {}'.format(x))\n",
    "\n",
    "\n",
    "# List of functions\n",
    "funcs = [func1, func2]\n",
    "\n",
    "# Assign functions to variable f\n",
    "for f in funcs:\n",
    "    # call function referenced by f\n",
    "    f('foo')"
   ],
   "metadata": {
    "collapsed": false,
    "pycharm": {
     "name": "#%%\n"
    }
   }
  },
  {
   "cell_type": "code",
   "execution_count": 20,
   "outputs": [
    {
     "name": "stdout",
     "output_type": "stream",
     "text": [
      "func1 called with <function func2 at 0x7f9fb7f7d4d0>\n"
     ]
    }
   ],
   "source": [
    "# Pass one function as argument to another function\n",
    "func1(func2)"
   ],
   "metadata": {
    "collapsed": false,
    "pycharm": {
     "name": "#%%\n"
    }
   }
  },
  {
   "cell_type": "markdown",
   "source": [
    "### lambda expressions\n",
    "\n",
    "You can think of lambda expressions as light-weight functions.\n",
    "The syntax is\n",
    "```\n",
    "lambda x: <do something with x>\n",
    "```\n",
    "The return value of a lambda expression is whatever\n",
    "its body evaluates to. There is no need (or possibility)\n",
    "to explicitly add a `return` statement.\n",
    "\n",
    "One big difference to regular functions is that\n",
    "lambda expressions are expressions, not statements.\n",
    "So we can fiddle in lambda expressions almost anywhere,\n",
    "even as arguments in function calls!\n",
    "\n",
    "For example, we might have a function that applies some\n",
    "algebraic operation to its arguments, and the\n",
    "operation can be flexibly defined by the caller."
   ],
   "metadata": {
    "collapsed": false,
    "pycharm": {
     "name": "#%% md\n"
    }
   }
  },
  {
   "cell_type": "code",
   "execution_count": 21,
   "outputs": [
    {
     "data": {
      "text/plain": "[2.0, 3.0, 4.0]"
     },
     "execution_count": 21,
     "metadata": {},
     "output_type": "execute_result"
    }
   ],
   "source": [
    "def func(items, operation=lambda z: z + 1):\n",
    "    # default operation: increment value by 1\n",
    "    result = [operation(i) for i in items]\n",
    "    return result\n",
    "\n",
    "numbers = [1.0, 2.0, 3.0]\n",
    "# call with default operation\n",
    "func(numbers)  # prints [2.0, 3.0, 4.0]"
   ],
   "metadata": {
    "collapsed": false,
    "pycharm": {
     "name": "#%%\n"
    }
   }
  },
  {
   "cell_type": "code",
   "execution_count": 22,
   "outputs": [
    {
     "data": {
      "text/plain": "[1.0, 4.0, 9.0]"
     },
     "execution_count": 22,
     "metadata": {},
     "output_type": "execute_result"
    }
   ],
   "source": [
    "# We can also use lambda expressions to specify\n",
    "# an alternative operation directly in the call!\n",
    "\n",
    "func(numbers, lambda x: x**2.0) # prints [1.0, 4.0, 9.0]"
   ],
   "metadata": {
    "collapsed": false,
    "pycharm": {
     "name": "#%%\n"
    }
   }
  },
  {
   "cell_type": "markdown",
   "source": [
    "While we could of course have defined the operation\n",
    "using a \"regular\" function statement, this is shorter.\n"
   ],
   "metadata": {
    "collapsed": false,
    "pycharm": {
     "name": "#%% md\n"
    }
   }
  },
  {
   "cell_type": "markdown",
   "source": [
    "## Modules and packages\n",
    "\n",
    "### Modules\n",
    "Modules allow us to further encapsulate code that implements\n",
    "some particular functionality. Each Python file (with the extension `.py`)\n",
    "automatically corresponds to a module.\n",
    "\n",
    "To actually demonstrate the usage of modules, we'd need to\n",
    "work with Python files directly instead of the Jupyter notebooks we\n",
    "are using. Imagine, therefore, that we have the following\n",
    "files:\n",
    "```\n",
    "project/\n",
    "    file1.py\n",
    "    file2.py\n",
    "```\n",
    "\n",
    "The Python script `file1.py` contains the following\n",
    "definitions:\n",
    "```\n",
    "# Contents of file1.py\n",
    "\n",
    "# global variable in module file1\n",
    "var = 1\n",
    "\n",
    "def func():\n",
    "    print('func in module file1 called')\n",
    "```\n",
    "\n",
    "We now want to use `func` and `var` in `file2.py`.\n",
    "However, by default these symbols are not visible in `file2.py`\n",
    "and first need to be imported.\n",
    "We can do this in several ways:\n",
    "1. We can import the module and use fully qualified names\n",
    "   to reference objects from `file1`.\n",
    "1. We can select which names from `file1` should be directly\n",
    "   accessible in `file2`\n",
    "\n",
    "The first variant looks like this:\n",
    "```\n",
    "# Contents of file2.py\n",
    "\n",
    "import file1\n",
    "\n",
    "# Access variable defined in file1\n",
    "print(file1.var)\n",
    "\n",
    "# Call function defined in file1\n",
    "file1.func()\n",
    "```\n",
    "If a symbol from `file1` is used frequently, we might\n",
    "want to make it accessible without the `file1` prefix. This\n",
    "is the second variant:\n",
    "```\n",
    "# Contents of file2.py\n",
    "\n",
    "from file1 import var, func\n",
    "\n",
    "# Access variable defined in file1\n",
    "print(var)\n",
    "\n",
    "# Call function defined in file1\n",
    "func()\n",
    "```\n",
    "\n",
    "What if `file2.py` itself defines a function `func()` which\n",
    "would overwrite the reference to the one imported from\n",
    "`file1`? In such a scenario, we can assign aliases to\n",
    "imported symbols using `as`:\n",
    "```\n",
    "# Contents of file2.py\n",
    "\n",
    "from file1 import func as file1_func\n",
    "\n",
    "def func():\n",
    "    print('func in module file2 called')\n",
    "\n",
    "# call our own func\n",
    "func()\n",
    "\n",
    "# call func from module file1\n",
    "file1_func()\n",
    "```\n",
    "\n",
    "### Packages\n",
    "\n",
    "Packages are roughly speaking collections of modules and a\n",
    "little magic on top. We will not be creating packages in\n",
    "this tutorial, but we have already been using them:\n",
    "basically everything besides the built-in\n",
    "functions is defined in some package. For example, the NumPy\n",
    "library is a collection of packages."
   ],
   "metadata": {
    "collapsed": false,
    "pycharm": {
     "name": "#%% md\n"
    }
   }
  },
  {
   "cell_type": "markdown",
   "source": [
    "# Exercises\n",
    "\n",
    "## Exercise 1: Fibonacci sequence\n",
    "A classical introductory exercise to programming is to write\n",
    "a function that returns the first $n$ terms of the Fibonacci\n",
    "sequence. The $i$-th element of this sequence is the interger\n",
    "$x_i$ defined as\n",
    "\n",
    "\\begin{align} x_0&=0   \\\\\n",
    "x_1 &= 1  \\\\\n",
    "x_i &= x_{i-1} + x_{i-2} \\qquad \\text{if } i \\geq 2\n",
    "\\end{align}\n",
    "\n",
    "1. Write a function\n",
    "```\n",
    "def fibonacci(i):\n",
    "    ...\n",
    "```\n",
    "which returns the $i$-th item in the sequence using recursion.\n",
    "A recursive function is a function that calls itself to\n",
    "perform (part of) its task, ie. you should compute $x_i$ like this:\n",
    "```\n",
    "xi = fibonacci(i-1) + fibonnaci(i-2)\n",
    "```\n",
    "2. Use this function to create a list of the first 10 elements\n",
    "   of this sequence. Implement this as a list comprehension.\n",
    "\n",
    "## Exercise 2: Factorials\n",
    "\n",
    "1. Define a function that computes the factorial of a non-negative\n",
    "    integer $n$ defined as $n! = \\prod_{i=1}^n i$. Keep in mind that\n",
    "    this definition implies that $0! = 1$.\n",
    "    Use the list comprehension syntax to create a tuple that contains the\n",
    "    factorials for the integers $n=1,\\dots,10$.\n",
    "\n",
    "    *Hint:* The factorial can be written as a recurrence relation\n",
    "    $n! = n \\cdot (n-1)!$, which you can use to implement\n",
    "    the recursive function.\n",
    "\n",
    "\n",
    "2. Provide an alternative implementation that does not rely on\n",
    "    recursion, but instead uses NumPy's `prod()` function\n",
    "    to compute the product of a sequence of numbers.\n",
    "    Again, create a `tuple` that contains the factorials\n",
    "    for the integers $n=1,\\dots,10$ using a list comprehension.\n",
    "\n",
    "    *Hint 1:* To compute the product of the integers\n",
    "    $i,i+1,\\dots,j$, you can use `np.prod(range(i,j+1))`.\n",
    "\n",
    "    *Hint 2:* The product of an empty set is 1, which is what\n",
    "    `np.prod()` returns.\n",
    "\n",
    "\n",
    "## Exercise 3: Bisection root-finding algorithm (advanced)\n",
    "\n",
    "We revisit the binary search algorithm from unit 2, this time applied\n",
    "to finding the root of a continuous function. This is called\n",
    "the [bisection method](https://en.wikipedia.org/wiki/Bisection_method).\n",
    "\n",
    "Implement a function `bisection(f, a, b, tol, xtol)`\n",
    "which finds the root of the function $f(x)$, ie. the value $x_0$\n",
    "where $f(x_0) = 0$, on the interval $[a,b]$. Assume that $a<b$ and\n",
    "that the function values $f(a)$ and $f(b)$ have opposite signs.\n",
    "\n",
    "Test your implementation using the function $f(x) = x^2 - 4$ on the\n",
    "interval $[-3,0]$, which has a (unique) root at $x_0 = -2$.\n",
    "\n",
    "*Hint:* The bisection algorithm proceeds as follows.\n",
    "1.  Define tolerance levels $\\epsilon > 0$ and $\\epsilon_x > 0$. The algorithm\n",
    "    completes successfully whenever we have either $|f(x_0)| < \\epsilon$\n",
    "    or $|b-a|<\\epsilon_x$.\n",
    "2.  Main loop of the algorithm:\n",
    "    1.  Compute midpoint $x_m = (a+b)/2.0$\n",
    "    2.  Compute function value $f_m = f(x_m)$\n",
    "    3.  If either $|f_m| < \\epsilon$ or $|b-a|< \\epsilon_x$, accept $x_m$\n",
    "        as the solution and exit.\n",
    "    4.  Otherwise, update either $a$ or $b$:\n",
    "        1.  If $sign(f(b)) = sign(f_m)$, set $b = x_m$\n",
    "\n",
    "            *Hint:* One way to check whether two non-zero values have the\n",
    "            same sign is to check if $f(b) \\cdot f_m > 0$.\n",
    "        2.  Otherwise, $a = x_m$\n",
    "    5.  Proceed to next iteration of main loop.\n"
   ],
   "metadata": {
    "collapsed": false,
    "pycharm": {
     "name": "#%% md\n"
    }
   }
  },
  {
   "cell_type": "markdown",
   "source": [
    "# Solutions\n",
    "\n",
    "## Exercise 1: Fibonacci sequence\n",
    "\n",
    "The recursive definition of `fibonacci(i)` could look like this:"
   ],
   "metadata": {
    "collapsed": false,
    "pycharm": {
     "name": "#%% md\n"
    }
   }
  },
  {
   "cell_type": "code",
   "execution_count": 24,
   "outputs": [
    {
     "data": {
      "text/plain": "[0, 1, 1, 2, 3, 5, 8, 13, 21, 34]"
     },
     "execution_count": 24,
     "metadata": {},
     "output_type": "execute_result"
    }
   ],
   "source": [
    "def fibonacci(i):\n",
    "    if i == 0:\n",
    "        # No recursion needed\n",
    "        xi = 0\n",
    "    elif i == 1:\n",
    "        # No recursion needed\n",
    "        xi = 1\n",
    "    else:\n",
    "        # Assume that i > 1. We will learn later how to\n",
    "        # return an error if this is not the case.\n",
    "        # Use recursion to compute the two preceding values\n",
    "        # of the sequence.\n",
    "        xi = fibonacci(i-1) + fibonacci(i-2)\n",
    "    return xi\n",
    "\n",
    "# Compute the first 10 elements of the sequence using a list comprehension\n",
    "first10 = [fibonacci(i) for i in range(10)]\n",
    "first10"
   ],
   "metadata": {
    "collapsed": false,
    "pycharm": {
     "name": "#%%\n"
    }
   }
  },
  {
   "cell_type": "markdown",
   "source": [
    "Note that this is a terribly inefficient way to compute things,\n",
    "as the same elements of the sequence will needlessly be calculated\n",
    "over and over again.\n",
    "\n",
    "Also, Python has a built-in recursion limit, so you cannot\n",
    "call a function recursively arbitrarily many times.\n",
    "You can find out what this limit is as follows:"
   ],
   "metadata": {
    "collapsed": false,
    "pycharm": {
     "name": "#%% md\n"
    }
   }
  },
  {
   "cell_type": "code",
   "execution_count": 25,
   "outputs": [
    {
     "name": "stdout",
     "output_type": "stream",
     "text": [
      "3000\n"
     ]
    }
   ],
   "source": [
    "import sys\n",
    "print(sys.getrecursionlimit())"
   ],
   "metadata": {
    "collapsed": false,
    "pycharm": {
     "name": "#%%\n"
    }
   }
  },
  {
   "cell_type": "markdown",
   "source": [
    "## Exercise 2: Factorials\n",
    "\n",
    "The following code shows a function computing the factorial $n!$ using\n",
    "recursion:"
   ],
   "metadata": {
    "collapsed": false,
    "pycharm": {
     "name": "#%% md\n"
    }
   }
  },
  {
   "cell_type": "code",
   "execution_count": 28,
   "outputs": [
    {
     "data": {
      "text/plain": "(1, 1, 2, 6, 24, 120, 720, 5040, 40320, 362880)"
     },
     "execution_count": 28,
     "metadata": {},
     "output_type": "execute_result"
    }
   ],
   "source": [
    "def factorial(n):\n",
    "    if n == 0:\n",
    "        return 1\n",
    "    else:\n",
    "        # Use recursion to compute factorial\n",
    "        return n * factorial(n-1)\n",
    "\n",
    "fact10 = tuple(factorial(n) for n in range(10))\n",
    "fact10"
   ],
   "metadata": {
    "collapsed": false,
    "pycharm": {
     "name": "#%%\n"
    }
   }
  },
  {
   "cell_type": "markdown",
   "source": [
    "An implementation wihtout recursion can be created using\n",
    "the `prod()` function from the `math` module which\n",
    "computes the product of a sequence of numbers:"
   ],
   "metadata": {
    "collapsed": false,
    "pycharm": {
     "name": "#%% md\n"
    }
   }
  },
  {
   "cell_type": "code",
   "execution_count": 41,
   "outputs": [
    {
     "data": {
      "text/plain": "(1, 1, 2, 6, 24, 120, 720, 5040, 40320, 362880)"
     },
     "execution_count": 41,
     "metadata": {},
     "output_type": "execute_result"
    }
   ],
   "source": [
    "import numpy as np\n",
    "fact10 =  tuple(np.prod(np.range(1,n+1)) for n in range(10))\n",
    "fact10"
   ],
   "metadata": {
    "collapsed": false,
    "pycharm": {
     "name": "#%%\n"
    }
   }
  },
  {
   "cell_type": "markdown",
   "source": [
    "Notice that the first element of this sequence is a floating-point\n",
    "value 1.0, while the remaining elements are integers.\n",
    "Why is that? Examine the argument passed to `np.prod()`\n",
    "for `n=0`:"
   ],
   "metadata": {
    "collapsed": false,
    "pycharm": {
     "name": "#%% md\n"
    }
   }
  },
  {
   "cell_type": "code",
   "execution_count": 38,
   "outputs": [
    {
     "data": {
      "text/plain": "()"
     },
     "execution_count": 38,
     "metadata": {},
     "output_type": "execute_result"
    }
   ],
   "source": [
    "n = 0\n",
    "# We have to embed range() in an expression that forces the Python\n",
    "# interpreter to actually expand the range object, such as a tuple().\n",
    "tuple(range(1,n+1))"
   ],
   "metadata": {
    "collapsed": false,
    "pycharm": {
     "name": "#%%\n"
    }
   }
  },
  {
   "cell_type": "markdown",
   "source": [
    "As you see, for `n=0` this is an empty container without elements.\n",
    "The mathematical convention is that the product over an empty\n",
    "set is\n",
    "$\\prod_{i \\in \\emptyset} = 1$, and this is exactly\n",
    "what `np.prod()` returns. However, by default NumPy creates\n",
    "floating-point values, and so the return value is 1.0, not 1.\n",
    "\n",
    "You can get around this by explicitly specifying the\n",
    "data type using the `dtype` argument, which is accepting\n",
    "by many NumPy functions."
   ],
   "metadata": {
    "collapsed": false,
    "pycharm": {
     "name": "#%% md\n"
    }
   }
  },
  {
   "cell_type": "code",
   "execution_count": 39,
   "outputs": [
    {
     "data": {
      "text/plain": "(1, 1, 2, 6, 24, 120, 720, 5040, 40320, 362880)"
     },
     "execution_count": 39,
     "metadata": {},
     "output_type": "execute_result"
    }
   ],
   "source": [
    "import numpy as np\n",
    "# Force result to be of integer type\n",
    "fact10 =  tuple(np.prod(range(1,n+1), dtype=np.int) for n in range(10))\n",
    "fact10"
   ],
   "metadata": {
    "collapsed": false,
    "pycharm": {
     "name": "#%%\n"
    }
   }
  },
  {
   "cell_type": "markdown",
   "source": [
    "Alternatively, we can use `np.arange()` instead of `range()` as\n",
    "the former by default returns integer arrays, even if they are empty:"
   ],
   "metadata": {
    "collapsed": false,
    "pycharm": {
     "name": "#%% md\n"
    }
   }
  },
  {
   "cell_type": "code",
   "execution_count": 42,
   "outputs": [
    {
     "data": {
      "text/plain": "(1, 1, 2, 6, 24, 120, 720, 5040, 40320, 362880)"
     },
     "execution_count": 42,
     "metadata": {},
     "output_type": "execute_result"
    }
   ],
   "source": [
    "import numpy as np\n",
    "# Force result to be of integer type\n",
    "fact10 =  tuple(np.prod(np.arange(1,n+1)) for n in range(10))\n",
    "fact10"
   ],
   "metadata": {
    "collapsed": false,
    "pycharm": {
     "name": "#%%\n"
    }
   }
  },
  {
   "cell_type": "markdown",
   "source": [
    "Finally, you of course would not need to implement the\n",
    "factorial function yourself, as there is one in the `math` module\n",
    "shipped with Python:"
   ],
   "metadata": {
    "collapsed": false,
    "pycharm": {
     "name": "#%% md\n"
    }
   }
  },
  {
   "cell_type": "code",
   "execution_count": 40,
   "outputs": [
    {
     "data": {
      "text/plain": "(1, 1, 2, 6, 24, 120, 720, 5040, 40320, 362880)"
     },
     "execution_count": 40,
     "metadata": {},
     "output_type": "execute_result"
    }
   ],
   "source": [
    "import math\n",
    "fact10 = tuple(math.factorial(n) for n in range(10))\n",
    "fact10\n"
   ],
   "metadata": {
    "collapsed": false,
    "pycharm": {
     "name": "#%%\n"
    }
   }
  },
  {
   "cell_type": "markdown",
   "source": [
    "## Exercise 3: Bisection root-finding algorithm"
   ],
   "metadata": {
    "collapsed": false,
    "pycharm": {
     "name": "#%% md\n"
    }
   }
  },
  {
   "cell_type": "markdown",
   "source": [
    "Below you find a simple implementation of a bisection algorithm.\n",
    "This function does not perform any error checking and assumes that the\n",
    "initial bracket $[a,b]$ actually contains a root, and that\n",
    "the values $f(a)$ and $f(b)$ have opposite signs.\n",
    "\n",
    "Note that we impose two termination criteria, and the algorithm will\n",
    "end successfully whenever one of them is satisfied:\n",
    "1.  The function value is sufficiently close to zero, ie. $|f(x_0)| < \\epsilon$\n",
    "    for some small $\\epsilon > 0$.\n",
    "2.  The bracket is sufficiently small, ie. $|b-a| < \\epsilon_x$, again\n",
    "    for some small $\\epsilon_x > 0$\n",
    "\n",
    "This is standard practice in numerical optimisation since we don't want the\n",
    "algorithm to continue unnecessarily if the desired degree of precision\n",
    "was achieved.\n",
    "\n",
    "We specify the termination tolerance as optional arguments `tol` and `xtol`\n",
    "with sensible defaults. We also add the maximum permissible number\n",
    "of iterations as an optional argument `maxiter`."
   ],
   "metadata": {
    "collapsed": false,
    "pycharm": {
     "name": "#%% md\n"
    }
   }
  },
  {
   "cell_type": "code",
   "execution_count": 12,
   "outputs": [
    {
     "name": "stdout",
     "output_type": "stream",
     "text": [
      "Iteration 0: f(mid) = -1.7500e+00\n",
      "  Updating upper bound to -1.50000000\n",
      "Iteration 1: f(mid) = 1.0625e+00\n",
      "  Updating lower bound to -2.25000000\n",
      "Iteration 2: f(mid) = -4.8438e-01\n",
      "  Updating upper bound to -1.87500000\n",
      "Iteration 3: f(mid) = 2.5391e-01\n",
      "  Updating lower bound to -2.06250000\n",
      "Iteration 4: f(mid) = -1.2402e-01\n",
      "  Updating upper bound to -1.96875000\n",
      "Iteration 5: f(mid) = 6.2744e-02\n",
      "  Updating lower bound to -2.01562500\n",
      "Iteration 6: f(mid) = -3.1189e-02\n",
      "  Updating upper bound to -1.99218750\n",
      "Iteration 7: f(mid) = 1.5640e-02\n",
      "  Updating lower bound to -2.00390625\n",
      "Iteration 8: f(mid) = -7.8087e-03\n",
      "  Updating upper bound to -1.99804688\n",
      "Iteration 9: f(mid) = 3.9072e-03\n",
      "  Updating lower bound to -2.00097656\n",
      "Iteration 10: f(mid) = -1.9529e-03\n",
      "  Updating upper bound to -1.99951172\n",
      "Iteration 11: f(mid) = 9.7662e-04\n",
      "  Updating lower bound to -2.00024414\n",
      "Iteration 12: f(mid) = -4.8827e-04\n",
      "  Updating upper bound to -1.99987793\n",
      "Iteration 13: f(mid) = 2.4414e-04\n",
      "  Updating lower bound to -2.00006104\n",
      "Iteration 14: f(mid) = -1.2207e-04\n",
      "  Updating upper bound to -1.99996948\n",
      "Iteration 15: f(mid) = 6.1035e-05\n",
      "  Updating lower bound to -2.00001526\n",
      "Iteration 16: f(mid) = -3.0518e-05\n",
      "  Updating upper bound to -1.99999237\n",
      "Iteration 17: f(mid) = 1.5259e-05\n",
      "  Updating lower bound to -2.00000381\n",
      "Iteration 18: f(mid) = -7.6294e-06\n",
      "  Updating upper bound to -1.99999809\n",
      "Iteration 19: f(mid) = 3.8147e-06\n",
      "  Updating lower bound to -2.00000095\n",
      "Iteration 20: f(mid) = -1.9073e-06\n",
      "  Updating upper bound to -1.99999952\n"
     ]
    },
    {
     "data": {
      "text/plain": "-2.000000238418579"
     },
     "execution_count": 12,
     "metadata": {},
     "output_type": "execute_result"
    }
   ],
   "source": [
    "def bisect(f, a, b, tol=1.0e-6, xtol=1.0e-6, maxiter=100):\n",
    "\n",
    "    for iteration in range(maxiter):\n",
    "        # Compute candidate value as midpoint between a and b\n",
    "        mid = (a + b) / 2.0\n",
    "        if abs(b-a) < xtol:\n",
    "            # Remaining interval is too small\n",
    "            break\n",
    "\n",
    "        fmid = f(mid)\n",
    "\n",
    "        if abs(fmid) < tol:\n",
    "            # function value is close enough to zero\n",
    "            break\n",
    "\n",
    "        print('Iteration {}: f(mid) = {:.4e}'.format(iteration, fmid))\n",
    "        if fmid*f(b) > 0.0:\n",
    "            # f(mid) and f(b) have the same sign, update upper bound b\n",
    "            print('  Updating upper bound to {:.8f}'.format(mid))\n",
    "            b = mid\n",
    "        else:\n",
    "            # f(mid) and f(a) have the same sign, or at least one of\n",
    "            # them is zero.\n",
    "            print('  Updating lower bound to {:.8f}'.format(mid))\n",
    "            a = mid\n",
    "\n",
    "    return mid\n",
    "\n",
    "# Compute root of f(x) = x^2 - 4 on the interval [-3, 0]\n",
    "# We pass the function f as the first argument, and use a lambda expression\n",
    "# to define the function directly in the call.\n",
    "x0 = bisect(lambda x: x**2.0 - 4.0, -3.0, 0.0)\n",
    "\n",
    "# Print root. The true value is -2.0\n",
    "x0\n",
    "\n"
   ],
   "metadata": {
    "collapsed": false,
    "pycharm": {
     "name": "#%%\n"
    }
   }
  }
 ],
 "metadata": {
  "kernelspec": {
   "display_name": "Python 3",
   "language": "python",
   "name": "python3"
  },
  "language_info": {
   "codemirror_mode": {
    "name": "ipython",
    "version": 2
   },
   "file_extension": ".py",
   "mimetype": "text/x-python",
   "name": "python",
   "nbconvert_exporter": "python",
   "pygments_lexer": "ipython2",
   "version": "2.7.6"
  }
 },
 "nbformat": 4,
 "nbformat_minor": 0
}