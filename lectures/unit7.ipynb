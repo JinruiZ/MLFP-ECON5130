{
 "cells": [
  {
   "cell_type": "markdown",
   "metadata": {
    "collapsed": true,
    "pycharm": {
     "name": "#%% md\n"
    }
   },
   "source": [
    "# Random number generation and statistics\n",
    "\n",
    "In this unit we demonstrate how you can generate random numbers for various\n",
    "probability distributions in NumPy. Additionally, we take a look\n",
    "at SciPy's `stats` package which implements PDFs and other functions\n",
    "for numerous probability distributions.\n",
    "\n",
    "## Random number generators\n",
    "\n",
    "Currently, there are sevaral ways to draw random numbers:\n",
    "\n",
    "1.  The *new* programming interface implemented in NumPy, introduced\n",
    "    in version 1.17 (the current version as of this writing\n",
    "    is 1.19)\n",
    "    [[official documentation](https://numpy.org/doc/stable/reference/random/generator.html)].\n",
    "2.  The *legacy* programming interface implemented in NumPy\n",
    "    [[official documentation](https://numpy.org/doc/stable/reference/random/legacy.html)].\n",
    "\n",
    "    While these functions have been superceeded by the new implementation,\n",
    "    they continue to work.\n",
    "    If you are familiar with the legacy interface, you can read about\n",
    "    what has changed in the new interface [here](https://numpy.org/doc/stable/reference/random/new-or-different.html).\n",
    "3.  The Python standard library itself also contains random number generators\n",
    "    in the `random` module [[official documentation](https://docs.python.org/dev/library/random.html#random.random)].\n",
    "\n",
    "    We will not be using this implementation at all,\n",
    "    since for our purposes `numpy.random` is preferable\n",
    "    as it supports NumPy arrays.\n",
    "\n",
    "The programming interface for generating random numbers in NumPy\n",
    "changed substantially in release 1.17.\n",
    "We will discuss the new interface in this unit since it offers\n",
    "several advantages, including faster algorithms for some distributions.\n",
    "Moreover, one would expect the legacy interface to be\n",
    "removed at some point in the future.\n",
    "However, most examples you will find in textbooks and on the internet\n",
    "will be using the old variant.\n",
    "\n",
    "**A note on random-number generation:** computers usually cannot draw\n",
    "truly random numbers, so we often talk about pseudo-random number\n",
    "generators (PRNG). Given an initial seed, these PRNGs will always produce\n",
    "the same sequence of \"random\" numbers, at least if run on the\n",
    "same machine, using the same underlying algorith, etc.\n",
    "For scientific purposes this is actually desirable as it allows is\n",
    "to create reproducible results. For simplicitly, we will nevertheless\n",
    "be using the terms \"random number\" and \"random number generator\" (RNG).\n",
    "\n",
    "\n",
    "### Simple random data\n",
    "\n",
    "Let's begin with the most simple use-case, which uses the `random()`\n",
    "function to draw numbers that are uniformly distributed\n",
    "on the half-open interval $[0.0, 1.0)$."
   ]
  },
  {
   "cell_type": "code",
   "execution_count": 1,
   "outputs": [
    {
     "data": {
      "text/plain": "array([0.00693551, 0.04256752, 0.54192133, 0.25456363, 0.26794512,\n       0.59222021, 0.82105294, 0.7841106 , 0.25498818, 0.05459598])"
     },
     "execution_count": 1,
     "metadata": {},
     "output_type": "execute_result"
    }
   ],
   "source": [
    "from numpy.random import default_rng\n",
    "rng = default_rng()         # obtain default RNG implementation\n",
    "x = rng.random(10)          # return array of 10 random numbers\n",
    "x"
   ],
   "metadata": {
    "collapsed": false,
    "pycharm": {
     "name": "#%%\n"
    }
   }
  },
  {
   "cell_type": "markdown",
   "source": [
    "Calling `random()` this way will usually return a different set of\n",
    "numbers each time (this might, for example, depend on the system time).\n",
    "To obtain the same draw each time, we can pass an initial *seed* when\n",
    "creating an instance of the RNG like this:"
   ],
   "metadata": {
    "collapsed": false,
    "pycharm": {
     "name": "#%% md\n"
    }
   }
  },
  {
   "cell_type": "code",
   "execution_count": 2,
   "outputs": [],
   "source": [
    "seed = 123\n",
    "rng = default_rng(seed)     # obtain default RNG implementation, initialise seed\n",
    "x = rng.random(5)           # return array of 10 random numbers"
   ],
   "metadata": {
    "collapsed": false,
    "pycharm": {
     "name": "#%%\n"
    }
   }
  },
  {
   "cell_type": "markdown",
   "source": [
    "The `seed` argument needs to be an integer, or an array of integers.\n",
    "This way, each call gives you the same numbers, as can easily be illustrated\n",
    "with a loop:"
   ],
   "metadata": {
    "collapsed": false,
    "pycharm": {
     "name": "#%% md\n"
    }
   }
  },
  {
   "cell_type": "code",
   "execution_count": 3,
   "outputs": [
    {
     "name": "stdout",
     "output_type": "stream",
     "text": [
      "[0.68235186 0.05382102 0.22035987 0.18437181 0.1759059 ]\n",
      "[0.68235186 0.05382102 0.22035987 0.18437181 0.1759059 ]\n",
      "[0.68235186 0.05382102 0.22035987 0.18437181 0.1759059 ]\n",
      "[0.68235186 0.05382102 0.22035987 0.18437181 0.1759059 ]\n",
      "[0.68235186 0.05382102 0.22035987 0.18437181 0.1759059 ]\n"
     ]
    }
   ],
   "source": [
    "seed = 123\n",
    "for i in range(5):\n",
    "    rng = default_rng(seed)\n",
    "    print(rng.random(5))"
   ],
   "metadata": {
    "collapsed": false,
    "pycharm": {
     "name": "#%%\n"
    }
   }
  },
  {
   "cell_type": "markdown",
   "source": [
    "You can remove the `seed` to verify that the set of number will differ\n",
    "in each iteration otherwise.\n",
    "\n",
    "Alternatively, we might want to draw random intergers by calling\n",
    "`integers()`, which returns numbers from a \"discrete uniform\"\n",
    "distribution on the given interval [[docs](https://numpy.org/doc/stable/reference/random/generated/numpy.random.Generator.integers.html)]:"
   ],
   "metadata": {
    "collapsed": false,
    "pycharm": {
     "name": "#%% md\n"
    }
   }
  },
  {
   "cell_type": "code",
   "execution_count": 4,
   "outputs": [
    {
     "data": {
      "text/plain": "array([0, 1, 0, 1, 0])"
     },
     "execution_count": 4,
     "metadata": {},
     "output_type": "execute_result"
    }
   ],
   "source": [
    "rng.integers(2, size=5)             # vector with 5 integers from {0, 1}"
   ],
   "metadata": {
    "collapsed": false,
    "pycharm": {
     "name": "#%%\n"
    }
   }
  },
  {
   "cell_type": "code",
   "execution_count": 5,
   "outputs": [
    {
     "data": {
      "text/plain": "array([3, 8, 8, 8, 9])"
     },
     "execution_count": 5,
     "metadata": {},
     "output_type": "execute_result"
    }
   ],
   "source": [
    "rng.integers(1, 10, size=5)     # specify lower and upper bound"
   ],
   "metadata": {
    "collapsed": false,
    "pycharm": {
     "name": "#%%\n"
    }
   }
  },
  {
   "cell_type": "code",
   "execution_count": 6,
   "outputs": [
    {
     "data": {
      "text/plain": "array([1, 6, 3, 3, 3])"
     },
     "execution_count": 6,
     "metadata": {},
     "output_type": "execute_result"
    }
   ],
   "source": [
    "rng.integers(1, 10, size=5, endpoint=True)      # include upper bound"
   ],
   "metadata": {
    "collapsed": false,
    "pycharm": {
     "name": "#%%\n"
    }
   }
  },
  {
   "cell_type": "markdown",
   "source": [
    "We can create higher-order arrays by passing a list or tuple as the\n",
    "`size` argument:"
   ],
   "metadata": {
    "collapsed": false,
    "pycharm": {
     "name": "#%% md\n"
    }
   }
  },
  {
   "cell_type": "code",
   "execution_count": 7,
   "outputs": [
    {
     "data": {
      "text/plain": "array([[0.21376296, 0.74146705, 0.6299402 , 0.92740726, 0.23190819],\n       [0.79912513, 0.51816504, 0.23155562, 0.16590399, 0.49778897]])"
     },
     "execution_count": 7,
     "metadata": {},
     "output_type": "execute_result"
    }
   ],
   "source": [
    "rng.random(size=[2, 5])             # Create 2x5 array of floats on [0.0, 1.0)"
   ],
   "metadata": {
    "collapsed": false,
    "pycharm": {
     "name": "#%%\n"
    }
   }
  },
  {
   "cell_type": "code",
   "execution_count": 8,
   "outputs": [
    {
     "data": {
      "text/plain": "array([[[1, 0, 1, 0],\n        [0, 0, 0, 0],\n        [0, 0, 1, 0]],\n\n       [[1, 0, 1, 1],\n        [1, 1, 1, 0],\n        [0, 0, 1, 0]]])"
     },
     "execution_count": 8,
     "metadata": {},
     "output_type": "execute_result"
    }
   ],
   "source": [
    "rng.integers(2, size=[2,3,4])       # Create 2x3x4 array of integers {0,1}\n"
   ],
   "metadata": {
    "collapsed": false,
    "pycharm": {
     "name": "#%%\n"
    }
   }
  },
  {
   "cell_type": "markdown",
   "source": [
    "#### Legacy interface\n",
    "For completeness, let's look how you would accomplish the same using\n",
    "the *legacy* NumPy interface:"
   ],
   "metadata": {
    "collapsed": false,
    "pycharm": {
     "name": "#%% md\n"
    }
   }
  },
  {
   "cell_type": "code",
   "execution_count": 9,
   "outputs": [
    {
     "data": {
      "text/plain": "array([0.69646919, 0.28613933, 0.22685145, 0.55131477, 0.71946897])"
     },
     "execution_count": 9,
     "metadata": {},
     "output_type": "execute_result"
    }
   ],
   "source": [
    "from numpy.random import random_sample, randint, seed\n",
    "seed(123)\n",
    "random_sample(5)"
   ],
   "metadata": {
    "collapsed": false,
    "pycharm": {
     "name": "#%%\n"
    }
   }
  },
  {
   "cell_type": "code",
   "execution_count": 10,
   "outputs": [
    {
     "data": {
      "text/plain": "array([1, 1, 0, 1, 0])"
     },
     "execution_count": 10,
     "metadata": {},
     "output_type": "execute_result"
    }
   ],
   "source": [
    "randint(2, size=5)      # draw random integers from {0,1 }"
   ],
   "metadata": {
    "collapsed": false,
    "pycharm": {
     "name": "#%%\n"
    }
   }
  },
  {
   "cell_type": "markdown",
   "source": [
    "As you see, th legacy interface defines global functions `seed`, `random_sample`, etc.\n",
    "within the `numpy.random` module, which are implicitly associated with\n",
    "a global RNG object. This implicit association has been removed in the\n",
    "new programming model and you now have to obtain an RNG instance explicitly,\n",
    "for example by using the `default_rng()` function, as demonstrated above.\n"
   ],
   "metadata": {
    "collapsed": false,
    "pycharm": {
     "name": "#%% md\n"
    }
   }
  },
  {
   "cell_type": "markdown",
   "source": [
    "### Drawing random numbers from distributions\n",
    "\n",
    "Often we want to draw random numbers from a specific distribution,\n",
    "just as normal or log-normal distributions. The RNGs in `numpy.random`\n",
    "support a multitide of distributions, including:\n",
    "\n",
    "-   `binomial()`\n",
    "-   `exponential()`\n",
    "-   `normal()`\n",
    "-   `lognormal()`\n",
    "-   `multivariate_normal()`\n",
    "-   `uniform()`\n",
    "\n",
    "and many others. For a complete list, see the [official documentation](https://numpy.org/doc/stable/reference/random/generator.html#distributions).\n",
    "\n",
    "We will illustrate the use of these functions for the normal and\n",
    "multivariate normal distributions. For example, you can draw\n",
    "from the normal distribution with mean $\\mu=1.0$ and standard deviation\n",
    "$\\sigma=0.5$ as follows:"
   ],
   "metadata": {
    "collapsed": false,
    "pycharm": {
     "name": "#%% md\n"
    }
   }
  },
  {
   "cell_type": "code",
   "execution_count": 11,
   "outputs": [
    {
     "data": {
      "text/plain": "Text(0.5, 1.0, 'Historgram of normal draws')"
     },
     "execution_count": 11,
     "metadata": {},
     "output_type": "execute_result"
    },
    {
     "data": {
      "text/plain": "<Figure size 432x288 with 1 Axes>",
      "image/png": "[encoded data removed]",
      "application/pdf": "[encoded data removed]"
     },
     "metadata": {
      "needs_background": "light"
     },
     "output_type": "display_data"
    }
   ],
   "source": [
    "from numpy.random import default_rng\n",
    "rng = default_rng(123)\n",
    "\n",
    "mu = 1.0\n",
    "sigma = 0.5\n",
    "# Draw 10000 normal numbers\n",
    "x = rng.normal(loc=mu, scale=sigma, size=10000)    # mean and std. are passed as\n",
    "                                                   # loc and scale arguments\n",
    "\n",
    "# plot the results\n",
    "import matplotlib.pyplot as plt\n",
    "plt.hist(x, bins=50, linewidth=0.5, edgecolor='white')\n",
    "plt.xlabel(r'Realized random number')\n",
    "plt.ylabel('Bin size')\n",
    "plt.title('Historgram of normal draws')"
   ],
   "metadata": {
    "collapsed": false,
    "pycharm": {
     "name": "#%%\n"
    }
   }
  },
  {
   "cell_type": "markdown",
   "source": [
    "To draw from the multivariate normal, we need to specify a vector\n",
    "of means and the variance-covariance matrix, which we set to\n",
    "\n",
    "$$\\mu = \\left[\\begin{array}{c} 0 \\\\ 1\\end{array}\\right], \\qquad \\Sigma=\\left[\\begin{array}{cc}\\sigma_1^2 & \\rho \\sigma_1\\sigma_2 \\\\ \\rho\\sigma_1\\sigma_2 & \\sigma_2^2\\end{array}\\right]$$\n",
    "\n",
    "with $\\sigma_1 = 0.5$, $\\sigma_2 = 1.0$ and $\\rho = 0.5$."
   ],
   "metadata": {
    "collapsed": false,
    "pycharm": {
     "name": "#%% md\n"
    }
   }
  },
  {
   "cell_type": "code",
   "execution_count": 12,
   "outputs": [
    {
     "data": {
      "text/plain": "Text(0.5, 1.0, 'Draws from bivariate normal distribution')"
     },
     "execution_count": 12,
     "metadata": {},
     "output_type": "execute_result"
    },
    {
     "data": {
      "text/plain": "<Figure size 432x288 with 1 Axes>",
      "image/png": "[encoded data removed]",
      "application/pdf": "[encoded data removed]"
     },
     "metadata": {
      "needs_background": "light"
     },
     "output_type": "display_data"
    }
   ],
   "source": [
    "import numpy as np\n",
    "from numpy.random import default_rng\n",
    "import matplotlib.pyplot as plt\n",
    "\n",
    "rng = default_rng(123)\n",
    "\n",
    "mu = np.array((0.0, 1.0))       # vector of means\n",
    "sigma1 = 0.5\n",
    "sigma2 = 1.0\n",
    "rho = 0.5\n",
    "# Create variance-covariance matrix\n",
    "vcv = np.array([[sigma1**2.0, rho*sigma1*sigma2],\n",
    "                [rho*sigma1*sigma2, sigma2**2.0]])\n",
    "\n",
    "# Draw MVN random numbers\n",
    "x = rng.multivariate_normal(mean=mu, cov=vcv, size=500)\n",
    "\n",
    "# Scatter plot of sample\n",
    "plt.scatter(x[:, 0], x[:, 1])\n",
    "plt.xlabel(r'$x_1$')\n",
    "plt.ylabel(r'$x_2$')\n",
    "plt.title('Draws from bivariate normal distribution')"
   ],
   "metadata": {
    "collapsed": false,
    "pycharm": {
     "name": "#%%\n"
    }
   }
  },
  {
   "cell_type": "markdown",
   "source": [
    "***\n",
    "## More functions for probability distributions\n",
    "\n",
    "NumPy itself only implements distribution-specific RNGs. Frequently, we want\n",
    "to evaluate probability density functions (PDFs), cumulative distribution\n",
    "functions (CDFs) or compute some moments such as the mean of a random\n",
    "variable following some distribution. The SciPy project implements\n",
    "these functions for a wide range of discrete and continuous univariate\n",
    "distributions as well as for a few multivariate ones\n",
    "in the `scipy.stats` package.\n",
    "\n",
    "The most useful functions include:\n",
    "\n",
    "-   `pdf()`: probability density function\n",
    "-   `cdf()`: cumulative distribution function\n",
    "-   `ppf()`: percent point function (inverse of `cdf`)\n",
    "-   `moment()`: non-central moment of some order $n$\n",
    "-   `expect()`: expected value of a function (of one argument) with\n",
    "    respect to the distribution\n",
    "\n",
    "The parameters that need to be passed to these functions are distribution\n",
    "dependent. See the [official documentation](https://docs.scipy.org/doc/scipy/reference/stats.html)\n",
    "for details.\n",
    "\n",
    "*Examples:*\n",
    "\n",
    "We can overlay the histogram of normal draws with the actual normal\n",
    "PDF as follows:"
   ],
   "metadata": {
    "collapsed": false,
    "pycharm": {
     "name": "#%% md\n"
    }
   }
  },
  {
   "cell_type": "code",
   "execution_count": 16,
   "outputs": [
    {
     "data": {
      "text/plain": "<matplotlib.legend.Legend at 0x7fcf8c98c910>"
     },
     "execution_count": 16,
     "metadata": {},
     "output_type": "execute_result"
    },
    {
     "data": {
      "text/plain": "<Figure size 432x288 with 1 Axes>",
      "image/png": "[encoded data removed]",
      "application/pdf": "[encoded data removed]"
     },
     "metadata": {
      "needs_background": "light"
     },
     "output_type": "display_data"
    }
   ],
   "source": [
    "from numpy.random import default_rng\n",
    "from scipy.stats import norm                # import normal distribution\n",
    "import matplotlib.pyplot as plt\n",
    "rng = default_rng(123)\n",
    "\n",
    "mu = 1.0\n",
    "sigma = 0.5\n",
    "# Draw 10000 normal numbers\n",
    "x = rng.normal(loc=mu, scale=sigma, size=10000)    # mean and std. are passed as\n",
    "                                                   # loc and scale arguments\n",
    "\n",
    "# plot histogram\n",
    "plt.hist(x, bins=50, density=True, linewidth=0.5, edgecolor='white',\n",
    "         label='Histogram')\n",
    "# Create x-values for PDF plot, using mean +/- 3 std.\n",
    "xvalues = np.linspace(mu - 3*sigma, mu + 3*sigma, 100)\n",
    "# Compute PDF of normal distr. at given x-values\n",
    "pdf = norm.pdf(xvalues, loc=mu, scale=sigma)\n",
    "# Plot PDF\n",
    "plt.plot(xvalues, pdf, linewidth=2.0, color='red', zorder=10,\n",
    "         label='PDF')\n",
    "plt.xlabel(r'Realized random number')\n",
    "plt.ylabel('Density')\n",
    "plt.title('Historgram of normal draws')\n",
    "plt.legend()"
   ],
   "metadata": {
    "collapsed": false,
    "pycharm": {
     "name": "#%%\n"
    }
   }
  },
  {
   "cell_type": "markdown",
   "source": [
    "In the above example we pass `density=True` to Matplotlib's\n",
    "`hist()` plotting function so that the result is rescaled to\n",
    "be comparable to the actual PDF.\n",
    "\n",
    "Sometime we want to compute the expectation of a function $g(x)$\n",
    "with respect to a given distribution with PDF $f(x)$ on some\n",
    "interval $(a,b)$:\n",
    "\n",
    "$$E[g(x)] = \\int_a^b g(x) f(x) dx$$\n",
    "\n",
    "For example, we might want to know the mean of a *truncated* normal\n",
    "with parameters $\\mu=0$, $\\sigma=1.0$ with support on $(-\\infty,0)$,\n",
    "ie.\n",
    "\n",
    "$$E[x| x \\leq 0] = \\int_{-\\infty}^0 x \\frac{f(x)}{F(0)}dx$$\n",
    "\n",
    "where $f(x)$ and $F(x)$ are the PDF and CDF of the standard normal.\n",
    "We can compute it as follows:"
   ],
   "metadata": {
    "collapsed": false,
    "pycharm": {
     "name": "#%% md\n"
    }
   }
  },
  {
   "cell_type": "code",
   "execution_count": 19,
   "outputs": [
    {
     "data": {
      "text/plain": "-0.7978845608028651"
     },
     "execution_count": 19,
     "metadata": {},
     "output_type": "execute_result"
    }
   ],
   "source": [
    "from scipy.stats import norm\n",
    "import numpy as np\n",
    "\n",
    "lb = -np.inf            # integration lower bound\n",
    "ub = 0.0                # integration upper bound\n",
    "\n",
    "mu = 0.0                # mean of the (untruncated) normal\n",
    "sigma = 1.0             # std. dev. of the (untruncated) normal\n",
    "cdf0 = norm.cdf(0.0, loc=mu, scale=sigma)       # CDF at 0\n",
    "\n",
    "# Compute conditional expected value\n",
    "Ex = norm.expect(lambda x: x/cdf0, loc=mu, scale=sigma, lb=lb, ub=ub)\n",
    "Ex                      # print conditional expectation"
   ],
   "metadata": {
    "collapsed": false,
    "pycharm": {
     "name": "#%%\n"
    }
   }
  },
  {
   "cell_type": "markdown",
   "source": [
    "There we define the function to be integrated as $g(x) = \\frac{x}{F(0)}$,\n",
    "and we pass it to `expect()` as a lambda expression.\n"
   ],
   "metadata": {
    "collapsed": false,
    "pycharm": {
     "name": "#%% md\n"
    }
   }
  },
  {
   "cell_type": "markdown",
   "source": [
    "***\n",
    "## Statistics functions\n",
    "\n",
    "In the previous section we examined functions associated with specific\n",
    "distributions. Additionally, there are numerous routines to process\n",
    "*sample* data which are spread across NumPy in SciPy.\n",
    "\n",
    "In NumPy, the most useful routines include:\n",
    "\n",
    "-   `mean()`: sample mean\n",
    "-   `std()`, `var()`: sample standard deviation and variance\n",
    "-   `percentile()`, `quantile()`: percentiles or quantiles\n",
    "    of a given array\n",
    "-   `corrcoef()`: Pearson correlation coefficient\n",
    "-   `cov()`: sample variance-covariance matrix\n",
    "-   `histogram()`: compute histogram of data. This only bins the data,\n",
    "    as opposed to Matplotlib's `hist()` which plots it.\n",
    "\n",
    "You can find the full list of routines in the [official documentation](https://numpy.org/doc/stable/reference/routines.statistics.html).\n",
    "\n",
    "On top of that, the `scipy.stats` package contains a multitude\n",
    "of functions to compute all sorts of descriptive\n",
    "statistics and statistical hypothesis tests. Many of these routines\n",
    "are too specific to be listed here, so have a look at\n",
    "the [official documentation](https://docs.scipy.org/doc/scipy/reference/stats.html#summary-statistics)\n",
    "if you need to perform statistical analysis of your sample data.\n",
    "\n",
    "*Examples:*\n",
    "\n",
    "To compute the pairwise correlations of a sample drawn from a multivariate\n",
    "normal distribution we proceed as follows:"
   ],
   "metadata": {
    "collapsed": false,
    "pycharm": {
     "name": "#%% md\n"
    }
   }
  },
  {
   "cell_type": "code",
   "execution_count": 28,
   "outputs": [
    {
     "data": {
      "text/plain": "array([[ 1.        , -0.47812682],\n       [-0.47812682,  1.        ]])"
     },
     "execution_count": 28,
     "metadata": {},
     "output_type": "execute_result"
    }
   ],
   "source": [
    "import numpy as np\n",
    "from numpy.random import default_rng\n",
    "\n",
    "rng = default_rng(123)\n",
    "\n",
    "# vector of multivariate normal means\n",
    "mu = np.array([-1.0, 1.0])\n",
    "\n",
    "sigma1 = 0.1\n",
    "sigma2 = 2.0\n",
    "rho = -0.5\n",
    "# variance-covariance matrix\n",
    "vcv = np.array([[sigma1**2.0, rho*sigma1*sigma2],\n",
    "                [rho*sigma1*sigma2, sigma2**2.0]])\n",
    "\n",
    "# Draw some multivariate normal random numbers\n",
    "x = rng.multivariate_normal(mean=mu, cov=vcv, size=1000)\n",
    "\n",
    "# Compute correlation coefficient\n",
    "np.corrcoef(x.T)        # expects each row to contain one variable"
   ],
   "metadata": {
    "collapsed": false,
    "pycharm": {
     "name": "#%%\n"
    }
   }
  },
  {
   "cell_type": "markdown",
   "source": [
    "\n",
    "\n",
    "In the next example we demonstrate how to compute some descriptive\n",
    "statistics for a sample drawn from a multivariate normal distribution:"
   ],
   "metadata": {
    "collapsed": false,
    "pycharm": {
     "name": "#%% md\n"
    }
   }
  },
  {
   "cell_type": "code",
   "execution_count": 25,
   "outputs": [
    {
     "data": {
      "text/plain": "array([-0.98486214, -0.0719401 ,  0.99084898])"
     },
     "execution_count": 25,
     "metadata": {},
     "output_type": "execute_result"
    }
   ],
   "source": [
    "import scipy.stats\n",
    "import numpy as np\n",
    "from numpy.random import default_rng\n",
    "\n",
    "rng = default_rng(123)\n",
    "\n",
    "# vector of multivariate normal means\n",
    "mu = np.array([-1.0, 0.0, 1.0])\n",
    "\n",
    "# variance-covariance matrix\n",
    "vcv = np.array([[1.0, 0.5, 0.2],\n",
    "                [0.5, 2.0, 0.7],\n",
    "                [0.2, 0.7, 0.5]])\n",
    "\n",
    "# Draw some multivariate normal random numbers\n",
    "x = rng.multivariate_normal(mean=mu, cov=vcv, size=100)\n",
    "\n",
    "# Compute some descriptive statistics\n",
    "nobs, minmax, mean, variance, skewness, kurtosis = scipy.stats.describe(x)\n",
    "mean        # array of means"
   ],
   "metadata": {
    "collapsed": false,
    "pycharm": {
     "name": "#%%\n"
    }
   }
  },
  {
   "cell_type": "code",
   "execution_count": 26,
   "outputs": [
    {
     "data": {
      "text/plain": "array([0.80017787, 1.96834418, 0.37118602])"
     },
     "execution_count": 26,
     "metadata": {},
     "output_type": "execute_result"
    }
   ],
   "source": [
    "variance    # array of variances"
   ],
   "metadata": {
    "collapsed": false,
    "pycharm": {
     "name": "#%%\n"
    }
   }
  },
  {
   "cell_type": "markdown",
   "source": [
    "To illustrate how to use on of the many tests implemented\n",
    "in `scipy.stats`, we compute the [Jarque-Bera test](https://en.wikipedia.org/wiki/Jarque%E2%80%93Bera_test)\n",
    "statistic using `jarque_bera()`. This is a goodness-of-fit test\n",
    "to assess whether a sample has zero skewness and excess kurtosis,\n",
    "and could thus be normally distributed."
   ],
   "metadata": {
    "collapsed": false,
    "pycharm": {
     "name": "#%% md\n"
    }
   }
  },
  {
   "cell_type": "code",
   "execution_count": 34,
   "outputs": [
    {
     "name": "stdout",
     "output_type": "stream",
     "text": [
      "Test statistic: 3.472, p-value: 0.176\n"
     ]
    }
   ],
   "source": [
    "from scipy.stats import jarque_bera\n",
    "from numpy.random import default_rng\n",
    "\n",
    "rng = default_rng(123)\n",
    "\n",
    "# Draw from univariate normal\n",
    "x = rng.normal(loc=1.0, scale=2.0, size=10000)\n",
    "\n",
    "# Compute Jarque-Bera test statistic\n",
    "jb_stat, pvalue = jarque_bera(x)\n",
    "print(f'Test statistic: {jb_stat:.3f}, p-value: {pvalue:.3f}')"
   ],
   "metadata": {
    "collapsed": false,
    "pycharm": {
     "name": "#%%\n"
    }
   }
  },
  {
   "cell_type": "markdown",
   "source": [
    "With a p-value of about 0.17 we cannot reject the null hypothesis\n",
    "of zero skewness and zero excess kurtosis."
   ],
   "metadata": {
    "collapsed": false,
    "pycharm": {
     "name": "#%% md\n"
    }
   }
  },
  {
   "cell_type": "markdown",
   "source": [
    "***\n",
    "\n",
    "# Exercises\n"
   ],
   "metadata": {
    "collapsed": false,
    "pycharm": {
     "name": "#%% md\n"
    }
   }
  },
  {
   "cell_type": "markdown",
   "source": [
    "***\n",
    "# Solutions"
   ],
   "metadata": {
    "collapsed": false,
    "pycharm": {
     "name": "#%% md\n"
    }
   }
  }
 ],
 "metadata": {
  "kernelspec": {
   "name": "pycharm-b08fdce2",
   "language": "python",
   "display_name": "PyCharm (python-statistics)"
  },
  "language_info": {
   "codemirror_mode": {
    "name": "ipython",
    "version": 2
   },
   "file_extension": ".py",
   "mimetype": "text/x-python",
   "name": "python",
   "nbconvert_exporter": "python",
   "pygments_lexer": "ipython2",
   "version": "2.7.6"
  }
 },
 "nbformat": 4,
 "nbformat_minor": 0
}