{
 "cells": [
  {
   "cell_type": "markdown",
   "source": [
    "# Python for numerical computations and data analysis\n",
    "\n",
    "Author: Richard Foltyn, University of Glasgow\n",
    "\n",
    "## Units\n",
    "\n",
    "This introductory course consists of several units. Each unit corresponds\n",
    "to one interactive Jupyter notebook, which is also available\n",
    "as a static PDF file.\n",
    "\n",
    "1.  [Crash course for the impatient](lectures/unit01.ipynb) [[PDF](latex/unit01.pdf)]\n",
    "2.  [Language and NumPy basics](lectures/unit02.ipynb) [[PDF](latex/unit02.pdf)]\n",
    "3.  [Control flow and list comprehensions](lectures/unit03.ipynb) [[PDF](latex/unit03.pdf)]\n",
    "4.  [Reusing code - Functions, modules and packages](lectures/unit04.ipynb) [[PDF](latex/unit04.pdf)]\n",
    "5.  [Plotting](lectures/unit05.ipynb) [[PDF](latex/unit05.pdf)]\n",
    "6.  [Advanced NumPy](lectures/unit06.ipynb) [[PDF](latex/unit06.pdf)]\n",
    "7.  [Random number generation and statistics](lectures/unit07.ipynb) [[PDF](latex/unit07.pdf)]\n",
    "8.  [Handling data with pandas](lectures/unit08.ipynb) [[PDF](latex/unit08.pdf)]\n",
    "9.  [Data input and output](lectures/unit09.ipynb) [[PDF](latex/unit09.pdf)]\n",
    "10. [Error handling](lectures/unit10.ipynb) [[PDF](latex/unit10.pdf)]\n",
    "11. [Applications: Econometrics](lectures/unit11.ipynb) [[PDF](latex/unit11.pdf)]\n"
   ],
   "metadata": {
    "collapsed": true,
    "pycharm": {
     "name": "#%% md\n"
    }
   }
  }
 ],
 "metadata": {
  "kernelspec": {
   "name": "pycharm-b08fdce2",
   "language": "python",
   "display_name": "PyCharm (python-statistics)"
  },
  "language_info": {
   "codemirror_mode": {
    "name": "ipython",
    "version": 2
   },
   "file_extension": ".py",
   "mimetype": "text/x-python",
   "name": "python",
   "nbconvert_exporter": "python",
   "pygments_lexer": "ipython2",
   "version": "2.7.6"
  }
 },
 "nbformat": 4,
 "nbformat_minor": 2
}