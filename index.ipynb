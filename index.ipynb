{
 "cells": [
  {
   "cell_type": "markdown",
   "metadata": {
    "collapsed": true,
    "pycharm": {
     "name": "#%% md\n"
    }
   },
   "source": [
    "# Machine Learning in Finance with Python (ECON5130)\n",
    "\n",
    "Author: Richard Foltyn, University of Glasgow\n",
    "\n",
    "## Part 1: Introduction to Python\n",
    "\n",
    "### Units\n",
    "\n",
    "This introductory course consists of several units. Each unit corresponds\n",
    "to one interactive Jupyter notebook, which is also available\n",
    "as a static PDF file.\n",
    "\n",
    "1.  [Language and NumPy basics](lectures/unit01.ipynb) [[PDF](latex/unit01.pdf)]\n",
    "2.  [Control flow and list comprehensions](lectures/unit02.ipynb) [[PDF](latex/unit02.pdf)]\n",
    "3.  [Reusing code - Functions, modules and packages](lectures/unit03.ipynb) [[PDF](latex/unit03.pdf)]\n",
    "4.  [Plotting](lectures/unit04.ipynb) [[PDF](latex/unit04.pdf)]\n",
    "5.  [Advanced NumPy](lectures/unit05.ipynb) [[PDF](latex/unit05.pdf)]\n",
    "6.  [Random number generation and statistics](lectures/unit06.ipynb) [[PDF](latex/unit06.pdf)]\n",
    "7.  [Handling data with pandas](lectures/unit07.ipynb) [[PDF](latex/unit07.pdf)]\n",
    "8.  [Data input and output](lectures/unit08.ipynb) [[PDF](latex/unit08.pdf)]\n",
    "9. [Error handling (optional)](lectures/unit09.ipynb) [[PDF](latex/unit09.pdf)]\n"
   ]
  }
 ],
 "metadata": {
  "kernelspec": {
   "display_name": "PyCharm (python-statistics)",
   "language": "python",
   "name": "pycharm-b08fdce2"
  },
  "language_info": {
   "codemirror_mode": {
    "name": "ipython",
    "version": 2
   },
   "file_extension": ".py",
   "mimetype": "text/x-python",
   "name": "python",
   "nbconvert_exporter": "python",
   "pygments_lexer": "ipython2",
   "version": "3.9.12"
  }
 },
 "nbformat": 4,
 "nbformat_minor": 2
}
