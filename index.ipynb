{
 "cells": [
  {
   "cell_type": "markdown",
   "metadata": {
    "collapsed": true,
    "pycharm": {
     "name": "#%% md\n"
    }
   },
   "source": [
    "# Python for numerical computations and data analysis\n",
    "\n",
    "Author: Richard Foltyn, University of Glasgow\n",
    "\n",
    "## Units\n",
    "\n",
    "This introductory course consists of several units. Each unit corresponds\n",
    "to one interactive Jupyter notebook, which is also available\n",
    "as a static PDF file.\n",
    "\n",
    "1.  [Crash course for the impatient](lectures/unit1.ipynb) [[PDF](latex/unit1.pdf)]\n",
    "2.  [Language and NumPy basics](lectures/unit2.ipynb) [[PDF](latex/unit2.pdf)]\n",
    "3.  [Control flow and list comprehensions](lectures/unit3.ipynb) [[PDF](latex/unit3.pdf)]\n",
    "4.  [Reusing code - Functions, modules and packages](lectures/unit4.ipynb) [[PDF](latex/unit4.pdf)]\n",
    "5.  [Plotting](lectures/unit5.ipynb) [[PDF](latex/unit5.pdf)]\n",
    "6.  [Advanced NumPy](lectures/unit6.ipynb) [[PDF](latex/unit6.pdf)]\n",
    "7.  [Random number generation and statistics](lectures/unit7.ipynb) [[PDF](latex/unit7.pdf)]\n",
    "8.  [Handling data with pandas](lectures/unit8.ipynb) [[PDF](latex/unit8.pdf)]\n",
    "9.  [Data input and output](lectures/unit9.ipynb) [[PDF](latex/unit9.pdf)]\n",
    "10. [Error handling](lectures/unit10.ipynb) [[PDF](latex/unit10.pdf)]\n",
    "\n"
   ]
  }
 ],
 "metadata": {
  "kernelspec": {
   "name": "pycharm-b08fdce2",
   "language": "python",
   "display_name": "PyCharm (python-statistics)"
  },
  "language_info": {
   "codemirror_mode": {
    "name": "ipython",
    "version": 2
   },
   "file_extension": ".py",
   "mimetype": "text/x-python",
   "name": "python",
   "nbconvert_exporter": "python",
   "pygments_lexer": "ipython2",
   "version": "2.7.6"
  }
 },
 "nbformat": 4,
 "nbformat_minor": 0
}